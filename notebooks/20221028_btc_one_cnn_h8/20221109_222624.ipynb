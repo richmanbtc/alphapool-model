{
 "cells": [
  {
   "cell_type": "code",
   "execution_count": 1,
   "id": "69f846ac-9e0c-4042-957d-a3ca24acf396",
   "metadata": {
    "execution": {
     "iopub.execute_input": "2022-11-09T13:29:41.822900Z",
     "iopub.status.busy": "2022-11-09T13:29:41.822530Z",
     "iopub.status.idle": "2022-11-09T13:29:43.901969Z",
     "shell.execute_reply": "2022-11-09T13:29:43.900740Z"
    }
   },
   "outputs": [],
   "source": [
    "import os\n",
    "import sys\n",
    "p = '..'\n",
    "while not os.path.isdir(p + '/notebooks'):\n",
    "    p += '/..'\n",
    "sys.path.append(p) # for import src\n",
    "\n",
    "import os\n",
    "import cloudpickle\n",
    "import lzma\n",
    "import pandas as pd\n",
    "import numpy as np\n",
    "from sklearn.linear_model import Ridge\n",
    "from sklearn.model_selection import cross_val_predict\n",
    "from scipy.stats import pearsonr\n",
    "import matplotlib.pyplot as plt\n",
    "import lightgbm as lgb\n",
    "import talib\n",
    "import joblib\n",
    "\n",
    "import src\n",
    "from src.ml_utils import (\n",
    "    fetch_ohlcv, \n",
    "    visualize_result, \n",
    "    normalize_position, \n",
    "    calc_position_cv2,\n",
    "    get_feature_columns,\n",
    "    get_symbols,\n",
    "    unbiased_rank,\n",
    "    ewm_finite,\n",
    ")\n",
    "cloudpickle.register_pickle_by_value(src) # for model portability\n",
    "\n",
    "os.environ[\"USE_JOBLIB_MEMORY\"] = \"1\"\n",
    "\n",
    "def get_joblib_memory():\n",
    "    if os.getenv('USE_JOBLIB_MEMORY'):\n",
    "        return joblib.Memory('/tmp/alphapool_joblib_memory', verbose=0)\n",
    "    else:\n",
    "        return joblib.Memory(None, verbose=0)\n"
   ]
  },
  {
   "cell_type": "code",
   "execution_count": 2,
   "id": "ec39979e-af09-44f8-a210-b95b7bc0af8a",
   "metadata": {
    "execution": {
     "iopub.execute_input": "2022-11-09T13:29:43.906909Z",
     "iopub.status.busy": "2022-11-09T13:29:43.906573Z",
     "iopub.status.idle": "2022-11-09T13:36:57.465961Z",
     "shell.execute_reply": "2022-11-09T13:36:57.463030Z"
    }
   },
   "outputs": [
    {
     "data": {
      "text/html": [
       "<div>\n",
       "<style scoped>\n",
       "    .dataframe tbody tr th:only-of-type {\n",
       "        vertical-align: middle;\n",
       "    }\n",
       "\n",
       "    .dataframe tbody tr th {\n",
       "        vertical-align: top;\n",
       "    }\n",
       "\n",
       "    .dataframe thead th {\n",
       "        text-align: right;\n",
       "    }\n",
       "</style>\n",
       "<table border=\"1\" class=\"dataframe\">\n",
       "  <thead>\n",
       "    <tr style=\"text-align: right;\">\n",
       "      <th></th>\n",
       "      <th></th>\n",
       "      <th>op</th>\n",
       "      <th>hi</th>\n",
       "      <th>lo</th>\n",
       "      <th>cl</th>\n",
       "      <th>volume</th>\n",
       "      <th>execution_start_at</th>\n",
       "      <th>ret</th>\n",
       "    </tr>\n",
       "    <tr>\n",
       "      <th>timestamp</th>\n",
       "      <th>symbol</th>\n",
       "      <th></th>\n",
       "      <th></th>\n",
       "      <th></th>\n",
       "      <th></th>\n",
       "      <th></th>\n",
       "      <th></th>\n",
       "      <th></th>\n",
       "    </tr>\n",
       "  </thead>\n",
       "  <tbody>\n",
       "    <tr>\n",
       "      <th rowspan=\"4\" valign=\"top\">2019-07-20 12:00:00+00:00</th>\n",
       "      <th>BNB</th>\n",
       "      <td>30.722500</td>\n",
       "      <td>30.772500</td>\n",
       "      <td>30.62500</td>\n",
       "      <td>30.625000</td>\n",
       "      <td>2.215166e+04</td>\n",
       "      <td>2019-07-20 13:00:00+00:00</td>\n",
       "      <td>0.026612</td>\n",
       "    </tr>\n",
       "    <tr>\n",
       "      <th>BTC</th>\n",
       "      <td>10564.250000</td>\n",
       "      <td>10630.000000</td>\n",
       "      <td>10525.50000</td>\n",
       "      <td>10539.500000</td>\n",
       "      <td>1.052997e+07</td>\n",
       "      <td>2019-07-20 13:00:00+00:00</td>\n",
       "      <td>0.034090</td>\n",
       "    </tr>\n",
       "    <tr>\n",
       "      <th>ETH</th>\n",
       "      <td>225.930000</td>\n",
       "      <td>226.440000</td>\n",
       "      <td>225.51000</td>\n",
       "      <td>225.830000</td>\n",
       "      <td>0.000000e+00</td>\n",
       "      <td>2019-07-20 13:00:00+00:00</td>\n",
       "      <td>0.030901</td>\n",
       "    </tr>\n",
       "    <tr>\n",
       "      <th>XRP</th>\n",
       "      <td>0.327975</td>\n",
       "      <td>0.328400</td>\n",
       "      <td>0.32700</td>\n",
       "      <td>0.327975</td>\n",
       "      <td>0.000000e+00</td>\n",
       "      <td>2019-07-20 13:00:00+00:00</td>\n",
       "      <td>0.037908</td>\n",
       "    </tr>\n",
       "    <tr>\n",
       "      <th>2019-07-20 13:00:00+00:00</th>\n",
       "      <th>BNB</th>\n",
       "      <td>30.625000</td>\n",
       "      <td>30.867500</td>\n",
       "      <td>30.33500</td>\n",
       "      <td>30.562500</td>\n",
       "      <td>1.649716e+05</td>\n",
       "      <td>2019-07-20 14:00:00+00:00</td>\n",
       "      <td>0.026836</td>\n",
       "    </tr>\n",
       "    <tr>\n",
       "      <th>...</th>\n",
       "      <th>...</th>\n",
       "      <td>...</td>\n",
       "      <td>...</td>\n",
       "      <td>...</td>\n",
       "      <td>...</td>\n",
       "      <td>...</td>\n",
       "      <td>...</td>\n",
       "      <td>...</td>\n",
       "    </tr>\n",
       "    <tr>\n",
       "      <th rowspan=\"5\" valign=\"top\">2022-11-09 12:00:00+00:00</th>\n",
       "      <th>ETH</th>\n",
       "      <td>1218.900000</td>\n",
       "      <td>1262.300000</td>\n",
       "      <td>1215.70000</td>\n",
       "      <td>1240.100000</td>\n",
       "      <td>2.558305e+08</td>\n",
       "      <td>2022-11-09 13:00:00+00:00</td>\n",
       "      <td>NaN</td>\n",
       "    </tr>\n",
       "    <tr>\n",
       "      <th>LINK</th>\n",
       "      <td>6.800500</td>\n",
       "      <td>6.977000</td>\n",
       "      <td>6.73900</td>\n",
       "      <td>6.818500</td>\n",
       "      <td>4.735283e+06</td>\n",
       "      <td>2022-11-09 13:00:00+00:00</td>\n",
       "      <td>NaN</td>\n",
       "    </tr>\n",
       "    <tr>\n",
       "      <th>MATIC</th>\n",
       "      <td>0.940400</td>\n",
       "      <td>0.967300</td>\n",
       "      <td>0.92080</td>\n",
       "      <td>0.938100</td>\n",
       "      <td>1.362755e+07</td>\n",
       "      <td>2022-11-09 13:00:00+00:00</td>\n",
       "      <td>NaN</td>\n",
       "    </tr>\n",
       "    <tr>\n",
       "      <th>SOL</th>\n",
       "      <td>18.595000</td>\n",
       "      <td>19.800000</td>\n",
       "      <td>18.06000</td>\n",
       "      <td>18.985000</td>\n",
       "      <td>5.257909e+07</td>\n",
       "      <td>2022-11-09 13:00:00+00:00</td>\n",
       "      <td>NaN</td>\n",
       "    </tr>\n",
       "    <tr>\n",
       "      <th>XRP</th>\n",
       "      <td>0.375250</td>\n",
       "      <td>0.385775</td>\n",
       "      <td>0.37465</td>\n",
       "      <td>0.379625</td>\n",
       "      <td>8.275274e+06</td>\n",
       "      <td>2022-11-09 13:00:00+00:00</td>\n",
       "      <td>NaN</td>\n",
       "    </tr>\n",
       "  </tbody>\n",
       "</table>\n",
       "<p>262038 rows × 7 columns</p>\n",
       "</div>"
      ],
      "text/plain": [
       "                                            op            hi           lo  \\\n",
       "timestamp                 symbol                                            \n",
       "2019-07-20 12:00:00+00:00 BNB        30.722500     30.772500     30.62500   \n",
       "                          BTC     10564.250000  10630.000000  10525.50000   \n",
       "                          ETH       225.930000    226.440000    225.51000   \n",
       "                          XRP         0.327975      0.328400      0.32700   \n",
       "2019-07-20 13:00:00+00:00 BNB        30.625000     30.867500     30.33500   \n",
       "...                                        ...           ...          ...   \n",
       "2022-11-09 12:00:00+00:00 ETH      1218.900000   1262.300000   1215.70000   \n",
       "                          LINK        6.800500      6.977000      6.73900   \n",
       "                          MATIC       0.940400      0.967300      0.92080   \n",
       "                          SOL        18.595000     19.800000     18.06000   \n",
       "                          XRP         0.375250      0.385775      0.37465   \n",
       "\n",
       "                                            cl        volume  \\\n",
       "timestamp                 symbol                               \n",
       "2019-07-20 12:00:00+00:00 BNB        30.625000  2.215166e+04   \n",
       "                          BTC     10539.500000  1.052997e+07   \n",
       "                          ETH       225.830000  0.000000e+00   \n",
       "                          XRP         0.327975  0.000000e+00   \n",
       "2019-07-20 13:00:00+00:00 BNB        30.562500  1.649716e+05   \n",
       "...                                        ...           ...   \n",
       "2022-11-09 12:00:00+00:00 ETH      1240.100000  2.558305e+08   \n",
       "                          LINK        6.818500  4.735283e+06   \n",
       "                          MATIC       0.938100  1.362755e+07   \n",
       "                          SOL        18.985000  5.257909e+07   \n",
       "                          XRP         0.379625  8.275274e+06   \n",
       "\n",
       "                                        execution_start_at       ret  \n",
       "timestamp                 symbol                                      \n",
       "2019-07-20 12:00:00+00:00 BNB    2019-07-20 13:00:00+00:00  0.026612  \n",
       "                          BTC    2019-07-20 13:00:00+00:00  0.034090  \n",
       "                          ETH    2019-07-20 13:00:00+00:00  0.030901  \n",
       "                          XRP    2019-07-20 13:00:00+00:00  0.037908  \n",
       "2019-07-20 13:00:00+00:00 BNB    2019-07-20 14:00:00+00:00  0.026836  \n",
       "...                                                    ...       ...  \n",
       "2022-11-09 12:00:00+00:00 ETH    2022-11-09 13:00:00+00:00       NaN  \n",
       "                          LINK   2022-11-09 13:00:00+00:00       NaN  \n",
       "                          MATIC  2022-11-09 13:00:00+00:00       NaN  \n",
       "                          SOL    2022-11-09 13:00:00+00:00       NaN  \n",
       "                          XRP    2022-11-09 13:00:00+00:00       NaN  \n",
       "\n",
       "[262038 rows x 7 columns]"
      ]
     },
     "metadata": {},
     "output_type": "display_data"
    }
   ],
   "source": [
    "# symbols = 'BTC,ETH'.split(',')\n",
    "symbols = os.getenv('ALPHAPOOL_SYMBOLS').split(',') # 売買代金が多く、古いもの\n",
    "df = fetch_ohlcv(symbols=symbols, with_target=True, price_type=None, horizon=8)\n",
    "df.to_pickle('/tmp/df_horizon8_price_type_none.pkl')\n",
    "display(df)"
   ]
  },
  {
   "cell_type": "code",
   "execution_count": 3,
   "id": "463f3d07-3dac-4173-90c1-33426b09861c",
   "metadata": {
    "execution": {
     "iopub.execute_input": "2022-11-09T13:36:57.482582Z",
     "iopub.status.busy": "2022-11-09T13:36:57.482130Z",
     "iopub.status.idle": "2022-11-09T13:36:57.880917Z",
     "shell.execute_reply": "2022-11-09T13:36:57.878936Z"
    }
   },
   "outputs": [],
   "source": [
    "# based on 20220910_eda\n",
    "\n",
    "import numba\n",
    "from pandas.api.types import is_float_dtype\n",
    "\n",
    "def signed_rsi_sma(x, timeperiod=14):\n",
    "    v = x.diff(1).fillna(0)\n",
    "    return (v.rolling(timeperiod, 1).sum() / (1e-37 + v.abs().rolling(timeperiod, 1).sum())).clip(-1, 1)\n",
    "\n",
    "def uniform_rank(x):\n",
    "    return unbiased_rank(x)\n",
    "    # count = x.transform(\"count\")\n",
    "    # rank = x.rank()\n",
    "    # return (rank - 0.5) / count\n",
    "\n",
    "def beta_mean(df, col):\n",
    "    # broadcast btc value\n",
    "    idx = df.index.to_frame()\n",
    "    idx['symbol'] = 'BTC'\n",
    "    idx = pd.MultiIndex.from_frame(idx)\n",
    "    return pd.Series(df.loc[idx, col].values, index=df.index)\n",
    "    \n",
    "def calc_features(df, with_ret=False):\n",
    "    mem = get_joblib_memory()\n",
    "    return mem.cache(do_calc_features)(df, with_ret=with_ret)\n",
    "    \n",
    "def do_calc_features(df, with_ret=False):\n",
    "    dfs = []\n",
    "    for symbol, df_symbol in df.groupby('symbol'):\n",
    "        dfs.append(calc_features_single(df_symbol))\n",
    "    df = pd.concat(dfs).sort_index()\n",
    "\n",
    "    beta_window = 24 * 30\n",
    "    # beta_window = 24 * 7\n",
    "\n",
    "    # df['ln_cl_diff_mean'] = df.groupby('timestamp')['ln_cl_diff'].transform('mean')\n",
    "    df['ln_cl_diff_mean'] = beta_mean(df, 'ln_cl_diff')\n",
    "    \n",
    "    # wrong\n",
    "    # df['beta'] = df.groupby('symbol')['ln_cl_diff'].transform(lambda x: x.rolling(beta_window, 1).corr(df.loc[x.index, 'ln_cl_diff_mean'])).fillna(0).clip(0.1, 2.0)\n",
    "\n",
    "    # df['beta'] = (\n",
    "    #     (df['ln_cl_diff'] * df['ln_cl_diff_mean']).groupby('symbol').transform(lambda x: x.rolling(beta_window, 1).mean())\n",
    "    #     / (df['ln_cl_diff_mean'] ** 2).groupby('symbol').transform(lambda x: x.rolling(beta_window, 1).mean())\n",
    "    # ).fillna(0).clip(0.1, 2.0)\n",
    "    df['beta'] = 1.0\n",
    "    \n",
    "    dfs = [\n",
    "        df,\n",
    "        # df.drop(columns=get_feature_columns(df)),\n",
    "    ]\n",
    "    \n",
    "    if with_ret:\n",
    "        ret_mean = beta_mean(df, 'ret')\n",
    "        dfs += [\n",
    "            (uniform_rank(df.groupby('timestamp')['ret']) - 0.5).rename('ret_rank'),\n",
    "            (df['ret'] - df['beta'] * ret_mean).rename('ret_beta'),\n",
    "        ]\n",
    "    \n",
    "    for col in get_feature_columns(df):\n",
    "        feature_mean = beta_mean(df, col)\n",
    "        dfs += [\n",
    "            # (2 * uniform_rank(df.groupby('timestamp')[col]) - 1).rename(col + '_symbolrank'),\n",
    "            (df[col] - df['beta'] * feature_mean).rename(col + '_symbolbeta'),\n",
    "        ]\n",
    "    df = pd.concat(dfs, axis=1)\n",
    "    \n",
    "    # dfs = [df]\n",
    "    # for col in get_feature_columns(df):\n",
    "    #     if '_symbolbeta' not in col:\n",
    "    #         continue\n",
    "    #     dfs += [\n",
    "    #         (2 * uniform_rank(df.groupby('timestamp')[col]) - 1).rename(col.replace('symbolbeta', 'symbolbtrk')),\n",
    "    #     ]\n",
    "    # df = pd.concat(dfs, axis=1)\n",
    "    \n",
    "    df = df[sorted([x for x in df.columns if is_float_dtype(df.dtypes[x])])].copy().astype('float32')\n",
    "\n",
    "    return df\n",
    "\n",
    "def calc_features_single(df):\n",
    "    df = df.copy()\n",
    "\n",
    "    high = df['hi']\n",
    "    low = df['lo']\n",
    "    close = df['cl']\n",
    "    volume = df['volume']\n",
    "    df['ln_cl'] = np.log(df['cl'])\n",
    "    df['ln_hi'] = np.log(df['hi'])\n",
    "    df['ln_lo'] = np.log(df['lo'])\n",
    "    df['ln_hilo'] = 0.5 * (df['ln_hi'] + df['ln_lo'])\n",
    "    df['ln_cl_diff'] = df['ln_cl'].diff(1).fillna(0)\n",
    "    df['ln_volume'] = np.log1p(df['volume'])\n",
    "\n",
    "    dfs = [df]\n",
    "    \n",
    "    # for i in range(1, 96):\n",
    "    # for i in range(1, 96 // 4):\n",
    "    for i in range(1, 96 // 8):\n",
    "    # for i in range(1, 192 // 8):\n",
    "        dfs += [\n",
    "            # (df['ln_cl'] - df['ln_cl'].rolling(8 * i).mean()).fillna(0).rename('feature_{:02}_ln_cl_kairi'.format(i)), # good\n",
    "            # df['ln_cl'].diff(8).shift(i * 8).fillna(0).rename('feature_ln_cl_diff_{:02}'.format(i)),\n",
    "            df['ln_cl'].diff(8 * i).fillna(0).rename('feature_{:02}_ln_cl_diff'.format(i)), # good\n",
    "            # df['ln_cl'].diff(1 * i).fillna(0).rename('feature_{:02}_ln_cl_diff'.format(i)),\n",
    "            # df['ln_cl'].diff(4 * i).fillna(0).rename('feature_{:02}_ln_cl_diff'.format(i)),\n",
    "            # df['ln_cl'].rolling(8 * i).std().fillna(0).rename('feature_{:02}_ln_cl_std'.format(i)),\n",
    "            # df['ln_volume'].diff(8 * i).fillna(0).rename('feature_{:02}_ln_volume_diff'.format(i)),\n",
    "            # df['ln_volume'].rolling(8 * i).mean().fillna(0).rename('feature_{:02}_ln_volume_mean'.format(i)),\n",
    "            # np.log1p(df['volume'].rolling(8 * i).mean()).fillna(0).rename('feature_{:02}_ln_volume_mean2'.format(i)),\n",
    "            # signed_rsi_sma(df['cl'], timeperiod=i).fillna(0).rename('feature_{:02}_rsi'.format(i)),\n",
    "        ]\n",
    "\n",
    "    return pd.concat(dfs, axis=1)"
   ]
  },
  {
   "cell_type": "code",
   "execution_count": 4,
   "id": "3ffd0d1e-fb4b-45f6-8f65-4dda9bb3598c",
   "metadata": {
    "execution": {
     "iopub.execute_input": "2022-11-09T13:36:57.889934Z",
     "iopub.status.busy": "2022-11-09T13:36:57.888428Z",
     "iopub.status.idle": "2022-11-09T13:37:02.324160Z",
     "shell.execute_reply": "2022-11-09T13:37:02.322822Z"
    }
   },
   "outputs": [
    {
     "name": "stderr",
     "output_type": "stream",
     "text": [
      "2022-11-09 13:36:57.903774: I tensorflow/core/platform/cpu_feature_guard.cc:193] This TensorFlow binary is optimized with oneAPI Deep Neural Network Library (oneDNN) to use the following CPU instructions in performance-critical operations:  AVX2 FMA\n",
      "To enable them in other operations, rebuild TensorFlow with the appropriate compiler flags.\n",
      "2022-11-09 13:36:58.226543: W tensorflow/stream_executor/platform/default/dso_loader.cc:64] Could not load dynamic library 'libcudart.so.11.0'; dlerror: libcudart.so.11.0: cannot open shared object file: No such file or directory\n",
      "2022-11-09 13:36:58.226626: I tensorflow/stream_executor/cuda/cudart_stub.cc:29] Ignore above cudart dlerror if you do not have a GPU set up on your machine.\n",
      "2022-11-09 13:36:58.288853: E tensorflow/stream_executor/cuda/cuda_blas.cc:2981] Unable to register cuBLAS factory: Attempting to register factory for plugin cuBLAS when one has already been registered\n",
      "2022-11-09 13:37:00.410132: W tensorflow/stream_executor/platform/default/dso_loader.cc:64] Could not load dynamic library 'libnvinfer.so.7'; dlerror: libnvinfer.so.7: cannot open shared object file: No such file or directory\n",
      "2022-11-09 13:37:00.410507: W tensorflow/stream_executor/platform/default/dso_loader.cc:64] Could not load dynamic library 'libnvinfer_plugin.so.7'; dlerror: libnvinfer_plugin.so.7: cannot open shared object file: No such file or directory\n",
      "2022-11-09 13:37:00.410527: W tensorflow/compiler/tf2tensorrt/utils/py_utils.cc:38] TF-TRT Warning: Cannot dlopen some TensorRT libraries. If you would like to use Nvidia GPU with TensorRT, please make sure the missing libraries mentioned above are installed properly.\n",
      "/opt/conda/lib/python3.10/site-packages/tensorflow_addons/utils/ensure_tf_install.py:53: UserWarning: Tensorflow Addons supports using Python ops for all Tensorflow versions above or equal to 2.7.0 and strictly below 2.10.0 (nightly versions are not supported). \n",
      " The versions of TensorFlow you are currently using is 2.10.0 and is not supported. \n",
      "Some things might work, some things might not.\n",
      "If you were to encounter a bug, do not file an issue.\n",
      "If you want to make sure you're using a tested and supported configuration, either change the TensorFlow version or the TensorFlow Addons's version. \n",
      "You can find the compatibility matrix in TensorFlow Addon's readme:\n",
      "https://github.com/tensorflow/addons\n",
      "  warnings.warn(\n"
     ]
    }
   ],
   "source": [
    "import tensorflow as tf\n",
    "from tensorflow.keras.layers import (\n",
    "    Input, Dense, Dropout, Reshape, Conv1D, Conv2D, Conv3D, Flatten, MaxPooling1D, AveragePooling1D,\n",
    "    BatchNormalization, Concatenate, Activation, Rescaling, Add, Subtract, Lambda,\n",
    "    GlobalMaxPooling1D, GlobalAveragePooling1D\n",
    ")\n",
    "from tensorflow.keras.models import Model\n",
    "from tensorflow.keras.optimizers import Nadam, SGD, Adam\n",
    "from tensorflow.keras import regularizers\n",
    "from tensorflow.keras import initializers\n",
    "from scipy.stats import norm\n",
    "from scikeras.wrappers import KerasRegressor\n",
    "from functools import partial\n",
    "import tensorflow_addons as tfa"
   ]
  },
  {
   "cell_type": "code",
   "execution_count": 5,
   "id": "2f272bbd-ad1c-43a3-b242-e236340a3ab8",
   "metadata": {
    "execution": {
     "iopub.execute_input": "2022-11-09T13:37:02.330728Z",
     "iopub.status.busy": "2022-11-09T13:37:02.329952Z",
     "iopub.status.idle": "2022-11-09T13:37:02.351889Z",
     "shell.execute_reply": "2022-11-09T13:37:02.350823Z"
    }
   },
   "outputs": [],
   "source": [
    "from tensorflow.python.ops import gen_math_ops, nn_ops\n",
    "\n",
    "class GaussianDropConnectDense(Dense):\n",
    "    def build(self, input_shape):\n",
    "        super().build(input_shape)\n",
    "        \n",
    "        self.kernel_initial = self.kernel.numpy()\n",
    "        # print(self.kernel_initial)\n",
    "        \n",
    "#         self.kernel_old = self.kernel\n",
    "#         self.bias_old = self.bias\n",
    "        \n",
    "        \n",
    "        \n",
    "#         self.kernel = self.kernel_old\n",
    "#         self.bias = self.bias_old * tf.keras.backend.random_normal(\n",
    "#             shape=tf.shape(self.bias_old),\n",
    "#             mean=1.0,\n",
    "#             stddev=sigma,\n",
    "#             dtype=self.bias_old.dtype,\n",
    "#             seed=None\n",
    "#         )\n",
    "    \n",
    "    def call(self, inputs, training=None):     \n",
    "        # dropout_rate = 0.3   \n",
    "        dropout_rate = 0.5      \n",
    "        # dropout_rate = 0.7\n",
    "        sigma = np.sqrt(dropout_rate / (1.0 - dropout_rate))\n",
    "        \n",
    "        # kernel = self.kernel_initial + tf.keras.backend.dropout(self.kernel - self.kernel_initial, dropout_rate, seed=None) / (1.0 - dropout_rate)\n",
    "        kernel = self.kernel_initial + (self.kernel - self.kernel_initial) * tf.keras.backend.random_normal(\n",
    "            shape=tf.shape(self.kernel),\n",
    "            mean=1.0,\n",
    "            stddev=sigma,\n",
    "            dtype=self.kernel.dtype,\n",
    "            seed=None\n",
    "        )\n",
    "        bias = self.bias\n",
    "        \n",
    "        # kernel = self.kernel * tf.keras.backend.random_normal(\n",
    "        #     shape=tf.shape(self.kernel),\n",
    "        #     mean=1.0,\n",
    "        #     stddev=sigma,\n",
    "        #     dtype=self.kernel.dtype,\n",
    "        #     seed=None\n",
    "        # )\n",
    "        # bias = self.bias * tf.keras.backend.random_normal(\n",
    "        #     shape=tf.shape(self.bias),\n",
    "        #     mean=1.0,\n",
    "        #     stddev=sigma,\n",
    "        #     dtype=self.bias.dtype,\n",
    "        #     seed=None\n",
    "        # )\n",
    "        \n",
    "        kernel = tf.keras.backend.in_train_phase(kernel, self.kernel, training=training)\n",
    "        bias = tf.keras.backend.in_train_phase(bias, self.bias, training=training)\n",
    "        \n",
    "        if inputs.dtype.base_dtype != self._compute_dtype_object.base_dtype:\n",
    "          inputs = math_ops.cast(inputs, dtype=self._compute_dtype_object)\n",
    "\n",
    "        rank = inputs.shape.rank\n",
    "        if rank == 2 or rank is None:\n",
    "            outputs = gen_math_ops.MatMul(a=inputs, b=kernel)\n",
    "        # Broadcast kernel to inputs.\n",
    "        else:\n",
    "          outputs = standard_ops.tensordot(inputs, kernel, [[rank - 1], [0]])\n",
    "          # Reshape the output back to the original ndim of the input.\n",
    "          if not context.executing_eagerly():\n",
    "            shape = inputs.shape.as_list()\n",
    "            output_shape = shape[:-1] + [kernel.shape[-1]]\n",
    "            outputs.set_shape(output_shape)\n",
    "\n",
    "        if self.use_bias:\n",
    "          outputs = nn_ops.bias_add(outputs, bias)\n",
    "\n",
    "        if self.activation is not None:\n",
    "          outputs = self.activation(outputs)\n",
    "        return outputs"
   ]
  },
  {
   "cell_type": "code",
   "execution_count": 6,
   "id": "06e51888-c034-4858-a648-2236b6f7fbc4",
   "metadata": {
    "execution": {
     "iopub.execute_input": "2022-11-09T13:37:02.359331Z",
     "iopub.status.busy": "2022-11-09T13:37:02.358954Z",
     "iopub.status.idle": "2022-11-09T13:37:02.376472Z",
     "shell.execute_reply": "2022-11-09T13:37:02.375426Z"
    }
   },
   "outputs": [],
   "source": [
    "class WeightLenCallback(tf.keras.callbacks.Callback):\n",
    "    def on_train_begin(self, logs=None):\n",
    "        self.initial_weights = self.model.get_weights()\n",
    "        self.initial_weights_norm = self._calc_dist(self.initial_weights)\n",
    "        self.prev_weights = self.initial_weights\n",
    "        self.weight_len = 0.0\n",
    "\n",
    "    def on_epoch_end(self, epoch, logs=None):\n",
    "        weights = self.model.get_weights()\n",
    "        weight_dist = self._calc_dist(self.initial_weights, weights)\n",
    "        weight_dist2 = self._calc_dist(self.initial_weights, weights, True)\n",
    "        logs['weight_dist'] = weight_dist\n",
    "        # logs['weight_dist2'] = weight_dist2\n",
    "        logs['weight_len'] = self.weight_len\n",
    "        logs['weight_ndist'] = weight_dist / self.initial_weights_norm\n",
    "        logs['weight_nlen'] = self.weight_len / self.initial_weights_norm\n",
    "\n",
    "    def on_train_batch_end(self, batch, logs=None):\n",
    "        weights = self.model.get_weights()\n",
    "        self.weight_len += self._calc_dist(self.prev_weights, weights)\n",
    "        self.prev_weights = weights\n",
    "        \n",
    "    def _calc_dist(self, w1, w2=None, normalized=False):\n",
    "        d = 0.0\n",
    "        for i in range(len(w1)):\n",
    "            x = w1[i]\n",
    "            y = w1[i] if w2 is None else w2[i] \n",
    "            if normalized:\n",
    "                x = x / (1e-37 + np.sum(x ** 2) ** 0.5)\n",
    "                y = y / (1e-37 + np.sum(y ** 2) ** 0.5)\n",
    "            if w2 is None:\n",
    "                d += np.sum(x ** 2)\n",
    "            else:\n",
    "                d += np.sum((x - y) ** 2)\n",
    "        return d ** 0.5"
   ]
  },
  {
   "cell_type": "code",
   "execution_count": 7,
   "id": "d7d734d2-1217-49df-aa95-3307070f35b0",
   "metadata": {
    "execution": {
     "iopub.execute_input": "2022-11-09T13:37:02.386627Z",
     "iopub.status.busy": "2022-11-09T13:37:02.384902Z",
     "iopub.status.idle": "2022-11-09T13:37:02.397218Z",
     "shell.execute_reply": "2022-11-09T13:37:02.394673Z"
    }
   },
   "outputs": [],
   "source": [
    "# support multi dimension\n",
    "class MyVotingRegressor:\n",
    "    def __init__(self, models):\n",
    "        self._models = models\n",
    "        \n",
    "    def fit(self, X, y, sample_weight=None):\n",
    "        for label, m in self._models:\n",
    "            m.fit(X, y, sample_weight=sample_weight)\n",
    "        return self\n",
    "        \n",
    "    def predict(self, X):\n",
    "        ys = []\n",
    "        for label, m in self._models:\n",
    "            ys.append(m.predict(X))\n",
    "        return np.mean(ys, axis=0)"
   ]
  },
  {
   "cell_type": "code",
   "execution_count": 8,
   "id": "d2252445-369a-4f8b-a79f-6901cd3c51da",
   "metadata": {
    "execution": {
     "iopub.execute_input": "2022-11-09T13:37:02.405783Z",
     "iopub.status.busy": "2022-11-09T13:37:02.404685Z",
     "iopub.status.idle": "2022-11-09T13:37:02.414505Z",
     "shell.execute_reply": "2022-11-09T13:37:02.411918Z"
    }
   },
   "outputs": [],
   "source": [
    "class LambdaTrain(Lambda):    \n",
    "    def call(self, inputs, training=None):     \n",
    "        return tf.keras.backend.in_train_phase(super().call(inputs), inputs, training=training)"
   ]
  },
  {
   "cell_type": "code",
   "execution_count": 9,
   "id": "00cd1ae7-a3d5-40a2-90e6-eb446ab9b79a",
   "metadata": {
    "execution": {
     "iopub.execute_input": "2022-11-09T13:37:02.421810Z",
     "iopub.status.busy": "2022-11-09T13:37:02.421416Z",
     "iopub.status.idle": "2022-11-09T13:37:02.435293Z",
     "shell.execute_reply": "2022-11-09T13:37:02.433244Z"
    }
   },
   "outputs": [],
   "source": [
    "import tempfile\n",
    "\n",
    "class SimpleKerasPredictor:\n",
    "    def __init__(self, model):\n",
    "        # self.model = model\n",
    "        \n",
    "        converter = tf.lite.TFLiteConverter.from_keras_model(model)\n",
    "        converter.optimizations = [tf.lite.Optimize.DEFAULT]\n",
    "        self.tflite_data = converter.convert()\n",
    "        \n",
    "    def predict(self, X):\n",
    "        if True:\n",
    "            interpreter = tf.lite.Interpreter(model_content=self.tflite_data)\n",
    "            signatures = interpreter.get_signature_list()\n",
    "            # print(signatures)\n",
    "\n",
    "            input_name = signatures['serving_default']['inputs'][0]\n",
    "            output_name = signatures['serving_default']['outputs'][0]\n",
    "            # {'serving_default': {'inputs': ['input_14'], 'outputs': ['activation_13']}}\n",
    "\n",
    "            sig = interpreter.get_signature_runner()\n",
    "            # print(sig)\n",
    "            return sig(**{ input_name: X })[output_name]\n",
    "        else:\n",
    "            return self.model.predict(X)\n",
    "    \n",
    "    def __getstate__(self):\n",
    "        state = {}\n",
    "        state['tflite_data'] = self.tflite_data\n",
    "        # with tempfile.TemporaryDirectory() as dir:\n",
    "        #     filename = dir + '/model.h5'\n",
    "        #     self.model.save(filename, include_optimizer=False)\n",
    "        #     with open(filename, 'rb') as f:\n",
    "        #         state['model'] = f.read()\n",
    "        return state\n",
    "        \n",
    "    def __setstate__(self, state):\n",
    "        self.tflite_data = state['tflite_data']\n",
    "        # interpreter = tf.lite.Interpreter(model_content=self.tflite_data)\n",
    "        # self.sig = interpreter.get_signature_runner()\n",
    "\n",
    "        # with tempfile.TemporaryDirectory() as dir:\n",
    "        #     model_data = state.get('model')\n",
    "        #     filename = dir + '/model.h5'\n",
    "        #     with open(filename, 'wb') as f:\n",
    "        #         f.write(model_data)\n",
    "        #     self.model = tf.keras.models.load_model(filename)    "
   ]
  },
  {
   "cell_type": "code",
   "execution_count": 10,
   "id": "363fd2c2-ad26-41c3-97b4-8b82f4490664",
   "metadata": {
    "execution": {
     "iopub.execute_input": "2022-11-09T13:37:02.444072Z",
     "iopub.status.busy": "2022-11-09T13:37:02.442842Z",
     "iopub.status.idle": "2022-11-09T13:37:02.686393Z",
     "shell.execute_reply": "2022-11-09T13:37:02.685286Z"
    }
   },
   "outputs": [],
   "source": [
    "\n",
    "from sklearn.preprocessing import StandardScaler, FunctionTransformer\n",
    "from sklearn.pipeline import Pipeline\n",
    "from sklearn.ensemble import BaggingRegressor, VotingRegressor\n",
    "\n",
    "from sklearn.pipeline import Pipeline, FeatureUnion\n",
    "from sklearn.cluster import FeatureAgglomeration\n",
    "import xgboost as xgb\n",
    "from sklearn.ensemble import HistGradientBoostingRegressor, BaggingRegressor\n",
    "from sklearn.decomposition import PCA, TruncatedSVD\n",
    "from sklearn.compose import TransformedTargetRegressor\n",
    "from sklearn.preprocessing import QuantileTransformer\n",
    "from sklearn.feature_selection import SelectPercentile, mutual_info_regression\n",
    "from sklearn.linear_model import RidgeCV\n",
    "\n",
    "class ExampleModelRank:\n",
    "    def __init__(self, ensemble=10):\n",
    "        # self._model = Ridge(fit_intercept=False, alpha=1e20)\n",
    "        # self._model = Pipeline([\n",
    "        #     ('ss', StandardScaler()),\n",
    "        #     ('model', self._model)\n",
    "        # ])\n",
    "        \n",
    "        # self._model = lgb.LGBMRegressor(\n",
    "        #     n_estimators=1000,\n",
    "        #     learning_rate=0.01,\n",
    "        #     extra_trees=True,\n",
    "        #     # colsample_bytree=0.9,\n",
    "        #     colsample_bytree=0.03,\n",
    "        #     # lambda_l2=1e1,\n",
    "        #     random_state=1,\n",
    "        #     n_jobs=-1,\n",
    "        # )\n",
    "        \n",
    "        # self._model = lgb.LGBMClassifier(\n",
    "        #     # n_estimators=1000,\n",
    "        #     # learning_rate=0.001,\n",
    "        #     random_state=1,\n",
    "        #     n_jobs=-1,\n",
    "        # )\n",
    "        \n",
    "        \n",
    "        # union = FeatureUnion([\n",
    "        #     (\"pt\", 'passthrough'),\n",
    "        #     (\"pca\", PCA(n_components=32)),\n",
    "        #     (\"svd\", TruncatedSVD(n_components=32)),\n",
    "        #     (\"agg\", FeatureAgglomeration(n_clusters=32)),\n",
    "        # ])\n",
    "        # self._model = Pipeline([\n",
    "        #     # ('feat_agglo', FeatureAgglomeration(n_clusters=64)),\n",
    "        #     ('union', union),\n",
    "        #     ('model', self._model)\n",
    "        # ])\n",
    "        \n",
    "        \n",
    "        self.max_data_sec = 2 * 30 * 24 * 60 * 60 # for predict script\n",
    "        self.price_type = None\n",
    "        self.ensemble = ensemble\n",
    "        self.horizon = 8\n",
    "\n",
    "    def fit(self, df):\n",
    "        df = self._calc_features(df)\n",
    "        features = get_feature_columns(df)\n",
    "        \n",
    "        df['ret_train'] = df['ret']\n",
    "        # df['ret_train'] = (df.groupby('symbol')['ln_cl'].shift(-24) - df['ln_cl']).fillna(0)\n",
    "        # df['ret_train'] = (df.groupby('symbol')['ln_cl'].shift(-4) - df['ln_cl']).fillna(0)\n",
    "        # df['ret_train'] = (df.groupby('symbol')['ln_hilo'].shift(-24) - df['ln_hilo']).fillna(0)\n",
    "        # df['ret_train'] = (df.groupby('symbol')['ln_hilocl'].shift(-24) - df['ln_hilocl']).fillna(0)\n",
    "        # df['ret_train'] = (df.groupby('symbol')['ln_hilo'].shift(-24) - df.groupby('symbol')['ln_hilo'].shift(12)).fillna(0)\n",
    "        # df['ret_train'] = (df.groupby('symbol')['ln_hilo'].shift(-48) - df['ln_hilo']).fillna(0)\n",
    "        # def calc_ret(x):\n",
    "        #     hi = df.loc[x.index, 'hi']\n",
    "        #     lo = df.loc[x.index, 'lo']\n",
    "        #     return 0.5 * (hi.rolling(24, 1).max().shift(-24) + lo.rolling(24, 1).min().shift(-24)) / x - 1\n",
    "        # df['ret_train'] = df.groupby('symbol')['cl'].transform(calc_ret)\n",
    "        \n",
    "        # df['ret_rank'] = unbiased_rank(df.groupby('timestamp')['ret_train']) - 0.5\n",
    "        # df['ret_mean'] = df.groupby('timestamp')['ret_train'].transform('mean')\n",
    "        df['ret_mean'] = beta_mean(df, 'ret_train')\n",
    "        df['ret_beta'] = df['ret_train'] - df['ret_mean'] * df['beta']\n",
    "        df = df.dropna()\n",
    "        self.symbols = get_symbols(df) # for predict script\n",
    "        \n",
    "        df = df.loc[df.index.get_level_values('symbol') != 'BTC']\n",
    "        \n",
    "        print('fit df.shape', df.shape)\n",
    "        \n",
    "        reduce_lr = tf.keras.callbacks.ReduceLROnPlateau(\n",
    "            monitor=\"val_loss\",\n",
    "            factor=0.5,\n",
    "            patience=5,\n",
    "            # verbose=0,\n",
    "            # mode=\"auto\",\n",
    "            # min_delta=0.0001,\n",
    "            # cooldown=0,\n",
    "            # min_lr=0,\n",
    "        )\n",
    "        \n",
    "        es = tf.keras.callbacks.EarlyStopping(\n",
    "            monitor='val_loss',\n",
    "            # monitor='val_mse_weighted',\n",
    "            min_delta=0,\n",
    "            # patience=10,\n",
    "            patience=40,\n",
    "            verbose=0,\n",
    "            mode='auto',\n",
    "            # mode='max',\n",
    "            baseline=None,\n",
    "            restore_best_weights=True\n",
    "        )\n",
    "        \n",
    "        tb = tf.keras.callbacks.TensorBoard(\n",
    "            log_dir=\"tb_logs\",\n",
    "            histogram_freq=1,\n",
    "            write_graph=True,\n",
    "            write_images=False,\n",
    "            write_steps_per_second=False,\n",
    "            update_freq=\"epoch\",\n",
    "            profile_batch=0,\n",
    "            embeddings_freq=1,\n",
    "            embeddings_metadata=None,\n",
    "        )\n",
    "\n",
    "        # lr1 = 0.002\n",
    "        lr1 = 0.002 * 1e-1\n",
    "        lr0 = lr1 * 1e-2\n",
    "        def scheduler(epoch, lr):\n",
    "            if epoch <= 10:\n",
    "                t = epoch / 10.0\n",
    "            else:\n",
    "                t = 1.0\n",
    "            return np.exp(np.log(lr0) * (1 - t) + np.log(lr1) * t)\n",
    "        \n",
    "        # self._model = KerasRegressor(\n",
    "        #     model=partial(build_keras_model, len(features) * 2 + 20 + 20 - 100 * 0, 0),\n",
    "        #     # model=partial(build_keras_model, len(features) * 1, 0),\n",
    "        #     random_state=1,\n",
    "        #     # random_state=np.random.RandomState(1),\n",
    "        #     # epochs=1,\n",
    "        #     # epochs=4,\n",
    "        #     # epochs=20,\n",
    "        #     epochs=1000,\n",
    "        #     validation_split=0.3, # worse than not using val\n",
    "        #     callbacks=[\n",
    "        #         es,\n",
    "        #         # reduce_lr,\n",
    "        #         # tf.keras.callbacks.LearningRateScheduler(scheduler),\n",
    "        #         WeightLenCallback(),\n",
    "        #         # WeightShuffleCallback(),\n",
    "        #         tb, # last\n",
    "        #     ],\n",
    "        #     # batch_size=4096 // 8 // 8,\n",
    "        #     # batch_size=4096 // 8,\n",
    "        #     batch_size=4096,\n",
    "        #     # batch_size=65536,\n",
    "        #     # batch_size=df.shape[0],\n",
    "        #     # shuffle=False,\n",
    "        #     verbose=2,\n",
    "        #     warm_start=True,\n",
    "        # )\n",
    "        # keras_model = self._model\n",
    "        \n",
    "        models = []\n",
    "        for i in range(0, self.ensemble):\n",
    "            models.append(['nn{}'.format(i), KerasRegressor(\n",
    "                # model=partial(build_keras_model, len(features) * 2 + 20 + 20 - 100 * 0, i),\n",
    "                model=partial(build_keras_model, len(features) * 1, i),\n",
    "                epochs=1000,\n",
    "                validation_split=0.3, # worse than not using val\n",
    "                callbacks=[\n",
    "                    es,\n",
    "                    # WeightLenCallback(),\n",
    "                    tb, # last\n",
    "                ],\n",
    "                # batch_size=4096 * 8,\n",
    "                batch_size=4096,\n",
    "                # batch_size=4096 // 8,\n",
    "                random_state=i,\n",
    "                verbose=2 if self.ensemble <= 1 else 0,\n",
    "            )])\n",
    "        self._model = MyVotingRegressor(models)\n",
    "        \n",
    "        # self._model = BaggingRegressor(self._model, random_state=1)\n",
    "\n",
    "        nonstationary_est = lgb.LGBMRegressor(\n",
    "            n_estimators=1000,\n",
    "            learning_rate=0.01,\n",
    "            extra_trees=True,\n",
    "            colsample_bytree=0.03,\n",
    "            random_state=1,\n",
    "            n_jobs=-1,\n",
    "        )\n",
    "        \n",
    "        def scale_func(x):\n",
    "            return x * 0.1\n",
    "        \n",
    "        qt_n = 100\n",
    "        \n",
    "        self._model = Pipeline([\n",
    "            # ('qt', QuantileTransformer(n_quantiles=qt_n, output_distribution='normal', random_state=1)),\n",
    "            # ('qt', QuantileTransformer(output_distribution='uniform', random_state=1)),\n",
    "            # ('sc', StandardScaler(with_mean=False)),\n",
    "            ('sc', StandardScaler()),\n",
    "            # ('fu', FeatureUnion([ # not good?\n",
    "            #     ('pt', 'passthrough'),\n",
    "            #     ('qt', QuantileTransformer(n_quantiles=qt_n, output_distribution='normal', random_state=1)),\n",
    "            #     ('pca', PCA(20, whiten=True)), # good?\n",
    "            #     # ('fa', FeatureAgglomeration(20, pooling_func=np.median)), # not good?\n",
    "            #     ('fa_std', Pipeline([ # not bad?\n",
    "            #         ('fa_std2', FeatureAgglomeration(20, pooling_func=np.std)),\n",
    "            #         ('qt2', QuantileTransformer(n_quantiles=qt_n, output_distribution='normal', random_state=1)),\n",
    "            #     ])),\n",
    "            # ])),\n",
    "            # ('scale', FunctionTransformer(scale_func)),\n",
    "            # ('pca', PCA(whiten=True)), # bad\n",
    "            ('model', self._model)\n",
    "        ])\n",
    "        \n",
    "        # self._model = Ridge(alpha=1e5, fit_intercept=False)\n",
    "        # self._model = RidgeCV(fit_intercept=False)\n",
    "        \n",
    "        # dfs = []\n",
    "        # for i in range(4):\n",
    "        #     df2 = df.copy()\n",
    "        #     df2[features] = df2[features] + np.random.normal(0, 0.1, (df.shape[0], len(features)))\n",
    "        #     dfs += [\n",
    "        #         df2\n",
    "        #     ]\n",
    "        # df = pd.concat(dfs)\n",
    "        \n",
    "        # df[features] += np.random.normal(0, 0.1, (df.shape[0], len(features)))\n",
    "        \n",
    "        sw = np.abs(df['ret_beta'])\n",
    "        # sw = np.abs(df['ret'])\n",
    "        sw /= np.mean(sw)\n",
    "        # sw[:] = 1.0\n",
    "        # sw += 1e-2\n",
    "        # sw /= pd.Series(sw).rolling(1000, 1).mean().iloc[::-1].rolling(1000, 1).mean().iloc[::-1].values\n",
    "        # sw /= np.mean(sw)\n",
    "        \n",
    "        X = df[features]\n",
    "        y = np.sign(df['ret_beta'])\n",
    "        # y = np.sign(df['ret'])\n",
    "        # y = (df['ret_beta'] >= 0) * 1.0\n",
    "        # y = df['ret_beta']\n",
    "        # y = df['ret_beta'] / df['ret_beta'].std()\n",
    "        \n",
    "        # for i in range(20):\n",
    "        # #     # batch_size = int(32 * 2.0 ** i)\n",
    "        # #     # batch_size = 32\n",
    "        #     batch_size = 4096\n",
    "        #     # batch_size = df.shape[0]\n",
    "        #     # self._model._random_state = i\n",
    "        #     self._model.partial_fit(X, y, sample_weight=sw, batch_size=batch_size)\n",
    "        # #     # self._model.partial_fit(X, y, batch_size=batch_size)\n",
    "        # #     if es.stopped_epoch > 0:\n",
    "        #         # break\n",
    "        \n",
    "        # self._model.fit(X, y, sample_weight=sw)\n",
    "        \n",
    "        for i in range(0):\n",
    "            # es.patience = 400\n",
    "            # es.restore_best_weights = True\n",
    "            # es.monitor = 'loss'\n",
    "            \n",
    "            self._model.fit(X, y, model__sample_weight=sw, model__epochs=4)\n",
    "\n",
    "            weights = keras_model.model_.get_weights()\n",
    "            for i in range(0, len(weights)):\n",
    "            # for i in range(len(weights) // 2, len(weights)):\n",
    "                w = weights[i]\n",
    "                if False:\n",
    "                # if len(w.shape) == 1:\n",
    "                    w[:] = 0.0\n",
    "                else:\n",
    "                    # flatten shuffle\n",
    "                    w = np.random.permutation(w.flatten()).reshape(w.shape)\n",
    "                    # axis 0 shuffle\n",
    "                    # w = np.random.permutation(w)\n",
    "                    # axis 1 shuffle \n",
    "                    # maybe overfit\n",
    "                    # if len(w.shape) == 2:\n",
    "                    #     w = np.random.permutation(w.T).T\n",
    "                    # else:\n",
    "                    #     w = np.random.permutation(w)\n",
    "                weights[i] = w\n",
    "\n",
    "            keras_model.model_.set_weights(weights)\n",
    "        \n",
    "        es.monitor = 'val_loss'\n",
    "        # es.monitor = 'val_cosine_similarity'\n",
    "        # es.patience = 10\n",
    "        # es.restore_best_weights = True\n",
    "        self._model.fit(X, y, model__sample_weight=sw)\n",
    "        \n",
    "        # converter = tf.lite.TFLiteConverter.from_keras_model(self._model.named_steps['model'].model_)\n",
    "        # converter.optimizations = [tf.lite.Optimize.DEFAULT]\n",
    "        # self._model.named_steps['model'].model_ = converter.convert()\n",
    "        \n",
    "        # return self._model.fit(df[features], df['ret_beta'])\n",
    "        # self._model.fit(df[features], np.sign(df['ret_beta']), model__sample_weight=sw)\n",
    "        # return self._model.fit(df[features], df['ret_rank'])\n",
    "        # return self._model.fit(df[features], np.sign(df['ret_rank']), sample_weight=np.abs(df['ret_rank']))\n",
    "        # return self._model.fit(df[features], np.sign(df['ret_rank']), model__sample_weight=np.abs(df['ret_rank']))\n",
    "        \n",
    "        models = self._model.named_steps['model']._models\n",
    "        for i in range(len(models)):\n",
    "            models[i][1] = SimpleKerasPredictor(models[i][1].model_)\n",
    "    \n",
    "    def predict(self, df):\n",
    "        df = self._calc_features(df)\n",
    "        features = get_feature_columns(df)\n",
    "        y_pred = self._model.predict(df[features]).flatten()\n",
    "        \n",
    "        if os.getenv('USE_JOBLIB_MEMORY'):\n",
    "            corrs = df[features].corrwith(pd.Series(y_pred, index=df.index))\n",
    "            plt.plot(corrs.sort_values().values)\n",
    "            # corrs = df[features].rank().corrwith(pd.Series(y_pred, index=df.index).rank())\n",
    "            # plt.plot(corrs.sort_values().values)\n",
    "            plt.show()\n",
    "        \n",
    "        # df['position'] = np.sign(y_pred)\n",
    "        df['position'] = y_pred\n",
    "        # df['position'] -= 0.5\n",
    "        idx_btc = df.index.get_level_values('symbol') == 'BTC'\n",
    "        df.loc[idx_btc, 'position'] = 0\n",
    "        # df['position'] = unbiased_rank(df.groupby('timestamp')['position']) - 0.5\n",
    "        \n",
    "        df['position_beta'] = df['position'] * df['beta']\n",
    "        df['position_btc'] = -df.groupby('timestamp')['position_beta'].transform('sum')\n",
    "        df.loc[idx_btc, 'position'] = df.loc[idx_btc, 'position_btc']\n",
    "        \n",
    "        # df['position'] = df.groupby('symbol')['position'].transform(lambda x: calc_pos(x, 0.4))\n",
    "        \n",
    "        normalize_position(df)\n",
    "        return df['position']\n",
    "    \n",
    "    def _calc_features(self, df):\n",
    "        df = df.copy()\n",
    "        df = calc_features(df)\n",
    "        \n",
    "        # dfs = [df]\n",
    "        # for col in get_feature_columns(df):\n",
    "        #     dfs += [\n",
    "        #         (df[col] ** 2).rename(col + '_sqr'),\n",
    "        #     ]\n",
    "        # df = pd.concat(dfs, axis=1)\n",
    "        \n",
    "        return df\n",
    "\n",
    "class SparseConstraint(tf.keras.constraints.Constraint):\n",
    "    def __init__(self, mask):\n",
    "        self.mask = mask\n",
    "        self.mask_t = tf.convert_to_tensor(mask)\n",
    "\n",
    "    def __call__(self, w):\n",
    "        return w * self.mask_t\n",
    "\n",
    "    def get_config(self):\n",
    "        return {'mask': self.mask}\n",
    "\n",
    "\n",
    "# 1dcnn https://www.keep-current.dev/convolution-networks-on-tabular-data/\n",
    "# tanh, mae: https://github.com/hoseinzadeehsan/CNNpred-Keras\n",
    "def build_keras_model(input_size, idx=0):\n",
    "    inputs = Input(shape=(input_size,))\n",
    "    x = inputs\n",
    "    # x = Dropout(0.5)(x)\n",
    "    \n",
    "    class DistanceL2(tf.keras.regularizers.Regularizer):\n",
    "        def __init__(self, l2=0.01):\n",
    "            self.l2 = tf.keras.backend.cast_to_floatx(l2)\n",
    "            self.initial_x = None\n",
    "            \n",
    "        def __call__(self, x):\n",
    "            initial_x = self.initial_x.flatten()\n",
    "            diff = tf.reshape(x, (-1,)) - initial_x\n",
    "            # d = tf.math.reduce_sum(diff * initial_x)\n",
    "            # n = np.sum(initial_x ** 2)\n",
    "            # diff = diff - initial_x * d / n\n",
    "            return 2.0 * self.l2 * tf.nn.l2_loss(diff)\n",
    "\n",
    "        def get_config(self):\n",
    "            return {\"l2\": float(self.l2)}\n",
    "        \n",
    "    # l2_dist = 1e-5\n",
    "    # l2_dist = 1e-4\n",
    "    # l2_dist = 1e-3\n",
    "    l2_dist = 0.0\n",
    "    \n",
    "    reg_l1 = regularizers.l1(1e-3)\n",
    "    \n",
    "    reg = None\n",
    "    # reg = regularizers.l1(1e-5)\n",
    "    # reg = regularizers.l2(1e-1)\n",
    "    # reg = regularizers.l2(1e-2)\n",
    "    # reg = regularizers.l2(1e-3)\n",
    "    # reg = regularizers.l2(4e-3)\n",
    "    # reg = regularizers.l2(1e-4)\n",
    "    # reg = regularizers.l2(1e-7)\n",
    "    # reg = regularizers.L1L2(\n",
    "    #     l1=1e-5, \n",
    "    #     l2=1e-5,\n",
    "    # )\n",
    "    \n",
    "    # act = 'relu'\n",
    "    # act = 'tanh'\n",
    "    act = 'elu' # good for cnn?\n",
    "    # act = tf.keras.activations.swish\n",
    "    # act = tf.keras.layers.LeakyReLU(alpha=0.1)\n",
    "    # act = tf.keras.layers.PReLU()\n",
    "    # act = tfa.activations.mish\n",
    "    # act = 'gelu' # good?\n",
    "    # act = 'softplus'\n",
    "    \n",
    "    # dropout_rate = 0.96\n",
    "    # dropout_rate = 0.98 # good?\n",
    "    dropout_rate = 0.99\n",
    "    # dropout_rate = 0.995\n",
    "    \n",
    "    # initializer = initializers.Zeros()\n",
    "    # initializer = initializers.HeNormal()\n",
    "    # initializer = initializers.GlorotNormal()\n",
    "    \n",
    "    orth_init = initializers.Orthogonal(gain=1.0, seed=None) # bad\n",
    "    \n",
    "    # initializer = 'glorot_uniform'\n",
    "    # initializer = 'glorot_normal'\n",
    "    initializer = 'he_normal'\n",
    "    # initializer = 'he_uniform'\n",
    "    # initializer = orth_init\n",
    "    bias_initializer = 'zeros'\n",
    "    # bias_initializer = 'he_normal'\n",
    "    \n",
    "#     def initializer(shape, dtype=None):\n",
    "#         p = 0.1\n",
    "#         dropout_scale = 1.0 / (0.5 / p + 0.5 * p) ** 0.5 # https://arxiv.org/pdf/1607.02488.pdf\n",
    "#         # return initializers.GlorotUniform()(shape, dtype=dtype) * 0.1 ** 0.5\n",
    "#         # return initializers.GlorotNormal()(shape, dtype=dtype) * dropout_scale\n",
    "#         w = initializers.HeNormal()(shape, dtype=dtype)\n",
    "#         # w = initializers.Orthogonal(gain=1.0, seed=None)(shape, dtype=dtype)\n",
    "#         # w = w ** 3 # 3 is good\n",
    "#         w /= tf.reduce_mean(w ** 2) ** 0.5\n",
    "#         print(shape)\n",
    "#         n_in, n_out = shape\n",
    "#         # w /= n_in ** 0.5\n",
    "#         # w /= n_out ** 0.5 # good\n",
    "        \n",
    "#         # https://arxiv.org/pdf/1902.06853.pdf\n",
    "#         w /= n_in ** 0.5\n",
    "#         # w *= 1.3\n",
    "#         # w *= 0.9\n",
    "#         return w\n",
    "    \n",
    "#     def bias_initializer(shape, dtype=None):\n",
    "#         w = initializers.HeNormal()(shape, dtype=dtype)\n",
    "#         w /= tf.reduce_mean(w ** 2) ** 0.5\n",
    "#         return w\n",
    "    \n",
    "    size = 8\n",
    "    # size = 12\n",
    "    # kernel_size = 5\n",
    "    kernel_size = int(size * 3 / 4)\n",
    "    # kernel_size = int(size / 2)\n",
    "    # kernel_size = size\n",
    "    \n",
    "    size = 32\n",
    "    # size = 64\n",
    "    # size = 128\n",
    "    # size = 512\n",
    "    # size = 1024\n",
    "    \n",
    "    dist_regs = []\n",
    "    dist_reg_layers = []\n",
    "    mars_constraints = []\n",
    "    \n",
    "    hidden_outputs = [x]\n",
    "    \n",
    "    def conv1d_mean_zero(x):\n",
    "        return x - tf.math.reduce_mean(x, axis=-1, keepdims=True)\n",
    "    \n",
    "    # x = Reshape((23, 2))(x)\n",
    "    # x = Reshape((11, 4))(x)\n",
    "    # x = Reshape((95, 2))(x)\n",
    "    x = Reshape((11, 2))(x)\n",
    "    # x = Reshape((11, 3))(x)\n",
    "    # def f1(x):\n",
    "    #     x = tf.math.cumsum(x, axis=-2)\n",
    "    #     # x -= tf.math.reduce_mean(x, axis=-2, keepdims=True)\n",
    "    #     return x\n",
    "    # x = Lambda(f1)(x)\n",
    "    # x = Dropout(0.5)(x)\n",
    "    x = Conv1D(\n",
    "        filters=32, \n",
    "        kernel_size=5,\n",
    "        # kernel_size=10,\n",
    "        # kernel_size=5 * 8,\n",
    "        activation=act, use_bias=True, \n",
    "        # padding='SAME',\n",
    "        padding='VALID',\n",
    "        kernel_regularizer=reg, \n",
    "        bias_regularizer=reg,\n",
    "        kernel_initializer=initializer, \n",
    "        # bias_initializer=initializer,\n",
    "        # kernel_constraint=conv1d_mean_zero, # good?\n",
    "    )(x)\n",
    "    # x = MaxPooling1D(2)(x)\n",
    "    # x = Dropout(0.5)(x)\n",
    "    x = Conv1D(\n",
    "        filters=32,\n",
    "        kernel_size=5,\n",
    "        # kernel_size=10,\n",
    "        # kernel_size=5 * 8,\n",
    "        activation=act, use_bias=True, \n",
    "        # padding='SAME',\n",
    "        padding='VALID',\n",
    "        kernel_regularizer=reg, \n",
    "        bias_regularizer=reg,\n",
    "        kernel_initializer=initializer, \n",
    "        # bias_initializer=initializer,\n",
    "        # kernel_constraint=conv1d_mean_zero,\n",
    "    )(x)\n",
    "    # x = Dropout(0.5)(x)\n",
    "    # x = Conv1D(\n",
    "    #     filters=32, \n",
    "    #     kernel_size=4,\n",
    "    #     activation=act, use_bias=True, \n",
    "    #     # padding='SAME',\n",
    "    #     padding='VALID',\n",
    "    #     kernel_regularizer=reg, \n",
    "    #     bias_regularizer=reg,\n",
    "    #     kernel_initializer=initializer, \n",
    "    #     # bias_initializer=initializer,\n",
    "    # )(x)\n",
    "    # x = Dropout(0.5)(x)\n",
    "    x = MaxPooling1D(2)(x) # good?\n",
    "    # x = AveragePooling1D(2)(x)\n",
    "    # x = AveragePooling1D(2)(x)\n",
    "    # x = AveragePooling1D(2)(x)\n",
    "    # x = GlobalMaxPooling1D()(x)\n",
    "    # x = GlobalAveragePooling1D()(x)\n",
    "    x = Flatten()(x)\n",
    "    \n",
    "#     depth = 2 + idx * 0\n",
    "#     for i in range(depth):\n",
    "#         t = 1.0 * i / (depth - 1)\n",
    "#         x_prev = x\n",
    "        \n",
    "#         dist_reg = DistanceL2(l2_dist)\n",
    "#         dist_regs.append(dist_reg)\n",
    "#         mars_constraint = MarsConstraint(8)\n",
    "#         mars_constraints.append(mars_constraint)\n",
    "#         # dense = GaussianDropConnectDense(\n",
    "#         dense = Dense(\n",
    "#             # size,\n",
    "#             # 32,\n",
    "#             # 64,\n",
    "#             128, # good with l2 reg\n",
    "#             # 256,\n",
    "#             # int(np.exp(np.log(64) * (1 - t) + np.log(64) * t)),\n",
    "#             # 64 if i == 0 else 128,\n",
    "#             activation=act, \n",
    "#             # activation=None,\n",
    "#             use_bias=True,\n",
    "#             # use_bias=False,\n",
    "#             # kernel_regularizer=reg_l1, \n",
    "#             kernel_regularizer=reg,\n",
    "#             # kernel_regularizer=dist_reg,\n",
    "#             # kernel_regularizer=reg2,\n",
    "#             bias_regularizer=reg,\n",
    "#             # kernel_initializer='zeros' if i > 0 else initializer,\n",
    "#             kernel_initializer=initializer, \n",
    "#             bias_initializer=bias_initializer,\n",
    "#             # kernel_constraint=mars_constraint,\n",
    "#             # kernel_constraint=SparseConstraint(np.random.binomial(1, 1.0 / 64, size=(input_size, size))) # bad\n",
    "#         )\n",
    "#         dist_reg_layers.append(dense)\n",
    "#         # dense = GaussianDropConnect(dense, rate=0.2)\n",
    "#         x = dense(x)\n",
    "#         # x = BatchNormalization()(x)\n",
    "#         # def smooth_units(x):\n",
    "#         #     return (x[:, 1:] + x[:, :-1]) / 2\n",
    "#         #     # return (x[:, 3:] + x[:, 2:-1] + x[:, 1:-2] + x[:, :-3]) / 4\n",
    "#         # x = Lambda(smooth_units)(x)\n",
    "#         # x = Activation(act)(x)\n",
    "#         # x = Lambda(smooth_units)(x)\n",
    "#         # if i > 0:\n",
    "#         #     x = Add()([x, x_prev])\n",
    "#         # if i == 9:\n",
    "#         #     x = tf.keras.layers.GaussianDropout(0.5)(x)\n",
    "#         # x = tf.keras.layers.GaussianDropout(dropout_rate)(x)\n",
    "#         # x = Dropout(dropout_rate)(x)\n",
    "#         # x = Dropout(0.1)(x)\n",
    "#         # x = tf.keras.layers.GaussianDropout(0.1)(x)\n",
    "        \n",
    "#         hidden_outputs.append(x)\n",
    "\n",
    "        \n",
    "    # x = Concatenate()(hidden_outputs)\n",
    "    \n",
    "    # x = Reshape((-1, 1))(x)\n",
    "    # x = AveragePooling1D(2)(x)\n",
    "    # x = Flatten()(x)\n",
    "    # x = Dropout(dropout_rate)(x)\n",
    "    # x = tf.keras.layers.GaussianDropout(dropout_rate)(x)\n",
    "    # x = tf.keras.layers.GaussianDropout(0.995)(x)\n",
    "    # x = tf.keras.layers.GaussianDropout(0.9)(x)\n",
    "    # x = tf.keras.layers.GaussianDropout(1.0 - 0.01 / 2 ** 0.5)(x)\n",
    "    # x = tf.keras.layers.GaussianNoise(100)(x) # bad\n",
    "\n",
    "    dist_reg = DistanceL2(l2_dist)\n",
    "    dist_regs.append(dist_reg)\n",
    "    # d3 = tfa.layers.NoisyDense(\n",
    "    # d3 = GaussianDropConnectDense(\n",
    "    d3 = Dense(\n",
    "        1,\n",
    "        # activation='linear',\n",
    "        # activation='tanh', # good\n",
    "        # activation='sigmoid',\n",
    "        # use_factorised=False,\n",
    "        use_bias=True, \n",
    "        # use_bias=False, \n",
    "        kernel_regularizer=reg, \n",
    "        # kernel_regularizer=dist_reg,\n",
    "        # kernel_regularizer=reg3, \n",
    "        bias_regularizer=reg,\n",
    "        kernel_initializer=initializer,\n",
    "        # kernel_initializer='glorot_uniform',\n",
    "        # kernel_initializer='zeros',\n",
    "        # bias_initializer=initializer,\n",
    "    )\n",
    "    dist_reg_layers.append(d3)\n",
    "    # d3 = GaussianDropConnect(d3, rate=0.2)\n",
    "    x = d3(x)\n",
    "    # x = Rescaling(0.1)(x)\n",
    "    x = Rescaling(0.01)(x)\n",
    "    # x = Rescaling(1 - dropout_rate)(x) # good?\n",
    "    # x = Rescaling(0.04)(x)\n",
    "    def scale_output_train(x):\n",
    "        return x * 2.0\n",
    "    x = LambdaTrain(scale_output_train)(x)\n",
    "    x = Activation('tanh')(x) # good\n",
    "    \n",
    "    model = Model(inputs=inputs, outputs=x)\n",
    "    \n",
    "    def make_gc_opt(klass):\n",
    "        class GCOpt(klass):\n",
    "            def get_gradients(self, loss, params):\n",
    "                grads = []\n",
    "                gradients = super().get_gradients()\n",
    "                for grad in gradients:\n",
    "                    grad_len = len(grad.shape)\n",
    "                    if grad_len > 1:\n",
    "                        axis = list(range(grad_len - 1))\n",
    "                        grad -= tf.reduce_mean(grad, axis=axis, keep_dims=True)\n",
    "                    grads.append(grad)\n",
    "                return grads\n",
    "        return GCOpt\n",
    "    \n",
    "    # def _get_gradients(self, tape, loss, var_list, grad_loss=None):\n",
    "    #     \"\"\"Called in `minimize` to compute gradients from loss.\"\"\"\n",
    "    #     grads = tape.gradient(loss, var_list, grad_loss)\n",
    "    #     return list(zip(grads, var_list))\n",
    "    \n",
    "    def make_gaussian_drop_connect_opt(klass):\n",
    "        class GaussianDropConnectOpt(klass):\n",
    "            def _get_gradients(self, tape, loss, var_list, grad_loss=None):\n",
    "                print('BBB')\n",
    "                # print(var_list)\n",
    "                # drop_connect_rate = 0.9\n",
    "                # sigma = np.sqrt(drop_connect_rate / (1.0 - drop_connect_rate))\n",
    "                # orig_var_list = []\n",
    "                # for w in var_list:\n",
    "                #     orig_var_list.append(w)\n",
    "                #     w.assign(w * tf.keras.backend.random_normal(\n",
    "                #         shape=tf.shape(w),\n",
    "                #         mean=1.0,\n",
    "                #         stddev=sigma,\n",
    "                #         dtype=w.dtype,\n",
    "                #         seed=None\n",
    "                #     ))\n",
    "                #     # w2 = tf.identity(w2, name=w.name)\n",
    "                #     # w2 = tf.Variable(w2, name=w.name)\n",
    "                #     # print(w2)\n",
    "                #     # var_list2.append(w2)\n",
    "                grads = tape.gradient(loss, var_list, grad_loss)\n",
    "                # print(grads)\n",
    "                return list(zip(grads, var_list))\n",
    "            \n",
    "            def get_gradients(self, loss, params):\n",
    "                print('AAA')\n",
    "                grads = []\n",
    "                params2 = []\n",
    "                drop_connect_rate = 0.9\n",
    "                sigma = np.sqrt(drop_connect_rate / (1.0 - drop_connect_rate))\n",
    "                for p in params:\n",
    "                    p = p * tf.keras.backend.random_normal(\n",
    "                        shape=tf.shape(p),\n",
    "                        mean=1.0,\n",
    "                        stddev=sigma,\n",
    "                        dtype=p.dtype,\n",
    "                        seed=None\n",
    "                    )\n",
    "                    params2.append(p)\n",
    "                    \n",
    "                return super().get_gradients(loss, params2)\n",
    "        return GaussianDropConnectOpt\n",
    "        \n",
    "    class AdamWNoise(tfa.optimizers.AdamW):\n",
    "        def get_gradients(self, loss, params):\n",
    "            grads = []\n",
    "            gradients = super().get_gradients()\n",
    "            for grad in gradients:\n",
    "                grad += tf.random_normal(\n",
    "                    shape=grad.get_shape(), \n",
    "                    mean=0.0, \n",
    "                    stddev=1e-3\n",
    "                )\n",
    "                grads.append(grad)\n",
    "            return grads\n",
    "    \n",
    "    # opt = tfa.optimizers.SGDW(\n",
    "        # weight_decay=1e-4,\n",
    "    # opt = SGD(\n",
    "    #     learning_rate=0.01 / 8,\n",
    "    #     # learning_rate=0.1,\n",
    "    #     # learning_rate=0.1 / 8,\n",
    "    #     # learning_rate=1,\n",
    "    #     momentum=1.0 - 0.1 / 8, \n",
    "    #     # nesterov=True,\n",
    "    # )\n",
    "    \n",
    "    # opt = GCNadam(\n",
    "    opt = Nadam(\n",
    "        # learning_rate=0.002 * 1e-1,\n",
    "        learning_rate=0.002,\n",
    "        beta_1=0.9, \n",
    "        # beta_1=0.5,\n",
    "        # beta_2=0.9,\n",
    "        beta_2=0.999,\n",
    "        epsilon=None,\n",
    "        # epsilon=1e-1,\n",
    "        # epsilon=1e-3,\n",
    "        schedule_decay=0.004,\n",
    "    )\n",
    "    # opt = tfa.optimizers.AdaBelief(\n",
    "    #     # learning_rate=0.001,\n",
    "    #     learning_rate=0.001 / 8,\n",
    "    #     # learning_rate=0.001 / 8 / 8,\n",
    "    #     # learning_rate=0.001 / 8 / 8 / 8,\n",
    "    #     # total_steps=1200,\n",
    "    #     # warmup_proportion=0.1,\n",
    "    #     # min_lr=1e-5,\n",
    "    #     # rectify=True,\n",
    "    #     # weight_decay=1e-2,\n",
    "    #     # weight_decay=1e-3,\n",
    "    #     # epsilon=1e-10,\n",
    "    # )\n",
    "    # opt = tfa.optimizers.Lookahead(opt)\n",
    "    # opt = Adam(\n",
    "    #     learning_rate=0.001,\n",
    "    #     beta_1=0.9, \n",
    "    #     beta_2=0.999, \n",
    "    #     epsilon=None, \n",
    "    #     decay=0.0,\n",
    "    #     # amsgrad=True\n",
    "    # )\n",
    "    # opt = AdamWNoise(\n",
    "    # opt = tfa.optimizers.AdamW(\n",
    "    # # # opt = make_gaussian_drop_connect_opt(tfa.optimizers.AdamW)(\n",
    "    #     learning_rate=0.002,\n",
    "    #     # learning_rate=0.002 * 1e-1,\n",
    "    #     # learning_rate=0.001 * 1e-1,\n",
    "    #     # learning_rate=0.002 * 1e-2,\n",
    "    #     # weight_decay=1e-2,\n",
    "    #     weight_decay=1e-3,\n",
    "    #     # weight_decay=1e-4,\n",
    "    #     # weight_decay=1e-5,\n",
    "    #     # weight_decay=1e-7,\n",
    "    #     # beta_1=0.1,\n",
    "    # )\n",
    "    \n",
    "    def my_loss_fn(y_true, y_pred):\n",
    "        # return tf.reduce_mean(tf.square(tf.sign(y_true) - y_pred) * tf.abs(y_true))\n",
    "        # return -tf.reduce_mean(y_pred * y_true) / (1e-37 + tf.reduce_mean(y_pred ** 2) ** 0.5) # good\n",
    "        # return -tf.reduce_mean(y_pred * y_true) / (1e-37 + tf.reduce_mean(tf.abs(y_pred))) # bad\n",
    "        # ret = tf.reduce_sum(y_pred * y_true, axis=-1)\n",
    "        # ret /= 1e-37 + tf.reduce_sum(tf.abs(y_pred), axis=-1)\n",
    "        # return tf.reduce_mean(-ret + ret ** 2)\n",
    "        \n",
    "        ret = y_pred * y_true\n",
    "        sharpe = tf.reduce_mean(ret) / (tf.reduce_mean(ret ** 2) ** 0.5)\n",
    "        return -sharpe\n",
    "        # return -sharpe + sharpe ** 2\n",
    "        \n",
    "        # p = (y_pred * 0.999 + 1) / 2\n",
    "        # one_true_p = tf.where(y_true == 1, 0.8, 0.0)\n",
    "        # zero_true_p = 1.0 - one_true_p\n",
    "        # return -one_true_p * tf.math.log(p) - zero_true_p * tf.math.log(1 - p)\n",
    "        # return (y_true - y_pred) ** 2\n",
    "    \n",
    "    model.compile(\n",
    "        optimizer=opt,\n",
    "        loss='mse', # good for sign ret\n",
    "        # loss='logcosh', # good for raw ret\n",
    "        # loss='mae', # good for raw ret\n",
    "        # loss=my_loss_fn,\n",
    "        # loss='binary_crossentropy',\n",
    "        # loss='hinge',\n",
    "        # loss='squared_hinge',\n",
    "        # loss='cosine_similarity',\n",
    "        metrics=[\n",
    "            'mse',\n",
    "            # 'accuracy',\n",
    "        ],\n",
    "        weighted_metrics=[\n",
    "            'mse',\n",
    "            'cosine_similarity',\n",
    "            # 'logcosh',\n",
    "            # tfa.metrics.RSquare(),\n",
    "        ]\n",
    "    )\n",
    "    \n",
    "    for i, dist_reg in enumerate(dist_regs):\n",
    "        dist_reg.initial_x = dist_reg_layers[i].get_weights()[0]\n",
    "    for i, mars_constraint in enumerate(mars_constraints):\n",
    "        mars_constraint.initial_weight = dist_reg_layers[i].get_weights()[0]\n",
    "    \n",
    "    # reg_cnn1.initial_x = cnn1.get_weights()[0]\n",
    "    # reg_cnn2.initial_x = cnn2.get_weights()[0]\n",
    "    # reg_cnn3.initial_x = cnn3.get_weights()[0]\n",
    "    # reg1.initial_x = d1.get_weights()[0]\n",
    "    # reg2.initial_x = d2.get_weights()[0]\n",
    "    # reg3.initial_x = d3.get_weights()[0]\n",
    "    \n",
    "    return model"
   ]
  },
  {
   "cell_type": "code",
   "execution_count": 11,
   "id": "1548a492-8fae-412c-bd3f-d9a0cb7b9985",
   "metadata": {
    "execution": {
     "iopub.execute_input": "2022-11-09T13:37:02.695361Z",
     "iopub.status.busy": "2022-11-09T13:37:02.693969Z",
     "iopub.status.idle": "2022-11-09T15:13:18.161205Z",
     "shell.execute_reply": "2022-11-09T15:13:18.160001Z"
    }
   },
   "outputs": [
    {
     "name": "stdout",
     "output_type": "stream",
     "text": [
      "float32\n",
      "fit df.shape (201190, 39)\n"
     ]
    },
    {
     "name": "stderr",
     "output_type": "stream",
     "text": [
      "2022-11-09 13:37:25.595266: W tensorflow/stream_executor/platform/default/dso_loader.cc:64] Could not load dynamic library 'libcuda.so.1'; dlerror: libcuda.so.1: cannot open shared object file: No such file or directory\n",
      "2022-11-09 13:37:25.595329: W tensorflow/stream_executor/cuda/cuda_driver.cc:263] failed call to cuInit: UNKNOWN ERROR (303)\n",
      "2022-11-09 13:37:25.595359: I tensorflow/stream_executor/cuda/cuda_diagnostics.cc:156] kernel driver does not appear to be running on this host (f2e5dfb506bd): /proc/driver/nvidia/version does not exist\n",
      "2022-11-09 13:37:25.595682: I tensorflow/core/platform/cpu_feature_guard.cc:193] This TensorFlow binary is optimized with oneAPI Deep Neural Network Library (oneDNN) to use the following CPU instructions in performance-critical operations:  AVX2 FMA\n",
      "To enable them in other operations, rebuild TensorFlow with the appropriate compiler flags.\n",
      "WARNING:absl:Found untraced functions such as _jit_compiled_convolution_op, _jit_compiled_convolution_op while saving (showing 2 of 2). These functions will not be directly callable after loading.\n"
     ]
    },
    {
     "name": "stdout",
     "output_type": "stream",
     "text": [
      "INFO:tensorflow:Assets written to: /tmp/tmpdkpe9yyz/assets\n"
     ]
    },
    {
     "name": "stderr",
     "output_type": "stream",
     "text": [
      "INFO:tensorflow:Assets written to: /tmp/tmpdkpe9yyz/assets\n",
      "2022-11-09 13:42:33.040396: W tensorflow/compiler/mlir/lite/python/tf_tfl_flatbuffer_helpers.cc:362] Ignored output_format.\n",
      "2022-11-09 13:42:33.040485: W tensorflow/compiler/mlir/lite/python/tf_tfl_flatbuffer_helpers.cc:365] Ignored drop_control_dependency.\n",
      "2022-11-09 13:42:33.041414: I tensorflow/cc/saved_model/reader.cc:45] Reading SavedModel from: /tmp/tmpdkpe9yyz\n",
      "2022-11-09 13:42:33.043573: I tensorflow/cc/saved_model/reader.cc:89] Reading meta graph with tags { serve }\n",
      "2022-11-09 13:42:33.043613: I tensorflow/cc/saved_model/reader.cc:130] Reading SavedModel debug info (if present) from: /tmp/tmpdkpe9yyz\n",
      "2022-11-09 13:42:33.052807: I tensorflow/compiler/mlir/mlir_graph_optimization_pass.cc:354] MLIR V1 optimization pass is not enabled\n",
      "2022-11-09 13:42:33.054674: I tensorflow/cc/saved_model/loader.cc:229] Restoring SavedModel bundle.\n",
      "2022-11-09 13:42:33.113459: I tensorflow/cc/saved_model/loader.cc:213] Running initialization op on SavedModel bundle at path: /tmp/tmpdkpe9yyz\n",
      "2022-11-09 13:42:33.128973: I tensorflow/cc/saved_model/loader.cc:305] SavedModel load for tags { serve }; Status: success: OK. Took 87619 microseconds.\n",
      "2022-11-09 13:42:33.160226: I tensorflow/compiler/mlir/tensorflow/utils/dump_mlir_util.cc:268] disabling MLIR crash reproducer, set env var `MLIR_CRASH_REPRODUCER_DIRECTORY` to enable.\n",
      "WARNING:absl:Found untraced functions such as _jit_compiled_convolution_op, _jit_compiled_convolution_op while saving (showing 2 of 2). These functions will not be directly callable after loading.\n"
     ]
    },
    {
     "name": "stdout",
     "output_type": "stream",
     "text": [
      "INFO:tensorflow:Assets written to: /tmp/tmpvx57ke9d/assets\n"
     ]
    },
    {
     "name": "stderr",
     "output_type": "stream",
     "text": [
      "INFO:tensorflow:Assets written to: /tmp/tmpvx57ke9d/assets\n",
      "2022-11-09 13:42:34.961932: W tensorflow/compiler/mlir/lite/python/tf_tfl_flatbuffer_helpers.cc:362] Ignored output_format.\n",
      "2022-11-09 13:42:34.962022: W tensorflow/compiler/mlir/lite/python/tf_tfl_flatbuffer_helpers.cc:365] Ignored drop_control_dependency.\n",
      "2022-11-09 13:42:34.962219: I tensorflow/cc/saved_model/reader.cc:45] Reading SavedModel from: /tmp/tmpvx57ke9d\n",
      "2022-11-09 13:42:34.964953: I tensorflow/cc/saved_model/reader.cc:89] Reading meta graph with tags { serve }\n",
      "2022-11-09 13:42:34.964997: I tensorflow/cc/saved_model/reader.cc:130] Reading SavedModel debug info (if present) from: /tmp/tmpvx57ke9d\n",
      "2022-11-09 13:42:34.981561: I tensorflow/cc/saved_model/loader.cc:229] Restoring SavedModel bundle.\n",
      "2022-11-09 13:42:35.045168: I tensorflow/cc/saved_model/loader.cc:213] Running initialization op on SavedModel bundle at path: /tmp/tmpvx57ke9d\n",
      "2022-11-09 13:42:35.061198: I tensorflow/cc/saved_model/loader.cc:305] SavedModel load for tags { serve }; Status: success: OK. Took 98978 microseconds.\n",
      "WARNING:absl:Found untraced functions such as _jit_compiled_convolution_op, _jit_compiled_convolution_op while saving (showing 2 of 2). These functions will not be directly callable after loading.\n"
     ]
    },
    {
     "name": "stdout",
     "output_type": "stream",
     "text": [
      "INFO:tensorflow:Assets written to: /tmp/tmph3fbc0io/assets\n"
     ]
    },
    {
     "name": "stderr",
     "output_type": "stream",
     "text": [
      "INFO:tensorflow:Assets written to: /tmp/tmph3fbc0io/assets\n",
      "2022-11-09 13:42:37.603101: W tensorflow/compiler/mlir/lite/python/tf_tfl_flatbuffer_helpers.cc:362] Ignored output_format.\n",
      "2022-11-09 13:42:37.603192: W tensorflow/compiler/mlir/lite/python/tf_tfl_flatbuffer_helpers.cc:365] Ignored drop_control_dependency.\n",
      "2022-11-09 13:42:37.603411: I tensorflow/cc/saved_model/reader.cc:45] Reading SavedModel from: /tmp/tmph3fbc0io\n",
      "2022-11-09 13:42:37.608190: I tensorflow/cc/saved_model/reader.cc:89] Reading meta graph with tags { serve }\n",
      "2022-11-09 13:42:37.608278: I tensorflow/cc/saved_model/reader.cc:130] Reading SavedModel debug info (if present) from: /tmp/tmph3fbc0io\n",
      "2022-11-09 13:42:37.624698: I tensorflow/cc/saved_model/loader.cc:229] Restoring SavedModel bundle.\n",
      "2022-11-09 13:42:37.703375: I tensorflow/cc/saved_model/loader.cc:213] Running initialization op on SavedModel bundle at path: /tmp/tmph3fbc0io\n",
      "2022-11-09 13:42:37.726132: I tensorflow/cc/saved_model/loader.cc:305] SavedModel load for tags { serve }; Status: success: OK. Took 122722 microseconds.\n",
      "WARNING:absl:Found untraced functions such as _jit_compiled_convolution_op, _jit_compiled_convolution_op while saving (showing 2 of 2). These functions will not be directly callable after loading.\n"
     ]
    },
    {
     "name": "stdout",
     "output_type": "stream",
     "text": [
      "INFO:tensorflow:Assets written to: /tmp/tmp0xyytgzl/assets\n"
     ]
    },
    {
     "name": "stderr",
     "output_type": "stream",
     "text": [
      "INFO:tensorflow:Assets written to: /tmp/tmp0xyytgzl/assets\n",
      "2022-11-09 13:42:39.618620: W tensorflow/compiler/mlir/lite/python/tf_tfl_flatbuffer_helpers.cc:362] Ignored output_format.\n",
      "2022-11-09 13:42:39.618709: W tensorflow/compiler/mlir/lite/python/tf_tfl_flatbuffer_helpers.cc:365] Ignored drop_control_dependency.\n",
      "2022-11-09 13:42:39.618903: I tensorflow/cc/saved_model/reader.cc:45] Reading SavedModel from: /tmp/tmp0xyytgzl\n",
      "2022-11-09 13:42:39.621326: I tensorflow/cc/saved_model/reader.cc:89] Reading meta graph with tags { serve }\n",
      "2022-11-09 13:42:39.621370: I tensorflow/cc/saved_model/reader.cc:130] Reading SavedModel debug info (if present) from: /tmp/tmp0xyytgzl\n",
      "2022-11-09 13:42:39.628787: I tensorflow/cc/saved_model/loader.cc:229] Restoring SavedModel bundle.\n",
      "2022-11-09 13:42:39.689458: I tensorflow/cc/saved_model/loader.cc:213] Running initialization op on SavedModel bundle at path: /tmp/tmp0xyytgzl\n",
      "2022-11-09 13:42:39.705366: I tensorflow/cc/saved_model/loader.cc:305] SavedModel load for tags { serve }; Status: success: OK. Took 86462 microseconds.\n",
      "WARNING:absl:Found untraced functions such as _jit_compiled_convolution_op, _jit_compiled_convolution_op while saving (showing 2 of 2). These functions will not be directly callable after loading.\n"
     ]
    },
    {
     "name": "stdout",
     "output_type": "stream",
     "text": [
      "INFO:tensorflow:Assets written to: /tmp/tmpjeg9ere6/assets\n"
     ]
    },
    {
     "name": "stderr",
     "output_type": "stream",
     "text": [
      "INFO:tensorflow:Assets written to: /tmp/tmpjeg9ere6/assets\n",
      "2022-11-09 13:42:41.483785: W tensorflow/compiler/mlir/lite/python/tf_tfl_flatbuffer_helpers.cc:362] Ignored output_format.\n",
      "2022-11-09 13:42:41.483877: W tensorflow/compiler/mlir/lite/python/tf_tfl_flatbuffer_helpers.cc:365] Ignored drop_control_dependency.\n",
      "2022-11-09 13:42:41.484072: I tensorflow/cc/saved_model/reader.cc:45] Reading SavedModel from: /tmp/tmpjeg9ere6\n",
      "2022-11-09 13:42:41.486234: I tensorflow/cc/saved_model/reader.cc:89] Reading meta graph with tags { serve }\n",
      "2022-11-09 13:42:41.486276: I tensorflow/cc/saved_model/reader.cc:130] Reading SavedModel debug info (if present) from: /tmp/tmpjeg9ere6\n",
      "2022-11-09 13:42:41.493266: I tensorflow/cc/saved_model/loader.cc:229] Restoring SavedModel bundle.\n",
      "2022-11-09 13:42:41.553715: I tensorflow/cc/saved_model/loader.cc:213] Running initialization op on SavedModel bundle at path: /tmp/tmpjeg9ere6\n",
      "2022-11-09 13:42:41.569191: I tensorflow/cc/saved_model/loader.cc:305] SavedModel load for tags { serve }; Status: success: OK. Took 85118 microseconds.\n",
      "WARNING:absl:Found untraced functions such as _jit_compiled_convolution_op, _jit_compiled_convolution_op while saving (showing 2 of 2). These functions will not be directly callable after loading.\n"
     ]
    },
    {
     "name": "stdout",
     "output_type": "stream",
     "text": [
      "INFO:tensorflow:Assets written to: /tmp/tmphko__4cs/assets\n"
     ]
    },
    {
     "name": "stderr",
     "output_type": "stream",
     "text": [
      "INFO:tensorflow:Assets written to: /tmp/tmphko__4cs/assets\n",
      "2022-11-09 13:42:43.341081: W tensorflow/compiler/mlir/lite/python/tf_tfl_flatbuffer_helpers.cc:362] Ignored output_format.\n",
      "2022-11-09 13:42:43.341175: W tensorflow/compiler/mlir/lite/python/tf_tfl_flatbuffer_helpers.cc:365] Ignored drop_control_dependency.\n",
      "2022-11-09 13:42:43.341372: I tensorflow/cc/saved_model/reader.cc:45] Reading SavedModel from: /tmp/tmphko__4cs\n",
      "2022-11-09 13:42:43.343497: I tensorflow/cc/saved_model/reader.cc:89] Reading meta graph with tags { serve }\n",
      "2022-11-09 13:42:43.343538: I tensorflow/cc/saved_model/reader.cc:130] Reading SavedModel debug info (if present) from: /tmp/tmphko__4cs\n",
      "2022-11-09 13:42:43.350486: I tensorflow/cc/saved_model/loader.cc:229] Restoring SavedModel bundle.\n",
      "2022-11-09 13:42:43.409578: I tensorflow/cc/saved_model/loader.cc:213] Running initialization op on SavedModel bundle at path: /tmp/tmphko__4cs\n",
      "2022-11-09 13:42:43.424558: I tensorflow/cc/saved_model/loader.cc:305] SavedModel load for tags { serve }; Status: success: OK. Took 83186 microseconds.\n",
      "WARNING:absl:Found untraced functions such as _jit_compiled_convolution_op, _jit_compiled_convolution_op while saving (showing 2 of 2). These functions will not be directly callable after loading.\n"
     ]
    },
    {
     "name": "stdout",
     "output_type": "stream",
     "text": [
      "INFO:tensorflow:Assets written to: /tmp/tmp5kc7i7kb/assets\n"
     ]
    },
    {
     "name": "stderr",
     "output_type": "stream",
     "text": [
      "INFO:tensorflow:Assets written to: /tmp/tmp5kc7i7kb/assets\n",
      "2022-11-09 13:42:45.484107: W tensorflow/compiler/mlir/lite/python/tf_tfl_flatbuffer_helpers.cc:362] Ignored output_format.\n",
      "2022-11-09 13:42:45.484231: W tensorflow/compiler/mlir/lite/python/tf_tfl_flatbuffer_helpers.cc:365] Ignored drop_control_dependency.\n",
      "2022-11-09 13:42:45.484614: I tensorflow/cc/saved_model/reader.cc:45] Reading SavedModel from: /tmp/tmp5kc7i7kb\n",
      "2022-11-09 13:42:45.487258: I tensorflow/cc/saved_model/reader.cc:89] Reading meta graph with tags { serve }\n",
      "2022-11-09 13:42:45.487309: I tensorflow/cc/saved_model/reader.cc:130] Reading SavedModel debug info (if present) from: /tmp/tmp5kc7i7kb\n",
      "2022-11-09 13:42:45.495926: I tensorflow/cc/saved_model/loader.cc:229] Restoring SavedModel bundle.\n",
      "2022-11-09 13:42:45.566879: I tensorflow/cc/saved_model/loader.cc:213] Running initialization op on SavedModel bundle at path: /tmp/tmp5kc7i7kb\n",
      "2022-11-09 13:42:45.586304: I tensorflow/cc/saved_model/loader.cc:305] SavedModel load for tags { serve }; Status: success: OK. Took 101690 microseconds.\n",
      "WARNING:absl:Found untraced functions such as _jit_compiled_convolution_op, _jit_compiled_convolution_op while saving (showing 2 of 2). These functions will not be directly callable after loading.\n"
     ]
    },
    {
     "name": "stdout",
     "output_type": "stream",
     "text": [
      "INFO:tensorflow:Assets written to: /tmp/tmpcb_t8exs/assets\n"
     ]
    },
    {
     "name": "stderr",
     "output_type": "stream",
     "text": [
      "INFO:tensorflow:Assets written to: /tmp/tmpcb_t8exs/assets\n",
      "2022-11-09 13:42:47.417783: W tensorflow/compiler/mlir/lite/python/tf_tfl_flatbuffer_helpers.cc:362] Ignored output_format.\n",
      "2022-11-09 13:42:47.417882: W tensorflow/compiler/mlir/lite/python/tf_tfl_flatbuffer_helpers.cc:365] Ignored drop_control_dependency.\n",
      "2022-11-09 13:42:47.418079: I tensorflow/cc/saved_model/reader.cc:45] Reading SavedModel from: /tmp/tmpcb_t8exs\n",
      "2022-11-09 13:42:47.420233: I tensorflow/cc/saved_model/reader.cc:89] Reading meta graph with tags { serve }\n",
      "2022-11-09 13:42:47.420276: I tensorflow/cc/saved_model/reader.cc:130] Reading SavedModel debug info (if present) from: /tmp/tmpcb_t8exs\n",
      "2022-11-09 13:42:47.427199: I tensorflow/cc/saved_model/loader.cc:229] Restoring SavedModel bundle.\n",
      "2022-11-09 13:42:47.486623: I tensorflow/cc/saved_model/loader.cc:213] Running initialization op on SavedModel bundle at path: /tmp/tmpcb_t8exs\n",
      "2022-11-09 13:42:47.502613: I tensorflow/cc/saved_model/loader.cc:305] SavedModel load for tags { serve }; Status: success: OK. Took 84533 microseconds.\n",
      "WARNING:absl:Found untraced functions such as _jit_compiled_convolution_op, _jit_compiled_convolution_op while saving (showing 2 of 2). These functions will not be directly callable after loading.\n"
     ]
    },
    {
     "name": "stdout",
     "output_type": "stream",
     "text": [
      "INFO:tensorflow:Assets written to: /tmp/tmp3z2wte7p/assets\n"
     ]
    },
    {
     "name": "stderr",
     "output_type": "stream",
     "text": [
      "INFO:tensorflow:Assets written to: /tmp/tmp3z2wte7p/assets\n",
      "2022-11-09 13:42:49.267613: W tensorflow/compiler/mlir/lite/python/tf_tfl_flatbuffer_helpers.cc:362] Ignored output_format.\n",
      "2022-11-09 13:42:49.267703: W tensorflow/compiler/mlir/lite/python/tf_tfl_flatbuffer_helpers.cc:365] Ignored drop_control_dependency.\n",
      "2022-11-09 13:42:49.267899: I tensorflow/cc/saved_model/reader.cc:45] Reading SavedModel from: /tmp/tmp3z2wte7p\n",
      "2022-11-09 13:42:49.270065: I tensorflow/cc/saved_model/reader.cc:89] Reading meta graph with tags { serve }\n",
      "2022-11-09 13:42:49.270108: I tensorflow/cc/saved_model/reader.cc:130] Reading SavedModel debug info (if present) from: /tmp/tmp3z2wte7p\n",
      "2022-11-09 13:42:49.277278: I tensorflow/cc/saved_model/loader.cc:229] Restoring SavedModel bundle.\n",
      "2022-11-09 13:42:49.336503: I tensorflow/cc/saved_model/loader.cc:213] Running initialization op on SavedModel bundle at path: /tmp/tmp3z2wte7p\n",
      "2022-11-09 13:42:49.352077: I tensorflow/cc/saved_model/loader.cc:305] SavedModel load for tags { serve }; Status: success: OK. Took 84177 microseconds.\n",
      "WARNING:absl:Found untraced functions such as _jit_compiled_convolution_op, _jit_compiled_convolution_op while saving (showing 2 of 2). These functions will not be directly callable after loading.\n"
     ]
    },
    {
     "name": "stdout",
     "output_type": "stream",
     "text": [
      "INFO:tensorflow:Assets written to: /tmp/tmp2fd1m07z/assets\n"
     ]
    },
    {
     "name": "stderr",
     "output_type": "stream",
     "text": [
      "INFO:tensorflow:Assets written to: /tmp/tmp2fd1m07z/assets\n",
      "2022-11-09 13:42:51.129609: W tensorflow/compiler/mlir/lite/python/tf_tfl_flatbuffer_helpers.cc:362] Ignored output_format.\n",
      "2022-11-09 13:42:51.129684: W tensorflow/compiler/mlir/lite/python/tf_tfl_flatbuffer_helpers.cc:365] Ignored drop_control_dependency.\n",
      "2022-11-09 13:42:51.129877: I tensorflow/cc/saved_model/reader.cc:45] Reading SavedModel from: /tmp/tmp2fd1m07z\n",
      "2022-11-09 13:42:51.131985: I tensorflow/cc/saved_model/reader.cc:89] Reading meta graph with tags { serve }\n",
      "2022-11-09 13:42:51.132027: I tensorflow/cc/saved_model/reader.cc:130] Reading SavedModel debug info (if present) from: /tmp/tmp2fd1m07z\n",
      "2022-11-09 13:42:51.139066: I tensorflow/cc/saved_model/loader.cc:229] Restoring SavedModel bundle.\n",
      "2022-11-09 13:42:51.198231: I tensorflow/cc/saved_model/loader.cc:213] Running initialization op on SavedModel bundle at path: /tmp/tmp2fd1m07z\n",
      "2022-11-09 13:42:51.213552: I tensorflow/cc/saved_model/loader.cc:305] SavedModel load for tags { serve }; Status: success: OK. Took 83674 microseconds.\n"
     ]
    },
    {
     "data": {
      "image/png": "[encoded data removed]",
      "text/plain": [
       "<Figure size 640x480 with 1 Axes>"
      ]
     },
     "metadata": {},
     "output_type": "display_data"
    },
    {
     "name": "stdout",
     "output_type": "stream",
     "text": [
      "fit df.shape (186931, 39)\n"
     ]
    },
    {
     "name": "stderr",
     "output_type": "stream",
     "text": [
      "WARNING:absl:Found untraced functions such as _jit_compiled_convolution_op, _jit_compiled_convolution_op while saving (showing 2 of 2). These functions will not be directly callable after loading.\n"
     ]
    },
    {
     "name": "stdout",
     "output_type": "stream",
     "text": [
      "INFO:tensorflow:Assets written to: /tmp/tmpzyx2tfyc/assets\n"
     ]
    },
    {
     "name": "stderr",
     "output_type": "stream",
     "text": [
      "INFO:tensorflow:Assets written to: /tmp/tmpzyx2tfyc/assets\n",
      "2022-11-09 13:49:26.174059: W tensorflow/compiler/mlir/lite/python/tf_tfl_flatbuffer_helpers.cc:362] Ignored output_format.\n",
      "2022-11-09 13:49:26.174154: W tensorflow/compiler/mlir/lite/python/tf_tfl_flatbuffer_helpers.cc:365] Ignored drop_control_dependency.\n",
      "2022-11-09 13:49:26.174356: I tensorflow/cc/saved_model/reader.cc:45] Reading SavedModel from: /tmp/tmpzyx2tfyc\n",
      "2022-11-09 13:49:26.176501: I tensorflow/cc/saved_model/reader.cc:89] Reading meta graph with tags { serve }\n",
      "2022-11-09 13:49:26.176554: I tensorflow/cc/saved_model/reader.cc:130] Reading SavedModel debug info (if present) from: /tmp/tmpzyx2tfyc\n",
      "2022-11-09 13:49:26.183414: I tensorflow/cc/saved_model/loader.cc:229] Restoring SavedModel bundle.\n",
      "2022-11-09 13:49:26.241801: I tensorflow/cc/saved_model/loader.cc:213] Running initialization op on SavedModel bundle at path: /tmp/tmpzyx2tfyc\n",
      "2022-11-09 13:49:26.257605: I tensorflow/cc/saved_model/loader.cc:305] SavedModel load for tags { serve }; Status: success: OK. Took 83231 microseconds.\n",
      "WARNING:absl:Found untraced functions such as _jit_compiled_convolution_op, _jit_compiled_convolution_op while saving (showing 2 of 2). These functions will not be directly callable after loading.\n"
     ]
    },
    {
     "name": "stdout",
     "output_type": "stream",
     "text": [
      "INFO:tensorflow:Assets written to: /tmp/tmpjmo2nb6w/assets\n"
     ]
    },
    {
     "name": "stderr",
     "output_type": "stream",
     "text": [
      "INFO:tensorflow:Assets written to: /tmp/tmpjmo2nb6w/assets\n",
      "2022-11-09 13:49:28.062357: W tensorflow/compiler/mlir/lite/python/tf_tfl_flatbuffer_helpers.cc:362] Ignored output_format.\n",
      "2022-11-09 13:49:28.062456: W tensorflow/compiler/mlir/lite/python/tf_tfl_flatbuffer_helpers.cc:365] Ignored drop_control_dependency.\n",
      "2022-11-09 13:49:28.062663: I tensorflow/cc/saved_model/reader.cc:45] Reading SavedModel from: /tmp/tmpjmo2nb6w\n",
      "2022-11-09 13:49:28.064834: I tensorflow/cc/saved_model/reader.cc:89] Reading meta graph with tags { serve }\n",
      "2022-11-09 13:49:28.064878: I tensorflow/cc/saved_model/reader.cc:130] Reading SavedModel debug info (if present) from: /tmp/tmpjmo2nb6w\n",
      "2022-11-09 13:49:28.072279: I tensorflow/cc/saved_model/loader.cc:229] Restoring SavedModel bundle.\n",
      "2022-11-09 13:49:28.133743: I tensorflow/cc/saved_model/loader.cc:213] Running initialization op on SavedModel bundle at path: /tmp/tmpjmo2nb6w\n",
      "2022-11-09 13:49:28.149714: I tensorflow/cc/saved_model/loader.cc:305] SavedModel load for tags { serve }; Status: success: OK. Took 87050 microseconds.\n",
      "WARNING:absl:Found untraced functions such as _jit_compiled_convolution_op, _jit_compiled_convolution_op while saving (showing 2 of 2). These functions will not be directly callable after loading.\n"
     ]
    },
    {
     "name": "stdout",
     "output_type": "stream",
     "text": [
      "INFO:tensorflow:Assets written to: /tmp/tmpbfysc3oq/assets\n"
     ]
    },
    {
     "name": "stderr",
     "output_type": "stream",
     "text": [
      "INFO:tensorflow:Assets written to: /tmp/tmpbfysc3oq/assets\n",
      "2022-11-09 13:49:29.892413: W tensorflow/compiler/mlir/lite/python/tf_tfl_flatbuffer_helpers.cc:362] Ignored output_format.\n",
      "2022-11-09 13:49:29.892514: W tensorflow/compiler/mlir/lite/python/tf_tfl_flatbuffer_helpers.cc:365] Ignored drop_control_dependency.\n",
      "2022-11-09 13:49:29.892713: I tensorflow/cc/saved_model/reader.cc:45] Reading SavedModel from: /tmp/tmpbfysc3oq\n",
      "2022-11-09 13:49:29.894878: I tensorflow/cc/saved_model/reader.cc:89] Reading meta graph with tags { serve }\n",
      "2022-11-09 13:49:29.894929: I tensorflow/cc/saved_model/reader.cc:130] Reading SavedModel debug info (if present) from: /tmp/tmpbfysc3oq\n",
      "2022-11-09 13:49:29.902141: I tensorflow/cc/saved_model/loader.cc:229] Restoring SavedModel bundle.\n",
      "2022-11-09 13:49:29.959950: I tensorflow/cc/saved_model/loader.cc:213] Running initialization op on SavedModel bundle at path: /tmp/tmpbfysc3oq\n",
      "2022-11-09 13:49:29.974936: I tensorflow/cc/saved_model/loader.cc:305] SavedModel load for tags { serve }; Status: success: OK. Took 82222 microseconds.\n",
      "WARNING:absl:Found untraced functions such as _jit_compiled_convolution_op, _jit_compiled_convolution_op while saving (showing 2 of 2). These functions will not be directly callable after loading.\n"
     ]
    },
    {
     "name": "stdout",
     "output_type": "stream",
     "text": [
      "INFO:tensorflow:Assets written to: /tmp/tmppf5cnwdw/assets\n"
     ]
    },
    {
     "name": "stderr",
     "output_type": "stream",
     "text": [
      "INFO:tensorflow:Assets written to: /tmp/tmppf5cnwdw/assets\n",
      "2022-11-09 13:49:31.728610: W tensorflow/compiler/mlir/lite/python/tf_tfl_flatbuffer_helpers.cc:362] Ignored output_format.\n",
      "2022-11-09 13:49:31.728699: W tensorflow/compiler/mlir/lite/python/tf_tfl_flatbuffer_helpers.cc:365] Ignored drop_control_dependency.\n",
      "2022-11-09 13:49:31.728893: I tensorflow/cc/saved_model/reader.cc:45] Reading SavedModel from: /tmp/tmppf5cnwdw\n",
      "2022-11-09 13:49:31.731020: I tensorflow/cc/saved_model/reader.cc:89] Reading meta graph with tags { serve }\n",
      "2022-11-09 13:49:31.731064: I tensorflow/cc/saved_model/reader.cc:130] Reading SavedModel debug info (if present) from: /tmp/tmppf5cnwdw\n",
      "2022-11-09 13:49:31.738155: I tensorflow/cc/saved_model/loader.cc:229] Restoring SavedModel bundle.\n",
      "2022-11-09 13:49:31.796543: I tensorflow/cc/saved_model/loader.cc:213] Running initialization op on SavedModel bundle at path: /tmp/tmppf5cnwdw\n",
      "2022-11-09 13:49:31.811637: I tensorflow/cc/saved_model/loader.cc:305] SavedModel load for tags { serve }; Status: success: OK. Took 82743 microseconds.\n",
      "WARNING:absl:Found untraced functions such as _jit_compiled_convolution_op, _jit_compiled_convolution_op while saving (showing 2 of 2). These functions will not be directly callable after loading.\n"
     ]
    },
    {
     "name": "stdout",
     "output_type": "stream",
     "text": [
      "INFO:tensorflow:Assets written to: /tmp/tmpbjnyyuto/assets\n"
     ]
    },
    {
     "name": "stderr",
     "output_type": "stream",
     "text": [
      "INFO:tensorflow:Assets written to: /tmp/tmpbjnyyuto/assets\n",
      "2022-11-09 13:49:33.568374: W tensorflow/compiler/mlir/lite/python/tf_tfl_flatbuffer_helpers.cc:362] Ignored output_format.\n",
      "2022-11-09 13:49:33.568474: W tensorflow/compiler/mlir/lite/python/tf_tfl_flatbuffer_helpers.cc:365] Ignored drop_control_dependency.\n",
      "2022-11-09 13:49:33.568674: I tensorflow/cc/saved_model/reader.cc:45] Reading SavedModel from: /tmp/tmpbjnyyuto\n",
      "2022-11-09 13:49:33.570825: I tensorflow/cc/saved_model/reader.cc:89] Reading meta graph with tags { serve }\n",
      "2022-11-09 13:49:33.570874: I tensorflow/cc/saved_model/reader.cc:130] Reading SavedModel debug info (if present) from: /tmp/tmpbjnyyuto\n",
      "2022-11-09 13:49:33.577979: I tensorflow/cc/saved_model/loader.cc:229] Restoring SavedModel bundle.\n",
      "2022-11-09 13:49:33.636662: I tensorflow/cc/saved_model/loader.cc:213] Running initialization op on SavedModel bundle at path: /tmp/tmpbjnyyuto\n",
      "2022-11-09 13:49:33.651893: I tensorflow/cc/saved_model/loader.cc:305] SavedModel load for tags { serve }; Status: success: OK. Took 83217 microseconds.\n",
      "WARNING:absl:Found untraced functions such as _jit_compiled_convolution_op, _jit_compiled_convolution_op while saving (showing 2 of 2). These functions will not be directly callable after loading.\n"
     ]
    },
    {
     "name": "stdout",
     "output_type": "stream",
     "text": [
      "INFO:tensorflow:Assets written to: /tmp/tmp5bhisjug/assets\n"
     ]
    },
    {
     "name": "stderr",
     "output_type": "stream",
     "text": [
      "INFO:tensorflow:Assets written to: /tmp/tmp5bhisjug/assets\n",
      "2022-11-09 13:49:35.416592: W tensorflow/compiler/mlir/lite/python/tf_tfl_flatbuffer_helpers.cc:362] Ignored output_format.\n",
      "2022-11-09 13:49:35.416673: W tensorflow/compiler/mlir/lite/python/tf_tfl_flatbuffer_helpers.cc:365] Ignored drop_control_dependency.\n",
      "2022-11-09 13:49:35.416866: I tensorflow/cc/saved_model/reader.cc:45] Reading SavedModel from: /tmp/tmp5bhisjug\n",
      "2022-11-09 13:49:35.419027: I tensorflow/cc/saved_model/reader.cc:89] Reading meta graph with tags { serve }\n",
      "2022-11-09 13:49:35.419070: I tensorflow/cc/saved_model/reader.cc:130] Reading SavedModel debug info (if present) from: /tmp/tmp5bhisjug\n",
      "2022-11-09 13:49:35.426051: I tensorflow/cc/saved_model/loader.cc:229] Restoring SavedModel bundle.\n",
      "2022-11-09 13:49:35.485328: I tensorflow/cc/saved_model/loader.cc:213] Running initialization op on SavedModel bundle at path: /tmp/tmp5bhisjug\n",
      "2022-11-09 13:49:35.500784: I tensorflow/cc/saved_model/loader.cc:305] SavedModel load for tags { serve }; Status: success: OK. Took 83918 microseconds.\n",
      "WARNING:absl:Found untraced functions such as _jit_compiled_convolution_op, _jit_compiled_convolution_op while saving (showing 2 of 2). These functions will not be directly callable after loading.\n"
     ]
    },
    {
     "name": "stdout",
     "output_type": "stream",
     "text": [
      "INFO:tensorflow:Assets written to: /tmp/tmpdbwfqe32/assets\n"
     ]
    },
    {
     "name": "stderr",
     "output_type": "stream",
     "text": [
      "INFO:tensorflow:Assets written to: /tmp/tmpdbwfqe32/assets\n",
      "2022-11-09 13:49:37.286759: W tensorflow/compiler/mlir/lite/python/tf_tfl_flatbuffer_helpers.cc:362] Ignored output_format.\n",
      "2022-11-09 13:49:37.286844: W tensorflow/compiler/mlir/lite/python/tf_tfl_flatbuffer_helpers.cc:365] Ignored drop_control_dependency.\n",
      "2022-11-09 13:49:37.287038: I tensorflow/cc/saved_model/reader.cc:45] Reading SavedModel from: /tmp/tmpdbwfqe32\n",
      "2022-11-09 13:49:37.289457: I tensorflow/cc/saved_model/reader.cc:89] Reading meta graph with tags { serve }\n",
      "2022-11-09 13:49:37.289499: I tensorflow/cc/saved_model/reader.cc:130] Reading SavedModel debug info (if present) from: /tmp/tmpdbwfqe32\n",
      "2022-11-09 13:49:37.300674: I tensorflow/cc/saved_model/loader.cc:229] Restoring SavedModel bundle.\n",
      "2022-11-09 13:49:37.361526: I tensorflow/cc/saved_model/loader.cc:213] Running initialization op on SavedModel bundle at path: /tmp/tmpdbwfqe32\n",
      "2022-11-09 13:49:37.376561: I tensorflow/cc/saved_model/loader.cc:305] SavedModel load for tags { serve }; Status: success: OK. Took 89522 microseconds.\n",
      "WARNING:absl:Found untraced functions such as _jit_compiled_convolution_op, _jit_compiled_convolution_op while saving (showing 2 of 2). These functions will not be directly callable after loading.\n"
     ]
    },
    {
     "name": "stdout",
     "output_type": "stream",
     "text": [
      "INFO:tensorflow:Assets written to: /tmp/tmpyeh6l54s/assets\n"
     ]
    },
    {
     "name": "stderr",
     "output_type": "stream",
     "text": [
      "INFO:tensorflow:Assets written to: /tmp/tmpyeh6l54s/assets\n",
      "2022-11-09 13:49:39.161334: W tensorflow/compiler/mlir/lite/python/tf_tfl_flatbuffer_helpers.cc:362] Ignored output_format.\n",
      "2022-11-09 13:49:39.161419: W tensorflow/compiler/mlir/lite/python/tf_tfl_flatbuffer_helpers.cc:365] Ignored drop_control_dependency.\n",
      "2022-11-09 13:49:39.161633: I tensorflow/cc/saved_model/reader.cc:45] Reading SavedModel from: /tmp/tmpyeh6l54s\n",
      "2022-11-09 13:49:39.163968: I tensorflow/cc/saved_model/reader.cc:89] Reading meta graph with tags { serve }\n",
      "2022-11-09 13:49:39.164007: I tensorflow/cc/saved_model/reader.cc:130] Reading SavedModel debug info (if present) from: /tmp/tmpyeh6l54s\n",
      "2022-11-09 13:49:39.174688: I tensorflow/cc/saved_model/loader.cc:229] Restoring SavedModel bundle.\n",
      "2022-11-09 13:49:39.235173: I tensorflow/cc/saved_model/loader.cc:213] Running initialization op on SavedModel bundle at path: /tmp/tmpyeh6l54s\n",
      "2022-11-09 13:49:39.250579: I tensorflow/cc/saved_model/loader.cc:305] SavedModel load for tags { serve }; Status: success: OK. Took 88944 microseconds.\n",
      "WARNING:absl:Found untraced functions such as _jit_compiled_convolution_op, _jit_compiled_convolution_op while saving (showing 2 of 2). These functions will not be directly callable after loading.\n"
     ]
    },
    {
     "name": "stdout",
     "output_type": "stream",
     "text": [
      "INFO:tensorflow:Assets written to: /tmp/tmpgw33dqcd/assets\n"
     ]
    },
    {
     "name": "stderr",
     "output_type": "stream",
     "text": [
      "INFO:tensorflow:Assets written to: /tmp/tmpgw33dqcd/assets\n",
      "2022-11-09 13:49:41.030268: W tensorflow/compiler/mlir/lite/python/tf_tfl_flatbuffer_helpers.cc:362] Ignored output_format.\n",
      "2022-11-09 13:49:41.030355: W tensorflow/compiler/mlir/lite/python/tf_tfl_flatbuffer_helpers.cc:365] Ignored drop_control_dependency.\n",
      "2022-11-09 13:49:41.030560: I tensorflow/cc/saved_model/reader.cc:45] Reading SavedModel from: /tmp/tmpgw33dqcd\n",
      "2022-11-09 13:49:41.033251: I tensorflow/cc/saved_model/reader.cc:89] Reading meta graph with tags { serve }\n",
      "2022-11-09 13:49:41.033300: I tensorflow/cc/saved_model/reader.cc:130] Reading SavedModel debug info (if present) from: /tmp/tmpgw33dqcd\n",
      "2022-11-09 13:49:41.045520: I tensorflow/cc/saved_model/loader.cc:229] Restoring SavedModel bundle.\n",
      "2022-11-09 13:49:41.105893: I tensorflow/cc/saved_model/loader.cc:213] Running initialization op on SavedModel bundle at path: /tmp/tmpgw33dqcd\n",
      "2022-11-09 13:49:41.121389: I tensorflow/cc/saved_model/loader.cc:305] SavedModel load for tags { serve }; Status: success: OK. Took 90829 microseconds.\n",
      "WARNING:absl:Found untraced functions such as _jit_compiled_convolution_op, _jit_compiled_convolution_op while saving (showing 2 of 2). These functions will not be directly callable after loading.\n"
     ]
    },
    {
     "name": "stdout",
     "output_type": "stream",
     "text": [
      "INFO:tensorflow:Assets written to: /tmp/tmp11_sn76m/assets\n"
     ]
    },
    {
     "name": "stderr",
     "output_type": "stream",
     "text": [
      "INFO:tensorflow:Assets written to: /tmp/tmp11_sn76m/assets\n",
      "2022-11-09 13:49:42.905349: W tensorflow/compiler/mlir/lite/python/tf_tfl_flatbuffer_helpers.cc:362] Ignored output_format.\n",
      "2022-11-09 13:49:42.905462: W tensorflow/compiler/mlir/lite/python/tf_tfl_flatbuffer_helpers.cc:365] Ignored drop_control_dependency.\n",
      "2022-11-09 13:49:42.905659: I tensorflow/cc/saved_model/reader.cc:45] Reading SavedModel from: /tmp/tmp11_sn76m\n",
      "2022-11-09 13:49:42.907961: I tensorflow/cc/saved_model/reader.cc:89] Reading meta graph with tags { serve }\n",
      "2022-11-09 13:49:42.907998: I tensorflow/cc/saved_model/reader.cc:130] Reading SavedModel debug info (if present) from: /tmp/tmp11_sn76m\n",
      "2022-11-09 13:49:42.918176: I tensorflow/cc/saved_model/loader.cc:229] Restoring SavedModel bundle.\n",
      "2022-11-09 13:49:42.978721: I tensorflow/cc/saved_model/loader.cc:213] Running initialization op on SavedModel bundle at path: /tmp/tmp11_sn76m\n",
      "2022-11-09 13:49:42.994969: I tensorflow/cc/saved_model/loader.cc:305] SavedModel load for tags { serve }; Status: success: OK. Took 89309 microseconds.\n"
     ]
    },
    {
     "data": {
      "image/png": "[encoded data removed]",
      "text/plain": [
       "<Figure size 640x480 with 1 Axes>"
      ]
     },
     "metadata": {},
     "output_type": "display_data"
    },
    {
     "name": "stdout",
     "output_type": "stream",
     "text": [
      "fit df.shape (179957, 39)\n"
     ]
    },
    {
     "name": "stderr",
     "output_type": "stream",
     "text": [
      "WARNING:absl:Found untraced functions such as _jit_compiled_convolution_op, _jit_compiled_convolution_op while saving (showing 2 of 2). These functions will not be directly callable after loading.\n"
     ]
    },
    {
     "name": "stdout",
     "output_type": "stream",
     "text": [
      "INFO:tensorflow:Assets written to: /tmp/tmpbepjb1z6/assets\n"
     ]
    },
    {
     "name": "stderr",
     "output_type": "stream",
     "text": [
      "INFO:tensorflow:Assets written to: /tmp/tmpbepjb1z6/assets\n",
      "2022-11-09 13:56:15.384829: W tensorflow/compiler/mlir/lite/python/tf_tfl_flatbuffer_helpers.cc:362] Ignored output_format.\n",
      "2022-11-09 13:56:15.384924: W tensorflow/compiler/mlir/lite/python/tf_tfl_flatbuffer_helpers.cc:365] Ignored drop_control_dependency.\n",
      "2022-11-09 13:56:15.385128: I tensorflow/cc/saved_model/reader.cc:45] Reading SavedModel from: /tmp/tmpbepjb1z6\n",
      "2022-11-09 13:56:15.387322: I tensorflow/cc/saved_model/reader.cc:89] Reading meta graph with tags { serve }\n",
      "2022-11-09 13:56:15.387364: I tensorflow/cc/saved_model/reader.cc:130] Reading SavedModel debug info (if present) from: /tmp/tmpbepjb1z6\n",
      "2022-11-09 13:56:15.394610: I tensorflow/cc/saved_model/loader.cc:229] Restoring SavedModel bundle.\n",
      "2022-11-09 13:56:15.453610: I tensorflow/cc/saved_model/loader.cc:213] Running initialization op on SavedModel bundle at path: /tmp/tmpbepjb1z6\n",
      "2022-11-09 13:56:15.468851: I tensorflow/cc/saved_model/loader.cc:305] SavedModel load for tags { serve }; Status: success: OK. Took 83722 microseconds.\n",
      "WARNING:absl:Found untraced functions such as _jit_compiled_convolution_op, _jit_compiled_convolution_op while saving (showing 2 of 2). These functions will not be directly callable after loading.\n"
     ]
    },
    {
     "name": "stdout",
     "output_type": "stream",
     "text": [
      "INFO:tensorflow:Assets written to: /tmp/tmpx2kago6m/assets\n"
     ]
    },
    {
     "name": "stderr",
     "output_type": "stream",
     "text": [
      "INFO:tensorflow:Assets written to: /tmp/tmpx2kago6m/assets\n",
      "2022-11-09 13:56:17.233018: W tensorflow/compiler/mlir/lite/python/tf_tfl_flatbuffer_helpers.cc:362] Ignored output_format.\n",
      "2022-11-09 13:56:17.233110: W tensorflow/compiler/mlir/lite/python/tf_tfl_flatbuffer_helpers.cc:365] Ignored drop_control_dependency.\n",
      "2022-11-09 13:56:17.233303: I tensorflow/cc/saved_model/reader.cc:45] Reading SavedModel from: /tmp/tmpx2kago6m\n",
      "2022-11-09 13:56:17.235428: I tensorflow/cc/saved_model/reader.cc:89] Reading meta graph with tags { serve }\n",
      "2022-11-09 13:56:17.235477: I tensorflow/cc/saved_model/reader.cc:130] Reading SavedModel debug info (if present) from: /tmp/tmpx2kago6m\n",
      "2022-11-09 13:56:17.242689: I tensorflow/cc/saved_model/loader.cc:229] Restoring SavedModel bundle.\n",
      "2022-11-09 13:56:17.302434: I tensorflow/cc/saved_model/loader.cc:213] Running initialization op on SavedModel bundle at path: /tmp/tmpx2kago6m\n",
      "2022-11-09 13:56:17.317975: I tensorflow/cc/saved_model/loader.cc:305] SavedModel load for tags { serve }; Status: success: OK. Took 84671 microseconds.\n",
      "WARNING:absl:Found untraced functions such as _jit_compiled_convolution_op, _jit_compiled_convolution_op while saving (showing 2 of 2). These functions will not be directly callable after loading.\n"
     ]
    },
    {
     "name": "stdout",
     "output_type": "stream",
     "text": [
      "INFO:tensorflow:Assets written to: /tmp/tmp9t1w5by5/assets\n"
     ]
    },
    {
     "name": "stderr",
     "output_type": "stream",
     "text": [
      "INFO:tensorflow:Assets written to: /tmp/tmp9t1w5by5/assets\n",
      "2022-11-09 13:56:19.063069: W tensorflow/compiler/mlir/lite/python/tf_tfl_flatbuffer_helpers.cc:362] Ignored output_format.\n",
      "2022-11-09 13:56:19.063148: W tensorflow/compiler/mlir/lite/python/tf_tfl_flatbuffer_helpers.cc:365] Ignored drop_control_dependency.\n",
      "2022-11-09 13:56:19.063346: I tensorflow/cc/saved_model/reader.cc:45] Reading SavedModel from: /tmp/tmp9t1w5by5\n",
      "2022-11-09 13:56:19.065507: I tensorflow/cc/saved_model/reader.cc:89] Reading meta graph with tags { serve }\n",
      "2022-11-09 13:56:19.065549: I tensorflow/cc/saved_model/reader.cc:130] Reading SavedModel debug info (if present) from: /tmp/tmp9t1w5by5\n",
      "2022-11-09 13:56:19.072689: I tensorflow/cc/saved_model/loader.cc:229] Restoring SavedModel bundle.\n",
      "2022-11-09 13:56:19.132342: I tensorflow/cc/saved_model/loader.cc:213] Running initialization op on SavedModel bundle at path: /tmp/tmp9t1w5by5\n",
      "2022-11-09 13:56:19.148080: I tensorflow/cc/saved_model/loader.cc:305] SavedModel load for tags { serve }; Status: success: OK. Took 84734 microseconds.\n",
      "WARNING:absl:Found untraced functions such as _jit_compiled_convolution_op, _jit_compiled_convolution_op while saving (showing 2 of 2). These functions will not be directly callable after loading.\n"
     ]
    },
    {
     "name": "stdout",
     "output_type": "stream",
     "text": [
      "INFO:tensorflow:Assets written to: /tmp/tmp_v3sxh83/assets\n"
     ]
    },
    {
     "name": "stderr",
     "output_type": "stream",
     "text": [
      "INFO:tensorflow:Assets written to: /tmp/tmp_v3sxh83/assets\n",
      "2022-11-09 13:56:20.927145: W tensorflow/compiler/mlir/lite/python/tf_tfl_flatbuffer_helpers.cc:362] Ignored output_format.\n",
      "2022-11-09 13:56:20.927215: W tensorflow/compiler/mlir/lite/python/tf_tfl_flatbuffer_helpers.cc:365] Ignored drop_control_dependency.\n",
      "2022-11-09 13:56:20.927408: I tensorflow/cc/saved_model/reader.cc:45] Reading SavedModel from: /tmp/tmp_v3sxh83\n",
      "2022-11-09 13:56:20.929518: I tensorflow/cc/saved_model/reader.cc:89] Reading meta graph with tags { serve }\n",
      "2022-11-09 13:56:20.929564: I tensorflow/cc/saved_model/reader.cc:130] Reading SavedModel debug info (if present) from: /tmp/tmp_v3sxh83\n",
      "2022-11-09 13:56:20.936636: I tensorflow/cc/saved_model/loader.cc:229] Restoring SavedModel bundle.\n",
      "2022-11-09 13:56:20.995527: I tensorflow/cc/saved_model/loader.cc:213] Running initialization op on SavedModel bundle at path: /tmp/tmp_v3sxh83\n",
      "2022-11-09 13:56:21.012079: I tensorflow/cc/saved_model/loader.cc:305] SavedModel load for tags { serve }; Status: success: OK. Took 84671 microseconds.\n",
      "WARNING:absl:Found untraced functions such as _jit_compiled_convolution_op, _jit_compiled_convolution_op while saving (showing 2 of 2). These functions will not be directly callable after loading.\n"
     ]
    },
    {
     "name": "stdout",
     "output_type": "stream",
     "text": [
      "INFO:tensorflow:Assets written to: /tmp/tmp982xvw4y/assets\n"
     ]
    },
    {
     "name": "stderr",
     "output_type": "stream",
     "text": [
      "INFO:tensorflow:Assets written to: /tmp/tmp982xvw4y/assets\n",
      "2022-11-09 13:56:22.789204: W tensorflow/compiler/mlir/lite/python/tf_tfl_flatbuffer_helpers.cc:362] Ignored output_format.\n",
      "2022-11-09 13:56:22.789295: W tensorflow/compiler/mlir/lite/python/tf_tfl_flatbuffer_helpers.cc:365] Ignored drop_control_dependency.\n",
      "2022-11-09 13:56:22.789511: I tensorflow/cc/saved_model/reader.cc:45] Reading SavedModel from: /tmp/tmp982xvw4y\n",
      "2022-11-09 13:56:22.791637: I tensorflow/cc/saved_model/reader.cc:89] Reading meta graph with tags { serve }\n",
      "2022-11-09 13:56:22.791680: I tensorflow/cc/saved_model/reader.cc:130] Reading SavedModel debug info (if present) from: /tmp/tmp982xvw4y\n",
      "2022-11-09 13:56:22.799163: I tensorflow/cc/saved_model/loader.cc:229] Restoring SavedModel bundle.\n",
      "2022-11-09 13:56:22.860141: I tensorflow/cc/saved_model/loader.cc:213] Running initialization op on SavedModel bundle at path: /tmp/tmp982xvw4y\n",
      "2022-11-09 13:56:22.876560: I tensorflow/cc/saved_model/loader.cc:305] SavedModel load for tags { serve }; Status: success: OK. Took 87049 microseconds.\n",
      "WARNING:absl:Found untraced functions such as _jit_compiled_convolution_op, _jit_compiled_convolution_op while saving (showing 2 of 2). These functions will not be directly callable after loading.\n"
     ]
    },
    {
     "name": "stdout",
     "output_type": "stream",
     "text": [
      "INFO:tensorflow:Assets written to: /tmp/tmpd2evqhn5/assets\n"
     ]
    },
    {
     "name": "stderr",
     "output_type": "stream",
     "text": [
      "INFO:tensorflow:Assets written to: /tmp/tmpd2evqhn5/assets\n",
      "2022-11-09 13:56:24.682865: W tensorflow/compiler/mlir/lite/python/tf_tfl_flatbuffer_helpers.cc:362] Ignored output_format.\n",
      "2022-11-09 13:56:24.682958: W tensorflow/compiler/mlir/lite/python/tf_tfl_flatbuffer_helpers.cc:365] Ignored drop_control_dependency.\n",
      "2022-11-09 13:56:24.683151: I tensorflow/cc/saved_model/reader.cc:45] Reading SavedModel from: /tmp/tmpd2evqhn5\n",
      "2022-11-09 13:56:24.685317: I tensorflow/cc/saved_model/reader.cc:89] Reading meta graph with tags { serve }\n",
      "2022-11-09 13:56:24.685362: I tensorflow/cc/saved_model/reader.cc:130] Reading SavedModel debug info (if present) from: /tmp/tmpd2evqhn5\n",
      "2022-11-09 13:56:24.692549: I tensorflow/cc/saved_model/loader.cc:229] Restoring SavedModel bundle.\n",
      "2022-11-09 13:56:24.751647: I tensorflow/cc/saved_model/loader.cc:213] Running initialization op on SavedModel bundle at path: /tmp/tmpd2evqhn5\n",
      "2022-11-09 13:56:24.767066: I tensorflow/cc/saved_model/loader.cc:305] SavedModel load for tags { serve }; Status: success: OK. Took 83914 microseconds.\n",
      "WARNING:absl:Found untraced functions such as _jit_compiled_convolution_op, _jit_compiled_convolution_op while saving (showing 2 of 2). These functions will not be directly callable after loading.\n"
     ]
    },
    {
     "name": "stdout",
     "output_type": "stream",
     "text": [
      "INFO:tensorflow:Assets written to: /tmp/tmp4_e39otx/assets\n"
     ]
    },
    {
     "name": "stderr",
     "output_type": "stream",
     "text": [
      "INFO:tensorflow:Assets written to: /tmp/tmp4_e39otx/assets\n",
      "2022-11-09 13:56:26.579822: W tensorflow/compiler/mlir/lite/python/tf_tfl_flatbuffer_helpers.cc:362] Ignored output_format.\n",
      "2022-11-09 13:56:26.579913: W tensorflow/compiler/mlir/lite/python/tf_tfl_flatbuffer_helpers.cc:365] Ignored drop_control_dependency.\n",
      "2022-11-09 13:56:26.580128: I tensorflow/cc/saved_model/reader.cc:45] Reading SavedModel from: /tmp/tmp4_e39otx\n",
      "2022-11-09 13:56:26.582259: I tensorflow/cc/saved_model/reader.cc:89] Reading meta graph with tags { serve }\n",
      "2022-11-09 13:56:26.582298: I tensorflow/cc/saved_model/reader.cc:130] Reading SavedModel debug info (if present) from: /tmp/tmp4_e39otx\n",
      "2022-11-09 13:56:26.589132: I tensorflow/cc/saved_model/loader.cc:229] Restoring SavedModel bundle.\n",
      "2022-11-09 13:56:26.648699: I tensorflow/cc/saved_model/loader.cc:213] Running initialization op on SavedModel bundle at path: /tmp/tmp4_e39otx\n",
      "2022-11-09 13:56:26.665001: I tensorflow/cc/saved_model/loader.cc:305] SavedModel load for tags { serve }; Status: success: OK. Took 84894 microseconds.\n",
      "WARNING:absl:Found untraced functions such as _jit_compiled_convolution_op, _jit_compiled_convolution_op while saving (showing 2 of 2). These functions will not be directly callable after loading.\n"
     ]
    },
    {
     "name": "stdout",
     "output_type": "stream",
     "text": [
      "INFO:tensorflow:Assets written to: /tmp/tmpkmxbzd9e/assets\n"
     ]
    },
    {
     "name": "stderr",
     "output_type": "stream",
     "text": [
      "INFO:tensorflow:Assets written to: /tmp/tmpkmxbzd9e/assets\n",
      "2022-11-09 13:56:28.459502: W tensorflow/compiler/mlir/lite/python/tf_tfl_flatbuffer_helpers.cc:362] Ignored output_format.\n",
      "2022-11-09 13:56:28.459601: W tensorflow/compiler/mlir/lite/python/tf_tfl_flatbuffer_helpers.cc:365] Ignored drop_control_dependency.\n",
      "2022-11-09 13:56:28.459797: I tensorflow/cc/saved_model/reader.cc:45] Reading SavedModel from: /tmp/tmpkmxbzd9e\n",
      "2022-11-09 13:56:28.461993: I tensorflow/cc/saved_model/reader.cc:89] Reading meta graph with tags { serve }\n",
      "2022-11-09 13:56:28.462040: I tensorflow/cc/saved_model/reader.cc:130] Reading SavedModel debug info (if present) from: /tmp/tmpkmxbzd9e\n",
      "2022-11-09 13:56:28.469469: I tensorflow/cc/saved_model/loader.cc:229] Restoring SavedModel bundle.\n",
      "2022-11-09 13:56:28.530557: I tensorflow/cc/saved_model/loader.cc:213] Running initialization op on SavedModel bundle at path: /tmp/tmpkmxbzd9e\n",
      "2022-11-09 13:56:28.546897: I tensorflow/cc/saved_model/loader.cc:305] SavedModel load for tags { serve }; Status: success: OK. Took 87100 microseconds.\n",
      "WARNING:absl:Found untraced functions such as _jit_compiled_convolution_op, _jit_compiled_convolution_op while saving (showing 2 of 2). These functions will not be directly callable after loading.\n"
     ]
    },
    {
     "name": "stdout",
     "output_type": "stream",
     "text": [
      "INFO:tensorflow:Assets written to: /tmp/tmp1kn2h77p/assets\n"
     ]
    },
    {
     "name": "stderr",
     "output_type": "stream",
     "text": [
      "INFO:tensorflow:Assets written to: /tmp/tmp1kn2h77p/assets\n",
      "2022-11-09 13:56:31.851898: W tensorflow/compiler/mlir/lite/python/tf_tfl_flatbuffer_helpers.cc:362] Ignored output_format.\n",
      "2022-11-09 13:56:31.851987: W tensorflow/compiler/mlir/lite/python/tf_tfl_flatbuffer_helpers.cc:365] Ignored drop_control_dependency.\n",
      "2022-11-09 13:56:31.852186: I tensorflow/cc/saved_model/reader.cc:45] Reading SavedModel from: /tmp/tmp1kn2h77p\n",
      "2022-11-09 13:56:31.855439: I tensorflow/cc/saved_model/reader.cc:89] Reading meta graph with tags { serve }\n",
      "2022-11-09 13:56:31.855493: I tensorflow/cc/saved_model/reader.cc:130] Reading SavedModel debug info (if present) from: /tmp/tmp1kn2h77p\n",
      "2022-11-09 13:56:31.865194: I tensorflow/cc/saved_model/loader.cc:229] Restoring SavedModel bundle.\n",
      "2022-11-09 13:56:31.930970: I tensorflow/cc/saved_model/loader.cc:213] Running initialization op on SavedModel bundle at path: /tmp/tmp1kn2h77p\n",
      "2022-11-09 13:56:31.949074: I tensorflow/cc/saved_model/loader.cc:305] SavedModel load for tags { serve }; Status: success: OK. Took 96887 microseconds.\n",
      "WARNING:absl:Found untraced functions such as _jit_compiled_convolution_op, _jit_compiled_convolution_op while saving (showing 2 of 2). These functions will not be directly callable after loading.\n"
     ]
    },
    {
     "name": "stdout",
     "output_type": "stream",
     "text": [
      "INFO:tensorflow:Assets written to: /tmp/tmp1wjlwbs7/assets\n"
     ]
    },
    {
     "name": "stderr",
     "output_type": "stream",
     "text": [
      "INFO:tensorflow:Assets written to: /tmp/tmp1wjlwbs7/assets\n",
      "2022-11-09 13:56:33.753848: W tensorflow/compiler/mlir/lite/python/tf_tfl_flatbuffer_helpers.cc:362] Ignored output_format.\n",
      "2022-11-09 13:56:33.753935: W tensorflow/compiler/mlir/lite/python/tf_tfl_flatbuffer_helpers.cc:365] Ignored drop_control_dependency.\n",
      "2022-11-09 13:56:33.754126: I tensorflow/cc/saved_model/reader.cc:45] Reading SavedModel from: /tmp/tmp1wjlwbs7\n",
      "2022-11-09 13:56:33.756409: I tensorflow/cc/saved_model/reader.cc:89] Reading meta graph with tags { serve }\n",
      "2022-11-09 13:56:33.756453: I tensorflow/cc/saved_model/reader.cc:130] Reading SavedModel debug info (if present) from: /tmp/tmp1wjlwbs7\n",
      "2022-11-09 13:56:33.763968: I tensorflow/cc/saved_model/loader.cc:229] Restoring SavedModel bundle.\n",
      "2022-11-09 13:56:33.825357: I tensorflow/cc/saved_model/loader.cc:213] Running initialization op on SavedModel bundle at path: /tmp/tmp1wjlwbs7\n",
      "2022-11-09 13:56:33.841182: I tensorflow/cc/saved_model/loader.cc:305] SavedModel load for tags { serve }; Status: success: OK. Took 87054 microseconds.\n"
     ]
    },
    {
     "data": {
      "image/png": "[encoded data removed]",
      "text/plain": [
       "<Figure size 640x480 with 1 Axes>"
      ]
     },
     "metadata": {},
     "output_type": "display_data"
    },
    {
     "name": "stdout",
     "output_type": "stream",
     "text": [
      "fit df.shape (179957, 39)\n"
     ]
    },
    {
     "name": "stderr",
     "output_type": "stream",
     "text": [
      "WARNING:absl:Found untraced functions such as _jit_compiled_convolution_op, _jit_compiled_convolution_op while saving (showing 2 of 2). These functions will not be directly callable after loading.\n"
     ]
    },
    {
     "name": "stdout",
     "output_type": "stream",
     "text": [
      "INFO:tensorflow:Assets written to: /tmp/tmpeu5majm7/assets\n"
     ]
    },
    {
     "name": "stderr",
     "output_type": "stream",
     "text": [
      "INFO:tensorflow:Assets written to: /tmp/tmpeu5majm7/assets\n",
      "2022-11-09 14:02:26.202952: W tensorflow/compiler/mlir/lite/python/tf_tfl_flatbuffer_helpers.cc:362] Ignored output_format.\n",
      "2022-11-09 14:02:26.203048: W tensorflow/compiler/mlir/lite/python/tf_tfl_flatbuffer_helpers.cc:365] Ignored drop_control_dependency.\n",
      "2022-11-09 14:02:26.203252: I tensorflow/cc/saved_model/reader.cc:45] Reading SavedModel from: /tmp/tmpeu5majm7\n",
      "2022-11-09 14:02:26.205486: I tensorflow/cc/saved_model/reader.cc:89] Reading meta graph with tags { serve }\n",
      "2022-11-09 14:02:26.205532: I tensorflow/cc/saved_model/reader.cc:130] Reading SavedModel debug info (if present) from: /tmp/tmpeu5majm7\n",
      "2022-11-09 14:02:26.212888: I tensorflow/cc/saved_model/loader.cc:229] Restoring SavedModel bundle.\n",
      "2022-11-09 14:02:26.273409: I tensorflow/cc/saved_model/loader.cc:213] Running initialization op on SavedModel bundle at path: /tmp/tmpeu5majm7\n",
      "2022-11-09 14:02:26.289191: I tensorflow/cc/saved_model/loader.cc:305] SavedModel load for tags { serve }; Status: success: OK. Took 85938 microseconds.\n",
      "WARNING:absl:Found untraced functions such as _jit_compiled_convolution_op, _jit_compiled_convolution_op while saving (showing 2 of 2). These functions will not be directly callable after loading.\n"
     ]
    },
    {
     "name": "stdout",
     "output_type": "stream",
     "text": [
      "INFO:tensorflow:Assets written to: /tmp/tmplqc163sa/assets\n"
     ]
    },
    {
     "name": "stderr",
     "output_type": "stream",
     "text": [
      "INFO:tensorflow:Assets written to: /tmp/tmplqc163sa/assets\n",
      "2022-11-09 14:02:28.096987: W tensorflow/compiler/mlir/lite/python/tf_tfl_flatbuffer_helpers.cc:362] Ignored output_format.\n",
      "2022-11-09 14:02:28.097079: W tensorflow/compiler/mlir/lite/python/tf_tfl_flatbuffer_helpers.cc:365] Ignored drop_control_dependency.\n",
      "2022-11-09 14:02:28.097273: I tensorflow/cc/saved_model/reader.cc:45] Reading SavedModel from: /tmp/tmplqc163sa\n",
      "2022-11-09 14:02:28.099427: I tensorflow/cc/saved_model/reader.cc:89] Reading meta graph with tags { serve }\n",
      "2022-11-09 14:02:28.099473: I tensorflow/cc/saved_model/reader.cc:130] Reading SavedModel debug info (if present) from: /tmp/tmplqc163sa\n",
      "2022-11-09 14:02:28.106654: I tensorflow/cc/saved_model/loader.cc:229] Restoring SavedModel bundle.\n",
      "2022-11-09 14:02:28.166249: I tensorflow/cc/saved_model/loader.cc:213] Running initialization op on SavedModel bundle at path: /tmp/tmplqc163sa\n",
      "2022-11-09 14:02:28.181927: I tensorflow/cc/saved_model/loader.cc:305] SavedModel load for tags { serve }; Status: success: OK. Took 84654 microseconds.\n",
      "WARNING:absl:Found untraced functions such as _jit_compiled_convolution_op, _jit_compiled_convolution_op while saving (showing 2 of 2). These functions will not be directly callable after loading.\n"
     ]
    },
    {
     "name": "stdout",
     "output_type": "stream",
     "text": [
      "INFO:tensorflow:Assets written to: /tmp/tmp56aofxv6/assets\n"
     ]
    },
    {
     "name": "stderr",
     "output_type": "stream",
     "text": [
      "INFO:tensorflow:Assets written to: /tmp/tmp56aofxv6/assets\n",
      "2022-11-09 14:02:29.981099: W tensorflow/compiler/mlir/lite/python/tf_tfl_flatbuffer_helpers.cc:362] Ignored output_format.\n",
      "2022-11-09 14:02:29.981184: W tensorflow/compiler/mlir/lite/python/tf_tfl_flatbuffer_helpers.cc:365] Ignored drop_control_dependency.\n",
      "2022-11-09 14:02:29.981389: I tensorflow/cc/saved_model/reader.cc:45] Reading SavedModel from: /tmp/tmp56aofxv6\n",
      "2022-11-09 14:02:29.983524: I tensorflow/cc/saved_model/reader.cc:89] Reading meta graph with tags { serve }\n",
      "2022-11-09 14:02:29.983565: I tensorflow/cc/saved_model/reader.cc:130] Reading SavedModel debug info (if present) from: /tmp/tmp56aofxv6\n",
      "2022-11-09 14:02:29.990673: I tensorflow/cc/saved_model/loader.cc:229] Restoring SavedModel bundle.\n",
      "2022-11-09 14:02:30.051409: I tensorflow/cc/saved_model/loader.cc:213] Running initialization op on SavedModel bundle at path: /tmp/tmp56aofxv6\n",
      "2022-11-09 14:02:30.067035: I tensorflow/cc/saved_model/loader.cc:305] SavedModel load for tags { serve }; Status: success: OK. Took 85646 microseconds.\n",
      "WARNING:absl:Found untraced functions such as _jit_compiled_convolution_op, _jit_compiled_convolution_op while saving (showing 2 of 2). These functions will not be directly callable after loading.\n"
     ]
    },
    {
     "name": "stdout",
     "output_type": "stream",
     "text": [
      "INFO:tensorflow:Assets written to: /tmp/tmpqkf2t3l4/assets\n"
     ]
    },
    {
     "name": "stderr",
     "output_type": "stream",
     "text": [
      "INFO:tensorflow:Assets written to: /tmp/tmpqkf2t3l4/assets\n",
      "2022-11-09 14:02:31.849526: W tensorflow/compiler/mlir/lite/python/tf_tfl_flatbuffer_helpers.cc:362] Ignored output_format.\n",
      "2022-11-09 14:02:31.849611: W tensorflow/compiler/mlir/lite/python/tf_tfl_flatbuffer_helpers.cc:365] Ignored drop_control_dependency.\n",
      "2022-11-09 14:02:31.849806: I tensorflow/cc/saved_model/reader.cc:45] Reading SavedModel from: /tmp/tmpqkf2t3l4\n",
      "2022-11-09 14:02:31.851930: I tensorflow/cc/saved_model/reader.cc:89] Reading meta graph with tags { serve }\n",
      "2022-11-09 14:02:31.851973: I tensorflow/cc/saved_model/reader.cc:130] Reading SavedModel debug info (if present) from: /tmp/tmpqkf2t3l4\n",
      "2022-11-09 14:02:31.859027: I tensorflow/cc/saved_model/loader.cc:229] Restoring SavedModel bundle.\n",
      "2022-11-09 14:02:31.919075: I tensorflow/cc/saved_model/loader.cc:213] Running initialization op on SavedModel bundle at path: /tmp/tmpqkf2t3l4\n",
      "2022-11-09 14:02:31.934886: I tensorflow/cc/saved_model/loader.cc:305] SavedModel load for tags { serve }; Status: success: OK. Took 85078 microseconds.\n",
      "WARNING:absl:Found untraced functions such as _jit_compiled_convolution_op, _jit_compiled_convolution_op while saving (showing 2 of 2). These functions will not be directly callable after loading.\n"
     ]
    },
    {
     "name": "stdout",
     "output_type": "stream",
     "text": [
      "INFO:tensorflow:Assets written to: /tmp/tmp5yhazhln/assets\n"
     ]
    },
    {
     "name": "stderr",
     "output_type": "stream",
     "text": [
      "INFO:tensorflow:Assets written to: /tmp/tmp5yhazhln/assets\n",
      "2022-11-09 14:02:33.726050: W tensorflow/compiler/mlir/lite/python/tf_tfl_flatbuffer_helpers.cc:362] Ignored output_format.\n",
      "2022-11-09 14:02:33.726137: W tensorflow/compiler/mlir/lite/python/tf_tfl_flatbuffer_helpers.cc:365] Ignored drop_control_dependency.\n",
      "2022-11-09 14:02:33.726333: I tensorflow/cc/saved_model/reader.cc:45] Reading SavedModel from: /tmp/tmp5yhazhln\n",
      "2022-11-09 14:02:33.728462: I tensorflow/cc/saved_model/reader.cc:89] Reading meta graph with tags { serve }\n",
      "2022-11-09 14:02:33.728502: I tensorflow/cc/saved_model/reader.cc:130] Reading SavedModel debug info (if present) from: /tmp/tmp5yhazhln\n",
      "2022-11-09 14:02:33.735699: I tensorflow/cc/saved_model/loader.cc:229] Restoring SavedModel bundle.\n",
      "2022-11-09 14:02:33.795473: I tensorflow/cc/saved_model/loader.cc:213] Running initialization op on SavedModel bundle at path: /tmp/tmp5yhazhln\n",
      "2022-11-09 14:02:33.811296: I tensorflow/cc/saved_model/loader.cc:305] SavedModel load for tags { serve }; Status: success: OK. Took 84963 microseconds.\n",
      "WARNING:absl:Found untraced functions such as _jit_compiled_convolution_op, _jit_compiled_convolution_op while saving (showing 2 of 2). These functions will not be directly callable after loading.\n"
     ]
    },
    {
     "name": "stdout",
     "output_type": "stream",
     "text": [
      "INFO:tensorflow:Assets written to: /tmp/tmpjchbmbz5/assets\n"
     ]
    },
    {
     "name": "stderr",
     "output_type": "stream",
     "text": [
      "INFO:tensorflow:Assets written to: /tmp/tmpjchbmbz5/assets\n",
      "2022-11-09 14:02:35.592908: W tensorflow/compiler/mlir/lite/python/tf_tfl_flatbuffer_helpers.cc:362] Ignored output_format.\n",
      "2022-11-09 14:02:35.593004: W tensorflow/compiler/mlir/lite/python/tf_tfl_flatbuffer_helpers.cc:365] Ignored drop_control_dependency.\n",
      "2022-11-09 14:02:35.593201: I tensorflow/cc/saved_model/reader.cc:45] Reading SavedModel from: /tmp/tmpjchbmbz5\n",
      "2022-11-09 14:02:35.595392: I tensorflow/cc/saved_model/reader.cc:89] Reading meta graph with tags { serve }\n",
      "2022-11-09 14:02:35.595438: I tensorflow/cc/saved_model/reader.cc:130] Reading SavedModel debug info (if present) from: /tmp/tmpjchbmbz5\n",
      "2022-11-09 14:02:35.602639: I tensorflow/cc/saved_model/loader.cc:229] Restoring SavedModel bundle.\n",
      "2022-11-09 14:02:35.662191: I tensorflow/cc/saved_model/loader.cc:213] Running initialization op on SavedModel bundle at path: /tmp/tmpjchbmbz5\n",
      "2022-11-09 14:02:35.677888: I tensorflow/cc/saved_model/loader.cc:305] SavedModel load for tags { serve }; Status: success: OK. Took 84685 microseconds.\n",
      "WARNING:absl:Found untraced functions such as _jit_compiled_convolution_op, _jit_compiled_convolution_op while saving (showing 2 of 2). These functions will not be directly callable after loading.\n"
     ]
    },
    {
     "name": "stdout",
     "output_type": "stream",
     "text": [
      "INFO:tensorflow:Assets written to: /tmp/tmpc31plsms/assets\n"
     ]
    },
    {
     "name": "stderr",
     "output_type": "stream",
     "text": [
      "INFO:tensorflow:Assets written to: /tmp/tmpc31plsms/assets\n",
      "2022-11-09 14:02:37.443846: W tensorflow/compiler/mlir/lite/python/tf_tfl_flatbuffer_helpers.cc:362] Ignored output_format.\n",
      "2022-11-09 14:02:37.443943: W tensorflow/compiler/mlir/lite/python/tf_tfl_flatbuffer_helpers.cc:365] Ignored drop_control_dependency.\n",
      "2022-11-09 14:02:37.444148: I tensorflow/cc/saved_model/reader.cc:45] Reading SavedModel from: /tmp/tmpc31plsms\n",
      "2022-11-09 14:02:37.446487: I tensorflow/cc/saved_model/reader.cc:89] Reading meta graph with tags { serve }\n",
      "2022-11-09 14:02:37.446541: I tensorflow/cc/saved_model/reader.cc:130] Reading SavedModel debug info (if present) from: /tmp/tmpc31plsms\n",
      "2022-11-09 14:02:37.453845: I tensorflow/cc/saved_model/loader.cc:229] Restoring SavedModel bundle.\n",
      "2022-11-09 14:02:37.514259: I tensorflow/cc/saved_model/loader.cc:213] Running initialization op on SavedModel bundle at path: /tmp/tmpc31plsms\n",
      "2022-11-09 14:02:37.529627: I tensorflow/cc/saved_model/loader.cc:305] SavedModel load for tags { serve }; Status: success: OK. Took 85477 microseconds.\n",
      "WARNING:absl:Found untraced functions such as _jit_compiled_convolution_op, _jit_compiled_convolution_op while saving (showing 2 of 2). These functions will not be directly callable after loading.\n"
     ]
    },
    {
     "name": "stdout",
     "output_type": "stream",
     "text": [
      "INFO:tensorflow:Assets written to: /tmp/tmp5j1zwc7j/assets\n"
     ]
    },
    {
     "name": "stderr",
     "output_type": "stream",
     "text": [
      "INFO:tensorflow:Assets written to: /tmp/tmp5j1zwc7j/assets\n",
      "2022-11-09 14:02:39.302409: W tensorflow/compiler/mlir/lite/python/tf_tfl_flatbuffer_helpers.cc:362] Ignored output_format.\n",
      "2022-11-09 14:02:39.302494: W tensorflow/compiler/mlir/lite/python/tf_tfl_flatbuffer_helpers.cc:365] Ignored drop_control_dependency.\n",
      "2022-11-09 14:02:39.302699: I tensorflow/cc/saved_model/reader.cc:45] Reading SavedModel from: /tmp/tmp5j1zwc7j\n",
      "2022-11-09 14:02:39.304822: I tensorflow/cc/saved_model/reader.cc:89] Reading meta graph with tags { serve }\n",
      "2022-11-09 14:02:39.304862: I tensorflow/cc/saved_model/reader.cc:130] Reading SavedModel debug info (if present) from: /tmp/tmp5j1zwc7j\n",
      "2022-11-09 14:02:39.311982: I tensorflow/cc/saved_model/loader.cc:229] Restoring SavedModel bundle.\n",
      "2022-11-09 14:02:39.372523: I tensorflow/cc/saved_model/loader.cc:213] Running initialization op on SavedModel bundle at path: /tmp/tmp5j1zwc7j\n",
      "2022-11-09 14:02:39.389309: I tensorflow/cc/saved_model/loader.cc:305] SavedModel load for tags { serve }; Status: success: OK. Took 86611 microseconds.\n",
      "WARNING:absl:Found untraced functions such as _jit_compiled_convolution_op, _jit_compiled_convolution_op while saving (showing 2 of 2). These functions will not be directly callable after loading.\n"
     ]
    },
    {
     "name": "stdout",
     "output_type": "stream",
     "text": [
      "INFO:tensorflow:Assets written to: /tmp/tmpwf6qkzcd/assets\n"
     ]
    },
    {
     "name": "stderr",
     "output_type": "stream",
     "text": [
      "INFO:tensorflow:Assets written to: /tmp/tmpwf6qkzcd/assets\n",
      "2022-11-09 14:02:41.171534: W tensorflow/compiler/mlir/lite/python/tf_tfl_flatbuffer_helpers.cc:362] Ignored output_format.\n",
      "2022-11-09 14:02:41.171623: W tensorflow/compiler/mlir/lite/python/tf_tfl_flatbuffer_helpers.cc:365] Ignored drop_control_dependency.\n",
      "2022-11-09 14:02:41.171828: I tensorflow/cc/saved_model/reader.cc:45] Reading SavedModel from: /tmp/tmpwf6qkzcd\n",
      "2022-11-09 14:02:41.173952: I tensorflow/cc/saved_model/reader.cc:89] Reading meta graph with tags { serve }\n",
      "2022-11-09 14:02:41.173994: I tensorflow/cc/saved_model/reader.cc:130] Reading SavedModel debug info (if present) from: /tmp/tmpwf6qkzcd\n",
      "2022-11-09 14:02:41.180691: I tensorflow/cc/saved_model/loader.cc:229] Restoring SavedModel bundle.\n",
      "2022-11-09 14:02:41.238217: I tensorflow/cc/saved_model/loader.cc:213] Running initialization op on SavedModel bundle at path: /tmp/tmpwf6qkzcd\n",
      "2022-11-09 14:02:41.252750: I tensorflow/cc/saved_model/loader.cc:305] SavedModel load for tags { serve }; Status: success: OK. Took 80921 microseconds.\n",
      "WARNING:absl:Found untraced functions such as _jit_compiled_convolution_op, _jit_compiled_convolution_op while saving (showing 2 of 2). These functions will not be directly callable after loading.\n"
     ]
    },
    {
     "name": "stdout",
     "output_type": "stream",
     "text": [
      "INFO:tensorflow:Assets written to: /tmp/tmp8_ocw48m/assets\n"
     ]
    },
    {
     "name": "stderr",
     "output_type": "stream",
     "text": [
      "INFO:tensorflow:Assets written to: /tmp/tmp8_ocw48m/assets\n",
      "2022-11-09 14:02:43.018635: W tensorflow/compiler/mlir/lite/python/tf_tfl_flatbuffer_helpers.cc:362] Ignored output_format.\n",
      "2022-11-09 14:02:43.018730: W tensorflow/compiler/mlir/lite/python/tf_tfl_flatbuffer_helpers.cc:365] Ignored drop_control_dependency.\n",
      "2022-11-09 14:02:43.018930: I tensorflow/cc/saved_model/reader.cc:45] Reading SavedModel from: /tmp/tmp8_ocw48m\n",
      "2022-11-09 14:02:43.021120: I tensorflow/cc/saved_model/reader.cc:89] Reading meta graph with tags { serve }\n",
      "2022-11-09 14:02:43.021165: I tensorflow/cc/saved_model/reader.cc:130] Reading SavedModel debug info (if present) from: /tmp/tmp8_ocw48m\n",
      "2022-11-09 14:02:43.028452: I tensorflow/cc/saved_model/loader.cc:229] Restoring SavedModel bundle.\n",
      "2022-11-09 14:02:43.089699: I tensorflow/cc/saved_model/loader.cc:213] Running initialization op on SavedModel bundle at path: /tmp/tmp8_ocw48m\n",
      "2022-11-09 14:02:43.105706: I tensorflow/cc/saved_model/loader.cc:305] SavedModel load for tags { serve }; Status: success: OK. Took 86773 microseconds.\n"
     ]
    },
    {
     "data": {
      "image/png": "[encoded data removed]",
      "text/plain": [
       "<Figure size 640x480 with 1 Axes>"
      ]
     },
     "metadata": {},
     "output_type": "display_data"
    },
    {
     "name": "stdout",
     "output_type": "stream",
     "text": [
      "fit df.shape (180191, 39)\n"
     ]
    },
    {
     "name": "stderr",
     "output_type": "stream",
     "text": [
      "WARNING:absl:Found untraced functions such as _jit_compiled_convolution_op, _jit_compiled_convolution_op while saving (showing 2 of 2). These functions will not be directly callable after loading.\n"
     ]
    },
    {
     "name": "stdout",
     "output_type": "stream",
     "text": [
      "INFO:tensorflow:Assets written to: /tmp/tmpmo1usch2/assets\n"
     ]
    },
    {
     "name": "stderr",
     "output_type": "stream",
     "text": [
      "INFO:tensorflow:Assets written to: /tmp/tmpmo1usch2/assets\n",
      "2022-11-09 14:13:28.868006: W tensorflow/compiler/mlir/lite/python/tf_tfl_flatbuffer_helpers.cc:362] Ignored output_format.\n",
      "2022-11-09 14:13:28.868101: W tensorflow/compiler/mlir/lite/python/tf_tfl_flatbuffer_helpers.cc:365] Ignored drop_control_dependency.\n",
      "2022-11-09 14:13:28.868301: I tensorflow/cc/saved_model/reader.cc:45] Reading SavedModel from: /tmp/tmpmo1usch2\n",
      "2022-11-09 14:13:28.870471: I tensorflow/cc/saved_model/reader.cc:89] Reading meta graph with tags { serve }\n",
      "2022-11-09 14:13:28.870508: I tensorflow/cc/saved_model/reader.cc:130] Reading SavedModel debug info (if present) from: /tmp/tmpmo1usch2\n",
      "2022-11-09 14:13:28.877514: I tensorflow/cc/saved_model/loader.cc:229] Restoring SavedModel bundle.\n",
      "2022-11-09 14:13:28.936126: I tensorflow/cc/saved_model/loader.cc:213] Running initialization op on SavedModel bundle at path: /tmp/tmpmo1usch2\n",
      "2022-11-09 14:13:28.952674: I tensorflow/cc/saved_model/loader.cc:305] SavedModel load for tags { serve }; Status: success: OK. Took 84372 microseconds.\n",
      "WARNING:absl:Found untraced functions such as _jit_compiled_convolution_op, _jit_compiled_convolution_op while saving (showing 2 of 2). These functions will not be directly callable after loading.\n"
     ]
    },
    {
     "name": "stdout",
     "output_type": "stream",
     "text": [
      "INFO:tensorflow:Assets written to: /tmp/tmpgmm20pih/assets\n"
     ]
    },
    {
     "name": "stderr",
     "output_type": "stream",
     "text": [
      "INFO:tensorflow:Assets written to: /tmp/tmpgmm20pih/assets\n",
      "2022-11-09 14:13:30.722553: W tensorflow/compiler/mlir/lite/python/tf_tfl_flatbuffer_helpers.cc:362] Ignored output_format.\n",
      "2022-11-09 14:13:30.722642: W tensorflow/compiler/mlir/lite/python/tf_tfl_flatbuffer_helpers.cc:365] Ignored drop_control_dependency.\n",
      "2022-11-09 14:13:30.722838: I tensorflow/cc/saved_model/reader.cc:45] Reading SavedModel from: /tmp/tmpgmm20pih\n",
      "2022-11-09 14:13:30.724990: I tensorflow/cc/saved_model/reader.cc:89] Reading meta graph with tags { serve }\n",
      "2022-11-09 14:13:30.725032: I tensorflow/cc/saved_model/reader.cc:130] Reading SavedModel debug info (if present) from: /tmp/tmpgmm20pih\n",
      "2022-11-09 14:13:30.732219: I tensorflow/cc/saved_model/loader.cc:229] Restoring SavedModel bundle.\n",
      "2022-11-09 14:13:30.791661: I tensorflow/cc/saved_model/loader.cc:213] Running initialization op on SavedModel bundle at path: /tmp/tmpgmm20pih\n",
      "2022-11-09 14:13:30.807444: I tensorflow/cc/saved_model/loader.cc:305] SavedModel load for tags { serve }; Status: success: OK. Took 84606 microseconds.\n",
      "WARNING:absl:Found untraced functions such as _jit_compiled_convolution_op, _jit_compiled_convolution_op while saving (showing 2 of 2). These functions will not be directly callable after loading.\n"
     ]
    },
    {
     "name": "stdout",
     "output_type": "stream",
     "text": [
      "INFO:tensorflow:Assets written to: /tmp/tmpxmq2sdsb/assets\n"
     ]
    },
    {
     "name": "stderr",
     "output_type": "stream",
     "text": [
      "INFO:tensorflow:Assets written to: /tmp/tmpxmq2sdsb/assets\n",
      "2022-11-09 14:13:32.603672: W tensorflow/compiler/mlir/lite/python/tf_tfl_flatbuffer_helpers.cc:362] Ignored output_format.\n",
      "2022-11-09 14:13:32.603762: W tensorflow/compiler/mlir/lite/python/tf_tfl_flatbuffer_helpers.cc:365] Ignored drop_control_dependency.\n",
      "2022-11-09 14:13:32.603955: I tensorflow/cc/saved_model/reader.cc:45] Reading SavedModel from: /tmp/tmpxmq2sdsb\n",
      "2022-11-09 14:13:32.606080: I tensorflow/cc/saved_model/reader.cc:89] Reading meta graph with tags { serve }\n",
      "2022-11-09 14:13:32.606122: I tensorflow/cc/saved_model/reader.cc:130] Reading SavedModel debug info (if present) from: /tmp/tmpxmq2sdsb\n",
      "2022-11-09 14:13:32.613220: I tensorflow/cc/saved_model/loader.cc:229] Restoring SavedModel bundle.\n",
      "2022-11-09 14:13:32.673604: I tensorflow/cc/saved_model/loader.cc:213] Running initialization op on SavedModel bundle at path: /tmp/tmpxmq2sdsb\n",
      "2022-11-09 14:13:32.688887: I tensorflow/cc/saved_model/loader.cc:305] SavedModel load for tags { serve }; Status: success: OK. Took 84931 microseconds.\n",
      "WARNING:absl:Found untraced functions such as _jit_compiled_convolution_op, _jit_compiled_convolution_op while saving (showing 2 of 2). These functions will not be directly callable after loading.\n"
     ]
    },
    {
     "name": "stdout",
     "output_type": "stream",
     "text": [
      "INFO:tensorflow:Assets written to: /tmp/tmpq99mghg2/assets\n"
     ]
    },
    {
     "name": "stderr",
     "output_type": "stream",
     "text": [
      "INFO:tensorflow:Assets written to: /tmp/tmpq99mghg2/assets\n",
      "2022-11-09 14:13:34.455720: W tensorflow/compiler/mlir/lite/python/tf_tfl_flatbuffer_helpers.cc:362] Ignored output_format.\n",
      "2022-11-09 14:13:34.455813: W tensorflow/compiler/mlir/lite/python/tf_tfl_flatbuffer_helpers.cc:365] Ignored drop_control_dependency.\n",
      "2022-11-09 14:13:34.456008: I tensorflow/cc/saved_model/reader.cc:45] Reading SavedModel from: /tmp/tmpq99mghg2\n",
      "2022-11-09 14:13:34.458226: I tensorflow/cc/saved_model/reader.cc:89] Reading meta graph with tags { serve }\n",
      "2022-11-09 14:13:34.458272: I tensorflow/cc/saved_model/reader.cc:130] Reading SavedModel debug info (if present) from: /tmp/tmpq99mghg2\n",
      "2022-11-09 14:13:34.465641: I tensorflow/cc/saved_model/loader.cc:229] Restoring SavedModel bundle.\n",
      "2022-11-09 14:13:34.526583: I tensorflow/cc/saved_model/loader.cc:213] Running initialization op on SavedModel bundle at path: /tmp/tmpq99mghg2\n",
      "2022-11-09 14:13:34.542442: I tensorflow/cc/saved_model/loader.cc:305] SavedModel load for tags { serve }; Status: success: OK. Took 86432 microseconds.\n",
      "WARNING:absl:Found untraced functions such as _jit_compiled_convolution_op, _jit_compiled_convolution_op while saving (showing 2 of 2). These functions will not be directly callable after loading.\n"
     ]
    },
    {
     "name": "stdout",
     "output_type": "stream",
     "text": [
      "INFO:tensorflow:Assets written to: /tmp/tmpsw_1haw2/assets\n"
     ]
    },
    {
     "name": "stderr",
     "output_type": "stream",
     "text": [
      "INFO:tensorflow:Assets written to: /tmp/tmpsw_1haw2/assets\n",
      "2022-11-09 14:13:36.311083: W tensorflow/compiler/mlir/lite/python/tf_tfl_flatbuffer_helpers.cc:362] Ignored output_format.\n",
      "2022-11-09 14:13:36.311166: W tensorflow/compiler/mlir/lite/python/tf_tfl_flatbuffer_helpers.cc:365] Ignored drop_control_dependency.\n",
      "2022-11-09 14:13:36.311357: I tensorflow/cc/saved_model/reader.cc:45] Reading SavedModel from: /tmp/tmpsw_1haw2\n",
      "2022-11-09 14:13:36.313550: I tensorflow/cc/saved_model/reader.cc:89] Reading meta graph with tags { serve }\n",
      "2022-11-09 14:13:36.313592: I tensorflow/cc/saved_model/reader.cc:130] Reading SavedModel debug info (if present) from: /tmp/tmpsw_1haw2\n",
      "2022-11-09 14:13:36.320607: I tensorflow/cc/saved_model/loader.cc:229] Restoring SavedModel bundle.\n",
      "2022-11-09 14:13:36.379231: I tensorflow/cc/saved_model/loader.cc:213] Running initialization op on SavedModel bundle at path: /tmp/tmpsw_1haw2\n",
      "2022-11-09 14:13:36.394546: I tensorflow/cc/saved_model/loader.cc:305] SavedModel load for tags { serve }; Status: success: OK. Took 83188 microseconds.\n",
      "WARNING:absl:Found untraced functions such as _jit_compiled_convolution_op, _jit_compiled_convolution_op while saving (showing 2 of 2). These functions will not be directly callable after loading.\n"
     ]
    },
    {
     "name": "stdout",
     "output_type": "stream",
     "text": [
      "INFO:tensorflow:Assets written to: /tmp/tmpg6lm4xhv/assets\n"
     ]
    },
    {
     "name": "stderr",
     "output_type": "stream",
     "text": [
      "INFO:tensorflow:Assets written to: /tmp/tmpg6lm4xhv/assets\n",
      "2022-11-09 14:13:38.180922: W tensorflow/compiler/mlir/lite/python/tf_tfl_flatbuffer_helpers.cc:362] Ignored output_format.\n",
      "2022-11-09 14:13:38.181009: W tensorflow/compiler/mlir/lite/python/tf_tfl_flatbuffer_helpers.cc:365] Ignored drop_control_dependency.\n",
      "2022-11-09 14:13:38.181204: I tensorflow/cc/saved_model/reader.cc:45] Reading SavedModel from: /tmp/tmpg6lm4xhv\n",
      "2022-11-09 14:13:38.183353: I tensorflow/cc/saved_model/reader.cc:89] Reading meta graph with tags { serve }\n",
      "2022-11-09 14:13:38.183394: I tensorflow/cc/saved_model/reader.cc:130] Reading SavedModel debug info (if present) from: /tmp/tmpg6lm4xhv\n",
      "2022-11-09 14:13:38.190379: I tensorflow/cc/saved_model/loader.cc:229] Restoring SavedModel bundle.\n",
      "2022-11-09 14:13:38.249039: I tensorflow/cc/saved_model/loader.cc:213] Running initialization op on SavedModel bundle at path: /tmp/tmpg6lm4xhv\n",
      "2022-11-09 14:13:38.264529: I tensorflow/cc/saved_model/loader.cc:305] SavedModel load for tags { serve }; Status: success: OK. Took 83325 microseconds.\n",
      "WARNING:absl:Found untraced functions such as _jit_compiled_convolution_op, _jit_compiled_convolution_op while saving (showing 2 of 2). These functions will not be directly callable after loading.\n"
     ]
    },
    {
     "name": "stdout",
     "output_type": "stream",
     "text": [
      "INFO:tensorflow:Assets written to: /tmp/tmp__ptiwhd/assets\n"
     ]
    },
    {
     "name": "stderr",
     "output_type": "stream",
     "text": [
      "INFO:tensorflow:Assets written to: /tmp/tmp__ptiwhd/assets\n",
      "2022-11-09 14:13:40.025776: W tensorflow/compiler/mlir/lite/python/tf_tfl_flatbuffer_helpers.cc:362] Ignored output_format.\n",
      "2022-11-09 14:13:40.025867: W tensorflow/compiler/mlir/lite/python/tf_tfl_flatbuffer_helpers.cc:365] Ignored drop_control_dependency.\n",
      "2022-11-09 14:13:40.026062: I tensorflow/cc/saved_model/reader.cc:45] Reading SavedModel from: /tmp/tmp__ptiwhd\n",
      "2022-11-09 14:13:40.028202: I tensorflow/cc/saved_model/reader.cc:89] Reading meta graph with tags { serve }\n",
      "2022-11-09 14:13:40.028246: I tensorflow/cc/saved_model/reader.cc:130] Reading SavedModel debug info (if present) from: /tmp/tmp__ptiwhd\n",
      "2022-11-09 14:13:40.035421: I tensorflow/cc/saved_model/loader.cc:229] Restoring SavedModel bundle.\n",
      "2022-11-09 14:13:40.094187: I tensorflow/cc/saved_model/loader.cc:213] Running initialization op on SavedModel bundle at path: /tmp/tmp__ptiwhd\n",
      "2022-11-09 14:13:40.109519: I tensorflow/cc/saved_model/loader.cc:305] SavedModel load for tags { serve }; Status: success: OK. Took 83450 microseconds.\n",
      "WARNING:absl:Found untraced functions such as _jit_compiled_convolution_op, _jit_compiled_convolution_op while saving (showing 2 of 2). These functions will not be directly callable after loading.\n"
     ]
    },
    {
     "name": "stdout",
     "output_type": "stream",
     "text": [
      "INFO:tensorflow:Assets written to: /tmp/tmp08f4a5ea/assets\n"
     ]
    },
    {
     "name": "stderr",
     "output_type": "stream",
     "text": [
      "INFO:tensorflow:Assets written to: /tmp/tmp08f4a5ea/assets\n",
      "2022-11-09 14:13:41.864815: W tensorflow/compiler/mlir/lite/python/tf_tfl_flatbuffer_helpers.cc:362] Ignored output_format.\n",
      "2022-11-09 14:13:41.864901: W tensorflow/compiler/mlir/lite/python/tf_tfl_flatbuffer_helpers.cc:365] Ignored drop_control_dependency.\n",
      "2022-11-09 14:13:41.865094: I tensorflow/cc/saved_model/reader.cc:45] Reading SavedModel from: /tmp/tmp08f4a5ea\n",
      "2022-11-09 14:13:41.867219: I tensorflow/cc/saved_model/reader.cc:89] Reading meta graph with tags { serve }\n",
      "2022-11-09 14:13:41.867259: I tensorflow/cc/saved_model/reader.cc:130] Reading SavedModel debug info (if present) from: /tmp/tmp08f4a5ea\n",
      "2022-11-09 14:13:41.874282: I tensorflow/cc/saved_model/loader.cc:229] Restoring SavedModel bundle.\n",
      "2022-11-09 14:13:41.931691: I tensorflow/cc/saved_model/loader.cc:213] Running initialization op on SavedModel bundle at path: /tmp/tmp08f4a5ea\n",
      "2022-11-09 14:13:41.946517: I tensorflow/cc/saved_model/loader.cc:305] SavedModel load for tags { serve }; Status: success: OK. Took 81422 microseconds.\n",
      "WARNING:absl:Found untraced functions such as _jit_compiled_convolution_op, _jit_compiled_convolution_op while saving (showing 2 of 2). These functions will not be directly callable after loading.\n"
     ]
    },
    {
     "name": "stdout",
     "output_type": "stream",
     "text": [
      "INFO:tensorflow:Assets written to: /tmp/tmp4asqxh9n/assets\n"
     ]
    },
    {
     "name": "stderr",
     "output_type": "stream",
     "text": [
      "INFO:tensorflow:Assets written to: /tmp/tmp4asqxh9n/assets\n",
      "2022-11-09 14:13:43.727822: W tensorflow/compiler/mlir/lite/python/tf_tfl_flatbuffer_helpers.cc:362] Ignored output_format.\n",
      "2022-11-09 14:13:43.727912: W tensorflow/compiler/mlir/lite/python/tf_tfl_flatbuffer_helpers.cc:365] Ignored drop_control_dependency.\n",
      "2022-11-09 14:13:43.728107: I tensorflow/cc/saved_model/reader.cc:45] Reading SavedModel from: /tmp/tmp4asqxh9n\n",
      "2022-11-09 14:13:43.730220: I tensorflow/cc/saved_model/reader.cc:89] Reading meta graph with tags { serve }\n",
      "2022-11-09 14:13:43.730261: I tensorflow/cc/saved_model/reader.cc:130] Reading SavedModel debug info (if present) from: /tmp/tmp4asqxh9n\n",
      "2022-11-09 14:13:43.737044: I tensorflow/cc/saved_model/loader.cc:229] Restoring SavedModel bundle.\n",
      "2022-11-09 14:13:43.794096: I tensorflow/cc/saved_model/loader.cc:213] Running initialization op on SavedModel bundle at path: /tmp/tmp4asqxh9n\n",
      "2022-11-09 14:13:43.808826: I tensorflow/cc/saved_model/loader.cc:305] SavedModel load for tags { serve }; Status: success: OK. Took 80718 microseconds.\n",
      "WARNING:absl:Found untraced functions such as _jit_compiled_convolution_op, _jit_compiled_convolution_op while saving (showing 2 of 2). These functions will not be directly callable after loading.\n"
     ]
    },
    {
     "name": "stdout",
     "output_type": "stream",
     "text": [
      "INFO:tensorflow:Assets written to: /tmp/tmpoql346po/assets\n"
     ]
    },
    {
     "name": "stderr",
     "output_type": "stream",
     "text": [
      "INFO:tensorflow:Assets written to: /tmp/tmpoql346po/assets\n",
      "2022-11-09 14:13:45.601102: W tensorflow/compiler/mlir/lite/python/tf_tfl_flatbuffer_helpers.cc:362] Ignored output_format.\n",
      "2022-11-09 14:13:45.601197: W tensorflow/compiler/mlir/lite/python/tf_tfl_flatbuffer_helpers.cc:365] Ignored drop_control_dependency.\n",
      "2022-11-09 14:13:45.601401: I tensorflow/cc/saved_model/reader.cc:45] Reading SavedModel from: /tmp/tmpoql346po\n",
      "2022-11-09 14:13:45.604170: I tensorflow/cc/saved_model/reader.cc:89] Reading meta graph with tags { serve }\n",
      "2022-11-09 14:13:45.604211: I tensorflow/cc/saved_model/reader.cc:130] Reading SavedModel debug info (if present) from: /tmp/tmpoql346po\n",
      "2022-11-09 14:13:45.623422: I tensorflow/cc/saved_model/loader.cc:229] Restoring SavedModel bundle.\n",
      "2022-11-09 14:13:45.686031: I tensorflow/cc/saved_model/loader.cc:213] Running initialization op on SavedModel bundle at path: /tmp/tmpoql346po\n",
      "2022-11-09 14:13:45.701270: I tensorflow/cc/saved_model/loader.cc:305] SavedModel load for tags { serve }; Status: success: OK. Took 99867 microseconds.\n"
     ]
    },
    {
     "data": {
      "image/png": "[encoded data removed]",
      "text/plain": [
       "<Figure size 640x480 with 1 Axes>"
      ]
     },
     "metadata": {},
     "output_type": "display_data"
    },
    {
     "name": "stdout",
     "output_type": "stream",
     "text": [
      "return without cost statistics\n",
      "mean 0.0015619292137827253\n",
      "std 0.009780936343965629\n",
      "sharpe 0.15969117463343488\n",
      "double sharpe 1.9560698930832017\n",
      "max drawdown 0.20577395909303678\n",
      "return with cost statistics\n",
      "mean 0.00034221815203647\n",
      "std 0.009801840720118677\n",
      "sharpe 0.03491366181191389\n",
      "double sharpe 0.1901204395571943\n",
      "max drawdown 0.20589465163452306\n"
     ]
    },
    {
     "data": {
      "image/png": "[encoded data removed]",
      "text/plain": [
       "<Figure size 640x480 with 1 Axes>"
      ]
     },
     "metadata": {},
     "output_type": "display_data"
    },
    {
     "data": {
      "image/png": "[encoded data removed]",
      "text/plain": [
       "<Figure size 640x480 with 1 Axes>"
      ]
     },
     "metadata": {},
     "output_type": "display_data"
    },
    {
     "data": {
      "image/png": "[encoded data removed]",
      "text/plain": [
       "<Figure size 640x480 with 1 Axes>"
      ]
     },
     "metadata": {},
     "output_type": "display_data"
    },
    {
     "data": {
      "image/png": "[encoded data removed]",
      "text/plain": [
       "<Figure size 640x480 with 1 Axes>"
      ]
     },
     "metadata": {},
     "output_type": "display_data"
    },
    {
     "name": "stdout",
     "output_type": "stream",
     "text": [
      "fit df.shape (232490, 39)\n"
     ]
    },
    {
     "name": "stderr",
     "output_type": "stream",
     "text": [
      "WARNING:absl:Found untraced functions such as _jit_compiled_convolution_op, _jit_compiled_convolution_op while saving (showing 2 of 2). These functions will not be directly callable after loading.\n"
     ]
    },
    {
     "name": "stdout",
     "output_type": "stream",
     "text": [
      "INFO:tensorflow:Assets written to: /tmp/tmp6f0_p6b4/assets\n"
     ]
    },
    {
     "name": "stderr",
     "output_type": "stream",
     "text": [
      "INFO:tensorflow:Assets written to: /tmp/tmp6f0_p6b4/assets\n",
      "2022-11-09 15:10:23.037621: W tensorflow/compiler/mlir/lite/python/tf_tfl_flatbuffer_helpers.cc:362] Ignored output_format.\n",
      "2022-11-09 15:10:23.037717: W tensorflow/compiler/mlir/lite/python/tf_tfl_flatbuffer_helpers.cc:365] Ignored drop_control_dependency.\n",
      "2022-11-09 15:10:23.038215: I tensorflow/cc/saved_model/reader.cc:45] Reading SavedModel from: /tmp/tmp6f0_p6b4\n",
      "2022-11-09 15:10:23.040973: I tensorflow/cc/saved_model/reader.cc:89] Reading meta graph with tags { serve }\n",
      "2022-11-09 15:10:23.041045: I tensorflow/cc/saved_model/reader.cc:130] Reading SavedModel debug info (if present) from: /tmp/tmp6f0_p6b4\n",
      "2022-11-09 15:10:23.048363: I tensorflow/cc/saved_model/loader.cc:229] Restoring SavedModel bundle.\n",
      "2022-11-09 15:10:23.107577: I tensorflow/cc/saved_model/loader.cc:213] Running initialization op on SavedModel bundle at path: /tmp/tmp6f0_p6b4\n",
      "2022-11-09 15:10:23.122983: I tensorflow/cc/saved_model/loader.cc:305] SavedModel load for tags { serve }; Status: success: OK. Took 84787 microseconds.\n",
      "WARNING:absl:Found untraced functions such as _jit_compiled_convolution_op, _jit_compiled_convolution_op while saving (showing 2 of 2). These functions will not be directly callable after loading.\n"
     ]
    },
    {
     "name": "stdout",
     "output_type": "stream",
     "text": [
      "INFO:tensorflow:Assets written to: /tmp/tmp0lokci7f/assets\n"
     ]
    },
    {
     "name": "stderr",
     "output_type": "stream",
     "text": [
      "INFO:tensorflow:Assets written to: /tmp/tmp0lokci7f/assets\n",
      "2022-11-09 15:10:24.930585: W tensorflow/compiler/mlir/lite/python/tf_tfl_flatbuffer_helpers.cc:362] Ignored output_format.\n",
      "2022-11-09 15:10:24.930668: W tensorflow/compiler/mlir/lite/python/tf_tfl_flatbuffer_helpers.cc:365] Ignored drop_control_dependency.\n",
      "2022-11-09 15:10:24.930861: I tensorflow/cc/saved_model/reader.cc:45] Reading SavedModel from: /tmp/tmp0lokci7f\n",
      "2022-11-09 15:10:24.933170: I tensorflow/cc/saved_model/reader.cc:89] Reading meta graph with tags { serve }\n",
      "2022-11-09 15:10:24.933209: I tensorflow/cc/saved_model/reader.cc:130] Reading SavedModel debug info (if present) from: /tmp/tmp0lokci7f\n",
      "2022-11-09 15:10:24.944231: I tensorflow/cc/saved_model/loader.cc:229] Restoring SavedModel bundle.\n",
      "2022-11-09 15:10:25.005899: I tensorflow/cc/saved_model/loader.cc:213] Running initialization op on SavedModel bundle at path: /tmp/tmp0lokci7f\n",
      "2022-11-09 15:10:25.021268: I tensorflow/cc/saved_model/loader.cc:305] SavedModel load for tags { serve }; Status: success: OK. Took 90407 microseconds.\n",
      "WARNING:absl:Found untraced functions such as _jit_compiled_convolution_op, _jit_compiled_convolution_op while saving (showing 2 of 2). These functions will not be directly callable after loading.\n"
     ]
    },
    {
     "name": "stdout",
     "output_type": "stream",
     "text": [
      "INFO:tensorflow:Assets written to: /tmp/tmpfwabjj9h/assets\n"
     ]
    },
    {
     "name": "stderr",
     "output_type": "stream",
     "text": [
      "INFO:tensorflow:Assets written to: /tmp/tmpfwabjj9h/assets\n",
      "2022-11-09 15:10:28.373064: W tensorflow/compiler/mlir/lite/python/tf_tfl_flatbuffer_helpers.cc:362] Ignored output_format.\n",
      "2022-11-09 15:10:28.373153: W tensorflow/compiler/mlir/lite/python/tf_tfl_flatbuffer_helpers.cc:365] Ignored drop_control_dependency.\n",
      "2022-11-09 15:10:28.373363: I tensorflow/cc/saved_model/reader.cc:45] Reading SavedModel from: /tmp/tmpfwabjj9h\n",
      "2022-11-09 15:10:28.378850: I tensorflow/cc/saved_model/reader.cc:89] Reading meta graph with tags { serve }\n",
      "2022-11-09 15:10:28.378904: I tensorflow/cc/saved_model/reader.cc:130] Reading SavedModel debug info (if present) from: /tmp/tmpfwabjj9h\n",
      "2022-11-09 15:10:28.405072: I tensorflow/cc/saved_model/loader.cc:229] Restoring SavedModel bundle.\n",
      "2022-11-09 15:10:28.539233: I tensorflow/cc/saved_model/loader.cc:213] Running initialization op on SavedModel bundle at path: /tmp/tmpfwabjj9h\n",
      "2022-11-09 15:10:28.582279: I tensorflow/cc/saved_model/loader.cc:305] SavedModel load for tags { serve }; Status: success: OK. Took 208917 microseconds.\n",
      "WARNING:absl:Found untraced functions such as _jit_compiled_convolution_op, _jit_compiled_convolution_op while saving (showing 2 of 2). These functions will not be directly callable after loading.\n"
     ]
    },
    {
     "name": "stdout",
     "output_type": "stream",
     "text": [
      "INFO:tensorflow:Assets written to: /tmp/tmpgptngv0f/assets\n"
     ]
    },
    {
     "name": "stderr",
     "output_type": "stream",
     "text": [
      "INFO:tensorflow:Assets written to: /tmp/tmpgptngv0f/assets\n",
      "2022-11-09 15:10:30.772663: W tensorflow/compiler/mlir/lite/python/tf_tfl_flatbuffer_helpers.cc:362] Ignored output_format.\n",
      "2022-11-09 15:10:30.772749: W tensorflow/compiler/mlir/lite/python/tf_tfl_flatbuffer_helpers.cc:365] Ignored drop_control_dependency.\n",
      "2022-11-09 15:10:30.772952: I tensorflow/cc/saved_model/reader.cc:45] Reading SavedModel from: /tmp/tmpgptngv0f\n",
      "2022-11-09 15:10:30.777220: I tensorflow/cc/saved_model/reader.cc:89] Reading meta graph with tags { serve }\n",
      "2022-11-09 15:10:30.777270: I tensorflow/cc/saved_model/reader.cc:130] Reading SavedModel debug info (if present) from: /tmp/tmpgptngv0f\n",
      "2022-11-09 15:10:30.790800: I tensorflow/cc/saved_model/loader.cc:229] Restoring SavedModel bundle.\n",
      "2022-11-09 15:10:30.863235: I tensorflow/cc/saved_model/loader.cc:213] Running initialization op on SavedModel bundle at path: /tmp/tmpgptngv0f\n",
      "2022-11-09 15:10:30.885836: I tensorflow/cc/saved_model/loader.cc:305] SavedModel load for tags { serve }; Status: success: OK. Took 112883 microseconds.\n",
      "WARNING:absl:Found untraced functions such as _jit_compiled_convolution_op, _jit_compiled_convolution_op while saving (showing 2 of 2). These functions will not be directly callable after loading.\n"
     ]
    },
    {
     "name": "stdout",
     "output_type": "stream",
     "text": [
      "INFO:tensorflow:Assets written to: /tmp/tmpm0064xw6/assets\n"
     ]
    },
    {
     "name": "stderr",
     "output_type": "stream",
     "text": [
      "INFO:tensorflow:Assets written to: /tmp/tmpm0064xw6/assets\n",
      "2022-11-09 15:10:32.798274: W tensorflow/compiler/mlir/lite/python/tf_tfl_flatbuffer_helpers.cc:362] Ignored output_format.\n",
      "2022-11-09 15:10:32.798365: W tensorflow/compiler/mlir/lite/python/tf_tfl_flatbuffer_helpers.cc:365] Ignored drop_control_dependency.\n",
      "2022-11-09 15:10:32.798571: I tensorflow/cc/saved_model/reader.cc:45] Reading SavedModel from: /tmp/tmpm0064xw6\n",
      "2022-11-09 15:10:32.801121: I tensorflow/cc/saved_model/reader.cc:89] Reading meta graph with tags { serve }\n",
      "2022-11-09 15:10:32.801161: I tensorflow/cc/saved_model/reader.cc:130] Reading SavedModel debug info (if present) from: /tmp/tmpm0064xw6\n",
      "2022-11-09 15:10:32.808482: I tensorflow/cc/saved_model/loader.cc:229] Restoring SavedModel bundle.\n",
      "2022-11-09 15:10:32.868923: I tensorflow/cc/saved_model/loader.cc:213] Running initialization op on SavedModel bundle at path: /tmp/tmpm0064xw6\n",
      "2022-11-09 15:10:32.885019: I tensorflow/cc/saved_model/loader.cc:305] SavedModel load for tags { serve }; Status: success: OK. Took 86447 microseconds.\n",
      "WARNING:absl:Found untraced functions such as _jit_compiled_convolution_op, _jit_compiled_convolution_op while saving (showing 2 of 2). These functions will not be directly callable after loading.\n"
     ]
    },
    {
     "name": "stdout",
     "output_type": "stream",
     "text": [
      "INFO:tensorflow:Assets written to: /tmp/tmp76p7flc8/assets\n"
     ]
    },
    {
     "name": "stderr",
     "output_type": "stream",
     "text": [
      "INFO:tensorflow:Assets written to: /tmp/tmp76p7flc8/assets\n",
      "2022-11-09 15:10:34.673388: W tensorflow/compiler/mlir/lite/python/tf_tfl_flatbuffer_helpers.cc:362] Ignored output_format.\n",
      "2022-11-09 15:10:34.673491: W tensorflow/compiler/mlir/lite/python/tf_tfl_flatbuffer_helpers.cc:365] Ignored drop_control_dependency.\n",
      "2022-11-09 15:10:34.673695: I tensorflow/cc/saved_model/reader.cc:45] Reading SavedModel from: /tmp/tmp76p7flc8\n",
      "2022-11-09 15:10:34.675814: I tensorflow/cc/saved_model/reader.cc:89] Reading meta graph with tags { serve }\n",
      "2022-11-09 15:10:34.675853: I tensorflow/cc/saved_model/reader.cc:130] Reading SavedModel debug info (if present) from: /tmp/tmp76p7flc8\n",
      "2022-11-09 15:10:34.682948: I tensorflow/cc/saved_model/loader.cc:229] Restoring SavedModel bundle.\n",
      "2022-11-09 15:10:34.741950: I tensorflow/cc/saved_model/loader.cc:213] Running initialization op on SavedModel bundle at path: /tmp/tmp76p7flc8\n",
      "2022-11-09 15:10:34.757208: I tensorflow/cc/saved_model/loader.cc:305] SavedModel load for tags { serve }; Status: success: OK. Took 83515 microseconds.\n",
      "WARNING:absl:Found untraced functions such as _jit_compiled_convolution_op, _jit_compiled_convolution_op while saving (showing 2 of 2). These functions will not be directly callable after loading.\n"
     ]
    },
    {
     "name": "stdout",
     "output_type": "stream",
     "text": [
      "INFO:tensorflow:Assets written to: /tmp/tmp_n6m4rc0/assets\n"
     ]
    },
    {
     "name": "stderr",
     "output_type": "stream",
     "text": [
      "INFO:tensorflow:Assets written to: /tmp/tmp_n6m4rc0/assets\n",
      "2022-11-09 15:10:36.536459: W tensorflow/compiler/mlir/lite/python/tf_tfl_flatbuffer_helpers.cc:362] Ignored output_format.\n",
      "2022-11-09 15:10:36.536555: W tensorflow/compiler/mlir/lite/python/tf_tfl_flatbuffer_helpers.cc:365] Ignored drop_control_dependency.\n",
      "2022-11-09 15:10:36.536768: I tensorflow/cc/saved_model/reader.cc:45] Reading SavedModel from: /tmp/tmp_n6m4rc0\n",
      "2022-11-09 15:10:36.538967: I tensorflow/cc/saved_model/reader.cc:89] Reading meta graph with tags { serve }\n",
      "2022-11-09 15:10:36.539014: I tensorflow/cc/saved_model/reader.cc:130] Reading SavedModel debug info (if present) from: /tmp/tmp_n6m4rc0\n",
      "2022-11-09 15:10:36.546037: I tensorflow/cc/saved_model/loader.cc:229] Restoring SavedModel bundle.\n",
      "2022-11-09 15:10:36.605815: I tensorflow/cc/saved_model/loader.cc:213] Running initialization op on SavedModel bundle at path: /tmp/tmp_n6m4rc0\n",
      "2022-11-09 15:10:36.622226: I tensorflow/cc/saved_model/loader.cc:305] SavedModel load for tags { serve }; Status: success: OK. Took 85456 microseconds.\n",
      "WARNING:absl:Found untraced functions such as _jit_compiled_convolution_op, _jit_compiled_convolution_op while saving (showing 2 of 2). These functions will not be directly callable after loading.\n"
     ]
    },
    {
     "name": "stdout",
     "output_type": "stream",
     "text": [
      "INFO:tensorflow:Assets written to: /tmp/tmp6960y1sw/assets\n"
     ]
    },
    {
     "name": "stderr",
     "output_type": "stream",
     "text": [
      "INFO:tensorflow:Assets written to: /tmp/tmp6960y1sw/assets\n",
      "2022-11-09 15:10:38.373984: W tensorflow/compiler/mlir/lite/python/tf_tfl_flatbuffer_helpers.cc:362] Ignored output_format.\n",
      "2022-11-09 15:10:38.374074: W tensorflow/compiler/mlir/lite/python/tf_tfl_flatbuffer_helpers.cc:365] Ignored drop_control_dependency.\n",
      "2022-11-09 15:10:38.374278: I tensorflow/cc/saved_model/reader.cc:45] Reading SavedModel from: /tmp/tmp6960y1sw\n",
      "2022-11-09 15:10:38.376457: I tensorflow/cc/saved_model/reader.cc:89] Reading meta graph with tags { serve }\n",
      "2022-11-09 15:10:38.376499: I tensorflow/cc/saved_model/reader.cc:130] Reading SavedModel debug info (if present) from: /tmp/tmp6960y1sw\n",
      "2022-11-09 15:10:38.383753: I tensorflow/cc/saved_model/loader.cc:229] Restoring SavedModel bundle.\n",
      "2022-11-09 15:10:38.445999: I tensorflow/cc/saved_model/loader.cc:213] Running initialization op on SavedModel bundle at path: /tmp/tmp6960y1sw\n",
      "2022-11-09 15:10:38.461695: I tensorflow/cc/saved_model/loader.cc:305] SavedModel load for tags { serve }; Status: success: OK. Took 87417 microseconds.\n",
      "WARNING:absl:Found untraced functions such as _jit_compiled_convolution_op, _jit_compiled_convolution_op while saving (showing 2 of 2). These functions will not be directly callable after loading.\n"
     ]
    },
    {
     "name": "stdout",
     "output_type": "stream",
     "text": [
      "INFO:tensorflow:Assets written to: /tmp/tmpu22egnxh/assets\n"
     ]
    },
    {
     "name": "stderr",
     "output_type": "stream",
     "text": [
      "INFO:tensorflow:Assets written to: /tmp/tmpu22egnxh/assets\n",
      "2022-11-09 15:10:40.237923: W tensorflow/compiler/mlir/lite/python/tf_tfl_flatbuffer_helpers.cc:362] Ignored output_format.\n",
      "2022-11-09 15:10:40.238010: W tensorflow/compiler/mlir/lite/python/tf_tfl_flatbuffer_helpers.cc:365] Ignored drop_control_dependency.\n",
      "2022-11-09 15:10:40.238210: I tensorflow/cc/saved_model/reader.cc:45] Reading SavedModel from: /tmp/tmpu22egnxh\n",
      "2022-11-09 15:10:40.240342: I tensorflow/cc/saved_model/reader.cc:89] Reading meta graph with tags { serve }\n",
      "2022-11-09 15:10:40.240383: I tensorflow/cc/saved_model/reader.cc:130] Reading SavedModel debug info (if present) from: /tmp/tmpu22egnxh\n",
      "2022-11-09 15:10:40.247484: I tensorflow/cc/saved_model/loader.cc:229] Restoring SavedModel bundle.\n",
      "2022-11-09 15:10:40.306436: I tensorflow/cc/saved_model/loader.cc:213] Running initialization op on SavedModel bundle at path: /tmp/tmpu22egnxh\n",
      "2022-11-09 15:10:40.322126: I tensorflow/cc/saved_model/loader.cc:305] SavedModel load for tags { serve }; Status: success: OK. Took 83914 microseconds.\n",
      "WARNING:absl:Found untraced functions such as _jit_compiled_convolution_op, _jit_compiled_convolution_op while saving (showing 2 of 2). These functions will not be directly callable after loading.\n"
     ]
    },
    {
     "name": "stdout",
     "output_type": "stream",
     "text": [
      "INFO:tensorflow:Assets written to: /tmp/tmpe3okidx6/assets\n"
     ]
    },
    {
     "name": "stderr",
     "output_type": "stream",
     "text": [
      "INFO:tensorflow:Assets written to: /tmp/tmpe3okidx6/assets\n",
      "2022-11-09 15:10:42.132815: W tensorflow/compiler/mlir/lite/python/tf_tfl_flatbuffer_helpers.cc:362] Ignored output_format.\n",
      "2022-11-09 15:10:42.132911: W tensorflow/compiler/mlir/lite/python/tf_tfl_flatbuffer_helpers.cc:365] Ignored drop_control_dependency.\n",
      "2022-11-09 15:10:42.133124: I tensorflow/cc/saved_model/reader.cc:45] Reading SavedModel from: /tmp/tmpe3okidx6\n",
      "2022-11-09 15:10:42.135359: I tensorflow/cc/saved_model/reader.cc:89] Reading meta graph with tags { serve }\n",
      "2022-11-09 15:10:42.135413: I tensorflow/cc/saved_model/reader.cc:130] Reading SavedModel debug info (if present) from: /tmp/tmpe3okidx6\n",
      "2022-11-09 15:10:42.142948: I tensorflow/cc/saved_model/loader.cc:229] Restoring SavedModel bundle.\n",
      "2022-11-09 15:10:42.207005: I tensorflow/cc/saved_model/loader.cc:213] Running initialization op on SavedModel bundle at path: /tmp/tmpe3okidx6\n",
      "2022-11-09 15:10:42.224045: I tensorflow/cc/saved_model/loader.cc:305] SavedModel load for tags { serve }; Status: success: OK. Took 90920 microseconds.\n",
      "WARNING:absl:Found untraced functions such as _jit_compiled_convolution_op, _jit_compiled_convolution_op while saving (showing 2 of 2). These functions will not be directly callable after loading.\n"
     ]
    },
    {
     "name": "stdout",
     "output_type": "stream",
     "text": [
      "INFO:tensorflow:Assets written to: /tmp/tmp5aux864o/assets\n"
     ]
    },
    {
     "name": "stderr",
     "output_type": "stream",
     "text": [
      "INFO:tensorflow:Assets written to: /tmp/tmp5aux864o/assets\n",
      "2022-11-09 15:10:44.027422: W tensorflow/compiler/mlir/lite/python/tf_tfl_flatbuffer_helpers.cc:362] Ignored output_format.\n",
      "2022-11-09 15:10:44.027522: W tensorflow/compiler/mlir/lite/python/tf_tfl_flatbuffer_helpers.cc:365] Ignored drop_control_dependency.\n",
      "2022-11-09 15:10:44.027721: I tensorflow/cc/saved_model/reader.cc:45] Reading SavedModel from: /tmp/tmp5aux864o\n",
      "2022-11-09 15:10:44.029871: I tensorflow/cc/saved_model/reader.cc:89] Reading meta graph with tags { serve }\n",
      "2022-11-09 15:10:44.029911: I tensorflow/cc/saved_model/reader.cc:130] Reading SavedModel debug info (if present) from: /tmp/tmp5aux864o\n",
      "2022-11-09 15:10:44.037057: I tensorflow/cc/saved_model/loader.cc:229] Restoring SavedModel bundle.\n",
      "2022-11-09 15:10:44.095982: I tensorflow/cc/saved_model/loader.cc:213] Running initialization op on SavedModel bundle at path: /tmp/tmp5aux864o\n",
      "2022-11-09 15:10:44.111303: I tensorflow/cc/saved_model/loader.cc:305] SavedModel load for tags { serve }; Status: success: OK. Took 83581 microseconds.\n",
      "WARNING:absl:Found untraced functions such as _jit_compiled_convolution_op, _jit_compiled_convolution_op while saving (showing 2 of 2). These functions will not be directly callable after loading.\n"
     ]
    },
    {
     "name": "stdout",
     "output_type": "stream",
     "text": [
      "INFO:tensorflow:Assets written to: /tmp/tmpdptknruy/assets\n"
     ]
    },
    {
     "name": "stderr",
     "output_type": "stream",
     "text": [
      "INFO:tensorflow:Assets written to: /tmp/tmpdptknruy/assets\n",
      "2022-11-09 15:10:45.876985: W tensorflow/compiler/mlir/lite/python/tf_tfl_flatbuffer_helpers.cc:362] Ignored output_format.\n",
      "2022-11-09 15:10:45.877076: W tensorflow/compiler/mlir/lite/python/tf_tfl_flatbuffer_helpers.cc:365] Ignored drop_control_dependency.\n",
      "2022-11-09 15:10:45.877272: I tensorflow/cc/saved_model/reader.cc:45] Reading SavedModel from: /tmp/tmpdptknruy\n",
      "2022-11-09 15:10:45.879476: I tensorflow/cc/saved_model/reader.cc:89] Reading meta graph with tags { serve }\n",
      "2022-11-09 15:10:45.879525: I tensorflow/cc/saved_model/reader.cc:130] Reading SavedModel debug info (if present) from: /tmp/tmpdptknruy\n",
      "2022-11-09 15:10:45.886731: I tensorflow/cc/saved_model/loader.cc:229] Restoring SavedModel bundle.\n",
      "2022-11-09 15:10:45.946467: I tensorflow/cc/saved_model/loader.cc:213] Running initialization op on SavedModel bundle at path: /tmp/tmpdptknruy\n",
      "2022-11-09 15:10:45.962703: I tensorflow/cc/saved_model/loader.cc:305] SavedModel load for tags { serve }; Status: success: OK. Took 85430 microseconds.\n",
      "WARNING:absl:Found untraced functions such as _jit_compiled_convolution_op, _jit_compiled_convolution_op while saving (showing 2 of 2). These functions will not be directly callable after loading.\n"
     ]
    },
    {
     "name": "stdout",
     "output_type": "stream",
     "text": [
      "INFO:tensorflow:Assets written to: /tmp/tmp9fezn15x/assets\n"
     ]
    },
    {
     "name": "stderr",
     "output_type": "stream",
     "text": [
      "INFO:tensorflow:Assets written to: /tmp/tmp9fezn15x/assets\n",
      "2022-11-09 15:10:47.753630: W tensorflow/compiler/mlir/lite/python/tf_tfl_flatbuffer_helpers.cc:362] Ignored output_format.\n",
      "2022-11-09 15:10:47.753718: W tensorflow/compiler/mlir/lite/python/tf_tfl_flatbuffer_helpers.cc:365] Ignored drop_control_dependency.\n",
      "2022-11-09 15:10:47.753913: I tensorflow/cc/saved_model/reader.cc:45] Reading SavedModel from: /tmp/tmp9fezn15x\n",
      "2022-11-09 15:10:47.756044: I tensorflow/cc/saved_model/reader.cc:89] Reading meta graph with tags { serve }\n",
      "2022-11-09 15:10:47.756088: I tensorflow/cc/saved_model/reader.cc:130] Reading SavedModel debug info (if present) from: /tmp/tmp9fezn15x\n",
      "2022-11-09 15:10:47.763263: I tensorflow/cc/saved_model/loader.cc:229] Restoring SavedModel bundle.\n",
      "2022-11-09 15:10:47.822908: I tensorflow/cc/saved_model/loader.cc:213] Running initialization op on SavedModel bundle at path: /tmp/tmp9fezn15x\n",
      "2022-11-09 15:10:47.838675: I tensorflow/cc/saved_model/loader.cc:305] SavedModel load for tags { serve }; Status: success: OK. Took 84761 microseconds.\n",
      "WARNING:absl:Found untraced functions such as _jit_compiled_convolution_op, _jit_compiled_convolution_op while saving (showing 2 of 2). These functions will not be directly callable after loading.\n"
     ]
    },
    {
     "name": "stdout",
     "output_type": "stream",
     "text": [
      "INFO:tensorflow:Assets written to: /tmp/tmpj9elrqg8/assets\n"
     ]
    },
    {
     "name": "stderr",
     "output_type": "stream",
     "text": [
      "INFO:tensorflow:Assets written to: /tmp/tmpj9elrqg8/assets\n",
      "2022-11-09 15:10:49.617530: W tensorflow/compiler/mlir/lite/python/tf_tfl_flatbuffer_helpers.cc:362] Ignored output_format.\n",
      "2022-11-09 15:10:49.617614: W tensorflow/compiler/mlir/lite/python/tf_tfl_flatbuffer_helpers.cc:365] Ignored drop_control_dependency.\n",
      "2022-11-09 15:10:49.617809: I tensorflow/cc/saved_model/reader.cc:45] Reading SavedModel from: /tmp/tmpj9elrqg8\n",
      "2022-11-09 15:10:49.619942: I tensorflow/cc/saved_model/reader.cc:89] Reading meta graph with tags { serve }\n",
      "2022-11-09 15:10:49.619984: I tensorflow/cc/saved_model/reader.cc:130] Reading SavedModel debug info (if present) from: /tmp/tmpj9elrqg8\n",
      "2022-11-09 15:10:49.627305: I tensorflow/cc/saved_model/loader.cc:229] Restoring SavedModel bundle.\n",
      "2022-11-09 15:10:49.687086: I tensorflow/cc/saved_model/loader.cc:213] Running initialization op on SavedModel bundle at path: /tmp/tmpj9elrqg8\n",
      "2022-11-09 15:10:49.703006: I tensorflow/cc/saved_model/loader.cc:305] SavedModel load for tags { serve }; Status: success: OK. Took 85197 microseconds.\n",
      "WARNING:absl:Found untraced functions such as _jit_compiled_convolution_op, _jit_compiled_convolution_op while saving (showing 2 of 2). These functions will not be directly callable after loading.\n"
     ]
    },
    {
     "name": "stdout",
     "output_type": "stream",
     "text": [
      "INFO:tensorflow:Assets written to: /tmp/tmpxomcy5my/assets\n"
     ]
    },
    {
     "name": "stderr",
     "output_type": "stream",
     "text": [
      "INFO:tensorflow:Assets written to: /tmp/tmpxomcy5my/assets\n",
      "2022-11-09 15:10:51.488945: W tensorflow/compiler/mlir/lite/python/tf_tfl_flatbuffer_helpers.cc:362] Ignored output_format.\n",
      "2022-11-09 15:10:51.489035: W tensorflow/compiler/mlir/lite/python/tf_tfl_flatbuffer_helpers.cc:365] Ignored drop_control_dependency.\n",
      "2022-11-09 15:10:51.489230: I tensorflow/cc/saved_model/reader.cc:45] Reading SavedModel from: /tmp/tmpxomcy5my\n",
      "2022-11-09 15:10:51.491357: I tensorflow/cc/saved_model/reader.cc:89] Reading meta graph with tags { serve }\n",
      "2022-11-09 15:10:51.491402: I tensorflow/cc/saved_model/reader.cc:130] Reading SavedModel debug info (if present) from: /tmp/tmpxomcy5my\n",
      "2022-11-09 15:10:51.498363: I tensorflow/cc/saved_model/loader.cc:229] Restoring SavedModel bundle.\n",
      "2022-11-09 15:10:51.557674: I tensorflow/cc/saved_model/loader.cc:213] Running initialization op on SavedModel bundle at path: /tmp/tmpxomcy5my\n",
      "2022-11-09 15:10:51.574216: I tensorflow/cc/saved_model/loader.cc:305] SavedModel load for tags { serve }; Status: success: OK. Took 84985 microseconds.\n",
      "WARNING:absl:Found untraced functions such as _jit_compiled_convolution_op, _jit_compiled_convolution_op while saving (showing 2 of 2). These functions will not be directly callable after loading.\n"
     ]
    },
    {
     "name": "stdout",
     "output_type": "stream",
     "text": [
      "INFO:tensorflow:Assets written to: /tmp/tmpqn4_1uh6/assets\n"
     ]
    },
    {
     "name": "stderr",
     "output_type": "stream",
     "text": [
      "INFO:tensorflow:Assets written to: /tmp/tmpqn4_1uh6/assets\n",
      "2022-11-09 15:10:53.343957: W tensorflow/compiler/mlir/lite/python/tf_tfl_flatbuffer_helpers.cc:362] Ignored output_format.\n",
      "2022-11-09 15:10:53.344040: W tensorflow/compiler/mlir/lite/python/tf_tfl_flatbuffer_helpers.cc:365] Ignored drop_control_dependency.\n",
      "2022-11-09 15:10:53.344234: I tensorflow/cc/saved_model/reader.cc:45] Reading SavedModel from: /tmp/tmpqn4_1uh6\n",
      "2022-11-09 15:10:53.346361: I tensorflow/cc/saved_model/reader.cc:89] Reading meta graph with tags { serve }\n",
      "2022-11-09 15:10:53.346399: I tensorflow/cc/saved_model/reader.cc:130] Reading SavedModel debug info (if present) from: /tmp/tmpqn4_1uh6\n",
      "2022-11-09 15:10:53.353345: I tensorflow/cc/saved_model/loader.cc:229] Restoring SavedModel bundle.\n",
      "2022-11-09 15:10:53.413345: I tensorflow/cc/saved_model/loader.cc:213] Running initialization op on SavedModel bundle at path: /tmp/tmpqn4_1uh6\n",
      "2022-11-09 15:10:53.428930: I tensorflow/cc/saved_model/loader.cc:305] SavedModel load for tags { serve }; Status: success: OK. Took 84695 microseconds.\n",
      "WARNING:absl:Found untraced functions such as _jit_compiled_convolution_op, _jit_compiled_convolution_op while saving (showing 2 of 2). These functions will not be directly callable after loading.\n"
     ]
    },
    {
     "name": "stdout",
     "output_type": "stream",
     "text": [
      "INFO:tensorflow:Assets written to: /tmp/tmpibdps361/assets\n"
     ]
    },
    {
     "name": "stderr",
     "output_type": "stream",
     "text": [
      "INFO:tensorflow:Assets written to: /tmp/tmpibdps361/assets\n",
      "2022-11-09 15:10:58.155471: W tensorflow/compiler/mlir/lite/python/tf_tfl_flatbuffer_helpers.cc:362] Ignored output_format.\n",
      "2022-11-09 15:10:58.155568: W tensorflow/compiler/mlir/lite/python/tf_tfl_flatbuffer_helpers.cc:365] Ignored drop_control_dependency.\n",
      "2022-11-09 15:10:58.155776: I tensorflow/cc/saved_model/reader.cc:45] Reading SavedModel from: /tmp/tmpibdps361\n",
      "2022-11-09 15:10:58.160543: I tensorflow/cc/saved_model/reader.cc:89] Reading meta graph with tags { serve }\n",
      "2022-11-09 15:10:58.160638: I tensorflow/cc/saved_model/reader.cc:130] Reading SavedModel debug info (if present) from: /tmp/tmpibdps361\n",
      "2022-11-09 15:10:58.178102: I tensorflow/cc/saved_model/loader.cc:229] Restoring SavedModel bundle.\n",
      "2022-11-09 15:10:58.259329: I tensorflow/cc/saved_model/loader.cc:213] Running initialization op on SavedModel bundle at path: /tmp/tmpibdps361\n",
      "2022-11-09 15:10:58.284502: I tensorflow/cc/saved_model/loader.cc:305] SavedModel load for tags { serve }; Status: success: OK. Took 128726 microseconds.\n",
      "WARNING:absl:Found untraced functions such as _jit_compiled_convolution_op, _jit_compiled_convolution_op while saving (showing 2 of 2). These functions will not be directly callable after loading.\n"
     ]
    },
    {
     "name": "stdout",
     "output_type": "stream",
     "text": [
      "INFO:tensorflow:Assets written to: /tmp/tmpei3jpc1r/assets\n"
     ]
    },
    {
     "name": "stderr",
     "output_type": "stream",
     "text": [
      "INFO:tensorflow:Assets written to: /tmp/tmpei3jpc1r/assets\n",
      "2022-11-09 15:11:00.225149: W tensorflow/compiler/mlir/lite/python/tf_tfl_flatbuffer_helpers.cc:362] Ignored output_format.\n",
      "2022-11-09 15:11:00.225234: W tensorflow/compiler/mlir/lite/python/tf_tfl_flatbuffer_helpers.cc:365] Ignored drop_control_dependency.\n",
      "2022-11-09 15:11:00.225486: I tensorflow/cc/saved_model/reader.cc:45] Reading SavedModel from: /tmp/tmpei3jpc1r\n",
      "2022-11-09 15:11:00.228560: I tensorflow/cc/saved_model/reader.cc:89] Reading meta graph with tags { serve }\n",
      "2022-11-09 15:11:00.228608: I tensorflow/cc/saved_model/reader.cc:130] Reading SavedModel debug info (if present) from: /tmp/tmpei3jpc1r\n",
      "2022-11-09 15:11:00.239134: I tensorflow/cc/saved_model/loader.cc:229] Restoring SavedModel bundle.\n",
      "2022-11-09 15:11:00.304604: I tensorflow/cc/saved_model/loader.cc:213] Running initialization op on SavedModel bundle at path: /tmp/tmpei3jpc1r\n",
      "2022-11-09 15:11:00.323966: I tensorflow/cc/saved_model/loader.cc:305] SavedModel load for tags { serve }; Status: success: OK. Took 98479 microseconds.\n",
      "WARNING:absl:Found untraced functions such as _jit_compiled_convolution_op, _jit_compiled_convolution_op while saving (showing 2 of 2). These functions will not be directly callable after loading.\n"
     ]
    },
    {
     "name": "stdout",
     "output_type": "stream",
     "text": [
      "INFO:tensorflow:Assets written to: /tmp/tmp909vmpj_/assets\n"
     ]
    },
    {
     "name": "stderr",
     "output_type": "stream",
     "text": [
      "INFO:tensorflow:Assets written to: /tmp/tmp909vmpj_/assets\n",
      "2022-11-09 15:11:02.210551: W tensorflow/compiler/mlir/lite/python/tf_tfl_flatbuffer_helpers.cc:362] Ignored output_format.\n",
      "2022-11-09 15:11:02.210652: W tensorflow/compiler/mlir/lite/python/tf_tfl_flatbuffer_helpers.cc:365] Ignored drop_control_dependency.\n",
      "2022-11-09 15:11:02.210852: I tensorflow/cc/saved_model/reader.cc:45] Reading SavedModel from: /tmp/tmp909vmpj_\n",
      "2022-11-09 15:11:02.213391: I tensorflow/cc/saved_model/reader.cc:89] Reading meta graph with tags { serve }\n",
      "2022-11-09 15:11:02.213484: I tensorflow/cc/saved_model/reader.cc:130] Reading SavedModel debug info (if present) from: /tmp/tmp909vmpj_\n",
      "2022-11-09 15:11:02.221934: I tensorflow/cc/saved_model/loader.cc:229] Restoring SavedModel bundle.\n",
      "2022-11-09 15:11:02.286550: I tensorflow/cc/saved_model/loader.cc:213] Running initialization op on SavedModel bundle at path: /tmp/tmp909vmpj_\n",
      "2022-11-09 15:11:02.303409: I tensorflow/cc/saved_model/loader.cc:305] SavedModel load for tags { serve }; Status: success: OK. Took 92556 microseconds.\n",
      "WARNING:absl:Found untraced functions such as _jit_compiled_convolution_op, _jit_compiled_convolution_op while saving (showing 2 of 2). These functions will not be directly callable after loading.\n"
     ]
    },
    {
     "name": "stdout",
     "output_type": "stream",
     "text": [
      "INFO:tensorflow:Assets written to: /tmp/tmp4tbqta62/assets\n"
     ]
    },
    {
     "name": "stderr",
     "output_type": "stream",
     "text": [
      "INFO:tensorflow:Assets written to: /tmp/tmp4tbqta62/assets\n",
      "2022-11-09 15:11:04.113364: W tensorflow/compiler/mlir/lite/python/tf_tfl_flatbuffer_helpers.cc:362] Ignored output_format.\n",
      "2022-11-09 15:11:04.113473: W tensorflow/compiler/mlir/lite/python/tf_tfl_flatbuffer_helpers.cc:365] Ignored drop_control_dependency.\n",
      "2022-11-09 15:11:04.113677: I tensorflow/cc/saved_model/reader.cc:45] Reading SavedModel from: /tmp/tmp4tbqta62\n",
      "2022-11-09 15:11:04.115923: I tensorflow/cc/saved_model/reader.cc:89] Reading meta graph with tags { serve }\n",
      "2022-11-09 15:11:04.115967: I tensorflow/cc/saved_model/reader.cc:130] Reading SavedModel debug info (if present) from: /tmp/tmp4tbqta62\n",
      "2022-11-09 15:11:04.123460: I tensorflow/cc/saved_model/loader.cc:229] Restoring SavedModel bundle.\n",
      "2022-11-09 15:11:04.186083: I tensorflow/cc/saved_model/loader.cc:213] Running initialization op on SavedModel bundle at path: /tmp/tmp4tbqta62\n",
      "2022-11-09 15:11:04.202664: I tensorflow/cc/saved_model/loader.cc:305] SavedModel load for tags { serve }; Status: success: OK. Took 88986 microseconds.\n",
      "WARNING:absl:Found untraced functions such as _jit_compiled_convolution_op, _jit_compiled_convolution_op while saving (showing 2 of 2). These functions will not be directly callable after loading.\n"
     ]
    },
    {
     "name": "stdout",
     "output_type": "stream",
     "text": [
      "INFO:tensorflow:Assets written to: /tmp/tmphun69ozt/assets\n"
     ]
    },
    {
     "name": "stderr",
     "output_type": "stream",
     "text": [
      "INFO:tensorflow:Assets written to: /tmp/tmphun69ozt/assets\n",
      "2022-11-09 15:11:05.984990: W tensorflow/compiler/mlir/lite/python/tf_tfl_flatbuffer_helpers.cc:362] Ignored output_format.\n",
      "2022-11-09 15:11:05.985077: W tensorflow/compiler/mlir/lite/python/tf_tfl_flatbuffer_helpers.cc:365] Ignored drop_control_dependency.\n",
      "2022-11-09 15:11:05.985267: I tensorflow/cc/saved_model/reader.cc:45] Reading SavedModel from: /tmp/tmphun69ozt\n",
      "2022-11-09 15:11:05.987420: I tensorflow/cc/saved_model/reader.cc:89] Reading meta graph with tags { serve }\n",
      "2022-11-09 15:11:05.987465: I tensorflow/cc/saved_model/reader.cc:130] Reading SavedModel debug info (if present) from: /tmp/tmphun69ozt\n",
      "2022-11-09 15:11:05.994629: I tensorflow/cc/saved_model/loader.cc:229] Restoring SavedModel bundle.\n",
      "2022-11-09 15:11:06.054930: I tensorflow/cc/saved_model/loader.cc:213] Running initialization op on SavedModel bundle at path: /tmp/tmphun69ozt\n",
      "2022-11-09 15:11:06.072713: I tensorflow/cc/saved_model/loader.cc:305] SavedModel load for tags { serve }; Status: success: OK. Took 87445 microseconds.\n",
      "WARNING:absl:Found untraced functions such as _jit_compiled_convolution_op, _jit_compiled_convolution_op while saving (showing 2 of 2). These functions will not be directly callable after loading.\n"
     ]
    },
    {
     "name": "stdout",
     "output_type": "stream",
     "text": [
      "INFO:tensorflow:Assets written to: /tmp/tmpys4f237a/assets\n"
     ]
    },
    {
     "name": "stderr",
     "output_type": "stream",
     "text": [
      "INFO:tensorflow:Assets written to: /tmp/tmpys4f237a/assets\n",
      "2022-11-09 15:11:07.860659: W tensorflow/compiler/mlir/lite/python/tf_tfl_flatbuffer_helpers.cc:362] Ignored output_format.\n",
      "2022-11-09 15:11:07.860748: W tensorflow/compiler/mlir/lite/python/tf_tfl_flatbuffer_helpers.cc:365] Ignored drop_control_dependency.\n",
      "2022-11-09 15:11:07.860944: I tensorflow/cc/saved_model/reader.cc:45] Reading SavedModel from: /tmp/tmpys4f237a\n",
      "2022-11-09 15:11:07.863154: I tensorflow/cc/saved_model/reader.cc:89] Reading meta graph with tags { serve }\n",
      "2022-11-09 15:11:07.863199: I tensorflow/cc/saved_model/reader.cc:130] Reading SavedModel debug info (if present) from: /tmp/tmpys4f237a\n",
      "2022-11-09 15:11:07.870475: I tensorflow/cc/saved_model/loader.cc:229] Restoring SavedModel bundle.\n",
      "2022-11-09 15:11:07.931340: I tensorflow/cc/saved_model/loader.cc:213] Running initialization op on SavedModel bundle at path: /tmp/tmpys4f237a\n",
      "2022-11-09 15:11:07.947483: I tensorflow/cc/saved_model/loader.cc:305] SavedModel load for tags { serve }; Status: success: OK. Took 86537 microseconds.\n",
      "WARNING:absl:Found untraced functions such as _jit_compiled_convolution_op, _jit_compiled_convolution_op while saving (showing 2 of 2). These functions will not be directly callable after loading.\n"
     ]
    },
    {
     "name": "stdout",
     "output_type": "stream",
     "text": [
      "INFO:tensorflow:Assets written to: /tmp/tmplnjic9xm/assets\n"
     ]
    },
    {
     "name": "stderr",
     "output_type": "stream",
     "text": [
      "INFO:tensorflow:Assets written to: /tmp/tmplnjic9xm/assets\n",
      "2022-11-09 15:11:09.749996: W tensorflow/compiler/mlir/lite/python/tf_tfl_flatbuffer_helpers.cc:362] Ignored output_format.\n",
      "2022-11-09 15:11:09.750086: W tensorflow/compiler/mlir/lite/python/tf_tfl_flatbuffer_helpers.cc:365] Ignored drop_control_dependency.\n",
      "2022-11-09 15:11:09.750279: I tensorflow/cc/saved_model/reader.cc:45] Reading SavedModel from: /tmp/tmplnjic9xm\n",
      "2022-11-09 15:11:09.752439: I tensorflow/cc/saved_model/reader.cc:89] Reading meta graph with tags { serve }\n",
      "2022-11-09 15:11:09.752483: I tensorflow/cc/saved_model/reader.cc:130] Reading SavedModel debug info (if present) from: /tmp/tmplnjic9xm\n",
      "2022-11-09 15:11:09.759735: I tensorflow/cc/saved_model/loader.cc:229] Restoring SavedModel bundle.\n",
      "2022-11-09 15:11:09.821779: I tensorflow/cc/saved_model/loader.cc:213] Running initialization op on SavedModel bundle at path: /tmp/tmplnjic9xm\n",
      "2022-11-09 15:11:09.837998: I tensorflow/cc/saved_model/loader.cc:305] SavedModel load for tags { serve }; Status: success: OK. Took 87718 microseconds.\n",
      "WARNING:absl:Found untraced functions such as _jit_compiled_convolution_op, _jit_compiled_convolution_op while saving (showing 2 of 2). These functions will not be directly callable after loading.\n"
     ]
    },
    {
     "name": "stdout",
     "output_type": "stream",
     "text": [
      "INFO:tensorflow:Assets written to: /tmp/tmpt5zll58_/assets\n"
     ]
    },
    {
     "name": "stderr",
     "output_type": "stream",
     "text": [
      "INFO:tensorflow:Assets written to: /tmp/tmpt5zll58_/assets\n",
      "2022-11-09 15:11:11.633754: W tensorflow/compiler/mlir/lite/python/tf_tfl_flatbuffer_helpers.cc:362] Ignored output_format.\n",
      "2022-11-09 15:11:11.633845: W tensorflow/compiler/mlir/lite/python/tf_tfl_flatbuffer_helpers.cc:365] Ignored drop_control_dependency.\n",
      "2022-11-09 15:11:11.634038: I tensorflow/cc/saved_model/reader.cc:45] Reading SavedModel from: /tmp/tmpt5zll58_\n",
      "2022-11-09 15:11:11.636193: I tensorflow/cc/saved_model/reader.cc:89] Reading meta graph with tags { serve }\n",
      "2022-11-09 15:11:11.636236: I tensorflow/cc/saved_model/reader.cc:130] Reading SavedModel debug info (if present) from: /tmp/tmpt5zll58_\n",
      "2022-11-09 15:11:11.643442: I tensorflow/cc/saved_model/loader.cc:229] Restoring SavedModel bundle.\n",
      "2022-11-09 15:11:11.707604: I tensorflow/cc/saved_model/loader.cc:213] Running initialization op on SavedModel bundle at path: /tmp/tmpt5zll58_\n",
      "2022-11-09 15:11:11.723899: I tensorflow/cc/saved_model/loader.cc:305] SavedModel load for tags { serve }; Status: success: OK. Took 89859 microseconds.\n",
      "WARNING:absl:Found untraced functions such as _jit_compiled_convolution_op, _jit_compiled_convolution_op while saving (showing 2 of 2). These functions will not be directly callable after loading.\n"
     ]
    },
    {
     "name": "stdout",
     "output_type": "stream",
     "text": [
      "INFO:tensorflow:Assets written to: /tmp/tmp0v_k7bvd/assets\n"
     ]
    },
    {
     "name": "stderr",
     "output_type": "stream",
     "text": [
      "INFO:tensorflow:Assets written to: /tmp/tmp0v_k7bvd/assets\n",
      "2022-11-09 15:11:13.523191: W tensorflow/compiler/mlir/lite/python/tf_tfl_flatbuffer_helpers.cc:362] Ignored output_format.\n",
      "2022-11-09 15:11:13.523287: W tensorflow/compiler/mlir/lite/python/tf_tfl_flatbuffer_helpers.cc:365] Ignored drop_control_dependency.\n",
      "2022-11-09 15:11:13.523488: I tensorflow/cc/saved_model/reader.cc:45] Reading SavedModel from: /tmp/tmp0v_k7bvd\n",
      "2022-11-09 15:11:13.525710: I tensorflow/cc/saved_model/reader.cc:89] Reading meta graph with tags { serve }\n",
      "2022-11-09 15:11:13.525756: I tensorflow/cc/saved_model/reader.cc:130] Reading SavedModel debug info (if present) from: /tmp/tmp0v_k7bvd\n",
      "2022-11-09 15:11:13.533164: I tensorflow/cc/saved_model/loader.cc:229] Restoring SavedModel bundle.\n",
      "2022-11-09 15:11:13.594915: I tensorflow/cc/saved_model/loader.cc:213] Running initialization op on SavedModel bundle at path: /tmp/tmp0v_k7bvd\n",
      "2022-11-09 15:11:13.611492: I tensorflow/cc/saved_model/loader.cc:305] SavedModel load for tags { serve }; Status: success: OK. Took 88003 microseconds.\n",
      "WARNING:absl:Found untraced functions such as _jit_compiled_convolution_op, _jit_compiled_convolution_op while saving (showing 2 of 2). These functions will not be directly callable after loading.\n"
     ]
    },
    {
     "name": "stdout",
     "output_type": "stream",
     "text": [
      "INFO:tensorflow:Assets written to: /tmp/tmp3_gcmozq/assets\n"
     ]
    },
    {
     "name": "stderr",
     "output_type": "stream",
     "text": [
      "INFO:tensorflow:Assets written to: /tmp/tmp3_gcmozq/assets\n",
      "2022-11-09 15:11:15.407685: W tensorflow/compiler/mlir/lite/python/tf_tfl_flatbuffer_helpers.cc:362] Ignored output_format.\n",
      "2022-11-09 15:11:15.407777: W tensorflow/compiler/mlir/lite/python/tf_tfl_flatbuffer_helpers.cc:365] Ignored drop_control_dependency.\n",
      "2022-11-09 15:11:15.407991: I tensorflow/cc/saved_model/reader.cc:45] Reading SavedModel from: /tmp/tmp3_gcmozq\n",
      "2022-11-09 15:11:15.410237: I tensorflow/cc/saved_model/reader.cc:89] Reading meta graph with tags { serve }\n",
      "2022-11-09 15:11:15.410290: I tensorflow/cc/saved_model/reader.cc:130] Reading SavedModel debug info (if present) from: /tmp/tmp3_gcmozq\n",
      "2022-11-09 15:11:15.417550: I tensorflow/cc/saved_model/loader.cc:229] Restoring SavedModel bundle.\n",
      "2022-11-09 15:11:15.478239: I tensorflow/cc/saved_model/loader.cc:213] Running initialization op on SavedModel bundle at path: /tmp/tmp3_gcmozq\n",
      "2022-11-09 15:11:15.493956: I tensorflow/cc/saved_model/loader.cc:305] SavedModel load for tags { serve }; Status: success: OK. Took 85966 microseconds.\n",
      "WARNING:absl:Found untraced functions such as _jit_compiled_convolution_op, _jit_compiled_convolution_op while saving (showing 2 of 2). These functions will not be directly callable after loading.\n"
     ]
    },
    {
     "name": "stdout",
     "output_type": "stream",
     "text": [
      "INFO:tensorflow:Assets written to: /tmp/tmprbxciwlf/assets\n"
     ]
    },
    {
     "name": "stderr",
     "output_type": "stream",
     "text": [
      "INFO:tensorflow:Assets written to: /tmp/tmprbxciwlf/assets\n",
      "2022-11-09 15:11:17.269696: W tensorflow/compiler/mlir/lite/python/tf_tfl_flatbuffer_helpers.cc:362] Ignored output_format.\n",
      "2022-11-09 15:11:17.269784: W tensorflow/compiler/mlir/lite/python/tf_tfl_flatbuffer_helpers.cc:365] Ignored drop_control_dependency.\n",
      "2022-11-09 15:11:17.269977: I tensorflow/cc/saved_model/reader.cc:45] Reading SavedModel from: /tmp/tmprbxciwlf\n",
      "2022-11-09 15:11:17.272086: I tensorflow/cc/saved_model/reader.cc:89] Reading meta graph with tags { serve }\n",
      "2022-11-09 15:11:17.272126: I tensorflow/cc/saved_model/reader.cc:130] Reading SavedModel debug info (if present) from: /tmp/tmprbxciwlf\n",
      "2022-11-09 15:11:17.279033: I tensorflow/cc/saved_model/loader.cc:229] Restoring SavedModel bundle.\n",
      "2022-11-09 15:11:17.337889: I tensorflow/cc/saved_model/loader.cc:213] Running initialization op on SavedModel bundle at path: /tmp/tmprbxciwlf\n",
      "2022-11-09 15:11:17.353614: I tensorflow/cc/saved_model/loader.cc:305] SavedModel load for tags { serve }; Status: success: OK. Took 83634 microseconds.\n",
      "WARNING:absl:Found untraced functions such as _jit_compiled_convolution_op, _jit_compiled_convolution_op while saving (showing 2 of 2). These functions will not be directly callable after loading.\n"
     ]
    },
    {
     "name": "stdout",
     "output_type": "stream",
     "text": [
      "INFO:tensorflow:Assets written to: /tmp/tmp2uds8upl/assets\n"
     ]
    },
    {
     "name": "stderr",
     "output_type": "stream",
     "text": [
      "INFO:tensorflow:Assets written to: /tmp/tmp2uds8upl/assets\n",
      "2022-11-09 15:11:19.152928: W tensorflow/compiler/mlir/lite/python/tf_tfl_flatbuffer_helpers.cc:362] Ignored output_format.\n",
      "2022-11-09 15:11:19.153003: W tensorflow/compiler/mlir/lite/python/tf_tfl_flatbuffer_helpers.cc:365] Ignored drop_control_dependency.\n",
      "2022-11-09 15:11:19.153202: I tensorflow/cc/saved_model/reader.cc:45] Reading SavedModel from: /tmp/tmp2uds8upl\n",
      "2022-11-09 15:11:19.155335: I tensorflow/cc/saved_model/reader.cc:89] Reading meta graph with tags { serve }\n",
      "2022-11-09 15:11:19.155375: I tensorflow/cc/saved_model/reader.cc:130] Reading SavedModel debug info (if present) from: /tmp/tmp2uds8upl\n",
      "2022-11-09 15:11:19.162639: I tensorflow/cc/saved_model/loader.cc:229] Restoring SavedModel bundle.\n",
      "2022-11-09 15:11:19.222039: I tensorflow/cc/saved_model/loader.cc:213] Running initialization op on SavedModel bundle at path: /tmp/tmp2uds8upl\n",
      "2022-11-09 15:11:19.237781: I tensorflow/cc/saved_model/loader.cc:305] SavedModel load for tags { serve }; Status: success: OK. Took 84578 microseconds.\n",
      "WARNING:absl:Found untraced functions such as _jit_compiled_convolution_op, _jit_compiled_convolution_op while saving (showing 2 of 2). These functions will not be directly callable after loading.\n"
     ]
    },
    {
     "name": "stdout",
     "output_type": "stream",
     "text": [
      "INFO:tensorflow:Assets written to: /tmp/tmpodhzhkqw/assets\n"
     ]
    },
    {
     "name": "stderr",
     "output_type": "stream",
     "text": [
      "INFO:tensorflow:Assets written to: /tmp/tmpodhzhkqw/assets\n",
      "2022-11-09 15:11:23.487638: W tensorflow/compiler/mlir/lite/python/tf_tfl_flatbuffer_helpers.cc:362] Ignored output_format.\n",
      "2022-11-09 15:11:23.487726: W tensorflow/compiler/mlir/lite/python/tf_tfl_flatbuffer_helpers.cc:365] Ignored drop_control_dependency.\n",
      "2022-11-09 15:11:23.487954: I tensorflow/cc/saved_model/reader.cc:45] Reading SavedModel from: /tmp/tmpodhzhkqw\n",
      "2022-11-09 15:11:23.494130: I tensorflow/cc/saved_model/reader.cc:89] Reading meta graph with tags { serve }\n",
      "2022-11-09 15:11:23.494187: I tensorflow/cc/saved_model/reader.cc:130] Reading SavedModel debug info (if present) from: /tmp/tmpodhzhkqw\n",
      "2022-11-09 15:11:23.517908: I tensorflow/cc/saved_model/loader.cc:229] Restoring SavedModel bundle.\n",
      "2022-11-09 15:11:23.629231: I tensorflow/cc/saved_model/loader.cc:213] Running initialization op on SavedModel bundle at path: /tmp/tmpodhzhkqw\n",
      "2022-11-09 15:11:23.665664: I tensorflow/cc/saved_model/loader.cc:305] SavedModel load for tags { serve }; Status: success: OK. Took 177709 microseconds.\n",
      "WARNING:absl:Found untraced functions such as _jit_compiled_convolution_op, _jit_compiled_convolution_op while saving (showing 2 of 2). These functions will not be directly callable after loading.\n"
     ]
    },
    {
     "name": "stdout",
     "output_type": "stream",
     "text": [
      "INFO:tensorflow:Assets written to: /tmp/tmpapzhr3_0/assets\n"
     ]
    },
    {
     "name": "stderr",
     "output_type": "stream",
     "text": [
      "INFO:tensorflow:Assets written to: /tmp/tmpapzhr3_0/assets\n",
      "2022-11-09 15:11:25.825862: W tensorflow/compiler/mlir/lite/python/tf_tfl_flatbuffer_helpers.cc:362] Ignored output_format.\n",
      "2022-11-09 15:11:25.825951: W tensorflow/compiler/mlir/lite/python/tf_tfl_flatbuffer_helpers.cc:365] Ignored drop_control_dependency.\n",
      "2022-11-09 15:11:25.826155: I tensorflow/cc/saved_model/reader.cc:45] Reading SavedModel from: /tmp/tmpapzhr3_0\n",
      "2022-11-09 15:11:25.830442: I tensorflow/cc/saved_model/reader.cc:89] Reading meta graph with tags { serve }\n",
      "2022-11-09 15:11:25.830499: I tensorflow/cc/saved_model/reader.cc:130] Reading SavedModel debug info (if present) from: /tmp/tmpapzhr3_0\n",
      "2022-11-09 15:11:25.844278: I tensorflow/cc/saved_model/loader.cc:229] Restoring SavedModel bundle.\n",
      "2022-11-09 15:11:25.919154: I tensorflow/cc/saved_model/loader.cc:213] Running initialization op on SavedModel bundle at path: /tmp/tmpapzhr3_0\n",
      "2022-11-09 15:11:25.941845: I tensorflow/cc/saved_model/loader.cc:305] SavedModel load for tags { serve }; Status: success: OK. Took 115690 microseconds.\n",
      "WARNING:absl:Found untraced functions such as _jit_compiled_convolution_op, _jit_compiled_convolution_op while saving (showing 2 of 2). These functions will not be directly callable after loading.\n"
     ]
    },
    {
     "name": "stdout",
     "output_type": "stream",
     "text": [
      "INFO:tensorflow:Assets written to: /tmp/tmpvobrgtd0/assets\n"
     ]
    },
    {
     "name": "stderr",
     "output_type": "stream",
     "text": [
      "INFO:tensorflow:Assets written to: /tmp/tmpvobrgtd0/assets\n",
      "2022-11-09 15:11:27.826974: W tensorflow/compiler/mlir/lite/python/tf_tfl_flatbuffer_helpers.cc:362] Ignored output_format.\n",
      "2022-11-09 15:11:27.827058: W tensorflow/compiler/mlir/lite/python/tf_tfl_flatbuffer_helpers.cc:365] Ignored drop_control_dependency.\n",
      "2022-11-09 15:11:27.827251: I tensorflow/cc/saved_model/reader.cc:45] Reading SavedModel from: /tmp/tmpvobrgtd0\n",
      "2022-11-09 15:11:27.829900: I tensorflow/cc/saved_model/reader.cc:89] Reading meta graph with tags { serve }\n",
      "2022-11-09 15:11:27.829945: I tensorflow/cc/saved_model/reader.cc:130] Reading SavedModel debug info (if present) from: /tmp/tmpvobrgtd0\n",
      "2022-11-09 15:11:27.838916: I tensorflow/cc/saved_model/loader.cc:229] Restoring SavedModel bundle.\n",
      "2022-11-09 15:11:27.903190: I tensorflow/cc/saved_model/loader.cc:213] Running initialization op on SavedModel bundle at path: /tmp/tmpvobrgtd0\n",
      "2022-11-09 15:11:27.920785: I tensorflow/cc/saved_model/loader.cc:305] SavedModel load for tags { serve }; Status: success: OK. Took 93533 microseconds.\n",
      "WARNING:absl:Found untraced functions such as _jit_compiled_convolution_op, _jit_compiled_convolution_op while saving (showing 2 of 2). These functions will not be directly callable after loading.\n"
     ]
    },
    {
     "name": "stdout",
     "output_type": "stream",
     "text": [
      "INFO:tensorflow:Assets written to: /tmp/tmpvb1hlxbu/assets\n"
     ]
    },
    {
     "name": "stderr",
     "output_type": "stream",
     "text": [
      "INFO:tensorflow:Assets written to: /tmp/tmpvb1hlxbu/assets\n",
      "2022-11-09 15:11:29.742376: W tensorflow/compiler/mlir/lite/python/tf_tfl_flatbuffer_helpers.cc:362] Ignored output_format.\n",
      "2022-11-09 15:11:29.742462: W tensorflow/compiler/mlir/lite/python/tf_tfl_flatbuffer_helpers.cc:365] Ignored drop_control_dependency.\n",
      "2022-11-09 15:11:29.742662: I tensorflow/cc/saved_model/reader.cc:45] Reading SavedModel from: /tmp/tmpvb1hlxbu\n",
      "2022-11-09 15:11:29.744962: I tensorflow/cc/saved_model/reader.cc:89] Reading meta graph with tags { serve }\n",
      "2022-11-09 15:11:29.745002: I tensorflow/cc/saved_model/reader.cc:130] Reading SavedModel debug info (if present) from: /tmp/tmpvb1hlxbu\n",
      "2022-11-09 15:11:29.752790: I tensorflow/cc/saved_model/loader.cc:229] Restoring SavedModel bundle.\n",
      "2022-11-09 15:11:29.815485: I tensorflow/cc/saved_model/loader.cc:213] Running initialization op on SavedModel bundle at path: /tmp/tmpvb1hlxbu\n",
      "2022-11-09 15:11:29.831911: I tensorflow/cc/saved_model/loader.cc:305] SavedModel load for tags { serve }; Status: success: OK. Took 89248 microseconds.\n",
      "WARNING:absl:Found untraced functions such as _jit_compiled_convolution_op, _jit_compiled_convolution_op while saving (showing 2 of 2). These functions will not be directly callable after loading.\n"
     ]
    },
    {
     "name": "stdout",
     "output_type": "stream",
     "text": [
      "INFO:tensorflow:Assets written to: /tmp/tmp2rait1ix/assets\n"
     ]
    },
    {
     "name": "stderr",
     "output_type": "stream",
     "text": [
      "INFO:tensorflow:Assets written to: /tmp/tmp2rait1ix/assets\n",
      "2022-11-09 15:11:31.626700: W tensorflow/compiler/mlir/lite/python/tf_tfl_flatbuffer_helpers.cc:362] Ignored output_format.\n",
      "2022-11-09 15:11:31.626790: W tensorflow/compiler/mlir/lite/python/tf_tfl_flatbuffer_helpers.cc:365] Ignored drop_control_dependency.\n",
      "2022-11-09 15:11:31.626987: I tensorflow/cc/saved_model/reader.cc:45] Reading SavedModel from: /tmp/tmp2rait1ix\n",
      "2022-11-09 15:11:31.629211: I tensorflow/cc/saved_model/reader.cc:89] Reading meta graph with tags { serve }\n",
      "2022-11-09 15:11:31.629255: I tensorflow/cc/saved_model/reader.cc:130] Reading SavedModel debug info (if present) from: /tmp/tmp2rait1ix\n",
      "2022-11-09 15:11:31.636731: I tensorflow/cc/saved_model/loader.cc:229] Restoring SavedModel bundle.\n",
      "2022-11-09 15:11:31.699955: I tensorflow/cc/saved_model/loader.cc:213] Running initialization op on SavedModel bundle at path: /tmp/tmp2rait1ix\n",
      "2022-11-09 15:11:31.716677: I tensorflow/cc/saved_model/loader.cc:305] SavedModel load for tags { serve }; Status: success: OK. Took 89689 microseconds.\n",
      "WARNING:absl:Found untraced functions such as _jit_compiled_convolution_op, _jit_compiled_convolution_op while saving (showing 2 of 2). These functions will not be directly callable after loading.\n"
     ]
    },
    {
     "name": "stdout",
     "output_type": "stream",
     "text": [
      "INFO:tensorflow:Assets written to: /tmp/tmpifda_vkx/assets\n"
     ]
    },
    {
     "name": "stderr",
     "output_type": "stream",
     "text": [
      "INFO:tensorflow:Assets written to: /tmp/tmpifda_vkx/assets\n",
      "2022-11-09 15:11:33.517398: W tensorflow/compiler/mlir/lite/python/tf_tfl_flatbuffer_helpers.cc:362] Ignored output_format.\n",
      "2022-11-09 15:11:33.517497: W tensorflow/compiler/mlir/lite/python/tf_tfl_flatbuffer_helpers.cc:365] Ignored drop_control_dependency.\n",
      "2022-11-09 15:11:33.517690: I tensorflow/cc/saved_model/reader.cc:45] Reading SavedModel from: /tmp/tmpifda_vkx\n",
      "2022-11-09 15:11:33.519860: I tensorflow/cc/saved_model/reader.cc:89] Reading meta graph with tags { serve }\n",
      "2022-11-09 15:11:33.519904: I tensorflow/cc/saved_model/reader.cc:130] Reading SavedModel debug info (if present) from: /tmp/tmpifda_vkx\n",
      "2022-11-09 15:11:33.527251: I tensorflow/cc/saved_model/loader.cc:229] Restoring SavedModel bundle.\n",
      "2022-11-09 15:11:33.588311: I tensorflow/cc/saved_model/loader.cc:213] Running initialization op on SavedModel bundle at path: /tmp/tmpifda_vkx\n",
      "2022-11-09 15:11:33.604234: I tensorflow/cc/saved_model/loader.cc:305] SavedModel load for tags { serve }; Status: success: OK. Took 86542 microseconds.\n",
      "WARNING:absl:Found untraced functions such as _jit_compiled_convolution_op, _jit_compiled_convolution_op while saving (showing 2 of 2). These functions will not be directly callable after loading.\n"
     ]
    },
    {
     "name": "stdout",
     "output_type": "stream",
     "text": [
      "INFO:tensorflow:Assets written to: /tmp/tmpw08tyzhu/assets\n"
     ]
    },
    {
     "name": "stderr",
     "output_type": "stream",
     "text": [
      "INFO:tensorflow:Assets written to: /tmp/tmpw08tyzhu/assets\n",
      "2022-11-09 15:11:35.371028: W tensorflow/compiler/mlir/lite/python/tf_tfl_flatbuffer_helpers.cc:362] Ignored output_format.\n",
      "2022-11-09 15:11:35.371118: W tensorflow/compiler/mlir/lite/python/tf_tfl_flatbuffer_helpers.cc:365] Ignored drop_control_dependency.\n",
      "2022-11-09 15:11:35.371314: I tensorflow/cc/saved_model/reader.cc:45] Reading SavedModel from: /tmp/tmpw08tyzhu\n",
      "2022-11-09 15:11:35.373465: I tensorflow/cc/saved_model/reader.cc:89] Reading meta graph with tags { serve }\n",
      "2022-11-09 15:11:35.373512: I tensorflow/cc/saved_model/reader.cc:130] Reading SavedModel debug info (if present) from: /tmp/tmpw08tyzhu\n",
      "2022-11-09 15:11:35.380696: I tensorflow/cc/saved_model/loader.cc:229] Restoring SavedModel bundle.\n",
      "2022-11-09 15:11:35.441267: I tensorflow/cc/saved_model/loader.cc:213] Running initialization op on SavedModel bundle at path: /tmp/tmpw08tyzhu\n",
      "2022-11-09 15:11:35.457259: I tensorflow/cc/saved_model/loader.cc:305] SavedModel load for tags { serve }; Status: success: OK. Took 85944 microseconds.\n",
      "WARNING:absl:Found untraced functions such as _jit_compiled_convolution_op, _jit_compiled_convolution_op while saving (showing 2 of 2). These functions will not be directly callable after loading.\n"
     ]
    },
    {
     "name": "stdout",
     "output_type": "stream",
     "text": [
      "INFO:tensorflow:Assets written to: /tmp/tmp3j8p7z3i/assets\n"
     ]
    },
    {
     "name": "stderr",
     "output_type": "stream",
     "text": [
      "INFO:tensorflow:Assets written to: /tmp/tmp3j8p7z3i/assets\n",
      "2022-11-09 15:11:37.222393: W tensorflow/compiler/mlir/lite/python/tf_tfl_flatbuffer_helpers.cc:362] Ignored output_format.\n",
      "2022-11-09 15:11:37.222478: W tensorflow/compiler/mlir/lite/python/tf_tfl_flatbuffer_helpers.cc:365] Ignored drop_control_dependency.\n",
      "2022-11-09 15:11:37.222681: I tensorflow/cc/saved_model/reader.cc:45] Reading SavedModel from: /tmp/tmp3j8p7z3i\n",
      "2022-11-09 15:11:37.224845: I tensorflow/cc/saved_model/reader.cc:89] Reading meta graph with tags { serve }\n",
      "2022-11-09 15:11:37.224884: I tensorflow/cc/saved_model/reader.cc:130] Reading SavedModel debug info (if present) from: /tmp/tmp3j8p7z3i\n",
      "2022-11-09 15:11:37.231839: I tensorflow/cc/saved_model/loader.cc:229] Restoring SavedModel bundle.\n",
      "2022-11-09 15:11:37.291976: I tensorflow/cc/saved_model/loader.cc:213] Running initialization op on SavedModel bundle at path: /tmp/tmp3j8p7z3i\n",
      "2022-11-09 15:11:37.307357: I tensorflow/cc/saved_model/loader.cc:305] SavedModel load for tags { serve }; Status: success: OK. Took 84675 microseconds.\n",
      "WARNING:absl:Found untraced functions such as _jit_compiled_convolution_op, _jit_compiled_convolution_op while saving (showing 2 of 2). These functions will not be directly callable after loading.\n"
     ]
    },
    {
     "name": "stdout",
     "output_type": "stream",
     "text": [
      "INFO:tensorflow:Assets written to: /tmp/tmpdk2pgo7n/assets\n"
     ]
    },
    {
     "name": "stderr",
     "output_type": "stream",
     "text": [
      "INFO:tensorflow:Assets written to: /tmp/tmpdk2pgo7n/assets\n",
      "2022-11-09 15:11:39.053149: W tensorflow/compiler/mlir/lite/python/tf_tfl_flatbuffer_helpers.cc:362] Ignored output_format.\n",
      "2022-11-09 15:11:39.053239: W tensorflow/compiler/mlir/lite/python/tf_tfl_flatbuffer_helpers.cc:365] Ignored drop_control_dependency.\n",
      "2022-11-09 15:11:39.053450: I tensorflow/cc/saved_model/reader.cc:45] Reading SavedModel from: /tmp/tmpdk2pgo7n\n",
      "2022-11-09 15:11:39.055624: I tensorflow/cc/saved_model/reader.cc:89] Reading meta graph with tags { serve }\n",
      "2022-11-09 15:11:39.055669: I tensorflow/cc/saved_model/reader.cc:130] Reading SavedModel debug info (if present) from: /tmp/tmpdk2pgo7n\n",
      "2022-11-09 15:11:39.062880: I tensorflow/cc/saved_model/loader.cc:229] Restoring SavedModel bundle.\n",
      "2022-11-09 15:11:39.121865: I tensorflow/cc/saved_model/loader.cc:213] Running initialization op on SavedModel bundle at path: /tmp/tmpdk2pgo7n\n",
      "2022-11-09 15:11:39.137459: I tensorflow/cc/saved_model/loader.cc:305] SavedModel load for tags { serve }; Status: success: OK. Took 84009 microseconds.\n",
      "WARNING:absl:Found untraced functions such as _jit_compiled_convolution_op, _jit_compiled_convolution_op while saving (showing 2 of 2). These functions will not be directly callable after loading.\n"
     ]
    },
    {
     "name": "stdout",
     "output_type": "stream",
     "text": [
      "INFO:tensorflow:Assets written to: /tmp/tmpex055w5q/assets\n"
     ]
    },
    {
     "name": "stderr",
     "output_type": "stream",
     "text": [
      "INFO:tensorflow:Assets written to: /tmp/tmpex055w5q/assets\n",
      "2022-11-09 15:11:40.922111: W tensorflow/compiler/mlir/lite/python/tf_tfl_flatbuffer_helpers.cc:362] Ignored output_format.\n",
      "2022-11-09 15:11:40.922192: W tensorflow/compiler/mlir/lite/python/tf_tfl_flatbuffer_helpers.cc:365] Ignored drop_control_dependency.\n",
      "2022-11-09 15:11:40.922394: I tensorflow/cc/saved_model/reader.cc:45] Reading SavedModel from: /tmp/tmpex055w5q\n",
      "2022-11-09 15:11:40.924484: I tensorflow/cc/saved_model/reader.cc:89] Reading meta graph with tags { serve }\n",
      "2022-11-09 15:11:40.924523: I tensorflow/cc/saved_model/reader.cc:130] Reading SavedModel debug info (if present) from: /tmp/tmpex055w5q\n",
      "2022-11-09 15:11:40.931479: I tensorflow/cc/saved_model/loader.cc:229] Restoring SavedModel bundle.\n",
      "2022-11-09 15:11:40.991787: I tensorflow/cc/saved_model/loader.cc:213] Running initialization op on SavedModel bundle at path: /tmp/tmpex055w5q\n",
      "2022-11-09 15:11:41.008081: I tensorflow/cc/saved_model/loader.cc:305] SavedModel load for tags { serve }; Status: success: OK. Took 85686 microseconds.\n",
      "WARNING:absl:Found untraced functions such as _jit_compiled_convolution_op, _jit_compiled_convolution_op while saving (showing 2 of 2). These functions will not be directly callable after loading.\n"
     ]
    },
    {
     "name": "stdout",
     "output_type": "stream",
     "text": [
      "INFO:tensorflow:Assets written to: /tmp/tmp9dzw4me7/assets\n"
     ]
    },
    {
     "name": "stderr",
     "output_type": "stream",
     "text": [
      "INFO:tensorflow:Assets written to: /tmp/tmp9dzw4me7/assets\n",
      "2022-11-09 15:11:42.769288: W tensorflow/compiler/mlir/lite/python/tf_tfl_flatbuffer_helpers.cc:362] Ignored output_format.\n",
      "2022-11-09 15:11:42.769378: W tensorflow/compiler/mlir/lite/python/tf_tfl_flatbuffer_helpers.cc:365] Ignored drop_control_dependency.\n",
      "2022-11-09 15:11:42.769595: I tensorflow/cc/saved_model/reader.cc:45] Reading SavedModel from: /tmp/tmp9dzw4me7\n",
      "2022-11-09 15:11:42.771706: I tensorflow/cc/saved_model/reader.cc:89] Reading meta graph with tags { serve }\n",
      "2022-11-09 15:11:42.771745: I tensorflow/cc/saved_model/reader.cc:130] Reading SavedModel debug info (if present) from: /tmp/tmp9dzw4me7\n",
      "2022-11-09 15:11:42.778784: I tensorflow/cc/saved_model/loader.cc:229] Restoring SavedModel bundle.\n",
      "2022-11-09 15:11:42.838054: I tensorflow/cc/saved_model/loader.cc:213] Running initialization op on SavedModel bundle at path: /tmp/tmp9dzw4me7\n",
      "2022-11-09 15:11:42.853345: I tensorflow/cc/saved_model/loader.cc:305] SavedModel load for tags { serve }; Status: success: OK. Took 83750 microseconds.\n",
      "WARNING:absl:Found untraced functions such as _jit_compiled_convolution_op, _jit_compiled_convolution_op while saving (showing 2 of 2). These functions will not be directly callable after loading.\n"
     ]
    },
    {
     "name": "stdout",
     "output_type": "stream",
     "text": [
      "INFO:tensorflow:Assets written to: /tmp/tmpkp_abnda/assets\n"
     ]
    },
    {
     "name": "stderr",
     "output_type": "stream",
     "text": [
      "INFO:tensorflow:Assets written to: /tmp/tmpkp_abnda/assets\n",
      "2022-11-09 15:11:47.061523: W tensorflow/compiler/mlir/lite/python/tf_tfl_flatbuffer_helpers.cc:362] Ignored output_format.\n",
      "2022-11-09 15:11:47.061622: W tensorflow/compiler/mlir/lite/python/tf_tfl_flatbuffer_helpers.cc:365] Ignored drop_control_dependency.\n",
      "2022-11-09 15:11:47.061845: I tensorflow/cc/saved_model/reader.cc:45] Reading SavedModel from: /tmp/tmpkp_abnda\n",
      "2022-11-09 15:11:47.067294: I tensorflow/cc/saved_model/reader.cc:89] Reading meta graph with tags { serve }\n",
      "2022-11-09 15:11:47.067359: I tensorflow/cc/saved_model/reader.cc:130] Reading SavedModel debug info (if present) from: /tmp/tmpkp_abnda\n",
      "2022-11-09 15:11:47.087427: I tensorflow/cc/saved_model/loader.cc:229] Restoring SavedModel bundle.\n",
      "2022-11-09 15:11:47.200084: I tensorflow/cc/saved_model/loader.cc:213] Running initialization op on SavedModel bundle at path: /tmp/tmpkp_abnda\n",
      "2022-11-09 15:11:47.233671: I tensorflow/cc/saved_model/loader.cc:305] SavedModel load for tags { serve }; Status: success: OK. Took 171826 microseconds.\n",
      "WARNING:absl:Found untraced functions such as _jit_compiled_convolution_op, _jit_compiled_convolution_op while saving (showing 2 of 2). These functions will not be directly callable after loading.\n"
     ]
    },
    {
     "name": "stdout",
     "output_type": "stream",
     "text": [
      "INFO:tensorflow:Assets written to: /tmp/tmpm639y8mo/assets\n"
     ]
    },
    {
     "name": "stderr",
     "output_type": "stream",
     "text": [
      "INFO:tensorflow:Assets written to: /tmp/tmpm639y8mo/assets\n",
      "2022-11-09 15:11:49.325876: W tensorflow/compiler/mlir/lite/python/tf_tfl_flatbuffer_helpers.cc:362] Ignored output_format.\n",
      "2022-11-09 15:11:49.325961: W tensorflow/compiler/mlir/lite/python/tf_tfl_flatbuffer_helpers.cc:365] Ignored drop_control_dependency.\n",
      "2022-11-09 15:11:49.326174: I tensorflow/cc/saved_model/reader.cc:45] Reading SavedModel from: /tmp/tmpm639y8mo\n",
      "2022-11-09 15:11:49.330084: I tensorflow/cc/saved_model/reader.cc:89] Reading meta graph with tags { serve }\n",
      "2022-11-09 15:11:49.330135: I tensorflow/cc/saved_model/reader.cc:130] Reading SavedModel debug info (if present) from: /tmp/tmpm639y8mo\n",
      "2022-11-09 15:11:49.342461: I tensorflow/cc/saved_model/loader.cc:229] Restoring SavedModel bundle.\n",
      "2022-11-09 15:11:49.413007: I tensorflow/cc/saved_model/loader.cc:213] Running initialization op on SavedModel bundle at path: /tmp/tmpm639y8mo\n",
      "2022-11-09 15:11:49.434390: I tensorflow/cc/saved_model/loader.cc:305] SavedModel load for tags { serve }; Status: success: OK. Took 108215 microseconds.\n",
      "WARNING:absl:Found untraced functions such as _jit_compiled_convolution_op, _jit_compiled_convolution_op while saving (showing 2 of 2). These functions will not be directly callable after loading.\n"
     ]
    },
    {
     "name": "stdout",
     "output_type": "stream",
     "text": [
      "INFO:tensorflow:Assets written to: /tmp/tmp_4_xz3e4/assets\n"
     ]
    },
    {
     "name": "stderr",
     "output_type": "stream",
     "text": [
      "INFO:tensorflow:Assets written to: /tmp/tmp_4_xz3e4/assets\n",
      "2022-11-09 15:11:51.292731: W tensorflow/compiler/mlir/lite/python/tf_tfl_flatbuffer_helpers.cc:362] Ignored output_format.\n",
      "2022-11-09 15:11:51.292811: W tensorflow/compiler/mlir/lite/python/tf_tfl_flatbuffer_helpers.cc:365] Ignored drop_control_dependency.\n",
      "2022-11-09 15:11:51.293006: I tensorflow/cc/saved_model/reader.cc:45] Reading SavedModel from: /tmp/tmp_4_xz3e4\n",
      "2022-11-09 15:11:51.295671: I tensorflow/cc/saved_model/reader.cc:89] Reading meta graph with tags { serve }\n",
      "2022-11-09 15:11:51.295716: I tensorflow/cc/saved_model/reader.cc:130] Reading SavedModel debug info (if present) from: /tmp/tmp_4_xz3e4\n",
      "2022-11-09 15:11:51.304454: I tensorflow/cc/saved_model/loader.cc:229] Restoring SavedModel bundle.\n",
      "2022-11-09 15:11:51.370577: I tensorflow/cc/saved_model/loader.cc:213] Running initialization op on SavedModel bundle at path: /tmp/tmp_4_xz3e4\n",
      "2022-11-09 15:11:51.388290: I tensorflow/cc/saved_model/loader.cc:305] SavedModel load for tags { serve }; Status: success: OK. Took 95284 microseconds.\n",
      "WARNING:absl:Found untraced functions such as _jit_compiled_convolution_op, _jit_compiled_convolution_op while saving (showing 2 of 2). These functions will not be directly callable after loading.\n"
     ]
    },
    {
     "name": "stdout",
     "output_type": "stream",
     "text": [
      "INFO:tensorflow:Assets written to: /tmp/tmpm0_aupha/assets\n"
     ]
    },
    {
     "name": "stderr",
     "output_type": "stream",
     "text": [
      "INFO:tensorflow:Assets written to: /tmp/tmpm0_aupha/assets\n",
      "2022-11-09 15:11:53.195069: W tensorflow/compiler/mlir/lite/python/tf_tfl_flatbuffer_helpers.cc:362] Ignored output_format.\n",
      "2022-11-09 15:11:53.195164: W tensorflow/compiler/mlir/lite/python/tf_tfl_flatbuffer_helpers.cc:365] Ignored drop_control_dependency.\n",
      "2022-11-09 15:11:53.195381: I tensorflow/cc/saved_model/reader.cc:45] Reading SavedModel from: /tmp/tmpm0_aupha\n",
      "2022-11-09 15:11:53.197854: I tensorflow/cc/saved_model/reader.cc:89] Reading meta graph with tags { serve }\n",
      "2022-11-09 15:11:53.197903: I tensorflow/cc/saved_model/reader.cc:130] Reading SavedModel debug info (if present) from: /tmp/tmpm0_aupha\n",
      "2022-11-09 15:11:53.206066: I tensorflow/cc/saved_model/loader.cc:229] Restoring SavedModel bundle.\n",
      "2022-11-09 15:11:53.268761: I tensorflow/cc/saved_model/loader.cc:213] Running initialization op on SavedModel bundle at path: /tmp/tmpm0_aupha\n",
      "2022-11-09 15:11:53.285066: I tensorflow/cc/saved_model/loader.cc:305] SavedModel load for tags { serve }; Status: success: OK. Took 89684 microseconds.\n",
      "WARNING:absl:Found untraced functions such as _jit_compiled_convolution_op, _jit_compiled_convolution_op while saving (showing 2 of 2). These functions will not be directly callable after loading.\n"
     ]
    },
    {
     "name": "stdout",
     "output_type": "stream",
     "text": [
      "INFO:tensorflow:Assets written to: /tmp/tmp5rlp7us2/assets\n"
     ]
    },
    {
     "name": "stderr",
     "output_type": "stream",
     "text": [
      "INFO:tensorflow:Assets written to: /tmp/tmp5rlp7us2/assets\n",
      "2022-11-09 15:11:55.073455: W tensorflow/compiler/mlir/lite/python/tf_tfl_flatbuffer_helpers.cc:362] Ignored output_format.\n",
      "2022-11-09 15:11:55.073559: W tensorflow/compiler/mlir/lite/python/tf_tfl_flatbuffer_helpers.cc:365] Ignored drop_control_dependency.\n",
      "2022-11-09 15:11:55.073767: I tensorflow/cc/saved_model/reader.cc:45] Reading SavedModel from: /tmp/tmp5rlp7us2\n",
      "2022-11-09 15:11:55.075992: I tensorflow/cc/saved_model/reader.cc:89] Reading meta graph with tags { serve }\n",
      "2022-11-09 15:11:55.076035: I tensorflow/cc/saved_model/reader.cc:130] Reading SavedModel debug info (if present) from: /tmp/tmp5rlp7us2\n",
      "2022-11-09 15:11:55.083548: I tensorflow/cc/saved_model/loader.cc:229] Restoring SavedModel bundle.\n",
      "2022-11-09 15:11:55.145829: I tensorflow/cc/saved_model/loader.cc:213] Running initialization op on SavedModel bundle at path: /tmp/tmp5rlp7us2\n",
      "2022-11-09 15:11:55.162061: I tensorflow/cc/saved_model/loader.cc:305] SavedModel load for tags { serve }; Status: success: OK. Took 88294 microseconds.\n",
      "WARNING:absl:Found untraced functions such as _jit_compiled_convolution_op, _jit_compiled_convolution_op while saving (showing 2 of 2). These functions will not be directly callable after loading.\n"
     ]
    },
    {
     "name": "stdout",
     "output_type": "stream",
     "text": [
      "INFO:tensorflow:Assets written to: /tmp/tmp0_x5_xgz/assets\n"
     ]
    },
    {
     "name": "stderr",
     "output_type": "stream",
     "text": [
      "INFO:tensorflow:Assets written to: /tmp/tmp0_x5_xgz/assets\n",
      "2022-11-09 15:11:56.952875: W tensorflow/compiler/mlir/lite/python/tf_tfl_flatbuffer_helpers.cc:362] Ignored output_format.\n",
      "2022-11-09 15:11:56.952963: W tensorflow/compiler/mlir/lite/python/tf_tfl_flatbuffer_helpers.cc:365] Ignored drop_control_dependency.\n",
      "2022-11-09 15:11:56.953164: I tensorflow/cc/saved_model/reader.cc:45] Reading SavedModel from: /tmp/tmp0_x5_xgz\n",
      "2022-11-09 15:11:56.955367: I tensorflow/cc/saved_model/reader.cc:89] Reading meta graph with tags { serve }\n",
      "2022-11-09 15:11:56.955411: I tensorflow/cc/saved_model/reader.cc:130] Reading SavedModel debug info (if present) from: /tmp/tmp0_x5_xgz\n",
      "2022-11-09 15:11:56.962788: I tensorflow/cc/saved_model/loader.cc:229] Restoring SavedModel bundle.\n",
      "2022-11-09 15:11:57.025107: I tensorflow/cc/saved_model/loader.cc:213] Running initialization op on SavedModel bundle at path: /tmp/tmp0_x5_xgz\n",
      "2022-11-09 15:11:57.041789: I tensorflow/cc/saved_model/loader.cc:305] SavedModel load for tags { serve }; Status: success: OK. Took 88625 microseconds.\n",
      "WARNING:absl:Found untraced functions such as _jit_compiled_convolution_op, _jit_compiled_convolution_op while saving (showing 2 of 2). These functions will not be directly callable after loading.\n"
     ]
    },
    {
     "name": "stdout",
     "output_type": "stream",
     "text": [
      "INFO:tensorflow:Assets written to: /tmp/tmpmh6c95hv/assets\n"
     ]
    },
    {
     "name": "stderr",
     "output_type": "stream",
     "text": [
      "INFO:tensorflow:Assets written to: /tmp/tmpmh6c95hv/assets\n",
      "2022-11-09 15:11:58.817080: W tensorflow/compiler/mlir/lite/python/tf_tfl_flatbuffer_helpers.cc:362] Ignored output_format.\n",
      "2022-11-09 15:11:58.817170: W tensorflow/compiler/mlir/lite/python/tf_tfl_flatbuffer_helpers.cc:365] Ignored drop_control_dependency.\n",
      "2022-11-09 15:11:58.817364: I tensorflow/cc/saved_model/reader.cc:45] Reading SavedModel from: /tmp/tmpmh6c95hv\n",
      "2022-11-09 15:11:58.819526: I tensorflow/cc/saved_model/reader.cc:89] Reading meta graph with tags { serve }\n",
      "2022-11-09 15:11:58.819567: I tensorflow/cc/saved_model/reader.cc:130] Reading SavedModel debug info (if present) from: /tmp/tmpmh6c95hv\n",
      "2022-11-09 15:11:58.826860: I tensorflow/cc/saved_model/loader.cc:229] Restoring SavedModel bundle.\n",
      "2022-11-09 15:11:58.886928: I tensorflow/cc/saved_model/loader.cc:213] Running initialization op on SavedModel bundle at path: /tmp/tmpmh6c95hv\n",
      "2022-11-09 15:11:58.902499: I tensorflow/cc/saved_model/loader.cc:305] SavedModel load for tags { serve }; Status: success: OK. Took 85135 microseconds.\n",
      "WARNING:absl:Found untraced functions such as _jit_compiled_convolution_op, _jit_compiled_convolution_op while saving (showing 2 of 2). These functions will not be directly callable after loading.\n"
     ]
    },
    {
     "name": "stdout",
     "output_type": "stream",
     "text": [
      "INFO:tensorflow:Assets written to: /tmp/tmpvk0oxwjo/assets\n"
     ]
    },
    {
     "name": "stderr",
     "output_type": "stream",
     "text": [
      "INFO:tensorflow:Assets written to: /tmp/tmpvk0oxwjo/assets\n",
      "2022-11-09 15:12:00.652741: W tensorflow/compiler/mlir/lite/python/tf_tfl_flatbuffer_helpers.cc:362] Ignored output_format.\n",
      "2022-11-09 15:12:00.652831: W tensorflow/compiler/mlir/lite/python/tf_tfl_flatbuffer_helpers.cc:365] Ignored drop_control_dependency.\n",
      "2022-11-09 15:12:00.653024: I tensorflow/cc/saved_model/reader.cc:45] Reading SavedModel from: /tmp/tmpvk0oxwjo\n",
      "2022-11-09 15:12:00.655186: I tensorflow/cc/saved_model/reader.cc:89] Reading meta graph with tags { serve }\n",
      "2022-11-09 15:12:00.655226: I tensorflow/cc/saved_model/reader.cc:130] Reading SavedModel debug info (if present) from: /tmp/tmpvk0oxwjo\n",
      "2022-11-09 15:12:00.662448: I tensorflow/cc/saved_model/loader.cc:229] Restoring SavedModel bundle.\n",
      "2022-11-09 15:12:00.723012: I tensorflow/cc/saved_model/loader.cc:213] Running initialization op on SavedModel bundle at path: /tmp/tmpvk0oxwjo\n",
      "2022-11-09 15:12:00.738467: I tensorflow/cc/saved_model/loader.cc:305] SavedModel load for tags { serve }; Status: success: OK. Took 85443 microseconds.\n",
      "WARNING:absl:Found untraced functions such as _jit_compiled_convolution_op, _jit_compiled_convolution_op while saving (showing 2 of 2). These functions will not be directly callable after loading.\n"
     ]
    },
    {
     "name": "stdout",
     "output_type": "stream",
     "text": [
      "INFO:tensorflow:Assets written to: /tmp/tmpqfe18hij/assets\n"
     ]
    },
    {
     "name": "stderr",
     "output_type": "stream",
     "text": [
      "INFO:tensorflow:Assets written to: /tmp/tmpqfe18hij/assets\n",
      "2022-11-09 15:12:02.713403: W tensorflow/compiler/mlir/lite/python/tf_tfl_flatbuffer_helpers.cc:362] Ignored output_format.\n",
      "2022-11-09 15:12:02.713510: W tensorflow/compiler/mlir/lite/python/tf_tfl_flatbuffer_helpers.cc:365] Ignored drop_control_dependency.\n",
      "2022-11-09 15:12:02.713715: I tensorflow/cc/saved_model/reader.cc:45] Reading SavedModel from: /tmp/tmpqfe18hij\n",
      "2022-11-09 15:12:02.715876: I tensorflow/cc/saved_model/reader.cc:89] Reading meta graph with tags { serve }\n",
      "2022-11-09 15:12:02.715925: I tensorflow/cc/saved_model/reader.cc:130] Reading SavedModel debug info (if present) from: /tmp/tmpqfe18hij\n",
      "2022-11-09 15:12:02.723406: I tensorflow/cc/saved_model/loader.cc:229] Restoring SavedModel bundle.\n",
      "2022-11-09 15:12:02.786146: I tensorflow/cc/saved_model/loader.cc:213] Running initialization op on SavedModel bundle at path: /tmp/tmpqfe18hij\n",
      "2022-11-09 15:12:02.802513: I tensorflow/cc/saved_model/loader.cc:305] SavedModel load for tags { serve }; Status: success: OK. Took 88796 microseconds.\n",
      "WARNING:absl:Found untraced functions such as _jit_compiled_convolution_op, _jit_compiled_convolution_op while saving (showing 2 of 2). These functions will not be directly callable after loading.\n"
     ]
    },
    {
     "name": "stdout",
     "output_type": "stream",
     "text": [
      "INFO:tensorflow:Assets written to: /tmp/tmp807789cf/assets\n"
     ]
    },
    {
     "name": "stderr",
     "output_type": "stream",
     "text": [
      "INFO:tensorflow:Assets written to: /tmp/tmp807789cf/assets\n",
      "2022-11-09 15:12:06.771505: W tensorflow/compiler/mlir/lite/python/tf_tfl_flatbuffer_helpers.cc:362] Ignored output_format.\n",
      "2022-11-09 15:12:06.771605: W tensorflow/compiler/mlir/lite/python/tf_tfl_flatbuffer_helpers.cc:365] Ignored drop_control_dependency.\n",
      "2022-11-09 15:12:06.771814: I tensorflow/cc/saved_model/reader.cc:45] Reading SavedModel from: /tmp/tmp807789cf\n",
      "2022-11-09 15:12:06.776783: I tensorflow/cc/saved_model/reader.cc:89] Reading meta graph with tags { serve }\n",
      "2022-11-09 15:12:06.776897: I tensorflow/cc/saved_model/reader.cc:130] Reading SavedModel debug info (if present) from: /tmp/tmp807789cf\n",
      "2022-11-09 15:12:06.795519: I tensorflow/cc/saved_model/loader.cc:229] Restoring SavedModel bundle.\n",
      "2022-11-09 15:12:06.893325: I tensorflow/cc/saved_model/loader.cc:213] Running initialization op on SavedModel bundle at path: /tmp/tmp807789cf\n",
      "2022-11-09 15:12:06.922871: I tensorflow/cc/saved_model/loader.cc:305] SavedModel load for tags { serve }; Status: success: OK. Took 151056 microseconds.\n",
      "WARNING:absl:Found untraced functions such as _jit_compiled_convolution_op, _jit_compiled_convolution_op while saving (showing 2 of 2). These functions will not be directly callable after loading.\n"
     ]
    },
    {
     "name": "stdout",
     "output_type": "stream",
     "text": [
      "INFO:tensorflow:Assets written to: /tmp/tmpddnjxfgf/assets\n"
     ]
    },
    {
     "name": "stderr",
     "output_type": "stream",
     "text": [
      "INFO:tensorflow:Assets written to: /tmp/tmpddnjxfgf/assets\n",
      "2022-11-09 15:12:08.982061: W tensorflow/compiler/mlir/lite/python/tf_tfl_flatbuffer_helpers.cc:362] Ignored output_format.\n",
      "2022-11-09 15:12:08.982150: W tensorflow/compiler/mlir/lite/python/tf_tfl_flatbuffer_helpers.cc:365] Ignored drop_control_dependency.\n",
      "2022-11-09 15:12:08.982349: I tensorflow/cc/saved_model/reader.cc:45] Reading SavedModel from: /tmp/tmpddnjxfgf\n",
      "2022-11-09 15:12:08.986149: I tensorflow/cc/saved_model/reader.cc:89] Reading meta graph with tags { serve }\n",
      "2022-11-09 15:12:08.986198: I tensorflow/cc/saved_model/reader.cc:130] Reading SavedModel debug info (if present) from: /tmp/tmpddnjxfgf\n",
      "2022-11-09 15:12:08.998769: I tensorflow/cc/saved_model/loader.cc:229] Restoring SavedModel bundle.\n",
      "2022-11-09 15:12:09.070235: I tensorflow/cc/saved_model/loader.cc:213] Running initialization op on SavedModel bundle at path: /tmp/tmpddnjxfgf\n",
      "2022-11-09 15:12:09.091068: I tensorflow/cc/saved_model/loader.cc:305] SavedModel load for tags { serve }; Status: success: OK. Took 108717 microseconds.\n",
      "WARNING:absl:Found untraced functions such as _jit_compiled_convolution_op, _jit_compiled_convolution_op while saving (showing 2 of 2). These functions will not be directly callable after loading.\n"
     ]
    },
    {
     "name": "stdout",
     "output_type": "stream",
     "text": [
      "INFO:tensorflow:Assets written to: /tmp/tmpkbjjqrhd/assets\n"
     ]
    },
    {
     "name": "stderr",
     "output_type": "stream",
     "text": [
      "INFO:tensorflow:Assets written to: /tmp/tmpkbjjqrhd/assets\n",
      "2022-11-09 15:12:10.955464: W tensorflow/compiler/mlir/lite/python/tf_tfl_flatbuffer_helpers.cc:362] Ignored output_format.\n",
      "2022-11-09 15:12:10.955553: W tensorflow/compiler/mlir/lite/python/tf_tfl_flatbuffer_helpers.cc:365] Ignored drop_control_dependency.\n",
      "2022-11-09 15:12:10.955748: I tensorflow/cc/saved_model/reader.cc:45] Reading SavedModel from: /tmp/tmpkbjjqrhd\n",
      "2022-11-09 15:12:10.958396: I tensorflow/cc/saved_model/reader.cc:89] Reading meta graph with tags { serve }\n",
      "2022-11-09 15:12:10.958455: I tensorflow/cc/saved_model/reader.cc:130] Reading SavedModel debug info (if present) from: /tmp/tmpkbjjqrhd\n",
      "2022-11-09 15:12:10.967342: I tensorflow/cc/saved_model/loader.cc:229] Restoring SavedModel bundle.\n",
      "2022-11-09 15:12:11.032053: I tensorflow/cc/saved_model/loader.cc:213] Running initialization op on SavedModel bundle at path: /tmp/tmpkbjjqrhd\n",
      "2022-11-09 15:12:11.050217: I tensorflow/cc/saved_model/loader.cc:305] SavedModel load for tags { serve }; Status: success: OK. Took 94468 microseconds.\n",
      "WARNING:absl:Found untraced functions such as _jit_compiled_convolution_op, _jit_compiled_convolution_op while saving (showing 2 of 2). These functions will not be directly callable after loading.\n"
     ]
    },
    {
     "name": "stdout",
     "output_type": "stream",
     "text": [
      "INFO:tensorflow:Assets written to: /tmp/tmpxeqco8v6/assets\n"
     ]
    },
    {
     "name": "stderr",
     "output_type": "stream",
     "text": [
      "INFO:tensorflow:Assets written to: /tmp/tmpxeqco8v6/assets\n",
      "2022-11-09 15:12:12.884589: W tensorflow/compiler/mlir/lite/python/tf_tfl_flatbuffer_helpers.cc:362] Ignored output_format.\n",
      "2022-11-09 15:12:12.884683: W tensorflow/compiler/mlir/lite/python/tf_tfl_flatbuffer_helpers.cc:365] Ignored drop_control_dependency.\n",
      "2022-11-09 15:12:12.884876: I tensorflow/cc/saved_model/reader.cc:45] Reading SavedModel from: /tmp/tmpxeqco8v6\n",
      "2022-11-09 15:12:12.887302: I tensorflow/cc/saved_model/reader.cc:89] Reading meta graph with tags { serve }\n",
      "2022-11-09 15:12:12.887352: I tensorflow/cc/saved_model/reader.cc:130] Reading SavedModel debug info (if present) from: /tmp/tmpxeqco8v6\n",
      "2022-11-09 15:12:12.895600: I tensorflow/cc/saved_model/loader.cc:229] Restoring SavedModel bundle.\n",
      "2022-11-09 15:12:12.959510: I tensorflow/cc/saved_model/loader.cc:213] Running initialization op on SavedModel bundle at path: /tmp/tmpxeqco8v6\n",
      "2022-11-09 15:12:12.976669: I tensorflow/cc/saved_model/loader.cc:305] SavedModel load for tags { serve }; Status: success: OK. Took 91792 microseconds.\n",
      "WARNING:absl:Found untraced functions such as _jit_compiled_convolution_op, _jit_compiled_convolution_op while saving (showing 2 of 2). These functions will not be directly callable after loading.\n"
     ]
    },
    {
     "name": "stdout",
     "output_type": "stream",
     "text": [
      "INFO:tensorflow:Assets written to: /tmp/tmpa_cs8y_c/assets\n"
     ]
    },
    {
     "name": "stderr",
     "output_type": "stream",
     "text": [
      "INFO:tensorflow:Assets written to: /tmp/tmpa_cs8y_c/assets\n",
      "2022-11-09 15:12:14.793885: W tensorflow/compiler/mlir/lite/python/tf_tfl_flatbuffer_helpers.cc:362] Ignored output_format.\n",
      "2022-11-09 15:12:14.793969: W tensorflow/compiler/mlir/lite/python/tf_tfl_flatbuffer_helpers.cc:365] Ignored drop_control_dependency.\n",
      "2022-11-09 15:12:14.794163: I tensorflow/cc/saved_model/reader.cc:45] Reading SavedModel from: /tmp/tmpa_cs8y_c\n",
      "2022-11-09 15:12:14.796407: I tensorflow/cc/saved_model/reader.cc:89] Reading meta graph with tags { serve }\n",
      "2022-11-09 15:12:14.796449: I tensorflow/cc/saved_model/reader.cc:130] Reading SavedModel debug info (if present) from: /tmp/tmpa_cs8y_c\n",
      "2022-11-09 15:12:14.803961: I tensorflow/cc/saved_model/loader.cc:229] Restoring SavedModel bundle.\n",
      "2022-11-09 15:12:14.865733: I tensorflow/cc/saved_model/loader.cc:213] Running initialization op on SavedModel bundle at path: /tmp/tmpa_cs8y_c\n",
      "2022-11-09 15:12:14.881644: I tensorflow/cc/saved_model/loader.cc:305] SavedModel load for tags { serve }; Status: success: OK. Took 87480 microseconds.\n",
      "WARNING:absl:Found untraced functions such as _jit_compiled_convolution_op, _jit_compiled_convolution_op while saving (showing 2 of 2). These functions will not be directly callable after loading.\n"
     ]
    },
    {
     "name": "stdout",
     "output_type": "stream",
     "text": [
      "INFO:tensorflow:Assets written to: /tmp/tmpjyoaa7c3/assets\n"
     ]
    },
    {
     "name": "stderr",
     "output_type": "stream",
     "text": [
      "INFO:tensorflow:Assets written to: /tmp/tmpjyoaa7c3/assets\n",
      "2022-11-09 15:12:16.702600: W tensorflow/compiler/mlir/lite/python/tf_tfl_flatbuffer_helpers.cc:362] Ignored output_format.\n",
      "2022-11-09 15:12:16.702686: W tensorflow/compiler/mlir/lite/python/tf_tfl_flatbuffer_helpers.cc:365] Ignored drop_control_dependency.\n",
      "2022-11-09 15:12:16.702879: I tensorflow/cc/saved_model/reader.cc:45] Reading SavedModel from: /tmp/tmpjyoaa7c3\n",
      "2022-11-09 15:12:16.705108: I tensorflow/cc/saved_model/reader.cc:89] Reading meta graph with tags { serve }\n",
      "2022-11-09 15:12:16.705156: I tensorflow/cc/saved_model/reader.cc:130] Reading SavedModel debug info (if present) from: /tmp/tmpjyoaa7c3\n",
      "2022-11-09 15:12:16.712485: I tensorflow/cc/saved_model/loader.cc:229] Restoring SavedModel bundle.\n",
      "2022-11-09 15:12:16.774368: I tensorflow/cc/saved_model/loader.cc:213] Running initialization op on SavedModel bundle at path: /tmp/tmpjyoaa7c3\n",
      "2022-11-09 15:12:16.790311: I tensorflow/cc/saved_model/loader.cc:305] SavedModel load for tags { serve }; Status: success: OK. Took 87433 microseconds.\n",
      "WARNING:absl:Found untraced functions such as _jit_compiled_convolution_op, _jit_compiled_convolution_op while saving (showing 2 of 2). These functions will not be directly callable after loading.\n"
     ]
    },
    {
     "name": "stdout",
     "output_type": "stream",
     "text": [
      "INFO:tensorflow:Assets written to: /tmp/tmp0_iqvib6/assets\n"
     ]
    },
    {
     "name": "stderr",
     "output_type": "stream",
     "text": [
      "INFO:tensorflow:Assets written to: /tmp/tmp0_iqvib6/assets\n",
      "2022-11-09 15:12:18.582303: W tensorflow/compiler/mlir/lite/python/tf_tfl_flatbuffer_helpers.cc:362] Ignored output_format.\n",
      "2022-11-09 15:12:18.582400: W tensorflow/compiler/mlir/lite/python/tf_tfl_flatbuffer_helpers.cc:365] Ignored drop_control_dependency.\n",
      "2022-11-09 15:12:18.582593: I tensorflow/cc/saved_model/reader.cc:45] Reading SavedModel from: /tmp/tmp0_iqvib6\n",
      "2022-11-09 15:12:18.584743: I tensorflow/cc/saved_model/reader.cc:89] Reading meta graph with tags { serve }\n",
      "2022-11-09 15:12:18.584786: I tensorflow/cc/saved_model/reader.cc:130] Reading SavedModel debug info (if present) from: /tmp/tmp0_iqvib6\n",
      "2022-11-09 15:12:18.592087: I tensorflow/cc/saved_model/loader.cc:229] Restoring SavedModel bundle.\n",
      "2022-11-09 15:12:18.654102: I tensorflow/cc/saved_model/loader.cc:213] Running initialization op on SavedModel bundle at path: /tmp/tmp0_iqvib6\n",
      "2022-11-09 15:12:18.670296: I tensorflow/cc/saved_model/loader.cc:305] SavedModel load for tags { serve }; Status: success: OK. Took 87701 microseconds.\n",
      "WARNING:absl:Found untraced functions such as _jit_compiled_convolution_op, _jit_compiled_convolution_op while saving (showing 2 of 2). These functions will not be directly callable after loading.\n"
     ]
    },
    {
     "name": "stdout",
     "output_type": "stream",
     "text": [
      "INFO:tensorflow:Assets written to: /tmp/tmpjp3vozc4/assets\n"
     ]
    },
    {
     "name": "stderr",
     "output_type": "stream",
     "text": [
      "INFO:tensorflow:Assets written to: /tmp/tmpjp3vozc4/assets\n",
      "2022-11-09 15:12:20.436222: W tensorflow/compiler/mlir/lite/python/tf_tfl_flatbuffer_helpers.cc:362] Ignored output_format.\n",
      "2022-11-09 15:12:20.436312: W tensorflow/compiler/mlir/lite/python/tf_tfl_flatbuffer_helpers.cc:365] Ignored drop_control_dependency.\n",
      "2022-11-09 15:12:20.436508: I tensorflow/cc/saved_model/reader.cc:45] Reading SavedModel from: /tmp/tmpjp3vozc4\n",
      "2022-11-09 15:12:20.438681: I tensorflow/cc/saved_model/reader.cc:89] Reading meta graph with tags { serve }\n",
      "2022-11-09 15:12:20.438724: I tensorflow/cc/saved_model/reader.cc:130] Reading SavedModel debug info (if present) from: /tmp/tmpjp3vozc4\n",
      "2022-11-09 15:12:20.445929: I tensorflow/cc/saved_model/loader.cc:229] Restoring SavedModel bundle.\n",
      "2022-11-09 15:12:20.507279: I tensorflow/cc/saved_model/loader.cc:213] Running initialization op on SavedModel bundle at path: /tmp/tmpjp3vozc4\n",
      "2022-11-09 15:12:20.523057: I tensorflow/cc/saved_model/loader.cc:305] SavedModel load for tags { serve }; Status: success: OK. Took 86550 microseconds.\n",
      "WARNING:absl:Found untraced functions such as _jit_compiled_convolution_op, _jit_compiled_convolution_op while saving (showing 2 of 2). These functions will not be directly callable after loading.\n"
     ]
    },
    {
     "name": "stdout",
     "output_type": "stream",
     "text": [
      "INFO:tensorflow:Assets written to: /tmp/tmpksgajvnf/assets\n"
     ]
    },
    {
     "name": "stderr",
     "output_type": "stream",
     "text": [
      "INFO:tensorflow:Assets written to: /tmp/tmpksgajvnf/assets\n",
      "2022-11-09 15:12:24.223413: W tensorflow/compiler/mlir/lite/python/tf_tfl_flatbuffer_helpers.cc:362] Ignored output_format.\n",
      "2022-11-09 15:12:24.223503: W tensorflow/compiler/mlir/lite/python/tf_tfl_flatbuffer_helpers.cc:365] Ignored drop_control_dependency.\n",
      "2022-11-09 15:12:24.223707: I tensorflow/cc/saved_model/reader.cc:45] Reading SavedModel from: /tmp/tmpksgajvnf\n",
      "2022-11-09 15:12:24.228657: I tensorflow/cc/saved_model/reader.cc:89] Reading meta graph with tags { serve }\n",
      "2022-11-09 15:12:24.228774: I tensorflow/cc/saved_model/reader.cc:130] Reading SavedModel debug info (if present) from: /tmp/tmpksgajvnf\n",
      "2022-11-09 15:12:24.248545: I tensorflow/cc/saved_model/loader.cc:229] Restoring SavedModel bundle.\n",
      "2022-11-09 15:12:24.351864: I tensorflow/cc/saved_model/loader.cc:213] Running initialization op on SavedModel bundle at path: /tmp/tmpksgajvnf\n",
      "2022-11-09 15:12:24.385818: I tensorflow/cc/saved_model/loader.cc:305] SavedModel load for tags { serve }; Status: success: OK. Took 162112 microseconds.\n",
      "WARNING:absl:Found untraced functions such as _jit_compiled_convolution_op, _jit_compiled_convolution_op while saving (showing 2 of 2). These functions will not be directly callable after loading.\n"
     ]
    },
    {
     "name": "stdout",
     "output_type": "stream",
     "text": [
      "INFO:tensorflow:Assets written to: /tmp/tmpn3b0whgd/assets\n"
     ]
    },
    {
     "name": "stderr",
     "output_type": "stream",
     "text": [
      "INFO:tensorflow:Assets written to: /tmp/tmpn3b0whgd/assets\n",
      "2022-11-09 15:12:26.540435: W tensorflow/compiler/mlir/lite/python/tf_tfl_flatbuffer_helpers.cc:362] Ignored output_format.\n",
      "2022-11-09 15:12:26.540537: W tensorflow/compiler/mlir/lite/python/tf_tfl_flatbuffer_helpers.cc:365] Ignored drop_control_dependency.\n",
      "2022-11-09 15:12:26.540749: I tensorflow/cc/saved_model/reader.cc:45] Reading SavedModel from: /tmp/tmpn3b0whgd\n",
      "2022-11-09 15:12:26.545197: I tensorflow/cc/saved_model/reader.cc:89] Reading meta graph with tags { serve }\n",
      "2022-11-09 15:12:26.545253: I tensorflow/cc/saved_model/reader.cc:130] Reading SavedModel debug info (if present) from: /tmp/tmpn3b0whgd\n",
      "2022-11-09 15:12:26.559657: I tensorflow/cc/saved_model/loader.cc:229] Restoring SavedModel bundle.\n",
      "2022-11-09 15:12:26.634980: I tensorflow/cc/saved_model/loader.cc:213] Running initialization op on SavedModel bundle at path: /tmp/tmpn3b0whgd\n",
      "2022-11-09 15:12:26.658083: I tensorflow/cc/saved_model/loader.cc:305] SavedModel load for tags { serve }; Status: success: OK. Took 117333 microseconds.\n",
      "WARNING:absl:Found untraced functions such as _jit_compiled_convolution_op, _jit_compiled_convolution_op while saving (showing 2 of 2). These functions will not be directly callable after loading.\n"
     ]
    },
    {
     "name": "stdout",
     "output_type": "stream",
     "text": [
      "INFO:tensorflow:Assets written to: /tmp/tmphmfbnyza/assets\n"
     ]
    },
    {
     "name": "stderr",
     "output_type": "stream",
     "text": [
      "INFO:tensorflow:Assets written to: /tmp/tmphmfbnyza/assets\n",
      "2022-11-09 15:12:28.554355: W tensorflow/compiler/mlir/lite/python/tf_tfl_flatbuffer_helpers.cc:362] Ignored output_format.\n",
      "2022-11-09 15:12:28.554449: W tensorflow/compiler/mlir/lite/python/tf_tfl_flatbuffer_helpers.cc:365] Ignored drop_control_dependency.\n",
      "2022-11-09 15:12:28.554658: I tensorflow/cc/saved_model/reader.cc:45] Reading SavedModel from: /tmp/tmphmfbnyza\n",
      "2022-11-09 15:12:28.557665: I tensorflow/cc/saved_model/reader.cc:89] Reading meta graph with tags { serve }\n",
      "2022-11-09 15:12:28.557714: I tensorflow/cc/saved_model/reader.cc:130] Reading SavedModel debug info (if present) from: /tmp/tmphmfbnyza\n",
      "2022-11-09 15:12:28.567827: I tensorflow/cc/saved_model/loader.cc:229] Restoring SavedModel bundle.\n",
      "2022-11-09 15:12:28.635858: I tensorflow/cc/saved_model/loader.cc:213] Running initialization op on SavedModel bundle at path: /tmp/tmphmfbnyza\n",
      "2022-11-09 15:12:28.654329: I tensorflow/cc/saved_model/loader.cc:305] SavedModel load for tags { serve }; Status: success: OK. Took 99670 microseconds.\n",
      "WARNING:absl:Found untraced functions such as _jit_compiled_convolution_op, _jit_compiled_convolution_op while saving (showing 2 of 2). These functions will not be directly callable after loading.\n"
     ]
    },
    {
     "name": "stdout",
     "output_type": "stream",
     "text": [
      "INFO:tensorflow:Assets written to: /tmp/tmpd86l5ke4/assets\n"
     ]
    },
    {
     "name": "stderr",
     "output_type": "stream",
     "text": [
      "INFO:tensorflow:Assets written to: /tmp/tmpd86l5ke4/assets\n",
      "2022-11-09 15:12:30.491951: W tensorflow/compiler/mlir/lite/python/tf_tfl_flatbuffer_helpers.cc:362] Ignored output_format.\n",
      "2022-11-09 15:12:30.492040: W tensorflow/compiler/mlir/lite/python/tf_tfl_flatbuffer_helpers.cc:365] Ignored drop_control_dependency.\n",
      "2022-11-09 15:12:30.492232: I tensorflow/cc/saved_model/reader.cc:45] Reading SavedModel from: /tmp/tmpd86l5ke4\n",
      "2022-11-09 15:12:30.494755: I tensorflow/cc/saved_model/reader.cc:89] Reading meta graph with tags { serve }\n",
      "2022-11-09 15:12:30.494803: I tensorflow/cc/saved_model/reader.cc:130] Reading SavedModel debug info (if present) from: /tmp/tmpd86l5ke4\n",
      "2022-11-09 15:12:30.503354: I tensorflow/cc/saved_model/loader.cc:229] Restoring SavedModel bundle.\n",
      "2022-11-09 15:12:30.568545: I tensorflow/cc/saved_model/loader.cc:213] Running initialization op on SavedModel bundle at path: /tmp/tmpd86l5ke4\n",
      "2022-11-09 15:12:30.587406: I tensorflow/cc/saved_model/loader.cc:305] SavedModel load for tags { serve }; Status: success: OK. Took 95173 microseconds.\n",
      "WARNING:absl:Found untraced functions such as _jit_compiled_convolution_op, _jit_compiled_convolution_op while saving (showing 2 of 2). These functions will not be directly callable after loading.\n"
     ]
    },
    {
     "name": "stdout",
     "output_type": "stream",
     "text": [
      "INFO:tensorflow:Assets written to: /tmp/tmpurdo8ez9/assets\n"
     ]
    },
    {
     "name": "stderr",
     "output_type": "stream",
     "text": [
      "INFO:tensorflow:Assets written to: /tmp/tmpurdo8ez9/assets\n",
      "2022-11-09 15:12:32.426284: W tensorflow/compiler/mlir/lite/python/tf_tfl_flatbuffer_helpers.cc:362] Ignored output_format.\n",
      "2022-11-09 15:12:32.426375: W tensorflow/compiler/mlir/lite/python/tf_tfl_flatbuffer_helpers.cc:365] Ignored drop_control_dependency.\n",
      "2022-11-09 15:12:32.426585: I tensorflow/cc/saved_model/reader.cc:45] Reading SavedModel from: /tmp/tmpurdo8ez9\n",
      "2022-11-09 15:12:32.428898: I tensorflow/cc/saved_model/reader.cc:89] Reading meta graph with tags { serve }\n",
      "2022-11-09 15:12:32.428940: I tensorflow/cc/saved_model/reader.cc:130] Reading SavedModel debug info (if present) from: /tmp/tmpurdo8ez9\n",
      "2022-11-09 15:12:32.436731: I tensorflow/cc/saved_model/loader.cc:229] Restoring SavedModel bundle.\n",
      "2022-11-09 15:12:32.500302: I tensorflow/cc/saved_model/loader.cc:213] Running initialization op on SavedModel bundle at path: /tmp/tmpurdo8ez9\n",
      "2022-11-09 15:12:32.518442: I tensorflow/cc/saved_model/loader.cc:305] SavedModel load for tags { serve }; Status: success: OK. Took 91855 microseconds.\n",
      "WARNING:absl:Found untraced functions such as _jit_compiled_convolution_op, _jit_compiled_convolution_op while saving (showing 2 of 2). These functions will not be directly callable after loading.\n"
     ]
    },
    {
     "name": "stdout",
     "output_type": "stream",
     "text": [
      "INFO:tensorflow:Assets written to: /tmp/tmpkmw_vnfn/assets\n"
     ]
    },
    {
     "name": "stderr",
     "output_type": "stream",
     "text": [
      "INFO:tensorflow:Assets written to: /tmp/tmpkmw_vnfn/assets\n",
      "2022-11-09 15:12:34.321360: W tensorflow/compiler/mlir/lite/python/tf_tfl_flatbuffer_helpers.cc:362] Ignored output_format.\n",
      "2022-11-09 15:12:34.321453: W tensorflow/compiler/mlir/lite/python/tf_tfl_flatbuffer_helpers.cc:365] Ignored drop_control_dependency.\n",
      "2022-11-09 15:12:34.321657: I tensorflow/cc/saved_model/reader.cc:45] Reading SavedModel from: /tmp/tmpkmw_vnfn\n",
      "2022-11-09 15:12:34.323831: I tensorflow/cc/saved_model/reader.cc:89] Reading meta graph with tags { serve }\n",
      "2022-11-09 15:12:34.323873: I tensorflow/cc/saved_model/reader.cc:130] Reading SavedModel debug info (if present) from: /tmp/tmpkmw_vnfn\n",
      "2022-11-09 15:12:34.331353: I tensorflow/cc/saved_model/loader.cc:229] Restoring SavedModel bundle.\n",
      "2022-11-09 15:12:34.394743: I tensorflow/cc/saved_model/loader.cc:213] Running initialization op on SavedModel bundle at path: /tmp/tmpkmw_vnfn\n",
      "2022-11-09 15:12:34.411399: I tensorflow/cc/saved_model/loader.cc:305] SavedModel load for tags { serve }; Status: success: OK. Took 89742 microseconds.\n",
      "WARNING:absl:Found untraced functions such as _jit_compiled_convolution_op, _jit_compiled_convolution_op while saving (showing 2 of 2). These functions will not be directly callable after loading.\n"
     ]
    },
    {
     "name": "stdout",
     "output_type": "stream",
     "text": [
      "INFO:tensorflow:Assets written to: /tmp/tmpfjiw95gy/assets\n"
     ]
    },
    {
     "name": "stderr",
     "output_type": "stream",
     "text": [
      "INFO:tensorflow:Assets written to: /tmp/tmpfjiw95gy/assets\n",
      "2022-11-09 15:12:37.611908: W tensorflow/compiler/mlir/lite/python/tf_tfl_flatbuffer_helpers.cc:362] Ignored output_format.\n",
      "2022-11-09 15:12:37.611999: W tensorflow/compiler/mlir/lite/python/tf_tfl_flatbuffer_helpers.cc:365] Ignored drop_control_dependency.\n",
      "2022-11-09 15:12:37.612207: I tensorflow/cc/saved_model/reader.cc:45] Reading SavedModel from: /tmp/tmpfjiw95gy\n",
      "2022-11-09 15:12:37.618175: I tensorflow/cc/saved_model/reader.cc:89] Reading meta graph with tags { serve }\n",
      "2022-11-09 15:12:37.618235: I tensorflow/cc/saved_model/reader.cc:130] Reading SavedModel debug info (if present) from: /tmp/tmpfjiw95gy\n",
      "2022-11-09 15:12:37.645709: I tensorflow/cc/saved_model/loader.cc:229] Restoring SavedModel bundle.\n",
      "2022-11-09 15:12:37.797052: I tensorflow/cc/saved_model/loader.cc:213] Running initialization op on SavedModel bundle at path: /tmp/tmpfjiw95gy\n",
      "2022-11-09 15:12:37.844875: I tensorflow/cc/saved_model/loader.cc:305] SavedModel load for tags { serve }; Status: success: OK. Took 232666 microseconds.\n",
      "WARNING:absl:Found untraced functions such as _jit_compiled_convolution_op, _jit_compiled_convolution_op while saving (showing 2 of 2). These functions will not be directly callable after loading.\n"
     ]
    },
    {
     "name": "stdout",
     "output_type": "stream",
     "text": [
      "INFO:tensorflow:Assets written to: /tmp/tmp3o8i2ahf/assets\n"
     ]
    },
    {
     "name": "stderr",
     "output_type": "stream",
     "text": [
      "INFO:tensorflow:Assets written to: /tmp/tmp3o8i2ahf/assets\n",
      "2022-11-09 15:12:40.182075: W tensorflow/compiler/mlir/lite/python/tf_tfl_flatbuffer_helpers.cc:362] Ignored output_format.\n",
      "2022-11-09 15:12:40.182163: W tensorflow/compiler/mlir/lite/python/tf_tfl_flatbuffer_helpers.cc:365] Ignored drop_control_dependency.\n",
      "2022-11-09 15:12:40.182371: I tensorflow/cc/saved_model/reader.cc:45] Reading SavedModel from: /tmp/tmp3o8i2ahf\n",
      "2022-11-09 15:12:40.187402: I tensorflow/cc/saved_model/reader.cc:89] Reading meta graph with tags { serve }\n",
      "2022-11-09 15:12:40.187542: I tensorflow/cc/saved_model/reader.cc:130] Reading SavedModel debug info (if present) from: /tmp/tmp3o8i2ahf\n",
      "2022-11-09 15:12:40.207142: I tensorflow/cc/saved_model/loader.cc:229] Restoring SavedModel bundle.\n",
      "2022-11-09 15:12:40.311852: I tensorflow/cc/saved_model/loader.cc:213] Running initialization op on SavedModel bundle at path: /tmp/tmp3o8i2ahf\n",
      "2022-11-09 15:12:40.343953: I tensorflow/cc/saved_model/loader.cc:305] SavedModel load for tags { serve }; Status: success: OK. Took 161582 microseconds.\n",
      "WARNING:absl:Found untraced functions such as _jit_compiled_convolution_op, _jit_compiled_convolution_op while saving (showing 2 of 2). These functions will not be directly callable after loading.\n"
     ]
    },
    {
     "name": "stdout",
     "output_type": "stream",
     "text": [
      "INFO:tensorflow:Assets written to: /tmp/tmpkq50piq7/assets\n"
     ]
    },
    {
     "name": "stderr",
     "output_type": "stream",
     "text": [
      "INFO:tensorflow:Assets written to: /tmp/tmpkq50piq7/assets\n",
      "2022-11-09 15:12:42.436349: W tensorflow/compiler/mlir/lite/python/tf_tfl_flatbuffer_helpers.cc:362] Ignored output_format.\n",
      "2022-11-09 15:12:42.436442: W tensorflow/compiler/mlir/lite/python/tf_tfl_flatbuffer_helpers.cc:365] Ignored drop_control_dependency.\n",
      "2022-11-09 15:12:42.436642: I tensorflow/cc/saved_model/reader.cc:45] Reading SavedModel from: /tmp/tmpkq50piq7\n",
      "2022-11-09 15:12:42.440609: I tensorflow/cc/saved_model/reader.cc:89] Reading meta graph with tags { serve }\n",
      "2022-11-09 15:12:42.440663: I tensorflow/cc/saved_model/reader.cc:130] Reading SavedModel debug info (if present) from: /tmp/tmpkq50piq7\n",
      "2022-11-09 15:12:42.453490: I tensorflow/cc/saved_model/loader.cc:229] Restoring SavedModel bundle.\n",
      "2022-11-09 15:12:42.523967: I tensorflow/cc/saved_model/loader.cc:213] Running initialization op on SavedModel bundle at path: /tmp/tmpkq50piq7\n",
      "2022-11-09 15:12:42.544417: I tensorflow/cc/saved_model/loader.cc:305] SavedModel load for tags { serve }; Status: success: OK. Took 107773 microseconds.\n",
      "WARNING:absl:Found untraced functions such as _jit_compiled_convolution_op, _jit_compiled_convolution_op while saving (showing 2 of 2). These functions will not be directly callable after loading.\n"
     ]
    },
    {
     "name": "stdout",
     "output_type": "stream",
     "text": [
      "INFO:tensorflow:Assets written to: /tmp/tmpshvi7q09/assets\n"
     ]
    },
    {
     "name": "stderr",
     "output_type": "stream",
     "text": [
      "INFO:tensorflow:Assets written to: /tmp/tmpshvi7q09/assets\n",
      "2022-11-09 15:12:44.420528: W tensorflow/compiler/mlir/lite/python/tf_tfl_flatbuffer_helpers.cc:362] Ignored output_format.\n",
      "2022-11-09 15:12:44.420626: W tensorflow/compiler/mlir/lite/python/tf_tfl_flatbuffer_helpers.cc:365] Ignored drop_control_dependency.\n",
      "2022-11-09 15:12:44.420828: I tensorflow/cc/saved_model/reader.cc:45] Reading SavedModel from: /tmp/tmpshvi7q09\n",
      "2022-11-09 15:12:44.423799: I tensorflow/cc/saved_model/reader.cc:89] Reading meta graph with tags { serve }\n",
      "2022-11-09 15:12:44.423846: I tensorflow/cc/saved_model/reader.cc:130] Reading SavedModel debug info (if present) from: /tmp/tmpshvi7q09\n",
      "2022-11-09 15:12:44.433785: I tensorflow/cc/saved_model/loader.cc:229] Restoring SavedModel bundle.\n",
      "2022-11-09 15:12:44.500785: I tensorflow/cc/saved_model/loader.cc:213] Running initialization op on SavedModel bundle at path: /tmp/tmpshvi7q09\n",
      "2022-11-09 15:12:44.519870: I tensorflow/cc/saved_model/loader.cc:305] SavedModel load for tags { serve }; Status: success: OK. Took 99042 microseconds.\n",
      "WARNING:absl:Found untraced functions such as _jit_compiled_convolution_op, _jit_compiled_convolution_op while saving (showing 2 of 2). These functions will not be directly callable after loading.\n"
     ]
    },
    {
     "name": "stdout",
     "output_type": "stream",
     "text": [
      "INFO:tensorflow:Assets written to: /tmp/tmpd0lyzyi3/assets\n"
     ]
    },
    {
     "name": "stderr",
     "output_type": "stream",
     "text": [
      "INFO:tensorflow:Assets written to: /tmp/tmpd0lyzyi3/assets\n",
      "2022-11-09 15:12:46.348250: W tensorflow/compiler/mlir/lite/python/tf_tfl_flatbuffer_helpers.cc:362] Ignored output_format.\n",
      "2022-11-09 15:12:46.348341: W tensorflow/compiler/mlir/lite/python/tf_tfl_flatbuffer_helpers.cc:365] Ignored drop_control_dependency.\n",
      "2022-11-09 15:12:46.348535: I tensorflow/cc/saved_model/reader.cc:45] Reading SavedModel from: /tmp/tmpd0lyzyi3\n",
      "2022-11-09 15:12:46.351040: I tensorflow/cc/saved_model/reader.cc:89] Reading meta graph with tags { serve }\n",
      "2022-11-09 15:12:46.351095: I tensorflow/cc/saved_model/reader.cc:130] Reading SavedModel debug info (if present) from: /tmp/tmpd0lyzyi3\n",
      "2022-11-09 15:12:46.359468: I tensorflow/cc/saved_model/loader.cc:229] Restoring SavedModel bundle.\n",
      "2022-11-09 15:12:46.424994: I tensorflow/cc/saved_model/loader.cc:213] Running initialization op on SavedModel bundle at path: /tmp/tmpd0lyzyi3\n",
      "2022-11-09 15:12:46.442559: I tensorflow/cc/saved_model/loader.cc:305] SavedModel load for tags { serve }; Status: success: OK. Took 94021 microseconds.\n",
      "WARNING:absl:Found untraced functions such as _jit_compiled_convolution_op, _jit_compiled_convolution_op while saving (showing 2 of 2). These functions will not be directly callable after loading.\n"
     ]
    },
    {
     "name": "stdout",
     "output_type": "stream",
     "text": [
      "INFO:tensorflow:Assets written to: /tmp/tmp3ndz6ljr/assets\n"
     ]
    },
    {
     "name": "stderr",
     "output_type": "stream",
     "text": [
      "INFO:tensorflow:Assets written to: /tmp/tmp3ndz6ljr/assets\n",
      "2022-11-09 15:12:48.302210: W tensorflow/compiler/mlir/lite/python/tf_tfl_flatbuffer_helpers.cc:362] Ignored output_format.\n",
      "2022-11-09 15:12:48.302307: W tensorflow/compiler/mlir/lite/python/tf_tfl_flatbuffer_helpers.cc:365] Ignored drop_control_dependency.\n",
      "2022-11-09 15:12:48.302526: I tensorflow/cc/saved_model/reader.cc:45] Reading SavedModel from: /tmp/tmp3ndz6ljr\n",
      "2022-11-09 15:12:48.304892: I tensorflow/cc/saved_model/reader.cc:89] Reading meta graph with tags { serve }\n",
      "2022-11-09 15:12:48.304941: I tensorflow/cc/saved_model/reader.cc:130] Reading SavedModel debug info (if present) from: /tmp/tmp3ndz6ljr\n",
      "2022-11-09 15:12:48.313549: I tensorflow/cc/saved_model/loader.cc:229] Restoring SavedModel bundle.\n",
      "2022-11-09 15:12:48.378001: I tensorflow/cc/saved_model/loader.cc:213] Running initialization op on SavedModel bundle at path: /tmp/tmp3ndz6ljr\n",
      "2022-11-09 15:12:48.394838: I tensorflow/cc/saved_model/loader.cc:305] SavedModel load for tags { serve }; Status: success: OK. Took 92312 microseconds.\n",
      "WARNING:absl:Found untraced functions such as _jit_compiled_convolution_op, _jit_compiled_convolution_op while saving (showing 2 of 2). These functions will not be directly callable after loading.\n"
     ]
    },
    {
     "name": "stdout",
     "output_type": "stream",
     "text": [
      "INFO:tensorflow:Assets written to: /tmp/tmpvyef_pdk/assets\n"
     ]
    },
    {
     "name": "stderr",
     "output_type": "stream",
     "text": [
      "INFO:tensorflow:Assets written to: /tmp/tmpvyef_pdk/assets\n",
      "2022-11-09 15:12:51.536848: W tensorflow/compiler/mlir/lite/python/tf_tfl_flatbuffer_helpers.cc:362] Ignored output_format.\n",
      "2022-11-09 15:12:51.536935: W tensorflow/compiler/mlir/lite/python/tf_tfl_flatbuffer_helpers.cc:365] Ignored drop_control_dependency.\n",
      "2022-11-09 15:12:51.537144: I tensorflow/cc/saved_model/reader.cc:45] Reading SavedModel from: /tmp/tmpvyef_pdk\n",
      "2022-11-09 15:12:51.543234: I tensorflow/cc/saved_model/reader.cc:89] Reading meta graph with tags { serve }\n",
      "2022-11-09 15:12:51.543293: I tensorflow/cc/saved_model/reader.cc:130] Reading SavedModel debug info (if present) from: /tmp/tmpvyef_pdk\n",
      "2022-11-09 15:12:51.570382: I tensorflow/cc/saved_model/loader.cc:229] Restoring SavedModel bundle.\n",
      "2022-11-09 15:12:51.714094: I tensorflow/cc/saved_model/loader.cc:213] Running initialization op on SavedModel bundle at path: /tmp/tmpvyef_pdk\n",
      "2022-11-09 15:12:51.760099: I tensorflow/cc/saved_model/loader.cc:305] SavedModel load for tags { serve }; Status: success: OK. Took 222953 microseconds.\n",
      "WARNING:absl:Found untraced functions such as _jit_compiled_convolution_op, _jit_compiled_convolution_op while saving (showing 2 of 2). These functions will not be directly callable after loading.\n"
     ]
    },
    {
     "name": "stdout",
     "output_type": "stream",
     "text": [
      "INFO:tensorflow:Assets written to: /tmp/tmpezo5lu3t/assets\n"
     ]
    },
    {
     "name": "stderr",
     "output_type": "stream",
     "text": [
      "INFO:tensorflow:Assets written to: /tmp/tmpezo5lu3t/assets\n",
      "2022-11-09 15:12:54.072947: W tensorflow/compiler/mlir/lite/python/tf_tfl_flatbuffer_helpers.cc:362] Ignored output_format.\n",
      "2022-11-09 15:12:54.073038: W tensorflow/compiler/mlir/lite/python/tf_tfl_flatbuffer_helpers.cc:365] Ignored drop_control_dependency.\n",
      "2022-11-09 15:12:54.073262: I tensorflow/cc/saved_model/reader.cc:45] Reading SavedModel from: /tmp/tmpezo5lu3t\n",
      "2022-11-09 15:12:54.078274: I tensorflow/cc/saved_model/reader.cc:89] Reading meta graph with tags { serve }\n",
      "2022-11-09 15:12:54.078330: I tensorflow/cc/saved_model/reader.cc:130] Reading SavedModel debug info (if present) from: /tmp/tmpezo5lu3t\n",
      "2022-11-09 15:12:54.098228: I tensorflow/cc/saved_model/loader.cc:229] Restoring SavedModel bundle.\n",
      "2022-11-09 15:12:54.205289: I tensorflow/cc/saved_model/loader.cc:213] Running initialization op on SavedModel bundle at path: /tmp/tmpezo5lu3t\n",
      "2022-11-09 15:12:54.236071: I tensorflow/cc/saved_model/loader.cc:305] SavedModel load for tags { serve }; Status: success: OK. Took 162810 microseconds.\n",
      "WARNING:absl:Found untraced functions such as _jit_compiled_convolution_op, _jit_compiled_convolution_op while saving (showing 2 of 2). These functions will not be directly callable after loading.\n"
     ]
    },
    {
     "name": "stdout",
     "output_type": "stream",
     "text": [
      "INFO:tensorflow:Assets written to: /tmp/tmph1akgve3/assets\n"
     ]
    },
    {
     "name": "stderr",
     "output_type": "stream",
     "text": [
      "INFO:tensorflow:Assets written to: /tmp/tmph1akgve3/assets\n",
      "2022-11-09 15:12:56.364128: W tensorflow/compiler/mlir/lite/python/tf_tfl_flatbuffer_helpers.cc:362] Ignored output_format.\n",
      "2022-11-09 15:12:56.364217: W tensorflow/compiler/mlir/lite/python/tf_tfl_flatbuffer_helpers.cc:365] Ignored drop_control_dependency.\n",
      "2022-11-09 15:12:56.364420: I tensorflow/cc/saved_model/reader.cc:45] Reading SavedModel from: /tmp/tmph1akgve3\n",
      "2022-11-09 15:12:56.368656: I tensorflow/cc/saved_model/reader.cc:89] Reading meta graph with tags { serve }\n",
      "2022-11-09 15:12:56.368710: I tensorflow/cc/saved_model/reader.cc:130] Reading SavedModel debug info (if present) from: /tmp/tmph1akgve3\n",
      "2022-11-09 15:12:56.382245: I tensorflow/cc/saved_model/loader.cc:229] Restoring SavedModel bundle.\n",
      "2022-11-09 15:12:56.457645: I tensorflow/cc/saved_model/loader.cc:213] Running initialization op on SavedModel bundle at path: /tmp/tmph1akgve3\n",
      "2022-11-09 15:12:56.479822: I tensorflow/cc/saved_model/loader.cc:305] SavedModel load for tags { serve }; Status: success: OK. Took 115402 microseconds.\n",
      "WARNING:absl:Found untraced functions such as _jit_compiled_convolution_op, _jit_compiled_convolution_op while saving (showing 2 of 2). These functions will not be directly callable after loading.\n"
     ]
    },
    {
     "name": "stdout",
     "output_type": "stream",
     "text": [
      "INFO:tensorflow:Assets written to: /tmp/tmp99fn0jz0/assets\n"
     ]
    },
    {
     "name": "stderr",
     "output_type": "stream",
     "text": [
      "INFO:tensorflow:Assets written to: /tmp/tmp99fn0jz0/assets\n",
      "2022-11-09 15:12:58.359569: W tensorflow/compiler/mlir/lite/python/tf_tfl_flatbuffer_helpers.cc:362] Ignored output_format.\n",
      "2022-11-09 15:12:58.359658: W tensorflow/compiler/mlir/lite/python/tf_tfl_flatbuffer_helpers.cc:365] Ignored drop_control_dependency.\n",
      "2022-11-09 15:12:58.359856: I tensorflow/cc/saved_model/reader.cc:45] Reading SavedModel from: /tmp/tmp99fn0jz0\n",
      "2022-11-09 15:12:58.362811: I tensorflow/cc/saved_model/reader.cc:89] Reading meta graph with tags { serve }\n",
      "2022-11-09 15:12:58.362865: I tensorflow/cc/saved_model/reader.cc:130] Reading SavedModel debug info (if present) from: /tmp/tmp99fn0jz0\n",
      "2022-11-09 15:12:58.372385: I tensorflow/cc/saved_model/loader.cc:229] Restoring SavedModel bundle.\n",
      "2022-11-09 15:12:58.440308: I tensorflow/cc/saved_model/loader.cc:213] Running initialization op on SavedModel bundle at path: /tmp/tmp99fn0jz0\n",
      "2022-11-09 15:12:58.459501: I tensorflow/cc/saved_model/loader.cc:305] SavedModel load for tags { serve }; Status: success: OK. Took 99645 microseconds.\n",
      "WARNING:absl:Found untraced functions such as _jit_compiled_convolution_op, _jit_compiled_convolution_op while saving (showing 2 of 2). These functions will not be directly callable after loading.\n"
     ]
    },
    {
     "name": "stdout",
     "output_type": "stream",
     "text": [
      "INFO:tensorflow:Assets written to: /tmp/tmpe7497xaf/assets\n"
     ]
    },
    {
     "name": "stderr",
     "output_type": "stream",
     "text": [
      "INFO:tensorflow:Assets written to: /tmp/tmpe7497xaf/assets\n",
      "2022-11-09 15:13:00.298864: W tensorflow/compiler/mlir/lite/python/tf_tfl_flatbuffer_helpers.cc:362] Ignored output_format.\n",
      "2022-11-09 15:13:00.298955: W tensorflow/compiler/mlir/lite/python/tf_tfl_flatbuffer_helpers.cc:365] Ignored drop_control_dependency.\n",
      "2022-11-09 15:13:00.299152: I tensorflow/cc/saved_model/reader.cc:45] Reading SavedModel from: /tmp/tmpe7497xaf\n",
      "2022-11-09 15:13:00.301682: I tensorflow/cc/saved_model/reader.cc:89] Reading meta graph with tags { serve }\n",
      "2022-11-09 15:13:00.301730: I tensorflow/cc/saved_model/reader.cc:130] Reading SavedModel debug info (if present) from: /tmp/tmpe7497xaf\n",
      "2022-11-09 15:13:00.310065: I tensorflow/cc/saved_model/loader.cc:229] Restoring SavedModel bundle.\n",
      "2022-11-09 15:13:00.375609: I tensorflow/cc/saved_model/loader.cc:213] Running initialization op on SavedModel bundle at path: /tmp/tmpe7497xaf\n",
      "2022-11-09 15:13:00.393006: I tensorflow/cc/saved_model/loader.cc:305] SavedModel load for tags { serve }; Status: success: OK. Took 93853 microseconds.\n",
      "WARNING:absl:Found untraced functions such as _jit_compiled_convolution_op, _jit_compiled_convolution_op while saving (showing 2 of 2). These functions will not be directly callable after loading.\n"
     ]
    },
    {
     "name": "stdout",
     "output_type": "stream",
     "text": [
      "INFO:tensorflow:Assets written to: /tmp/tmpsa35u0y5/assets\n"
     ]
    },
    {
     "name": "stderr",
     "output_type": "stream",
     "text": [
      "INFO:tensorflow:Assets written to: /tmp/tmpsa35u0y5/assets\n",
      "2022-11-09 15:13:02.276015: W tensorflow/compiler/mlir/lite/python/tf_tfl_flatbuffer_helpers.cc:362] Ignored output_format.\n",
      "2022-11-09 15:13:02.276107: W tensorflow/compiler/mlir/lite/python/tf_tfl_flatbuffer_helpers.cc:365] Ignored drop_control_dependency.\n",
      "2022-11-09 15:13:02.276308: I tensorflow/cc/saved_model/reader.cc:45] Reading SavedModel from: /tmp/tmpsa35u0y5\n",
      "2022-11-09 15:13:02.278783: I tensorflow/cc/saved_model/reader.cc:89] Reading meta graph with tags { serve }\n",
      "2022-11-09 15:13:02.278834: I tensorflow/cc/saved_model/reader.cc:130] Reading SavedModel debug info (if present) from: /tmp/tmpsa35u0y5\n",
      "2022-11-09 15:13:02.286719: I tensorflow/cc/saved_model/loader.cc:229] Restoring SavedModel bundle.\n",
      "2022-11-09 15:13:02.350290: I tensorflow/cc/saved_model/loader.cc:213] Running initialization op on SavedModel bundle at path: /tmp/tmpsa35u0y5\n",
      "2022-11-09 15:13:02.366763: I tensorflow/cc/saved_model/loader.cc:305] SavedModel load for tags { serve }; Status: success: OK. Took 90454 microseconds.\n",
      "WARNING:absl:Found untraced functions such as _jit_compiled_convolution_op, _jit_compiled_convolution_op while saving (showing 2 of 2). These functions will not be directly callable after loading.\n"
     ]
    },
    {
     "name": "stdout",
     "output_type": "stream",
     "text": [
      "INFO:tensorflow:Assets written to: /tmp/tmp9dfui6ko/assets\n"
     ]
    },
    {
     "name": "stderr",
     "output_type": "stream",
     "text": [
      "INFO:tensorflow:Assets written to: /tmp/tmp9dfui6ko/assets\n",
      "2022-11-09 15:13:05.662569: W tensorflow/compiler/mlir/lite/python/tf_tfl_flatbuffer_helpers.cc:362] Ignored output_format.\n",
      "2022-11-09 15:13:05.662659: W tensorflow/compiler/mlir/lite/python/tf_tfl_flatbuffer_helpers.cc:365] Ignored drop_control_dependency.\n",
      "2022-11-09 15:13:05.662864: I tensorflow/cc/saved_model/reader.cc:45] Reading SavedModel from: /tmp/tmp9dfui6ko\n",
      "2022-11-09 15:13:05.668188: I tensorflow/cc/saved_model/reader.cc:89] Reading meta graph with tags { serve }\n",
      "2022-11-09 15:13:05.668339: I tensorflow/cc/saved_model/reader.cc:130] Reading SavedModel debug info (if present) from: /tmp/tmp9dfui6ko\n",
      "2022-11-09 15:13:05.689310: I tensorflow/cc/saved_model/loader.cc:229] Restoring SavedModel bundle.\n",
      "2022-11-09 15:13:05.797544: I tensorflow/cc/saved_model/loader.cc:213] Running initialization op on SavedModel bundle at path: /tmp/tmp9dfui6ko\n",
      "2022-11-09 15:13:05.831709: I tensorflow/cc/saved_model/loader.cc:305] SavedModel load for tags { serve }; Status: success: OK. Took 168843 microseconds.\n",
      "WARNING:absl:Found untraced functions such as _jit_compiled_convolution_op, _jit_compiled_convolution_op while saving (showing 2 of 2). These functions will not be directly callable after loading.\n"
     ]
    },
    {
     "name": "stdout",
     "output_type": "stream",
     "text": [
      "INFO:tensorflow:Assets written to: /tmp/tmpbry2n5km/assets\n"
     ]
    },
    {
     "name": "stderr",
     "output_type": "stream",
     "text": [
      "INFO:tensorflow:Assets written to: /tmp/tmpbry2n5km/assets\n",
      "2022-11-09 15:13:07.972110: W tensorflow/compiler/mlir/lite/python/tf_tfl_flatbuffer_helpers.cc:362] Ignored output_format.\n",
      "2022-11-09 15:13:07.972202: W tensorflow/compiler/mlir/lite/python/tf_tfl_flatbuffer_helpers.cc:365] Ignored drop_control_dependency.\n",
      "2022-11-09 15:13:07.972430: I tensorflow/cc/saved_model/reader.cc:45] Reading SavedModel from: /tmp/tmpbry2n5km\n",
      "2022-11-09 15:13:07.977035: I tensorflow/cc/saved_model/reader.cc:89] Reading meta graph with tags { serve }\n",
      "2022-11-09 15:13:07.977095: I tensorflow/cc/saved_model/reader.cc:130] Reading SavedModel debug info (if present) from: /tmp/tmpbry2n5km\n",
      "2022-11-09 15:13:07.993465: I tensorflow/cc/saved_model/loader.cc:229] Restoring SavedModel bundle.\n",
      "2022-11-09 15:13:08.073591: I tensorflow/cc/saved_model/loader.cc:213] Running initialization op on SavedModel bundle at path: /tmp/tmpbry2n5km\n",
      "2022-11-09 15:13:08.098393: I tensorflow/cc/saved_model/loader.cc:305] SavedModel load for tags { serve }; Status: success: OK. Took 125963 microseconds.\n",
      "WARNING:absl:Found untraced functions such as _jit_compiled_convolution_op, _jit_compiled_convolution_op while saving (showing 2 of 2). These functions will not be directly callable after loading.\n"
     ]
    },
    {
     "name": "stdout",
     "output_type": "stream",
     "text": [
      "INFO:tensorflow:Assets written to: /tmp/tmpb2z9ztsk/assets\n"
     ]
    },
    {
     "name": "stderr",
     "output_type": "stream",
     "text": [
      "INFO:tensorflow:Assets written to: /tmp/tmpb2z9ztsk/assets\n",
      "2022-11-09 15:13:09.994778: W tensorflow/compiler/mlir/lite/python/tf_tfl_flatbuffer_helpers.cc:362] Ignored output_format.\n",
      "2022-11-09 15:13:09.994870: W tensorflow/compiler/mlir/lite/python/tf_tfl_flatbuffer_helpers.cc:365] Ignored drop_control_dependency.\n",
      "2022-11-09 15:13:09.995067: I tensorflow/cc/saved_model/reader.cc:45] Reading SavedModel from: /tmp/tmpb2z9ztsk\n",
      "2022-11-09 15:13:09.998133: I tensorflow/cc/saved_model/reader.cc:89] Reading meta graph with tags { serve }\n",
      "2022-11-09 15:13:09.998182: I tensorflow/cc/saved_model/reader.cc:130] Reading SavedModel debug info (if present) from: /tmp/tmpb2z9ztsk\n",
      "2022-11-09 15:13:10.008365: I tensorflow/cc/saved_model/loader.cc:229] Restoring SavedModel bundle.\n",
      "2022-11-09 15:13:10.076836: I tensorflow/cc/saved_model/loader.cc:213] Running initialization op on SavedModel bundle at path: /tmp/tmpb2z9ztsk\n",
      "2022-11-09 15:13:10.095776: I tensorflow/cc/saved_model/loader.cc:305] SavedModel load for tags { serve }; Status: success: OK. Took 100707 microseconds.\n",
      "WARNING:absl:Found untraced functions such as _jit_compiled_convolution_op, _jit_compiled_convolution_op while saving (showing 2 of 2). These functions will not be directly callable after loading.\n"
     ]
    },
    {
     "name": "stdout",
     "output_type": "stream",
     "text": [
      "INFO:tensorflow:Assets written to: /tmp/tmpj6zrvrju/assets\n"
     ]
    },
    {
     "name": "stderr",
     "output_type": "stream",
     "text": [
      "INFO:tensorflow:Assets written to: /tmp/tmpj6zrvrju/assets\n",
      "2022-11-09 15:13:11.947686: W tensorflow/compiler/mlir/lite/python/tf_tfl_flatbuffer_helpers.cc:362] Ignored output_format.\n",
      "2022-11-09 15:13:11.947774: W tensorflow/compiler/mlir/lite/python/tf_tfl_flatbuffer_helpers.cc:365] Ignored drop_control_dependency.\n",
      "2022-11-09 15:13:11.947976: I tensorflow/cc/saved_model/reader.cc:45] Reading SavedModel from: /tmp/tmpj6zrvrju\n",
      "2022-11-09 15:13:11.950492: I tensorflow/cc/saved_model/reader.cc:89] Reading meta graph with tags { serve }\n",
      "2022-11-09 15:13:11.950540: I tensorflow/cc/saved_model/reader.cc:130] Reading SavedModel debug info (if present) from: /tmp/tmpj6zrvrju\n",
      "2022-11-09 15:13:11.959151: I tensorflow/cc/saved_model/loader.cc:229] Restoring SavedModel bundle.\n",
      "2022-11-09 15:13:12.025614: I tensorflow/cc/saved_model/loader.cc:213] Running initialization op on SavedModel bundle at path: /tmp/tmpj6zrvrju\n",
      "2022-11-09 15:13:12.044257: I tensorflow/cc/saved_model/loader.cc:305] SavedModel load for tags { serve }; Status: success: OK. Took 96252 microseconds.\n",
      "WARNING:absl:Found untraced functions such as _jit_compiled_convolution_op, _jit_compiled_convolution_op while saving (showing 2 of 2). These functions will not be directly callable after loading.\n"
     ]
    },
    {
     "name": "stdout",
     "output_type": "stream",
     "text": [
      "INFO:tensorflow:Assets written to: /tmp/tmpvik_f34x/assets\n"
     ]
    },
    {
     "name": "stderr",
     "output_type": "stream",
     "text": [
      "INFO:tensorflow:Assets written to: /tmp/tmpvik_f34x/assets\n",
      "2022-11-09 15:13:14.897402: W tensorflow/compiler/mlir/lite/python/tf_tfl_flatbuffer_helpers.cc:362] Ignored output_format.\n",
      "2022-11-09 15:13:14.897512: W tensorflow/compiler/mlir/lite/python/tf_tfl_flatbuffer_helpers.cc:365] Ignored drop_control_dependency.\n",
      "2022-11-09 15:13:14.897727: I tensorflow/cc/saved_model/reader.cc:45] Reading SavedModel from: /tmp/tmpvik_f34x\n",
      "2022-11-09 15:13:14.903847: I tensorflow/cc/saved_model/reader.cc:89] Reading meta graph with tags { serve }\n",
      "2022-11-09 15:13:14.903907: I tensorflow/cc/saved_model/reader.cc:130] Reading SavedModel debug info (if present) from: /tmp/tmpvik_f34x\n",
      "2022-11-09 15:13:14.928279: I tensorflow/cc/saved_model/loader.cc:229] Restoring SavedModel bundle.\n",
      "2022-11-09 15:13:15.080972: I tensorflow/cc/saved_model/loader.cc:213] Running initialization op on SavedModel bundle at path: /tmp/tmpvik_f34x\n",
      "2022-11-09 15:13:15.126178: I tensorflow/cc/saved_model/loader.cc:305] SavedModel load for tags { serve }; Status: success: OK. Took 228446 microseconds.\n",
      "WARNING:absl:Found untraced functions such as _jit_compiled_convolution_op, _jit_compiled_convolution_op while saving (showing 2 of 2). These functions will not be directly callable after loading.\n"
     ]
    },
    {
     "name": "stdout",
     "output_type": "stream",
     "text": [
      "INFO:tensorflow:Assets written to: /tmp/tmp675h0dx4/assets\n"
     ]
    },
    {
     "name": "stderr",
     "output_type": "stream",
     "text": [
      "INFO:tensorflow:Assets written to: /tmp/tmp675h0dx4/assets\n",
      "2022-11-09 15:13:17.404921: W tensorflow/compiler/mlir/lite/python/tf_tfl_flatbuffer_helpers.cc:362] Ignored output_format.\n",
      "2022-11-09 15:13:17.405005: W tensorflow/compiler/mlir/lite/python/tf_tfl_flatbuffer_helpers.cc:365] Ignored drop_control_dependency.\n",
      "2022-11-09 15:13:17.405209: I tensorflow/cc/saved_model/reader.cc:45] Reading SavedModel from: /tmp/tmp675h0dx4\n",
      "2022-11-09 15:13:17.410364: I tensorflow/cc/saved_model/reader.cc:89] Reading meta graph with tags { serve }\n",
      "2022-11-09 15:13:17.410427: I tensorflow/cc/saved_model/reader.cc:130] Reading SavedModel debug info (if present) from: /tmp/tmp675h0dx4\n",
      "2022-11-09 15:13:17.430342: I tensorflow/cc/saved_model/loader.cc:229] Restoring SavedModel bundle.\n",
      "2022-11-09 15:13:17.542615: I tensorflow/cc/saved_model/loader.cc:213] Running initialization op on SavedModel bundle at path: /tmp/tmp675h0dx4\n",
      "2022-11-09 15:13:17.575974: I tensorflow/cc/saved_model/loader.cc:305] SavedModel load for tags { serve }; Status: success: OK. Took 170763 microseconds.\n"
     ]
    }
   ],
   "source": [
    "print(tf.keras.backend.floatx())\n",
    "\n",
    "# df = pd.read_pickle('/tmp/df_price_type_none.pkl')\n",
    "df = pd.read_pickle('/tmp/df_horizon8_price_type_none.pkl')\n",
    "# df = pd.read_pickle('/tmp/df_horizon4_price_type_none.pkl')\n",
    "# df = df.iloc[-10000:]\n",
    "\n",
    "df = df.loc[df.index.get_level_values('timestamp') < pd.to_datetime('2022-11-07 00:00:00Z')]\n",
    "\n",
    "btc_timestamps = df.loc[df.index.get_level_values('symbol') == 'BTC'].index.get_level_values('timestamp')\n",
    "# sol_timestamps = df.loc[df.index.get_level_values('symbol') == 'SOL'].index.get_level_values('timestamp')\n",
    "df = df.loc[df.index.get_level_values('timestamp').isin(btc_timestamps)]\n",
    "# df = df.loc[df.index.get_level_values('timestamp').isin(sol_timestamps)]\n",
    "\n",
    "# model = ExampleModelRank(1)\n",
    "model = ExampleModelRank(10)\n",
    "\n",
    "# # cv\n",
    "df_cv = calc_position_cv2(model, df)\n",
    "visualize_result(df_cv.dropna())\n",
    "# small ensemble result: https://gist.github.com/richmanbtc/5275f155527ae6d7d2232c3aa6d203e9\n",
    "\n",
    "# fit and save model as portable format\n",
    "model = ExampleModelRank(80)\n",
    "model.fit(df)\n",
    "data = cloudpickle.dumps(model)\n",
    "data = lzma.compress(data)\n",
    "with open('/home/jovyan/data/20221028_btc_one_cnn_h8.xz', 'wb') as f:\n",
    "    f.write(data)"
   ]
  },
  {
   "cell_type": "markdown",
   "id": "a68402ef-0947-4208-b536-64d7ea888b68",
   "metadata": {},
   "source": [
    "expt\n",
    "\n",
    "- [20221028_btc_one_cnn_h8/20221109_222521.ipynb](20221028_btc_one_cnn_h8/20221109_222521.ipynb) without hedge (baseline)\n",
    "- "
   ]
  },
  {
   "cell_type": "code",
   "execution_count": 12,
   "id": "5d9ca8fc-dafe-4d1b-9a0f-e84f7e46f6c6",
   "metadata": {
    "execution": {
     "iopub.execute_input": "2022-11-09T15:13:18.166785Z",
     "iopub.status.busy": "2022-11-09T15:13:18.166346Z",
     "iopub.status.idle": "2022-11-09T15:13:52.554827Z",
     "shell.execute_reply": "2022-11-09T15:13:52.553575Z"
    }
   },
   "outputs": [
    {
     "data": {
      "image/png": "[encoded data removed]",
      "text/plain": [
       "<Figure size 640x480 with 1 Axes>"
      ]
     },
     "metadata": {},
     "output_type": "display_data"
    },
    {
     "name": "stdout",
     "output_type": "stream",
     "text": [
      "timestamp                  symbol\n",
      "2022-09-10 12:00:00+00:00  ADA      -0.055556\n",
      "                           ATOM     -0.055556\n",
      "                           BNB      -0.055556\n",
      "                           BTC       0.500000\n",
      "                           DOT      -0.055556\n",
      "                                       ...   \n",
      "2022-11-09 12:00:00+00:00  ETH       0.087145\n",
      "                           LINK      0.063686\n",
      "                           MATIC     0.064809\n",
      "                           SOL       0.130162\n",
      "                           XRP       0.079760\n",
      "Name: position, Length: 14410, dtype: float32\n",
      "['ADA', 'ATOM', 'BNB', 'BTC', 'DOT', 'ETH', 'LINK', 'MATIC', 'SOL', 'XRP']\n",
      "test shift predict\n"
     ]
    },
    {
     "data": {
      "image/png": "[encoded data removed]",
      "text/plain": [
       "<Figure size 640x480 with 1 Axes>"
      ]
     },
     "metadata": {},
     "output_type": "display_data"
    },
    {
     "data": {
      "image/png": "[encoded data removed]",
      "text/plain": [
       "<Figure size 640x480 with 1 Axes>"
      ]
     },
     "metadata": {},
     "output_type": "display_data"
    },
    {
     "data": {
      "image/png": "[encoded data removed]",
      "text/plain": [
       "<Figure size 640x480 with 1 Axes>"
      ]
     },
     "metadata": {},
     "output_type": "display_data"
    },
    {
     "data": {
      "text/html": [
       "<div>\n",
       "<style scoped>\n",
       "    .dataframe tbody tr th:only-of-type {\n",
       "        vertical-align: middle;\n",
       "    }\n",
       "\n",
       "    .dataframe tbody tr th {\n",
       "        vertical-align: top;\n",
       "    }\n",
       "\n",
       "    .dataframe thead th {\n",
       "        text-align: right;\n",
       "    }\n",
       "</style>\n",
       "<table border=\"1\" class=\"dataframe\">\n",
       "  <thead>\n",
       "    <tr style=\"text-align: right;\">\n",
       "      <th></th>\n",
       "      <th></th>\n",
       "      <th>position1</th>\n",
       "      <th>position2</th>\n",
       "      <th>position3</th>\n",
       "    </tr>\n",
       "    <tr>\n",
       "      <th>timestamp</th>\n",
       "      <th>symbol</th>\n",
       "      <th></th>\n",
       "      <th></th>\n",
       "      <th></th>\n",
       "    </tr>\n",
       "  </thead>\n",
       "  <tbody>\n",
       "    <tr>\n",
       "      <th rowspan=\"5\" valign=\"top\">2022-09-10 13:00:00+00:00</th>\n",
       "      <th>ADA</th>\n",
       "      <td>-0.055556</td>\n",
       "      <td>-0.055556</td>\n",
       "      <td>-0.055556</td>\n",
       "    </tr>\n",
       "    <tr>\n",
       "      <th>ATOM</th>\n",
       "      <td>-0.055556</td>\n",
       "      <td>-0.055556</td>\n",
       "      <td>-0.055556</td>\n",
       "    </tr>\n",
       "    <tr>\n",
       "      <th>BNB</th>\n",
       "      <td>-0.055556</td>\n",
       "      <td>-0.055556</td>\n",
       "      <td>-0.055556</td>\n",
       "    </tr>\n",
       "    <tr>\n",
       "      <th>BTC</th>\n",
       "      <td>0.500000</td>\n",
       "      <td>0.500000</td>\n",
       "      <td>0.500000</td>\n",
       "    </tr>\n",
       "    <tr>\n",
       "      <th>DOT</th>\n",
       "      <td>-0.055556</td>\n",
       "      <td>-0.055556</td>\n",
       "      <td>-0.055556</td>\n",
       "    </tr>\n",
       "    <tr>\n",
       "      <th>...</th>\n",
       "      <th>...</th>\n",
       "      <td>...</td>\n",
       "      <td>...</td>\n",
       "      <td>...</td>\n",
       "    </tr>\n",
       "    <tr>\n",
       "      <th rowspan=\"5\" valign=\"top\">2022-11-09 11:00:00+00:00</th>\n",
       "      <th>ETH</th>\n",
       "      <td>0.097333</td>\n",
       "      <td>0.097333</td>\n",
       "      <td>0.097333</td>\n",
       "    </tr>\n",
       "    <tr>\n",
       "      <th>LINK</th>\n",
       "      <td>0.066277</td>\n",
       "      <td>0.066277</td>\n",
       "      <td>0.066277</td>\n",
       "    </tr>\n",
       "    <tr>\n",
       "      <th>MATIC</th>\n",
       "      <td>0.069993</td>\n",
       "      <td>0.069993</td>\n",
       "      <td>0.069993</td>\n",
       "    </tr>\n",
       "    <tr>\n",
       "      <th>SOL</th>\n",
       "      <td>0.111683</td>\n",
       "      <td>0.111683</td>\n",
       "      <td>0.111683</td>\n",
       "    </tr>\n",
       "    <tr>\n",
       "      <th>XRP</th>\n",
       "      <td>0.087110</td>\n",
       "      <td>0.087110</td>\n",
       "      <td>0.087110</td>\n",
       "    </tr>\n",
       "  </tbody>\n",
       "</table>\n",
       "<p>14390 rows × 3 columns</p>\n",
       "</div>"
      ],
      "text/plain": [
       "                                  position1  position2  position3\n",
       "timestamp                 symbol                                 \n",
       "2022-09-10 13:00:00+00:00 ADA     -0.055556  -0.055556  -0.055556\n",
       "                          ATOM    -0.055556  -0.055556  -0.055556\n",
       "                          BNB     -0.055556  -0.055556  -0.055556\n",
       "                          BTC      0.500000   0.500000   0.500000\n",
       "                          DOT     -0.055556  -0.055556  -0.055556\n",
       "...                                     ...        ...        ...\n",
       "2022-11-09 11:00:00+00:00 ETH      0.097333   0.097333   0.097333\n",
       "                          LINK     0.066277   0.066277   0.066277\n",
       "                          MATIC    0.069993   0.069993   0.069993\n",
       "                          SOL      0.111683   0.111683   0.111683\n",
       "                          XRP      0.087110   0.087110   0.087110\n",
       "\n",
       "[14390 rows x 3 columns]"
      ]
     },
     "metadata": {},
     "output_type": "display_data"
    },
    {
     "data": {
      "image/png": "[encoded data removed]",
      "text/plain": [
       "<Figure size 640x480 with 1 Axes>"
      ]
     },
     "metadata": {},
     "output_type": "display_data"
    },
    {
     "name": "stdout",
     "output_type": "stream",
     "text": [
      "ADA (1439, 4)\n",
      "ATOM (1439, 4)\n",
      "BNB (1439, 4)\n",
      "BTC (1439, 4)\n",
      "DOT (1439, 4)\n",
      "ETH (1439, 4)\n",
      "LINK (1439, 4)\n",
      "MATIC (1439, 4)\n",
      "SOL (1439, 4)\n",
      "XRP (1439, 4)\n"
     ]
    },
    {
     "data": {
      "image/png": "[encoded data removed]",
      "text/plain": [
       "<Figure size 640x480 with 1 Axes>"
      ]
     },
     "metadata": {},
     "output_type": "display_data"
    }
   ],
   "source": [
    "# model validation (Just run this cell in the new kernel to make sure you saved it in a portable format.)\n",
    "\n",
    "import os\n",
    "import joblib\n",
    "import pandas as pd\n",
    "\n",
    "model = joblib.load('/home/jovyan/data/20221028_btc_one_cnn_h8.xz')\n",
    "df = pd.read_pickle('/tmp/df_horizon8_price_type_none.pkl')\n",
    "df = df[['op', 'hi', 'lo', 'cl', 'volume']]\n",
    "max_timestamp = df.index.get_level_values('timestamp').max()\n",
    "df = df.loc[max_timestamp - pd.to_timedelta(model.max_data_sec, unit='S') <= df.index.get_level_values('timestamp')]\n",
    "print(model.predict(df))\n",
    "print(model.symbols)\n",
    "\n",
    "\n",
    "\n",
    "print('test shift predict')\n",
    "import matplotlib.pyplot as plt\n",
    "\n",
    "position1 = model.predict(df)\n",
    "position2 = model.predict(df.loc[df.index.get_level_values('timestamp') < max_timestamp])\n",
    "position3 = model.predict(df.loc[df.index.get_level_values('timestamp').min() < df.index.get_level_values('timestamp')])\n",
    "\n",
    "test_timestamp = max_timestamp - pd.to_timedelta(1, unit='H')\n",
    "df_test = pd.concat([\n",
    "    position1.rename('position1'),\n",
    "    position2.rename('position2'),\n",
    "    position3.rename('position3'),\n",
    "], axis=1)\n",
    "\n",
    "df_test = df_test.dropna()\n",
    "display(df_test)\n",
    "\n",
    "for symbol, df_symbol in df_test.groupby('symbol'):\n",
    "    df_symbol = df_symbol.reset_index().set_index('timestamp')\n",
    "    (df_symbol['position2'] - df_symbol['position1']).plot()\n",
    "plt.show()\n",
    "\n",
    "for symbol, df_symbol in df_test.groupby('symbol'):\n",
    "    df_symbol = df_symbol.reset_index().set_index('timestamp')\n",
    "    print(symbol, df_symbol.shape)\n",
    "    (df_symbol['position3'] - df_symbol['position1']).plot()\n",
    "plt.show()"
   ]
  },
  {
   "cell_type": "code",
   "execution_count": null,
   "id": "b1c337ac-00f8-47d0-abd2-e7f4862ef62f",
   "metadata": {},
   "outputs": [],
   "source": []
  }
 ],
 "metadata": {
  "kernelspec": {
   "display_name": "Python 3 (ipykernel)",
   "language": "python",
   "name": "python3"
  },
  "language_info": {
   "codemirror_mode": {
    "name": "ipython",
    "version": 3
   },
   "file_extension": ".py",
   "mimetype": "text/x-python",
   "name": "python",
   "nbconvert_exporter": "python",
   "pygments_lexer": "ipython3",
   "version": "3.10.6"
  }
 },
 "nbformat": 4,
 "nbformat_minor": 5
}
