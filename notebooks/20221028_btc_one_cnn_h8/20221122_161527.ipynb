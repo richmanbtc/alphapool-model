{
 "cells": [
  {
   "cell_type": "code",
   "execution_count": 1,
   "id": "69f846ac-9e0c-4042-957d-a3ca24acf396",
   "metadata": {
    "execution": {
     "iopub.execute_input": "2022-11-22T07:19:38.472031Z",
     "iopub.status.busy": "2022-11-22T07:19:38.471407Z",
     "iopub.status.idle": "2022-11-22T07:19:40.968285Z",
     "shell.execute_reply": "2022-11-22T07:19:40.967501Z"
    }
   },
   "outputs": [],
   "source": [
    "import os\n",
    "import sys\n",
    "p = '..'\n",
    "while not os.path.isdir(p + '/notebooks'):\n",
    "    p += '/..'\n",
    "sys.path.append(p) # for import src\n",
    "\n",
    "import os\n",
    "import cloudpickle\n",
    "import lzma\n",
    "import pandas as pd\n",
    "import numpy as np\n",
    "from sklearn.linear_model import Ridge\n",
    "from sklearn.model_selection import cross_val_predict\n",
    "from scipy.stats import pearsonr\n",
    "import matplotlib.pyplot as plt\n",
    "import lightgbm as lgb\n",
    "import talib\n",
    "import joblib\n",
    "\n",
    "import src\n",
    "from src.ml_utils import (\n",
    "    fetch_ohlcv, \n",
    "    visualize_result, \n",
    "    normalize_position, \n",
    "    calc_position_cv2,\n",
    "    get_feature_columns,\n",
    "    get_symbols,\n",
    "    unbiased_rank,\n",
    "    ewm_finite,\n",
    ")\n",
    "from src.data_fetcher import DataFetcher\n",
    "cloudpickle.register_pickle_by_value(src) # for model portability\n",
    "\n",
    "os.environ[\"USE_JOBLIB_MEMORY\"] = \"1\"\n",
    "\n",
    "def get_joblib_memory():\n",
    "    if os.getenv('USE_JOBLIB_MEMORY'):\n",
    "        return joblib.Memory('/tmp/alphapool_joblib_memory', verbose=0)\n",
    "    else:\n",
    "        return joblib.Memory(None, verbose=0)\n",
    "\n",
    "model_name = '20221028_btc_one_cnn_h8'"
   ]
  },
  {
   "cell_type": "code",
   "execution_count": 2,
   "id": "ec39979e-af09-44f8-a210-b95b7bc0af8a",
   "metadata": {
    "execution": {
     "iopub.execute_input": "2022-11-22T07:19:40.973519Z",
     "iopub.status.busy": "2022-11-22T07:19:40.972459Z",
     "iopub.status.idle": "2022-11-22T07:19:46.950866Z",
     "shell.execute_reply": "2022-11-22T07:19:46.949732Z"
    }
   },
   "outputs": [
    {
     "data": {
      "text/html": [
       "<div>\n",
       "<style scoped>\n",
       "    .dataframe tbody tr th:only-of-type {\n",
       "        vertical-align: middle;\n",
       "    }\n",
       "\n",
       "    .dataframe tbody tr th {\n",
       "        vertical-align: top;\n",
       "    }\n",
       "\n",
       "    .dataframe thead th {\n",
       "        text-align: right;\n",
       "    }\n",
       "</style>\n",
       "<table border=\"1\" class=\"dataframe\">\n",
       "  <thead>\n",
       "    <tr style=\"text-align: right;\">\n",
       "      <th></th>\n",
       "      <th>timestamp</th>\n",
       "      <th>symbol</th>\n",
       "      <th>op</th>\n",
       "      <th>hi</th>\n",
       "      <th>lo</th>\n",
       "      <th>cl</th>\n",
       "      <th>volume</th>\n",
       "      <th>amount</th>\n",
       "      <th>trades</th>\n",
       "      <th>buy_volume</th>\n",
       "      <th>...</th>\n",
       "      <th>twap</th>\n",
       "      <th>twap_5m</th>\n",
       "      <th>cl_std</th>\n",
       "      <th>cl_diff_std</th>\n",
       "      <th>hi_twap</th>\n",
       "      <th>lo_twap</th>\n",
       "      <th>hi_op_max</th>\n",
       "      <th>lo_op_min</th>\n",
       "      <th>ln_hi_lo_mean</th>\n",
       "      <th>ln_hi_lo_sqr_mean</th>\n",
       "    </tr>\n",
       "  </thead>\n",
       "  <tbody>\n",
       "    <tr>\n",
       "      <th>0</th>\n",
       "      <td>2021-07-07 11:00:00+00:00</td>\n",
       "      <td>ADAUSDT</td>\n",
       "      <td>1.4206</td>\n",
       "      <td>1.4330</td>\n",
       "      <td>1.4170</td>\n",
       "      <td>1.4300</td>\n",
       "      <td>14548171.0</td>\n",
       "      <td>2.077201e+07</td>\n",
       "      <td>43515.0</td>\n",
       "      <td>7770863.0</td>\n",
       "      <td>...</td>\n",
       "      <td>1.427578</td>\n",
       "      <td>1.428275</td>\n",
       "      <td>0.003467</td>\n",
       "      <td>0.001119</td>\n",
       "      <td>1.428347</td>\n",
       "      <td>1.426760</td>\n",
       "      <td>0.000923</td>\n",
       "      <td>-0.000663</td>\n",
       "      <td>0.001112</td>\n",
       "      <td>0.000002</td>\n",
       "    </tr>\n",
       "    <tr>\n",
       "      <th>1</th>\n",
       "      <td>2021-06-20 11:00:00+00:00</td>\n",
       "      <td>ADAUSDT</td>\n",
       "      <td>1.3476</td>\n",
       "      <td>1.3533</td>\n",
       "      <td>1.3260</td>\n",
       "      <td>1.3293</td>\n",
       "      <td>38181143.0</td>\n",
       "      <td>5.110403e+07</td>\n",
       "      <td>87818.0</td>\n",
       "      <td>18535250.0</td>\n",
       "      <td>...</td>\n",
       "      <td>1.338757</td>\n",
       "      <td>1.337625</td>\n",
       "      <td>0.006228</td>\n",
       "      <td>0.003071</td>\n",
       "      <td>1.341067</td>\n",
       "      <td>1.336997</td>\n",
       "      <td>0.001983</td>\n",
       "      <td>-0.002087</td>\n",
       "      <td>0.003039</td>\n",
       "      <td>0.000011</td>\n",
       "    </tr>\n",
       "    <tr>\n",
       "      <th>2</th>\n",
       "      <td>2021-06-19 23:00:00+00:00</td>\n",
       "      <td>ADAUSDT</td>\n",
       "      <td>1.3910</td>\n",
       "      <td>1.4018</td>\n",
       "      <td>1.3821</td>\n",
       "      <td>1.3829</td>\n",
       "      <td>15747336.0</td>\n",
       "      <td>2.191540e+07</td>\n",
       "      <td>54828.0</td>\n",
       "      <td>7464234.0</td>\n",
       "      <td>...</td>\n",
       "      <td>1.391135</td>\n",
       "      <td>1.391458</td>\n",
       "      <td>0.004761</td>\n",
       "      <td>0.001728</td>\n",
       "      <td>1.392305</td>\n",
       "      <td>1.390117</td>\n",
       "      <td>0.001062</td>\n",
       "      <td>-0.001127</td>\n",
       "      <td>0.001573</td>\n",
       "      <td>0.000003</td>\n",
       "    </tr>\n",
       "    <tr>\n",
       "      <th>3</th>\n",
       "      <td>2021-06-25 09:00:00+00:00</td>\n",
       "      <td>ADAUSDT</td>\n",
       "      <td>1.3398</td>\n",
       "      <td>1.3570</td>\n",
       "      <td>1.3230</td>\n",
       "      <td>1.3289</td>\n",
       "      <td>37778606.0</td>\n",
       "      <td>5.060536e+07</td>\n",
       "      <td>79282.0</td>\n",
       "      <td>19752438.0</td>\n",
       "      <td>...</td>\n",
       "      <td>1.340072</td>\n",
       "      <td>1.341042</td>\n",
       "      <td>0.009537</td>\n",
       "      <td>0.002410</td>\n",
       "      <td>1.342172</td>\n",
       "      <td>1.338507</td>\n",
       "      <td>0.001910</td>\n",
       "      <td>-0.001755</td>\n",
       "      <td>0.002736</td>\n",
       "      <td>0.000009</td>\n",
       "    </tr>\n",
       "    <tr>\n",
       "      <th>4</th>\n",
       "      <td>2021-06-11 12:00:00+00:00</td>\n",
       "      <td>ADAUSDT</td>\n",
       "      <td>1.5176</td>\n",
       "      <td>1.5199</td>\n",
       "      <td>1.5039</td>\n",
       "      <td>1.5108</td>\n",
       "      <td>16425309.0</td>\n",
       "      <td>2.482271e+07</td>\n",
       "      <td>61590.0</td>\n",
       "      <td>7741869.0</td>\n",
       "      <td>...</td>\n",
       "      <td>1.511205</td>\n",
       "      <td>1.511150</td>\n",
       "      <td>0.002715</td>\n",
       "      <td>0.001816</td>\n",
       "      <td>1.512712</td>\n",
       "      <td>1.510028</td>\n",
       "      <td>0.001377</td>\n",
       "      <td>-0.001307</td>\n",
       "      <td>0.001776</td>\n",
       "      <td>0.000003</td>\n",
       "    </tr>\n",
       "    <tr>\n",
       "      <th>...</th>\n",
       "      <td>...</td>\n",
       "      <td>...</td>\n",
       "      <td>...</td>\n",
       "      <td>...</td>\n",
       "      <td>...</td>\n",
       "      <td>...</td>\n",
       "      <td>...</td>\n",
       "      <td>...</td>\n",
       "      <td>...</td>\n",
       "      <td>...</td>\n",
       "      <td>...</td>\n",
       "      <td>...</td>\n",
       "      <td>...</td>\n",
       "      <td>...</td>\n",
       "      <td>...</td>\n",
       "      <td>...</td>\n",
       "      <td>...</td>\n",
       "      <td>...</td>\n",
       "      <td>...</td>\n",
       "      <td>...</td>\n",
       "      <td>...</td>\n",
       "    </tr>\n",
       "    <tr>\n",
       "      <th>241655</th>\n",
       "      <td>2022-01-06 01:00:00+00:00</td>\n",
       "      <td>MATICUSDT</td>\n",
       "      <td>2.2040</td>\n",
       "      <td>2.2090</td>\n",
       "      <td>2.1450</td>\n",
       "      <td>2.1658</td>\n",
       "      <td>13881959.0</td>\n",
       "      <td>3.026007e+07</td>\n",
       "      <td>48277.0</td>\n",
       "      <td>6040660.0</td>\n",
       "      <td>...</td>\n",
       "      <td>2.183553</td>\n",
       "      <td>2.182717</td>\n",
       "      <td>0.012705</td>\n",
       "      <td>0.004017</td>\n",
       "      <td>2.186607</td>\n",
       "      <td>2.180752</td>\n",
       "      <td>0.002413</td>\n",
       "      <td>-0.003441</td>\n",
       "      <td>0.002683</td>\n",
       "      <td>0.000008</td>\n",
       "    </tr>\n",
       "    <tr>\n",
       "      <th>241656</th>\n",
       "      <td>2022-01-02 22:00:00+00:00</td>\n",
       "      <td>MATICUSDT</td>\n",
       "      <td>2.5123</td>\n",
       "      <td>2.5345</td>\n",
       "      <td>2.5113</td>\n",
       "      <td>2.5303</td>\n",
       "      <td>4489515.0</td>\n",
       "      <td>1.133739e+07</td>\n",
       "      <td>23375.0</td>\n",
       "      <td>2343854.0</td>\n",
       "      <td>...</td>\n",
       "      <td>2.526055</td>\n",
       "      <td>2.526575</td>\n",
       "      <td>0.004697</td>\n",
       "      <td>0.001549</td>\n",
       "      <td>2.526978</td>\n",
       "      <td>2.524592</td>\n",
       "      <td>0.001218</td>\n",
       "      <td>-0.001168</td>\n",
       "      <td>0.000945</td>\n",
       "      <td>0.000001</td>\n",
       "    </tr>\n",
       "    <tr>\n",
       "      <th>241657</th>\n",
       "      <td>2022-01-06 22:00:00+00:00</td>\n",
       "      <td>MATICUSDT</td>\n",
       "      <td>2.2289</td>\n",
       "      <td>2.2671</td>\n",
       "      <td>2.2195</td>\n",
       "      <td>2.2666</td>\n",
       "      <td>6409873.0</td>\n",
       "      <td>1.435081e+07</td>\n",
       "      <td>28441.0</td>\n",
       "      <td>3350752.0</td>\n",
       "      <td>...</td>\n",
       "      <td>2.240022</td>\n",
       "      <td>2.240467</td>\n",
       "      <td>0.010433</td>\n",
       "      <td>0.003247</td>\n",
       "      <td>2.241735</td>\n",
       "      <td>2.237627</td>\n",
       "      <td>0.002330</td>\n",
       "      <td>-0.001778</td>\n",
       "      <td>0.001836</td>\n",
       "      <td>0.000004</td>\n",
       "    </tr>\n",
       "    <tr>\n",
       "      <th>241658</th>\n",
       "      <td>2022-01-08 03:00:00+00:00</td>\n",
       "      <td>MATICUSDT</td>\n",
       "      <td>2.0915</td>\n",
       "      <td>2.0991</td>\n",
       "      <td>2.0716</td>\n",
       "      <td>2.0905</td>\n",
       "      <td>6062434.0</td>\n",
       "      <td>1.264769e+07</td>\n",
       "      <td>25121.0</td>\n",
       "      <td>2769257.0</td>\n",
       "      <td>...</td>\n",
       "      <td>2.087220</td>\n",
       "      <td>2.087917</td>\n",
       "      <td>0.005760</td>\n",
       "      <td>0.002397</td>\n",
       "      <td>2.089287</td>\n",
       "      <td>2.085470</td>\n",
       "      <td>0.002032</td>\n",
       "      <td>-0.001785</td>\n",
       "      <td>0.001829</td>\n",
       "      <td>0.000004</td>\n",
       "    </tr>\n",
       "    <tr>\n",
       "      <th>241659</th>\n",
       "      <td>2022-01-16 00:00:00+00:00</td>\n",
       "      <td>MATICUSDT</td>\n",
       "      <td>2.3448</td>\n",
       "      <td>2.3579</td>\n",
       "      <td>2.3378</td>\n",
       "      <td>2.3568</td>\n",
       "      <td>6079136.0</td>\n",
       "      <td>1.427455e+07</td>\n",
       "      <td>23645.0</td>\n",
       "      <td>2991671.0</td>\n",
       "      <td>...</td>\n",
       "      <td>2.349537</td>\n",
       "      <td>2.349483</td>\n",
       "      <td>0.003902</td>\n",
       "      <td>0.002283</td>\n",
       "      <td>2.350847</td>\n",
       "      <td>2.347897</td>\n",
       "      <td>0.001512</td>\n",
       "      <td>-0.001438</td>\n",
       "      <td>0.001256</td>\n",
       "      <td>0.000002</td>\n",
       "    </tr>\n",
       "  </tbody>\n",
       "</table>\n",
       "<p>241660 rows × 21 columns</p>\n",
       "</div>"
      ],
      "text/plain": [
       "                       timestamp     symbol      op      hi      lo      cl  \\\n",
       "0      2021-07-07 11:00:00+00:00    ADAUSDT  1.4206  1.4330  1.4170  1.4300   \n",
       "1      2021-06-20 11:00:00+00:00    ADAUSDT  1.3476  1.3533  1.3260  1.3293   \n",
       "2      2021-06-19 23:00:00+00:00    ADAUSDT  1.3910  1.4018  1.3821  1.3829   \n",
       "3      2021-06-25 09:00:00+00:00    ADAUSDT  1.3398  1.3570  1.3230  1.3289   \n",
       "4      2021-06-11 12:00:00+00:00    ADAUSDT  1.5176  1.5199  1.5039  1.5108   \n",
       "...                          ...        ...     ...     ...     ...     ...   \n",
       "241655 2022-01-06 01:00:00+00:00  MATICUSDT  2.2040  2.2090  2.1450  2.1658   \n",
       "241656 2022-01-02 22:00:00+00:00  MATICUSDT  2.5123  2.5345  2.5113  2.5303   \n",
       "241657 2022-01-06 22:00:00+00:00  MATICUSDT  2.2289  2.2671  2.2195  2.2666   \n",
       "241658 2022-01-08 03:00:00+00:00  MATICUSDT  2.0915  2.0991  2.0716  2.0905   \n",
       "241659 2022-01-16 00:00:00+00:00  MATICUSDT  2.3448  2.3579  2.3378  2.3568   \n",
       "\n",
       "            volume        amount   trades  buy_volume  ...      twap  \\\n",
       "0       14548171.0  2.077201e+07  43515.0   7770863.0  ...  1.427578   \n",
       "1       38181143.0  5.110403e+07  87818.0  18535250.0  ...  1.338757   \n",
       "2       15747336.0  2.191540e+07  54828.0   7464234.0  ...  1.391135   \n",
       "3       37778606.0  5.060536e+07  79282.0  19752438.0  ...  1.340072   \n",
       "4       16425309.0  2.482271e+07  61590.0   7741869.0  ...  1.511205   \n",
       "...            ...           ...      ...         ...  ...       ...   \n",
       "241655  13881959.0  3.026007e+07  48277.0   6040660.0  ...  2.183553   \n",
       "241656   4489515.0  1.133739e+07  23375.0   2343854.0  ...  2.526055   \n",
       "241657   6409873.0  1.435081e+07  28441.0   3350752.0  ...  2.240022   \n",
       "241658   6062434.0  1.264769e+07  25121.0   2769257.0  ...  2.087220   \n",
       "241659   6079136.0  1.427455e+07  23645.0   2991671.0  ...  2.349537   \n",
       "\n",
       "         twap_5m    cl_std  cl_diff_std   hi_twap   lo_twap  hi_op_max  \\\n",
       "0       1.428275  0.003467     0.001119  1.428347  1.426760   0.000923   \n",
       "1       1.337625  0.006228     0.003071  1.341067  1.336997   0.001983   \n",
       "2       1.391458  0.004761     0.001728  1.392305  1.390117   0.001062   \n",
       "3       1.341042  0.009537     0.002410  1.342172  1.338507   0.001910   \n",
       "4       1.511150  0.002715     0.001816  1.512712  1.510028   0.001377   \n",
       "...          ...       ...          ...       ...       ...        ...   \n",
       "241655  2.182717  0.012705     0.004017  2.186607  2.180752   0.002413   \n",
       "241656  2.526575  0.004697     0.001549  2.526978  2.524592   0.001218   \n",
       "241657  2.240467  0.010433     0.003247  2.241735  2.237627   0.002330   \n",
       "241658  2.087917  0.005760     0.002397  2.089287  2.085470   0.002032   \n",
       "241659  2.349483  0.003902     0.002283  2.350847  2.347897   0.001512   \n",
       "\n",
       "        lo_op_min  ln_hi_lo_mean  ln_hi_lo_sqr_mean  \n",
       "0       -0.000663       0.001112           0.000002  \n",
       "1       -0.002087       0.003039           0.000011  \n",
       "2       -0.001127       0.001573           0.000003  \n",
       "3       -0.001755       0.002736           0.000009  \n",
       "4       -0.001307       0.001776           0.000003  \n",
       "...           ...            ...                ...  \n",
       "241655  -0.003441       0.002683           0.000008  \n",
       "241656  -0.001168       0.000945           0.000001  \n",
       "241657  -0.001778       0.001836           0.000004  \n",
       "241658  -0.001785       0.001829           0.000004  \n",
       "241659  -0.001438       0.001256           0.000002  \n",
       "\n",
       "[241660 rows x 21 columns]"
      ]
     },
     "metadata": {},
     "output_type": "display_data"
    },
    {
     "data": {
      "text/html": [
       "<div>\n",
       "<style scoped>\n",
       "    .dataframe tbody tr th:only-of-type {\n",
       "        vertical-align: middle;\n",
       "    }\n",
       "\n",
       "    .dataframe tbody tr th {\n",
       "        vertical-align: top;\n",
       "    }\n",
       "\n",
       "    .dataframe thead th {\n",
       "        text-align: right;\n",
       "    }\n",
       "</style>\n",
       "<table border=\"1\" class=\"dataframe\">\n",
       "  <thead>\n",
       "    <tr style=\"text-align: right;\">\n",
       "      <th></th>\n",
       "      <th></th>\n",
       "      <th>op</th>\n",
       "      <th>hi</th>\n",
       "      <th>lo</th>\n",
       "      <th>cl</th>\n",
       "      <th>volume</th>\n",
       "      <th>twap_5m</th>\n",
       "      <th>extended</th>\n",
       "    </tr>\n",
       "    <tr>\n",
       "      <th>timestamp</th>\n",
       "      <th>symbol</th>\n",
       "      <th></th>\n",
       "      <th></th>\n",
       "      <th></th>\n",
       "      <th></th>\n",
       "      <th></th>\n",
       "      <th></th>\n",
       "      <th></th>\n",
       "    </tr>\n",
       "  </thead>\n",
       "  <tbody>\n",
       "    <tr>\n",
       "      <th>2013-10-06 21:00:00+00:00</th>\n",
       "      <th>BTC</th>\n",
       "      <td>122.00000</td>\n",
       "      <td>122.00000</td>\n",
       "      <td>122.0000</td>\n",
       "      <td>122.0000</td>\n",
       "      <td>1.000000e-01</td>\n",
       "      <td>122.000000</td>\n",
       "      <td>True</td>\n",
       "    </tr>\n",
       "    <tr>\n",
       "      <th>2013-10-07 20:00:00+00:00</th>\n",
       "      <th>BTC</th>\n",
       "      <td>123.61000</td>\n",
       "      <td>123.61000</td>\n",
       "      <td>123.6100</td>\n",
       "      <td>123.6100</td>\n",
       "      <td>1.000000e-01</td>\n",
       "      <td>123.610000</td>\n",
       "      <td>True</td>\n",
       "    </tr>\n",
       "    <tr>\n",
       "      <th>2013-10-08 02:00:00+00:00</th>\n",
       "      <th>BTC</th>\n",
       "      <td>123.91000</td>\n",
       "      <td>123.91000</td>\n",
       "      <td>123.9000</td>\n",
       "      <td>123.9000</td>\n",
       "      <td>1.991600e+00</td>\n",
       "      <td>123.900000</td>\n",
       "      <td>True</td>\n",
       "    </tr>\n",
       "    <tr>\n",
       "      <th>2013-10-08 05:00:00+00:00</th>\n",
       "      <th>BTC</th>\n",
       "      <td>124.19000</td>\n",
       "      <td>124.19000</td>\n",
       "      <td>124.1800</td>\n",
       "      <td>124.1800</td>\n",
       "      <td>2.000000e+00</td>\n",
       "      <td>124.180000</td>\n",
       "      <td>True</td>\n",
       "    </tr>\n",
       "    <tr>\n",
       "      <th>2013-10-09 09:00:00+00:00</th>\n",
       "      <th>BTC</th>\n",
       "      <td>124.01687</td>\n",
       "      <td>124.01687</td>\n",
       "      <td>123.8400</td>\n",
       "      <td>123.8400</td>\n",
       "      <td>2.823000e+00</td>\n",
       "      <td>123.840000</td>\n",
       "      <td>True</td>\n",
       "    </tr>\n",
       "    <tr>\n",
       "      <th>...</th>\n",
       "      <th>...</th>\n",
       "      <td>...</td>\n",
       "      <td>...</td>\n",
       "      <td>...</td>\n",
       "      <td>...</td>\n",
       "      <td>...</td>\n",
       "      <td>...</td>\n",
       "      <td>...</td>\n",
       "    </tr>\n",
       "    <tr>\n",
       "      <th rowspan=\"5\" valign=\"top\">2022-11-22 06:00:00+00:00</th>\n",
       "      <th>ETH</th>\n",
       "      <td>1098.57000</td>\n",
       "      <td>1100.04000</td>\n",
       "      <td>1083.0100</td>\n",
       "      <td>1084.8200</td>\n",
       "      <td>4.174374e+05</td>\n",
       "      <td>1092.853333</td>\n",
       "      <td>False</td>\n",
       "    </tr>\n",
       "    <tr>\n",
       "      <th>LINK</th>\n",
       "      <td>5.99100</td>\n",
       "      <td>6.01000</td>\n",
       "      <td>5.8390</td>\n",
       "      <td>5.8760</td>\n",
       "      <td>5.164573e+06</td>\n",
       "      <td>5.932417</td>\n",
       "      <td>False</td>\n",
       "    </tr>\n",
       "    <tr>\n",
       "      <th>LTC</th>\n",
       "      <td>61.92000</td>\n",
       "      <td>62.27000</td>\n",
       "      <td>61.5100</td>\n",
       "      <td>61.6600</td>\n",
       "      <td>3.594963e+05</td>\n",
       "      <td>61.800000</td>\n",
       "      <td>False</td>\n",
       "    </tr>\n",
       "    <tr>\n",
       "      <th>MATIC</th>\n",
       "      <td>0.79510</td>\n",
       "      <td>0.79680</td>\n",
       "      <td>0.7803</td>\n",
       "      <td>0.7830</td>\n",
       "      <td>3.529054e+07</td>\n",
       "      <td>0.789225</td>\n",
       "      <td>False</td>\n",
       "    </tr>\n",
       "    <tr>\n",
       "      <th>XRP</th>\n",
       "      <td>0.35400</td>\n",
       "      <td>0.35550</td>\n",
       "      <td>0.3509</td>\n",
       "      <td>0.3534</td>\n",
       "      <td>9.421572e+07</td>\n",
       "      <td>0.353442</td>\n",
       "      <td>False</td>\n",
       "    </tr>\n",
       "  </tbody>\n",
       "</table>\n",
       "<p>420995 rows × 7 columns</p>\n",
       "</div>"
      ],
      "text/plain": [
       "                                          op          hi         lo  \\\n",
       "timestamp                 symbol                                      \n",
       "2013-10-06 21:00:00+00:00 BTC      122.00000   122.00000   122.0000   \n",
       "2013-10-07 20:00:00+00:00 BTC      123.61000   123.61000   123.6100   \n",
       "2013-10-08 02:00:00+00:00 BTC      123.91000   123.91000   123.9000   \n",
       "2013-10-08 05:00:00+00:00 BTC      124.19000   124.19000   124.1800   \n",
       "2013-10-09 09:00:00+00:00 BTC      124.01687   124.01687   123.8400   \n",
       "...                                      ...         ...        ...   \n",
       "2022-11-22 06:00:00+00:00 ETH     1098.57000  1100.04000  1083.0100   \n",
       "                          LINK       5.99100     6.01000     5.8390   \n",
       "                          LTC       61.92000    62.27000    61.5100   \n",
       "                          MATIC      0.79510     0.79680     0.7803   \n",
       "                          XRP        0.35400     0.35550     0.3509   \n",
       "\n",
       "                                         cl        volume      twap_5m  \\\n",
       "timestamp                 symbol                                         \n",
       "2013-10-06 21:00:00+00:00 BTC      122.0000  1.000000e-01   122.000000   \n",
       "2013-10-07 20:00:00+00:00 BTC      123.6100  1.000000e-01   123.610000   \n",
       "2013-10-08 02:00:00+00:00 BTC      123.9000  1.991600e+00   123.900000   \n",
       "2013-10-08 05:00:00+00:00 BTC      124.1800  2.000000e+00   124.180000   \n",
       "2013-10-09 09:00:00+00:00 BTC      123.8400  2.823000e+00   123.840000   \n",
       "...                                     ...           ...          ...   \n",
       "2022-11-22 06:00:00+00:00 ETH     1084.8200  4.174374e+05  1092.853333   \n",
       "                          LINK       5.8760  5.164573e+06     5.932417   \n",
       "                          LTC       61.6600  3.594963e+05    61.800000   \n",
       "                          MATIC      0.7830  3.529054e+07     0.789225   \n",
       "                          XRP        0.3534  9.421572e+07     0.353442   \n",
       "\n",
       "                                  extended  \n",
       "timestamp                 symbol            \n",
       "2013-10-06 21:00:00+00:00 BTC         True  \n",
       "2013-10-07 20:00:00+00:00 BTC         True  \n",
       "2013-10-08 02:00:00+00:00 BTC         True  \n",
       "2013-10-08 05:00:00+00:00 BTC         True  \n",
       "2013-10-09 09:00:00+00:00 BTC         True  \n",
       "...                                    ...  \n",
       "2022-11-22 06:00:00+00:00 ETH        False  \n",
       "                          LINK       False  \n",
       "                          LTC        False  \n",
       "                          MATIC      False  \n",
       "                          XRP        False  \n",
       "\n",
       "[420995 rows x 7 columns]"
      ]
     },
     "metadata": {},
     "output_type": "display_data"
    }
   ],
   "source": [
    "# symbols = os.getenv('ALPHAPOOL_SYMBOLS').split(',') # 売買代金が多く、古いもの\n",
    "# symbols += 'DOGE,SFP,DYDX,AXS,CHZ,TRX,MASK,ETC,LTC,1000SHIB,C98,SAND,SUSHI,NEAR,FIL'.split(',')\n",
    "# symbols += 'SFP,DYDX,AXS,TRX,MASK,ETC,LTC,1000SHIB,C98,SAND,SUSHI,NEAR,FIL'.split(',')\n",
    "symbols = ['ADA', 'ATOM', 'BTC', 'DOT', 'ETH', 'LINK', 'MATIC', 'XRP', 'ETC', 'LTC'] # binance, bybit, okex\n",
    "# symbols = ['ADA', 'ATOM', 'BNB', 'BTC', 'DOT', 'ETH', 'LINK', 'MATIC', 'XRP', 'ETC', 'LTC'] # binance, bybit\n",
    "# symbols = ['ADA', 'ATOM', 'BNB', 'BTC', 'DOT', 'ETH', 'LINK', 'MATIC', 'XRP'] # binance, bybit\n",
    "\n",
    "provider_configs = [\n",
    "    {\n",
    "        'provider': 'bigquery',\n",
    "        'options': {\n",
    "            'table': 'binance_ohlcv',\n",
    "            'symbols': ['{}USDT'.format(x) for x in symbols],\n",
    "        }\n",
    "    },\n",
    "]\n",
    "\n",
    "dfs = DataFetcher(memory=get_joblib_memory()).fetch(\n",
    "    provider_configs=provider_configs, \n",
    "    min_timestamp=None,\n",
    ")\n",
    "\n",
    "for df in dfs:\n",
    "    display(df)\n",
    "\n",
    "def merge_data(dfs):\n",
    "    df = dfs[0]\n",
    "    df['symbol'] = df['symbol'].str.replace('USDT', '')\n",
    "    df = df.set_index(['timestamp', 'symbol']).sort_index()\n",
    "    return df\n",
    "\n",
    "df = merge_data(dfs)\n",
    "\n",
    "def merge_kraken_data(df):\n",
    "    symbols = list(df.index.get_level_values('symbol').unique())\n",
    "    \n",
    "    train_provider_configs = [\n",
    "        {\n",
    "            'provider': 'bigquery',\n",
    "            'options': {\n",
    "                'table': 'kraken_historical_ohlcvt',\n",
    "                'symbols': symbols,\n",
    "            }\n",
    "        },\n",
    "    ]\n",
    "\n",
    "    dfs = DataFetcher(memory=get_joblib_memory()).fetch(\n",
    "        provider_configs=train_provider_configs, \n",
    "        min_timestamp=None,\n",
    "    )\n",
    "    df_kraken = dfs[0].set_index(['timestamp', 'symbol'])\n",
    "\n",
    "    df = df.copy()\n",
    "    df['extended'] = False\n",
    "    df = pd.concat([df, df_kraken])\n",
    "    df['extended'] = df['extended'].fillna(True)\n",
    "    df = df[['op', 'hi', 'lo', 'cl', 'volume', 'twap_5m', 'extended']]\n",
    "    df = df.loc[~df.index.duplicated()]\n",
    "    df = df.sort_index()\n",
    "    return df.copy()\n",
    "\n",
    "df = merge_kraken_data(df)\n",
    "\n",
    "df = df.dropna()\n",
    "df.to_pickle('/tmp/df_binance_ohlcv_extended.pkl')\n",
    "display(df)"
   ]
  },
  {
   "cell_type": "code",
   "execution_count": 3,
   "id": "463f3d07-3dac-4173-90c1-33426b09861c",
   "metadata": {
    "execution": {
     "iopub.execute_input": "2022-11-22T07:19:46.955157Z",
     "iopub.status.busy": "2022-11-22T07:19:46.954783Z",
     "iopub.status.idle": "2022-11-22T07:19:47.248883Z",
     "shell.execute_reply": "2022-11-22T07:19:47.247987Z"
    }
   },
   "outputs": [],
   "source": [
    "# based on 20220910_eda\n",
    "\n",
    "import numba\n",
    "from pandas.api.types import is_float_dtype\n",
    "\n",
    "def signed_rsi_sma(x, timeperiod=14):\n",
    "    v = x.diff(1).fillna(0)\n",
    "    return (v.rolling(timeperiod, 1).sum() / (1e-37 + v.abs().rolling(timeperiod, 1).sum())).clip(-1, 1)\n",
    "\n",
    "def uniform_rank(x):\n",
    "    return unbiased_rank(x)\n",
    "    # count = x.transform(\"count\")\n",
    "    # rank = x.rank()\n",
    "    # return (rank - 0.5) / count\n",
    "\n",
    "def beta_mean(df, col):\n",
    "    # broadcast btc value\n",
    "    idx = df.index.to_frame()\n",
    "    idx['symbol'] = 'BTC'\n",
    "    idx = pd.MultiIndex.from_frame(idx)\n",
    "    return pd.Series(df.loc[idx, col].values, index=df.index)\n",
    "    \n",
    "def calc_features(df, with_ret=False):\n",
    "    mem = get_joblib_memory()\n",
    "    return mem.cache(do_calc_features)(df, with_ret=with_ret)\n",
    "    \n",
    "def do_calc_features(df, with_ret=False):\n",
    "    dfs = []\n",
    "    for symbol, df_symbol in df.groupby('symbol'):\n",
    "        dfs.append(calc_features_single(df_symbol))\n",
    "    df = pd.concat(dfs).sort_index()\n",
    "\n",
    "    beta_window = 24 * 30\n",
    "    # beta_window = 24 * 7\n",
    "\n",
    "    # df['ln_cl_diff_mean'] = df.groupby('timestamp')['ln_cl_diff'].transform('mean')\n",
    "    df['ln_cl_diff_mean'] = beta_mean(df, 'ln_cl_diff')\n",
    "    \n",
    "    # wrong\n",
    "    # df['beta'] = df.groupby('symbol')['ln_cl_diff'].transform(lambda x: x.rolling(beta_window, 1).corr(df.loc[x.index, 'ln_cl_diff_mean'])).fillna(0).clip(0.1, 2.0)\n",
    "\n",
    "    # df['beta'] = (\n",
    "    #     (df['ln_cl_diff'] * df['ln_cl_diff_mean']).groupby('symbol').transform(lambda x: x.rolling(beta_window, 1).mean())\n",
    "    #     / (df['ln_cl_diff_mean'] ** 2).groupby('symbol').transform(lambda x: x.rolling(beta_window, 1).mean())\n",
    "    # ).fillna(0).clip(0.1, 2.0)\n",
    "    df['beta'] = 1.0\n",
    "    \n",
    "    dfs = [\n",
    "        df,\n",
    "        # df.drop(columns=get_feature_columns(df)),\n",
    "    ]\n",
    "    \n",
    "    if with_ret:\n",
    "        ret_mean = beta_mean(df, 'ret')\n",
    "        dfs += [\n",
    "            (uniform_rank(df.groupby('timestamp')['ret']) - 0.5).rename('ret_rank'),\n",
    "            (df['ret'] - df['beta'] * ret_mean).rename('ret_beta'),\n",
    "        ]\n",
    "    \n",
    "    for col in get_feature_columns(df):\n",
    "        feature_mean = beta_mean(df, col)\n",
    "        dfs += [\n",
    "            # (2 * uniform_rank(df.groupby('timestamp')[col]) - 1).rename(col + '_symbolrank'),\n",
    "            (df[col] - df['beta'] * feature_mean).rename(col + '_symbolbeta'),\n",
    "        ]\n",
    "    df = pd.concat(dfs, axis=1)\n",
    "    \n",
    "    # dfs = [df]\n",
    "    # for col in get_feature_columns(df):\n",
    "    #     if '_symbolbeta' not in col:\n",
    "    #         continue\n",
    "    #     dfs += [\n",
    "    #         (2 * uniform_rank(df.groupby('timestamp')[col]) - 1).rename(col.replace('symbolbeta', 'symbolbtrk')),\n",
    "    #     ]\n",
    "    # df = pd.concat(dfs, axis=1)\n",
    "    \n",
    "    df = df[sorted([x for x in df.columns if is_float_dtype(df.dtypes[x])])].copy().astype('float32')\n",
    "\n",
    "    return df\n",
    "\n",
    "def calc_features_single(df):\n",
    "    df = df.copy()\n",
    "\n",
    "    high = df['hi']\n",
    "    low = df['lo']\n",
    "    close = df['cl']\n",
    "    volume = df['volume']\n",
    "    df['ln_cl'] = np.log(df['cl'])\n",
    "    df['ln_hi'] = np.log(df['hi'])\n",
    "    df['ln_lo'] = np.log(df['lo'])\n",
    "    df['ln_hilo'] = 0.5 * (df['ln_hi'] + df['ln_lo'])\n",
    "    df['ln_cl_diff'] = df['ln_cl'].diff(1).fillna(0)\n",
    "    df['ln_volume'] = np.log1p(df['volume'])\n",
    "\n",
    "    dfs = [df]\n",
    "    \n",
    "    # for i in range(1, 96):\n",
    "    # for i in range(1, 96 // 4):\n",
    "    for i in range(1, 96 // 8):\n",
    "    # for i in range(1, 192 // 8):\n",
    "        dfs += [\n",
    "            # (df['ln_cl'] - df['ln_cl'].rolling(8 * i).mean()).fillna(0).rename('feature_{:02}_ln_cl_kairi'.format(i)), # good\n",
    "            # df['ln_cl'].diff(8).shift(i * 8).fillna(0).rename('feature_ln_cl_diff_{:02}'.format(i)),\n",
    "            df['ln_cl'].diff(8 * i).fillna(0).rename('feature_{:02}_ln_cl_diff'.format(i)), # good\n",
    "            # df['ln_cl'].diff(1 * i).fillna(0).rename('feature_{:02}_ln_cl_diff'.format(i)),\n",
    "            # df['ln_cl'].diff(4 * i).fillna(0).rename('feature_{:02}_ln_cl_diff'.format(i)),\n",
    "            # df['ln_cl'].rolling(8 * i).std().fillna(0).rename('feature_{:02}_ln_cl_std'.format(i)),\n",
    "            # df['ln_volume'].diff(8 * i).fillna(0).rename('feature_{:02}_ln_volume_diff'.format(i)),\n",
    "            # df['ln_volume'].rolling(8 * i).mean().fillna(0).rename('feature_{:02}_ln_volume_mean'.format(i)),\n",
    "            # np.log1p(df['volume'].rolling(8 * i).mean()).fillna(0).rename('feature_{:02}_ln_volume_mean2'.format(i)),\n",
    "            # signed_rsi_sma(df['cl'], timeperiod=i).fillna(0).rename('feature_{:02}_rsi'.format(i)),\n",
    "        ]\n",
    "\n",
    "    return pd.concat(dfs, axis=1)"
   ]
  },
  {
   "cell_type": "code",
   "execution_count": 4,
   "id": "3ffd0d1e-fb4b-45f6-8f65-4dda9bb3598c",
   "metadata": {
    "execution": {
     "iopub.execute_input": "2022-11-22T07:19:47.253366Z",
     "iopub.status.busy": "2022-11-22T07:19:47.253027Z",
     "iopub.status.idle": "2022-11-22T07:19:49.079745Z",
     "shell.execute_reply": "2022-11-22T07:19:49.078604Z"
    }
   },
   "outputs": [
    {
     "name": "stderr",
     "output_type": "stream",
     "text": [
      "2022-11-22 07:19:47.259495: I tensorflow/core/platform/cpu_feature_guard.cc:193] This TensorFlow binary is optimized with oneAPI Deep Neural Network Library (oneDNN) to use the following CPU instructions in performance-critical operations:  AVX2 FMA\n",
      "To enable them in other operations, rebuild TensorFlow with the appropriate compiler flags.\n",
      "2022-11-22 07:19:47.433692: W tensorflow/stream_executor/platform/default/dso_loader.cc:64] Could not load dynamic library 'libcudart.so.11.0'; dlerror: libcudart.so.11.0: cannot open shared object file: No such file or directory\n",
      "2022-11-22 07:19:47.433752: I tensorflow/stream_executor/cuda/cudart_stub.cc:29] Ignore above cudart dlerror if you do not have a GPU set up on your machine.\n",
      "2022-11-22 07:19:47.465062: E tensorflow/stream_executor/cuda/cuda_blas.cc:2981] Unable to register cuBLAS factory: Attempting to register factory for plugin cuBLAS when one has already been registered\n",
      "2022-11-22 07:19:48.319853: W tensorflow/stream_executor/platform/default/dso_loader.cc:64] Could not load dynamic library 'libnvinfer.so.7'; dlerror: libnvinfer.so.7: cannot open shared object file: No such file or directory\n",
      "2022-11-22 07:19:48.320026: W tensorflow/stream_executor/platform/default/dso_loader.cc:64] Could not load dynamic library 'libnvinfer_plugin.so.7'; dlerror: libnvinfer_plugin.so.7: cannot open shared object file: No such file or directory\n",
      "2022-11-22 07:19:48.320041: W tensorflow/compiler/tf2tensorrt/utils/py_utils.cc:38] TF-TRT Warning: Cannot dlopen some TensorRT libraries. If you would like to use Nvidia GPU with TensorRT, please make sure the missing libraries mentioned above are installed properly.\n",
      "/opt/conda/lib/python3.10/site-packages/tensorflow_addons/utils/ensure_tf_install.py:53: UserWarning: Tensorflow Addons supports using Python ops for all Tensorflow versions above or equal to 2.7.0 and strictly below 2.10.0 (nightly versions are not supported). \n",
      " The versions of TensorFlow you are currently using is 2.10.0 and is not supported. \n",
      "Some things might work, some things might not.\n",
      "If you were to encounter a bug, do not file an issue.\n",
      "If you want to make sure you're using a tested and supported configuration, either change the TensorFlow version or the TensorFlow Addons's version. \n",
      "You can find the compatibility matrix in TensorFlow Addon's readme:\n",
      "https://github.com/tensorflow/addons\n",
      "  warnings.warn(\n"
     ]
    }
   ],
   "source": [
    "import tensorflow as tf\n",
    "from tensorflow.keras.layers import (\n",
    "    Input, Dense, Dropout, Reshape, Conv1D, Conv2D, Conv3D, Flatten, MaxPooling1D, AveragePooling1D,\n",
    "    BatchNormalization, Concatenate, Activation, Rescaling, Add, Subtract, Lambda,\n",
    "    GlobalMaxPooling1D, GlobalAveragePooling1D\n",
    ")\n",
    "from tensorflow.keras.models import Model\n",
    "from tensorflow.keras.optimizers import Nadam, SGD, Adam\n",
    "from tensorflow.keras import regularizers\n",
    "from tensorflow.keras import initializers\n",
    "from scipy.stats import norm\n",
    "from scikeras.wrappers import KerasRegressor\n",
    "from functools import partial\n",
    "import tensorflow_addons as tfa"
   ]
  },
  {
   "cell_type": "code",
   "execution_count": 5,
   "id": "2f272bbd-ad1c-43a3-b242-e236340a3ab8",
   "metadata": {
    "execution": {
     "iopub.execute_input": "2022-11-22T07:19:49.084910Z",
     "iopub.status.busy": "2022-11-22T07:19:49.084171Z",
     "iopub.status.idle": "2022-11-22T07:19:49.095754Z",
     "shell.execute_reply": "2022-11-22T07:19:49.094637Z"
    }
   },
   "outputs": [],
   "source": [
    "from tensorflow.python.ops import gen_math_ops, nn_ops\n",
    "\n",
    "class GaussianDropConnectDense(Dense):\n",
    "    def build(self, input_shape):\n",
    "        super().build(input_shape)\n",
    "        \n",
    "        self.kernel_initial = self.kernel.numpy()\n",
    "        # print(self.kernel_initial)\n",
    "        \n",
    "#         self.kernel_old = self.kernel\n",
    "#         self.bias_old = self.bias\n",
    "        \n",
    "        \n",
    "        \n",
    "#         self.kernel = self.kernel_old\n",
    "#         self.bias = self.bias_old * tf.keras.backend.random_normal(\n",
    "#             shape=tf.shape(self.bias_old),\n",
    "#             mean=1.0,\n",
    "#             stddev=sigma,\n",
    "#             dtype=self.bias_old.dtype,\n",
    "#             seed=None\n",
    "#         )\n",
    "    \n",
    "    def call(self, inputs, training=None):     \n",
    "        # dropout_rate = 0.3   \n",
    "        dropout_rate = 0.5      \n",
    "        # dropout_rate = 0.7\n",
    "        sigma = np.sqrt(dropout_rate / (1.0 - dropout_rate))\n",
    "        \n",
    "        # kernel = self.kernel_initial + tf.keras.backend.dropout(self.kernel - self.kernel_initial, dropout_rate, seed=None) / (1.0 - dropout_rate)\n",
    "        kernel = self.kernel_initial + (self.kernel - self.kernel_initial) * tf.keras.backend.random_normal(\n",
    "            shape=tf.shape(self.kernel),\n",
    "            mean=1.0,\n",
    "            stddev=sigma,\n",
    "            dtype=self.kernel.dtype,\n",
    "            seed=None\n",
    "        )\n",
    "        bias = self.bias\n",
    "        \n",
    "        # kernel = self.kernel * tf.keras.backend.random_normal(\n",
    "        #     shape=tf.shape(self.kernel),\n",
    "        #     mean=1.0,\n",
    "        #     stddev=sigma,\n",
    "        #     dtype=self.kernel.dtype,\n",
    "        #     seed=None\n",
    "        # )\n",
    "        # bias = self.bias * tf.keras.backend.random_normal(\n",
    "        #     shape=tf.shape(self.bias),\n",
    "        #     mean=1.0,\n",
    "        #     stddev=sigma,\n",
    "        #     dtype=self.bias.dtype,\n",
    "        #     seed=None\n",
    "        # )\n",
    "        \n",
    "        kernel = tf.keras.backend.in_train_phase(kernel, self.kernel, training=training)\n",
    "        bias = tf.keras.backend.in_train_phase(bias, self.bias, training=training)\n",
    "        \n",
    "        if inputs.dtype.base_dtype != self._compute_dtype_object.base_dtype:\n",
    "          inputs = math_ops.cast(inputs, dtype=self._compute_dtype_object)\n",
    "\n",
    "        rank = inputs.shape.rank\n",
    "        if rank == 2 or rank is None:\n",
    "            outputs = gen_math_ops.MatMul(a=inputs, b=kernel)\n",
    "        # Broadcast kernel to inputs.\n",
    "        else:\n",
    "          outputs = standard_ops.tensordot(inputs, kernel, [[rank - 1], [0]])\n",
    "          # Reshape the output back to the original ndim of the input.\n",
    "          if not context.executing_eagerly():\n",
    "            shape = inputs.shape.as_list()\n",
    "            output_shape = shape[:-1] + [kernel.shape[-1]]\n",
    "            outputs.set_shape(output_shape)\n",
    "\n",
    "        if self.use_bias:\n",
    "          outputs = nn_ops.bias_add(outputs, bias)\n",
    "\n",
    "        if self.activation is not None:\n",
    "          outputs = self.activation(outputs)\n",
    "        return outputs"
   ]
  },
  {
   "cell_type": "code",
   "execution_count": 6,
   "id": "06e51888-c034-4858-a648-2236b6f7fbc4",
   "metadata": {
    "execution": {
     "iopub.execute_input": "2022-11-22T07:19:49.099823Z",
     "iopub.status.busy": "2022-11-22T07:19:49.099495Z",
     "iopub.status.idle": "2022-11-22T07:19:49.108868Z",
     "shell.execute_reply": "2022-11-22T07:19:49.108117Z"
    }
   },
   "outputs": [],
   "source": [
    "class WeightLenCallback(tf.keras.callbacks.Callback):\n",
    "    def on_train_begin(self, logs=None):\n",
    "        self.initial_weights = self.model.get_weights()\n",
    "        self.initial_weights_norm = self._calc_dist(self.initial_weights)\n",
    "        self.prev_weights = self.initial_weights\n",
    "        self.weight_len = 0.0\n",
    "\n",
    "    def on_epoch_end(self, epoch, logs=None):\n",
    "        weights = self.model.get_weights()\n",
    "        weight_dist = self._calc_dist(self.initial_weights, weights)\n",
    "        weight_dist2 = self._calc_dist(self.initial_weights, weights, True)\n",
    "        logs['weight_dist'] = weight_dist\n",
    "        # logs['weight_dist2'] = weight_dist2\n",
    "        logs['weight_len'] = self.weight_len\n",
    "        logs['weight_ndist'] = weight_dist / self.initial_weights_norm\n",
    "        logs['weight_nlen'] = self.weight_len / self.initial_weights_norm\n",
    "\n",
    "    def on_train_batch_end(self, batch, logs=None):\n",
    "        weights = self.model.get_weights()\n",
    "        self.weight_len += self._calc_dist(self.prev_weights, weights)\n",
    "        self.prev_weights = weights\n",
    "        \n",
    "    def _calc_dist(self, w1, w2=None, normalized=False):\n",
    "        d = 0.0\n",
    "        for i in range(len(w1)):\n",
    "            x = w1[i]\n",
    "            y = w1[i] if w2 is None else w2[i] \n",
    "            if normalized:\n",
    "                x = x / (1e-37 + np.sum(x ** 2) ** 0.5)\n",
    "                y = y / (1e-37 + np.sum(y ** 2) ** 0.5)\n",
    "            if w2 is None:\n",
    "                d += np.sum(x ** 2)\n",
    "            else:\n",
    "                d += np.sum((x - y) ** 2)\n",
    "        return d ** 0.5"
   ]
  },
  {
   "cell_type": "code",
   "execution_count": 7,
   "id": "d7d734d2-1217-49df-aa95-3307070f35b0",
   "metadata": {
    "execution": {
     "iopub.execute_input": "2022-11-22T07:19:49.112927Z",
     "iopub.status.busy": "2022-11-22T07:19:49.112429Z",
     "iopub.status.idle": "2022-11-22T07:19:49.117621Z",
     "shell.execute_reply": "2022-11-22T07:19:49.116961Z"
    }
   },
   "outputs": [],
   "source": [
    "# support multi dimension\n",
    "class MyVotingRegressor:\n",
    "    def __init__(self, models):\n",
    "        self._models = models\n",
    "        \n",
    "    def fit(self, X, y, sample_weight=None):\n",
    "        for label, m in self._models:\n",
    "            m.fit(X, y, sample_weight=sample_weight)\n",
    "        return self\n",
    "        \n",
    "    def predict(self, X):\n",
    "        ys = []\n",
    "        for label, m in self._models:\n",
    "            ys.append(m.predict(X))\n",
    "        return np.mean(ys, axis=0)"
   ]
  },
  {
   "cell_type": "code",
   "execution_count": 8,
   "id": "d2252445-369a-4f8b-a79f-6901cd3c51da",
   "metadata": {
    "execution": {
     "iopub.execute_input": "2022-11-22T07:19:49.121500Z",
     "iopub.status.busy": "2022-11-22T07:19:49.121041Z",
     "iopub.status.idle": "2022-11-22T07:19:49.125130Z",
     "shell.execute_reply": "2022-11-22T07:19:49.124420Z"
    }
   },
   "outputs": [],
   "source": [
    "class LambdaTrain(Lambda):    \n",
    "    def call(self, inputs, training=None):     \n",
    "        return tf.keras.backend.in_train_phase(super().call(inputs), inputs, training=training)"
   ]
  },
  {
   "cell_type": "code",
   "execution_count": 9,
   "id": "00cd1ae7-a3d5-40a2-90e6-eb446ab9b79a",
   "metadata": {
    "execution": {
     "iopub.execute_input": "2022-11-22T07:19:49.129034Z",
     "iopub.status.busy": "2022-11-22T07:19:49.128571Z",
     "iopub.status.idle": "2022-11-22T07:19:49.135644Z",
     "shell.execute_reply": "2022-11-22T07:19:49.134968Z"
    }
   },
   "outputs": [],
   "source": [
    "import tempfile\n",
    "\n",
    "class SimpleKerasPredictor:\n",
    "    def __init__(self, model):\n",
    "        # self.model = model\n",
    "        \n",
    "        converter = tf.lite.TFLiteConverter.from_keras_model(model)\n",
    "        converter.optimizations = [tf.lite.Optimize.DEFAULT]\n",
    "        self.tflite_data = converter.convert()\n",
    "        \n",
    "    def predict(self, X):\n",
    "        if True:\n",
    "            interpreter = tf.lite.Interpreter(model_content=self.tflite_data)\n",
    "            signatures = interpreter.get_signature_list()\n",
    "            # print(signatures)\n",
    "\n",
    "            input_name = signatures['serving_default']['inputs'][0]\n",
    "            output_name = signatures['serving_default']['outputs'][0]\n",
    "            # {'serving_default': {'inputs': ['input_14'], 'outputs': ['activation_13']}}\n",
    "\n",
    "            sig = interpreter.get_signature_runner()\n",
    "            # print(sig)\n",
    "            return sig(**{ input_name: X })[output_name]\n",
    "        else:\n",
    "            return self.model.predict(X)\n",
    "    \n",
    "    def __getstate__(self):\n",
    "        state = {}\n",
    "        state['tflite_data'] = self.tflite_data\n",
    "        # with tempfile.TemporaryDirectory() as dir:\n",
    "        #     filename = dir + '/model.h5'\n",
    "        #     self.model.save(filename, include_optimizer=False)\n",
    "        #     with open(filename, 'rb') as f:\n",
    "        #         state['model'] = f.read()\n",
    "        return state\n",
    "        \n",
    "    def __setstate__(self, state):\n",
    "        self.tflite_data = state['tflite_data']\n",
    "        # interpreter = tf.lite.Interpreter(model_content=self.tflite_data)\n",
    "        # self.sig = interpreter.get_signature_runner()\n",
    "\n",
    "        # with tempfile.TemporaryDirectory() as dir:\n",
    "        #     model_data = state.get('model')\n",
    "        #     filename = dir + '/model.h5'\n",
    "        #     with open(filename, 'wb') as f:\n",
    "        #         f.write(model_data)\n",
    "        #     self.model = tf.keras.models.load_model(filename)    "
   ]
  },
  {
   "cell_type": "code",
   "execution_count": 10,
   "id": "363fd2c2-ad26-41c3-97b4-8b82f4490664",
   "metadata": {
    "execution": {
     "iopub.execute_input": "2022-11-22T07:19:49.140335Z",
     "iopub.status.busy": "2022-11-22T07:19:49.139875Z",
     "iopub.status.idle": "2022-11-22T07:19:49.452026Z",
     "shell.execute_reply": "2022-11-22T07:19:49.451266Z"
    }
   },
   "outputs": [
    {
     "name": "stdout",
     "output_type": "stream",
     "text": [
      "float32\n"
     ]
    }
   ],
   "source": [
    "\n",
    "from sklearn.preprocessing import StandardScaler, FunctionTransformer\n",
    "from sklearn.pipeline import Pipeline\n",
    "from sklearn.ensemble import BaggingRegressor, VotingRegressor\n",
    "\n",
    "from sklearn.pipeline import Pipeline, FeatureUnion\n",
    "from sklearn.cluster import FeatureAgglomeration\n",
    "import xgboost as xgb\n",
    "from sklearn.ensemble import HistGradientBoostingRegressor, BaggingRegressor\n",
    "from sklearn.decomposition import PCA, TruncatedSVD\n",
    "from sklearn.compose import TransformedTargetRegressor\n",
    "from sklearn.preprocessing import QuantileTransformer\n",
    "from sklearn.feature_selection import SelectPercentile, mutual_info_regression\n",
    "from sklearn.linear_model import RidgeCV\n",
    "\n",
    "class ExampleModelRank:\n",
    "    def __init__(self, ensemble=10):\n",
    "        # self._model = Ridge(fit_intercept=False, alpha=1e20)\n",
    "        # self._model = Pipeline([\n",
    "        #     ('ss', StandardScaler()),\n",
    "        #     ('model', self._model)\n",
    "        # ])\n",
    "        \n",
    "        # self._model = lgb.LGBMRegressor(\n",
    "        #     n_estimators=1000,\n",
    "        #     learning_rate=0.01,\n",
    "        #     extra_trees=True,\n",
    "        #     # colsample_bytree=0.9,\n",
    "        #     colsample_bytree=0.03,\n",
    "        #     # lambda_l2=1e1,\n",
    "        #     random_state=1,\n",
    "        #     n_jobs=-1,\n",
    "        # )\n",
    "        \n",
    "        # self._model = lgb.LGBMClassifier(\n",
    "        #     # n_estimators=1000,\n",
    "        #     # learning_rate=0.001,\n",
    "        #     random_state=1,\n",
    "        #     n_jobs=-1,\n",
    "        # )\n",
    "        \n",
    "        \n",
    "        # union = FeatureUnion([\n",
    "        #     (\"pt\", 'passthrough'),\n",
    "        #     (\"pca\", PCA(n_components=32)),\n",
    "        #     (\"svd\", TruncatedSVD(n_components=32)),\n",
    "        #     (\"agg\", FeatureAgglomeration(n_clusters=32)),\n",
    "        # ])\n",
    "        # self._model = Pipeline([\n",
    "        #     # ('feat_agglo', FeatureAgglomeration(n_clusters=64)),\n",
    "        #     ('union', union),\n",
    "        #     ('model', self._model)\n",
    "        # ])\n",
    "        \n",
    "        \n",
    "        self.max_data_sec = 2 * 30 * 24 * 60 * 60 # for predict script\n",
    "        self.provider_configs = provider_configs\n",
    "        self.merge_data = merge_data\n",
    "        \n",
    "        self.ensemble = ensemble\n",
    "        self.horizon = 8\n",
    "\n",
    "    def fit(self, df):\n",
    "        df = self._calc_features(df)\n",
    "        features = get_feature_columns(df)\n",
    "        \n",
    "        df['ret_train'] = df['ret']\n",
    "        # df['ret_train'] = (df.groupby('symbol')['ln_cl'].shift(-24) - df['ln_cl']).fillna(0)\n",
    "        # df['ret_train'] = (df.groupby('symbol')['ln_cl'].shift(-4) - df['ln_cl']).fillna(0)\n",
    "        # df['ret_train'] = (df.groupby('symbol')['ln_hilo'].shift(-24) - df['ln_hilo']).fillna(0)\n",
    "        # df['ret_train'] = (df.groupby('symbol')['ln_hilocl'].shift(-24) - df['ln_hilocl']).fillna(0)\n",
    "        # df['ret_train'] = (df.groupby('symbol')['ln_hilo'].shift(-24) - df.groupby('symbol')['ln_hilo'].shift(12)).fillna(0)\n",
    "        # df['ret_train'] = (df.groupby('symbol')['ln_hilo'].shift(-48) - df['ln_hilo']).fillna(0)\n",
    "        # def calc_ret(x):\n",
    "        #     hi = df.loc[x.index, 'hi']\n",
    "        #     lo = df.loc[x.index, 'lo']\n",
    "        #     return 0.5 * (hi.rolling(24, 1).max().shift(-24) + lo.rolling(24, 1).min().shift(-24)) / x - 1\n",
    "        # df['ret_train'] = df.groupby('symbol')['cl'].transform(calc_ret)\n",
    "        \n",
    "        # df['ret_rank'] = unbiased_rank(df.groupby('timestamp')['ret_train']) - 0.5\n",
    "        # df['ret_mean'] = df.groupby('timestamp')['ret_train'].transform('mean')\n",
    "        df['ret_mean'] = beta_mean(df, 'ret_train')\n",
    "        df['ret_beta'] = df['ret_train'] - df['ret_mean'] * df['beta']\n",
    "        df = df.dropna()\n",
    "        self.symbols = get_symbols(df) # for predict script\n",
    "        \n",
    "        df = df.loc[df.index.get_level_values('symbol') != 'BTC']\n",
    "        \n",
    "        print('fit df.shape', df.shape)\n",
    "        \n",
    "        reduce_lr = tf.keras.callbacks.ReduceLROnPlateau(\n",
    "            monitor=\"val_loss\",\n",
    "            factor=0.5,\n",
    "            patience=5,\n",
    "            # verbose=0,\n",
    "            # mode=\"auto\",\n",
    "            # min_delta=0.0001,\n",
    "            # cooldown=0,\n",
    "            # min_lr=0,\n",
    "        )\n",
    "        \n",
    "        es = tf.keras.callbacks.EarlyStopping(\n",
    "            monitor='val_loss',\n",
    "            # monitor='val_mse_weighted',\n",
    "            min_delta=0,\n",
    "            # patience=10,\n",
    "            patience=40,\n",
    "            verbose=0,\n",
    "            mode='auto',\n",
    "            # mode='max',\n",
    "            baseline=None,\n",
    "            restore_best_weights=True\n",
    "        )\n",
    "        \n",
    "        tb = tf.keras.callbacks.TensorBoard(\n",
    "            log_dir=\"tb_logs\",\n",
    "            histogram_freq=1,\n",
    "            write_graph=True,\n",
    "            write_images=False,\n",
    "            write_steps_per_second=False,\n",
    "            update_freq=\"epoch\",\n",
    "            profile_batch=0,\n",
    "            embeddings_freq=1,\n",
    "            embeddings_metadata=None,\n",
    "        )\n",
    "\n",
    "        # lr1 = 0.002\n",
    "        lr1 = 0.002 * 1e-1\n",
    "        lr0 = lr1 * 1e-2\n",
    "        def scheduler(epoch, lr):\n",
    "            if epoch <= 10:\n",
    "                t = epoch / 10.0\n",
    "            else:\n",
    "                t = 1.0\n",
    "            return np.exp(np.log(lr0) * (1 - t) + np.log(lr1) * t)\n",
    "        \n",
    "        # self._model = KerasRegressor(\n",
    "        #     model=partial(build_keras_model, len(features) * 2 + 20 + 20 - 100 * 0, 0),\n",
    "        #     # model=partial(build_keras_model, len(features) * 1, 0),\n",
    "        #     random_state=1,\n",
    "        #     # random_state=np.random.RandomState(1),\n",
    "        #     # epochs=1,\n",
    "        #     # epochs=4,\n",
    "        #     # epochs=20,\n",
    "        #     epochs=1000,\n",
    "        #     validation_split=0.3, # worse than not using val\n",
    "        #     callbacks=[\n",
    "        #         es,\n",
    "        #         # reduce_lr,\n",
    "        #         # tf.keras.callbacks.LearningRateScheduler(scheduler),\n",
    "        #         WeightLenCallback(),\n",
    "        #         # WeightShuffleCallback(),\n",
    "        #         tb, # last\n",
    "        #     ],\n",
    "        #     # batch_size=4096 // 8 // 8,\n",
    "        #     # batch_size=4096 // 8,\n",
    "        #     batch_size=4096,\n",
    "        #     # batch_size=65536,\n",
    "        #     # batch_size=df.shape[0],\n",
    "        #     # shuffle=False,\n",
    "        #     verbose=2,\n",
    "        #     warm_start=True,\n",
    "        # )\n",
    "        # keras_model = self._model\n",
    "        \n",
    "        models = []\n",
    "        for i in range(0, self.ensemble):\n",
    "            models.append(['nn{}'.format(i), KerasRegressor(\n",
    "                # model=partial(build_keras_model, len(features) * 2 + 20 + 20 - 100 * 0, i),\n",
    "                model=partial(build_keras_model, len(features) * 1, i),\n",
    "                epochs=1000,\n",
    "                validation_split=0.3, # worse than not using val\n",
    "                callbacks=[\n",
    "                    es,\n",
    "                    # WeightLenCallback(),\n",
    "                    tb, # last\n",
    "                ],\n",
    "                # batch_size=4096 * 8,\n",
    "                batch_size=4096,\n",
    "                # batch_size=4096 // 8,\n",
    "                random_state=i,\n",
    "                verbose=2 if self.ensemble <= 1 else 0,\n",
    "            )])\n",
    "        self._model = MyVotingRegressor(models)\n",
    "        \n",
    "        # self._model = BaggingRegressor(self._model, random_state=1)\n",
    "\n",
    "        nonstationary_est = lgb.LGBMRegressor(\n",
    "            n_estimators=1000,\n",
    "            learning_rate=0.01,\n",
    "            extra_trees=True,\n",
    "            colsample_bytree=0.03,\n",
    "            random_state=1,\n",
    "            n_jobs=-1,\n",
    "        )\n",
    "        \n",
    "        def scale_func(x):\n",
    "            return x * 0.1\n",
    "        \n",
    "        qt_n = 100\n",
    "        \n",
    "        self._model = Pipeline([\n",
    "            # ('qt', QuantileTransformer(n_quantiles=qt_n, output_distribution='normal', random_state=1)),\n",
    "            # ('qt', QuantileTransformer(output_distribution='uniform', random_state=1)),\n",
    "            # ('sc', StandardScaler(with_mean=False)),\n",
    "            ('sc', StandardScaler()),\n",
    "            # ('fu', FeatureUnion([ # not good?\n",
    "            #     ('pt', 'passthrough'),\n",
    "            #     ('qt', QuantileTransformer(n_quantiles=qt_n, output_distribution='normal', random_state=1)),\n",
    "            #     ('pca', PCA(20, whiten=True)), # good?\n",
    "            #     # ('fa', FeatureAgglomeration(20, pooling_func=np.median)), # not good?\n",
    "            #     ('fa_std', Pipeline([ # not bad?\n",
    "            #         ('fa_std2', FeatureAgglomeration(20, pooling_func=np.std)),\n",
    "            #         ('qt2', QuantileTransformer(n_quantiles=qt_n, output_distribution='normal', random_state=1)),\n",
    "            #     ])),\n",
    "            # ])),\n",
    "            # ('scale', FunctionTransformer(scale_func)),\n",
    "            # ('pca', PCA(whiten=True)), # bad\n",
    "            ('model', self._model)\n",
    "        ])\n",
    "        \n",
    "        # self._model = Ridge(alpha=1e5, fit_intercept=False)\n",
    "        # self._model = RidgeCV(fit_intercept=False)\n",
    "        \n",
    "        # dfs = []\n",
    "        # for i in range(4):\n",
    "        #     df2 = df.copy()\n",
    "        #     df2[features] = df2[features] + np.random.normal(0, 0.1, (df.shape[0], len(features)))\n",
    "        #     dfs += [\n",
    "        #         df2\n",
    "        #     ]\n",
    "        # df = pd.concat(dfs)\n",
    "        \n",
    "        # df[features] += np.random.normal(0, 0.1, (df.shape[0], len(features)))\n",
    "        \n",
    "        sw = np.abs(df['ret_beta'])\n",
    "        # sw = np.abs(df['ret'])\n",
    "        sw /= np.mean(sw)\n",
    "        # sw[:] = 1.0\n",
    "        # sw += 1e-2\n",
    "        # sw /= pd.Series(sw).rolling(1000, 1).mean().iloc[::-1].rolling(1000, 1).mean().iloc[::-1].values\n",
    "        # sw /= np.mean(sw)\n",
    "        \n",
    "        X = df[features]\n",
    "        y = np.sign(df['ret_beta'])\n",
    "        # y = np.sign(df['ret'])\n",
    "        # y = (df['ret_beta'] >= 0) * 1.0\n",
    "        # y = df['ret_beta']\n",
    "        # y = df['ret_beta'] / df['ret_beta'].std()\n",
    "        \n",
    "        # for i in range(20):\n",
    "        # #     # batch_size = int(32 * 2.0 ** i)\n",
    "        # #     # batch_size = 32\n",
    "        #     batch_size = 4096\n",
    "        #     # batch_size = df.shape[0]\n",
    "        #     # self._model._random_state = i\n",
    "        #     self._model.partial_fit(X, y, sample_weight=sw, batch_size=batch_size)\n",
    "        # #     # self._model.partial_fit(X, y, batch_size=batch_size)\n",
    "        # #     if es.stopped_epoch > 0:\n",
    "        #         # break\n",
    "        \n",
    "        # self._model.fit(X, y, sample_weight=sw)\n",
    "        \n",
    "        for i in range(0):\n",
    "            # es.patience = 400\n",
    "            # es.restore_best_weights = True\n",
    "            # es.monitor = 'loss'\n",
    "            \n",
    "            self._model.fit(X, y, model__sample_weight=sw, model__epochs=4)\n",
    "\n",
    "            weights = keras_model.model_.get_weights()\n",
    "            for i in range(0, len(weights)):\n",
    "            # for i in range(len(weights) // 2, len(weights)):\n",
    "                w = weights[i]\n",
    "                if False:\n",
    "                # if len(w.shape) == 1:\n",
    "                    w[:] = 0.0\n",
    "                else:\n",
    "                    # flatten shuffle\n",
    "                    w = np.random.permutation(w.flatten()).reshape(w.shape)\n",
    "                    # axis 0 shuffle\n",
    "                    # w = np.random.permutation(w)\n",
    "                    # axis 1 shuffle \n",
    "                    # maybe overfit\n",
    "                    # if len(w.shape) == 2:\n",
    "                    #     w = np.random.permutation(w.T).T\n",
    "                    # else:\n",
    "                    #     w = np.random.permutation(w)\n",
    "                weights[i] = w\n",
    "\n",
    "            keras_model.model_.set_weights(weights)\n",
    "        \n",
    "        es.monitor = 'val_loss'\n",
    "        # es.monitor = 'val_cosine_similarity'\n",
    "        # es.patience = 10\n",
    "        # es.restore_best_weights = True\n",
    "        self._model.fit(X, y, model__sample_weight=sw)\n",
    "        \n",
    "        # converter = tf.lite.TFLiteConverter.from_keras_model(self._model.named_steps['model'].model_)\n",
    "        # converter.optimizations = [tf.lite.Optimize.DEFAULT]\n",
    "        # self._model.named_steps['model'].model_ = converter.convert()\n",
    "        \n",
    "        # return self._model.fit(df[features], df['ret_beta'])\n",
    "        # self._model.fit(df[features], np.sign(df['ret_beta']), model__sample_weight=sw)\n",
    "        # return self._model.fit(df[features], df['ret_rank'])\n",
    "        # return self._model.fit(df[features], np.sign(df['ret_rank']), sample_weight=np.abs(df['ret_rank']))\n",
    "        # return self._model.fit(df[features], np.sign(df['ret_rank']), model__sample_weight=np.abs(df['ret_rank']))\n",
    "        \n",
    "        models = self._model.named_steps['model']._models\n",
    "        for i in range(len(models)):\n",
    "            models[i][1] = SimpleKerasPredictor(models[i][1].model_)\n",
    "    \n",
    "    def predict(self, df):\n",
    "        df = self._calc_features(df)\n",
    "        features = get_feature_columns(df)\n",
    "        y_pred = self._model.predict(df[features]).flatten()\n",
    "        \n",
    "        if os.getenv('USE_JOBLIB_MEMORY'):\n",
    "            corrs = df[features].corrwith(pd.Series(y_pred, index=df.index))\n",
    "            plt.plot(corrs.sort_values().values)\n",
    "            # corrs = df[features].rank().corrwith(pd.Series(y_pred, index=df.index).rank())\n",
    "            # plt.plot(corrs.sort_values().values)\n",
    "            plt.show()\n",
    "        \n",
    "        # df['position'] = np.sign(y_pred)\n",
    "        df['position'] = y_pred\n",
    "        # df['position'] -= 0.5\n",
    "        idx_btc = df.index.get_level_values('symbol') == 'BTC'\n",
    "        df.loc[idx_btc, 'position'] = 0\n",
    "        # df['position'] = unbiased_rank(df.groupby('timestamp')['position']) - 0.5\n",
    "        \n",
    "        df['position_beta'] = df['position'] * df['beta']\n",
    "        df['position_btc'] = -df.groupby('timestamp')['position_beta'].transform('sum')\n",
    "        df.loc[idx_btc, 'position'] = df.loc[idx_btc, 'position_btc']\n",
    "        \n",
    "        # df['position'] = df.groupby('symbol')['position'].transform(lambda x: calc_pos(x, 0.4))\n",
    "        \n",
    "        normalize_position(df)\n",
    "        return df['position']\n",
    "    \n",
    "    def _calc_features(self, df):\n",
    "        df = df.copy()\n",
    "        df = calc_features(df)\n",
    "        \n",
    "        # dfs = [df]\n",
    "        # for col in get_feature_columns(df):\n",
    "        #     dfs += [\n",
    "        #         (df[col] ** 2).rename(col + '_sqr'),\n",
    "        #     ]\n",
    "        # df = pd.concat(dfs, axis=1)\n",
    "        \n",
    "        return df\n",
    "\n",
    "class SparseConstraint(tf.keras.constraints.Constraint):\n",
    "    def __init__(self, mask):\n",
    "        self.mask = mask\n",
    "        self.mask_t = tf.convert_to_tensor(mask)\n",
    "\n",
    "    def __call__(self, w):\n",
    "        return w * self.mask_t\n",
    "\n",
    "    def get_config(self):\n",
    "        return {'mask': self.mask}\n",
    "\n",
    "\n",
    "# 1dcnn https://www.keep-current.dev/convolution-networks-on-tabular-data/\n",
    "# tanh, mae: https://github.com/hoseinzadeehsan/CNNpred-Keras\n",
    "def build_keras_model(input_size, idx=0):\n",
    "    inputs = Input(shape=(input_size,))\n",
    "    x = inputs\n",
    "    # x = Dropout(0.5)(x)\n",
    "    \n",
    "    class DistanceL2(tf.keras.regularizers.Regularizer):\n",
    "        def __init__(self, l2=0.01):\n",
    "            self.l2 = tf.keras.backend.cast_to_floatx(l2)\n",
    "            self.initial_x = None\n",
    "            \n",
    "        def __call__(self, x):\n",
    "            initial_x = self.initial_x.flatten()\n",
    "            diff = tf.reshape(x, (-1,)) - initial_x\n",
    "            # d = tf.math.reduce_sum(diff * initial_x)\n",
    "            # n = np.sum(initial_x ** 2)\n",
    "            # diff = diff - initial_x * d / n\n",
    "            return 2.0 * self.l2 * tf.nn.l2_loss(diff)\n",
    "\n",
    "        def get_config(self):\n",
    "            return {\"l2\": float(self.l2)}\n",
    "        \n",
    "    # l2_dist = 1e-5\n",
    "    # l2_dist = 1e-4\n",
    "    # l2_dist = 1e-3\n",
    "    l2_dist = 0.0\n",
    "    \n",
    "    reg_l1 = regularizers.l1(1e-3)\n",
    "    \n",
    "    reg = None\n",
    "    # reg = regularizers.l1(1e-5)\n",
    "    # reg = regularizers.l2(1e-1)\n",
    "    # reg = regularizers.l2(1e-2)\n",
    "    # reg = regularizers.l2(1e-3)\n",
    "    # reg = regularizers.l2(4e-3)\n",
    "    # reg = regularizers.l2(1e-4)\n",
    "    # reg = regularizers.l2(1e-7)\n",
    "    # reg = regularizers.L1L2(\n",
    "    #     l1=1e-5, \n",
    "    #     l2=1e-5,\n",
    "    # )\n",
    "    \n",
    "    # act = 'relu'\n",
    "    # act = 'tanh'\n",
    "    act = 'elu' # good for cnn?\n",
    "    # act = tf.keras.activations.swish\n",
    "    # act = tf.keras.layers.LeakyReLU(alpha=0.1)\n",
    "    # act = tf.keras.layers.PReLU()\n",
    "    # act = tfa.activations.mish\n",
    "    # act = 'gelu' # good?\n",
    "    # act = 'softplus'\n",
    "    \n",
    "    # dropout_rate = 0.96\n",
    "    # dropout_rate = 0.98 # good?\n",
    "    dropout_rate = 0.99\n",
    "    # dropout_rate = 0.995\n",
    "    \n",
    "    # initializer = initializers.Zeros()\n",
    "    # initializer = initializers.HeNormal()\n",
    "    # initializer = initializers.GlorotNormal()\n",
    "    \n",
    "    orth_init = initializers.Orthogonal(gain=1.0, seed=None) # bad\n",
    "    \n",
    "    # initializer = 'glorot_uniform'\n",
    "    # initializer = 'glorot_normal'\n",
    "    initializer = 'he_normal'\n",
    "    # initializer = 'he_uniform'\n",
    "    # initializer = orth_init\n",
    "    bias_initializer = 'zeros'\n",
    "    # bias_initializer = 'he_normal'\n",
    "    \n",
    "#     def initializer(shape, dtype=None):\n",
    "#         p = 0.1\n",
    "#         dropout_scale = 1.0 / (0.5 / p + 0.5 * p) ** 0.5 # https://arxiv.org/pdf/1607.02488.pdf\n",
    "#         # return initializers.GlorotUniform()(shape, dtype=dtype) * 0.1 ** 0.5\n",
    "#         # return initializers.GlorotNormal()(shape, dtype=dtype) * dropout_scale\n",
    "#         w = initializers.HeNormal()(shape, dtype=dtype)\n",
    "#         # w = initializers.Orthogonal(gain=1.0, seed=None)(shape, dtype=dtype)\n",
    "#         # w = w ** 3 # 3 is good\n",
    "#         w /= tf.reduce_mean(w ** 2) ** 0.5\n",
    "#         print(shape)\n",
    "#         n_in, n_out = shape\n",
    "#         # w /= n_in ** 0.5\n",
    "#         # w /= n_out ** 0.5 # good\n",
    "        \n",
    "#         # https://arxiv.org/pdf/1902.06853.pdf\n",
    "#         w /= n_in ** 0.5\n",
    "#         # w *= 1.3\n",
    "#         # w *= 0.9\n",
    "#         return w\n",
    "    \n",
    "#     def bias_initializer(shape, dtype=None):\n",
    "#         w = initializers.HeNormal()(shape, dtype=dtype)\n",
    "#         w /= tf.reduce_mean(w ** 2) ** 0.5\n",
    "#         return w\n",
    "    \n",
    "    size = 8\n",
    "    # size = 12\n",
    "    # kernel_size = 5\n",
    "    kernel_size = int(size * 3 / 4)\n",
    "    # kernel_size = int(size / 2)\n",
    "    # kernel_size = size\n",
    "    \n",
    "    size = 32\n",
    "    # size = 64\n",
    "    # size = 128\n",
    "    # size = 512\n",
    "    # size = 1024\n",
    "    \n",
    "    dist_regs = []\n",
    "    dist_reg_layers = []\n",
    "    mars_constraints = []\n",
    "    \n",
    "    hidden_outputs = [x]\n",
    "    \n",
    "    def conv1d_mean_zero(x):\n",
    "        return x - tf.math.reduce_mean(x, axis=-1, keepdims=True)\n",
    "    \n",
    "    # x = Reshape((23, 2))(x)\n",
    "    # x = Reshape((11, 4))(x)\n",
    "    # x = Reshape((95, 2))(x)\n",
    "    x = Reshape((11, 2))(x)\n",
    "    # x = Reshape((11, 3))(x)\n",
    "    # def f1(x):\n",
    "    #     x = tf.math.cumsum(x, axis=-2)\n",
    "    #     # x -= tf.math.reduce_mean(x, axis=-2, keepdims=True)\n",
    "    #     return x\n",
    "    # x = Lambda(f1)(x)\n",
    "    # x = Dropout(0.5)(x)\n",
    "    x = Conv1D(\n",
    "        filters=32, \n",
    "        kernel_size=5,\n",
    "        # kernel_size=10,\n",
    "        # kernel_size=5 * 8,\n",
    "        activation=act, use_bias=True, \n",
    "        # padding='SAME',\n",
    "        padding='VALID',\n",
    "        kernel_regularizer=reg, \n",
    "        bias_regularizer=reg,\n",
    "        kernel_initializer=initializer, \n",
    "        # bias_initializer=initializer,\n",
    "        # kernel_constraint=conv1d_mean_zero, # good?\n",
    "    )(x)\n",
    "    # x = MaxPooling1D(2)(x)\n",
    "    # x = Dropout(0.5)(x)\n",
    "    x = Conv1D(\n",
    "        filters=32,\n",
    "        kernel_size=5,\n",
    "        # kernel_size=10,\n",
    "        # kernel_size=5 * 8,\n",
    "        activation=act, use_bias=True, \n",
    "        # padding='SAME',\n",
    "        padding='VALID',\n",
    "        kernel_regularizer=reg, \n",
    "        bias_regularizer=reg,\n",
    "        kernel_initializer=initializer, \n",
    "        # bias_initializer=initializer,\n",
    "        # kernel_constraint=conv1d_mean_zero,\n",
    "    )(x)\n",
    "    # x = Dropout(0.5)(x)\n",
    "    # x = Conv1D(\n",
    "    #     filters=32, \n",
    "    #     kernel_size=4,\n",
    "    #     activation=act, use_bias=True, \n",
    "    #     # padding='SAME',\n",
    "    #     padding='VALID',\n",
    "    #     kernel_regularizer=reg, \n",
    "    #     bias_regularizer=reg,\n",
    "    #     kernel_initializer=initializer, \n",
    "    #     # bias_initializer=initializer,\n",
    "    # )(x)\n",
    "    # x = Dropout(0.5)(x)\n",
    "    x = MaxPooling1D(2)(x) # good?\n",
    "    # x = AveragePooling1D(2)(x)\n",
    "    # x = AveragePooling1D(2)(x)\n",
    "    # x = AveragePooling1D(2)(x)\n",
    "    # x = GlobalMaxPooling1D()(x)\n",
    "    # x = GlobalAveragePooling1D()(x)\n",
    "    x = Flatten()(x)\n",
    "    \n",
    "#     depth = 2 + idx * 0\n",
    "#     for i in range(depth):\n",
    "#         t = 1.0 * i / (depth - 1)\n",
    "#         x_prev = x\n",
    "        \n",
    "#         dist_reg = DistanceL2(l2_dist)\n",
    "#         dist_regs.append(dist_reg)\n",
    "#         mars_constraint = MarsConstraint(8)\n",
    "#         mars_constraints.append(mars_constraint)\n",
    "#         # dense = GaussianDropConnectDense(\n",
    "#         dense = Dense(\n",
    "#             # size,\n",
    "#             # 32,\n",
    "#             # 64,\n",
    "#             128, # good with l2 reg\n",
    "#             # 256,\n",
    "#             # int(np.exp(np.log(64) * (1 - t) + np.log(64) * t)),\n",
    "#             # 64 if i == 0 else 128,\n",
    "#             activation=act, \n",
    "#             # activation=None,\n",
    "#             use_bias=True,\n",
    "#             # use_bias=False,\n",
    "#             # kernel_regularizer=reg_l1, \n",
    "#             kernel_regularizer=reg,\n",
    "#             # kernel_regularizer=dist_reg,\n",
    "#             # kernel_regularizer=reg2,\n",
    "#             bias_regularizer=reg,\n",
    "#             # kernel_initializer='zeros' if i > 0 else initializer,\n",
    "#             kernel_initializer=initializer, \n",
    "#             bias_initializer=bias_initializer,\n",
    "#             # kernel_constraint=mars_constraint,\n",
    "#             # kernel_constraint=SparseConstraint(np.random.binomial(1, 1.0 / 64, size=(input_size, size))) # bad\n",
    "#         )\n",
    "#         dist_reg_layers.append(dense)\n",
    "#         # dense = GaussianDropConnect(dense, rate=0.2)\n",
    "#         x = dense(x)\n",
    "#         # x = BatchNormalization()(x)\n",
    "#         # def smooth_units(x):\n",
    "#         #     return (x[:, 1:] + x[:, :-1]) / 2\n",
    "#         #     # return (x[:, 3:] + x[:, 2:-1] + x[:, 1:-2] + x[:, :-3]) / 4\n",
    "#         # x = Lambda(smooth_units)(x)\n",
    "#         # x = Activation(act)(x)\n",
    "#         # x = Lambda(smooth_units)(x)\n",
    "#         # if i > 0:\n",
    "#         #     x = Add()([x, x_prev])\n",
    "#         # if i == 9:\n",
    "#         #     x = tf.keras.layers.GaussianDropout(0.5)(x)\n",
    "#         # x = tf.keras.layers.GaussianDropout(dropout_rate)(x)\n",
    "#         # x = Dropout(dropout_rate)(x)\n",
    "#         # x = Dropout(0.1)(x)\n",
    "#         # x = tf.keras.layers.GaussianDropout(0.1)(x)\n",
    "        \n",
    "#         hidden_outputs.append(x)\n",
    "\n",
    "        \n",
    "    # x = Concatenate()(hidden_outputs)\n",
    "    \n",
    "    # x = Reshape((-1, 1))(x)\n",
    "    # x = AveragePooling1D(2)(x)\n",
    "    # x = Flatten()(x)\n",
    "    # x = Dropout(dropout_rate)(x)\n",
    "    # x = tf.keras.layers.GaussianDropout(dropout_rate)(x)\n",
    "    # x = tf.keras.layers.GaussianDropout(0.995)(x)\n",
    "    # x = tf.keras.layers.GaussianDropout(0.9)(x)\n",
    "    # x = tf.keras.layers.GaussianDropout(1.0 - 0.01 / 2 ** 0.5)(x)\n",
    "    # x = tf.keras.layers.GaussianNoise(100)(x) # bad\n",
    "\n",
    "    dist_reg = DistanceL2(l2_dist)\n",
    "    dist_regs.append(dist_reg)\n",
    "    # d3 = tfa.layers.NoisyDense(\n",
    "    # d3 = GaussianDropConnectDense(\n",
    "    d3 = Dense(\n",
    "        1,\n",
    "        # activation='linear',\n",
    "        # activation='tanh', # good\n",
    "        # activation='sigmoid',\n",
    "        # use_factorised=False,\n",
    "        use_bias=True, \n",
    "        # use_bias=False, \n",
    "        kernel_regularizer=reg, \n",
    "        # kernel_regularizer=dist_reg,\n",
    "        # kernel_regularizer=reg3, \n",
    "        bias_regularizer=reg,\n",
    "        kernel_initializer=initializer,\n",
    "        # kernel_initializer='glorot_uniform',\n",
    "        # kernel_initializer='zeros',\n",
    "        # bias_initializer=initializer,\n",
    "    )\n",
    "    dist_reg_layers.append(d3)\n",
    "    # d3 = GaussianDropConnect(d3, rate=0.2)\n",
    "    x = d3(x)\n",
    "    # x = Rescaling(0.1)(x)\n",
    "    x = Rescaling(0.01)(x)\n",
    "    # x = Rescaling(1 - dropout_rate)(x) # good?\n",
    "    # x = Rescaling(0.04)(x)\n",
    "    def scale_output_train(x):\n",
    "        return x * 2.0\n",
    "    x = LambdaTrain(scale_output_train)(x)\n",
    "    x = Activation('tanh')(x) # good\n",
    "    \n",
    "    model = Model(inputs=inputs, outputs=x)\n",
    "    \n",
    "    def make_gc_opt(klass):\n",
    "        class GCOpt(klass):\n",
    "            def get_gradients(self, loss, params):\n",
    "                grads = []\n",
    "                gradients = super().get_gradients()\n",
    "                for grad in gradients:\n",
    "                    grad_len = len(grad.shape)\n",
    "                    if grad_len > 1:\n",
    "                        axis = list(range(grad_len - 1))\n",
    "                        grad -= tf.reduce_mean(grad, axis=axis, keep_dims=True)\n",
    "                    grads.append(grad)\n",
    "                return grads\n",
    "        return GCOpt\n",
    "    \n",
    "    # def _get_gradients(self, tape, loss, var_list, grad_loss=None):\n",
    "    #     \"\"\"Called in `minimize` to compute gradients from loss.\"\"\"\n",
    "    #     grads = tape.gradient(loss, var_list, grad_loss)\n",
    "    #     return list(zip(grads, var_list))\n",
    "    \n",
    "    def make_gaussian_drop_connect_opt(klass):\n",
    "        class GaussianDropConnectOpt(klass):\n",
    "            def _get_gradients(self, tape, loss, var_list, grad_loss=None):\n",
    "                print('BBB')\n",
    "                # print(var_list)\n",
    "                # drop_connect_rate = 0.9\n",
    "                # sigma = np.sqrt(drop_connect_rate / (1.0 - drop_connect_rate))\n",
    "                # orig_var_list = []\n",
    "                # for w in var_list:\n",
    "                #     orig_var_list.append(w)\n",
    "                #     w.assign(w * tf.keras.backend.random_normal(\n",
    "                #         shape=tf.shape(w),\n",
    "                #         mean=1.0,\n",
    "                #         stddev=sigma,\n",
    "                #         dtype=w.dtype,\n",
    "                #         seed=None\n",
    "                #     ))\n",
    "                #     # w2 = tf.identity(w2, name=w.name)\n",
    "                #     # w2 = tf.Variable(w2, name=w.name)\n",
    "                #     # print(w2)\n",
    "                #     # var_list2.append(w2)\n",
    "                grads = tape.gradient(loss, var_list, grad_loss)\n",
    "                # print(grads)\n",
    "                return list(zip(grads, var_list))\n",
    "            \n",
    "            def get_gradients(self, loss, params):\n",
    "                print('AAA')\n",
    "                grads = []\n",
    "                params2 = []\n",
    "                drop_connect_rate = 0.9\n",
    "                sigma = np.sqrt(drop_connect_rate / (1.0 - drop_connect_rate))\n",
    "                for p in params:\n",
    "                    p = p * tf.keras.backend.random_normal(\n",
    "                        shape=tf.shape(p),\n",
    "                        mean=1.0,\n",
    "                        stddev=sigma,\n",
    "                        dtype=p.dtype,\n",
    "                        seed=None\n",
    "                    )\n",
    "                    params2.append(p)\n",
    "                    \n",
    "                return super().get_gradients(loss, params2)\n",
    "        return GaussianDropConnectOpt\n",
    "        \n",
    "    class AdamWNoise(tfa.optimizers.AdamW):\n",
    "        def get_gradients(self, loss, params):\n",
    "            grads = []\n",
    "            gradients = super().get_gradients()\n",
    "            for grad in gradients:\n",
    "                grad += tf.random_normal(\n",
    "                    shape=grad.get_shape(), \n",
    "                    mean=0.0, \n",
    "                    stddev=1e-3\n",
    "                )\n",
    "                grads.append(grad)\n",
    "            return grads\n",
    "    \n",
    "    # opt = tfa.optimizers.SGDW(\n",
    "        # weight_decay=1e-4,\n",
    "    # opt = SGD(\n",
    "    #     learning_rate=0.01 / 8,\n",
    "    #     # learning_rate=0.1,\n",
    "    #     # learning_rate=0.1 / 8,\n",
    "    #     # learning_rate=1,\n",
    "    #     momentum=1.0 - 0.1 / 8, \n",
    "    #     # nesterov=True,\n",
    "    # )\n",
    "    \n",
    "    # opt = GCNadam(\n",
    "    opt = Nadam(\n",
    "        # learning_rate=0.002 * 1e-1,\n",
    "        learning_rate=0.002,\n",
    "        beta_1=0.9, \n",
    "        # beta_1=0.5,\n",
    "        # beta_2=0.9,\n",
    "        beta_2=0.999,\n",
    "        epsilon=None,\n",
    "        # epsilon=1e-1,\n",
    "        # epsilon=1e-3,\n",
    "        schedule_decay=0.004,\n",
    "    )\n",
    "    # opt = tfa.optimizers.AdaBelief(\n",
    "    #     # learning_rate=0.001,\n",
    "    #     learning_rate=0.001 / 8,\n",
    "    #     # learning_rate=0.001 / 8 / 8,\n",
    "    #     # learning_rate=0.001 / 8 / 8 / 8,\n",
    "    #     # total_steps=1200,\n",
    "    #     # warmup_proportion=0.1,\n",
    "    #     # min_lr=1e-5,\n",
    "    #     # rectify=True,\n",
    "    #     # weight_decay=1e-2,\n",
    "    #     # weight_decay=1e-3,\n",
    "    #     # epsilon=1e-10,\n",
    "    # )\n",
    "    # opt = tfa.optimizers.Lookahead(opt)\n",
    "    # opt = Adam(\n",
    "    #     learning_rate=0.001,\n",
    "    #     beta_1=0.9, \n",
    "    #     beta_2=0.999, \n",
    "    #     epsilon=None, \n",
    "    #     decay=0.0,\n",
    "    #     # amsgrad=True\n",
    "    # )\n",
    "    # opt = AdamWNoise(\n",
    "    # opt = tfa.optimizers.AdamW(\n",
    "    # # # opt = make_gaussian_drop_connect_opt(tfa.optimizers.AdamW)(\n",
    "    #     learning_rate=0.002,\n",
    "    #     # learning_rate=0.002 * 1e-1,\n",
    "    #     # learning_rate=0.001 * 1e-1,\n",
    "    #     # learning_rate=0.002 * 1e-2,\n",
    "    #     # weight_decay=1e-2,\n",
    "    #     weight_decay=1e-3,\n",
    "    #     # weight_decay=1e-4,\n",
    "    #     # weight_decay=1e-5,\n",
    "    #     # weight_decay=1e-7,\n",
    "    #     # beta_1=0.1,\n",
    "    # )\n",
    "    \n",
    "    def my_loss_fn(y_true, y_pred):\n",
    "        # return tf.reduce_mean(tf.square(tf.sign(y_true) - y_pred) * tf.abs(y_true))\n",
    "        # return -tf.reduce_mean(y_pred * y_true) / (1e-37 + tf.reduce_mean(y_pred ** 2) ** 0.5) # good\n",
    "        # return -tf.reduce_mean(y_pred * y_true) / (1e-37 + tf.reduce_mean(tf.abs(y_pred))) # bad\n",
    "        # ret = tf.reduce_sum(y_pred * y_true, axis=-1)\n",
    "        # ret /= 1e-37 + tf.reduce_sum(tf.abs(y_pred), axis=-1)\n",
    "        # return tf.reduce_mean(-ret + ret ** 2)\n",
    "        \n",
    "        ret = y_pred * y_true\n",
    "        sharpe = tf.reduce_mean(ret) / (tf.reduce_mean(ret ** 2) ** 0.5)\n",
    "        return -sharpe\n",
    "        # return -sharpe + sharpe ** 2\n",
    "        \n",
    "        # p = (y_pred * 0.999 + 1) / 2\n",
    "        # one_true_p = tf.where(y_true == 1, 0.8, 0.0)\n",
    "        # zero_true_p = 1.0 - one_true_p\n",
    "        # return -one_true_p * tf.math.log(p) - zero_true_p * tf.math.log(1 - p)\n",
    "        # return (y_true - y_pred) ** 2\n",
    "    \n",
    "    model.compile(\n",
    "        optimizer=opt,\n",
    "        loss='mse', # good for sign ret\n",
    "        # loss='logcosh', # good for raw ret\n",
    "        # loss='mae', # good for raw ret\n",
    "        # loss=my_loss_fn,\n",
    "        # loss='binary_crossentropy',\n",
    "        # loss='hinge',\n",
    "        # loss='squared_hinge',\n",
    "        # loss='cosine_similarity',\n",
    "        metrics=[\n",
    "            'mse',\n",
    "            # 'accuracy',\n",
    "        ],\n",
    "        weighted_metrics=[\n",
    "            'mse',\n",
    "            'cosine_similarity',\n",
    "            # 'logcosh',\n",
    "            # tfa.metrics.RSquare(),\n",
    "        ]\n",
    "    )\n",
    "    \n",
    "    for i, dist_reg in enumerate(dist_regs):\n",
    "        dist_reg.initial_x = dist_reg_layers[i].get_weights()[0]\n",
    "    for i, mars_constraint in enumerate(mars_constraints):\n",
    "        mars_constraint.initial_weight = dist_reg_layers[i].get_weights()[0]\n",
    "    \n",
    "    # reg_cnn1.initial_x = cnn1.get_weights()[0]\n",
    "    # reg_cnn2.initial_x = cnn2.get_weights()[0]\n",
    "    # reg_cnn3.initial_x = cnn3.get_weights()[0]\n",
    "    # reg1.initial_x = d1.get_weights()[0]\n",
    "    # reg2.initial_x = d2.get_weights()[0]\n",
    "    # reg3.initial_x = d3.get_weights()[0]\n",
    "    \n",
    "    return model\n",
    "\n",
    "print(tf.keras.backend.floatx())"
   ]
  },
  {
   "cell_type": "code",
   "execution_count": 11,
   "id": "b95266a2-6e5c-49b4-8a48-b4b92a06ec20",
   "metadata": {
    "execution": {
     "iopub.execute_input": "2022-11-22T07:19:49.456395Z",
     "iopub.status.busy": "2022-11-22T07:19:49.455501Z",
     "iopub.status.idle": "2022-11-22T10:15:52.831512Z",
     "shell.execute_reply": "2022-11-22T10:15:52.830292Z"
    }
   },
   "outputs": [
    {
     "name": "stdout",
     "output_type": "stream",
     "text": [
      "fit df.shape (340916, 40)\n"
     ]
    },
    {
     "name": "stderr",
     "output_type": "stream",
     "text": [
      "2022-11-22 07:20:09.859519: W tensorflow/stream_executor/platform/default/dso_loader.cc:64] Could not load dynamic library 'libcuda.so.1'; dlerror: libcuda.so.1: cannot open shared object file: No such file or directory\n",
      "2022-11-22 07:20:09.859575: W tensorflow/stream_executor/cuda/cuda_driver.cc:263] failed call to cuInit: UNKNOWN ERROR (303)\n",
      "2022-11-22 07:20:09.859605: I tensorflow/stream_executor/cuda/cuda_diagnostics.cc:156] kernel driver does not appear to be running on this host (9f52c7a5c01b): /proc/driver/nvidia/version does not exist\n",
      "2022-11-22 07:20:09.859867: I tensorflow/core/platform/cpu_feature_guard.cc:193] This TensorFlow binary is optimized with oneAPI Deep Neural Network Library (oneDNN) to use the following CPU instructions in performance-critical operations:  AVX2 FMA\n",
      "To enable them in other operations, rebuild TensorFlow with the appropriate compiler flags.\n",
      "WARNING:absl:Found untraced functions such as _jit_compiled_convolution_op, _jit_compiled_convolution_op while saving (showing 2 of 2). These functions will not be directly callable after loading.\n"
     ]
    },
    {
     "name": "stdout",
     "output_type": "stream",
     "text": [
      "INFO:tensorflow:Assets written to: /tmp/tmpwemrnhpe/assets\n"
     ]
    },
    {
     "name": "stderr",
     "output_type": "stream",
     "text": [
      "INFO:tensorflow:Assets written to: /tmp/tmpwemrnhpe/assets\n",
      "2022-11-22 07:31:18.788230: W tensorflow/compiler/mlir/lite/python/tf_tfl_flatbuffer_helpers.cc:362] Ignored output_format.\n",
      "2022-11-22 07:31:18.788307: W tensorflow/compiler/mlir/lite/python/tf_tfl_flatbuffer_helpers.cc:365] Ignored drop_control_dependency.\n",
      "2022-11-22 07:31:18.789174: I tensorflow/cc/saved_model/reader.cc:45] Reading SavedModel from: /tmp/tmpwemrnhpe\n",
      "2022-11-22 07:31:18.791405: I tensorflow/cc/saved_model/reader.cc:89] Reading meta graph with tags { serve }\n",
      "2022-11-22 07:31:18.791444: I tensorflow/cc/saved_model/reader.cc:130] Reading SavedModel debug info (if present) from: /tmp/tmpwemrnhpe\n",
      "2022-11-22 07:31:18.800779: I tensorflow/compiler/mlir/mlir_graph_optimization_pass.cc:354] MLIR V1 optimization pass is not enabled\n",
      "2022-11-22 07:31:18.802635: I tensorflow/cc/saved_model/loader.cc:229] Restoring SavedModel bundle.\n",
      "2022-11-22 07:31:18.860270: I tensorflow/cc/saved_model/loader.cc:213] Running initialization op on SavedModel bundle at path: /tmp/tmpwemrnhpe\n",
      "2022-11-22 07:31:18.875859: I tensorflow/cc/saved_model/loader.cc:305] SavedModel load for tags { serve }; Status: success: OK. Took 86687 microseconds.\n",
      "2022-11-22 07:31:18.907778: I tensorflow/compiler/mlir/tensorflow/utils/dump_mlir_util.cc:268] disabling MLIR crash reproducer, set env var `MLIR_CRASH_REPRODUCER_DIRECTORY` to enable.\n",
      "WARNING:absl:Found untraced functions such as _jit_compiled_convolution_op, _jit_compiled_convolution_op while saving (showing 2 of 2). These functions will not be directly callable after loading.\n"
     ]
    },
    {
     "name": "stdout",
     "output_type": "stream",
     "text": [
      "INFO:tensorflow:Assets written to: /tmp/tmpzbzln7ea/assets\n"
     ]
    },
    {
     "name": "stderr",
     "output_type": "stream",
     "text": [
      "INFO:tensorflow:Assets written to: /tmp/tmpzbzln7ea/assets\n",
      "2022-11-22 07:31:20.670653: W tensorflow/compiler/mlir/lite/python/tf_tfl_flatbuffer_helpers.cc:362] Ignored output_format.\n",
      "2022-11-22 07:31:20.670742: W tensorflow/compiler/mlir/lite/python/tf_tfl_flatbuffer_helpers.cc:365] Ignored drop_control_dependency.\n",
      "2022-11-22 07:31:20.670951: I tensorflow/cc/saved_model/reader.cc:45] Reading SavedModel from: /tmp/tmpzbzln7ea\n",
      "2022-11-22 07:31:20.673294: I tensorflow/cc/saved_model/reader.cc:89] Reading meta graph with tags { serve }\n",
      "2022-11-22 07:31:20.673342: I tensorflow/cc/saved_model/reader.cc:130] Reading SavedModel debug info (if present) from: /tmp/tmpzbzln7ea\n",
      "2022-11-22 07:31:20.683422: I tensorflow/cc/saved_model/loader.cc:229] Restoring SavedModel bundle.\n",
      "2022-11-22 07:31:20.744489: I tensorflow/cc/saved_model/loader.cc:213] Running initialization op on SavedModel bundle at path: /tmp/tmpzbzln7ea\n",
      "2022-11-22 07:31:20.759899: I tensorflow/cc/saved_model/loader.cc:305] SavedModel load for tags { serve }; Status: success: OK. Took 88945 microseconds.\n",
      "WARNING:absl:Found untraced functions such as _jit_compiled_convolution_op, _jit_compiled_convolution_op while saving (showing 2 of 2). These functions will not be directly callable after loading.\n"
     ]
    },
    {
     "name": "stdout",
     "output_type": "stream",
     "text": [
      "INFO:tensorflow:Assets written to: /tmp/tmp9cwik2nt/assets\n"
     ]
    },
    {
     "name": "stderr",
     "output_type": "stream",
     "text": [
      "INFO:tensorflow:Assets written to: /tmp/tmp9cwik2nt/assets\n",
      "2022-11-22 07:31:22.560460: W tensorflow/compiler/mlir/lite/python/tf_tfl_flatbuffer_helpers.cc:362] Ignored output_format.\n",
      "2022-11-22 07:31:22.560546: W tensorflow/compiler/mlir/lite/python/tf_tfl_flatbuffer_helpers.cc:365] Ignored drop_control_dependency.\n",
      "2022-11-22 07:31:22.560744: I tensorflow/cc/saved_model/reader.cc:45] Reading SavedModel from: /tmp/tmp9cwik2nt\n",
      "2022-11-22 07:31:22.563181: I tensorflow/cc/saved_model/reader.cc:89] Reading meta graph with tags { serve }\n",
      "2022-11-22 07:31:22.563234: I tensorflow/cc/saved_model/reader.cc:130] Reading SavedModel debug info (if present) from: /tmp/tmp9cwik2nt\n",
      "2022-11-22 07:31:22.573378: I tensorflow/cc/saved_model/loader.cc:229] Restoring SavedModel bundle.\n",
      "2022-11-22 07:31:22.638040: I tensorflow/cc/saved_model/loader.cc:213] Running initialization op on SavedModel bundle at path: /tmp/tmp9cwik2nt\n",
      "2022-11-22 07:31:22.654297: I tensorflow/cc/saved_model/loader.cc:305] SavedModel load for tags { serve }; Status: success: OK. Took 93551 microseconds.\n",
      "WARNING:absl:Found untraced functions such as _jit_compiled_convolution_op, _jit_compiled_convolution_op while saving (showing 2 of 2). These functions will not be directly callable after loading.\n"
     ]
    },
    {
     "name": "stdout",
     "output_type": "stream",
     "text": [
      "INFO:tensorflow:Assets written to: /tmp/tmpa38__hc2/assets\n"
     ]
    },
    {
     "name": "stderr",
     "output_type": "stream",
     "text": [
      "INFO:tensorflow:Assets written to: /tmp/tmpa38__hc2/assets\n",
      "2022-11-22 07:31:24.466985: W tensorflow/compiler/mlir/lite/python/tf_tfl_flatbuffer_helpers.cc:362] Ignored output_format.\n",
      "2022-11-22 07:31:24.467077: W tensorflow/compiler/mlir/lite/python/tf_tfl_flatbuffer_helpers.cc:365] Ignored drop_control_dependency.\n",
      "2022-11-22 07:31:24.467273: I tensorflow/cc/saved_model/reader.cc:45] Reading SavedModel from: /tmp/tmpa38__hc2\n",
      "2022-11-22 07:31:24.469628: I tensorflow/cc/saved_model/reader.cc:89] Reading meta graph with tags { serve }\n",
      "2022-11-22 07:31:24.469688: I tensorflow/cc/saved_model/reader.cc:130] Reading SavedModel debug info (if present) from: /tmp/tmpa38__hc2\n",
      "2022-11-22 07:31:24.481553: I tensorflow/cc/saved_model/loader.cc:229] Restoring SavedModel bundle.\n",
      "2022-11-22 07:31:24.544420: I tensorflow/cc/saved_model/loader.cc:213] Running initialization op on SavedModel bundle at path: /tmp/tmpa38__hc2\n",
      "2022-11-22 07:31:24.560775: I tensorflow/cc/saved_model/loader.cc:305] SavedModel load for tags { serve }; Status: success: OK. Took 93502 microseconds.\n",
      "WARNING:absl:Found untraced functions such as _jit_compiled_convolution_op, _jit_compiled_convolution_op while saving (showing 2 of 2). These functions will not be directly callable after loading.\n"
     ]
    },
    {
     "name": "stdout",
     "output_type": "stream",
     "text": [
      "INFO:tensorflow:Assets written to: /tmp/tmpwptlfyoj/assets\n"
     ]
    },
    {
     "name": "stderr",
     "output_type": "stream",
     "text": [
      "INFO:tensorflow:Assets written to: /tmp/tmpwptlfyoj/assets\n",
      "2022-11-22 07:31:26.359058: W tensorflow/compiler/mlir/lite/python/tf_tfl_flatbuffer_helpers.cc:362] Ignored output_format.\n",
      "2022-11-22 07:31:26.359151: W tensorflow/compiler/mlir/lite/python/tf_tfl_flatbuffer_helpers.cc:365] Ignored drop_control_dependency.\n",
      "2022-11-22 07:31:26.359345: I tensorflow/cc/saved_model/reader.cc:45] Reading SavedModel from: /tmp/tmpwptlfyoj\n",
      "2022-11-22 07:31:26.361820: I tensorflow/cc/saved_model/reader.cc:89] Reading meta graph with tags { serve }\n",
      "2022-11-22 07:31:26.361867: I tensorflow/cc/saved_model/reader.cc:130] Reading SavedModel debug info (if present) from: /tmp/tmpwptlfyoj\n",
      "2022-11-22 07:31:26.373388: I tensorflow/cc/saved_model/loader.cc:229] Restoring SavedModel bundle.\n",
      "2022-11-22 07:31:26.435444: I tensorflow/cc/saved_model/loader.cc:213] Running initialization op on SavedModel bundle at path: /tmp/tmpwptlfyoj\n",
      "2022-11-22 07:31:26.451062: I tensorflow/cc/saved_model/loader.cc:305] SavedModel load for tags { serve }; Status: success: OK. Took 91717 microseconds.\n",
      "WARNING:absl:Found untraced functions such as _jit_compiled_convolution_op, _jit_compiled_convolution_op while saving (showing 2 of 2). These functions will not be directly callable after loading.\n"
     ]
    },
    {
     "name": "stdout",
     "output_type": "stream",
     "text": [
      "INFO:tensorflow:Assets written to: /tmp/tmpmwv7h2zs/assets\n"
     ]
    },
    {
     "name": "stderr",
     "output_type": "stream",
     "text": [
      "INFO:tensorflow:Assets written to: /tmp/tmpmwv7h2zs/assets\n",
      "2022-11-22 07:31:28.241355: W tensorflow/compiler/mlir/lite/python/tf_tfl_flatbuffer_helpers.cc:362] Ignored output_format.\n",
      "2022-11-22 07:31:28.241444: W tensorflow/compiler/mlir/lite/python/tf_tfl_flatbuffer_helpers.cc:365] Ignored drop_control_dependency.\n",
      "2022-11-22 07:31:28.241647: I tensorflow/cc/saved_model/reader.cc:45] Reading SavedModel from: /tmp/tmpmwv7h2zs\n",
      "2022-11-22 07:31:28.244026: I tensorflow/cc/saved_model/reader.cc:89] Reading meta graph with tags { serve }\n",
      "2022-11-22 07:31:28.244070: I tensorflow/cc/saved_model/reader.cc:130] Reading SavedModel debug info (if present) from: /tmp/tmpmwv7h2zs\n",
      "2022-11-22 07:31:28.255122: I tensorflow/cc/saved_model/loader.cc:229] Restoring SavedModel bundle.\n",
      "2022-11-22 07:31:28.317904: I tensorflow/cc/saved_model/loader.cc:213] Running initialization op on SavedModel bundle at path: /tmp/tmpmwv7h2zs\n",
      "2022-11-22 07:31:28.333209: I tensorflow/cc/saved_model/loader.cc:305] SavedModel load for tags { serve }; Status: success: OK. Took 91561 microseconds.\n",
      "WARNING:absl:Found untraced functions such as _jit_compiled_convolution_op, _jit_compiled_convolution_op while saving (showing 2 of 2). These functions will not be directly callable after loading.\n"
     ]
    },
    {
     "name": "stdout",
     "output_type": "stream",
     "text": [
      "INFO:tensorflow:Assets written to: /tmp/tmpcosi0dp3/assets\n"
     ]
    },
    {
     "name": "stderr",
     "output_type": "stream",
     "text": [
      "INFO:tensorflow:Assets written to: /tmp/tmpcosi0dp3/assets\n",
      "2022-11-22 07:31:30.118456: W tensorflow/compiler/mlir/lite/python/tf_tfl_flatbuffer_helpers.cc:362] Ignored output_format.\n",
      "2022-11-22 07:31:30.118546: W tensorflow/compiler/mlir/lite/python/tf_tfl_flatbuffer_helpers.cc:365] Ignored drop_control_dependency.\n",
      "2022-11-22 07:31:30.118747: I tensorflow/cc/saved_model/reader.cc:45] Reading SavedModel from: /tmp/tmpcosi0dp3\n",
      "2022-11-22 07:31:30.121087: I tensorflow/cc/saved_model/reader.cc:89] Reading meta graph with tags { serve }\n",
      "2022-11-22 07:31:30.121129: I tensorflow/cc/saved_model/reader.cc:130] Reading SavedModel debug info (if present) from: /tmp/tmpcosi0dp3\n",
      "2022-11-22 07:31:30.132185: I tensorflow/cc/saved_model/loader.cc:229] Restoring SavedModel bundle.\n",
      "2022-11-22 07:31:30.193596: I tensorflow/cc/saved_model/loader.cc:213] Running initialization op on SavedModel bundle at path: /tmp/tmpcosi0dp3\n",
      "2022-11-22 07:31:30.209353: I tensorflow/cc/saved_model/loader.cc:305] SavedModel load for tags { serve }; Status: success: OK. Took 90605 microseconds.\n",
      "WARNING:absl:Found untraced functions such as _jit_compiled_convolution_op, _jit_compiled_convolution_op while saving (showing 2 of 2). These functions will not be directly callable after loading.\n"
     ]
    },
    {
     "name": "stdout",
     "output_type": "stream",
     "text": [
      "INFO:tensorflow:Assets written to: /tmp/tmpy0txi7jo/assets\n"
     ]
    },
    {
     "name": "stderr",
     "output_type": "stream",
     "text": [
      "INFO:tensorflow:Assets written to: /tmp/tmpy0txi7jo/assets\n",
      "2022-11-22 07:31:32.014184: W tensorflow/compiler/mlir/lite/python/tf_tfl_flatbuffer_helpers.cc:362] Ignored output_format.\n",
      "2022-11-22 07:31:32.014276: W tensorflow/compiler/mlir/lite/python/tf_tfl_flatbuffer_helpers.cc:365] Ignored drop_control_dependency.\n",
      "2022-11-22 07:31:32.014474: I tensorflow/cc/saved_model/reader.cc:45] Reading SavedModel from: /tmp/tmpy0txi7jo\n",
      "2022-11-22 07:31:32.016885: I tensorflow/cc/saved_model/reader.cc:89] Reading meta graph with tags { serve }\n",
      "2022-11-22 07:31:32.016930: I tensorflow/cc/saved_model/reader.cc:130] Reading SavedModel debug info (if present) from: /tmp/tmpy0txi7jo\n",
      "2022-11-22 07:31:32.027173: I tensorflow/cc/saved_model/loader.cc:229] Restoring SavedModel bundle.\n",
      "2022-11-22 07:31:32.088606: I tensorflow/cc/saved_model/loader.cc:213] Running initialization op on SavedModel bundle at path: /tmp/tmpy0txi7jo\n",
      "2022-11-22 07:31:32.104785: I tensorflow/cc/saved_model/loader.cc:305] SavedModel load for tags { serve }; Status: success: OK. Took 90311 microseconds.\n",
      "WARNING:absl:Found untraced functions such as _jit_compiled_convolution_op, _jit_compiled_convolution_op while saving (showing 2 of 2). These functions will not be directly callable after loading.\n"
     ]
    },
    {
     "name": "stdout",
     "output_type": "stream",
     "text": [
      "INFO:tensorflow:Assets written to: /tmp/tmpil8d3f_2/assets\n"
     ]
    },
    {
     "name": "stderr",
     "output_type": "stream",
     "text": [
      "INFO:tensorflow:Assets written to: /tmp/tmpil8d3f_2/assets\n",
      "2022-11-22 07:31:33.901335: W tensorflow/compiler/mlir/lite/python/tf_tfl_flatbuffer_helpers.cc:362] Ignored output_format.\n",
      "2022-11-22 07:31:33.901427: W tensorflow/compiler/mlir/lite/python/tf_tfl_flatbuffer_helpers.cc:365] Ignored drop_control_dependency.\n",
      "2022-11-22 07:31:33.901620: I tensorflow/cc/saved_model/reader.cc:45] Reading SavedModel from: /tmp/tmpil8d3f_2\n",
      "2022-11-22 07:31:33.904004: I tensorflow/cc/saved_model/reader.cc:89] Reading meta graph with tags { serve }\n",
      "2022-11-22 07:31:33.904045: I tensorflow/cc/saved_model/reader.cc:130] Reading SavedModel debug info (if present) from: /tmp/tmpil8d3f_2\n",
      "2022-11-22 07:31:33.914930: I tensorflow/cc/saved_model/loader.cc:229] Restoring SavedModel bundle.\n",
      "2022-11-22 07:31:33.976409: I tensorflow/cc/saved_model/loader.cc:213] Running initialization op on SavedModel bundle at path: /tmp/tmpil8d3f_2\n",
      "2022-11-22 07:31:33.992316: I tensorflow/cc/saved_model/loader.cc:305] SavedModel load for tags { serve }; Status: success: OK. Took 90695 microseconds.\n",
      "WARNING:absl:Found untraced functions such as _jit_compiled_convolution_op, _jit_compiled_convolution_op while saving (showing 2 of 2). These functions will not be directly callable after loading.\n"
     ]
    },
    {
     "name": "stdout",
     "output_type": "stream",
     "text": [
      "INFO:tensorflow:Assets written to: /tmp/tmpargkbxv4/assets\n"
     ]
    },
    {
     "name": "stderr",
     "output_type": "stream",
     "text": [
      "INFO:tensorflow:Assets written to: /tmp/tmpargkbxv4/assets\n",
      "2022-11-22 07:31:37.250006: W tensorflow/compiler/mlir/lite/python/tf_tfl_flatbuffer_helpers.cc:362] Ignored output_format.\n",
      "2022-11-22 07:31:37.250102: W tensorflow/compiler/mlir/lite/python/tf_tfl_flatbuffer_helpers.cc:365] Ignored drop_control_dependency.\n",
      "2022-11-22 07:31:37.250306: I tensorflow/cc/saved_model/reader.cc:45] Reading SavedModel from: /tmp/tmpargkbxv4\n",
      "2022-11-22 07:31:37.253092: I tensorflow/cc/saved_model/reader.cc:89] Reading meta graph with tags { serve }\n",
      "2022-11-22 07:31:37.253154: I tensorflow/cc/saved_model/reader.cc:130] Reading SavedModel debug info (if present) from: /tmp/tmpargkbxv4\n",
      "2022-11-22 07:31:37.261576: I tensorflow/cc/saved_model/loader.cc:229] Restoring SavedModel bundle.\n",
      "2022-11-22 07:31:37.324362: I tensorflow/cc/saved_model/loader.cc:213] Running initialization op on SavedModel bundle at path: /tmp/tmpargkbxv4\n",
      "2022-11-22 07:31:37.340611: I tensorflow/cc/saved_model/loader.cc:305] SavedModel load for tags { serve }; Status: success: OK. Took 90311 microseconds.\n"
     ]
    },
    {
     "data": {
      "image/png": "[encoded data removed]",
      "text/plain": [
       "<Figure size 640x480 with 1 Axes>"
      ]
     },
     "metadata": {},
     "output_type": "display_data"
    },
    {
     "name": "stdout",
     "output_type": "stream",
     "text": [
      "fit df.shape (307501, 40)\n"
     ]
    },
    {
     "name": "stderr",
     "output_type": "stream",
     "text": [
      "WARNING:absl:Found untraced functions such as _jit_compiled_convolution_op, _jit_compiled_convolution_op while saving (showing 2 of 2). These functions will not be directly callable after loading.\n"
     ]
    },
    {
     "name": "stdout",
     "output_type": "stream",
     "text": [
      "INFO:tensorflow:Assets written to: /tmp/tmpgbqif8d5/assets\n"
     ]
    },
    {
     "name": "stderr",
     "output_type": "stream",
     "text": [
      "INFO:tensorflow:Assets written to: /tmp/tmpgbqif8d5/assets\n",
      "2022-11-22 07:43:20.706163: W tensorflow/compiler/mlir/lite/python/tf_tfl_flatbuffer_helpers.cc:362] Ignored output_format.\n",
      "2022-11-22 07:43:20.706286: W tensorflow/compiler/mlir/lite/python/tf_tfl_flatbuffer_helpers.cc:365] Ignored drop_control_dependency.\n",
      "2022-11-22 07:43:20.706507: I tensorflow/cc/saved_model/reader.cc:45] Reading SavedModel from: /tmp/tmpgbqif8d5\n",
      "2022-11-22 07:43:20.708680: I tensorflow/cc/saved_model/reader.cc:89] Reading meta graph with tags { serve }\n",
      "2022-11-22 07:43:20.708720: I tensorflow/cc/saved_model/reader.cc:130] Reading SavedModel debug info (if present) from: /tmp/tmpgbqif8d5\n",
      "2022-11-22 07:43:20.716010: I tensorflow/cc/saved_model/loader.cc:229] Restoring SavedModel bundle.\n",
      "2022-11-22 07:43:20.775402: I tensorflow/cc/saved_model/loader.cc:213] Running initialization op on SavedModel bundle at path: /tmp/tmpgbqif8d5\n",
      "2022-11-22 07:43:20.791799: I tensorflow/cc/saved_model/loader.cc:305] SavedModel load for tags { serve }; Status: success: OK. Took 85256 microseconds.\n",
      "WARNING:absl:Found untraced functions such as _jit_compiled_convolution_op, _jit_compiled_convolution_op while saving (showing 2 of 2). These functions will not be directly callable after loading.\n"
     ]
    },
    {
     "name": "stdout",
     "output_type": "stream",
     "text": [
      "INFO:tensorflow:Assets written to: /tmp/tmp1p51t2tk/assets\n"
     ]
    },
    {
     "name": "stderr",
     "output_type": "stream",
     "text": [
      "INFO:tensorflow:Assets written to: /tmp/tmp1p51t2tk/assets\n",
      "2022-11-22 07:43:22.563591: W tensorflow/compiler/mlir/lite/python/tf_tfl_flatbuffer_helpers.cc:362] Ignored output_format.\n",
      "2022-11-22 07:43:22.563696: W tensorflow/compiler/mlir/lite/python/tf_tfl_flatbuffer_helpers.cc:365] Ignored drop_control_dependency.\n",
      "2022-11-22 07:43:22.563894: I tensorflow/cc/saved_model/reader.cc:45] Reading SavedModel from: /tmp/tmp1p51t2tk\n",
      "2022-11-22 07:43:22.566028: I tensorflow/cc/saved_model/reader.cc:89] Reading meta graph with tags { serve }\n",
      "2022-11-22 07:43:22.566072: I tensorflow/cc/saved_model/reader.cc:130] Reading SavedModel debug info (if present) from: /tmp/tmp1p51t2tk\n",
      "2022-11-22 07:43:22.573262: I tensorflow/cc/saved_model/loader.cc:229] Restoring SavedModel bundle.\n",
      "2022-11-22 07:43:22.632390: I tensorflow/cc/saved_model/loader.cc:213] Running initialization op on SavedModel bundle at path: /tmp/tmp1p51t2tk\n",
      "2022-11-22 07:43:22.647676: I tensorflow/cc/saved_model/loader.cc:305] SavedModel load for tags { serve }; Status: success: OK. Took 83781 microseconds.\n",
      "WARNING:absl:Found untraced functions such as _jit_compiled_convolution_op, _jit_compiled_convolution_op while saving (showing 2 of 2). These functions will not be directly callable after loading.\n"
     ]
    },
    {
     "name": "stdout",
     "output_type": "stream",
     "text": [
      "INFO:tensorflow:Assets written to: /tmp/tmpd4qw2wm6/assets\n"
     ]
    },
    {
     "name": "stderr",
     "output_type": "stream",
     "text": [
      "INFO:tensorflow:Assets written to: /tmp/tmpd4qw2wm6/assets\n",
      "2022-11-22 07:43:24.398661: W tensorflow/compiler/mlir/lite/python/tf_tfl_flatbuffer_helpers.cc:362] Ignored output_format.\n",
      "2022-11-22 07:43:24.398762: W tensorflow/compiler/mlir/lite/python/tf_tfl_flatbuffer_helpers.cc:365] Ignored drop_control_dependency.\n",
      "2022-11-22 07:43:24.398985: I tensorflow/cc/saved_model/reader.cc:45] Reading SavedModel from: /tmp/tmpd4qw2wm6\n",
      "2022-11-22 07:43:24.401180: I tensorflow/cc/saved_model/reader.cc:89] Reading meta graph with tags { serve }\n",
      "2022-11-22 07:43:24.401226: I tensorflow/cc/saved_model/reader.cc:130] Reading SavedModel debug info (if present) from: /tmp/tmpd4qw2wm6\n",
      "2022-11-22 07:43:24.408665: I tensorflow/cc/saved_model/loader.cc:229] Restoring SavedModel bundle.\n",
      "2022-11-22 07:43:24.470439: I tensorflow/cc/saved_model/loader.cc:213] Running initialization op on SavedModel bundle at path: /tmp/tmpd4qw2wm6\n",
      "2022-11-22 07:43:24.487858: I tensorflow/cc/saved_model/loader.cc:305] SavedModel load for tags { serve }; Status: success: OK. Took 88873 microseconds.\n",
      "WARNING:absl:Found untraced functions such as _jit_compiled_convolution_op, _jit_compiled_convolution_op while saving (showing 2 of 2). These functions will not be directly callable after loading.\n"
     ]
    },
    {
     "name": "stdout",
     "output_type": "stream",
     "text": [
      "INFO:tensorflow:Assets written to: /tmp/tmpz1b10k2w/assets\n"
     ]
    },
    {
     "name": "stderr",
     "output_type": "stream",
     "text": [
      "INFO:tensorflow:Assets written to: /tmp/tmpz1b10k2w/assets\n",
      "2022-11-22 07:43:26.247954: W tensorflow/compiler/mlir/lite/python/tf_tfl_flatbuffer_helpers.cc:362] Ignored output_format.\n",
      "2022-11-22 07:43:26.248039: W tensorflow/compiler/mlir/lite/python/tf_tfl_flatbuffer_helpers.cc:365] Ignored drop_control_dependency.\n",
      "2022-11-22 07:43:26.248233: I tensorflow/cc/saved_model/reader.cc:45] Reading SavedModel from: /tmp/tmpz1b10k2w\n",
      "2022-11-22 07:43:26.250363: I tensorflow/cc/saved_model/reader.cc:89] Reading meta graph with tags { serve }\n",
      "2022-11-22 07:43:26.250409: I tensorflow/cc/saved_model/reader.cc:130] Reading SavedModel debug info (if present) from: /tmp/tmpz1b10k2w\n",
      "2022-11-22 07:43:26.257588: I tensorflow/cc/saved_model/loader.cc:229] Restoring SavedModel bundle.\n",
      "2022-11-22 07:43:26.318652: I tensorflow/cc/saved_model/loader.cc:213] Running initialization op on SavedModel bundle at path: /tmp/tmpz1b10k2w\n",
      "2022-11-22 07:43:26.334354: I tensorflow/cc/saved_model/loader.cc:305] SavedModel load for tags { serve }; Status: success: OK. Took 86120 microseconds.\n",
      "WARNING:absl:Found untraced functions such as _jit_compiled_convolution_op, _jit_compiled_convolution_op while saving (showing 2 of 2). These functions will not be directly callable after loading.\n"
     ]
    },
    {
     "name": "stdout",
     "output_type": "stream",
     "text": [
      "INFO:tensorflow:Assets written to: /tmp/tmpnou6uzbm/assets\n"
     ]
    },
    {
     "name": "stderr",
     "output_type": "stream",
     "text": [
      "INFO:tensorflow:Assets written to: /tmp/tmpnou6uzbm/assets\n",
      "2022-11-22 07:43:29.463222: W tensorflow/compiler/mlir/lite/python/tf_tfl_flatbuffer_helpers.cc:362] Ignored output_format.\n",
      "2022-11-22 07:43:29.463320: W tensorflow/compiler/mlir/lite/python/tf_tfl_flatbuffer_helpers.cc:365] Ignored drop_control_dependency.\n",
      "2022-11-22 07:43:29.463537: I tensorflow/cc/saved_model/reader.cc:45] Reading SavedModel from: /tmp/tmpnou6uzbm\n",
      "2022-11-22 07:43:29.468097: I tensorflow/cc/saved_model/reader.cc:89] Reading meta graph with tags { serve }\n",
      "2022-11-22 07:43:29.468164: I tensorflow/cc/saved_model/reader.cc:130] Reading SavedModel debug info (if present) from: /tmp/tmpnou6uzbm\n",
      "2022-11-22 07:43:29.487884: I tensorflow/cc/saved_model/loader.cc:229] Restoring SavedModel bundle.\n",
      "2022-11-22 07:43:29.577111: I tensorflow/cc/saved_model/loader.cc:213] Running initialization op on SavedModel bundle at path: /tmp/tmpnou6uzbm\n",
      "2022-11-22 07:43:29.607357: I tensorflow/cc/saved_model/loader.cc:305] SavedModel load for tags { serve }; Status: success: OK. Took 143817 microseconds.\n",
      "WARNING:absl:Found untraced functions such as _jit_compiled_convolution_op, _jit_compiled_convolution_op while saving (showing 2 of 2). These functions will not be directly callable after loading.\n"
     ]
    },
    {
     "name": "stdout",
     "output_type": "stream",
     "text": [
      "INFO:tensorflow:Assets written to: /tmp/tmpt2l40268/assets\n"
     ]
    },
    {
     "name": "stderr",
     "output_type": "stream",
     "text": [
      "INFO:tensorflow:Assets written to: /tmp/tmpt2l40268/assets\n",
      "2022-11-22 07:43:31.605621: W tensorflow/compiler/mlir/lite/python/tf_tfl_flatbuffer_helpers.cc:362] Ignored output_format.\n",
      "2022-11-22 07:43:31.605724: W tensorflow/compiler/mlir/lite/python/tf_tfl_flatbuffer_helpers.cc:365] Ignored drop_control_dependency.\n",
      "2022-11-22 07:43:31.605918: I tensorflow/cc/saved_model/reader.cc:45] Reading SavedModel from: /tmp/tmpt2l40268\n",
      "2022-11-22 07:43:31.608708: I tensorflow/cc/saved_model/reader.cc:89] Reading meta graph with tags { serve }\n",
      "2022-11-22 07:43:31.608765: I tensorflow/cc/saved_model/reader.cc:130] Reading SavedModel debug info (if present) from: /tmp/tmpt2l40268\n",
      "2022-11-22 07:43:31.617075: I tensorflow/cc/saved_model/loader.cc:229] Restoring SavedModel bundle.\n",
      "2022-11-22 07:43:31.680779: I tensorflow/cc/saved_model/loader.cc:213] Running initialization op on SavedModel bundle at path: /tmp/tmpt2l40268\n",
      "2022-11-22 07:43:31.697172: I tensorflow/cc/saved_model/loader.cc:305] SavedModel load for tags { serve }; Status: success: OK. Took 91252 microseconds.\n",
      "WARNING:absl:Found untraced functions such as _jit_compiled_convolution_op, _jit_compiled_convolution_op while saving (showing 2 of 2). These functions will not be directly callable after loading.\n"
     ]
    },
    {
     "name": "stdout",
     "output_type": "stream",
     "text": [
      "INFO:tensorflow:Assets written to: /tmp/tmpvkl27_f8/assets\n"
     ]
    },
    {
     "name": "stderr",
     "output_type": "stream",
     "text": [
      "INFO:tensorflow:Assets written to: /tmp/tmpvkl27_f8/assets\n",
      "2022-11-22 07:43:33.487620: W tensorflow/compiler/mlir/lite/python/tf_tfl_flatbuffer_helpers.cc:362] Ignored output_format.\n",
      "2022-11-22 07:43:33.487727: W tensorflow/compiler/mlir/lite/python/tf_tfl_flatbuffer_helpers.cc:365] Ignored drop_control_dependency.\n",
      "2022-11-22 07:43:33.487922: I tensorflow/cc/saved_model/reader.cc:45] Reading SavedModel from: /tmp/tmpvkl27_f8\n",
      "2022-11-22 07:43:33.490143: I tensorflow/cc/saved_model/reader.cc:89] Reading meta graph with tags { serve }\n",
      "2022-11-22 07:43:33.490192: I tensorflow/cc/saved_model/reader.cc:130] Reading SavedModel debug info (if present) from: /tmp/tmpvkl27_f8\n",
      "2022-11-22 07:43:33.497667: I tensorflow/cc/saved_model/loader.cc:229] Restoring SavedModel bundle.\n",
      "2022-11-22 07:43:33.559411: I tensorflow/cc/saved_model/loader.cc:213] Running initialization op on SavedModel bundle at path: /tmp/tmpvkl27_f8\n",
      "2022-11-22 07:43:33.575427: I tensorflow/cc/saved_model/loader.cc:305] SavedModel load for tags { serve }; Status: success: OK. Took 87504 microseconds.\n",
      "WARNING:absl:Found untraced functions such as _jit_compiled_convolution_op, _jit_compiled_convolution_op while saving (showing 2 of 2). These functions will not be directly callable after loading.\n"
     ]
    },
    {
     "name": "stdout",
     "output_type": "stream",
     "text": [
      "INFO:tensorflow:Assets written to: /tmp/tmp6c9jfbh9/assets\n"
     ]
    },
    {
     "name": "stderr",
     "output_type": "stream",
     "text": [
      "INFO:tensorflow:Assets written to: /tmp/tmp6c9jfbh9/assets\n",
      "2022-11-22 07:43:35.377286: W tensorflow/compiler/mlir/lite/python/tf_tfl_flatbuffer_helpers.cc:362] Ignored output_format.\n",
      "2022-11-22 07:43:35.377378: W tensorflow/compiler/mlir/lite/python/tf_tfl_flatbuffer_helpers.cc:365] Ignored drop_control_dependency.\n",
      "2022-11-22 07:43:35.377572: I tensorflow/cc/saved_model/reader.cc:45] Reading SavedModel from: /tmp/tmp6c9jfbh9\n",
      "2022-11-22 07:43:35.379752: I tensorflow/cc/saved_model/reader.cc:89] Reading meta graph with tags { serve }\n",
      "2022-11-22 07:43:35.379793: I tensorflow/cc/saved_model/reader.cc:130] Reading SavedModel debug info (if present) from: /tmp/tmp6c9jfbh9\n",
      "2022-11-22 07:43:35.386870: I tensorflow/cc/saved_model/loader.cc:229] Restoring SavedModel bundle.\n",
      "2022-11-22 07:43:35.453448: I tensorflow/cc/saved_model/loader.cc:213] Running initialization op on SavedModel bundle at path: /tmp/tmp6c9jfbh9\n",
      "2022-11-22 07:43:35.470761: I tensorflow/cc/saved_model/loader.cc:305] SavedModel load for tags { serve }; Status: success: OK. Took 93182 microseconds.\n",
      "WARNING:absl:Found untraced functions such as _jit_compiled_convolution_op, _jit_compiled_convolution_op while saving (showing 2 of 2). These functions will not be directly callable after loading.\n"
     ]
    },
    {
     "name": "stdout",
     "output_type": "stream",
     "text": [
      "INFO:tensorflow:Assets written to: /tmp/tmpliy_5w07/assets\n"
     ]
    },
    {
     "name": "stderr",
     "output_type": "stream",
     "text": [
      "INFO:tensorflow:Assets written to: /tmp/tmpliy_5w07/assets\n",
      "2022-11-22 07:43:37.255230: W tensorflow/compiler/mlir/lite/python/tf_tfl_flatbuffer_helpers.cc:362] Ignored output_format.\n",
      "2022-11-22 07:43:37.255326: W tensorflow/compiler/mlir/lite/python/tf_tfl_flatbuffer_helpers.cc:365] Ignored drop_control_dependency.\n",
      "2022-11-22 07:43:37.255522: I tensorflow/cc/saved_model/reader.cc:45] Reading SavedModel from: /tmp/tmpliy_5w07\n",
      "2022-11-22 07:43:37.257704: I tensorflow/cc/saved_model/reader.cc:89] Reading meta graph with tags { serve }\n",
      "2022-11-22 07:43:37.257761: I tensorflow/cc/saved_model/reader.cc:130] Reading SavedModel debug info (if present) from: /tmp/tmpliy_5w07\n",
      "2022-11-22 07:43:37.265051: I tensorflow/cc/saved_model/loader.cc:229] Restoring SavedModel bundle.\n",
      "2022-11-22 07:43:37.325230: I tensorflow/cc/saved_model/loader.cc:213] Running initialization op on SavedModel bundle at path: /tmp/tmpliy_5w07\n",
      "2022-11-22 07:43:37.341394: I tensorflow/cc/saved_model/loader.cc:305] SavedModel load for tags { serve }; Status: success: OK. Took 85872 microseconds.\n",
      "WARNING:absl:Found untraced functions such as _jit_compiled_convolution_op, _jit_compiled_convolution_op while saving (showing 2 of 2). These functions will not be directly callable after loading.\n"
     ]
    },
    {
     "name": "stdout",
     "output_type": "stream",
     "text": [
      "INFO:tensorflow:Assets written to: /tmp/tmp9s611dxi/assets\n"
     ]
    },
    {
     "name": "stderr",
     "output_type": "stream",
     "text": [
      "INFO:tensorflow:Assets written to: /tmp/tmp9s611dxi/assets\n",
      "2022-11-22 07:43:39.098822: W tensorflow/compiler/mlir/lite/python/tf_tfl_flatbuffer_helpers.cc:362] Ignored output_format.\n",
      "2022-11-22 07:43:39.098944: W tensorflow/compiler/mlir/lite/python/tf_tfl_flatbuffer_helpers.cc:365] Ignored drop_control_dependency.\n",
      "2022-11-22 07:43:39.099142: I tensorflow/cc/saved_model/reader.cc:45] Reading SavedModel from: /tmp/tmp9s611dxi\n",
      "2022-11-22 07:43:39.101528: I tensorflow/cc/saved_model/reader.cc:89] Reading meta graph with tags { serve }\n",
      "2022-11-22 07:43:39.101631: I tensorflow/cc/saved_model/reader.cc:130] Reading SavedModel debug info (if present) from: /tmp/tmp9s611dxi\n",
      "2022-11-22 07:43:39.109280: I tensorflow/cc/saved_model/loader.cc:229] Restoring SavedModel bundle.\n",
      "2022-11-22 07:43:39.169873: I tensorflow/cc/saved_model/loader.cc:213] Running initialization op on SavedModel bundle at path: /tmp/tmp9s611dxi\n",
      "2022-11-22 07:43:39.185954: I tensorflow/cc/saved_model/loader.cc:305] SavedModel load for tags { serve }; Status: success: OK. Took 86810 microseconds.\n"
     ]
    },
    {
     "data": {
      "image/png": "[encoded data removed]",
      "text/plain": [
       "<Figure size 640x480 with 1 Axes>"
      ]
     },
     "metadata": {},
     "output_type": "display_data"
    },
    {
     "name": "stdout",
     "output_type": "stream",
     "text": [
      "fit df.shape (283904, 40)\n"
     ]
    },
    {
     "name": "stderr",
     "output_type": "stream",
     "text": [
      "WARNING:absl:Found untraced functions such as _jit_compiled_convolution_op, _jit_compiled_convolution_op while saving (showing 2 of 2). These functions will not be directly callable after loading.\n"
     ]
    },
    {
     "name": "stdout",
     "output_type": "stream",
     "text": [
      "INFO:tensorflow:Assets written to: /tmp/tmpodrf2z3e/assets\n"
     ]
    },
    {
     "name": "stderr",
     "output_type": "stream",
     "text": [
      "INFO:tensorflow:Assets written to: /tmp/tmpodrf2z3e/assets\n",
      "2022-11-22 07:52:32.809316: W tensorflow/compiler/mlir/lite/python/tf_tfl_flatbuffer_helpers.cc:362] Ignored output_format.\n",
      "2022-11-22 07:52:32.809414: W tensorflow/compiler/mlir/lite/python/tf_tfl_flatbuffer_helpers.cc:365] Ignored drop_control_dependency.\n",
      "2022-11-22 07:52:32.809616: I tensorflow/cc/saved_model/reader.cc:45] Reading SavedModel from: /tmp/tmpodrf2z3e\n",
      "2022-11-22 07:52:32.811825: I tensorflow/cc/saved_model/reader.cc:89] Reading meta graph with tags { serve }\n",
      "2022-11-22 07:52:32.811872: I tensorflow/cc/saved_model/reader.cc:130] Reading SavedModel debug info (if present) from: /tmp/tmpodrf2z3e\n",
      "2022-11-22 07:52:32.819035: I tensorflow/cc/saved_model/loader.cc:229] Restoring SavedModel bundle.\n",
      "2022-11-22 07:52:32.877856: I tensorflow/cc/saved_model/loader.cc:213] Running initialization op on SavedModel bundle at path: /tmp/tmpodrf2z3e\n",
      "2022-11-22 07:52:32.893633: I tensorflow/cc/saved_model/loader.cc:305] SavedModel load for tags { serve }; Status: success: OK. Took 84016 microseconds.\n",
      "WARNING:absl:Found untraced functions such as _jit_compiled_convolution_op, _jit_compiled_convolution_op while saving (showing 2 of 2). These functions will not be directly callable after loading.\n"
     ]
    },
    {
     "name": "stdout",
     "output_type": "stream",
     "text": [
      "INFO:tensorflow:Assets written to: /tmp/tmpf06fpsqy/assets\n"
     ]
    },
    {
     "name": "stderr",
     "output_type": "stream",
     "text": [
      "INFO:tensorflow:Assets written to: /tmp/tmpf06fpsqy/assets\n",
      "2022-11-22 07:52:34.663033: W tensorflow/compiler/mlir/lite/python/tf_tfl_flatbuffer_helpers.cc:362] Ignored output_format.\n",
      "2022-11-22 07:52:34.663126: W tensorflow/compiler/mlir/lite/python/tf_tfl_flatbuffer_helpers.cc:365] Ignored drop_control_dependency.\n",
      "2022-11-22 07:52:34.663323: I tensorflow/cc/saved_model/reader.cc:45] Reading SavedModel from: /tmp/tmpf06fpsqy\n",
      "2022-11-22 07:52:34.665452: I tensorflow/cc/saved_model/reader.cc:89] Reading meta graph with tags { serve }\n",
      "2022-11-22 07:52:34.665496: I tensorflow/cc/saved_model/reader.cc:130] Reading SavedModel debug info (if present) from: /tmp/tmpf06fpsqy\n",
      "2022-11-22 07:52:34.672681: I tensorflow/cc/saved_model/loader.cc:229] Restoring SavedModel bundle.\n",
      "2022-11-22 07:52:34.731333: I tensorflow/cc/saved_model/loader.cc:213] Running initialization op on SavedModel bundle at path: /tmp/tmpf06fpsqy\n",
      "2022-11-22 07:52:34.746832: I tensorflow/cc/saved_model/loader.cc:305] SavedModel load for tags { serve }; Status: success: OK. Took 83508 microseconds.\n",
      "WARNING:absl:Found untraced functions such as _jit_compiled_convolution_op, _jit_compiled_convolution_op while saving (showing 2 of 2). These functions will not be directly callable after loading.\n"
     ]
    },
    {
     "name": "stdout",
     "output_type": "stream",
     "text": [
      "INFO:tensorflow:Assets written to: /tmp/tmps6gaiszu/assets\n"
     ]
    },
    {
     "name": "stderr",
     "output_type": "stream",
     "text": [
      "INFO:tensorflow:Assets written to: /tmp/tmps6gaiszu/assets\n",
      "2022-11-22 07:52:36.531857: W tensorflow/compiler/mlir/lite/python/tf_tfl_flatbuffer_helpers.cc:362] Ignored output_format.\n",
      "2022-11-22 07:52:36.531950: W tensorflow/compiler/mlir/lite/python/tf_tfl_flatbuffer_helpers.cc:365] Ignored drop_control_dependency.\n",
      "2022-11-22 07:52:36.532142: I tensorflow/cc/saved_model/reader.cc:45] Reading SavedModel from: /tmp/tmps6gaiszu\n",
      "2022-11-22 07:52:36.534277: I tensorflow/cc/saved_model/reader.cc:89] Reading meta graph with tags { serve }\n",
      "2022-11-22 07:52:36.534318: I tensorflow/cc/saved_model/reader.cc:130] Reading SavedModel debug info (if present) from: /tmp/tmps6gaiszu\n",
      "2022-11-22 07:52:36.541533: I tensorflow/cc/saved_model/loader.cc:229] Restoring SavedModel bundle.\n",
      "2022-11-22 07:52:36.605328: I tensorflow/cc/saved_model/loader.cc:213] Running initialization op on SavedModel bundle at path: /tmp/tmps6gaiszu\n",
      "2022-11-22 07:52:36.620927: I tensorflow/cc/saved_model/loader.cc:305] SavedModel load for tags { serve }; Status: success: OK. Took 88783 microseconds.\n",
      "WARNING:absl:Found untraced functions such as _jit_compiled_convolution_op, _jit_compiled_convolution_op while saving (showing 2 of 2). These functions will not be directly callable after loading.\n"
     ]
    },
    {
     "name": "stdout",
     "output_type": "stream",
     "text": [
      "INFO:tensorflow:Assets written to: /tmp/tmpjmmk97zm/assets\n"
     ]
    },
    {
     "name": "stderr",
     "output_type": "stream",
     "text": [
      "INFO:tensorflow:Assets written to: /tmp/tmpjmmk97zm/assets\n",
      "2022-11-22 07:52:38.389942: W tensorflow/compiler/mlir/lite/python/tf_tfl_flatbuffer_helpers.cc:362] Ignored output_format.\n",
      "2022-11-22 07:52:38.390040: W tensorflow/compiler/mlir/lite/python/tf_tfl_flatbuffer_helpers.cc:365] Ignored drop_control_dependency.\n",
      "2022-11-22 07:52:38.390240: I tensorflow/cc/saved_model/reader.cc:45] Reading SavedModel from: /tmp/tmpjmmk97zm\n",
      "2022-11-22 07:52:38.392455: I tensorflow/cc/saved_model/reader.cc:89] Reading meta graph with tags { serve }\n",
      "2022-11-22 07:52:38.392503: I tensorflow/cc/saved_model/reader.cc:130] Reading SavedModel debug info (if present) from: /tmp/tmpjmmk97zm\n",
      "2022-11-22 07:52:38.399685: I tensorflow/cc/saved_model/loader.cc:229] Restoring SavedModel bundle.\n",
      "2022-11-22 07:52:38.460725: I tensorflow/cc/saved_model/loader.cc:213] Running initialization op on SavedModel bundle at path: /tmp/tmpjmmk97zm\n",
      "2022-11-22 07:52:38.476589: I tensorflow/cc/saved_model/loader.cc:305] SavedModel load for tags { serve }; Status: success: OK. Took 86349 microseconds.\n",
      "WARNING:absl:Found untraced functions such as _jit_compiled_convolution_op, _jit_compiled_convolution_op while saving (showing 2 of 2). These functions will not be directly callable after loading.\n"
     ]
    },
    {
     "name": "stdout",
     "output_type": "stream",
     "text": [
      "INFO:tensorflow:Assets written to: /tmp/tmp_ha4bhid/assets\n"
     ]
    },
    {
     "name": "stderr",
     "output_type": "stream",
     "text": [
      "INFO:tensorflow:Assets written to: /tmp/tmp_ha4bhid/assets\n",
      "2022-11-22 07:52:40.234140: W tensorflow/compiler/mlir/lite/python/tf_tfl_flatbuffer_helpers.cc:362] Ignored output_format.\n",
      "2022-11-22 07:52:40.234233: W tensorflow/compiler/mlir/lite/python/tf_tfl_flatbuffer_helpers.cc:365] Ignored drop_control_dependency.\n",
      "2022-11-22 07:52:40.234427: I tensorflow/cc/saved_model/reader.cc:45] Reading SavedModel from: /tmp/tmp_ha4bhid\n",
      "2022-11-22 07:52:40.236644: I tensorflow/cc/saved_model/reader.cc:89] Reading meta graph with tags { serve }\n",
      "2022-11-22 07:52:40.236691: I tensorflow/cc/saved_model/reader.cc:130] Reading SavedModel debug info (if present) from: /tmp/tmp_ha4bhid\n",
      "2022-11-22 07:52:40.243781: I tensorflow/cc/saved_model/loader.cc:229] Restoring SavedModel bundle.\n",
      "2022-11-22 07:52:40.302015: I tensorflow/cc/saved_model/loader.cc:213] Running initialization op on SavedModel bundle at path: /tmp/tmp_ha4bhid\n",
      "2022-11-22 07:52:40.317504: I tensorflow/cc/saved_model/loader.cc:305] SavedModel load for tags { serve }; Status: success: OK. Took 83076 microseconds.\n",
      "WARNING:absl:Found untraced functions such as _jit_compiled_convolution_op, _jit_compiled_convolution_op while saving (showing 2 of 2). These functions will not be directly callable after loading.\n"
     ]
    },
    {
     "name": "stdout",
     "output_type": "stream",
     "text": [
      "INFO:tensorflow:Assets written to: /tmp/tmp8gm5jk3q/assets\n"
     ]
    },
    {
     "name": "stderr",
     "output_type": "stream",
     "text": [
      "INFO:tensorflow:Assets written to: /tmp/tmp8gm5jk3q/assets\n",
      "2022-11-22 07:52:42.065923: W tensorflow/compiler/mlir/lite/python/tf_tfl_flatbuffer_helpers.cc:362] Ignored output_format.\n",
      "2022-11-22 07:52:42.066019: W tensorflow/compiler/mlir/lite/python/tf_tfl_flatbuffer_helpers.cc:365] Ignored drop_control_dependency.\n",
      "2022-11-22 07:52:42.066214: I tensorflow/cc/saved_model/reader.cc:45] Reading SavedModel from: /tmp/tmp8gm5jk3q\n",
      "2022-11-22 07:52:42.068350: I tensorflow/cc/saved_model/reader.cc:89] Reading meta graph with tags { serve }\n",
      "2022-11-22 07:52:42.068391: I tensorflow/cc/saved_model/reader.cc:130] Reading SavedModel debug info (if present) from: /tmp/tmp8gm5jk3q\n",
      "2022-11-22 07:52:42.075535: I tensorflow/cc/saved_model/loader.cc:229] Restoring SavedModel bundle.\n",
      "2022-11-22 07:52:42.135794: I tensorflow/cc/saved_model/loader.cc:213] Running initialization op on SavedModel bundle at path: /tmp/tmp8gm5jk3q\n",
      "2022-11-22 07:52:42.151799: I tensorflow/cc/saved_model/loader.cc:305] SavedModel load for tags { serve }; Status: success: OK. Took 85585 microseconds.\n",
      "WARNING:absl:Found untraced functions such as _jit_compiled_convolution_op, _jit_compiled_convolution_op while saving (showing 2 of 2). These functions will not be directly callable after loading.\n"
     ]
    },
    {
     "name": "stdout",
     "output_type": "stream",
     "text": [
      "INFO:tensorflow:Assets written to: /tmp/tmp_r7keu9t/assets\n"
     ]
    },
    {
     "name": "stderr",
     "output_type": "stream",
     "text": [
      "INFO:tensorflow:Assets written to: /tmp/tmp_r7keu9t/assets\n",
      "2022-11-22 07:52:43.904396: W tensorflow/compiler/mlir/lite/python/tf_tfl_flatbuffer_helpers.cc:362] Ignored output_format.\n",
      "2022-11-22 07:52:43.904492: W tensorflow/compiler/mlir/lite/python/tf_tfl_flatbuffer_helpers.cc:365] Ignored drop_control_dependency.\n",
      "2022-11-22 07:52:43.904686: I tensorflow/cc/saved_model/reader.cc:45] Reading SavedModel from: /tmp/tmp_r7keu9t\n",
      "2022-11-22 07:52:43.906800: I tensorflow/cc/saved_model/reader.cc:89] Reading meta graph with tags { serve }\n",
      "2022-11-22 07:52:43.906844: I tensorflow/cc/saved_model/reader.cc:130] Reading SavedModel debug info (if present) from: /tmp/tmp_r7keu9t\n",
      "2022-11-22 07:52:43.913827: I tensorflow/cc/saved_model/loader.cc:229] Restoring SavedModel bundle.\n",
      "2022-11-22 07:52:43.972263: I tensorflow/cc/saved_model/loader.cc:213] Running initialization op on SavedModel bundle at path: /tmp/tmp_r7keu9t\n",
      "2022-11-22 07:52:43.987841: I tensorflow/cc/saved_model/loader.cc:305] SavedModel load for tags { serve }; Status: success: OK. Took 83153 microseconds.\n",
      "WARNING:absl:Found untraced functions such as _jit_compiled_convolution_op, _jit_compiled_convolution_op while saving (showing 2 of 2). These functions will not be directly callable after loading.\n"
     ]
    },
    {
     "name": "stdout",
     "output_type": "stream",
     "text": [
      "INFO:tensorflow:Assets written to: /tmp/tmpm7smn8r8/assets\n"
     ]
    },
    {
     "name": "stderr",
     "output_type": "stream",
     "text": [
      "INFO:tensorflow:Assets written to: /tmp/tmpm7smn8r8/assets\n",
      "2022-11-22 07:52:45.746346: W tensorflow/compiler/mlir/lite/python/tf_tfl_flatbuffer_helpers.cc:362] Ignored output_format.\n",
      "2022-11-22 07:52:45.746432: W tensorflow/compiler/mlir/lite/python/tf_tfl_flatbuffer_helpers.cc:365] Ignored drop_control_dependency.\n",
      "2022-11-22 07:52:45.746624: I tensorflow/cc/saved_model/reader.cc:45] Reading SavedModel from: /tmp/tmpm7smn8r8\n",
      "2022-11-22 07:52:45.748774: I tensorflow/cc/saved_model/reader.cc:89] Reading meta graph with tags { serve }\n",
      "2022-11-22 07:52:45.748814: I tensorflow/cc/saved_model/reader.cc:130] Reading SavedModel debug info (if present) from: /tmp/tmpm7smn8r8\n",
      "2022-11-22 07:52:45.755712: I tensorflow/cc/saved_model/loader.cc:229] Restoring SavedModel bundle.\n",
      "2022-11-22 07:52:45.813590: I tensorflow/cc/saved_model/loader.cc:213] Running initialization op on SavedModel bundle at path: /tmp/tmpm7smn8r8\n",
      "2022-11-22 07:52:45.829367: I tensorflow/cc/saved_model/loader.cc:305] SavedModel load for tags { serve }; Status: success: OK. Took 82741 microseconds.\n",
      "WARNING:absl:Found untraced functions such as _jit_compiled_convolution_op, _jit_compiled_convolution_op while saving (showing 2 of 2). These functions will not be directly callable after loading.\n"
     ]
    },
    {
     "name": "stdout",
     "output_type": "stream",
     "text": [
      "INFO:tensorflow:Assets written to: /tmp/tmp8kphuoka/assets\n"
     ]
    },
    {
     "name": "stderr",
     "output_type": "stream",
     "text": [
      "INFO:tensorflow:Assets written to: /tmp/tmp8kphuoka/assets\n",
      "2022-11-22 07:52:49.381950: W tensorflow/compiler/mlir/lite/python/tf_tfl_flatbuffer_helpers.cc:362] Ignored output_format.\n",
      "2022-11-22 07:52:49.382047: W tensorflow/compiler/mlir/lite/python/tf_tfl_flatbuffer_helpers.cc:365] Ignored drop_control_dependency.\n",
      "2022-11-22 07:52:49.382246: I tensorflow/cc/saved_model/reader.cc:45] Reading SavedModel from: /tmp/tmp8kphuoka\n",
      "2022-11-22 07:52:49.386306: I tensorflow/cc/saved_model/reader.cc:89] Reading meta graph with tags { serve }\n",
      "2022-11-22 07:52:49.386364: I tensorflow/cc/saved_model/reader.cc:130] Reading SavedModel debug info (if present) from: /tmp/tmp8kphuoka\n",
      "2022-11-22 07:52:49.398183: I tensorflow/cc/saved_model/loader.cc:229] Restoring SavedModel bundle.\n",
      "2022-11-22 07:52:49.464904: I tensorflow/cc/saved_model/loader.cc:213] Running initialization op on SavedModel bundle at path: /tmp/tmp8kphuoka\n",
      "2022-11-22 07:52:49.484636: I tensorflow/cc/saved_model/loader.cc:305] SavedModel load for tags { serve }; Status: success: OK. Took 102388 microseconds.\n",
      "WARNING:absl:Found untraced functions such as _jit_compiled_convolution_op, _jit_compiled_convolution_op while saving (showing 2 of 2). These functions will not be directly callable after loading.\n"
     ]
    },
    {
     "name": "stdout",
     "output_type": "stream",
     "text": [
      "INFO:tensorflow:Assets written to: /tmp/tmpuw5pps14/assets\n"
     ]
    },
    {
     "name": "stderr",
     "output_type": "stream",
     "text": [
      "INFO:tensorflow:Assets written to: /tmp/tmpuw5pps14/assets\n",
      "2022-11-22 07:52:51.333043: W tensorflow/compiler/mlir/lite/python/tf_tfl_flatbuffer_helpers.cc:362] Ignored output_format.\n",
      "2022-11-22 07:52:51.333145: W tensorflow/compiler/mlir/lite/python/tf_tfl_flatbuffer_helpers.cc:365] Ignored drop_control_dependency.\n",
      "2022-11-22 07:52:51.333342: I tensorflow/cc/saved_model/reader.cc:45] Reading SavedModel from: /tmp/tmpuw5pps14\n",
      "2022-11-22 07:52:51.335726: I tensorflow/cc/saved_model/reader.cc:89] Reading meta graph with tags { serve }\n",
      "2022-11-22 07:52:51.335775: I tensorflow/cc/saved_model/reader.cc:130] Reading SavedModel debug info (if present) from: /tmp/tmpuw5pps14\n",
      "2022-11-22 07:52:51.343430: I tensorflow/cc/saved_model/loader.cc:229] Restoring SavedModel bundle.\n",
      "2022-11-22 07:52:51.406739: I tensorflow/cc/saved_model/loader.cc:213] Running initialization op on SavedModel bundle at path: /tmp/tmpuw5pps14\n",
      "2022-11-22 07:52:51.423266: I tensorflow/cc/saved_model/loader.cc:305] SavedModel load for tags { serve }; Status: success: OK. Took 89923 microseconds.\n"
     ]
    },
    {
     "data": {
      "image/png": "[encoded data removed]",
      "text/plain": [
       "<Figure size 640x480 with 1 Axes>"
      ]
     },
     "metadata": {},
     "output_type": "display_data"
    },
    {
     "name": "stdout",
     "output_type": "stream",
     "text": [
      "fit df.shape (244756, 40)\n"
     ]
    },
    {
     "name": "stderr",
     "output_type": "stream",
     "text": [
      "WARNING:absl:Found untraced functions such as _jit_compiled_convolution_op, _jit_compiled_convolution_op while saving (showing 2 of 2). These functions will not be directly callable after loading.\n"
     ]
    },
    {
     "name": "stdout",
     "output_type": "stream",
     "text": [
      "INFO:tensorflow:Assets written to: /tmp/tmp74gxo4y8/assets\n"
     ]
    },
    {
     "name": "stderr",
     "output_type": "stream",
     "text": [
      "INFO:tensorflow:Assets written to: /tmp/tmp74gxo4y8/assets\n",
      "2022-11-22 08:00:52.313411: W tensorflow/compiler/mlir/lite/python/tf_tfl_flatbuffer_helpers.cc:362] Ignored output_format.\n",
      "2022-11-22 08:00:52.313506: W tensorflow/compiler/mlir/lite/python/tf_tfl_flatbuffer_helpers.cc:365] Ignored drop_control_dependency.\n",
      "2022-11-22 08:00:52.313708: I tensorflow/cc/saved_model/reader.cc:45] Reading SavedModel from: /tmp/tmp74gxo4y8\n",
      "2022-11-22 08:00:52.315880: I tensorflow/cc/saved_model/reader.cc:89] Reading meta graph with tags { serve }\n",
      "2022-11-22 08:00:52.315923: I tensorflow/cc/saved_model/reader.cc:130] Reading SavedModel debug info (if present) from: /tmp/tmp74gxo4y8\n",
      "2022-11-22 08:00:52.322954: I tensorflow/cc/saved_model/loader.cc:229] Restoring SavedModel bundle.\n",
      "2022-11-22 08:00:52.381998: I tensorflow/cc/saved_model/loader.cc:213] Running initialization op on SavedModel bundle at path: /tmp/tmp74gxo4y8\n",
      "2022-11-22 08:00:52.397435: I tensorflow/cc/saved_model/loader.cc:305] SavedModel load for tags { serve }; Status: success: OK. Took 83726 microseconds.\n",
      "WARNING:absl:Found untraced functions such as _jit_compiled_convolution_op, _jit_compiled_convolution_op while saving (showing 2 of 2). These functions will not be directly callable after loading.\n"
     ]
    },
    {
     "name": "stdout",
     "output_type": "stream",
     "text": [
      "INFO:tensorflow:Assets written to: /tmp/tmp659lwep4/assets\n"
     ]
    },
    {
     "name": "stderr",
     "output_type": "stream",
     "text": [
      "INFO:tensorflow:Assets written to: /tmp/tmp659lwep4/assets\n",
      "2022-11-22 08:00:54.152139: W tensorflow/compiler/mlir/lite/python/tf_tfl_flatbuffer_helpers.cc:362] Ignored output_format.\n",
      "2022-11-22 08:00:54.152224: W tensorflow/compiler/mlir/lite/python/tf_tfl_flatbuffer_helpers.cc:365] Ignored drop_control_dependency.\n",
      "2022-11-22 08:00:54.152414: I tensorflow/cc/saved_model/reader.cc:45] Reading SavedModel from: /tmp/tmp659lwep4\n",
      "2022-11-22 08:00:54.154538: I tensorflow/cc/saved_model/reader.cc:89] Reading meta graph with tags { serve }\n",
      "2022-11-22 08:00:54.154575: I tensorflow/cc/saved_model/reader.cc:130] Reading SavedModel debug info (if present) from: /tmp/tmp659lwep4\n",
      "2022-11-22 08:00:54.161478: I tensorflow/cc/saved_model/loader.cc:229] Restoring SavedModel bundle.\n",
      "2022-11-22 08:00:54.219406: I tensorflow/cc/saved_model/loader.cc:213] Running initialization op on SavedModel bundle at path: /tmp/tmp659lwep4\n",
      "2022-11-22 08:00:54.235062: I tensorflow/cc/saved_model/loader.cc:305] SavedModel load for tags { serve }; Status: success: OK. Took 82647 microseconds.\n",
      "WARNING:absl:Found untraced functions such as _jit_compiled_convolution_op, _jit_compiled_convolution_op while saving (showing 2 of 2). These functions will not be directly callable after loading.\n"
     ]
    },
    {
     "name": "stdout",
     "output_type": "stream",
     "text": [
      "INFO:tensorflow:Assets written to: /tmp/tmp0lqx0c6b/assets\n"
     ]
    },
    {
     "name": "stderr",
     "output_type": "stream",
     "text": [
      "INFO:tensorflow:Assets written to: /tmp/tmp0lqx0c6b/assets\n",
      "2022-11-22 08:00:55.969739: W tensorflow/compiler/mlir/lite/python/tf_tfl_flatbuffer_helpers.cc:362] Ignored output_format.\n",
      "2022-11-22 08:00:55.969834: W tensorflow/compiler/mlir/lite/python/tf_tfl_flatbuffer_helpers.cc:365] Ignored drop_control_dependency.\n",
      "2022-11-22 08:00:55.970028: I tensorflow/cc/saved_model/reader.cc:45] Reading SavedModel from: /tmp/tmp0lqx0c6b\n",
      "2022-11-22 08:00:55.972200: I tensorflow/cc/saved_model/reader.cc:89] Reading meta graph with tags { serve }\n",
      "2022-11-22 08:00:55.972243: I tensorflow/cc/saved_model/reader.cc:130] Reading SavedModel debug info (if present) from: /tmp/tmp0lqx0c6b\n",
      "2022-11-22 08:00:55.979370: I tensorflow/cc/saved_model/loader.cc:229] Restoring SavedModel bundle.\n",
      "2022-11-22 08:00:56.039947: I tensorflow/cc/saved_model/loader.cc:213] Running initialization op on SavedModel bundle at path: /tmp/tmp0lqx0c6b\n",
      "2022-11-22 08:00:56.055485: I tensorflow/cc/saved_model/loader.cc:305] SavedModel load for tags { serve }; Status: success: OK. Took 85456 microseconds.\n",
      "WARNING:absl:Found untraced functions such as _jit_compiled_convolution_op, _jit_compiled_convolution_op while saving (showing 2 of 2). These functions will not be directly callable after loading.\n"
     ]
    },
    {
     "name": "stdout",
     "output_type": "stream",
     "text": [
      "INFO:tensorflow:Assets written to: /tmp/tmp7zyak9c_/assets\n"
     ]
    },
    {
     "name": "stderr",
     "output_type": "stream",
     "text": [
      "INFO:tensorflow:Assets written to: /tmp/tmp7zyak9c_/assets\n",
      "2022-11-22 08:00:57.796409: W tensorflow/compiler/mlir/lite/python/tf_tfl_flatbuffer_helpers.cc:362] Ignored output_format.\n",
      "2022-11-22 08:00:57.796494: W tensorflow/compiler/mlir/lite/python/tf_tfl_flatbuffer_helpers.cc:365] Ignored drop_control_dependency.\n",
      "2022-11-22 08:00:57.796684: I tensorflow/cc/saved_model/reader.cc:45] Reading SavedModel from: /tmp/tmp7zyak9c_\n",
      "2022-11-22 08:00:57.798813: I tensorflow/cc/saved_model/reader.cc:89] Reading meta graph with tags { serve }\n",
      "2022-11-22 08:00:57.798862: I tensorflow/cc/saved_model/reader.cc:130] Reading SavedModel debug info (if present) from: /tmp/tmp7zyak9c_\n",
      "2022-11-22 08:00:57.806026: I tensorflow/cc/saved_model/loader.cc:229] Restoring SavedModel bundle.\n",
      "2022-11-22 08:00:57.865317: I tensorflow/cc/saved_model/loader.cc:213] Running initialization op on SavedModel bundle at path: /tmp/tmp7zyak9c_\n",
      "2022-11-22 08:00:57.880748: I tensorflow/cc/saved_model/loader.cc:305] SavedModel load for tags { serve }; Status: success: OK. Took 84063 microseconds.\n",
      "WARNING:absl:Found untraced functions such as _jit_compiled_convolution_op, _jit_compiled_convolution_op while saving (showing 2 of 2). These functions will not be directly callable after loading.\n"
     ]
    },
    {
     "name": "stdout",
     "output_type": "stream",
     "text": [
      "INFO:tensorflow:Assets written to: /tmp/tmproch0bwb/assets\n"
     ]
    },
    {
     "name": "stderr",
     "output_type": "stream",
     "text": [
      "INFO:tensorflow:Assets written to: /tmp/tmproch0bwb/assets\n",
      "2022-11-22 08:00:59.596282: W tensorflow/compiler/mlir/lite/python/tf_tfl_flatbuffer_helpers.cc:362] Ignored output_format.\n",
      "2022-11-22 08:00:59.596368: W tensorflow/compiler/mlir/lite/python/tf_tfl_flatbuffer_helpers.cc:365] Ignored drop_control_dependency.\n",
      "2022-11-22 08:00:59.596558: I tensorflow/cc/saved_model/reader.cc:45] Reading SavedModel from: /tmp/tmproch0bwb\n",
      "2022-11-22 08:00:59.598673: I tensorflow/cc/saved_model/reader.cc:89] Reading meta graph with tags { serve }\n",
      "2022-11-22 08:00:59.598711: I tensorflow/cc/saved_model/reader.cc:130] Reading SavedModel debug info (if present) from: /tmp/tmproch0bwb\n",
      "2022-11-22 08:00:59.605738: I tensorflow/cc/saved_model/loader.cc:229] Restoring SavedModel bundle.\n",
      "2022-11-22 08:00:59.664209: I tensorflow/cc/saved_model/loader.cc:213] Running initialization op on SavedModel bundle at path: /tmp/tmproch0bwb\n",
      "2022-11-22 08:00:59.679473: I tensorflow/cc/saved_model/loader.cc:305] SavedModel load for tags { serve }; Status: success: OK. Took 82915 microseconds.\n",
      "WARNING:absl:Found untraced functions such as _jit_compiled_convolution_op, _jit_compiled_convolution_op while saving (showing 2 of 2). These functions will not be directly callable after loading.\n"
     ]
    },
    {
     "name": "stdout",
     "output_type": "stream",
     "text": [
      "INFO:tensorflow:Assets written to: /tmp/tmp9u679jg8/assets\n"
     ]
    },
    {
     "name": "stderr",
     "output_type": "stream",
     "text": [
      "INFO:tensorflow:Assets written to: /tmp/tmp9u679jg8/assets\n",
      "2022-11-22 08:01:01.417568: W tensorflow/compiler/mlir/lite/python/tf_tfl_flatbuffer_helpers.cc:362] Ignored output_format.\n",
      "2022-11-22 08:01:01.417654: W tensorflow/compiler/mlir/lite/python/tf_tfl_flatbuffer_helpers.cc:365] Ignored drop_control_dependency.\n",
      "2022-11-22 08:01:01.417858: I tensorflow/cc/saved_model/reader.cc:45] Reading SavedModel from: /tmp/tmp9u679jg8\n",
      "2022-11-22 08:01:01.420039: I tensorflow/cc/saved_model/reader.cc:89] Reading meta graph with tags { serve }\n",
      "2022-11-22 08:01:01.420080: I tensorflow/cc/saved_model/reader.cc:130] Reading SavedModel debug info (if present) from: /tmp/tmp9u679jg8\n",
      "2022-11-22 08:01:01.426937: I tensorflow/cc/saved_model/loader.cc:229] Restoring SavedModel bundle.\n",
      "2022-11-22 08:01:01.484759: I tensorflow/cc/saved_model/loader.cc:213] Running initialization op on SavedModel bundle at path: /tmp/tmp9u679jg8\n",
      "2022-11-22 08:01:01.500020: I tensorflow/cc/saved_model/loader.cc:305] SavedModel load for tags { serve }; Status: success: OK. Took 82161 microseconds.\n",
      "WARNING:absl:Found untraced functions such as _jit_compiled_convolution_op, _jit_compiled_convolution_op while saving (showing 2 of 2). These functions will not be directly callable after loading.\n"
     ]
    },
    {
     "name": "stdout",
     "output_type": "stream",
     "text": [
      "INFO:tensorflow:Assets written to: /tmp/tmpmlo5l5wn/assets\n"
     ]
    },
    {
     "name": "stderr",
     "output_type": "stream",
     "text": [
      "INFO:tensorflow:Assets written to: /tmp/tmpmlo5l5wn/assets\n",
      "2022-11-22 08:01:03.234978: W tensorflow/compiler/mlir/lite/python/tf_tfl_flatbuffer_helpers.cc:362] Ignored output_format.\n",
      "2022-11-22 08:01:03.235062: W tensorflow/compiler/mlir/lite/python/tf_tfl_flatbuffer_helpers.cc:365] Ignored drop_control_dependency.\n",
      "2022-11-22 08:01:03.235252: I tensorflow/cc/saved_model/reader.cc:45] Reading SavedModel from: /tmp/tmpmlo5l5wn\n",
      "2022-11-22 08:01:03.237364: I tensorflow/cc/saved_model/reader.cc:89] Reading meta graph with tags { serve }\n",
      "2022-11-22 08:01:03.237404: I tensorflow/cc/saved_model/reader.cc:130] Reading SavedModel debug info (if present) from: /tmp/tmpmlo5l5wn\n",
      "2022-11-22 08:01:03.244366: I tensorflow/cc/saved_model/loader.cc:229] Restoring SavedModel bundle.\n",
      "2022-11-22 08:01:03.301990: I tensorflow/cc/saved_model/loader.cc:213] Running initialization op on SavedModel bundle at path: /tmp/tmpmlo5l5wn\n",
      "2022-11-22 08:01:03.317338: I tensorflow/cc/saved_model/loader.cc:305] SavedModel load for tags { serve }; Status: success: OK. Took 82086 microseconds.\n",
      "WARNING:absl:Found untraced functions such as _jit_compiled_convolution_op, _jit_compiled_convolution_op while saving (showing 2 of 2). These functions will not be directly callable after loading.\n"
     ]
    },
    {
     "name": "stdout",
     "output_type": "stream",
     "text": [
      "INFO:tensorflow:Assets written to: /tmp/tmp7o2vh51k/assets\n"
     ]
    },
    {
     "name": "stderr",
     "output_type": "stream",
     "text": [
      "INFO:tensorflow:Assets written to: /tmp/tmp7o2vh51k/assets\n",
      "2022-11-22 08:01:05.048065: W tensorflow/compiler/mlir/lite/python/tf_tfl_flatbuffer_helpers.cc:362] Ignored output_format.\n",
      "2022-11-22 08:01:05.048151: W tensorflow/compiler/mlir/lite/python/tf_tfl_flatbuffer_helpers.cc:365] Ignored drop_control_dependency.\n",
      "2022-11-22 08:01:05.048342: I tensorflow/cc/saved_model/reader.cc:45] Reading SavedModel from: /tmp/tmp7o2vh51k\n",
      "2022-11-22 08:01:05.050448: I tensorflow/cc/saved_model/reader.cc:89] Reading meta graph with tags { serve }\n",
      "2022-11-22 08:01:05.050487: I tensorflow/cc/saved_model/reader.cc:130] Reading SavedModel debug info (if present) from: /tmp/tmp7o2vh51k\n",
      "2022-11-22 08:01:05.057508: I tensorflow/cc/saved_model/loader.cc:229] Restoring SavedModel bundle.\n",
      "2022-11-22 08:01:05.116999: I tensorflow/cc/saved_model/loader.cc:213] Running initialization op on SavedModel bundle at path: /tmp/tmp7o2vh51k\n",
      "2022-11-22 08:01:05.132889: I tensorflow/cc/saved_model/loader.cc:305] SavedModel load for tags { serve }; Status: success: OK. Took 84547 microseconds.\n",
      "WARNING:absl:Found untraced functions such as _jit_compiled_convolution_op, _jit_compiled_convolution_op while saving (showing 2 of 2). These functions will not be directly callable after loading.\n"
     ]
    },
    {
     "name": "stdout",
     "output_type": "stream",
     "text": [
      "INFO:tensorflow:Assets written to: /tmp/tmpbddx65xy/assets\n"
     ]
    },
    {
     "name": "stderr",
     "output_type": "stream",
     "text": [
      "INFO:tensorflow:Assets written to: /tmp/tmpbddx65xy/assets\n",
      "2022-11-22 08:01:06.865922: W tensorflow/compiler/mlir/lite/python/tf_tfl_flatbuffer_helpers.cc:362] Ignored output_format.\n",
      "2022-11-22 08:01:06.866012: W tensorflow/compiler/mlir/lite/python/tf_tfl_flatbuffer_helpers.cc:365] Ignored drop_control_dependency.\n",
      "2022-11-22 08:01:06.866205: I tensorflow/cc/saved_model/reader.cc:45] Reading SavedModel from: /tmp/tmpbddx65xy\n",
      "2022-11-22 08:01:06.868328: I tensorflow/cc/saved_model/reader.cc:89] Reading meta graph with tags { serve }\n",
      "2022-11-22 08:01:06.868368: I tensorflow/cc/saved_model/reader.cc:130] Reading SavedModel debug info (if present) from: /tmp/tmpbddx65xy\n",
      "2022-11-22 08:01:06.875171: I tensorflow/cc/saved_model/loader.cc:229] Restoring SavedModel bundle.\n",
      "2022-11-22 08:01:06.932178: I tensorflow/cc/saved_model/loader.cc:213] Running initialization op on SavedModel bundle at path: /tmp/tmpbddx65xy\n",
      "2022-11-22 08:01:06.947292: I tensorflow/cc/saved_model/loader.cc:305] SavedModel load for tags { serve }; Status: success: OK. Took 81087 microseconds.\n",
      "WARNING:absl:Found untraced functions such as _jit_compiled_convolution_op, _jit_compiled_convolution_op while saving (showing 2 of 2). These functions will not be directly callable after loading.\n"
     ]
    },
    {
     "name": "stdout",
     "output_type": "stream",
     "text": [
      "INFO:tensorflow:Assets written to: /tmp/tmplj8peh89/assets\n"
     ]
    },
    {
     "name": "stderr",
     "output_type": "stream",
     "text": [
      "INFO:tensorflow:Assets written to: /tmp/tmplj8peh89/assets\n",
      "2022-11-22 08:01:08.677201: W tensorflow/compiler/mlir/lite/python/tf_tfl_flatbuffer_helpers.cc:362] Ignored output_format.\n",
      "2022-11-22 08:01:08.677287: W tensorflow/compiler/mlir/lite/python/tf_tfl_flatbuffer_helpers.cc:365] Ignored drop_control_dependency.\n",
      "2022-11-22 08:01:08.677475: I tensorflow/cc/saved_model/reader.cc:45] Reading SavedModel from: /tmp/tmplj8peh89\n",
      "2022-11-22 08:01:08.679634: I tensorflow/cc/saved_model/reader.cc:89] Reading meta graph with tags { serve }\n",
      "2022-11-22 08:01:08.679680: I tensorflow/cc/saved_model/reader.cc:130] Reading SavedModel debug info (if present) from: /tmp/tmplj8peh89\n",
      "2022-11-22 08:01:08.686694: I tensorflow/cc/saved_model/loader.cc:229] Restoring SavedModel bundle.\n",
      "2022-11-22 08:01:08.744942: I tensorflow/cc/saved_model/loader.cc:213] Running initialization op on SavedModel bundle at path: /tmp/tmplj8peh89\n",
      "2022-11-22 08:01:08.759889: I tensorflow/cc/saved_model/loader.cc:305] SavedModel load for tags { serve }; Status: success: OK. Took 82414 microseconds.\n"
     ]
    },
    {
     "data": {
      "image/png": "[encoded data removed]",
      "text/plain": [
       "<Figure size 640x480 with 1 Axes>"
      ]
     },
     "metadata": {},
     "output_type": "display_data"
    },
    {
     "name": "stdout",
     "output_type": "stream",
     "text": [
      "fit df.shape (226471, 40)\n"
     ]
    },
    {
     "name": "stderr",
     "output_type": "stream",
     "text": [
      "WARNING:absl:Found untraced functions such as _jit_compiled_convolution_op, _jit_compiled_convolution_op while saving (showing 2 of 2). These functions will not be directly callable after loading.\n"
     ]
    },
    {
     "name": "stdout",
     "output_type": "stream",
     "text": [
      "INFO:tensorflow:Assets written to: /tmp/tmp9slwpxlo/assets\n"
     ]
    },
    {
     "name": "stderr",
     "output_type": "stream",
     "text": [
      "INFO:tensorflow:Assets written to: /tmp/tmp9slwpxlo/assets\n",
      "2022-11-22 08:09:18.430171: W tensorflow/compiler/mlir/lite/python/tf_tfl_flatbuffer_helpers.cc:362] Ignored output_format.\n",
      "2022-11-22 08:09:18.430270: W tensorflow/compiler/mlir/lite/python/tf_tfl_flatbuffer_helpers.cc:365] Ignored drop_control_dependency.\n",
      "2022-11-22 08:09:18.430478: I tensorflow/cc/saved_model/reader.cc:45] Reading SavedModel from: /tmp/tmp9slwpxlo\n",
      "2022-11-22 08:09:18.432744: I tensorflow/cc/saved_model/reader.cc:89] Reading meta graph with tags { serve }\n",
      "2022-11-22 08:09:18.432797: I tensorflow/cc/saved_model/reader.cc:130] Reading SavedModel debug info (if present) from: /tmp/tmp9slwpxlo\n",
      "2022-11-22 08:09:18.440232: I tensorflow/cc/saved_model/loader.cc:229] Restoring SavedModel bundle.\n",
      "2022-11-22 08:09:18.502380: I tensorflow/cc/saved_model/loader.cc:213] Running initialization op on SavedModel bundle at path: /tmp/tmp9slwpxlo\n",
      "2022-11-22 08:09:18.519143: I tensorflow/cc/saved_model/loader.cc:305] SavedModel load for tags { serve }; Status: success: OK. Took 88646 microseconds.\n",
      "WARNING:absl:Found untraced functions such as _jit_compiled_convolution_op, _jit_compiled_convolution_op while saving (showing 2 of 2). These functions will not be directly callable after loading.\n"
     ]
    },
    {
     "name": "stdout",
     "output_type": "stream",
     "text": [
      "INFO:tensorflow:Assets written to: /tmp/tmpx1gomuc3/assets\n"
     ]
    },
    {
     "name": "stderr",
     "output_type": "stream",
     "text": [
      "INFO:tensorflow:Assets written to: /tmp/tmpx1gomuc3/assets\n",
      "2022-11-22 08:09:20.322196: W tensorflow/compiler/mlir/lite/python/tf_tfl_flatbuffer_helpers.cc:362] Ignored output_format.\n",
      "2022-11-22 08:09:20.322293: W tensorflow/compiler/mlir/lite/python/tf_tfl_flatbuffer_helpers.cc:365] Ignored drop_control_dependency.\n",
      "2022-11-22 08:09:20.322488: I tensorflow/cc/saved_model/reader.cc:45] Reading SavedModel from: /tmp/tmpx1gomuc3\n",
      "2022-11-22 08:09:20.324650: I tensorflow/cc/saved_model/reader.cc:89] Reading meta graph with tags { serve }\n",
      "2022-11-22 08:09:20.324696: I tensorflow/cc/saved_model/reader.cc:130] Reading SavedModel debug info (if present) from: /tmp/tmpx1gomuc3\n",
      "2022-11-22 08:09:20.331891: I tensorflow/cc/saved_model/loader.cc:229] Restoring SavedModel bundle.\n",
      "2022-11-22 08:09:20.391697: I tensorflow/cc/saved_model/loader.cc:213] Running initialization op on SavedModel bundle at path: /tmp/tmpx1gomuc3\n",
      "2022-11-22 08:09:20.407862: I tensorflow/cc/saved_model/loader.cc:305] SavedModel load for tags { serve }; Status: success: OK. Took 85373 microseconds.\n",
      "WARNING:absl:Found untraced functions such as _jit_compiled_convolution_op, _jit_compiled_convolution_op while saving (showing 2 of 2). These functions will not be directly callable after loading.\n"
     ]
    },
    {
     "name": "stdout",
     "output_type": "stream",
     "text": [
      "INFO:tensorflow:Assets written to: /tmp/tmp81nx1odb/assets\n"
     ]
    },
    {
     "name": "stderr",
     "output_type": "stream",
     "text": [
      "INFO:tensorflow:Assets written to: /tmp/tmp81nx1odb/assets\n",
      "2022-11-22 08:09:22.201207: W tensorflow/compiler/mlir/lite/python/tf_tfl_flatbuffer_helpers.cc:362] Ignored output_format.\n",
      "2022-11-22 08:09:22.201306: W tensorflow/compiler/mlir/lite/python/tf_tfl_flatbuffer_helpers.cc:365] Ignored drop_control_dependency.\n",
      "2022-11-22 08:09:22.201503: I tensorflow/cc/saved_model/reader.cc:45] Reading SavedModel from: /tmp/tmp81nx1odb\n",
      "2022-11-22 08:09:22.203690: I tensorflow/cc/saved_model/reader.cc:89] Reading meta graph with tags { serve }\n",
      "2022-11-22 08:09:22.203735: I tensorflow/cc/saved_model/reader.cc:130] Reading SavedModel debug info (if present) from: /tmp/tmp81nx1odb\n",
      "2022-11-22 08:09:22.210934: I tensorflow/cc/saved_model/loader.cc:229] Restoring SavedModel bundle.\n",
      "2022-11-22 08:09:22.271125: I tensorflow/cc/saved_model/loader.cc:213] Running initialization op on SavedModel bundle at path: /tmp/tmp81nx1odb\n",
      "2022-11-22 08:09:22.287447: I tensorflow/cc/saved_model/loader.cc:305] SavedModel load for tags { serve }; Status: success: OK. Took 85942 microseconds.\n",
      "WARNING:absl:Found untraced functions such as _jit_compiled_convolution_op, _jit_compiled_convolution_op while saving (showing 2 of 2). These functions will not be directly callable after loading.\n"
     ]
    },
    {
     "name": "stdout",
     "output_type": "stream",
     "text": [
      "INFO:tensorflow:Assets written to: /tmp/tmpb3inlovv/assets\n"
     ]
    },
    {
     "name": "stderr",
     "output_type": "stream",
     "text": [
      "INFO:tensorflow:Assets written to: /tmp/tmpb3inlovv/assets\n",
      "2022-11-22 08:09:24.092367: W tensorflow/compiler/mlir/lite/python/tf_tfl_flatbuffer_helpers.cc:362] Ignored output_format.\n",
      "2022-11-22 08:09:24.092467: W tensorflow/compiler/mlir/lite/python/tf_tfl_flatbuffer_helpers.cc:365] Ignored drop_control_dependency.\n",
      "2022-11-22 08:09:24.092667: I tensorflow/cc/saved_model/reader.cc:45] Reading SavedModel from: /tmp/tmpb3inlovv\n",
      "2022-11-22 08:09:24.094811: I tensorflow/cc/saved_model/reader.cc:89] Reading meta graph with tags { serve }\n",
      "2022-11-22 08:09:24.094855: I tensorflow/cc/saved_model/reader.cc:130] Reading SavedModel debug info (if present) from: /tmp/tmpb3inlovv\n",
      "2022-11-22 08:09:24.102033: I tensorflow/cc/saved_model/loader.cc:229] Restoring SavedModel bundle.\n",
      "2022-11-22 08:09:24.162236: I tensorflow/cc/saved_model/loader.cc:213] Running initialization op on SavedModel bundle at path: /tmp/tmpb3inlovv\n",
      "2022-11-22 08:09:24.178778: I tensorflow/cc/saved_model/loader.cc:305] SavedModel load for tags { serve }; Status: success: OK. Took 86109 microseconds.\n",
      "WARNING:absl:Found untraced functions such as _jit_compiled_convolution_op, _jit_compiled_convolution_op while saving (showing 2 of 2). These functions will not be directly callable after loading.\n"
     ]
    },
    {
     "name": "stdout",
     "output_type": "stream",
     "text": [
      "INFO:tensorflow:Assets written to: /tmp/tmp0k_20erz/assets\n"
     ]
    },
    {
     "name": "stderr",
     "output_type": "stream",
     "text": [
      "INFO:tensorflow:Assets written to: /tmp/tmp0k_20erz/assets\n",
      "2022-11-22 08:09:25.997997: W tensorflow/compiler/mlir/lite/python/tf_tfl_flatbuffer_helpers.cc:362] Ignored output_format.\n",
      "2022-11-22 08:09:25.998088: W tensorflow/compiler/mlir/lite/python/tf_tfl_flatbuffer_helpers.cc:365] Ignored drop_control_dependency.\n",
      "2022-11-22 08:09:25.998279: I tensorflow/cc/saved_model/reader.cc:45] Reading SavedModel from: /tmp/tmp0k_20erz\n",
      "2022-11-22 08:09:26.000552: I tensorflow/cc/saved_model/reader.cc:89] Reading meta graph with tags { serve }\n",
      "2022-11-22 08:09:26.000600: I tensorflow/cc/saved_model/reader.cc:130] Reading SavedModel debug info (if present) from: /tmp/tmp0k_20erz\n",
      "2022-11-22 08:09:26.007916: I tensorflow/cc/saved_model/loader.cc:229] Restoring SavedModel bundle.\n",
      "2022-11-22 08:09:26.068557: I tensorflow/cc/saved_model/loader.cc:213] Running initialization op on SavedModel bundle at path: /tmp/tmp0k_20erz\n",
      "2022-11-22 08:09:26.084248: I tensorflow/cc/saved_model/loader.cc:305] SavedModel load for tags { serve }; Status: success: OK. Took 85967 microseconds.\n",
      "WARNING:absl:Found untraced functions such as _jit_compiled_convolution_op, _jit_compiled_convolution_op while saving (showing 2 of 2). These functions will not be directly callable after loading.\n"
     ]
    },
    {
     "name": "stdout",
     "output_type": "stream",
     "text": [
      "INFO:tensorflow:Assets written to: /tmp/tmpb405gnr8/assets\n"
     ]
    },
    {
     "name": "stderr",
     "output_type": "stream",
     "text": [
      "INFO:tensorflow:Assets written to: /tmp/tmpb405gnr8/assets\n",
      "2022-11-22 08:09:27.872275: W tensorflow/compiler/mlir/lite/python/tf_tfl_flatbuffer_helpers.cc:362] Ignored output_format.\n",
      "2022-11-22 08:09:27.872364: W tensorflow/compiler/mlir/lite/python/tf_tfl_flatbuffer_helpers.cc:365] Ignored drop_control_dependency.\n",
      "2022-11-22 08:09:27.872556: I tensorflow/cc/saved_model/reader.cc:45] Reading SavedModel from: /tmp/tmpb405gnr8\n",
      "2022-11-22 08:09:27.874650: I tensorflow/cc/saved_model/reader.cc:89] Reading meta graph with tags { serve }\n",
      "2022-11-22 08:09:27.874693: I tensorflow/cc/saved_model/reader.cc:130] Reading SavedModel debug info (if present) from: /tmp/tmpb405gnr8\n",
      "2022-11-22 08:09:27.881637: I tensorflow/cc/saved_model/loader.cc:229] Restoring SavedModel bundle.\n",
      "2022-11-22 08:09:27.941514: I tensorflow/cc/saved_model/loader.cc:213] Running initialization op on SavedModel bundle at path: /tmp/tmpb405gnr8\n",
      "2022-11-22 08:09:27.957344: I tensorflow/cc/saved_model/loader.cc:305] SavedModel load for tags { serve }; Status: success: OK. Took 84788 microseconds.\n",
      "WARNING:absl:Found untraced functions such as _jit_compiled_convolution_op, _jit_compiled_convolution_op while saving (showing 2 of 2). These functions will not be directly callable after loading.\n"
     ]
    },
    {
     "name": "stdout",
     "output_type": "stream",
     "text": [
      "INFO:tensorflow:Assets written to: /tmp/tmpn9z51ywg/assets\n"
     ]
    },
    {
     "name": "stderr",
     "output_type": "stream",
     "text": [
      "INFO:tensorflow:Assets written to: /tmp/tmpn9z51ywg/assets\n",
      "2022-11-22 08:09:29.701932: W tensorflow/compiler/mlir/lite/python/tf_tfl_flatbuffer_helpers.cc:362] Ignored output_format.\n",
      "2022-11-22 08:09:29.702018: W tensorflow/compiler/mlir/lite/python/tf_tfl_flatbuffer_helpers.cc:365] Ignored drop_control_dependency.\n",
      "2022-11-22 08:09:29.702210: I tensorflow/cc/saved_model/reader.cc:45] Reading SavedModel from: /tmp/tmpn9z51ywg\n",
      "2022-11-22 08:09:29.704419: I tensorflow/cc/saved_model/reader.cc:89] Reading meta graph with tags { serve }\n",
      "2022-11-22 08:09:29.704466: I tensorflow/cc/saved_model/reader.cc:130] Reading SavedModel debug info (if present) from: /tmp/tmpn9z51ywg\n",
      "2022-11-22 08:09:29.711645: I tensorflow/cc/saved_model/loader.cc:229] Restoring SavedModel bundle.\n",
      "2022-11-22 08:09:29.770459: I tensorflow/cc/saved_model/loader.cc:213] Running initialization op on SavedModel bundle at path: /tmp/tmpn9z51ywg\n",
      "2022-11-22 08:09:29.785990: I tensorflow/cc/saved_model/loader.cc:305] SavedModel load for tags { serve }; Status: success: OK. Took 83778 microseconds.\n",
      "WARNING:absl:Found untraced functions such as _jit_compiled_convolution_op, _jit_compiled_convolution_op while saving (showing 2 of 2). These functions will not be directly callable after loading.\n"
     ]
    },
    {
     "name": "stdout",
     "output_type": "stream",
     "text": [
      "INFO:tensorflow:Assets written to: /tmp/tmpr0bxkp99/assets\n"
     ]
    },
    {
     "name": "stderr",
     "output_type": "stream",
     "text": [
      "INFO:tensorflow:Assets written to: /tmp/tmpr0bxkp99/assets\n",
      "2022-11-22 08:09:31.580100: W tensorflow/compiler/mlir/lite/python/tf_tfl_flatbuffer_helpers.cc:362] Ignored output_format.\n",
      "2022-11-22 08:09:31.580196: W tensorflow/compiler/mlir/lite/python/tf_tfl_flatbuffer_helpers.cc:365] Ignored drop_control_dependency.\n",
      "2022-11-22 08:09:31.580390: I tensorflow/cc/saved_model/reader.cc:45] Reading SavedModel from: /tmp/tmpr0bxkp99\n",
      "2022-11-22 08:09:31.582519: I tensorflow/cc/saved_model/reader.cc:89] Reading meta graph with tags { serve }\n",
      "2022-11-22 08:09:31.582563: I tensorflow/cc/saved_model/reader.cc:130] Reading SavedModel debug info (if present) from: /tmp/tmpr0bxkp99\n",
      "2022-11-22 08:09:31.589825: I tensorflow/cc/saved_model/loader.cc:229] Restoring SavedModel bundle.\n",
      "2022-11-22 08:09:31.649257: I tensorflow/cc/saved_model/loader.cc:213] Running initialization op on SavedModel bundle at path: /tmp/tmpr0bxkp99\n",
      "2022-11-22 08:09:31.665075: I tensorflow/cc/saved_model/loader.cc:305] SavedModel load for tags { serve }; Status: success: OK. Took 84683 microseconds.\n",
      "WARNING:absl:Found untraced functions such as _jit_compiled_convolution_op, _jit_compiled_convolution_op while saving (showing 2 of 2). These functions will not be directly callable after loading.\n"
     ]
    },
    {
     "name": "stdout",
     "output_type": "stream",
     "text": [
      "INFO:tensorflow:Assets written to: /tmp/tmp90zyxz7q/assets\n"
     ]
    },
    {
     "name": "stderr",
     "output_type": "stream",
     "text": [
      "INFO:tensorflow:Assets written to: /tmp/tmp90zyxz7q/assets\n",
      "2022-11-22 08:09:33.446290: W tensorflow/compiler/mlir/lite/python/tf_tfl_flatbuffer_helpers.cc:362] Ignored output_format.\n",
      "2022-11-22 08:09:33.446391: W tensorflow/compiler/mlir/lite/python/tf_tfl_flatbuffer_helpers.cc:365] Ignored drop_control_dependency.\n",
      "2022-11-22 08:09:33.446586: I tensorflow/cc/saved_model/reader.cc:45] Reading SavedModel from: /tmp/tmp90zyxz7q\n",
      "2022-11-22 08:09:33.448730: I tensorflow/cc/saved_model/reader.cc:89] Reading meta graph with tags { serve }\n",
      "2022-11-22 08:09:33.448776: I tensorflow/cc/saved_model/reader.cc:130] Reading SavedModel debug info (if present) from: /tmp/tmp90zyxz7q\n",
      "2022-11-22 08:09:33.456071: I tensorflow/cc/saved_model/loader.cc:229] Restoring SavedModel bundle.\n",
      "2022-11-22 08:09:33.517801: I tensorflow/cc/saved_model/loader.cc:213] Running initialization op on SavedModel bundle at path: /tmp/tmp90zyxz7q\n",
      "2022-11-22 08:09:33.534297: I tensorflow/cc/saved_model/loader.cc:305] SavedModel load for tags { serve }; Status: success: OK. Took 87710 microseconds.\n",
      "WARNING:absl:Found untraced functions such as _jit_compiled_convolution_op, _jit_compiled_convolution_op while saving (showing 2 of 2). These functions will not be directly callable after loading.\n"
     ]
    },
    {
     "name": "stdout",
     "output_type": "stream",
     "text": [
      "INFO:tensorflow:Assets written to: /tmp/tmp6i4jc2s9/assets\n"
     ]
    },
    {
     "name": "stderr",
     "output_type": "stream",
     "text": [
      "INFO:tensorflow:Assets written to: /tmp/tmp6i4jc2s9/assets\n",
      "2022-11-22 08:09:35.308909: W tensorflow/compiler/mlir/lite/python/tf_tfl_flatbuffer_helpers.cc:362] Ignored output_format.\n",
      "2022-11-22 08:09:35.308998: W tensorflow/compiler/mlir/lite/python/tf_tfl_flatbuffer_helpers.cc:365] Ignored drop_control_dependency.\n",
      "2022-11-22 08:09:35.309191: I tensorflow/cc/saved_model/reader.cc:45] Reading SavedModel from: /tmp/tmp6i4jc2s9\n",
      "2022-11-22 08:09:35.311325: I tensorflow/cc/saved_model/reader.cc:89] Reading meta graph with tags { serve }\n",
      "2022-11-22 08:09:35.311371: I tensorflow/cc/saved_model/reader.cc:130] Reading SavedModel debug info (if present) from: /tmp/tmp6i4jc2s9\n",
      "2022-11-22 08:09:35.321012: I tensorflow/cc/saved_model/loader.cc:229] Restoring SavedModel bundle.\n",
      "2022-11-22 08:09:35.383361: I tensorflow/cc/saved_model/loader.cc:213] Running initialization op on SavedModel bundle at path: /tmp/tmp6i4jc2s9\n",
      "2022-11-22 08:09:35.399367: I tensorflow/cc/saved_model/loader.cc:305] SavedModel load for tags { serve }; Status: success: OK. Took 90176 microseconds.\n"
     ]
    },
    {
     "data": {
      "image/png": "[encoded data removed]",
      "text/plain": [
       "<Figure size 640x480 with 1 Axes>"
      ]
     },
     "metadata": {},
     "output_type": "display_data"
    },
    {
     "name": "stdout",
     "output_type": "stream",
     "text": [
      "return without cost statistics\n",
      "mean 0.0018316312960193956\n",
      "std 0.020801320708626028\n",
      "sharpe 0.088053605906852\n",
      "double sharpe 1.3083624993528056\n",
      "max drawdown 5.84207669526372\n",
      "min -0.5711515739392516\n",
      "min sharpe 0.003206909303228516\n",
      "return with cost statistics\n",
      "mean 0.0007960904078946179\n",
      "std 0.020804318632965613\n",
      "sharpe 0.038265632340064616\n",
      "double sharpe 0.2868626776386072\n",
      "max drawdown 7.16285702144873\n",
      "min -0.5726515740104978\n",
      "min sharpe 0.0013901828686495917\n"
     ]
    },
    {
     "data": {
      "image/png": "[encoded data removed]",
      "text/plain": [
       "<Figure size 640x480 with 1 Axes>"
      ]
     },
     "metadata": {},
     "output_type": "display_data"
    },
    {
     "data": {
      "image/png": "[encoded data removed]",
      "text/plain": [
       "<Figure size 640x480 with 1 Axes>"
      ]
     },
     "metadata": {},
     "output_type": "display_data"
    },
    {
     "data": {
      "image/png": "[encoded data removed]",
      "text/plain": [
       "<Figure size 640x480 with 1 Axes>"
      ]
     },
     "metadata": {},
     "output_type": "display_data"
    },
    {
     "data": {
      "image/png": "[encoded data removed]",
      "text/plain": [
       "<Figure size 640x480 with 1 Axes>"
      ]
     },
     "metadata": {},
     "output_type": "display_data"
    },
    {
     "data": {
      "image/png": "[encoded data removed]",
      "text/plain": [
       "<Figure size 640x480 with 1 Axes>"
      ]
     },
     "metadata": {},
     "output_type": "display_data"
    },
    {
     "name": "stdout",
     "output_type": "stream",
     "text": [
      "return without cost statistics\n",
      "mean 0.0014361955983314373\n",
      "std 0.009730078150562354\n",
      "sharpe 0.14760370637397519\n",
      "double sharpe 1.201071927831144\n",
      "max drawdown 2.1692936265761844\n",
      "min -0.1304559628178122\n",
      "min sharpe 0.011009045254122659\n",
      "return with cost statistics\n",
      "mean 0.00036740618336223704\n",
      "std 0.009728704198920836\n",
      "sharpe 0.03776517158400107\n",
      "double sharpe 0.10501512164574772\n",
      "max drawdown 5.097937308459112\n",
      "min -0.13218170407244362\n",
      "min sharpe 0.002779553993046391\n"
     ]
    },
    {
     "data": {
      "image/png": "[encoded data removed]",
      "text/plain": [
       "<Figure size 640x480 with 1 Axes>"
      ]
     },
     "metadata": {},
     "output_type": "display_data"
    },
    {
     "data": {
      "image/png": "[encoded data removed]",
      "text/plain": [
       "<Figure size 640x480 with 1 Axes>"
      ]
     },
     "metadata": {},
     "output_type": "display_data"
    },
    {
     "data": {
      "image/png": "[encoded data removed]",
      "text/plain": [
       "<Figure size 640x480 with 1 Axes>"
      ]
     },
     "metadata": {},
     "output_type": "display_data"
    },
    {
     "data": {
      "image/png": "[encoded data removed]",
      "text/plain": [
       "<Figure size 640x480 with 1 Axes>"
      ]
     },
     "metadata": {},
     "output_type": "display_data"
    },
    {
     "data": {
      "image/png": "[encoded data removed]",
      "text/plain": [
       "<Figure size 640x480 with 1 Axes>"
      ]
     },
     "metadata": {},
     "output_type": "display_data"
    },
    {
     "name": "stdout",
     "output_type": "stream",
     "text": [
      "fit df.shape (351166, 40)\n"
     ]
    },
    {
     "name": "stderr",
     "output_type": "stream",
     "text": [
      "WARNING:absl:Found untraced functions such as _jit_compiled_convolution_op, _jit_compiled_convolution_op while saving (showing 2 of 2). These functions will not be directly callable after loading.\n"
     ]
    },
    {
     "name": "stdout",
     "output_type": "stream",
     "text": [
      "INFO:tensorflow:Assets written to: /tmp/tmpk8rulfep/assets\n"
     ]
    },
    {
     "name": "stderr",
     "output_type": "stream",
     "text": [
      "INFO:tensorflow:Assets written to: /tmp/tmpk8rulfep/assets\n",
      "2022-11-22 10:12:40.024607: W tensorflow/compiler/mlir/lite/python/tf_tfl_flatbuffer_helpers.cc:362] Ignored output_format.\n",
      "2022-11-22 10:12:40.024707: W tensorflow/compiler/mlir/lite/python/tf_tfl_flatbuffer_helpers.cc:365] Ignored drop_control_dependency.\n",
      "2022-11-22 10:12:40.024919: I tensorflow/cc/saved_model/reader.cc:45] Reading SavedModel from: /tmp/tmpk8rulfep\n",
      "2022-11-22 10:12:40.027158: I tensorflow/cc/saved_model/reader.cc:89] Reading meta graph with tags { serve }\n",
      "2022-11-22 10:12:40.027213: I tensorflow/cc/saved_model/reader.cc:130] Reading SavedModel debug info (if present) from: /tmp/tmpk8rulfep\n",
      "2022-11-22 10:12:40.034920: I tensorflow/cc/saved_model/loader.cc:229] Restoring SavedModel bundle.\n",
      "2022-11-22 10:12:40.098120: I tensorflow/cc/saved_model/loader.cc:213] Running initialization op on SavedModel bundle at path: /tmp/tmpk8rulfep\n",
      "2022-11-22 10:12:40.115528: I tensorflow/cc/saved_model/loader.cc:305] SavedModel load for tags { serve }; Status: success: OK. Took 90608 microseconds.\n",
      "WARNING:absl:Found untraced functions such as _jit_compiled_convolution_op, _jit_compiled_convolution_op while saving (showing 2 of 2). These functions will not be directly callable after loading.\n"
     ]
    },
    {
     "name": "stdout",
     "output_type": "stream",
     "text": [
      "INFO:tensorflow:Assets written to: /tmp/tmpdy7mee7u/assets\n"
     ]
    },
    {
     "name": "stderr",
     "output_type": "stream",
     "text": [
      "INFO:tensorflow:Assets written to: /tmp/tmpdy7mee7u/assets\n",
      "2022-11-22 10:12:43.701255: W tensorflow/compiler/mlir/lite/python/tf_tfl_flatbuffer_helpers.cc:362] Ignored output_format.\n",
      "2022-11-22 10:12:43.701342: W tensorflow/compiler/mlir/lite/python/tf_tfl_flatbuffer_helpers.cc:365] Ignored drop_control_dependency.\n",
      "2022-11-22 10:12:43.701546: I tensorflow/cc/saved_model/reader.cc:45] Reading SavedModel from: /tmp/tmpdy7mee7u\n",
      "2022-11-22 10:12:43.706076: I tensorflow/cc/saved_model/reader.cc:89] Reading meta graph with tags { serve }\n",
      "2022-11-22 10:12:43.706141: I tensorflow/cc/saved_model/reader.cc:130] Reading SavedModel debug info (if present) from: /tmp/tmpdy7mee7u\n",
      "2022-11-22 10:12:43.720857: I tensorflow/cc/saved_model/loader.cc:229] Restoring SavedModel bundle.\n",
      "2022-11-22 10:12:43.796948: I tensorflow/cc/saved_model/loader.cc:213] Running initialization op on SavedModel bundle at path: /tmp/tmpdy7mee7u\n",
      "2022-11-22 10:12:43.820479: I tensorflow/cc/saved_model/loader.cc:305] SavedModel load for tags { serve }; Status: success: OK. Took 118931 microseconds.\n",
      "WARNING:absl:Found untraced functions such as _jit_compiled_convolution_op, _jit_compiled_convolution_op while saving (showing 2 of 2). These functions will not be directly callable after loading.\n"
     ]
    },
    {
     "name": "stdout",
     "output_type": "stream",
     "text": [
      "INFO:tensorflow:Assets written to: /tmp/tmpldx12qd7/assets\n"
     ]
    },
    {
     "name": "stderr",
     "output_type": "stream",
     "text": [
      "INFO:tensorflow:Assets written to: /tmp/tmpldx12qd7/assets\n",
      "2022-11-22 10:12:45.748540: W tensorflow/compiler/mlir/lite/python/tf_tfl_flatbuffer_helpers.cc:362] Ignored output_format.\n",
      "2022-11-22 10:12:45.748638: W tensorflow/compiler/mlir/lite/python/tf_tfl_flatbuffer_helpers.cc:365] Ignored drop_control_dependency.\n",
      "2022-11-22 10:12:45.748849: I tensorflow/cc/saved_model/reader.cc:45] Reading SavedModel from: /tmp/tmpldx12qd7\n",
      "2022-11-22 10:12:45.751197: I tensorflow/cc/saved_model/reader.cc:89] Reading meta graph with tags { serve }\n",
      "2022-11-22 10:12:45.751251: I tensorflow/cc/saved_model/reader.cc:130] Reading SavedModel debug info (if present) from: /tmp/tmpldx12qd7\n",
      "2022-11-22 10:12:45.758642: I tensorflow/cc/saved_model/loader.cc:229] Restoring SavedModel bundle.\n",
      "2022-11-22 10:12:45.821603: I tensorflow/cc/saved_model/loader.cc:213] Running initialization op on SavedModel bundle at path: /tmp/tmpldx12qd7\n",
      "2022-11-22 10:12:45.837970: I tensorflow/cc/saved_model/loader.cc:305] SavedModel load for tags { serve }; Status: success: OK. Took 89120 microseconds.\n",
      "WARNING:absl:Found untraced functions such as _jit_compiled_convolution_op, _jit_compiled_convolution_op while saving (showing 2 of 2). These functions will not be directly callable after loading.\n"
     ]
    },
    {
     "name": "stdout",
     "output_type": "stream",
     "text": [
      "INFO:tensorflow:Assets written to: /tmp/tmpb8su_d4b/assets\n"
     ]
    },
    {
     "name": "stderr",
     "output_type": "stream",
     "text": [
      "INFO:tensorflow:Assets written to: /tmp/tmpb8su_d4b/assets\n",
      "2022-11-22 10:12:47.666021: W tensorflow/compiler/mlir/lite/python/tf_tfl_flatbuffer_helpers.cc:362] Ignored output_format.\n",
      "2022-11-22 10:12:47.666116: W tensorflow/compiler/mlir/lite/python/tf_tfl_flatbuffer_helpers.cc:365] Ignored drop_control_dependency.\n",
      "2022-11-22 10:12:47.666321: I tensorflow/cc/saved_model/reader.cc:45] Reading SavedModel from: /tmp/tmpb8su_d4b\n",
      "2022-11-22 10:12:47.668506: I tensorflow/cc/saved_model/reader.cc:89] Reading meta graph with tags { serve }\n",
      "2022-11-22 10:12:47.668561: I tensorflow/cc/saved_model/reader.cc:130] Reading SavedModel debug info (if present) from: /tmp/tmpb8su_d4b\n",
      "2022-11-22 10:12:47.676006: I tensorflow/cc/saved_model/loader.cc:229] Restoring SavedModel bundle.\n",
      "2022-11-22 10:12:47.738175: I tensorflow/cc/saved_model/loader.cc:213] Running initialization op on SavedModel bundle at path: /tmp/tmpb8su_d4b\n",
      "2022-11-22 10:12:47.754162: I tensorflow/cc/saved_model/loader.cc:305] SavedModel load for tags { serve }; Status: success: OK. Took 87841 microseconds.\n",
      "WARNING:absl:Found untraced functions such as _jit_compiled_convolution_op, _jit_compiled_convolution_op while saving (showing 2 of 2). These functions will not be directly callable after loading.\n"
     ]
    },
    {
     "name": "stdout",
     "output_type": "stream",
     "text": [
      "INFO:tensorflow:Assets written to: /tmp/tmp6tyd80hn/assets\n"
     ]
    },
    {
     "name": "stderr",
     "output_type": "stream",
     "text": [
      "INFO:tensorflow:Assets written to: /tmp/tmp6tyd80hn/assets\n",
      "2022-11-22 10:12:49.598078: W tensorflow/compiler/mlir/lite/python/tf_tfl_flatbuffer_helpers.cc:362] Ignored output_format.\n",
      "2022-11-22 10:12:49.598182: W tensorflow/compiler/mlir/lite/python/tf_tfl_flatbuffer_helpers.cc:365] Ignored drop_control_dependency.\n",
      "2022-11-22 10:12:49.598398: I tensorflow/cc/saved_model/reader.cc:45] Reading SavedModel from: /tmp/tmp6tyd80hn\n",
      "2022-11-22 10:12:49.600676: I tensorflow/cc/saved_model/reader.cc:89] Reading meta graph with tags { serve }\n",
      "2022-11-22 10:12:49.600728: I tensorflow/cc/saved_model/reader.cc:130] Reading SavedModel debug info (if present) from: /tmp/tmp6tyd80hn\n",
      "2022-11-22 10:12:49.608149: I tensorflow/cc/saved_model/loader.cc:229] Restoring SavedModel bundle.\n",
      "2022-11-22 10:12:49.671257: I tensorflow/cc/saved_model/loader.cc:213] Running initialization op on SavedModel bundle at path: /tmp/tmp6tyd80hn\n",
      "2022-11-22 10:12:49.689426: I tensorflow/cc/saved_model/loader.cc:305] SavedModel load for tags { serve }; Status: success: OK. Took 91028 microseconds.\n",
      "WARNING:absl:Found untraced functions such as _jit_compiled_convolution_op, _jit_compiled_convolution_op while saving (showing 2 of 2). These functions will not be directly callable after loading.\n"
     ]
    },
    {
     "name": "stdout",
     "output_type": "stream",
     "text": [
      "INFO:tensorflow:Assets written to: /tmp/tmp1ewfdwgx/assets\n"
     ]
    },
    {
     "name": "stderr",
     "output_type": "stream",
     "text": [
      "INFO:tensorflow:Assets written to: /tmp/tmp1ewfdwgx/assets\n",
      "2022-11-22 10:12:51.511296: W tensorflow/compiler/mlir/lite/python/tf_tfl_flatbuffer_helpers.cc:362] Ignored output_format.\n",
      "2022-11-22 10:12:51.511390: W tensorflow/compiler/mlir/lite/python/tf_tfl_flatbuffer_helpers.cc:365] Ignored drop_control_dependency.\n",
      "2022-11-22 10:12:51.511588: I tensorflow/cc/saved_model/reader.cc:45] Reading SavedModel from: /tmp/tmp1ewfdwgx\n",
      "2022-11-22 10:12:51.513763: I tensorflow/cc/saved_model/reader.cc:89] Reading meta graph with tags { serve }\n",
      "2022-11-22 10:12:51.513818: I tensorflow/cc/saved_model/reader.cc:130] Reading SavedModel debug info (if present) from: /tmp/tmp1ewfdwgx\n",
      "2022-11-22 10:12:51.521277: I tensorflow/cc/saved_model/loader.cc:229] Restoring SavedModel bundle.\n",
      "2022-11-22 10:12:51.585003: I tensorflow/cc/saved_model/loader.cc:213] Running initialization op on SavedModel bundle at path: /tmp/tmp1ewfdwgx\n",
      "2022-11-22 10:12:51.601679: I tensorflow/cc/saved_model/loader.cc:305] SavedModel load for tags { serve }; Status: success: OK. Took 90090 microseconds.\n",
      "WARNING:absl:Found untraced functions such as _jit_compiled_convolution_op, _jit_compiled_convolution_op while saving (showing 2 of 2). These functions will not be directly callable after loading.\n"
     ]
    },
    {
     "name": "stdout",
     "output_type": "stream",
     "text": [
      "INFO:tensorflow:Assets written to: /tmp/tmpm12gvado/assets\n"
     ]
    },
    {
     "name": "stderr",
     "output_type": "stream",
     "text": [
      "INFO:tensorflow:Assets written to: /tmp/tmpm12gvado/assets\n",
      "2022-11-22 10:12:53.425637: W tensorflow/compiler/mlir/lite/python/tf_tfl_flatbuffer_helpers.cc:362] Ignored output_format.\n",
      "2022-11-22 10:12:53.425734: W tensorflow/compiler/mlir/lite/python/tf_tfl_flatbuffer_helpers.cc:365] Ignored drop_control_dependency.\n",
      "2022-11-22 10:12:53.425937: I tensorflow/cc/saved_model/reader.cc:45] Reading SavedModel from: /tmp/tmpm12gvado\n",
      "2022-11-22 10:12:53.428181: I tensorflow/cc/saved_model/reader.cc:89] Reading meta graph with tags { serve }\n",
      "2022-11-22 10:12:53.428233: I tensorflow/cc/saved_model/reader.cc:130] Reading SavedModel debug info (if present) from: /tmp/tmpm12gvado\n",
      "2022-11-22 10:12:53.435746: I tensorflow/cc/saved_model/loader.cc:229] Restoring SavedModel bundle.\n",
      "2022-11-22 10:12:53.500418: I tensorflow/cc/saved_model/loader.cc:213] Running initialization op on SavedModel bundle at path: /tmp/tmpm12gvado\n",
      "2022-11-22 10:12:53.518156: I tensorflow/cc/saved_model/loader.cc:305] SavedModel load for tags { serve }; Status: success: OK. Took 92218 microseconds.\n",
      "WARNING:absl:Found untraced functions such as _jit_compiled_convolution_op, _jit_compiled_convolution_op while saving (showing 2 of 2). These functions will not be directly callable after loading.\n"
     ]
    },
    {
     "name": "stdout",
     "output_type": "stream",
     "text": [
      "INFO:tensorflow:Assets written to: /tmp/tmpd748njj7/assets\n"
     ]
    },
    {
     "name": "stderr",
     "output_type": "stream",
     "text": [
      "INFO:tensorflow:Assets written to: /tmp/tmpd748njj7/assets\n",
      "2022-11-22 10:12:55.359767: W tensorflow/compiler/mlir/lite/python/tf_tfl_flatbuffer_helpers.cc:362] Ignored output_format.\n",
      "2022-11-22 10:12:55.359869: W tensorflow/compiler/mlir/lite/python/tf_tfl_flatbuffer_helpers.cc:365] Ignored drop_control_dependency.\n",
      "2022-11-22 10:12:55.360066: I tensorflow/cc/saved_model/reader.cc:45] Reading SavedModel from: /tmp/tmpd748njj7\n",
      "2022-11-22 10:12:55.362272: I tensorflow/cc/saved_model/reader.cc:89] Reading meta graph with tags { serve }\n",
      "2022-11-22 10:12:55.362323: I tensorflow/cc/saved_model/reader.cc:130] Reading SavedModel debug info (if present) from: /tmp/tmpd748njj7\n",
      "2022-11-22 10:12:55.369723: I tensorflow/cc/saved_model/loader.cc:229] Restoring SavedModel bundle.\n",
      "2022-11-22 10:12:55.431050: I tensorflow/cc/saved_model/loader.cc:213] Running initialization op on SavedModel bundle at path: /tmp/tmpd748njj7\n",
      "2022-11-22 10:12:55.446893: I tensorflow/cc/saved_model/loader.cc:305] SavedModel load for tags { serve }; Status: success: OK. Took 86826 microseconds.\n",
      "WARNING:absl:Found untraced functions such as _jit_compiled_convolution_op, _jit_compiled_convolution_op while saving (showing 2 of 2). These functions will not be directly callable after loading.\n"
     ]
    },
    {
     "name": "stdout",
     "output_type": "stream",
     "text": [
      "INFO:tensorflow:Assets written to: /tmp/tmp5v8zer0x/assets\n"
     ]
    },
    {
     "name": "stderr",
     "output_type": "stream",
     "text": [
      "INFO:tensorflow:Assets written to: /tmp/tmp5v8zer0x/assets\n",
      "2022-11-22 10:12:57.269588: W tensorflow/compiler/mlir/lite/python/tf_tfl_flatbuffer_helpers.cc:362] Ignored output_format.\n",
      "2022-11-22 10:12:57.269680: W tensorflow/compiler/mlir/lite/python/tf_tfl_flatbuffer_helpers.cc:365] Ignored drop_control_dependency.\n",
      "2022-11-22 10:12:57.269885: I tensorflow/cc/saved_model/reader.cc:45] Reading SavedModel from: /tmp/tmp5v8zer0x\n",
      "2022-11-22 10:12:57.272106: I tensorflow/cc/saved_model/reader.cc:89] Reading meta graph with tags { serve }\n",
      "2022-11-22 10:12:57.272156: I tensorflow/cc/saved_model/reader.cc:130] Reading SavedModel debug info (if present) from: /tmp/tmp5v8zer0x\n",
      "2022-11-22 10:12:57.279590: I tensorflow/cc/saved_model/loader.cc:229] Restoring SavedModel bundle.\n",
      "2022-11-22 10:12:57.344261: I tensorflow/cc/saved_model/loader.cc:213] Running initialization op on SavedModel bundle at path: /tmp/tmp5v8zer0x\n",
      "2022-11-22 10:12:57.361128: I tensorflow/cc/saved_model/loader.cc:305] SavedModel load for tags { serve }; Status: success: OK. Took 91242 microseconds.\n",
      "WARNING:absl:Found untraced functions such as _jit_compiled_convolution_op, _jit_compiled_convolution_op while saving (showing 2 of 2). These functions will not be directly callable after loading.\n"
     ]
    },
    {
     "name": "stdout",
     "output_type": "stream",
     "text": [
      "INFO:tensorflow:Assets written to: /tmp/tmpi_og4u2p/assets\n"
     ]
    },
    {
     "name": "stderr",
     "output_type": "stream",
     "text": [
      "INFO:tensorflow:Assets written to: /tmp/tmpi_og4u2p/assets\n",
      "2022-11-22 10:12:59.195690: W tensorflow/compiler/mlir/lite/python/tf_tfl_flatbuffer_helpers.cc:362] Ignored output_format.\n",
      "2022-11-22 10:12:59.195798: W tensorflow/compiler/mlir/lite/python/tf_tfl_flatbuffer_helpers.cc:365] Ignored drop_control_dependency.\n",
      "2022-11-22 10:12:59.195998: I tensorflow/cc/saved_model/reader.cc:45] Reading SavedModel from: /tmp/tmpi_og4u2p\n",
      "2022-11-22 10:12:59.198164: I tensorflow/cc/saved_model/reader.cc:89] Reading meta graph with tags { serve }\n",
      "2022-11-22 10:12:59.198216: I tensorflow/cc/saved_model/reader.cc:130] Reading SavedModel debug info (if present) from: /tmp/tmpi_og4u2p\n",
      "2022-11-22 10:12:59.205697: I tensorflow/cc/saved_model/loader.cc:229] Restoring SavedModel bundle.\n",
      "2022-11-22 10:12:59.267330: I tensorflow/cc/saved_model/loader.cc:213] Running initialization op on SavedModel bundle at path: /tmp/tmpi_og4u2p\n",
      "2022-11-22 10:12:59.283979: I tensorflow/cc/saved_model/loader.cc:305] SavedModel load for tags { serve }; Status: success: OK. Took 87980 microseconds.\n",
      "WARNING:absl:Found untraced functions such as _jit_compiled_convolution_op, _jit_compiled_convolution_op while saving (showing 2 of 2). These functions will not be directly callable after loading.\n"
     ]
    },
    {
     "name": "stdout",
     "output_type": "stream",
     "text": [
      "INFO:tensorflow:Assets written to: /tmp/tmpctlkq53_/assets\n"
     ]
    },
    {
     "name": "stderr",
     "output_type": "stream",
     "text": [
      "INFO:tensorflow:Assets written to: /tmp/tmpctlkq53_/assets\n",
      "2022-11-22 10:13:01.141621: W tensorflow/compiler/mlir/lite/python/tf_tfl_flatbuffer_helpers.cc:362] Ignored output_format.\n",
      "2022-11-22 10:13:01.141715: W tensorflow/compiler/mlir/lite/python/tf_tfl_flatbuffer_helpers.cc:365] Ignored drop_control_dependency.\n",
      "2022-11-22 10:13:01.141922: I tensorflow/cc/saved_model/reader.cc:45] Reading SavedModel from: /tmp/tmpctlkq53_\n",
      "2022-11-22 10:13:01.144117: I tensorflow/cc/saved_model/reader.cc:89] Reading meta graph with tags { serve }\n",
      "2022-11-22 10:13:01.144168: I tensorflow/cc/saved_model/reader.cc:130] Reading SavedModel debug info (if present) from: /tmp/tmpctlkq53_\n",
      "2022-11-22 10:13:01.151566: I tensorflow/cc/saved_model/loader.cc:229] Restoring SavedModel bundle.\n",
      "2022-11-22 10:13:01.212528: I tensorflow/cc/saved_model/loader.cc:213] Running initialization op on SavedModel bundle at path: /tmp/tmpctlkq53_\n",
      "2022-11-22 10:13:01.230739: I tensorflow/cc/saved_model/loader.cc:305] SavedModel load for tags { serve }; Status: success: OK. Took 88816 microseconds.\n",
      "WARNING:absl:Found untraced functions such as _jit_compiled_convolution_op, _jit_compiled_convolution_op while saving (showing 2 of 2). These functions will not be directly callable after loading.\n"
     ]
    },
    {
     "name": "stdout",
     "output_type": "stream",
     "text": [
      "INFO:tensorflow:Assets written to: /tmp/tmpxhnzx334/assets\n"
     ]
    },
    {
     "name": "stderr",
     "output_type": "stream",
     "text": [
      "INFO:tensorflow:Assets written to: /tmp/tmpxhnzx334/assets\n",
      "2022-11-22 10:13:03.067710: W tensorflow/compiler/mlir/lite/python/tf_tfl_flatbuffer_helpers.cc:362] Ignored output_format.\n",
      "2022-11-22 10:13:03.067816: W tensorflow/compiler/mlir/lite/python/tf_tfl_flatbuffer_helpers.cc:365] Ignored drop_control_dependency.\n",
      "2022-11-22 10:13:03.068012: I tensorflow/cc/saved_model/reader.cc:45] Reading SavedModel from: /tmp/tmpxhnzx334\n",
      "2022-11-22 10:13:03.070178: I tensorflow/cc/saved_model/reader.cc:89] Reading meta graph with tags { serve }\n",
      "2022-11-22 10:13:03.070234: I tensorflow/cc/saved_model/reader.cc:130] Reading SavedModel debug info (if present) from: /tmp/tmpxhnzx334\n",
      "2022-11-22 10:13:03.077680: I tensorflow/cc/saved_model/loader.cc:229] Restoring SavedModel bundle.\n",
      "2022-11-22 10:13:03.140401: I tensorflow/cc/saved_model/loader.cc:213] Running initialization op on SavedModel bundle at path: /tmp/tmpxhnzx334\n",
      "2022-11-22 10:13:03.156911: I tensorflow/cc/saved_model/loader.cc:305] SavedModel load for tags { serve }; Status: success: OK. Took 88897 microseconds.\n",
      "WARNING:absl:Found untraced functions such as _jit_compiled_convolution_op, _jit_compiled_convolution_op while saving (showing 2 of 2). These functions will not be directly callable after loading.\n"
     ]
    },
    {
     "name": "stdout",
     "output_type": "stream",
     "text": [
      "INFO:tensorflow:Assets written to: /tmp/tmpbtoy_eas/assets\n"
     ]
    },
    {
     "name": "stderr",
     "output_type": "stream",
     "text": [
      "INFO:tensorflow:Assets written to: /tmp/tmpbtoy_eas/assets\n",
      "2022-11-22 10:13:05.019887: W tensorflow/compiler/mlir/lite/python/tf_tfl_flatbuffer_helpers.cc:362] Ignored output_format.\n",
      "2022-11-22 10:13:05.019980: W tensorflow/compiler/mlir/lite/python/tf_tfl_flatbuffer_helpers.cc:365] Ignored drop_control_dependency.\n",
      "2022-11-22 10:13:05.020175: I tensorflow/cc/saved_model/reader.cc:45] Reading SavedModel from: /tmp/tmpbtoy_eas\n",
      "2022-11-22 10:13:05.022351: I tensorflow/cc/saved_model/reader.cc:89] Reading meta graph with tags { serve }\n",
      "2022-11-22 10:13:05.022406: I tensorflow/cc/saved_model/reader.cc:130] Reading SavedModel debug info (if present) from: /tmp/tmpbtoy_eas\n",
      "2022-11-22 10:13:05.029904: I tensorflow/cc/saved_model/loader.cc:229] Restoring SavedModel bundle.\n",
      "2022-11-22 10:13:05.096183: I tensorflow/cc/saved_model/loader.cc:213] Running initialization op on SavedModel bundle at path: /tmp/tmpbtoy_eas\n",
      "2022-11-22 10:13:05.113562: I tensorflow/cc/saved_model/loader.cc:305] SavedModel load for tags { serve }; Status: success: OK. Took 93386 microseconds.\n",
      "WARNING:absl:Found untraced functions such as _jit_compiled_convolution_op, _jit_compiled_convolution_op while saving (showing 2 of 2). These functions will not be directly callable after loading.\n"
     ]
    },
    {
     "name": "stdout",
     "output_type": "stream",
     "text": [
      "INFO:tensorflow:Assets written to: /tmp/tmps4hifg2m/assets\n"
     ]
    },
    {
     "name": "stderr",
     "output_type": "stream",
     "text": [
      "INFO:tensorflow:Assets written to: /tmp/tmps4hifg2m/assets\n",
      "2022-11-22 10:13:06.985162: W tensorflow/compiler/mlir/lite/python/tf_tfl_flatbuffer_helpers.cc:362] Ignored output_format.\n",
      "2022-11-22 10:13:06.985261: W tensorflow/compiler/mlir/lite/python/tf_tfl_flatbuffer_helpers.cc:365] Ignored drop_control_dependency.\n",
      "2022-11-22 10:13:06.985460: I tensorflow/cc/saved_model/reader.cc:45] Reading SavedModel from: /tmp/tmps4hifg2m\n",
      "2022-11-22 10:13:06.987652: I tensorflow/cc/saved_model/reader.cc:89] Reading meta graph with tags { serve }\n",
      "2022-11-22 10:13:06.987704: I tensorflow/cc/saved_model/reader.cc:130] Reading SavedModel debug info (if present) from: /tmp/tmps4hifg2m\n",
      "2022-11-22 10:13:06.995159: I tensorflow/cc/saved_model/loader.cc:229] Restoring SavedModel bundle.\n",
      "2022-11-22 10:13:07.058803: I tensorflow/cc/saved_model/loader.cc:213] Running initialization op on SavedModel bundle at path: /tmp/tmps4hifg2m\n",
      "2022-11-22 10:13:07.076193: I tensorflow/cc/saved_model/loader.cc:305] SavedModel load for tags { serve }; Status: success: OK. Took 90732 microseconds.\n",
      "WARNING:absl:Found untraced functions such as _jit_compiled_convolution_op, _jit_compiled_convolution_op while saving (showing 2 of 2). These functions will not be directly callable after loading.\n"
     ]
    },
    {
     "name": "stdout",
     "output_type": "stream",
     "text": [
      "INFO:tensorflow:Assets written to: /tmp/tmpxrjd6z53/assets\n"
     ]
    },
    {
     "name": "stderr",
     "output_type": "stream",
     "text": [
      "INFO:tensorflow:Assets written to: /tmp/tmpxrjd6z53/assets\n",
      "2022-11-22 10:13:08.936314: W tensorflow/compiler/mlir/lite/python/tf_tfl_flatbuffer_helpers.cc:362] Ignored output_format.\n",
      "2022-11-22 10:13:08.936408: W tensorflow/compiler/mlir/lite/python/tf_tfl_flatbuffer_helpers.cc:365] Ignored drop_control_dependency.\n",
      "2022-11-22 10:13:08.936605: I tensorflow/cc/saved_model/reader.cc:45] Reading SavedModel from: /tmp/tmpxrjd6z53\n",
      "2022-11-22 10:13:08.938763: I tensorflow/cc/saved_model/reader.cc:89] Reading meta graph with tags { serve }\n",
      "2022-11-22 10:13:08.938814: I tensorflow/cc/saved_model/reader.cc:130] Reading SavedModel debug info (if present) from: /tmp/tmpxrjd6z53\n",
      "2022-11-22 10:13:08.946587: I tensorflow/cc/saved_model/loader.cc:229] Restoring SavedModel bundle.\n",
      "2022-11-22 10:13:09.013722: I tensorflow/cc/saved_model/loader.cc:213] Running initialization op on SavedModel bundle at path: /tmp/tmpxrjd6z53\n",
      "2022-11-22 10:13:09.032329: I tensorflow/cc/saved_model/loader.cc:305] SavedModel load for tags { serve }; Status: success: OK. Took 95723 microseconds.\n",
      "WARNING:absl:Found untraced functions such as _jit_compiled_convolution_op, _jit_compiled_convolution_op while saving (showing 2 of 2). These functions will not be directly callable after loading.\n"
     ]
    },
    {
     "name": "stdout",
     "output_type": "stream",
     "text": [
      "INFO:tensorflow:Assets written to: /tmp/tmp19mto35e/assets\n"
     ]
    },
    {
     "name": "stderr",
     "output_type": "stream",
     "text": [
      "INFO:tensorflow:Assets written to: /tmp/tmp19mto35e/assets\n",
      "2022-11-22 10:13:10.884106: W tensorflow/compiler/mlir/lite/python/tf_tfl_flatbuffer_helpers.cc:362] Ignored output_format.\n",
      "2022-11-22 10:13:10.884211: W tensorflow/compiler/mlir/lite/python/tf_tfl_flatbuffer_helpers.cc:365] Ignored drop_control_dependency.\n",
      "2022-11-22 10:13:10.884409: I tensorflow/cc/saved_model/reader.cc:45] Reading SavedModel from: /tmp/tmp19mto35e\n",
      "2022-11-22 10:13:10.886576: I tensorflow/cc/saved_model/reader.cc:89] Reading meta graph with tags { serve }\n",
      "2022-11-22 10:13:10.886623: I tensorflow/cc/saved_model/reader.cc:130] Reading SavedModel debug info (if present) from: /tmp/tmp19mto35e\n",
      "2022-11-22 10:13:10.894296: I tensorflow/cc/saved_model/loader.cc:229] Restoring SavedModel bundle.\n",
      "2022-11-22 10:13:10.956211: I tensorflow/cc/saved_model/loader.cc:213] Running initialization op on SavedModel bundle at path: /tmp/tmp19mto35e\n",
      "2022-11-22 10:13:10.973303: I tensorflow/cc/saved_model/loader.cc:305] SavedModel load for tags { serve }; Status: success: OK. Took 88893 microseconds.\n",
      "WARNING:absl:Found untraced functions such as _jit_compiled_convolution_op, _jit_compiled_convolution_op while saving (showing 2 of 2). These functions will not be directly callable after loading.\n"
     ]
    },
    {
     "name": "stdout",
     "output_type": "stream",
     "text": [
      "INFO:tensorflow:Assets written to: /tmp/tmpw6gyhw7g/assets\n"
     ]
    },
    {
     "name": "stderr",
     "output_type": "stream",
     "text": [
      "INFO:tensorflow:Assets written to: /tmp/tmpw6gyhw7g/assets\n",
      "2022-11-22 10:13:15.915543: W tensorflow/compiler/mlir/lite/python/tf_tfl_flatbuffer_helpers.cc:362] Ignored output_format.\n",
      "2022-11-22 10:13:15.915650: W tensorflow/compiler/mlir/lite/python/tf_tfl_flatbuffer_helpers.cc:365] Ignored drop_control_dependency.\n",
      "2022-11-22 10:13:15.915865: I tensorflow/cc/saved_model/reader.cc:45] Reading SavedModel from: /tmp/tmpw6gyhw7g\n",
      "2022-11-22 10:13:15.921724: I tensorflow/cc/saved_model/reader.cc:89] Reading meta graph with tags { serve }\n",
      "2022-11-22 10:13:15.921795: I tensorflow/cc/saved_model/reader.cc:130] Reading SavedModel debug info (if present) from: /tmp/tmpw6gyhw7g\n",
      "2022-11-22 10:13:15.950511: I tensorflow/cc/saved_model/loader.cc:229] Restoring SavedModel bundle.\n",
      "2022-11-22 10:13:16.110960: I tensorflow/cc/saved_model/loader.cc:213] Running initialization op on SavedModel bundle at path: /tmp/tmpw6gyhw7g\n",
      "2022-11-22 10:13:16.164865: I tensorflow/cc/saved_model/loader.cc:305] SavedModel load for tags { serve }; Status: success: OK. Took 248998 microseconds.\n",
      "WARNING:absl:Found untraced functions such as _jit_compiled_convolution_op, _jit_compiled_convolution_op while saving (showing 2 of 2). These functions will not be directly callable after loading.\n"
     ]
    },
    {
     "name": "stdout",
     "output_type": "stream",
     "text": [
      "INFO:tensorflow:Assets written to: /tmp/tmp2onj9i1x/assets\n"
     ]
    },
    {
     "name": "stderr",
     "output_type": "stream",
     "text": [
      "INFO:tensorflow:Assets written to: /tmp/tmp2onj9i1x/assets\n",
      "2022-11-22 10:13:18.526670: W tensorflow/compiler/mlir/lite/python/tf_tfl_flatbuffer_helpers.cc:362] Ignored output_format.\n",
      "2022-11-22 10:13:18.526779: W tensorflow/compiler/mlir/lite/python/tf_tfl_flatbuffer_helpers.cc:365] Ignored drop_control_dependency.\n",
      "2022-11-22 10:13:18.527006: I tensorflow/cc/saved_model/reader.cc:45] Reading SavedModel from: /tmp/tmp2onj9i1x\n",
      "2022-11-22 10:13:18.532130: I tensorflow/cc/saved_model/reader.cc:89] Reading meta graph with tags { serve }\n",
      "2022-11-22 10:13:18.532199: I tensorflow/cc/saved_model/reader.cc:130] Reading SavedModel debug info (if present) from: /tmp/tmp2onj9i1x\n",
      "2022-11-22 10:13:18.552996: I tensorflow/cc/saved_model/loader.cc:229] Restoring SavedModel bundle.\n",
      "2022-11-22 10:13:18.670203: I tensorflow/cc/saved_model/loader.cc:213] Running initialization op on SavedModel bundle at path: /tmp/tmp2onj9i1x\n",
      "2022-11-22 10:13:18.702705: I tensorflow/cc/saved_model/loader.cc:305] SavedModel load for tags { serve }; Status: success: OK. Took 175698 microseconds.\n",
      "WARNING:absl:Found untraced functions such as _jit_compiled_convolution_op, _jit_compiled_convolution_op while saving (showing 2 of 2). These functions will not be directly callable after loading.\n"
     ]
    },
    {
     "name": "stdout",
     "output_type": "stream",
     "text": [
      "INFO:tensorflow:Assets written to: /tmp/tmpqbkbg4_4/assets\n"
     ]
    },
    {
     "name": "stderr",
     "output_type": "stream",
     "text": [
      "INFO:tensorflow:Assets written to: /tmp/tmpqbkbg4_4/assets\n",
      "2022-11-22 10:13:20.877515: W tensorflow/compiler/mlir/lite/python/tf_tfl_flatbuffer_helpers.cc:362] Ignored output_format.\n",
      "2022-11-22 10:13:20.877613: W tensorflow/compiler/mlir/lite/python/tf_tfl_flatbuffer_helpers.cc:365] Ignored drop_control_dependency.\n",
      "2022-11-22 10:13:20.877827: I tensorflow/cc/saved_model/reader.cc:45] Reading SavedModel from: /tmp/tmpqbkbg4_4\n",
      "2022-11-22 10:13:20.881766: I tensorflow/cc/saved_model/reader.cc:89] Reading meta graph with tags { serve }\n",
      "2022-11-22 10:13:20.881837: I tensorflow/cc/saved_model/reader.cc:130] Reading SavedModel debug info (if present) from: /tmp/tmpqbkbg4_4\n",
      "2022-11-22 10:13:20.894090: I tensorflow/cc/saved_model/loader.cc:229] Restoring SavedModel bundle.\n",
      "2022-11-22 10:13:20.965233: I tensorflow/cc/saved_model/loader.cc:213] Running initialization op on SavedModel bundle at path: /tmp/tmpqbkbg4_4\n",
      "2022-11-22 10:13:20.986170: I tensorflow/cc/saved_model/loader.cc:305] SavedModel load for tags { serve }; Status: success: OK. Took 108341 microseconds.\n",
      "WARNING:absl:Found untraced functions such as _jit_compiled_convolution_op, _jit_compiled_convolution_op while saving (showing 2 of 2). These functions will not be directly callable after loading.\n"
     ]
    },
    {
     "name": "stdout",
     "output_type": "stream",
     "text": [
      "INFO:tensorflow:Assets written to: /tmp/tmpyy1e10fc/assets\n"
     ]
    },
    {
     "name": "stderr",
     "output_type": "stream",
     "text": [
      "INFO:tensorflow:Assets written to: /tmp/tmpyy1e10fc/assets\n",
      "2022-11-22 10:13:22.944704: W tensorflow/compiler/mlir/lite/python/tf_tfl_flatbuffer_helpers.cc:362] Ignored output_format.\n",
      "2022-11-22 10:13:22.944803: W tensorflow/compiler/mlir/lite/python/tf_tfl_flatbuffer_helpers.cc:365] Ignored drop_control_dependency.\n",
      "2022-11-22 10:13:22.945000: I tensorflow/cc/saved_model/reader.cc:45] Reading SavedModel from: /tmp/tmpyy1e10fc\n",
      "2022-11-22 10:13:22.947585: I tensorflow/cc/saved_model/reader.cc:89] Reading meta graph with tags { serve }\n",
      "2022-11-22 10:13:22.947640: I tensorflow/cc/saved_model/reader.cc:130] Reading SavedModel debug info (if present) from: /tmp/tmpyy1e10fc\n",
      "2022-11-22 10:13:22.956116: I tensorflow/cc/saved_model/loader.cc:229] Restoring SavedModel bundle.\n",
      "2022-11-22 10:13:23.028288: I tensorflow/cc/saved_model/loader.cc:213] Running initialization op on SavedModel bundle at path: /tmp/tmpyy1e10fc\n",
      "2022-11-22 10:13:23.048257: I tensorflow/cc/saved_model/loader.cc:305] SavedModel load for tags { serve }; Status: success: OK. Took 103255 microseconds.\n",
      "WARNING:absl:Found untraced functions such as _jit_compiled_convolution_op, _jit_compiled_convolution_op while saving (showing 2 of 2). These functions will not be directly callable after loading.\n"
     ]
    },
    {
     "name": "stdout",
     "output_type": "stream",
     "text": [
      "INFO:tensorflow:Assets written to: /tmp/tmpp4b1nkb_/assets\n"
     ]
    },
    {
     "name": "stderr",
     "output_type": "stream",
     "text": [
      "INFO:tensorflow:Assets written to: /tmp/tmpp4b1nkb_/assets\n",
      "2022-11-22 10:13:24.936888: W tensorflow/compiler/mlir/lite/python/tf_tfl_flatbuffer_helpers.cc:362] Ignored output_format.\n",
      "2022-11-22 10:13:24.936989: W tensorflow/compiler/mlir/lite/python/tf_tfl_flatbuffer_helpers.cc:365] Ignored drop_control_dependency.\n",
      "2022-11-22 10:13:24.937188: I tensorflow/cc/saved_model/reader.cc:45] Reading SavedModel from: /tmp/tmpp4b1nkb_\n",
      "2022-11-22 10:13:24.939529: I tensorflow/cc/saved_model/reader.cc:89] Reading meta graph with tags { serve }\n",
      "2022-11-22 10:13:24.939585: I tensorflow/cc/saved_model/reader.cc:130] Reading SavedModel debug info (if present) from: /tmp/tmpp4b1nkb_\n",
      "2022-11-22 10:13:24.947233: I tensorflow/cc/saved_model/loader.cc:229] Restoring SavedModel bundle.\n",
      "2022-11-22 10:13:25.014172: I tensorflow/cc/saved_model/loader.cc:213] Running initialization op on SavedModel bundle at path: /tmp/tmpp4b1nkb_\n",
      "2022-11-22 10:13:25.031635: I tensorflow/cc/saved_model/loader.cc:305] SavedModel load for tags { serve }; Status: success: OK. Took 94447 microseconds.\n",
      "WARNING:absl:Found untraced functions such as _jit_compiled_convolution_op, _jit_compiled_convolution_op while saving (showing 2 of 2). These functions will not be directly callable after loading.\n"
     ]
    },
    {
     "name": "stdout",
     "output_type": "stream",
     "text": [
      "INFO:tensorflow:Assets written to: /tmp/tmp54o_gbr8/assets\n"
     ]
    },
    {
     "name": "stderr",
     "output_type": "stream",
     "text": [
      "INFO:tensorflow:Assets written to: /tmp/tmp54o_gbr8/assets\n",
      "2022-11-22 10:13:26.897636: W tensorflow/compiler/mlir/lite/python/tf_tfl_flatbuffer_helpers.cc:362] Ignored output_format.\n",
      "2022-11-22 10:13:26.897739: W tensorflow/compiler/mlir/lite/python/tf_tfl_flatbuffer_helpers.cc:365] Ignored drop_control_dependency.\n",
      "2022-11-22 10:13:26.897933: I tensorflow/cc/saved_model/reader.cc:45] Reading SavedModel from: /tmp/tmp54o_gbr8\n",
      "2022-11-22 10:13:26.900221: I tensorflow/cc/saved_model/reader.cc:89] Reading meta graph with tags { serve }\n",
      "2022-11-22 10:13:26.900273: I tensorflow/cc/saved_model/reader.cc:130] Reading SavedModel debug info (if present) from: /tmp/tmp54o_gbr8\n",
      "2022-11-22 10:13:26.907708: I tensorflow/cc/saved_model/loader.cc:229] Restoring SavedModel bundle.\n",
      "2022-11-22 10:13:26.971036: I tensorflow/cc/saved_model/loader.cc:213] Running initialization op on SavedModel bundle at path: /tmp/tmp54o_gbr8\n",
      "2022-11-22 10:13:26.988274: I tensorflow/cc/saved_model/loader.cc:305] SavedModel load for tags { serve }; Status: success: OK. Took 90340 microseconds.\n",
      "WARNING:absl:Found untraced functions such as _jit_compiled_convolution_op, _jit_compiled_convolution_op while saving (showing 2 of 2). These functions will not be directly callable after loading.\n"
     ]
    },
    {
     "name": "stdout",
     "output_type": "stream",
     "text": [
      "INFO:tensorflow:Assets written to: /tmp/tmpq0n_yfns/assets\n"
     ]
    },
    {
     "name": "stderr",
     "output_type": "stream",
     "text": [
      "INFO:tensorflow:Assets written to: /tmp/tmpq0n_yfns/assets\n",
      "2022-11-22 10:13:28.856184: W tensorflow/compiler/mlir/lite/python/tf_tfl_flatbuffer_helpers.cc:362] Ignored output_format.\n",
      "2022-11-22 10:13:28.856268: W tensorflow/compiler/mlir/lite/python/tf_tfl_flatbuffer_helpers.cc:365] Ignored drop_control_dependency.\n",
      "2022-11-22 10:13:28.856463: I tensorflow/cc/saved_model/reader.cc:45] Reading SavedModel from: /tmp/tmpq0n_yfns\n",
      "2022-11-22 10:13:28.858691: I tensorflow/cc/saved_model/reader.cc:89] Reading meta graph with tags { serve }\n",
      "2022-11-22 10:13:28.858754: I tensorflow/cc/saved_model/reader.cc:130] Reading SavedModel debug info (if present) from: /tmp/tmpq0n_yfns\n",
      "2022-11-22 10:13:28.866142: I tensorflow/cc/saved_model/loader.cc:229] Restoring SavedModel bundle.\n",
      "2022-11-22 10:13:28.928817: I tensorflow/cc/saved_model/loader.cc:213] Running initialization op on SavedModel bundle at path: /tmp/tmpq0n_yfns\n",
      "2022-11-22 10:13:28.945450: I tensorflow/cc/saved_model/loader.cc:305] SavedModel load for tags { serve }; Status: success: OK. Took 88986 microseconds.\n",
      "WARNING:absl:Found untraced functions such as _jit_compiled_convolution_op, _jit_compiled_convolution_op while saving (showing 2 of 2). These functions will not be directly callable after loading.\n"
     ]
    },
    {
     "name": "stdout",
     "output_type": "stream",
     "text": [
      "INFO:tensorflow:Assets written to: /tmp/tmpo7_2wmv8/assets\n"
     ]
    },
    {
     "name": "stderr",
     "output_type": "stream",
     "text": [
      "INFO:tensorflow:Assets written to: /tmp/tmpo7_2wmv8/assets\n",
      "2022-11-22 10:13:30.812754: W tensorflow/compiler/mlir/lite/python/tf_tfl_flatbuffer_helpers.cc:362] Ignored output_format.\n",
      "2022-11-22 10:13:30.812858: W tensorflow/compiler/mlir/lite/python/tf_tfl_flatbuffer_helpers.cc:365] Ignored drop_control_dependency.\n",
      "2022-11-22 10:13:30.813057: I tensorflow/cc/saved_model/reader.cc:45] Reading SavedModel from: /tmp/tmpo7_2wmv8\n",
      "2022-11-22 10:13:30.815263: I tensorflow/cc/saved_model/reader.cc:89] Reading meta graph with tags { serve }\n",
      "2022-11-22 10:13:30.815316: I tensorflow/cc/saved_model/reader.cc:130] Reading SavedModel debug info (if present) from: /tmp/tmpo7_2wmv8\n",
      "2022-11-22 10:13:30.822565: I tensorflow/cc/saved_model/loader.cc:229] Restoring SavedModel bundle.\n",
      "2022-11-22 10:13:30.884127: I tensorflow/cc/saved_model/loader.cc:213] Running initialization op on SavedModel bundle at path: /tmp/tmpo7_2wmv8\n",
      "2022-11-22 10:13:30.901471: I tensorflow/cc/saved_model/loader.cc:305] SavedModel load for tags { serve }; Status: success: OK. Took 88412 microseconds.\n",
      "WARNING:absl:Found untraced functions such as _jit_compiled_convolution_op, _jit_compiled_convolution_op while saving (showing 2 of 2). These functions will not be directly callable after loading.\n"
     ]
    },
    {
     "name": "stdout",
     "output_type": "stream",
     "text": [
      "INFO:tensorflow:Assets written to: /tmp/tmpwweumkva/assets\n"
     ]
    },
    {
     "name": "stderr",
     "output_type": "stream",
     "text": [
      "INFO:tensorflow:Assets written to: /tmp/tmpwweumkva/assets\n",
      "2022-11-22 10:13:32.748317: W tensorflow/compiler/mlir/lite/python/tf_tfl_flatbuffer_helpers.cc:362] Ignored output_format.\n",
      "2022-11-22 10:13:32.748420: W tensorflow/compiler/mlir/lite/python/tf_tfl_flatbuffer_helpers.cc:365] Ignored drop_control_dependency.\n",
      "2022-11-22 10:13:32.748618: I tensorflow/cc/saved_model/reader.cc:45] Reading SavedModel from: /tmp/tmpwweumkva\n",
      "2022-11-22 10:13:32.750759: I tensorflow/cc/saved_model/reader.cc:89] Reading meta graph with tags { serve }\n",
      "2022-11-22 10:13:32.750809: I tensorflow/cc/saved_model/reader.cc:130] Reading SavedModel debug info (if present) from: /tmp/tmpwweumkva\n",
      "2022-11-22 10:13:32.758101: I tensorflow/cc/saved_model/loader.cc:229] Restoring SavedModel bundle.\n",
      "2022-11-22 10:13:32.820563: I tensorflow/cc/saved_model/loader.cc:213] Running initialization op on SavedModel bundle at path: /tmp/tmpwweumkva\n",
      "2022-11-22 10:13:32.837032: I tensorflow/cc/saved_model/loader.cc:305] SavedModel load for tags { serve }; Status: success: OK. Took 88413 microseconds.\n",
      "WARNING:absl:Found untraced functions such as _jit_compiled_convolution_op, _jit_compiled_convolution_op while saving (showing 2 of 2). These functions will not be directly callable after loading.\n"
     ]
    },
    {
     "name": "stdout",
     "output_type": "stream",
     "text": [
      "INFO:tensorflow:Assets written to: /tmp/tmp5isgq1ux/assets\n"
     ]
    },
    {
     "name": "stderr",
     "output_type": "stream",
     "text": [
      "INFO:tensorflow:Assets written to: /tmp/tmp5isgq1ux/assets\n",
      "2022-11-22 10:13:34.672483: W tensorflow/compiler/mlir/lite/python/tf_tfl_flatbuffer_helpers.cc:362] Ignored output_format.\n",
      "2022-11-22 10:13:34.672579: W tensorflow/compiler/mlir/lite/python/tf_tfl_flatbuffer_helpers.cc:365] Ignored drop_control_dependency.\n",
      "2022-11-22 10:13:34.672794: I tensorflow/cc/saved_model/reader.cc:45] Reading SavedModel from: /tmp/tmp5isgq1ux\n",
      "2022-11-22 10:13:34.674965: I tensorflow/cc/saved_model/reader.cc:89] Reading meta graph with tags { serve }\n",
      "2022-11-22 10:13:34.675013: I tensorflow/cc/saved_model/reader.cc:130] Reading SavedModel debug info (if present) from: /tmp/tmp5isgq1ux\n",
      "2022-11-22 10:13:34.682319: I tensorflow/cc/saved_model/loader.cc:229] Restoring SavedModel bundle.\n",
      "2022-11-22 10:13:34.744417: I tensorflow/cc/saved_model/loader.cc:213] Running initialization op on SavedModel bundle at path: /tmp/tmp5isgq1ux\n",
      "2022-11-22 10:13:34.761506: I tensorflow/cc/saved_model/loader.cc:305] SavedModel load for tags { serve }; Status: success: OK. Took 88711 microseconds.\n",
      "WARNING:absl:Found untraced functions such as _jit_compiled_convolution_op, _jit_compiled_convolution_op while saving (showing 2 of 2). These functions will not be directly callable after loading.\n"
     ]
    },
    {
     "name": "stdout",
     "output_type": "stream",
     "text": [
      "INFO:tensorflow:Assets written to: /tmp/tmp7fkhq6if/assets\n"
     ]
    },
    {
     "name": "stderr",
     "output_type": "stream",
     "text": [
      "INFO:tensorflow:Assets written to: /tmp/tmp7fkhq6if/assets\n",
      "2022-11-22 10:13:36.610960: W tensorflow/compiler/mlir/lite/python/tf_tfl_flatbuffer_helpers.cc:362] Ignored output_format.\n",
      "2022-11-22 10:13:36.611056: W tensorflow/compiler/mlir/lite/python/tf_tfl_flatbuffer_helpers.cc:365] Ignored drop_control_dependency.\n",
      "2022-11-22 10:13:36.611263: I tensorflow/cc/saved_model/reader.cc:45] Reading SavedModel from: /tmp/tmp7fkhq6if\n",
      "2022-11-22 10:13:36.613440: I tensorflow/cc/saved_model/reader.cc:89] Reading meta graph with tags { serve }\n",
      "2022-11-22 10:13:36.613490: I tensorflow/cc/saved_model/reader.cc:130] Reading SavedModel debug info (if present) from: /tmp/tmp7fkhq6if\n",
      "2022-11-22 10:13:36.620768: I tensorflow/cc/saved_model/loader.cc:229] Restoring SavedModel bundle.\n",
      "2022-11-22 10:13:36.682533: I tensorflow/cc/saved_model/loader.cc:213] Running initialization op on SavedModel bundle at path: /tmp/tmp7fkhq6if\n",
      "2022-11-22 10:13:36.699129: I tensorflow/cc/saved_model/loader.cc:305] SavedModel load for tags { serve }; Status: success: OK. Took 87865 microseconds.\n",
      "WARNING:absl:Found untraced functions such as _jit_compiled_convolution_op, _jit_compiled_convolution_op while saving (showing 2 of 2). These functions will not be directly callable after loading.\n"
     ]
    },
    {
     "name": "stdout",
     "output_type": "stream",
     "text": [
      "INFO:tensorflow:Assets written to: /tmp/tmp_wco0f6b/assets\n"
     ]
    },
    {
     "name": "stderr",
     "output_type": "stream",
     "text": [
      "INFO:tensorflow:Assets written to: /tmp/tmp_wco0f6b/assets\n",
      "2022-11-22 10:13:38.562720: W tensorflow/compiler/mlir/lite/python/tf_tfl_flatbuffer_helpers.cc:362] Ignored output_format.\n",
      "2022-11-22 10:13:38.562824: W tensorflow/compiler/mlir/lite/python/tf_tfl_flatbuffer_helpers.cc:365] Ignored drop_control_dependency.\n",
      "2022-11-22 10:13:38.563040: I tensorflow/cc/saved_model/reader.cc:45] Reading SavedModel from: /tmp/tmp_wco0f6b\n",
      "2022-11-22 10:13:38.565244: I tensorflow/cc/saved_model/reader.cc:89] Reading meta graph with tags { serve }\n",
      "2022-11-22 10:13:38.565295: I tensorflow/cc/saved_model/reader.cc:130] Reading SavedModel debug info (if present) from: /tmp/tmp_wco0f6b\n",
      "2022-11-22 10:13:38.572863: I tensorflow/cc/saved_model/loader.cc:229] Restoring SavedModel bundle.\n",
      "2022-11-22 10:13:38.641432: I tensorflow/cc/saved_model/loader.cc:213] Running initialization op on SavedModel bundle at path: /tmp/tmp_wco0f6b\n",
      "2022-11-22 10:13:38.659326: I tensorflow/cc/saved_model/loader.cc:305] SavedModel load for tags { serve }; Status: success: OK. Took 96285 microseconds.\n",
      "WARNING:absl:Found untraced functions such as _jit_compiled_convolution_op, _jit_compiled_convolution_op while saving (showing 2 of 2). These functions will not be directly callable after loading.\n"
     ]
    },
    {
     "name": "stdout",
     "output_type": "stream",
     "text": [
      "INFO:tensorflow:Assets written to: /tmp/tmpf1d1676z/assets\n"
     ]
    },
    {
     "name": "stderr",
     "output_type": "stream",
     "text": [
      "INFO:tensorflow:Assets written to: /tmp/tmpf1d1676z/assets\n",
      "2022-11-22 10:13:43.370523: W tensorflow/compiler/mlir/lite/python/tf_tfl_flatbuffer_helpers.cc:362] Ignored output_format.\n",
      "2022-11-22 10:13:43.370621: W tensorflow/compiler/mlir/lite/python/tf_tfl_flatbuffer_helpers.cc:365] Ignored drop_control_dependency.\n",
      "2022-11-22 10:13:43.370832: I tensorflow/cc/saved_model/reader.cc:45] Reading SavedModel from: /tmp/tmpf1d1676z\n",
      "2022-11-22 10:13:43.376583: I tensorflow/cc/saved_model/reader.cc:89] Reading meta graph with tags { serve }\n",
      "2022-11-22 10:13:43.376651: I tensorflow/cc/saved_model/reader.cc:130] Reading SavedModel debug info (if present) from: /tmp/tmpf1d1676z\n",
      "2022-11-22 10:13:43.402123: I tensorflow/cc/saved_model/loader.cc:229] Restoring SavedModel bundle.\n",
      "2022-11-22 10:13:43.552377: I tensorflow/cc/saved_model/loader.cc:213] Running initialization op on SavedModel bundle at path: /tmp/tmpf1d1676z\n",
      "2022-11-22 10:13:43.599497: I tensorflow/cc/saved_model/loader.cc:305] SavedModel load for tags { serve }; Status: success: OK. Took 228662 microseconds.\n",
      "WARNING:absl:Found untraced functions such as _jit_compiled_convolution_op, _jit_compiled_convolution_op while saving (showing 2 of 2). These functions will not be directly callable after loading.\n"
     ]
    },
    {
     "name": "stdout",
     "output_type": "stream",
     "text": [
      "INFO:tensorflow:Assets written to: /tmp/tmp2bngab_9/assets\n"
     ]
    },
    {
     "name": "stderr",
     "output_type": "stream",
     "text": [
      "INFO:tensorflow:Assets written to: /tmp/tmp2bngab_9/assets\n",
      "2022-11-22 10:13:45.940517: W tensorflow/compiler/mlir/lite/python/tf_tfl_flatbuffer_helpers.cc:362] Ignored output_format.\n",
      "2022-11-22 10:13:45.940615: W tensorflow/compiler/mlir/lite/python/tf_tfl_flatbuffer_helpers.cc:365] Ignored drop_control_dependency.\n",
      "2022-11-22 10:13:45.940826: I tensorflow/cc/saved_model/reader.cc:45] Reading SavedModel from: /tmp/tmp2bngab_9\n",
      "2022-11-22 10:13:45.945798: I tensorflow/cc/saved_model/reader.cc:89] Reading meta graph with tags { serve }\n",
      "2022-11-22 10:13:45.945871: I tensorflow/cc/saved_model/reader.cc:130] Reading SavedModel debug info (if present) from: /tmp/tmp2bngab_9\n",
      "2022-11-22 10:13:45.965758: I tensorflow/cc/saved_model/loader.cc:229] Restoring SavedModel bundle.\n",
      "2022-11-22 10:13:46.070338: I tensorflow/cc/saved_model/loader.cc:213] Running initialization op on SavedModel bundle at path: /tmp/tmp2bngab_9\n",
      "2022-11-22 10:13:46.103433: I tensorflow/cc/saved_model/loader.cc:305] SavedModel load for tags { serve }; Status: success: OK. Took 162605 microseconds.\n",
      "WARNING:absl:Found untraced functions such as _jit_compiled_convolution_op, _jit_compiled_convolution_op while saving (showing 2 of 2). These functions will not be directly callable after loading.\n"
     ]
    },
    {
     "name": "stdout",
     "output_type": "stream",
     "text": [
      "INFO:tensorflow:Assets written to: /tmp/tmp_i27t4de/assets\n"
     ]
    },
    {
     "name": "stderr",
     "output_type": "stream",
     "text": [
      "INFO:tensorflow:Assets written to: /tmp/tmp_i27t4de/assets\n",
      "2022-11-22 10:13:48.219802: W tensorflow/compiler/mlir/lite/python/tf_tfl_flatbuffer_helpers.cc:362] Ignored output_format.\n",
      "2022-11-22 10:13:48.219902: W tensorflow/compiler/mlir/lite/python/tf_tfl_flatbuffer_helpers.cc:365] Ignored drop_control_dependency.\n",
      "2022-11-22 10:13:48.220104: I tensorflow/cc/saved_model/reader.cc:45] Reading SavedModel from: /tmp/tmp_i27t4de\n",
      "2022-11-22 10:13:48.223753: I tensorflow/cc/saved_model/reader.cc:89] Reading meta graph with tags { serve }\n",
      "2022-11-22 10:13:48.223820: I tensorflow/cc/saved_model/reader.cc:130] Reading SavedModel debug info (if present) from: /tmp/tmp_i27t4de\n",
      "2022-11-22 10:13:48.235327: I tensorflow/cc/saved_model/loader.cc:229] Restoring SavedModel bundle.\n",
      "2022-11-22 10:13:48.309038: I tensorflow/cc/saved_model/loader.cc:213] Running initialization op on SavedModel bundle at path: /tmp/tmp_i27t4de\n",
      "2022-11-22 10:13:48.328767: I tensorflow/cc/saved_model/loader.cc:305] SavedModel load for tags { serve }; Status: success: OK. Took 108661 microseconds.\n",
      "WARNING:absl:Found untraced functions such as _jit_compiled_convolution_op, _jit_compiled_convolution_op while saving (showing 2 of 2). These functions will not be directly callable after loading.\n"
     ]
    },
    {
     "name": "stdout",
     "output_type": "stream",
     "text": [
      "INFO:tensorflow:Assets written to: /tmp/tmpzgz03_kv/assets\n"
     ]
    },
    {
     "name": "stderr",
     "output_type": "stream",
     "text": [
      "INFO:tensorflow:Assets written to: /tmp/tmpzgz03_kv/assets\n",
      "2022-11-22 10:13:50.282000: W tensorflow/compiler/mlir/lite/python/tf_tfl_flatbuffer_helpers.cc:362] Ignored output_format.\n",
      "2022-11-22 10:13:50.282100: W tensorflow/compiler/mlir/lite/python/tf_tfl_flatbuffer_helpers.cc:365] Ignored drop_control_dependency.\n",
      "2022-11-22 10:13:50.282299: I tensorflow/cc/saved_model/reader.cc:45] Reading SavedModel from: /tmp/tmpzgz03_kv\n",
      "2022-11-22 10:13:50.284847: I tensorflow/cc/saved_model/reader.cc:89] Reading meta graph with tags { serve }\n",
      "2022-11-22 10:13:50.284903: I tensorflow/cc/saved_model/reader.cc:130] Reading SavedModel debug info (if present) from: /tmp/tmpzgz03_kv\n",
      "2022-11-22 10:13:50.293452: I tensorflow/cc/saved_model/loader.cc:229] Restoring SavedModel bundle.\n",
      "2022-11-22 10:13:50.361038: I tensorflow/cc/saved_model/loader.cc:213] Running initialization op on SavedModel bundle at path: /tmp/tmpzgz03_kv\n",
      "2022-11-22 10:13:50.379524: I tensorflow/cc/saved_model/loader.cc:305] SavedModel load for tags { serve }; Status: success: OK. Took 97224 microseconds.\n",
      "WARNING:absl:Found untraced functions such as _jit_compiled_convolution_op, _jit_compiled_convolution_op while saving (showing 2 of 2). These functions will not be directly callable after loading.\n"
     ]
    },
    {
     "name": "stdout",
     "output_type": "stream",
     "text": [
      "INFO:tensorflow:Assets written to: /tmp/tmp_iunj6xd/assets\n"
     ]
    },
    {
     "name": "stderr",
     "output_type": "stream",
     "text": [
      "INFO:tensorflow:Assets written to: /tmp/tmp_iunj6xd/assets\n",
      "2022-11-22 10:13:52.309053: W tensorflow/compiler/mlir/lite/python/tf_tfl_flatbuffer_helpers.cc:362] Ignored output_format.\n",
      "2022-11-22 10:13:52.309157: W tensorflow/compiler/mlir/lite/python/tf_tfl_flatbuffer_helpers.cc:365] Ignored drop_control_dependency.\n",
      "2022-11-22 10:13:52.309359: I tensorflow/cc/saved_model/reader.cc:45] Reading SavedModel from: /tmp/tmp_iunj6xd\n",
      "2022-11-22 10:13:52.311769: I tensorflow/cc/saved_model/reader.cc:89] Reading meta graph with tags { serve }\n",
      "2022-11-22 10:13:52.311836: I tensorflow/cc/saved_model/reader.cc:130] Reading SavedModel debug info (if present) from: /tmp/tmp_iunj6xd\n",
      "2022-11-22 10:13:52.319803: I tensorflow/cc/saved_model/loader.cc:229] Restoring SavedModel bundle.\n",
      "2022-11-22 10:13:52.385870: I tensorflow/cc/saved_model/loader.cc:213] Running initialization op on SavedModel bundle at path: /tmp/tmp_iunj6xd\n",
      "2022-11-22 10:13:52.403250: I tensorflow/cc/saved_model/loader.cc:305] SavedModel load for tags { serve }; Status: success: OK. Took 93890 microseconds.\n",
      "WARNING:absl:Found untraced functions such as _jit_compiled_convolution_op, _jit_compiled_convolution_op while saving (showing 2 of 2). These functions will not be directly callable after loading.\n"
     ]
    },
    {
     "name": "stdout",
     "output_type": "stream",
     "text": [
      "INFO:tensorflow:Assets written to: /tmp/tmpmtkvp68f/assets\n"
     ]
    },
    {
     "name": "stderr",
     "output_type": "stream",
     "text": [
      "INFO:tensorflow:Assets written to: /tmp/tmpmtkvp68f/assets\n",
      "2022-11-22 10:13:54.360055: W tensorflow/compiler/mlir/lite/python/tf_tfl_flatbuffer_helpers.cc:362] Ignored output_format.\n",
      "2022-11-22 10:13:54.360154: W tensorflow/compiler/mlir/lite/python/tf_tfl_flatbuffer_helpers.cc:365] Ignored drop_control_dependency.\n",
      "2022-11-22 10:13:54.360355: I tensorflow/cc/saved_model/reader.cc:45] Reading SavedModel from: /tmp/tmpmtkvp68f\n",
      "2022-11-22 10:13:54.362866: I tensorflow/cc/saved_model/reader.cc:89] Reading meta graph with tags { serve }\n",
      "2022-11-22 10:13:54.362981: I tensorflow/cc/saved_model/reader.cc:130] Reading SavedModel debug info (if present) from: /tmp/tmpmtkvp68f\n",
      "2022-11-22 10:13:54.372156: I tensorflow/cc/saved_model/loader.cc:229] Restoring SavedModel bundle.\n",
      "2022-11-22 10:13:54.453078: I tensorflow/cc/saved_model/loader.cc:213] Running initialization op on SavedModel bundle at path: /tmp/tmpmtkvp68f\n",
      "2022-11-22 10:13:54.479165: I tensorflow/cc/saved_model/loader.cc:305] SavedModel load for tags { serve }; Status: success: OK. Took 118809 microseconds.\n",
      "WARNING:absl:Found untraced functions such as _jit_compiled_convolution_op, _jit_compiled_convolution_op while saving (showing 2 of 2). These functions will not be directly callable after loading.\n"
     ]
    },
    {
     "name": "stdout",
     "output_type": "stream",
     "text": [
      "INFO:tensorflow:Assets written to: /tmp/tmp5shsp881/assets\n"
     ]
    },
    {
     "name": "stderr",
     "output_type": "stream",
     "text": [
      "INFO:tensorflow:Assets written to: /tmp/tmp5shsp881/assets\n",
      "2022-11-22 10:13:56.389716: W tensorflow/compiler/mlir/lite/python/tf_tfl_flatbuffer_helpers.cc:362] Ignored output_format.\n",
      "2022-11-22 10:13:56.389815: W tensorflow/compiler/mlir/lite/python/tf_tfl_flatbuffer_helpers.cc:365] Ignored drop_control_dependency.\n",
      "2022-11-22 10:13:56.390013: I tensorflow/cc/saved_model/reader.cc:45] Reading SavedModel from: /tmp/tmp5shsp881\n",
      "2022-11-22 10:13:56.392621: I tensorflow/cc/saved_model/reader.cc:89] Reading meta graph with tags { serve }\n",
      "2022-11-22 10:13:56.392686: I tensorflow/cc/saved_model/reader.cc:130] Reading SavedModel debug info (if present) from: /tmp/tmp5shsp881\n",
      "2022-11-22 10:13:56.400502: I tensorflow/cc/saved_model/loader.cc:229] Restoring SavedModel bundle.\n",
      "2022-11-22 10:13:56.464835: I tensorflow/cc/saved_model/loader.cc:213] Running initialization op on SavedModel bundle at path: /tmp/tmp5shsp881\n",
      "2022-11-22 10:13:56.483133: I tensorflow/cc/saved_model/loader.cc:305] SavedModel load for tags { serve }; Status: success: OK. Took 93117 microseconds.\n",
      "WARNING:absl:Found untraced functions such as _jit_compiled_convolution_op, _jit_compiled_convolution_op while saving (showing 2 of 2). These functions will not be directly callable after loading.\n"
     ]
    },
    {
     "name": "stdout",
     "output_type": "stream",
     "text": [
      "INFO:tensorflow:Assets written to: /tmp/tmpdjj4nl16/assets\n"
     ]
    },
    {
     "name": "stderr",
     "output_type": "stream",
     "text": [
      "INFO:tensorflow:Assets written to: /tmp/tmpdjj4nl16/assets\n",
      "2022-11-22 10:13:58.332662: W tensorflow/compiler/mlir/lite/python/tf_tfl_flatbuffer_helpers.cc:362] Ignored output_format.\n",
      "2022-11-22 10:13:58.332757: W tensorflow/compiler/mlir/lite/python/tf_tfl_flatbuffer_helpers.cc:365] Ignored drop_control_dependency.\n",
      "2022-11-22 10:13:58.332966: I tensorflow/cc/saved_model/reader.cc:45] Reading SavedModel from: /tmp/tmpdjj4nl16\n",
      "2022-11-22 10:13:58.335190: I tensorflow/cc/saved_model/reader.cc:89] Reading meta graph with tags { serve }\n",
      "2022-11-22 10:13:58.335240: I tensorflow/cc/saved_model/reader.cc:130] Reading SavedModel debug info (if present) from: /tmp/tmpdjj4nl16\n",
      "2022-11-22 10:13:58.343104: I tensorflow/cc/saved_model/loader.cc:229] Restoring SavedModel bundle.\n",
      "2022-11-22 10:13:58.404951: I tensorflow/cc/saved_model/loader.cc:213] Running initialization op on SavedModel bundle at path: /tmp/tmpdjj4nl16\n",
      "2022-11-22 10:13:58.421381: I tensorflow/cc/saved_model/loader.cc:305] SavedModel load for tags { serve }; Status: success: OK. Took 88414 microseconds.\n",
      "WARNING:absl:Found untraced functions such as _jit_compiled_convolution_op, _jit_compiled_convolution_op while saving (showing 2 of 2). These functions will not be directly callable after loading.\n"
     ]
    },
    {
     "name": "stdout",
     "output_type": "stream",
     "text": [
      "INFO:tensorflow:Assets written to: /tmp/tmpzhnjqisc/assets\n"
     ]
    },
    {
     "name": "stderr",
     "output_type": "stream",
     "text": [
      "INFO:tensorflow:Assets written to: /tmp/tmpzhnjqisc/assets\n",
      "2022-11-22 10:14:00.306451: W tensorflow/compiler/mlir/lite/python/tf_tfl_flatbuffer_helpers.cc:362] Ignored output_format.\n",
      "2022-11-22 10:14:00.306551: W tensorflow/compiler/mlir/lite/python/tf_tfl_flatbuffer_helpers.cc:365] Ignored drop_control_dependency.\n",
      "2022-11-22 10:14:00.306752: I tensorflow/cc/saved_model/reader.cc:45] Reading SavedModel from: /tmp/tmpzhnjqisc\n",
      "2022-11-22 10:14:00.308941: I tensorflow/cc/saved_model/reader.cc:89] Reading meta graph with tags { serve }\n",
      "2022-11-22 10:14:00.308995: I tensorflow/cc/saved_model/reader.cc:130] Reading SavedModel debug info (if present) from: /tmp/tmpzhnjqisc\n",
      "2022-11-22 10:14:00.316945: I tensorflow/cc/saved_model/loader.cc:229] Restoring SavedModel bundle.\n",
      "2022-11-22 10:14:00.386009: I tensorflow/cc/saved_model/loader.cc:213] Running initialization op on SavedModel bundle at path: /tmp/tmpzhnjqisc\n",
      "2022-11-22 10:14:00.406082: I tensorflow/cc/saved_model/loader.cc:305] SavedModel load for tags { serve }; Status: success: OK. Took 99293 microseconds.\n",
      "WARNING:absl:Found untraced functions such as _jit_compiled_convolution_op, _jit_compiled_convolution_op while saving (showing 2 of 2). These functions will not be directly callable after loading.\n"
     ]
    },
    {
     "name": "stdout",
     "output_type": "stream",
     "text": [
      "INFO:tensorflow:Assets written to: /tmp/tmpstpygwiz/assets\n"
     ]
    },
    {
     "name": "stderr",
     "output_type": "stream",
     "text": [
      "INFO:tensorflow:Assets written to: /tmp/tmpstpygwiz/assets\n",
      "2022-11-22 10:14:02.306163: W tensorflow/compiler/mlir/lite/python/tf_tfl_flatbuffer_helpers.cc:362] Ignored output_format.\n",
      "2022-11-22 10:14:02.306260: W tensorflow/compiler/mlir/lite/python/tf_tfl_flatbuffer_helpers.cc:365] Ignored drop_control_dependency.\n",
      "2022-11-22 10:14:02.306454: I tensorflow/cc/saved_model/reader.cc:45] Reading SavedModel from: /tmp/tmpstpygwiz\n",
      "2022-11-22 10:14:02.308636: I tensorflow/cc/saved_model/reader.cc:89] Reading meta graph with tags { serve }\n",
      "2022-11-22 10:14:02.308682: I tensorflow/cc/saved_model/reader.cc:130] Reading SavedModel debug info (if present) from: /tmp/tmpstpygwiz\n",
      "2022-11-22 10:14:02.315945: I tensorflow/cc/saved_model/loader.cc:229] Restoring SavedModel bundle.\n",
      "2022-11-22 10:14:02.377316: I tensorflow/cc/saved_model/loader.cc:213] Running initialization op on SavedModel bundle at path: /tmp/tmpstpygwiz\n",
      "2022-11-22 10:14:02.394032: I tensorflow/cc/saved_model/loader.cc:305] SavedModel load for tags { serve }; Status: success: OK. Took 87576 microseconds.\n",
      "WARNING:absl:Found untraced functions such as _jit_compiled_convolution_op, _jit_compiled_convolution_op while saving (showing 2 of 2). These functions will not be directly callable after loading.\n"
     ]
    },
    {
     "name": "stdout",
     "output_type": "stream",
     "text": [
      "INFO:tensorflow:Assets written to: /tmp/tmpldimwbhn/assets\n"
     ]
    },
    {
     "name": "stderr",
     "output_type": "stream",
     "text": [
      "INFO:tensorflow:Assets written to: /tmp/tmpldimwbhn/assets\n",
      "2022-11-22 10:14:04.246140: W tensorflow/compiler/mlir/lite/python/tf_tfl_flatbuffer_helpers.cc:362] Ignored output_format.\n",
      "2022-11-22 10:14:04.246228: W tensorflow/compiler/mlir/lite/python/tf_tfl_flatbuffer_helpers.cc:365] Ignored drop_control_dependency.\n",
      "2022-11-22 10:14:04.246421: I tensorflow/cc/saved_model/reader.cc:45] Reading SavedModel from: /tmp/tmpldimwbhn\n",
      "2022-11-22 10:14:04.248619: I tensorflow/cc/saved_model/reader.cc:89] Reading meta graph with tags { serve }\n",
      "2022-11-22 10:14:04.248669: I tensorflow/cc/saved_model/reader.cc:130] Reading SavedModel debug info (if present) from: /tmp/tmpldimwbhn\n",
      "2022-11-22 10:14:04.256150: I tensorflow/cc/saved_model/loader.cc:229] Restoring SavedModel bundle.\n",
      "2022-11-22 10:14:04.318211: I tensorflow/cc/saved_model/loader.cc:213] Running initialization op on SavedModel bundle at path: /tmp/tmpldimwbhn\n",
      "2022-11-22 10:14:04.335286: I tensorflow/cc/saved_model/loader.cc:305] SavedModel load for tags { serve }; Status: success: OK. Took 88864 microseconds.\n",
      "WARNING:absl:Found untraced functions such as _jit_compiled_convolution_op, _jit_compiled_convolution_op while saving (showing 2 of 2). These functions will not be directly callable after loading.\n"
     ]
    },
    {
     "name": "stdout",
     "output_type": "stream",
     "text": [
      "INFO:tensorflow:Assets written to: /tmp/tmpuqloh902/assets\n"
     ]
    },
    {
     "name": "stderr",
     "output_type": "stream",
     "text": [
      "INFO:tensorflow:Assets written to: /tmp/tmpuqloh902/assets\n",
      "2022-11-22 10:14:08.845662: W tensorflow/compiler/mlir/lite/python/tf_tfl_flatbuffer_helpers.cc:362] Ignored output_format.\n",
      "2022-11-22 10:14:08.845768: W tensorflow/compiler/mlir/lite/python/tf_tfl_flatbuffer_helpers.cc:365] Ignored drop_control_dependency.\n",
      "2022-11-22 10:14:08.845990: I tensorflow/cc/saved_model/reader.cc:45] Reading SavedModel from: /tmp/tmpuqloh902\n",
      "2022-11-22 10:14:08.852041: I tensorflow/cc/saved_model/reader.cc:89] Reading meta graph with tags { serve }\n",
      "2022-11-22 10:14:08.852111: I tensorflow/cc/saved_model/reader.cc:130] Reading SavedModel debug info (if present) from: /tmp/tmpuqloh902\n",
      "2022-11-22 10:14:08.876773: I tensorflow/cc/saved_model/loader.cc:229] Restoring SavedModel bundle.\n",
      "2022-11-22 10:14:09.028363: I tensorflow/cc/saved_model/loader.cc:213] Running initialization op on SavedModel bundle at path: /tmp/tmpuqloh902\n",
      "2022-11-22 10:14:09.075707: I tensorflow/cc/saved_model/loader.cc:305] SavedModel load for tags { serve }; Status: success: OK. Took 229715 microseconds.\n",
      "WARNING:absl:Found untraced functions such as _jit_compiled_convolution_op, _jit_compiled_convolution_op while saving (showing 2 of 2). These functions will not be directly callable after loading.\n"
     ]
    },
    {
     "name": "stdout",
     "output_type": "stream",
     "text": [
      "INFO:tensorflow:Assets written to: /tmp/tmpqg5h15cu/assets\n"
     ]
    },
    {
     "name": "stderr",
     "output_type": "stream",
     "text": [
      "INFO:tensorflow:Assets written to: /tmp/tmpqg5h15cu/assets\n",
      "2022-11-22 10:14:11.393947: W tensorflow/compiler/mlir/lite/python/tf_tfl_flatbuffer_helpers.cc:362] Ignored output_format.\n",
      "2022-11-22 10:14:11.394046: W tensorflow/compiler/mlir/lite/python/tf_tfl_flatbuffer_helpers.cc:365] Ignored drop_control_dependency.\n",
      "2022-11-22 10:14:11.394254: I tensorflow/cc/saved_model/reader.cc:45] Reading SavedModel from: /tmp/tmpqg5h15cu\n",
      "2022-11-22 10:14:11.398959: I tensorflow/cc/saved_model/reader.cc:89] Reading meta graph with tags { serve }\n",
      "2022-11-22 10:14:11.399028: I tensorflow/cc/saved_model/reader.cc:130] Reading SavedModel debug info (if present) from: /tmp/tmpqg5h15cu\n",
      "2022-11-22 10:14:11.417903: I tensorflow/cc/saved_model/loader.cc:229] Restoring SavedModel bundle.\n",
      "2022-11-22 10:14:11.533677: I tensorflow/cc/saved_model/loader.cc:213] Running initialization op on SavedModel bundle at path: /tmp/tmpqg5h15cu\n",
      "2022-11-22 10:14:11.567323: I tensorflow/cc/saved_model/loader.cc:305] SavedModel load for tags { serve }; Status: success: OK. Took 173067 microseconds.\n",
      "WARNING:absl:Found untraced functions such as _jit_compiled_convolution_op, _jit_compiled_convolution_op while saving (showing 2 of 2). These functions will not be directly callable after loading.\n"
     ]
    },
    {
     "name": "stdout",
     "output_type": "stream",
     "text": [
      "INFO:tensorflow:Assets written to: /tmp/tmp2z5585zq/assets\n"
     ]
    },
    {
     "name": "stderr",
     "output_type": "stream",
     "text": [
      "INFO:tensorflow:Assets written to: /tmp/tmp2z5585zq/assets\n",
      "2022-11-22 10:14:13.736537: W tensorflow/compiler/mlir/lite/python/tf_tfl_flatbuffer_helpers.cc:362] Ignored output_format.\n",
      "2022-11-22 10:14:13.736633: W tensorflow/compiler/mlir/lite/python/tf_tfl_flatbuffer_helpers.cc:365] Ignored drop_control_dependency.\n",
      "2022-11-22 10:14:13.736841: I tensorflow/cc/saved_model/reader.cc:45] Reading SavedModel from: /tmp/tmp2z5585zq\n",
      "2022-11-22 10:14:13.740758: I tensorflow/cc/saved_model/reader.cc:89] Reading meta graph with tags { serve }\n",
      "2022-11-22 10:14:13.740826: I tensorflow/cc/saved_model/reader.cc:130] Reading SavedModel debug info (if present) from: /tmp/tmp2z5585zq\n",
      "2022-11-22 10:14:13.752594: I tensorflow/cc/saved_model/loader.cc:229] Restoring SavedModel bundle.\n",
      "2022-11-22 10:14:13.823483: I tensorflow/cc/saved_model/loader.cc:213] Running initialization op on SavedModel bundle at path: /tmp/tmp2z5585zq\n",
      "2022-11-22 10:14:13.844551: I tensorflow/cc/saved_model/loader.cc:305] SavedModel load for tags { serve }; Status: success: OK. Took 107707 microseconds.\n",
      "WARNING:absl:Found untraced functions such as _jit_compiled_convolution_op, _jit_compiled_convolution_op while saving (showing 2 of 2). These functions will not be directly callable after loading.\n"
     ]
    },
    {
     "name": "stdout",
     "output_type": "stream",
     "text": [
      "INFO:tensorflow:Assets written to: /tmp/tmpxsdobi4l/assets\n"
     ]
    },
    {
     "name": "stderr",
     "output_type": "stream",
     "text": [
      "INFO:tensorflow:Assets written to: /tmp/tmpxsdobi4l/assets\n",
      "2022-11-22 10:14:15.809826: W tensorflow/compiler/mlir/lite/python/tf_tfl_flatbuffer_helpers.cc:362] Ignored output_format.\n",
      "2022-11-22 10:14:15.809925: W tensorflow/compiler/mlir/lite/python/tf_tfl_flatbuffer_helpers.cc:365] Ignored drop_control_dependency.\n",
      "2022-11-22 10:14:15.810120: I tensorflow/cc/saved_model/reader.cc:45] Reading SavedModel from: /tmp/tmpxsdobi4l\n",
      "2022-11-22 10:14:15.812692: I tensorflow/cc/saved_model/reader.cc:89] Reading meta graph with tags { serve }\n",
      "2022-11-22 10:14:15.812752: I tensorflow/cc/saved_model/reader.cc:130] Reading SavedModel debug info (if present) from: /tmp/tmpxsdobi4l\n",
      "2022-11-22 10:14:15.821581: I tensorflow/cc/saved_model/loader.cc:229] Restoring SavedModel bundle.\n",
      "2022-11-22 10:14:15.889402: I tensorflow/cc/saved_model/loader.cc:213] Running initialization op on SavedModel bundle at path: /tmp/tmpxsdobi4l\n",
      "2022-11-22 10:14:15.908904: I tensorflow/cc/saved_model/loader.cc:305] SavedModel load for tags { serve }; Status: success: OK. Took 98782 microseconds.\n",
      "WARNING:absl:Found untraced functions such as _jit_compiled_convolution_op, _jit_compiled_convolution_op while saving (showing 2 of 2). These functions will not be directly callable after loading.\n"
     ]
    },
    {
     "name": "stdout",
     "output_type": "stream",
     "text": [
      "INFO:tensorflow:Assets written to: /tmp/tmp6d6qaqck/assets\n"
     ]
    },
    {
     "name": "stderr",
     "output_type": "stream",
     "text": [
      "INFO:tensorflow:Assets written to: /tmp/tmp6d6qaqck/assets\n",
      "2022-11-22 10:14:17.830244: W tensorflow/compiler/mlir/lite/python/tf_tfl_flatbuffer_helpers.cc:362] Ignored output_format.\n",
      "2022-11-22 10:14:17.830347: W tensorflow/compiler/mlir/lite/python/tf_tfl_flatbuffer_helpers.cc:365] Ignored drop_control_dependency.\n",
      "2022-11-22 10:14:17.830543: I tensorflow/cc/saved_model/reader.cc:45] Reading SavedModel from: /tmp/tmp6d6qaqck\n",
      "2022-11-22 10:14:17.832974: I tensorflow/cc/saved_model/reader.cc:89] Reading meta graph with tags { serve }\n",
      "2022-11-22 10:14:17.833034: I tensorflow/cc/saved_model/reader.cc:130] Reading SavedModel debug info (if present) from: /tmp/tmp6d6qaqck\n",
      "2022-11-22 10:14:17.841145: I tensorflow/cc/saved_model/loader.cc:229] Restoring SavedModel bundle.\n",
      "2022-11-22 10:14:17.908546: I tensorflow/cc/saved_model/loader.cc:213] Running initialization op on SavedModel bundle at path: /tmp/tmp6d6qaqck\n",
      "2022-11-22 10:14:17.926378: I tensorflow/cc/saved_model/loader.cc:305] SavedModel load for tags { serve }; Status: success: OK. Took 95833 microseconds.\n",
      "WARNING:absl:Found untraced functions such as _jit_compiled_convolution_op, _jit_compiled_convolution_op while saving (showing 2 of 2). These functions will not be directly callable after loading.\n"
     ]
    },
    {
     "name": "stdout",
     "output_type": "stream",
     "text": [
      "INFO:tensorflow:Assets written to: /tmp/tmp_hxp3855/assets\n"
     ]
    },
    {
     "name": "stderr",
     "output_type": "stream",
     "text": [
      "INFO:tensorflow:Assets written to: /tmp/tmp_hxp3855/assets\n",
      "2022-11-22 10:14:19.891836: W tensorflow/compiler/mlir/lite/python/tf_tfl_flatbuffer_helpers.cc:362] Ignored output_format.\n",
      "2022-11-22 10:14:19.891946: W tensorflow/compiler/mlir/lite/python/tf_tfl_flatbuffer_helpers.cc:365] Ignored drop_control_dependency.\n",
      "2022-11-22 10:14:19.892160: I tensorflow/cc/saved_model/reader.cc:45] Reading SavedModel from: /tmp/tmp_hxp3855\n",
      "2022-11-22 10:14:19.894520: I tensorflow/cc/saved_model/reader.cc:89] Reading meta graph with tags { serve }\n",
      "2022-11-22 10:14:19.894585: I tensorflow/cc/saved_model/reader.cc:130] Reading SavedModel debug info (if present) from: /tmp/tmp_hxp3855\n",
      "2022-11-22 10:14:19.903066: I tensorflow/cc/saved_model/loader.cc:229] Restoring SavedModel bundle.\n",
      "2022-11-22 10:14:19.977681: I tensorflow/cc/saved_model/loader.cc:213] Running initialization op on SavedModel bundle at path: /tmp/tmp_hxp3855\n",
      "2022-11-22 10:14:19.995988: I tensorflow/cc/saved_model/loader.cc:305] SavedModel load for tags { serve }; Status: success: OK. Took 103827 microseconds.\n",
      "WARNING:absl:Found untraced functions such as _jit_compiled_convolution_op, _jit_compiled_convolution_op while saving (showing 2 of 2). These functions will not be directly callable after loading.\n"
     ]
    },
    {
     "name": "stdout",
     "output_type": "stream",
     "text": [
      "INFO:tensorflow:Assets written to: /tmp/tmpyc_jqdey/assets\n"
     ]
    },
    {
     "name": "stderr",
     "output_type": "stream",
     "text": [
      "INFO:tensorflow:Assets written to: /tmp/tmpyc_jqdey/assets\n",
      "2022-11-22 10:14:21.901758: W tensorflow/compiler/mlir/lite/python/tf_tfl_flatbuffer_helpers.cc:362] Ignored output_format.\n",
      "2022-11-22 10:14:21.901871: W tensorflow/compiler/mlir/lite/python/tf_tfl_flatbuffer_helpers.cc:365] Ignored drop_control_dependency.\n",
      "2022-11-22 10:14:21.902073: I tensorflow/cc/saved_model/reader.cc:45] Reading SavedModel from: /tmp/tmpyc_jqdey\n",
      "2022-11-22 10:14:21.904398: I tensorflow/cc/saved_model/reader.cc:89] Reading meta graph with tags { serve }\n",
      "2022-11-22 10:14:21.904453: I tensorflow/cc/saved_model/reader.cc:130] Reading SavedModel debug info (if present) from: /tmp/tmpyc_jqdey\n",
      "2022-11-22 10:14:21.912249: I tensorflow/cc/saved_model/loader.cc:229] Restoring SavedModel bundle.\n",
      "2022-11-22 10:14:21.977399: I tensorflow/cc/saved_model/loader.cc:213] Running initialization op on SavedModel bundle at path: /tmp/tmpyc_jqdey\n",
      "2022-11-22 10:14:21.995197: I tensorflow/cc/saved_model/loader.cc:305] SavedModel load for tags { serve }; Status: success: OK. Took 93122 microseconds.\n",
      "WARNING:absl:Found untraced functions such as _jit_compiled_convolution_op, _jit_compiled_convolution_op while saving (showing 2 of 2). These functions will not be directly callable after loading.\n"
     ]
    },
    {
     "name": "stdout",
     "output_type": "stream",
     "text": [
      "INFO:tensorflow:Assets written to: /tmp/tmpywf2ebxx/assets\n"
     ]
    },
    {
     "name": "stderr",
     "output_type": "stream",
     "text": [
      "INFO:tensorflow:Assets written to: /tmp/tmpywf2ebxx/assets\n",
      "2022-11-22 10:14:23.917391: W tensorflow/compiler/mlir/lite/python/tf_tfl_flatbuffer_helpers.cc:362] Ignored output_format.\n",
      "2022-11-22 10:14:23.917493: W tensorflow/compiler/mlir/lite/python/tf_tfl_flatbuffer_helpers.cc:365] Ignored drop_control_dependency.\n",
      "2022-11-22 10:14:23.917693: I tensorflow/cc/saved_model/reader.cc:45] Reading SavedModel from: /tmp/tmpywf2ebxx\n",
      "2022-11-22 10:14:23.920202: I tensorflow/cc/saved_model/reader.cc:89] Reading meta graph with tags { serve }\n",
      "2022-11-22 10:14:23.920269: I tensorflow/cc/saved_model/reader.cc:130] Reading SavedModel debug info (if present) from: /tmp/tmpywf2ebxx\n",
      "2022-11-22 10:14:23.928126: I tensorflow/cc/saved_model/loader.cc:229] Restoring SavedModel bundle.\n",
      "2022-11-22 10:14:23.995340: I tensorflow/cc/saved_model/loader.cc:213] Running initialization op on SavedModel bundle at path: /tmp/tmpywf2ebxx\n",
      "2022-11-22 10:14:24.014497: I tensorflow/cc/saved_model/loader.cc:305] SavedModel load for tags { serve }; Status: success: OK. Took 96800 microseconds.\n",
      "WARNING:absl:Found untraced functions such as _jit_compiled_convolution_op, _jit_compiled_convolution_op while saving (showing 2 of 2). These functions will not be directly callable after loading.\n"
     ]
    },
    {
     "name": "stdout",
     "output_type": "stream",
     "text": [
      "INFO:tensorflow:Assets written to: /tmp/tmpzz0b4cw_/assets\n"
     ]
    },
    {
     "name": "stderr",
     "output_type": "stream",
     "text": [
      "INFO:tensorflow:Assets written to: /tmp/tmpzz0b4cw_/assets\n",
      "2022-11-22 10:14:25.953471: W tensorflow/compiler/mlir/lite/python/tf_tfl_flatbuffer_helpers.cc:362] Ignored output_format.\n",
      "2022-11-22 10:14:25.953572: W tensorflow/compiler/mlir/lite/python/tf_tfl_flatbuffer_helpers.cc:365] Ignored drop_control_dependency.\n",
      "2022-11-22 10:14:25.953787: I tensorflow/cc/saved_model/reader.cc:45] Reading SavedModel from: /tmp/tmpzz0b4cw_\n",
      "2022-11-22 10:14:25.956165: I tensorflow/cc/saved_model/reader.cc:89] Reading meta graph with tags { serve }\n",
      "2022-11-22 10:14:25.956233: I tensorflow/cc/saved_model/reader.cc:130] Reading SavedModel debug info (if present) from: /tmp/tmpzz0b4cw_\n",
      "2022-11-22 10:14:25.963906: I tensorflow/cc/saved_model/loader.cc:229] Restoring SavedModel bundle.\n",
      "2022-11-22 10:14:26.029200: I tensorflow/cc/saved_model/loader.cc:213] Running initialization op on SavedModel bundle at path: /tmp/tmpzz0b4cw_\n",
      "2022-11-22 10:14:26.047983: I tensorflow/cc/saved_model/loader.cc:305] SavedModel load for tags { serve }; Status: success: OK. Took 94195 microseconds.\n",
      "WARNING:absl:Found untraced functions such as _jit_compiled_convolution_op, _jit_compiled_convolution_op while saving (showing 2 of 2). These functions will not be directly callable after loading.\n"
     ]
    },
    {
     "name": "stdout",
     "output_type": "stream",
     "text": [
      "INFO:tensorflow:Assets written to: /tmp/tmpxbp4x6qf/assets\n"
     ]
    },
    {
     "name": "stderr",
     "output_type": "stream",
     "text": [
      "INFO:tensorflow:Assets written to: /tmp/tmpxbp4x6qf/assets\n",
      "2022-11-22 10:14:30.362651: W tensorflow/compiler/mlir/lite/python/tf_tfl_flatbuffer_helpers.cc:362] Ignored output_format.\n",
      "2022-11-22 10:14:30.362745: W tensorflow/compiler/mlir/lite/python/tf_tfl_flatbuffer_helpers.cc:365] Ignored drop_control_dependency.\n",
      "2022-11-22 10:14:30.362982: I tensorflow/cc/saved_model/reader.cc:45] Reading SavedModel from: /tmp/tmpxbp4x6qf\n",
      "2022-11-22 10:14:30.368966: I tensorflow/cc/saved_model/reader.cc:89] Reading meta graph with tags { serve }\n",
      "2022-11-22 10:14:30.369036: I tensorflow/cc/saved_model/reader.cc:130] Reading SavedModel debug info (if present) from: /tmp/tmpxbp4x6qf\n",
      "2022-11-22 10:14:30.401439: I tensorflow/cc/saved_model/loader.cc:229] Restoring SavedModel bundle.\n",
      "2022-11-22 10:14:30.584013: I tensorflow/cc/saved_model/loader.cc:213] Running initialization op on SavedModel bundle at path: /tmp/tmpxbp4x6qf\n",
      "2022-11-22 10:14:30.642736: I tensorflow/cc/saved_model/loader.cc:305] SavedModel load for tags { serve }; Status: success: OK. Took 279752 microseconds.\n",
      "WARNING:absl:Found untraced functions such as _jit_compiled_convolution_op, _jit_compiled_convolution_op while saving (showing 2 of 2). These functions will not be directly callable after loading.\n"
     ]
    },
    {
     "name": "stdout",
     "output_type": "stream",
     "text": [
      "INFO:tensorflow:Assets written to: /tmp/tmpzntmpia_/assets\n"
     ]
    },
    {
     "name": "stderr",
     "output_type": "stream",
     "text": [
      "INFO:tensorflow:Assets written to: /tmp/tmpzntmpia_/assets\n",
      "2022-11-22 10:14:33.115522: W tensorflow/compiler/mlir/lite/python/tf_tfl_flatbuffer_helpers.cc:362] Ignored output_format.\n",
      "2022-11-22 10:14:33.115617: W tensorflow/compiler/mlir/lite/python/tf_tfl_flatbuffer_helpers.cc:365] Ignored drop_control_dependency.\n",
      "2022-11-22 10:14:33.115837: I tensorflow/cc/saved_model/reader.cc:45] Reading SavedModel from: /tmp/tmpzntmpia_\n",
      "2022-11-22 10:14:33.121301: I tensorflow/cc/saved_model/reader.cc:89] Reading meta graph with tags { serve }\n",
      "2022-11-22 10:14:33.121372: I tensorflow/cc/saved_model/reader.cc:130] Reading SavedModel debug info (if present) from: /tmp/tmpzntmpia_\n",
      "2022-11-22 10:14:33.143392: I tensorflow/cc/saved_model/loader.cc:229] Restoring SavedModel bundle.\n",
      "2022-11-22 10:14:33.259974: I tensorflow/cc/saved_model/loader.cc:213] Running initialization op on SavedModel bundle at path: /tmp/tmpzntmpia_\n",
      "2022-11-22 10:14:33.297593: I tensorflow/cc/saved_model/loader.cc:305] SavedModel load for tags { serve }; Status: success: OK. Took 181764 microseconds.\n",
      "WARNING:absl:Found untraced functions such as _jit_compiled_convolution_op, _jit_compiled_convolution_op while saving (showing 2 of 2). These functions will not be directly callable after loading.\n"
     ]
    },
    {
     "name": "stdout",
     "output_type": "stream",
     "text": [
      "INFO:tensorflow:Assets written to: /tmp/tmp8uygruyp/assets\n"
     ]
    },
    {
     "name": "stderr",
     "output_type": "stream",
     "text": [
      "INFO:tensorflow:Assets written to: /tmp/tmp8uygruyp/assets\n",
      "2022-11-22 10:14:35.575126: W tensorflow/compiler/mlir/lite/python/tf_tfl_flatbuffer_helpers.cc:362] Ignored output_format.\n",
      "2022-11-22 10:14:35.575221: W tensorflow/compiler/mlir/lite/python/tf_tfl_flatbuffer_helpers.cc:365] Ignored drop_control_dependency.\n",
      "2022-11-22 10:14:35.575435: I tensorflow/cc/saved_model/reader.cc:45] Reading SavedModel from: /tmp/tmp8uygruyp\n",
      "2022-11-22 10:14:35.579974: I tensorflow/cc/saved_model/reader.cc:89] Reading meta graph with tags { serve }\n",
      "2022-11-22 10:14:35.580040: I tensorflow/cc/saved_model/reader.cc:130] Reading SavedModel debug info (if present) from: /tmp/tmp8uygruyp\n",
      "2022-11-22 10:14:35.600353: I tensorflow/cc/saved_model/loader.cc:229] Restoring SavedModel bundle.\n",
      "2022-11-22 10:14:35.709114: I tensorflow/cc/saved_model/loader.cc:213] Running initialization op on SavedModel bundle at path: /tmp/tmp8uygruyp\n",
      "2022-11-22 10:14:35.742432: I tensorflow/cc/saved_model/loader.cc:305] SavedModel load for tags { serve }; Status: success: OK. Took 166995 microseconds.\n",
      "WARNING:absl:Found untraced functions such as _jit_compiled_convolution_op, _jit_compiled_convolution_op while saving (showing 2 of 2). These functions will not be directly callable after loading.\n"
     ]
    },
    {
     "name": "stdout",
     "output_type": "stream",
     "text": [
      "INFO:tensorflow:Assets written to: /tmp/tmptuopm3vp/assets\n"
     ]
    },
    {
     "name": "stderr",
     "output_type": "stream",
     "text": [
      "INFO:tensorflow:Assets written to: /tmp/tmptuopm3vp/assets\n",
      "2022-11-22 10:14:37.863794: W tensorflow/compiler/mlir/lite/python/tf_tfl_flatbuffer_helpers.cc:362] Ignored output_format.\n",
      "2022-11-22 10:14:37.863889: W tensorflow/compiler/mlir/lite/python/tf_tfl_flatbuffer_helpers.cc:365] Ignored drop_control_dependency.\n",
      "2022-11-22 10:14:37.864088: I tensorflow/cc/saved_model/reader.cc:45] Reading SavedModel from: /tmp/tmptuopm3vp\n",
      "2022-11-22 10:14:37.866798: I tensorflow/cc/saved_model/reader.cc:89] Reading meta graph with tags { serve }\n",
      "2022-11-22 10:14:37.866856: I tensorflow/cc/saved_model/reader.cc:130] Reading SavedModel debug info (if present) from: /tmp/tmptuopm3vp\n",
      "2022-11-22 10:14:37.876199: I tensorflow/cc/saved_model/loader.cc:229] Restoring SavedModel bundle.\n",
      "2022-11-22 10:14:37.950739: I tensorflow/cc/saved_model/loader.cc:213] Running initialization op on SavedModel bundle at path: /tmp/tmptuopm3vp\n",
      "2022-11-22 10:14:37.972052: I tensorflow/cc/saved_model/loader.cc:305] SavedModel load for tags { serve }; Status: success: OK. Took 107964 microseconds.\n",
      "WARNING:absl:Found untraced functions such as _jit_compiled_convolution_op, _jit_compiled_convolution_op while saving (showing 2 of 2). These functions will not be directly callable after loading.\n"
     ]
    },
    {
     "name": "stdout",
     "output_type": "stream",
     "text": [
      "INFO:tensorflow:Assets written to: /tmp/tmpttc4hukv/assets\n"
     ]
    },
    {
     "name": "stderr",
     "output_type": "stream",
     "text": [
      "INFO:tensorflow:Assets written to: /tmp/tmpttc4hukv/assets\n",
      "2022-11-22 10:14:39.971947: W tensorflow/compiler/mlir/lite/python/tf_tfl_flatbuffer_helpers.cc:362] Ignored output_format.\n",
      "2022-11-22 10:14:39.972045: W tensorflow/compiler/mlir/lite/python/tf_tfl_flatbuffer_helpers.cc:365] Ignored drop_control_dependency.\n",
      "2022-11-22 10:14:39.972283: I tensorflow/cc/saved_model/reader.cc:45] Reading SavedModel from: /tmp/tmpttc4hukv\n",
      "2022-11-22 10:14:39.974768: I tensorflow/cc/saved_model/reader.cc:89] Reading meta graph with tags { serve }\n",
      "2022-11-22 10:14:39.974828: I tensorflow/cc/saved_model/reader.cc:130] Reading SavedModel debug info (if present) from: /tmp/tmpttc4hukv\n",
      "2022-11-22 10:14:39.983565: I tensorflow/cc/saved_model/loader.cc:229] Restoring SavedModel bundle.\n",
      "2022-11-22 10:14:40.057371: I tensorflow/cc/saved_model/loader.cc:213] Running initialization op on SavedModel bundle at path: /tmp/tmpttc4hukv\n",
      "2022-11-22 10:14:40.077589: I tensorflow/cc/saved_model/loader.cc:305] SavedModel load for tags { serve }; Status: success: OK. Took 105303 microseconds.\n",
      "WARNING:absl:Found untraced functions such as _jit_compiled_convolution_op, _jit_compiled_convolution_op while saving (showing 2 of 2). These functions will not be directly callable after loading.\n"
     ]
    },
    {
     "name": "stdout",
     "output_type": "stream",
     "text": [
      "INFO:tensorflow:Assets written to: /tmp/tmp24k06det/assets\n"
     ]
    },
    {
     "name": "stderr",
     "output_type": "stream",
     "text": [
      "INFO:tensorflow:Assets written to: /tmp/tmp24k06det/assets\n",
      "2022-11-22 10:14:42.033236: W tensorflow/compiler/mlir/lite/python/tf_tfl_flatbuffer_helpers.cc:362] Ignored output_format.\n",
      "2022-11-22 10:14:42.033337: W tensorflow/compiler/mlir/lite/python/tf_tfl_flatbuffer_helpers.cc:365] Ignored drop_control_dependency.\n",
      "2022-11-22 10:14:42.033548: I tensorflow/cc/saved_model/reader.cc:45] Reading SavedModel from: /tmp/tmp24k06det\n",
      "2022-11-22 10:14:42.035859: I tensorflow/cc/saved_model/reader.cc:89] Reading meta graph with tags { serve }\n",
      "2022-11-22 10:14:42.035916: I tensorflow/cc/saved_model/reader.cc:130] Reading SavedModel debug info (if present) from: /tmp/tmp24k06det\n",
      "2022-11-22 10:14:42.043962: I tensorflow/cc/saved_model/loader.cc:229] Restoring SavedModel bundle.\n",
      "2022-11-22 10:14:42.111124: I tensorflow/cc/saved_model/loader.cc:213] Running initialization op on SavedModel bundle at path: /tmp/tmp24k06det\n",
      "2022-11-22 10:14:42.129443: I tensorflow/cc/saved_model/loader.cc:305] SavedModel load for tags { serve }; Status: success: OK. Took 95894 microseconds.\n",
      "WARNING:absl:Found untraced functions such as _jit_compiled_convolution_op, _jit_compiled_convolution_op while saving (showing 2 of 2). These functions will not be directly callable after loading.\n"
     ]
    },
    {
     "name": "stdout",
     "output_type": "stream",
     "text": [
      "INFO:tensorflow:Assets written to: /tmp/tmp6xg0k92v/assets\n"
     ]
    },
    {
     "name": "stderr",
     "output_type": "stream",
     "text": [
      "INFO:tensorflow:Assets written to: /tmp/tmp6xg0k92v/assets\n",
      "2022-11-22 10:14:44.033938: W tensorflow/compiler/mlir/lite/python/tf_tfl_flatbuffer_helpers.cc:362] Ignored output_format.\n",
      "2022-11-22 10:14:44.034034: W tensorflow/compiler/mlir/lite/python/tf_tfl_flatbuffer_helpers.cc:365] Ignored drop_control_dependency.\n",
      "2022-11-22 10:14:44.034236: I tensorflow/cc/saved_model/reader.cc:45] Reading SavedModel from: /tmp/tmp6xg0k92v\n",
      "2022-11-22 10:14:44.036503: I tensorflow/cc/saved_model/reader.cc:89] Reading meta graph with tags { serve }\n",
      "2022-11-22 10:14:44.036556: I tensorflow/cc/saved_model/reader.cc:130] Reading SavedModel debug info (if present) from: /tmp/tmp6xg0k92v\n",
      "2022-11-22 10:14:44.044252: I tensorflow/cc/saved_model/loader.cc:229] Restoring SavedModel bundle.\n",
      "2022-11-22 10:14:44.110582: I tensorflow/cc/saved_model/loader.cc:213] Running initialization op on SavedModel bundle at path: /tmp/tmp6xg0k92v\n",
      "2022-11-22 10:14:44.128330: I tensorflow/cc/saved_model/loader.cc:305] SavedModel load for tags { serve }; Status: success: OK. Took 94093 microseconds.\n",
      "WARNING:absl:Found untraced functions such as _jit_compiled_convolution_op, _jit_compiled_convolution_op while saving (showing 2 of 2). These functions will not be directly callable after loading.\n"
     ]
    },
    {
     "name": "stdout",
     "output_type": "stream",
     "text": [
      "INFO:tensorflow:Assets written to: /tmp/tmpal3vcr6k/assets\n"
     ]
    },
    {
     "name": "stderr",
     "output_type": "stream",
     "text": [
      "INFO:tensorflow:Assets written to: /tmp/tmpal3vcr6k/assets\n",
      "2022-11-22 10:14:46.042428: W tensorflow/compiler/mlir/lite/python/tf_tfl_flatbuffer_helpers.cc:362] Ignored output_format.\n",
      "2022-11-22 10:14:46.042531: W tensorflow/compiler/mlir/lite/python/tf_tfl_flatbuffer_helpers.cc:365] Ignored drop_control_dependency.\n",
      "2022-11-22 10:14:46.042731: I tensorflow/cc/saved_model/reader.cc:45] Reading SavedModel from: /tmp/tmpal3vcr6k\n",
      "2022-11-22 10:14:46.044989: I tensorflow/cc/saved_model/reader.cc:89] Reading meta graph with tags { serve }\n",
      "2022-11-22 10:14:46.045041: I tensorflow/cc/saved_model/reader.cc:130] Reading SavedModel debug info (if present) from: /tmp/tmpal3vcr6k\n",
      "2022-11-22 10:14:46.052787: I tensorflow/cc/saved_model/loader.cc:229] Restoring SavedModel bundle.\n",
      "2022-11-22 10:14:46.116698: I tensorflow/cc/saved_model/loader.cc:213] Running initialization op on SavedModel bundle at path: /tmp/tmpal3vcr6k\n",
      "2022-11-22 10:14:46.134294: I tensorflow/cc/saved_model/loader.cc:305] SavedModel load for tags { serve }; Status: success: OK. Took 91562 microseconds.\n",
      "WARNING:absl:Found untraced functions such as _jit_compiled_convolution_op, _jit_compiled_convolution_op while saving (showing 2 of 2). These functions will not be directly callable after loading.\n"
     ]
    },
    {
     "name": "stdout",
     "output_type": "stream",
     "text": [
      "INFO:tensorflow:Assets written to: /tmp/tmplym85n1n/assets\n"
     ]
    },
    {
     "name": "stderr",
     "output_type": "stream",
     "text": [
      "INFO:tensorflow:Assets written to: /tmp/tmplym85n1n/assets\n",
      "2022-11-22 10:14:47.998796: W tensorflow/compiler/mlir/lite/python/tf_tfl_flatbuffer_helpers.cc:362] Ignored output_format.\n",
      "2022-11-22 10:14:47.998894: W tensorflow/compiler/mlir/lite/python/tf_tfl_flatbuffer_helpers.cc:365] Ignored drop_control_dependency.\n",
      "2022-11-22 10:14:47.999107: I tensorflow/cc/saved_model/reader.cc:45] Reading SavedModel from: /tmp/tmplym85n1n\n",
      "2022-11-22 10:14:48.001341: I tensorflow/cc/saved_model/reader.cc:89] Reading meta graph with tags { serve }\n",
      "2022-11-22 10:14:48.001395: I tensorflow/cc/saved_model/reader.cc:130] Reading SavedModel debug info (if present) from: /tmp/tmplym85n1n\n",
      "2022-11-22 10:14:48.009289: I tensorflow/cc/saved_model/loader.cc:229] Restoring SavedModel bundle.\n",
      "2022-11-22 10:14:48.074244: I tensorflow/cc/saved_model/loader.cc:213] Running initialization op on SavedModel bundle at path: /tmp/tmplym85n1n\n",
      "2022-11-22 10:14:48.091158: I tensorflow/cc/saved_model/loader.cc:305] SavedModel load for tags { serve }; Status: success: OK. Took 92050 microseconds.\n",
      "WARNING:absl:Found untraced functions such as _jit_compiled_convolution_op, _jit_compiled_convolution_op while saving (showing 2 of 2). These functions will not be directly callable after loading.\n"
     ]
    },
    {
     "name": "stdout",
     "output_type": "stream",
     "text": [
      "INFO:tensorflow:Assets written to: /tmp/tmpqc4oo32r/assets\n"
     ]
    },
    {
     "name": "stderr",
     "output_type": "stream",
     "text": [
      "INFO:tensorflow:Assets written to: /tmp/tmpqc4oo32r/assets\n",
      "2022-11-22 10:14:52.475880: W tensorflow/compiler/mlir/lite/python/tf_tfl_flatbuffer_helpers.cc:362] Ignored output_format.\n",
      "2022-11-22 10:14:52.475976: W tensorflow/compiler/mlir/lite/python/tf_tfl_flatbuffer_helpers.cc:365] Ignored drop_control_dependency.\n",
      "2022-11-22 10:14:52.476192: I tensorflow/cc/saved_model/reader.cc:45] Reading SavedModel from: /tmp/tmpqc4oo32r\n",
      "2022-11-22 10:14:52.482292: I tensorflow/cc/saved_model/reader.cc:89] Reading meta graph with tags { serve }\n",
      "2022-11-22 10:14:52.482363: I tensorflow/cc/saved_model/reader.cc:130] Reading SavedModel debug info (if present) from: /tmp/tmpqc4oo32r\n",
      "2022-11-22 10:14:52.513308: I tensorflow/cc/saved_model/loader.cc:229] Restoring SavedModel bundle.\n",
      "2022-11-22 10:14:52.688051: I tensorflow/cc/saved_model/loader.cc:213] Running initialization op on SavedModel bundle at path: /tmp/tmpqc4oo32r\n",
      "2022-11-22 10:14:52.741092: I tensorflow/cc/saved_model/loader.cc:305] SavedModel load for tags { serve }; Status: success: OK. Took 264898 microseconds.\n",
      "WARNING:absl:Found untraced functions such as _jit_compiled_convolution_op, _jit_compiled_convolution_op while saving (showing 2 of 2). These functions will not be directly callable after loading.\n"
     ]
    },
    {
     "name": "stdout",
     "output_type": "stream",
     "text": [
      "INFO:tensorflow:Assets written to: /tmp/tmp944_artf/assets\n"
     ]
    },
    {
     "name": "stderr",
     "output_type": "stream",
     "text": [
      "INFO:tensorflow:Assets written to: /tmp/tmp944_artf/assets\n",
      "2022-11-22 10:14:55.190178: W tensorflow/compiler/mlir/lite/python/tf_tfl_flatbuffer_helpers.cc:362] Ignored output_format.\n",
      "2022-11-22 10:14:55.190281: W tensorflow/compiler/mlir/lite/python/tf_tfl_flatbuffer_helpers.cc:365] Ignored drop_control_dependency.\n",
      "2022-11-22 10:14:55.190498: I tensorflow/cc/saved_model/reader.cc:45] Reading SavedModel from: /tmp/tmp944_artf\n",
      "2022-11-22 10:14:55.196061: I tensorflow/cc/saved_model/reader.cc:89] Reading meta graph with tags { serve }\n",
      "2022-11-22 10:14:55.196128: I tensorflow/cc/saved_model/reader.cc:130] Reading SavedModel debug info (if present) from: /tmp/tmp944_artf\n",
      "2022-11-22 10:14:55.218791: I tensorflow/cc/saved_model/loader.cc:229] Restoring SavedModel bundle.\n",
      "2022-11-22 10:14:55.344804: I tensorflow/cc/saved_model/loader.cc:213] Running initialization op on SavedModel bundle at path: /tmp/tmp944_artf\n",
      "2022-11-22 10:14:55.383439: I tensorflow/cc/saved_model/loader.cc:305] SavedModel load for tags { serve }; Status: success: OK. Took 192940 microseconds.\n",
      "WARNING:absl:Found untraced functions such as _jit_compiled_convolution_op, _jit_compiled_convolution_op while saving (showing 2 of 2). These functions will not be directly callable after loading.\n"
     ]
    },
    {
     "name": "stdout",
     "output_type": "stream",
     "text": [
      "INFO:tensorflow:Assets written to: /tmp/tmp8s6t4lqd/assets\n"
     ]
    },
    {
     "name": "stderr",
     "output_type": "stream",
     "text": [
      "INFO:tensorflow:Assets written to: /tmp/tmp8s6t4lqd/assets\n",
      "2022-11-22 10:14:57.665440: W tensorflow/compiler/mlir/lite/python/tf_tfl_flatbuffer_helpers.cc:362] Ignored output_format.\n",
      "2022-11-22 10:14:57.665543: W tensorflow/compiler/mlir/lite/python/tf_tfl_flatbuffer_helpers.cc:365] Ignored drop_control_dependency.\n",
      "2022-11-22 10:14:57.665765: I tensorflow/cc/saved_model/reader.cc:45] Reading SavedModel from: /tmp/tmp8s6t4lqd\n",
      "2022-11-22 10:14:57.670726: I tensorflow/cc/saved_model/reader.cc:89] Reading meta graph with tags { serve }\n",
      "2022-11-22 10:14:57.670799: I tensorflow/cc/saved_model/reader.cc:130] Reading SavedModel debug info (if present) from: /tmp/tmp8s6t4lqd\n",
      "2022-11-22 10:14:57.691731: I tensorflow/cc/saved_model/loader.cc:229] Restoring SavedModel bundle.\n",
      "2022-11-22 10:14:57.808948: I tensorflow/cc/saved_model/loader.cc:213] Running initialization op on SavedModel bundle at path: /tmp/tmp8s6t4lqd\n",
      "2022-11-22 10:14:57.843420: I tensorflow/cc/saved_model/loader.cc:305] SavedModel load for tags { serve }; Status: success: OK. Took 177654 microseconds.\n",
      "WARNING:absl:Found untraced functions such as _jit_compiled_convolution_op, _jit_compiled_convolution_op while saving (showing 2 of 2). These functions will not be directly callable after loading.\n"
     ]
    },
    {
     "name": "stdout",
     "output_type": "stream",
     "text": [
      "INFO:tensorflow:Assets written to: /tmp/tmp93h8287g/assets\n"
     ]
    },
    {
     "name": "stderr",
     "output_type": "stream",
     "text": [
      "INFO:tensorflow:Assets written to: /tmp/tmp93h8287g/assets\n",
      "2022-11-22 10:14:59.956518: W tensorflow/compiler/mlir/lite/python/tf_tfl_flatbuffer_helpers.cc:362] Ignored output_format.\n",
      "2022-11-22 10:14:59.956614: W tensorflow/compiler/mlir/lite/python/tf_tfl_flatbuffer_helpers.cc:365] Ignored drop_control_dependency.\n",
      "2022-11-22 10:14:59.956824: I tensorflow/cc/saved_model/reader.cc:45] Reading SavedModel from: /tmp/tmp93h8287g\n",
      "2022-11-22 10:14:59.959744: I tensorflow/cc/saved_model/reader.cc:89] Reading meta graph with tags { serve }\n",
      "2022-11-22 10:14:59.959818: I tensorflow/cc/saved_model/reader.cc:130] Reading SavedModel debug info (if present) from: /tmp/tmp93h8287g\n",
      "2022-11-22 10:14:59.969778: I tensorflow/cc/saved_model/loader.cc:229] Restoring SavedModel bundle.\n",
      "2022-11-22 10:15:00.046635: I tensorflow/cc/saved_model/loader.cc:213] Running initialization op on SavedModel bundle at path: /tmp/tmp93h8287g\n",
      "2022-11-22 10:15:00.068729: I tensorflow/cc/saved_model/loader.cc:305] SavedModel load for tags { serve }; Status: success: OK. Took 111903 microseconds.\n",
      "WARNING:absl:Found untraced functions such as _jit_compiled_convolution_op, _jit_compiled_convolution_op while saving (showing 2 of 2). These functions will not be directly callable after loading.\n"
     ]
    },
    {
     "name": "stdout",
     "output_type": "stream",
     "text": [
      "INFO:tensorflow:Assets written to: /tmp/tmpm76ae05g/assets\n"
     ]
    },
    {
     "name": "stderr",
     "output_type": "stream",
     "text": [
      "INFO:tensorflow:Assets written to: /tmp/tmpm76ae05g/assets\n",
      "2022-11-22 10:15:02.132773: W tensorflow/compiler/mlir/lite/python/tf_tfl_flatbuffer_helpers.cc:362] Ignored output_format.\n",
      "2022-11-22 10:15:02.132876: W tensorflow/compiler/mlir/lite/python/tf_tfl_flatbuffer_helpers.cc:365] Ignored drop_control_dependency.\n",
      "2022-11-22 10:15:02.133093: I tensorflow/cc/saved_model/reader.cc:45] Reading SavedModel from: /tmp/tmpm76ae05g\n",
      "2022-11-22 10:15:02.135740: I tensorflow/cc/saved_model/reader.cc:89] Reading meta graph with tags { serve }\n",
      "2022-11-22 10:15:02.135810: I tensorflow/cc/saved_model/reader.cc:130] Reading SavedModel debug info (if present) from: /tmp/tmpm76ae05g\n",
      "2022-11-22 10:15:02.144871: I tensorflow/cc/saved_model/loader.cc:229] Restoring SavedModel bundle.\n",
      "2022-11-22 10:15:02.220848: I tensorflow/cc/saved_model/loader.cc:213] Running initialization op on SavedModel bundle at path: /tmp/tmpm76ae05g\n",
      "2022-11-22 10:15:02.242046: I tensorflow/cc/saved_model/loader.cc:305] SavedModel load for tags { serve }; Status: success: OK. Took 108950 microseconds.\n",
      "WARNING:absl:Found untraced functions such as _jit_compiled_convolution_op, _jit_compiled_convolution_op while saving (showing 2 of 2). These functions will not be directly callable after loading.\n"
     ]
    },
    {
     "name": "stdout",
     "output_type": "stream",
     "text": [
      "INFO:tensorflow:Assets written to: /tmp/tmpkt8hha6a/assets\n"
     ]
    },
    {
     "name": "stderr",
     "output_type": "stream",
     "text": [
      "INFO:tensorflow:Assets written to: /tmp/tmpkt8hha6a/assets\n",
      "2022-11-22 10:15:04.214520: W tensorflow/compiler/mlir/lite/python/tf_tfl_flatbuffer_helpers.cc:362] Ignored output_format.\n",
      "2022-11-22 10:15:04.214629: W tensorflow/compiler/mlir/lite/python/tf_tfl_flatbuffer_helpers.cc:365] Ignored drop_control_dependency.\n",
      "2022-11-22 10:15:04.214835: I tensorflow/cc/saved_model/reader.cc:45] Reading SavedModel from: /tmp/tmpkt8hha6a\n",
      "2022-11-22 10:15:04.217273: I tensorflow/cc/saved_model/reader.cc:89] Reading meta graph with tags { serve }\n",
      "2022-11-22 10:15:04.217333: I tensorflow/cc/saved_model/reader.cc:130] Reading SavedModel debug info (if present) from: /tmp/tmpkt8hha6a\n",
      "2022-11-22 10:15:04.226087: I tensorflow/cc/saved_model/loader.cc:229] Restoring SavedModel bundle.\n",
      "2022-11-22 10:15:04.294421: I tensorflow/cc/saved_model/loader.cc:213] Running initialization op on SavedModel bundle at path: /tmp/tmpkt8hha6a\n",
      "2022-11-22 10:15:04.314448: I tensorflow/cc/saved_model/loader.cc:305] SavedModel load for tags { serve }; Status: success: OK. Took 99613 microseconds.\n",
      "WARNING:absl:Found untraced functions such as _jit_compiled_convolution_op, _jit_compiled_convolution_op while saving (showing 2 of 2). These functions will not be directly callable after loading.\n"
     ]
    },
    {
     "name": "stdout",
     "output_type": "stream",
     "text": [
      "INFO:tensorflow:Assets written to: /tmp/tmpklcrpcly/assets\n"
     ]
    },
    {
     "name": "stderr",
     "output_type": "stream",
     "text": [
      "INFO:tensorflow:Assets written to: /tmp/tmpklcrpcly/assets\n",
      "2022-11-22 10:15:08.042246: W tensorflow/compiler/mlir/lite/python/tf_tfl_flatbuffer_helpers.cc:362] Ignored output_format.\n",
      "2022-11-22 10:15:08.042350: W tensorflow/compiler/mlir/lite/python/tf_tfl_flatbuffer_helpers.cc:365] Ignored drop_control_dependency.\n",
      "2022-11-22 10:15:08.042566: I tensorflow/cc/saved_model/reader.cc:45] Reading SavedModel from: /tmp/tmpklcrpcly\n",
      "2022-11-22 10:15:08.048831: I tensorflow/cc/saved_model/reader.cc:89] Reading meta graph with tags { serve }\n",
      "2022-11-22 10:15:08.048919: I tensorflow/cc/saved_model/reader.cc:130] Reading SavedModel debug info (if present) from: /tmp/tmpklcrpcly\n",
      "2022-11-22 10:15:08.082271: I tensorflow/cc/saved_model/loader.cc:229] Restoring SavedModel bundle.\n",
      "2022-11-22 10:15:08.259480: I tensorflow/cc/saved_model/loader.cc:213] Running initialization op on SavedModel bundle at path: /tmp/tmpklcrpcly\n",
      "2022-11-22 10:15:08.315571: I tensorflow/cc/saved_model/loader.cc:305] SavedModel load for tags { serve }; Status: success: OK. Took 273002 microseconds.\n",
      "WARNING:absl:Found untraced functions such as _jit_compiled_convolution_op, _jit_compiled_convolution_op while saving (showing 2 of 2). These functions will not be directly callable after loading.\n"
     ]
    },
    {
     "name": "stdout",
     "output_type": "stream",
     "text": [
      "INFO:tensorflow:Assets written to: /tmp/tmph_hb2716/assets\n"
     ]
    },
    {
     "name": "stderr",
     "output_type": "stream",
     "text": [
      "INFO:tensorflow:Assets written to: /tmp/tmph_hb2716/assets\n",
      "2022-11-22 10:15:10.854530: W tensorflow/compiler/mlir/lite/python/tf_tfl_flatbuffer_helpers.cc:362] Ignored output_format.\n",
      "2022-11-22 10:15:10.854628: W tensorflow/compiler/mlir/lite/python/tf_tfl_flatbuffer_helpers.cc:365] Ignored drop_control_dependency.\n",
      "2022-11-22 10:15:10.854840: I tensorflow/cc/saved_model/reader.cc:45] Reading SavedModel from: /tmp/tmph_hb2716\n",
      "2022-11-22 10:15:10.860892: I tensorflow/cc/saved_model/reader.cc:89] Reading meta graph with tags { serve }\n",
      "2022-11-22 10:15:10.860961: I tensorflow/cc/saved_model/reader.cc:130] Reading SavedModel debug info (if present) from: /tmp/tmph_hb2716\n",
      "2022-11-22 10:15:10.890433: I tensorflow/cc/saved_model/loader.cc:229] Restoring SavedModel bundle.\n",
      "2022-11-22 10:15:11.063967: I tensorflow/cc/saved_model/loader.cc:213] Running initialization op on SavedModel bundle at path: /tmp/tmph_hb2716\n",
      "2022-11-22 10:15:11.120855: I tensorflow/cc/saved_model/loader.cc:305] SavedModel load for tags { serve }; Status: success: OK. Took 266013 microseconds.\n",
      "WARNING:absl:Found untraced functions such as _jit_compiled_convolution_op, _jit_compiled_convolution_op while saving (showing 2 of 2). These functions will not be directly callable after loading.\n"
     ]
    },
    {
     "name": "stdout",
     "output_type": "stream",
     "text": [
      "INFO:tensorflow:Assets written to: /tmp/tmp7lwp8p7n/assets\n"
     ]
    },
    {
     "name": "stderr",
     "output_type": "stream",
     "text": [
      "INFO:tensorflow:Assets written to: /tmp/tmp7lwp8p7n/assets\n",
      "2022-11-22 10:15:13.595690: W tensorflow/compiler/mlir/lite/python/tf_tfl_flatbuffer_helpers.cc:362] Ignored output_format.\n",
      "2022-11-22 10:15:13.595786: W tensorflow/compiler/mlir/lite/python/tf_tfl_flatbuffer_helpers.cc:365] Ignored drop_control_dependency.\n",
      "2022-11-22 10:15:13.596016: I tensorflow/cc/saved_model/reader.cc:45] Reading SavedModel from: /tmp/tmp7lwp8p7n\n",
      "2022-11-22 10:15:13.601687: I tensorflow/cc/saved_model/reader.cc:89] Reading meta graph with tags { serve }\n",
      "2022-11-22 10:15:13.601754: I tensorflow/cc/saved_model/reader.cc:130] Reading SavedModel debug info (if present) from: /tmp/tmp7lwp8p7n\n",
      "2022-11-22 10:15:13.625061: I tensorflow/cc/saved_model/loader.cc:229] Restoring SavedModel bundle.\n",
      "2022-11-22 10:15:13.758850: I tensorflow/cc/saved_model/loader.cc:213] Running initialization op on SavedModel bundle at path: /tmp/tmp7lwp8p7n\n",
      "2022-11-22 10:15:13.802483: I tensorflow/cc/saved_model/loader.cc:305] SavedModel load for tags { serve }; Status: success: OK. Took 206466 microseconds.\n",
      "WARNING:absl:Found untraced functions such as _jit_compiled_convolution_op, _jit_compiled_convolution_op while saving (showing 2 of 2). These functions will not be directly callable after loading.\n"
     ]
    },
    {
     "name": "stdout",
     "output_type": "stream",
     "text": [
      "INFO:tensorflow:Assets written to: /tmp/tmpr_3tw0rv/assets\n"
     ]
    },
    {
     "name": "stderr",
     "output_type": "stream",
     "text": [
      "INFO:tensorflow:Assets written to: /tmp/tmpr_3tw0rv/assets\n",
      "2022-11-22 10:15:16.103206: W tensorflow/compiler/mlir/lite/python/tf_tfl_flatbuffer_helpers.cc:362] Ignored output_format.\n",
      "2022-11-22 10:15:16.103304: W tensorflow/compiler/mlir/lite/python/tf_tfl_flatbuffer_helpers.cc:365] Ignored drop_control_dependency.\n",
      "2022-11-22 10:15:16.103519: I tensorflow/cc/saved_model/reader.cc:45] Reading SavedModel from: /tmp/tmpr_3tw0rv\n",
      "2022-11-22 10:15:16.108279: I tensorflow/cc/saved_model/reader.cc:89] Reading meta graph with tags { serve }\n",
      "2022-11-22 10:15:16.108392: I tensorflow/cc/saved_model/reader.cc:130] Reading SavedModel debug info (if present) from: /tmp/tmpr_3tw0rv\n",
      "2022-11-22 10:15:16.127850: I tensorflow/cc/saved_model/loader.cc:229] Restoring SavedModel bundle.\n",
      "2022-11-22 10:15:16.239839: I tensorflow/cc/saved_model/loader.cc:213] Running initialization op on SavedModel bundle at path: /tmp/tmpr_3tw0rv\n",
      "2022-11-22 10:15:16.274501: I tensorflow/cc/saved_model/loader.cc:305] SavedModel load for tags { serve }; Status: success: OK. Took 170982 microseconds.\n",
      "WARNING:absl:Found untraced functions such as _jit_compiled_convolution_op, _jit_compiled_convolution_op while saving (showing 2 of 2). These functions will not be directly callable after loading.\n"
     ]
    },
    {
     "name": "stdout",
     "output_type": "stream",
     "text": [
      "INFO:tensorflow:Assets written to: /tmp/tmpedcp0lj8/assets\n"
     ]
    },
    {
     "name": "stderr",
     "output_type": "stream",
     "text": [
      "INFO:tensorflow:Assets written to: /tmp/tmpedcp0lj8/assets\n",
      "2022-11-22 10:15:18.455023: W tensorflow/compiler/mlir/lite/python/tf_tfl_flatbuffer_helpers.cc:362] Ignored output_format.\n",
      "2022-11-22 10:15:18.455119: W tensorflow/compiler/mlir/lite/python/tf_tfl_flatbuffer_helpers.cc:365] Ignored drop_control_dependency.\n",
      "2022-11-22 10:15:18.455330: I tensorflow/cc/saved_model/reader.cc:45] Reading SavedModel from: /tmp/tmpedcp0lj8\n",
      "2022-11-22 10:15:18.459235: I tensorflow/cc/saved_model/reader.cc:89] Reading meta graph with tags { serve }\n",
      "2022-11-22 10:15:18.459307: I tensorflow/cc/saved_model/reader.cc:130] Reading SavedModel debug info (if present) from: /tmp/tmpedcp0lj8\n",
      "2022-11-22 10:15:18.470295: I tensorflow/cc/saved_model/loader.cc:229] Restoring SavedModel bundle.\n",
      "2022-11-22 10:15:18.544414: I tensorflow/cc/saved_model/loader.cc:213] Running initialization op on SavedModel bundle at path: /tmp/tmpedcp0lj8\n",
      "2022-11-22 10:15:18.565546: I tensorflow/cc/saved_model/loader.cc:305] SavedModel load for tags { serve }; Status: success: OK. Took 110214 microseconds.\n",
      "WARNING:absl:Found untraced functions such as _jit_compiled_convolution_op, _jit_compiled_convolution_op while saving (showing 2 of 2). These functions will not be directly callable after loading.\n"
     ]
    },
    {
     "name": "stdout",
     "output_type": "stream",
     "text": [
      "INFO:tensorflow:Assets written to: /tmp/tmpe9ism3ct/assets\n"
     ]
    },
    {
     "name": "stderr",
     "output_type": "stream",
     "text": [
      "INFO:tensorflow:Assets written to: /tmp/tmpe9ism3ct/assets\n",
      "2022-11-22 10:15:20.514291: W tensorflow/compiler/mlir/lite/python/tf_tfl_flatbuffer_helpers.cc:362] Ignored output_format.\n",
      "2022-11-22 10:15:20.514391: W tensorflow/compiler/mlir/lite/python/tf_tfl_flatbuffer_helpers.cc:365] Ignored drop_control_dependency.\n",
      "2022-11-22 10:15:20.514596: I tensorflow/cc/saved_model/reader.cc:45] Reading SavedModel from: /tmp/tmpe9ism3ct\n",
      "2022-11-22 10:15:20.517212: I tensorflow/cc/saved_model/reader.cc:89] Reading meta graph with tags { serve }\n",
      "2022-11-22 10:15:20.517268: I tensorflow/cc/saved_model/reader.cc:130] Reading SavedModel debug info (if present) from: /tmp/tmpe9ism3ct\n",
      "2022-11-22 10:15:20.526452: I tensorflow/cc/saved_model/loader.cc:229] Restoring SavedModel bundle.\n",
      "2022-11-22 10:15:20.596993: I tensorflow/cc/saved_model/loader.cc:213] Running initialization op on SavedModel bundle at path: /tmp/tmpe9ism3ct\n",
      "2022-11-22 10:15:20.617949: I tensorflow/cc/saved_model/loader.cc:305] SavedModel load for tags { serve }; Status: success: OK. Took 103351 microseconds.\n",
      "WARNING:absl:Found untraced functions such as _jit_compiled_convolution_op, _jit_compiled_convolution_op while saving (showing 2 of 2). These functions will not be directly callable after loading.\n"
     ]
    },
    {
     "name": "stdout",
     "output_type": "stream",
     "text": [
      "INFO:tensorflow:Assets written to: /tmp/tmp1ig_rarh/assets\n"
     ]
    },
    {
     "name": "stderr",
     "output_type": "stream",
     "text": [
      "INFO:tensorflow:Assets written to: /tmp/tmp1ig_rarh/assets\n",
      "2022-11-22 10:15:22.624675: W tensorflow/compiler/mlir/lite/python/tf_tfl_flatbuffer_helpers.cc:362] Ignored output_format.\n",
      "2022-11-22 10:15:22.624792: W tensorflow/compiler/mlir/lite/python/tf_tfl_flatbuffer_helpers.cc:365] Ignored drop_control_dependency.\n",
      "2022-11-22 10:15:22.625022: I tensorflow/cc/saved_model/reader.cc:45] Reading SavedModel from: /tmp/tmp1ig_rarh\n",
      "2022-11-22 10:15:22.628613: I tensorflow/cc/saved_model/reader.cc:89] Reading meta graph with tags { serve }\n",
      "2022-11-22 10:15:22.628704: I tensorflow/cc/saved_model/reader.cc:130] Reading SavedModel debug info (if present) from: /tmp/tmp1ig_rarh\n",
      "2022-11-22 10:15:22.638344: I tensorflow/cc/saved_model/loader.cc:229] Restoring SavedModel bundle.\n",
      "2022-11-22 10:15:22.714227: I tensorflow/cc/saved_model/loader.cc:213] Running initialization op on SavedModel bundle at path: /tmp/tmp1ig_rarh\n",
      "2022-11-22 10:15:22.734072: I tensorflow/cc/saved_model/loader.cc:305] SavedModel load for tags { serve }; Status: success: OK. Took 109049 microseconds.\n",
      "WARNING:absl:Found untraced functions such as _jit_compiled_convolution_op, _jit_compiled_convolution_op while saving (showing 2 of 2). These functions will not be directly callable after loading.\n"
     ]
    },
    {
     "name": "stdout",
     "output_type": "stream",
     "text": [
      "INFO:tensorflow:Assets written to: /tmp/tmpzm9mmy0t/assets\n"
     ]
    },
    {
     "name": "stderr",
     "output_type": "stream",
     "text": [
      "INFO:tensorflow:Assets written to: /tmp/tmpzm9mmy0t/assets\n",
      "2022-11-22 10:15:26.799713: W tensorflow/compiler/mlir/lite/python/tf_tfl_flatbuffer_helpers.cc:362] Ignored output_format.\n",
      "2022-11-22 10:15:26.799807: W tensorflow/compiler/mlir/lite/python/tf_tfl_flatbuffer_helpers.cc:365] Ignored drop_control_dependency.\n",
      "2022-11-22 10:15:26.800029: I tensorflow/cc/saved_model/reader.cc:45] Reading SavedModel from: /tmp/tmpzm9mmy0t\n",
      "2022-11-22 10:15:26.805993: I tensorflow/cc/saved_model/reader.cc:89] Reading meta graph with tags { serve }\n",
      "2022-11-22 10:15:26.806064: I tensorflow/cc/saved_model/reader.cc:130] Reading SavedModel debug info (if present) from: /tmp/tmpzm9mmy0t\n",
      "2022-11-22 10:15:26.837972: I tensorflow/cc/saved_model/loader.cc:229] Restoring SavedModel bundle.\n",
      "2022-11-22 10:15:27.014935: I tensorflow/cc/saved_model/loader.cc:213] Running initialization op on SavedModel bundle at path: /tmp/tmpzm9mmy0t\n",
      "2022-11-22 10:15:27.070099: I tensorflow/cc/saved_model/loader.cc:305] SavedModel load for tags { serve }; Status: success: OK. Took 270068 microseconds.\n",
      "WARNING:absl:Found untraced functions such as _jit_compiled_convolution_op, _jit_compiled_convolution_op while saving (showing 2 of 2). These functions will not be directly callable after loading.\n"
     ]
    },
    {
     "name": "stdout",
     "output_type": "stream",
     "text": [
      "INFO:tensorflow:Assets written to: /tmp/tmpwc5tvofj/assets\n"
     ]
    },
    {
     "name": "stderr",
     "output_type": "stream",
     "text": [
      "INFO:tensorflow:Assets written to: /tmp/tmpwc5tvofj/assets\n",
      "2022-11-22 10:15:29.518682: W tensorflow/compiler/mlir/lite/python/tf_tfl_flatbuffer_helpers.cc:362] Ignored output_format.\n",
      "2022-11-22 10:15:29.518783: W tensorflow/compiler/mlir/lite/python/tf_tfl_flatbuffer_helpers.cc:365] Ignored drop_control_dependency.\n",
      "2022-11-22 10:15:29.519026: I tensorflow/cc/saved_model/reader.cc:45] Reading SavedModel from: /tmp/tmpwc5tvofj\n",
      "2022-11-22 10:15:29.524720: I tensorflow/cc/saved_model/reader.cc:89] Reading meta graph with tags { serve }\n",
      "2022-11-22 10:15:29.524793: I tensorflow/cc/saved_model/reader.cc:130] Reading SavedModel debug info (if present) from: /tmp/tmpwc5tvofj\n",
      "2022-11-22 10:15:29.549555: I tensorflow/cc/saved_model/loader.cc:229] Restoring SavedModel bundle.\n",
      "2022-11-22 10:15:29.686265: I tensorflow/cc/saved_model/loader.cc:213] Running initialization op on SavedModel bundle at path: /tmp/tmpwc5tvofj\n",
      "2022-11-22 10:15:29.725875: I tensorflow/cc/saved_model/loader.cc:305] SavedModel load for tags { serve }; Status: success: OK. Took 206848 microseconds.\n",
      "WARNING:absl:Found untraced functions such as _jit_compiled_convolution_op, _jit_compiled_convolution_op while saving (showing 2 of 2). These functions will not be directly callable after loading.\n"
     ]
    },
    {
     "name": "stdout",
     "output_type": "stream",
     "text": [
      "INFO:tensorflow:Assets written to: /tmp/tmppwjy6xzj/assets\n"
     ]
    },
    {
     "name": "stderr",
     "output_type": "stream",
     "text": [
      "INFO:tensorflow:Assets written to: /tmp/tmppwjy6xzj/assets\n",
      "2022-11-22 10:15:32.151617: W tensorflow/compiler/mlir/lite/python/tf_tfl_flatbuffer_helpers.cc:362] Ignored output_format.\n",
      "2022-11-22 10:15:32.151728: W tensorflow/compiler/mlir/lite/python/tf_tfl_flatbuffer_helpers.cc:365] Ignored drop_control_dependency.\n",
      "2022-11-22 10:15:32.151942: I tensorflow/cc/saved_model/reader.cc:45] Reading SavedModel from: /tmp/tmppwjy6xzj\n",
      "2022-11-22 10:15:32.156648: I tensorflow/cc/saved_model/reader.cc:89] Reading meta graph with tags { serve }\n",
      "2022-11-22 10:15:32.156726: I tensorflow/cc/saved_model/reader.cc:130] Reading SavedModel debug info (if present) from: /tmp/tmppwjy6xzj\n",
      "2022-11-22 10:15:32.176451: I tensorflow/cc/saved_model/loader.cc:229] Restoring SavedModel bundle.\n",
      "2022-11-22 10:15:32.305927: I tensorflow/cc/saved_model/loader.cc:213] Running initialization op on SavedModel bundle at path: /tmp/tmppwjy6xzj\n",
      "2022-11-22 10:15:32.341570: I tensorflow/cc/saved_model/loader.cc:305] SavedModel load for tags { serve }; Status: success: OK. Took 189627 microseconds.\n",
      "WARNING:absl:Found untraced functions such as _jit_compiled_convolution_op, _jit_compiled_convolution_op while saving (showing 2 of 2). These functions will not be directly callable after loading.\n"
     ]
    },
    {
     "name": "stdout",
     "output_type": "stream",
     "text": [
      "INFO:tensorflow:Assets written to: /tmp/tmpw6vhdido/assets\n"
     ]
    },
    {
     "name": "stderr",
     "output_type": "stream",
     "text": [
      "INFO:tensorflow:Assets written to: /tmp/tmpw6vhdido/assets\n",
      "2022-11-22 10:15:34.579106: W tensorflow/compiler/mlir/lite/python/tf_tfl_flatbuffer_helpers.cc:362] Ignored output_format.\n",
      "2022-11-22 10:15:34.579205: W tensorflow/compiler/mlir/lite/python/tf_tfl_flatbuffer_helpers.cc:365] Ignored drop_control_dependency.\n",
      "2022-11-22 10:15:34.579443: I tensorflow/cc/saved_model/reader.cc:45] Reading SavedModel from: /tmp/tmpw6vhdido\n",
      "2022-11-22 10:15:34.583340: I tensorflow/cc/saved_model/reader.cc:89] Reading meta graph with tags { serve }\n",
      "2022-11-22 10:15:34.583405: I tensorflow/cc/saved_model/reader.cc:130] Reading SavedModel debug info (if present) from: /tmp/tmpw6vhdido\n",
      "2022-11-22 10:15:34.596333: I tensorflow/cc/saved_model/loader.cc:229] Restoring SavedModel bundle.\n",
      "2022-11-22 10:15:34.676212: I tensorflow/cc/saved_model/loader.cc:213] Running initialization op on SavedModel bundle at path: /tmp/tmpw6vhdido\n",
      "2022-11-22 10:15:34.696968: I tensorflow/cc/saved_model/loader.cc:305] SavedModel load for tags { serve }; Status: success: OK. Took 117523 microseconds.\n",
      "WARNING:absl:Found untraced functions such as _jit_compiled_convolution_op, _jit_compiled_convolution_op while saving (showing 2 of 2). These functions will not be directly callable after loading.\n"
     ]
    },
    {
     "name": "stdout",
     "output_type": "stream",
     "text": [
      "INFO:tensorflow:Assets written to: /tmp/tmp1gltglhw/assets\n"
     ]
    },
    {
     "name": "stderr",
     "output_type": "stream",
     "text": [
      "INFO:tensorflow:Assets written to: /tmp/tmp1gltglhw/assets\n",
      "2022-11-22 10:15:36.689469: W tensorflow/compiler/mlir/lite/python/tf_tfl_flatbuffer_helpers.cc:362] Ignored output_format.\n",
      "2022-11-22 10:15:36.689565: W tensorflow/compiler/mlir/lite/python/tf_tfl_flatbuffer_helpers.cc:365] Ignored drop_control_dependency.\n",
      "2022-11-22 10:15:36.689769: I tensorflow/cc/saved_model/reader.cc:45] Reading SavedModel from: /tmp/tmp1gltglhw\n",
      "2022-11-22 10:15:36.692411: I tensorflow/cc/saved_model/reader.cc:89] Reading meta graph with tags { serve }\n",
      "2022-11-22 10:15:36.692471: I tensorflow/cc/saved_model/reader.cc:130] Reading SavedModel debug info (if present) from: /tmp/tmp1gltglhw\n",
      "2022-11-22 10:15:36.701831: I tensorflow/cc/saved_model/loader.cc:229] Restoring SavedModel bundle.\n",
      "2022-11-22 10:15:36.775669: I tensorflow/cc/saved_model/loader.cc:213] Running initialization op on SavedModel bundle at path: /tmp/tmp1gltglhw\n",
      "2022-11-22 10:15:36.797255: I tensorflow/cc/saved_model/loader.cc:305] SavedModel load for tags { serve }; Status: success: OK. Took 107485 microseconds.\n",
      "WARNING:absl:Found untraced functions such as _jit_compiled_convolution_op, _jit_compiled_convolution_op while saving (showing 2 of 2). These functions will not be directly callable after loading.\n"
     ]
    },
    {
     "name": "stdout",
     "output_type": "stream",
     "text": [
      "INFO:tensorflow:Assets written to: /tmp/tmptc0y5u8o/assets\n"
     ]
    },
    {
     "name": "stderr",
     "output_type": "stream",
     "text": [
      "INFO:tensorflow:Assets written to: /tmp/tmptc0y5u8o/assets\n",
      "2022-11-22 10:15:40.539753: W tensorflow/compiler/mlir/lite/python/tf_tfl_flatbuffer_helpers.cc:362] Ignored output_format.\n",
      "2022-11-22 10:15:40.539853: W tensorflow/compiler/mlir/lite/python/tf_tfl_flatbuffer_helpers.cc:365] Ignored drop_control_dependency.\n",
      "2022-11-22 10:15:40.540065: I tensorflow/cc/saved_model/reader.cc:45] Reading SavedModel from: /tmp/tmptc0y5u8o\n",
      "2022-11-22 10:15:40.546200: I tensorflow/cc/saved_model/reader.cc:89] Reading meta graph with tags { serve }\n",
      "2022-11-22 10:15:40.546270: I tensorflow/cc/saved_model/reader.cc:130] Reading SavedModel debug info (if present) from: /tmp/tmptc0y5u8o\n",
      "2022-11-22 10:15:40.579332: I tensorflow/cc/saved_model/loader.cc:229] Restoring SavedModel bundle.\n",
      "2022-11-22 10:15:40.755195: I tensorflow/cc/saved_model/loader.cc:213] Running initialization op on SavedModel bundle at path: /tmp/tmptc0y5u8o\n",
      "2022-11-22 10:15:40.811075: I tensorflow/cc/saved_model/loader.cc:305] SavedModel load for tags { serve }; Status: success: OK. Took 271009 microseconds.\n",
      "WARNING:absl:Found untraced functions such as _jit_compiled_convolution_op, _jit_compiled_convolution_op while saving (showing 2 of 2). These functions will not be directly callable after loading.\n"
     ]
    },
    {
     "name": "stdout",
     "output_type": "stream",
     "text": [
      "INFO:tensorflow:Assets written to: /tmp/tmpv05l5dnr/assets\n"
     ]
    },
    {
     "name": "stderr",
     "output_type": "stream",
     "text": [
      "INFO:tensorflow:Assets written to: /tmp/tmpv05l5dnr/assets\n",
      "2022-11-22 10:15:43.315861: W tensorflow/compiler/mlir/lite/python/tf_tfl_flatbuffer_helpers.cc:362] Ignored output_format.\n",
      "2022-11-22 10:15:43.315971: W tensorflow/compiler/mlir/lite/python/tf_tfl_flatbuffer_helpers.cc:365] Ignored drop_control_dependency.\n",
      "2022-11-22 10:15:43.316203: I tensorflow/cc/saved_model/reader.cc:45] Reading SavedModel from: /tmp/tmpv05l5dnr\n",
      "2022-11-22 10:15:43.321871: I tensorflow/cc/saved_model/reader.cc:89] Reading meta graph with tags { serve }\n",
      "2022-11-22 10:15:43.321949: I tensorflow/cc/saved_model/reader.cc:130] Reading SavedModel debug info (if present) from: /tmp/tmpv05l5dnr\n",
      "2022-11-22 10:15:43.347239: I tensorflow/cc/saved_model/loader.cc:229] Restoring SavedModel bundle.\n",
      "2022-11-22 10:15:43.520111: I tensorflow/cc/saved_model/loader.cc:213] Running initialization op on SavedModel bundle at path: /tmp/tmpv05l5dnr\n",
      "2022-11-22 10:15:43.570904: I tensorflow/cc/saved_model/loader.cc:305] SavedModel load for tags { serve }; Status: success: OK. Took 254701 microseconds.\n",
      "WARNING:absl:Found untraced functions such as _jit_compiled_convolution_op, _jit_compiled_convolution_op while saving (showing 2 of 2). These functions will not be directly callable after loading.\n"
     ]
    },
    {
     "name": "stdout",
     "output_type": "stream",
     "text": [
      "INFO:tensorflow:Assets written to: /tmp/tmp30co2bim/assets\n"
     ]
    },
    {
     "name": "stderr",
     "output_type": "stream",
     "text": [
      "INFO:tensorflow:Assets written to: /tmp/tmp30co2bim/assets\n",
      "2022-11-22 10:15:45.966448: W tensorflow/compiler/mlir/lite/python/tf_tfl_flatbuffer_helpers.cc:362] Ignored output_format.\n",
      "2022-11-22 10:15:45.966545: W tensorflow/compiler/mlir/lite/python/tf_tfl_flatbuffer_helpers.cc:365] Ignored drop_control_dependency.\n",
      "2022-11-22 10:15:45.966759: I tensorflow/cc/saved_model/reader.cc:45] Reading SavedModel from: /tmp/tmp30co2bim\n",
      "2022-11-22 10:15:45.971449: I tensorflow/cc/saved_model/reader.cc:89] Reading meta graph with tags { serve }\n",
      "2022-11-22 10:15:45.971521: I tensorflow/cc/saved_model/reader.cc:130] Reading SavedModel debug info (if present) from: /tmp/tmp30co2bim\n",
      "2022-11-22 10:15:45.991539: I tensorflow/cc/saved_model/loader.cc:229] Restoring SavedModel bundle.\n",
      "2022-11-22 10:15:46.114303: I tensorflow/cc/saved_model/loader.cc:213] Running initialization op on SavedModel bundle at path: /tmp/tmp30co2bim\n",
      "2022-11-22 10:15:46.151498: I tensorflow/cc/saved_model/loader.cc:305] SavedModel load for tags { serve }; Status: success: OK. Took 184738 microseconds.\n",
      "WARNING:absl:Found untraced functions such as _jit_compiled_convolution_op, _jit_compiled_convolution_op while saving (showing 2 of 2). These functions will not be directly callable after loading.\n"
     ]
    },
    {
     "name": "stdout",
     "output_type": "stream",
     "text": [
      "INFO:tensorflow:Assets written to: /tmp/tmp2t14kdgh/assets\n"
     ]
    },
    {
     "name": "stderr",
     "output_type": "stream",
     "text": [
      "INFO:tensorflow:Assets written to: /tmp/tmp2t14kdgh/assets\n",
      "2022-11-22 10:15:48.353565: W tensorflow/compiler/mlir/lite/python/tf_tfl_flatbuffer_helpers.cc:362] Ignored output_format.\n",
      "2022-11-22 10:15:48.353660: W tensorflow/compiler/mlir/lite/python/tf_tfl_flatbuffer_helpers.cc:365] Ignored drop_control_dependency.\n",
      "2022-11-22 10:15:48.353877: I tensorflow/cc/saved_model/reader.cc:45] Reading SavedModel from: /tmp/tmp2t14kdgh\n",
      "2022-11-22 10:15:48.357706: I tensorflow/cc/saved_model/reader.cc:89] Reading meta graph with tags { serve }\n",
      "2022-11-22 10:15:48.357781: I tensorflow/cc/saved_model/reader.cc:130] Reading SavedModel debug info (if present) from: /tmp/tmp2t14kdgh\n",
      "2022-11-22 10:15:48.372810: I tensorflow/cc/saved_model/loader.cc:229] Restoring SavedModel bundle.\n",
      "2022-11-22 10:15:48.467149: I tensorflow/cc/saved_model/loader.cc:213] Running initialization op on SavedModel bundle at path: /tmp/tmp2t14kdgh\n",
      "2022-11-22 10:15:48.492009: I tensorflow/cc/saved_model/loader.cc:305] SavedModel load for tags { serve }; Status: success: OK. Took 138131 microseconds.\n",
      "WARNING:absl:Found untraced functions such as _jit_compiled_convolution_op, _jit_compiled_convolution_op while saving (showing 2 of 2). These functions will not be directly callable after loading.\n"
     ]
    },
    {
     "name": "stdout",
     "output_type": "stream",
     "text": [
      "INFO:tensorflow:Assets written to: /tmp/tmpb2h3q629/assets\n"
     ]
    },
    {
     "name": "stderr",
     "output_type": "stream",
     "text": [
      "INFO:tensorflow:Assets written to: /tmp/tmpb2h3q629/assets\n",
      "2022-11-22 10:15:51.759839: W tensorflow/compiler/mlir/lite/python/tf_tfl_flatbuffer_helpers.cc:362] Ignored output_format.\n",
      "2022-11-22 10:15:51.759943: W tensorflow/compiler/mlir/lite/python/tf_tfl_flatbuffer_helpers.cc:365] Ignored drop_control_dependency.\n",
      "2022-11-22 10:15:51.760173: I tensorflow/cc/saved_model/reader.cc:45] Reading SavedModel from: /tmp/tmpb2h3q629\n",
      "2022-11-22 10:15:51.766463: I tensorflow/cc/saved_model/reader.cc:89] Reading meta graph with tags { serve }\n",
      "2022-11-22 10:15:51.766535: I tensorflow/cc/saved_model/reader.cc:130] Reading SavedModel debug info (if present) from: /tmp/tmpb2h3q629\n",
      "2022-11-22 10:15:51.798513: I tensorflow/cc/saved_model/loader.cc:229] Restoring SavedModel bundle.\n",
      "2022-11-22 10:15:51.982572: I tensorflow/cc/saved_model/loader.cc:213] Running initialization op on SavedModel bundle at path: /tmp/tmpb2h3q629\n",
      "2022-11-22 10:15:52.042360: I tensorflow/cc/saved_model/loader.cc:305] SavedModel load for tags { serve }; Status: success: OK. Took 282188 microseconds.\n"
     ]
    }
   ],
   "source": [
    "df = pd.read_pickle('/tmp/df_binance_ohlcv_extended.pkl')\n",
    "df = df.loc[df.index.get_level_values('timestamp') < pd.to_datetime('2022-11-22 00:00:00Z')]\n",
    "# df = df.loc[df.index.get_level_values('timestamp') >= pd.to_datetime('2018-01-01 00:00:00Z')]\n",
    "\n",
    "btc_timestamps = df.loc[df.index.get_level_values('symbol') == 'BTC'].index.get_level_values('timestamp')\n",
    "df = df.loc[df.index.get_level_values('timestamp').isin(btc_timestamps)]\n",
    "\n",
    "df['ret'] = df.groupby('symbol')['twap_5m'].transform(lambda x: x.shift(-8 - 1) / x.shift(-1) - 1).fillna(0)\n",
    "df['execution_start_at'] = df.index.get_level_values('timestamp')\n",
    "\n",
    "model = ExampleModelRank(10)\n",
    "\n",
    "# cv\n",
    "df_cv = calc_position_cv2(model, df)\n",
    "visualize_result(df_cv.dropna())\n",
    "visualize_result(df_cv.loc[~df['extended']].dropna())\n",
    "\n",
    "# fit and save model as portable format\n",
    "model = ExampleModelRank(80)\n",
    "model.fit(df)\n",
    "data = cloudpickle.dumps(model)\n",
    "data = lzma.compress(data)\n",
    "with open('/home/jovyan/data/{}.xz'.format(model_name), 'wb') as f:\n",
    "    f.write(data)"
   ]
  },
  {
   "cell_type": "markdown",
   "id": "a68402ef-0947-4208-b536-64d7ea888b68",
   "metadata": {},
   "source": [
    "expt\n",
    "\n",
    "- [20221028_btc_one_cnn_h8/20221109_222521.ipynb](20221028_btc_one_cnn_h8/20221109_222521.ipynb) without hedge (baseline)\n",
    "- [20221028_btc_one_cnn_h8/20221109_222624.ipynb](20221028_btc_one_cnn_h8/20221109_222624.ipynb) with hedge"
   ]
  },
  {
   "cell_type": "code",
   "execution_count": 12,
   "id": "5d9ca8fc-dafe-4d1b-9a0f-e84f7e46f6c6",
   "metadata": {
    "execution": {
     "iopub.execute_input": "2022-11-22T10:15:52.838319Z",
     "iopub.status.busy": "2022-11-22T10:15:52.836562Z",
     "iopub.status.idle": "2022-11-22T10:16:31.322261Z",
     "shell.execute_reply": "2022-11-22T10:16:31.320666Z"
    }
   },
   "outputs": [
    {
     "data": {
      "image/png": "[encoded data removed]",
      "text/plain": [
       "<Figure size 640x480 with 1 Axes>"
      ]
     },
     "metadata": {},
     "output_type": "display_data"
    },
    {
     "name": "stdout",
     "output_type": "stream",
     "text": [
      "timestamp                  symbol\n",
      "2022-09-23 06:00:00+00:00  ADA      -0.055556\n",
      "                           ATOM     -0.055556\n",
      "                           BTC       0.500000\n",
      "                           DOT      -0.055556\n",
      "                           ETC      -0.055556\n",
      "                                       ...   \n",
      "2022-11-22 06:00:00+00:00  ETH       0.039764\n",
      "                           LINK     -0.201109\n",
      "                           LTC      -0.069848\n",
      "                           MATIC    -0.054184\n",
      "                           XRP       0.003014\n",
      "Name: position, Length: 14410, dtype: float32\n",
      "['ADA', 'ATOM', 'BTC', 'DOT', 'ETC', 'ETH', 'LINK', 'LTC', 'MATIC', 'XRP']\n",
      "test shift predict\n"
     ]
    },
    {
     "data": {
      "image/png": "[encoded data removed]",
      "text/plain": [
       "<Figure size 640x480 with 1 Axes>"
      ]
     },
     "metadata": {},
     "output_type": "display_data"
    },
    {
     "data": {
      "image/png": "[encoded data removed]",
      "text/plain": [
       "<Figure size 640x480 with 1 Axes>"
      ]
     },
     "metadata": {},
     "output_type": "display_data"
    },
    {
     "data": {
      "image/png": "[encoded data removed]",
      "text/plain": [
       "<Figure size 640x480 with 1 Axes>"
      ]
     },
     "metadata": {},
     "output_type": "display_data"
    },
    {
     "data": {
      "text/html": [
       "<div>\n",
       "<style scoped>\n",
       "    .dataframe tbody tr th:only-of-type {\n",
       "        vertical-align: middle;\n",
       "    }\n",
       "\n",
       "    .dataframe tbody tr th {\n",
       "        vertical-align: top;\n",
       "    }\n",
       "\n",
       "    .dataframe thead th {\n",
       "        text-align: right;\n",
       "    }\n",
       "</style>\n",
       "<table border=\"1\" class=\"dataframe\">\n",
       "  <thead>\n",
       "    <tr style=\"text-align: right;\">\n",
       "      <th></th>\n",
       "      <th></th>\n",
       "      <th>position1</th>\n",
       "      <th>position2</th>\n",
       "      <th>position3</th>\n",
       "    </tr>\n",
       "    <tr>\n",
       "      <th>timestamp</th>\n",
       "      <th>symbol</th>\n",
       "      <th></th>\n",
       "      <th></th>\n",
       "      <th></th>\n",
       "    </tr>\n",
       "  </thead>\n",
       "  <tbody>\n",
       "    <tr>\n",
       "      <th rowspan=\"5\" valign=\"top\">2022-09-23 07:00:00+00:00</th>\n",
       "      <th>ADA</th>\n",
       "      <td>-0.055556</td>\n",
       "      <td>-0.055556</td>\n",
       "      <td>-0.055556</td>\n",
       "    </tr>\n",
       "    <tr>\n",
       "      <th>ATOM</th>\n",
       "      <td>-0.055556</td>\n",
       "      <td>-0.055556</td>\n",
       "      <td>-0.055556</td>\n",
       "    </tr>\n",
       "    <tr>\n",
       "      <th>BTC</th>\n",
       "      <td>0.500000</td>\n",
       "      <td>0.500000</td>\n",
       "      <td>0.500000</td>\n",
       "    </tr>\n",
       "    <tr>\n",
       "      <th>DOT</th>\n",
       "      <td>-0.055556</td>\n",
       "      <td>-0.055556</td>\n",
       "      <td>-0.055556</td>\n",
       "    </tr>\n",
       "    <tr>\n",
       "      <th>ETC</th>\n",
       "      <td>-0.055556</td>\n",
       "      <td>-0.055556</td>\n",
       "      <td>-0.055556</td>\n",
       "    </tr>\n",
       "    <tr>\n",
       "      <th>...</th>\n",
       "      <th>...</th>\n",
       "      <td>...</td>\n",
       "      <td>...</td>\n",
       "      <td>...</td>\n",
       "    </tr>\n",
       "    <tr>\n",
       "      <th rowspan=\"5\" valign=\"top\">2022-11-22 05:00:00+00:00</th>\n",
       "      <th>ETH</th>\n",
       "      <td>0.109558</td>\n",
       "      <td>0.109558</td>\n",
       "      <td>0.109558</td>\n",
       "    </tr>\n",
       "    <tr>\n",
       "      <th>LINK</th>\n",
       "      <td>0.063517</td>\n",
       "      <td>0.063517</td>\n",
       "      <td>0.063517</td>\n",
       "    </tr>\n",
       "    <tr>\n",
       "      <th>LTC</th>\n",
       "      <td>0.056275</td>\n",
       "      <td>0.056275</td>\n",
       "      <td>0.056275</td>\n",
       "    </tr>\n",
       "    <tr>\n",
       "      <th>MATIC</th>\n",
       "      <td>-0.061092</td>\n",
       "      <td>-0.061092</td>\n",
       "      <td>-0.061092</td>\n",
       "    </tr>\n",
       "    <tr>\n",
       "      <th>XRP</th>\n",
       "      <td>0.155288</td>\n",
       "      <td>0.155288</td>\n",
       "      <td>0.155288</td>\n",
       "    </tr>\n",
       "  </tbody>\n",
       "</table>\n",
       "<p>14390 rows × 3 columns</p>\n",
       "</div>"
      ],
      "text/plain": [
       "                                  position1  position2  position3\n",
       "timestamp                 symbol                                 \n",
       "2022-09-23 07:00:00+00:00 ADA     -0.055556  -0.055556  -0.055556\n",
       "                          ATOM    -0.055556  -0.055556  -0.055556\n",
       "                          BTC      0.500000   0.500000   0.500000\n",
       "                          DOT     -0.055556  -0.055556  -0.055556\n",
       "                          ETC     -0.055556  -0.055556  -0.055556\n",
       "...                                     ...        ...        ...\n",
       "2022-11-22 05:00:00+00:00 ETH      0.109558   0.109558   0.109558\n",
       "                          LINK     0.063517   0.063517   0.063517\n",
       "                          LTC      0.056275   0.056275   0.056275\n",
       "                          MATIC   -0.061092  -0.061092  -0.061092\n",
       "                          XRP      0.155288   0.155288   0.155288\n",
       "\n",
       "[14390 rows x 3 columns]"
      ]
     },
     "metadata": {},
     "output_type": "display_data"
    },
    {
     "data": {
      "image/png": "[encoded data removed]",
      "text/plain": [
       "<Figure size 640x480 with 1 Axes>"
      ]
     },
     "metadata": {},
     "output_type": "display_data"
    },
    {
     "name": "stdout",
     "output_type": "stream",
     "text": [
      "ADA (1439, 4)\n",
      "ATOM (1439, 4)\n",
      "BTC (1439, 4)\n",
      "DOT (1439, 4)\n",
      "ETC (1439, 4)\n",
      "ETH (1439, 4)\n",
      "LINK (1439, 4)\n",
      "LTC (1439, 4)\n",
      "MATIC (1439, 4)\n",
      "XRP (1439, 4)\n"
     ]
    },
    {
     "data": {
      "image/png": "[encoded data removed]",
      "text/plain": [
       "<Figure size 640x480 with 1 Axes>"
      ]
     },
     "metadata": {},
     "output_type": "display_data"
    }
   ],
   "source": [
    "# model validation (Just run this cell in the new kernel to make sure you saved it in a portable format.)\n",
    "\n",
    "import os\n",
    "import joblib\n",
    "import pandas as pd\n",
    "\n",
    "model = joblib.load('/home/jovyan/data/{}.xz'.format(model_name))\n",
    "df = pd.read_pickle('/tmp/df_binance_ohlcv_extended.pkl')\n",
    "df = df[['op', 'hi', 'lo', 'cl', 'volume']]\n",
    "max_timestamp = df.index.get_level_values('timestamp').max()\n",
    "df = df.loc[max_timestamp - pd.to_timedelta(model.max_data_sec, unit='S') <= df.index.get_level_values('timestamp')]\n",
    "print(model.predict(df))\n",
    "print(model.symbols)\n",
    "\n",
    "\n",
    "\n",
    "print('test shift predict')\n",
    "import matplotlib.pyplot as plt\n",
    "\n",
    "position1 = model.predict(df)\n",
    "position2 = model.predict(df.loc[df.index.get_level_values('timestamp') < max_timestamp])\n",
    "position3 = model.predict(df.loc[df.index.get_level_values('timestamp').min() < df.index.get_level_values('timestamp')])\n",
    "\n",
    "test_timestamp = max_timestamp - pd.to_timedelta(1, unit='H')\n",
    "df_test = pd.concat([\n",
    "    position1.rename('position1'),\n",
    "    position2.rename('position2'),\n",
    "    position3.rename('position3'),\n",
    "], axis=1)\n",
    "\n",
    "df_test = df_test.dropna()\n",
    "display(df_test)\n",
    "\n",
    "for symbol, df_symbol in df_test.groupby('symbol'):\n",
    "    df_symbol = df_symbol.reset_index().set_index('timestamp')\n",
    "    (df_symbol['position2'] - df_symbol['position1']).plot()\n",
    "plt.show()\n",
    "\n",
    "for symbol, df_symbol in df_test.groupby('symbol'):\n",
    "    df_symbol = df_symbol.reset_index().set_index('timestamp')\n",
    "    print(symbol, df_symbol.shape)\n",
    "    (df_symbol['position3'] - df_symbol['position1']).plot()\n",
    "plt.show()"
   ]
  },
  {
   "cell_type": "code",
   "execution_count": null,
   "id": "b1c337ac-00f8-47d0-abd2-e7f4862ef62f",
   "metadata": {},
   "outputs": [],
   "source": []
  }
 ],
 "metadata": {
  "kernelspec": {
   "display_name": "Python 3 (ipykernel)",
   "language": "python",
   "name": "python3"
  },
  "language_info": {
   "codemirror_mode": {
    "name": "ipython",
    "version": 3
   },
   "file_extension": ".py",
   "mimetype": "text/x-python",
   "name": "python",
   "nbconvert_exporter": "python",
   "pygments_lexer": "ipython3",
   "version": "3.10.6"
  }
 },
 "nbformat": 4,
 "nbformat_minor": 5
}
