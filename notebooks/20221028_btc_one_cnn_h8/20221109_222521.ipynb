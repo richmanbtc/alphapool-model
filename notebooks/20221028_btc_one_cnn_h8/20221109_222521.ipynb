{
 "cells": [
  {
   "cell_type": "code",
   "execution_count": 1,
   "id": "69f846ac-9e0c-4042-957d-a3ca24acf396",
   "metadata": {
    "execution": {
     "iopub.execute_input": "2022-11-09T13:29:11.774832Z",
     "iopub.status.busy": "2022-11-09T13:29:11.773879Z",
     "iopub.status.idle": "2022-11-09T13:29:13.900214Z",
     "shell.execute_reply": "2022-11-09T13:29:13.899382Z"
    }
   },
   "outputs": [],
   "source": [
    "import os\n",
    "import sys\n",
    "p = '..'\n",
    "while not os.path.isdir(p + '/notebooks'):\n",
    "    p += '/..'\n",
    "sys.path.append(p) # for import src\n",
    "\n",
    "import os\n",
    "import cloudpickle\n",
    "import lzma\n",
    "import pandas as pd\n",
    "import numpy as np\n",
    "from sklearn.linear_model import Ridge\n",
    "from sklearn.model_selection import cross_val_predict\n",
    "from scipy.stats import pearsonr\n",
    "import matplotlib.pyplot as plt\n",
    "import lightgbm as lgb\n",
    "import talib\n",
    "import joblib\n",
    "\n",
    "import src\n",
    "from src.ml_utils import (\n",
    "    fetch_ohlcv, \n",
    "    visualize_result, \n",
    "    normalize_position, \n",
    "    calc_position_cv2,\n",
    "    get_feature_columns,\n",
    "    get_symbols,\n",
    "    unbiased_rank,\n",
    "    ewm_finite,\n",
    ")\n",
    "cloudpickle.register_pickle_by_value(src) # for model portability\n",
    "\n",
    "os.environ[\"USE_JOBLIB_MEMORY\"] = \"1\"\n",
    "\n",
    "def get_joblib_memory():\n",
    "    if os.getenv('USE_JOBLIB_MEMORY'):\n",
    "        return joblib.Memory('/tmp/alphapool_joblib_memory', verbose=0)\n",
    "    else:\n",
    "        return joblib.Memory(None, verbose=0)\n"
   ]
  },
  {
   "cell_type": "code",
   "execution_count": 2,
   "id": "ec39979e-af09-44f8-a210-b95b7bc0af8a",
   "metadata": {
    "execution": {
     "iopub.execute_input": "2022-11-09T13:29:13.904910Z",
     "iopub.status.busy": "2022-11-09T13:29:13.904162Z",
     "iopub.status.idle": "2022-11-09T13:36:57.209817Z",
     "shell.execute_reply": "2022-11-09T13:36:57.207087Z"
    }
   },
   "outputs": [
    {
     "data": {
      "text/html": [
       "<div>\n",
       "<style scoped>\n",
       "    .dataframe tbody tr th:only-of-type {\n",
       "        vertical-align: middle;\n",
       "    }\n",
       "\n",
       "    .dataframe tbody tr th {\n",
       "        vertical-align: top;\n",
       "    }\n",
       "\n",
       "    .dataframe thead th {\n",
       "        text-align: right;\n",
       "    }\n",
       "</style>\n",
       "<table border=\"1\" class=\"dataframe\">\n",
       "  <thead>\n",
       "    <tr style=\"text-align: right;\">\n",
       "      <th></th>\n",
       "      <th></th>\n",
       "      <th>op</th>\n",
       "      <th>hi</th>\n",
       "      <th>lo</th>\n",
       "      <th>cl</th>\n",
       "      <th>volume</th>\n",
       "      <th>execution_start_at</th>\n",
       "      <th>ret</th>\n",
       "    </tr>\n",
       "    <tr>\n",
       "      <th>timestamp</th>\n",
       "      <th>symbol</th>\n",
       "      <th></th>\n",
       "      <th></th>\n",
       "      <th></th>\n",
       "      <th></th>\n",
       "      <th></th>\n",
       "      <th></th>\n",
       "      <th></th>\n",
       "    </tr>\n",
       "  </thead>\n",
       "  <tbody>\n",
       "    <tr>\n",
       "      <th rowspan=\"4\" valign=\"top\">2019-07-20 12:00:00+00:00</th>\n",
       "      <th>BNB</th>\n",
       "      <td>30.722500</td>\n",
       "      <td>30.772500</td>\n",
       "      <td>30.62500</td>\n",
       "      <td>30.625000</td>\n",
       "      <td>2.215166e+04</td>\n",
       "      <td>2019-07-20 13:00:00+00:00</td>\n",
       "      <td>0.026612</td>\n",
       "    </tr>\n",
       "    <tr>\n",
       "      <th>BTC</th>\n",
       "      <td>10564.250000</td>\n",
       "      <td>10630.000000</td>\n",
       "      <td>10525.50000</td>\n",
       "      <td>10539.500000</td>\n",
       "      <td>1.052997e+07</td>\n",
       "      <td>2019-07-20 13:00:00+00:00</td>\n",
       "      <td>0.034090</td>\n",
       "    </tr>\n",
       "    <tr>\n",
       "      <th>ETH</th>\n",
       "      <td>225.930000</td>\n",
       "      <td>226.440000</td>\n",
       "      <td>225.51000</td>\n",
       "      <td>225.830000</td>\n",
       "      <td>0.000000e+00</td>\n",
       "      <td>2019-07-20 13:00:00+00:00</td>\n",
       "      <td>0.030901</td>\n",
       "    </tr>\n",
       "    <tr>\n",
       "      <th>XRP</th>\n",
       "      <td>0.327975</td>\n",
       "      <td>0.328400</td>\n",
       "      <td>0.32700</td>\n",
       "      <td>0.327975</td>\n",
       "      <td>0.000000e+00</td>\n",
       "      <td>2019-07-20 13:00:00+00:00</td>\n",
       "      <td>0.037908</td>\n",
       "    </tr>\n",
       "    <tr>\n",
       "      <th>2019-07-20 13:00:00+00:00</th>\n",
       "      <th>BNB</th>\n",
       "      <td>30.625000</td>\n",
       "      <td>30.867500</td>\n",
       "      <td>30.33500</td>\n",
       "      <td>30.562500</td>\n",
       "      <td>1.649716e+05</td>\n",
       "      <td>2019-07-20 14:00:00+00:00</td>\n",
       "      <td>0.026836</td>\n",
       "    </tr>\n",
       "    <tr>\n",
       "      <th>...</th>\n",
       "      <th>...</th>\n",
       "      <td>...</td>\n",
       "      <td>...</td>\n",
       "      <td>...</td>\n",
       "      <td>...</td>\n",
       "      <td>...</td>\n",
       "      <td>...</td>\n",
       "      <td>...</td>\n",
       "    </tr>\n",
       "    <tr>\n",
       "      <th rowspan=\"5\" valign=\"top\">2022-11-09 12:00:00+00:00</th>\n",
       "      <th>ETH</th>\n",
       "      <td>1218.900000</td>\n",
       "      <td>1262.300000</td>\n",
       "      <td>1215.70000</td>\n",
       "      <td>1240.100000</td>\n",
       "      <td>2.558305e+08</td>\n",
       "      <td>2022-11-09 13:00:00+00:00</td>\n",
       "      <td>NaN</td>\n",
       "    </tr>\n",
       "    <tr>\n",
       "      <th>LINK</th>\n",
       "      <td>6.800500</td>\n",
       "      <td>6.977000</td>\n",
       "      <td>6.73900</td>\n",
       "      <td>6.818500</td>\n",
       "      <td>4.735283e+06</td>\n",
       "      <td>2022-11-09 13:00:00+00:00</td>\n",
       "      <td>NaN</td>\n",
       "    </tr>\n",
       "    <tr>\n",
       "      <th>MATIC</th>\n",
       "      <td>0.940400</td>\n",
       "      <td>0.967300</td>\n",
       "      <td>0.92080</td>\n",
       "      <td>0.938100</td>\n",
       "      <td>1.362755e+07</td>\n",
       "      <td>2022-11-09 13:00:00+00:00</td>\n",
       "      <td>NaN</td>\n",
       "    </tr>\n",
       "    <tr>\n",
       "      <th>SOL</th>\n",
       "      <td>18.595000</td>\n",
       "      <td>19.800000</td>\n",
       "      <td>18.06000</td>\n",
       "      <td>18.985000</td>\n",
       "      <td>5.257909e+07</td>\n",
       "      <td>2022-11-09 13:00:00+00:00</td>\n",
       "      <td>NaN</td>\n",
       "    </tr>\n",
       "    <tr>\n",
       "      <th>XRP</th>\n",
       "      <td>0.375250</td>\n",
       "      <td>0.385775</td>\n",
       "      <td>0.37465</td>\n",
       "      <td>0.379625</td>\n",
       "      <td>8.275274e+06</td>\n",
       "      <td>2022-11-09 13:00:00+00:00</td>\n",
       "      <td>NaN</td>\n",
       "    </tr>\n",
       "  </tbody>\n",
       "</table>\n",
       "<p>262038 rows × 7 columns</p>\n",
       "</div>"
      ],
      "text/plain": [
       "                                            op            hi           lo  \\\n",
       "timestamp                 symbol                                            \n",
       "2019-07-20 12:00:00+00:00 BNB        30.722500     30.772500     30.62500   \n",
       "                          BTC     10564.250000  10630.000000  10525.50000   \n",
       "                          ETH       225.930000    226.440000    225.51000   \n",
       "                          XRP         0.327975      0.328400      0.32700   \n",
       "2019-07-20 13:00:00+00:00 BNB        30.625000     30.867500     30.33500   \n",
       "...                                        ...           ...          ...   \n",
       "2022-11-09 12:00:00+00:00 ETH      1218.900000   1262.300000   1215.70000   \n",
       "                          LINK        6.800500      6.977000      6.73900   \n",
       "                          MATIC       0.940400      0.967300      0.92080   \n",
       "                          SOL        18.595000     19.800000     18.06000   \n",
       "                          XRP         0.375250      0.385775      0.37465   \n",
       "\n",
       "                                            cl        volume  \\\n",
       "timestamp                 symbol                               \n",
       "2019-07-20 12:00:00+00:00 BNB        30.625000  2.215166e+04   \n",
       "                          BTC     10539.500000  1.052997e+07   \n",
       "                          ETH       225.830000  0.000000e+00   \n",
       "                          XRP         0.327975  0.000000e+00   \n",
       "2019-07-20 13:00:00+00:00 BNB        30.562500  1.649716e+05   \n",
       "...                                        ...           ...   \n",
       "2022-11-09 12:00:00+00:00 ETH      1240.100000  2.558305e+08   \n",
       "                          LINK        6.818500  4.735283e+06   \n",
       "                          MATIC       0.938100  1.362755e+07   \n",
       "                          SOL        18.985000  5.257909e+07   \n",
       "                          XRP         0.379625  8.275274e+06   \n",
       "\n",
       "                                        execution_start_at       ret  \n",
       "timestamp                 symbol                                      \n",
       "2019-07-20 12:00:00+00:00 BNB    2019-07-20 13:00:00+00:00  0.026612  \n",
       "                          BTC    2019-07-20 13:00:00+00:00  0.034090  \n",
       "                          ETH    2019-07-20 13:00:00+00:00  0.030901  \n",
       "                          XRP    2019-07-20 13:00:00+00:00  0.037908  \n",
       "2019-07-20 13:00:00+00:00 BNB    2019-07-20 14:00:00+00:00  0.026836  \n",
       "...                                                    ...       ...  \n",
       "2022-11-09 12:00:00+00:00 ETH    2022-11-09 13:00:00+00:00       NaN  \n",
       "                          LINK   2022-11-09 13:00:00+00:00       NaN  \n",
       "                          MATIC  2022-11-09 13:00:00+00:00       NaN  \n",
       "                          SOL    2022-11-09 13:00:00+00:00       NaN  \n",
       "                          XRP    2022-11-09 13:00:00+00:00       NaN  \n",
       "\n",
       "[262038 rows x 7 columns]"
      ]
     },
     "metadata": {},
     "output_type": "display_data"
    }
   ],
   "source": [
    "# symbols = 'BTC,ETH'.split(',')\n",
    "symbols = os.getenv('ALPHAPOOL_SYMBOLS').split(',') # 売買代金が多く、古いもの\n",
    "df = fetch_ohlcv(symbols=symbols, with_target=True, price_type=None, horizon=8)\n",
    "df.to_pickle('/tmp/df_horizon8_price_type_none.pkl')\n",
    "display(df)"
   ]
  },
  {
   "cell_type": "code",
   "execution_count": 3,
   "id": "463f3d07-3dac-4173-90c1-33426b09861c",
   "metadata": {
    "execution": {
     "iopub.execute_input": "2022-11-09T13:36:57.227487Z",
     "iopub.status.busy": "2022-11-09T13:36:57.227045Z",
     "iopub.status.idle": "2022-11-09T13:36:57.548110Z",
     "shell.execute_reply": "2022-11-09T13:36:57.545363Z"
    }
   },
   "outputs": [],
   "source": [
    "# based on 20220910_eda\n",
    "\n",
    "import numba\n",
    "from pandas.api.types import is_float_dtype\n",
    "\n",
    "def signed_rsi_sma(x, timeperiod=14):\n",
    "    v = x.diff(1).fillna(0)\n",
    "    return (v.rolling(timeperiod, 1).sum() / (1e-37 + v.abs().rolling(timeperiod, 1).sum())).clip(-1, 1)\n",
    "\n",
    "def uniform_rank(x):\n",
    "    return unbiased_rank(x)\n",
    "    # count = x.transform(\"count\")\n",
    "    # rank = x.rank()\n",
    "    # return (rank - 0.5) / count\n",
    "\n",
    "def beta_mean(df, col):\n",
    "    # broadcast btc value\n",
    "    idx = df.index.to_frame()\n",
    "    idx['symbol'] = 'BTC'\n",
    "    idx = pd.MultiIndex.from_frame(idx)\n",
    "    return pd.Series(df.loc[idx, col].values, index=df.index)\n",
    "    \n",
    "def calc_features(df, with_ret=False):\n",
    "    mem = get_joblib_memory()\n",
    "    return mem.cache(do_calc_features)(df, with_ret=with_ret)\n",
    "    \n",
    "def do_calc_features(df, with_ret=False):\n",
    "    dfs = []\n",
    "    for symbol, df_symbol in df.groupby('symbol'):\n",
    "        dfs.append(calc_features_single(df_symbol))\n",
    "    df = pd.concat(dfs).sort_index()\n",
    "\n",
    "    beta_window = 24 * 30\n",
    "    # beta_window = 24 * 7\n",
    "\n",
    "    # df['ln_cl_diff_mean'] = df.groupby('timestamp')['ln_cl_diff'].transform('mean')\n",
    "    df['ln_cl_diff_mean'] = beta_mean(df, 'ln_cl_diff')\n",
    "    \n",
    "    # wrong\n",
    "    # df['beta'] = df.groupby('symbol')['ln_cl_diff'].transform(lambda x: x.rolling(beta_window, 1).corr(df.loc[x.index, 'ln_cl_diff_mean'])).fillna(0).clip(0.1, 2.0)\n",
    "\n",
    "    # df['beta'] = (\n",
    "    #     (df['ln_cl_diff'] * df['ln_cl_diff_mean']).groupby('symbol').transform(lambda x: x.rolling(beta_window, 1).mean())\n",
    "    #     / (df['ln_cl_diff_mean'] ** 2).groupby('symbol').transform(lambda x: x.rolling(beta_window, 1).mean())\n",
    "    # ).fillna(0).clip(0.1, 2.0)\n",
    "    df['beta'] = 1.0\n",
    "    \n",
    "    dfs = [\n",
    "        df,\n",
    "        # df.drop(columns=get_feature_columns(df)),\n",
    "    ]\n",
    "    \n",
    "    if with_ret:\n",
    "        ret_mean = beta_mean(df, 'ret')\n",
    "        dfs += [\n",
    "            (uniform_rank(df.groupby('timestamp')['ret']) - 0.5).rename('ret_rank'),\n",
    "            (df['ret'] - df['beta'] * ret_mean).rename('ret_beta'),\n",
    "        ]\n",
    "    \n",
    "    for col in get_feature_columns(df):\n",
    "        feature_mean = beta_mean(df, col)\n",
    "        dfs += [\n",
    "            # (2 * uniform_rank(df.groupby('timestamp')[col]) - 1).rename(col + '_symbolrank'),\n",
    "            (df[col] - df['beta'] * feature_mean).rename(col + '_symbolbeta'),\n",
    "        ]\n",
    "    df = pd.concat(dfs, axis=1)\n",
    "    \n",
    "    # dfs = [df]\n",
    "    # for col in get_feature_columns(df):\n",
    "    #     if '_symbolbeta' not in col:\n",
    "    #         continue\n",
    "    #     dfs += [\n",
    "    #         (2 * uniform_rank(df.groupby('timestamp')[col]) - 1).rename(col.replace('symbolbeta', 'symbolbtrk')),\n",
    "    #     ]\n",
    "    # df = pd.concat(dfs, axis=1)\n",
    "    \n",
    "    df = df[sorted([x for x in df.columns if is_float_dtype(df.dtypes[x])])].copy().astype('float32')\n",
    "\n",
    "    return df\n",
    "\n",
    "def calc_features_single(df):\n",
    "    df = df.copy()\n",
    "\n",
    "    high = df['hi']\n",
    "    low = df['lo']\n",
    "    close = df['cl']\n",
    "    volume = df['volume']\n",
    "    df['ln_cl'] = np.log(df['cl'])\n",
    "    df['ln_hi'] = np.log(df['hi'])\n",
    "    df['ln_lo'] = np.log(df['lo'])\n",
    "    df['ln_hilo'] = 0.5 * (df['ln_hi'] + df['ln_lo'])\n",
    "    df['ln_cl_diff'] = df['ln_cl'].diff(1).fillna(0)\n",
    "    df['ln_volume'] = np.log1p(df['volume'])\n",
    "\n",
    "    dfs = [df]\n",
    "    \n",
    "    # for i in range(1, 96):\n",
    "    # for i in range(1, 96 // 4):\n",
    "    for i in range(1, 96 // 8):\n",
    "    # for i in range(1, 192 // 8):\n",
    "        dfs += [\n",
    "            # (df['ln_cl'] - df['ln_cl'].rolling(8 * i).mean()).fillna(0).rename('feature_{:02}_ln_cl_kairi'.format(i)), # good\n",
    "            # df['ln_cl'].diff(8).shift(i * 8).fillna(0).rename('feature_ln_cl_diff_{:02}'.format(i)),\n",
    "            df['ln_cl'].diff(8 * i).fillna(0).rename('feature_{:02}_ln_cl_diff'.format(i)), # good\n",
    "            # df['ln_cl'].diff(1 * i).fillna(0).rename('feature_{:02}_ln_cl_diff'.format(i)),\n",
    "            # df['ln_cl'].diff(4 * i).fillna(0).rename('feature_{:02}_ln_cl_diff'.format(i)),\n",
    "            # df['ln_cl'].rolling(8 * i).std().fillna(0).rename('feature_{:02}_ln_cl_std'.format(i)),\n",
    "            # df['ln_volume'].diff(8 * i).fillna(0).rename('feature_{:02}_ln_volume_diff'.format(i)),\n",
    "            # df['ln_volume'].rolling(8 * i).mean().fillna(0).rename('feature_{:02}_ln_volume_mean'.format(i)),\n",
    "            # np.log1p(df['volume'].rolling(8 * i).mean()).fillna(0).rename('feature_{:02}_ln_volume_mean2'.format(i)),\n",
    "            # signed_rsi_sma(df['cl'], timeperiod=i).fillna(0).rename('feature_{:02}_rsi'.format(i)),\n",
    "        ]\n",
    "\n",
    "    return pd.concat(dfs, axis=1)"
   ]
  },
  {
   "cell_type": "code",
   "execution_count": 4,
   "id": "3ffd0d1e-fb4b-45f6-8f65-4dda9bb3598c",
   "metadata": {
    "execution": {
     "iopub.execute_input": "2022-11-09T13:36:57.554694Z",
     "iopub.status.busy": "2022-11-09T13:36:57.554335Z",
     "iopub.status.idle": "2022-11-09T13:37:02.618452Z",
     "shell.execute_reply": "2022-11-09T13:37:02.616261Z"
    }
   },
   "outputs": [
    {
     "name": "stderr",
     "output_type": "stream",
     "text": [
      "2022-11-09 13:36:57.567718: I tensorflow/core/platform/cpu_feature_guard.cc:193] This TensorFlow binary is optimized with oneAPI Deep Neural Network Library (oneDNN) to use the following CPU instructions in performance-critical operations:  AVX2 FMA\n",
      "To enable them in other operations, rebuild TensorFlow with the appropriate compiler flags.\n",
      "2022-11-09 13:36:57.995107: W tensorflow/stream_executor/platform/default/dso_loader.cc:64] Could not load dynamic library 'libcudart.so.11.0'; dlerror: libcudart.so.11.0: cannot open shared object file: No such file or directory\n",
      "2022-11-09 13:36:57.995178: I tensorflow/stream_executor/cuda/cudart_stub.cc:29] Ignore above cudart dlerror if you do not have a GPU set up on your machine.\n",
      "2022-11-09 13:36:58.065550: E tensorflow/stream_executor/cuda/cuda_blas.cc:2981] Unable to register cuBLAS factory: Attempting to register factory for plugin cuBLAS when one has already been registered\n",
      "2022-11-09 13:37:00.462900: W tensorflow/stream_executor/platform/default/dso_loader.cc:64] Could not load dynamic library 'libnvinfer.so.7'; dlerror: libnvinfer.so.7: cannot open shared object file: No such file or directory\n",
      "2022-11-09 13:37:00.463553: W tensorflow/stream_executor/platform/default/dso_loader.cc:64] Could not load dynamic library 'libnvinfer_plugin.so.7'; dlerror: libnvinfer_plugin.so.7: cannot open shared object file: No such file or directory\n",
      "2022-11-09 13:37:00.463623: W tensorflow/compiler/tf2tensorrt/utils/py_utils.cc:38] TF-TRT Warning: Cannot dlopen some TensorRT libraries. If you would like to use Nvidia GPU with TensorRT, please make sure the missing libraries mentioned above are installed properly.\n",
      "/opt/conda/lib/python3.10/site-packages/tensorflow_addons/utils/ensure_tf_install.py:53: UserWarning: Tensorflow Addons supports using Python ops for all Tensorflow versions above or equal to 2.7.0 and strictly below 2.10.0 (nightly versions are not supported). \n",
      " The versions of TensorFlow you are currently using is 2.10.0 and is not supported. \n",
      "Some things might work, some things might not.\n",
      "If you were to encounter a bug, do not file an issue.\n",
      "If you want to make sure you're using a tested and supported configuration, either change the TensorFlow version or the TensorFlow Addons's version. \n",
      "You can find the compatibility matrix in TensorFlow Addon's readme:\n",
      "https://github.com/tensorflow/addons\n",
      "  warnings.warn(\n"
     ]
    }
   ],
   "source": [
    "import tensorflow as tf\n",
    "from tensorflow.keras.layers import (\n",
    "    Input, Dense, Dropout, Reshape, Conv1D, Conv2D, Conv3D, Flatten, MaxPooling1D, AveragePooling1D,\n",
    "    BatchNormalization, Concatenate, Activation, Rescaling, Add, Subtract, Lambda,\n",
    "    GlobalMaxPooling1D, GlobalAveragePooling1D\n",
    ")\n",
    "from tensorflow.keras.models import Model\n",
    "from tensorflow.keras.optimizers import Nadam, SGD, Adam\n",
    "from tensorflow.keras import regularizers\n",
    "from tensorflow.keras import initializers\n",
    "from scipy.stats import norm\n",
    "from scikeras.wrappers import KerasRegressor\n",
    "from functools import partial\n",
    "import tensorflow_addons as tfa"
   ]
  },
  {
   "cell_type": "code",
   "execution_count": 5,
   "id": "2f272bbd-ad1c-43a3-b242-e236340a3ab8",
   "metadata": {
    "execution": {
     "iopub.execute_input": "2022-11-09T13:37:02.630087Z",
     "iopub.status.busy": "2022-11-09T13:37:02.627045Z",
     "iopub.status.idle": "2022-11-09T13:37:02.653836Z",
     "shell.execute_reply": "2022-11-09T13:37:02.651476Z"
    }
   },
   "outputs": [],
   "source": [
    "from tensorflow.python.ops import gen_math_ops, nn_ops\n",
    "\n",
    "class GaussianDropConnectDense(Dense):\n",
    "    def build(self, input_shape):\n",
    "        super().build(input_shape)\n",
    "        \n",
    "        self.kernel_initial = self.kernel.numpy()\n",
    "        # print(self.kernel_initial)\n",
    "        \n",
    "#         self.kernel_old = self.kernel\n",
    "#         self.bias_old = self.bias\n",
    "        \n",
    "        \n",
    "        \n",
    "#         self.kernel = self.kernel_old\n",
    "#         self.bias = self.bias_old * tf.keras.backend.random_normal(\n",
    "#             shape=tf.shape(self.bias_old),\n",
    "#             mean=1.0,\n",
    "#             stddev=sigma,\n",
    "#             dtype=self.bias_old.dtype,\n",
    "#             seed=None\n",
    "#         )\n",
    "    \n",
    "    def call(self, inputs, training=None):     \n",
    "        # dropout_rate = 0.3   \n",
    "        dropout_rate = 0.5      \n",
    "        # dropout_rate = 0.7\n",
    "        sigma = np.sqrt(dropout_rate / (1.0 - dropout_rate))\n",
    "        \n",
    "        # kernel = self.kernel_initial + tf.keras.backend.dropout(self.kernel - self.kernel_initial, dropout_rate, seed=None) / (1.0 - dropout_rate)\n",
    "        kernel = self.kernel_initial + (self.kernel - self.kernel_initial) * tf.keras.backend.random_normal(\n",
    "            shape=tf.shape(self.kernel),\n",
    "            mean=1.0,\n",
    "            stddev=sigma,\n",
    "            dtype=self.kernel.dtype,\n",
    "            seed=None\n",
    "        )\n",
    "        bias = self.bias\n",
    "        \n",
    "        # kernel = self.kernel * tf.keras.backend.random_normal(\n",
    "        #     shape=tf.shape(self.kernel),\n",
    "        #     mean=1.0,\n",
    "        #     stddev=sigma,\n",
    "        #     dtype=self.kernel.dtype,\n",
    "        #     seed=None\n",
    "        # )\n",
    "        # bias = self.bias * tf.keras.backend.random_normal(\n",
    "        #     shape=tf.shape(self.bias),\n",
    "        #     mean=1.0,\n",
    "        #     stddev=sigma,\n",
    "        #     dtype=self.bias.dtype,\n",
    "        #     seed=None\n",
    "        # )\n",
    "        \n",
    "        kernel = tf.keras.backend.in_train_phase(kernel, self.kernel, training=training)\n",
    "        bias = tf.keras.backend.in_train_phase(bias, self.bias, training=training)\n",
    "        \n",
    "        if inputs.dtype.base_dtype != self._compute_dtype_object.base_dtype:\n",
    "          inputs = math_ops.cast(inputs, dtype=self._compute_dtype_object)\n",
    "\n",
    "        rank = inputs.shape.rank\n",
    "        if rank == 2 or rank is None:\n",
    "            outputs = gen_math_ops.MatMul(a=inputs, b=kernel)\n",
    "        # Broadcast kernel to inputs.\n",
    "        else:\n",
    "          outputs = standard_ops.tensordot(inputs, kernel, [[rank - 1], [0]])\n",
    "          # Reshape the output back to the original ndim of the input.\n",
    "          if not context.executing_eagerly():\n",
    "            shape = inputs.shape.as_list()\n",
    "            output_shape = shape[:-1] + [kernel.shape[-1]]\n",
    "            outputs.set_shape(output_shape)\n",
    "\n",
    "        if self.use_bias:\n",
    "          outputs = nn_ops.bias_add(outputs, bias)\n",
    "\n",
    "        if self.activation is not None:\n",
    "          outputs = self.activation(outputs)\n",
    "        return outputs"
   ]
  },
  {
   "cell_type": "code",
   "execution_count": 6,
   "id": "06e51888-c034-4858-a648-2236b6f7fbc4",
   "metadata": {
    "execution": {
     "iopub.execute_input": "2022-11-09T13:37:02.665368Z",
     "iopub.status.busy": "2022-11-09T13:37:02.662478Z",
     "iopub.status.idle": "2022-11-09T13:37:02.685655Z",
     "shell.execute_reply": "2022-11-09T13:37:02.683320Z"
    }
   },
   "outputs": [],
   "source": [
    "class WeightLenCallback(tf.keras.callbacks.Callback):\n",
    "    def on_train_begin(self, logs=None):\n",
    "        self.initial_weights = self.model.get_weights()\n",
    "        self.initial_weights_norm = self._calc_dist(self.initial_weights)\n",
    "        self.prev_weights = self.initial_weights\n",
    "        self.weight_len = 0.0\n",
    "\n",
    "    def on_epoch_end(self, epoch, logs=None):\n",
    "        weights = self.model.get_weights()\n",
    "        weight_dist = self._calc_dist(self.initial_weights, weights)\n",
    "        weight_dist2 = self._calc_dist(self.initial_weights, weights, True)\n",
    "        logs['weight_dist'] = weight_dist\n",
    "        # logs['weight_dist2'] = weight_dist2\n",
    "        logs['weight_len'] = self.weight_len\n",
    "        logs['weight_ndist'] = weight_dist / self.initial_weights_norm\n",
    "        logs['weight_nlen'] = self.weight_len / self.initial_weights_norm\n",
    "\n",
    "    def on_train_batch_end(self, batch, logs=None):\n",
    "        weights = self.model.get_weights()\n",
    "        self.weight_len += self._calc_dist(self.prev_weights, weights)\n",
    "        self.prev_weights = weights\n",
    "        \n",
    "    def _calc_dist(self, w1, w2=None, normalized=False):\n",
    "        d = 0.0\n",
    "        for i in range(len(w1)):\n",
    "            x = w1[i]\n",
    "            y = w1[i] if w2 is None else w2[i] \n",
    "            if normalized:\n",
    "                x = x / (1e-37 + np.sum(x ** 2) ** 0.5)\n",
    "                y = y / (1e-37 + np.sum(y ** 2) ** 0.5)\n",
    "            if w2 is None:\n",
    "                d += np.sum(x ** 2)\n",
    "            else:\n",
    "                d += np.sum((x - y) ** 2)\n",
    "        return d ** 0.5"
   ]
  },
  {
   "cell_type": "code",
   "execution_count": 7,
   "id": "d7d734d2-1217-49df-aa95-3307070f35b0",
   "metadata": {
    "execution": {
     "iopub.execute_input": "2022-11-09T13:37:02.693717Z",
     "iopub.status.busy": "2022-11-09T13:37:02.693385Z",
     "iopub.status.idle": "2022-11-09T13:37:02.705626Z",
     "shell.execute_reply": "2022-11-09T13:37:02.703105Z"
    }
   },
   "outputs": [],
   "source": [
    "# support multi dimension\n",
    "class MyVotingRegressor:\n",
    "    def __init__(self, models):\n",
    "        self._models = models\n",
    "        \n",
    "    def fit(self, X, y, sample_weight=None):\n",
    "        for label, m in self._models:\n",
    "            m.fit(X, y, sample_weight=sample_weight)\n",
    "        return self\n",
    "        \n",
    "    def predict(self, X):\n",
    "        ys = []\n",
    "        for label, m in self._models:\n",
    "            ys.append(m.predict(X))\n",
    "        return np.mean(ys, axis=0)"
   ]
  },
  {
   "cell_type": "code",
   "execution_count": 8,
   "id": "d2252445-369a-4f8b-a79f-6901cd3c51da",
   "metadata": {
    "execution": {
     "iopub.execute_input": "2022-11-09T13:37:02.713989Z",
     "iopub.status.busy": "2022-11-09T13:37:02.713618Z",
     "iopub.status.idle": "2022-11-09T13:37:02.726030Z",
     "shell.execute_reply": "2022-11-09T13:37:02.722565Z"
    }
   },
   "outputs": [],
   "source": [
    "class LambdaTrain(Lambda):    \n",
    "    def call(self, inputs, training=None):     \n",
    "        return tf.keras.backend.in_train_phase(super().call(inputs), inputs, training=training)"
   ]
  },
  {
   "cell_type": "code",
   "execution_count": 9,
   "id": "00cd1ae7-a3d5-40a2-90e6-eb446ab9b79a",
   "metadata": {
    "execution": {
     "iopub.execute_input": "2022-11-09T13:37:02.734743Z",
     "iopub.status.busy": "2022-11-09T13:37:02.734382Z",
     "iopub.status.idle": "2022-11-09T13:37:02.751897Z",
     "shell.execute_reply": "2022-11-09T13:37:02.750107Z"
    }
   },
   "outputs": [],
   "source": [
    "import tempfile\n",
    "\n",
    "class SimpleKerasPredictor:\n",
    "    def __init__(self, model):\n",
    "        # self.model = model\n",
    "        \n",
    "        converter = tf.lite.TFLiteConverter.from_keras_model(model)\n",
    "        converter.optimizations = [tf.lite.Optimize.DEFAULT]\n",
    "        self.tflite_data = converter.convert()\n",
    "        \n",
    "    def predict(self, X):\n",
    "        if True:\n",
    "            interpreter = tf.lite.Interpreter(model_content=self.tflite_data)\n",
    "            signatures = interpreter.get_signature_list()\n",
    "            # print(signatures)\n",
    "\n",
    "            input_name = signatures['serving_default']['inputs'][0]\n",
    "            output_name = signatures['serving_default']['outputs'][0]\n",
    "            # {'serving_default': {'inputs': ['input_14'], 'outputs': ['activation_13']}}\n",
    "\n",
    "            sig = interpreter.get_signature_runner()\n",
    "            # print(sig)\n",
    "            return sig(**{ input_name: X })[output_name]\n",
    "        else:\n",
    "            return self.model.predict(X)\n",
    "    \n",
    "    def __getstate__(self):\n",
    "        state = {}\n",
    "        state['tflite_data'] = self.tflite_data\n",
    "        # with tempfile.TemporaryDirectory() as dir:\n",
    "        #     filename = dir + '/model.h5'\n",
    "        #     self.model.save(filename, include_optimizer=False)\n",
    "        #     with open(filename, 'rb') as f:\n",
    "        #         state['model'] = f.read()\n",
    "        return state\n",
    "        \n",
    "    def __setstate__(self, state):\n",
    "        self.tflite_data = state['tflite_data']\n",
    "        # interpreter = tf.lite.Interpreter(model_content=self.tflite_data)\n",
    "        # self.sig = interpreter.get_signature_runner()\n",
    "\n",
    "        # with tempfile.TemporaryDirectory() as dir:\n",
    "        #     model_data = state.get('model')\n",
    "        #     filename = dir + '/model.h5'\n",
    "        #     with open(filename, 'wb') as f:\n",
    "        #         f.write(model_data)\n",
    "        #     self.model = tf.keras.models.load_model(filename)    "
   ]
  },
  {
   "cell_type": "code",
   "execution_count": 10,
   "id": "363fd2c2-ad26-41c3-97b4-8b82f4490664",
   "metadata": {
    "execution": {
     "iopub.execute_input": "2022-11-09T13:37:02.762604Z",
     "iopub.status.busy": "2022-11-09T13:37:02.762219Z",
     "iopub.status.idle": "2022-11-09T13:37:03.039583Z",
     "shell.execute_reply": "2022-11-09T13:37:03.037118Z"
    }
   },
   "outputs": [],
   "source": [
    "\n",
    "from sklearn.preprocessing import StandardScaler, FunctionTransformer\n",
    "from sklearn.pipeline import Pipeline\n",
    "from sklearn.ensemble import BaggingRegressor, VotingRegressor\n",
    "\n",
    "from sklearn.pipeline import Pipeline, FeatureUnion\n",
    "from sklearn.cluster import FeatureAgglomeration\n",
    "import xgboost as xgb\n",
    "from sklearn.ensemble import HistGradientBoostingRegressor, BaggingRegressor\n",
    "from sklearn.decomposition import PCA, TruncatedSVD\n",
    "from sklearn.compose import TransformedTargetRegressor\n",
    "from sklearn.preprocessing import QuantileTransformer\n",
    "from sklearn.feature_selection import SelectPercentile, mutual_info_regression\n",
    "from sklearn.linear_model import RidgeCV\n",
    "\n",
    "class ExampleModelRank:\n",
    "    def __init__(self, ensemble=10):\n",
    "        # self._model = Ridge(fit_intercept=False, alpha=1e20)\n",
    "        # self._model = Pipeline([\n",
    "        #     ('ss', StandardScaler()),\n",
    "        #     ('model', self._model)\n",
    "        # ])\n",
    "        \n",
    "        # self._model = lgb.LGBMRegressor(\n",
    "        #     n_estimators=1000,\n",
    "        #     learning_rate=0.01,\n",
    "        #     extra_trees=True,\n",
    "        #     # colsample_bytree=0.9,\n",
    "        #     colsample_bytree=0.03,\n",
    "        #     # lambda_l2=1e1,\n",
    "        #     random_state=1,\n",
    "        #     n_jobs=-1,\n",
    "        # )\n",
    "        \n",
    "        # self._model = lgb.LGBMClassifier(\n",
    "        #     # n_estimators=1000,\n",
    "        #     # learning_rate=0.001,\n",
    "        #     random_state=1,\n",
    "        #     n_jobs=-1,\n",
    "        # )\n",
    "        \n",
    "        \n",
    "        # union = FeatureUnion([\n",
    "        #     (\"pt\", 'passthrough'),\n",
    "        #     (\"pca\", PCA(n_components=32)),\n",
    "        #     (\"svd\", TruncatedSVD(n_components=32)),\n",
    "        #     (\"agg\", FeatureAgglomeration(n_clusters=32)),\n",
    "        # ])\n",
    "        # self._model = Pipeline([\n",
    "        #     # ('feat_agglo', FeatureAgglomeration(n_clusters=64)),\n",
    "        #     ('union', union),\n",
    "        #     ('model', self._model)\n",
    "        # ])\n",
    "        \n",
    "        \n",
    "        self.max_data_sec = 2 * 30 * 24 * 60 * 60 # for predict script\n",
    "        self.price_type = None\n",
    "        self.ensemble = ensemble\n",
    "        self.horizon = 8\n",
    "\n",
    "    def fit(self, df):\n",
    "        df = self._calc_features(df)\n",
    "        features = get_feature_columns(df)\n",
    "        \n",
    "        df['ret_train'] = df['ret']\n",
    "        # df['ret_train'] = (df.groupby('symbol')['ln_cl'].shift(-24) - df['ln_cl']).fillna(0)\n",
    "        # df['ret_train'] = (df.groupby('symbol')['ln_cl'].shift(-4) - df['ln_cl']).fillna(0)\n",
    "        # df['ret_train'] = (df.groupby('symbol')['ln_hilo'].shift(-24) - df['ln_hilo']).fillna(0)\n",
    "        # df['ret_train'] = (df.groupby('symbol')['ln_hilocl'].shift(-24) - df['ln_hilocl']).fillna(0)\n",
    "        # df['ret_train'] = (df.groupby('symbol')['ln_hilo'].shift(-24) - df.groupby('symbol')['ln_hilo'].shift(12)).fillna(0)\n",
    "        # df['ret_train'] = (df.groupby('symbol')['ln_hilo'].shift(-48) - df['ln_hilo']).fillna(0)\n",
    "        # def calc_ret(x):\n",
    "        #     hi = df.loc[x.index, 'hi']\n",
    "        #     lo = df.loc[x.index, 'lo']\n",
    "        #     return 0.5 * (hi.rolling(24, 1).max().shift(-24) + lo.rolling(24, 1).min().shift(-24)) / x - 1\n",
    "        # df['ret_train'] = df.groupby('symbol')['cl'].transform(calc_ret)\n",
    "        \n",
    "        # df['ret_rank'] = unbiased_rank(df.groupby('timestamp')['ret_train']) - 0.5\n",
    "        # df['ret_mean'] = df.groupby('timestamp')['ret_train'].transform('mean')\n",
    "        df['ret_mean'] = beta_mean(df, 'ret_train')\n",
    "        df['ret_beta'] = df['ret_train'] - df['ret_mean'] * df['beta']\n",
    "        df = df.dropna()\n",
    "        self.symbols = get_symbols(df) # for predict script\n",
    "        \n",
    "        df = df.loc[df.index.get_level_values('symbol') != 'BTC']\n",
    "        \n",
    "        print('fit df.shape', df.shape)\n",
    "        \n",
    "        reduce_lr = tf.keras.callbacks.ReduceLROnPlateau(\n",
    "            monitor=\"val_loss\",\n",
    "            factor=0.5,\n",
    "            patience=5,\n",
    "            # verbose=0,\n",
    "            # mode=\"auto\",\n",
    "            # min_delta=0.0001,\n",
    "            # cooldown=0,\n",
    "            # min_lr=0,\n",
    "        )\n",
    "        \n",
    "        es = tf.keras.callbacks.EarlyStopping(\n",
    "            monitor='val_loss',\n",
    "            # monitor='val_mse_weighted',\n",
    "            min_delta=0,\n",
    "            # patience=10,\n",
    "            patience=40,\n",
    "            verbose=0,\n",
    "            mode='auto',\n",
    "            # mode='max',\n",
    "            baseline=None,\n",
    "            restore_best_weights=True\n",
    "        )\n",
    "        \n",
    "        tb = tf.keras.callbacks.TensorBoard(\n",
    "            log_dir=\"tb_logs\",\n",
    "            histogram_freq=1,\n",
    "            write_graph=True,\n",
    "            write_images=False,\n",
    "            write_steps_per_second=False,\n",
    "            update_freq=\"epoch\",\n",
    "            profile_batch=0,\n",
    "            embeddings_freq=1,\n",
    "            embeddings_metadata=None,\n",
    "        )\n",
    "\n",
    "        # lr1 = 0.002\n",
    "        lr1 = 0.002 * 1e-1\n",
    "        lr0 = lr1 * 1e-2\n",
    "        def scheduler(epoch, lr):\n",
    "            if epoch <= 10:\n",
    "                t = epoch / 10.0\n",
    "            else:\n",
    "                t = 1.0\n",
    "            return np.exp(np.log(lr0) * (1 - t) + np.log(lr1) * t)\n",
    "        \n",
    "        # self._model = KerasRegressor(\n",
    "        #     model=partial(build_keras_model, len(features) * 2 + 20 + 20 - 100 * 0, 0),\n",
    "        #     # model=partial(build_keras_model, len(features) * 1, 0),\n",
    "        #     random_state=1,\n",
    "        #     # random_state=np.random.RandomState(1),\n",
    "        #     # epochs=1,\n",
    "        #     # epochs=4,\n",
    "        #     # epochs=20,\n",
    "        #     epochs=1000,\n",
    "        #     validation_split=0.3, # worse than not using val\n",
    "        #     callbacks=[\n",
    "        #         es,\n",
    "        #         # reduce_lr,\n",
    "        #         # tf.keras.callbacks.LearningRateScheduler(scheduler),\n",
    "        #         WeightLenCallback(),\n",
    "        #         # WeightShuffleCallback(),\n",
    "        #         tb, # last\n",
    "        #     ],\n",
    "        #     # batch_size=4096 // 8 // 8,\n",
    "        #     # batch_size=4096 // 8,\n",
    "        #     batch_size=4096,\n",
    "        #     # batch_size=65536,\n",
    "        #     # batch_size=df.shape[0],\n",
    "        #     # shuffle=False,\n",
    "        #     verbose=2,\n",
    "        #     warm_start=True,\n",
    "        # )\n",
    "        # keras_model = self._model\n",
    "        \n",
    "        models = []\n",
    "        for i in range(0, self.ensemble):\n",
    "            models.append(['nn{}'.format(i), KerasRegressor(\n",
    "                # model=partial(build_keras_model, len(features) * 2 + 20 + 20 - 100 * 0, i),\n",
    "                model=partial(build_keras_model, len(features) * 1, i),\n",
    "                epochs=1000,\n",
    "                validation_split=0.3, # worse than not using val\n",
    "                callbacks=[\n",
    "                    es,\n",
    "                    # WeightLenCallback(),\n",
    "                    tb, # last\n",
    "                ],\n",
    "                # batch_size=4096 * 8,\n",
    "                batch_size=4096,\n",
    "                # batch_size=4096 // 8,\n",
    "                random_state=i,\n",
    "                verbose=2 if self.ensemble <= 1 else 0,\n",
    "            )])\n",
    "        self._model = MyVotingRegressor(models)\n",
    "        \n",
    "        # self._model = BaggingRegressor(self._model, random_state=1)\n",
    "\n",
    "        nonstationary_est = lgb.LGBMRegressor(\n",
    "            n_estimators=1000,\n",
    "            learning_rate=0.01,\n",
    "            extra_trees=True,\n",
    "            colsample_bytree=0.03,\n",
    "            random_state=1,\n",
    "            n_jobs=-1,\n",
    "        )\n",
    "        \n",
    "        def scale_func(x):\n",
    "            return x * 0.1\n",
    "        \n",
    "        qt_n = 100\n",
    "        \n",
    "        self._model = Pipeline([\n",
    "            # ('qt', QuantileTransformer(n_quantiles=qt_n, output_distribution='normal', random_state=1)),\n",
    "            # ('qt', QuantileTransformer(output_distribution='uniform', random_state=1)),\n",
    "            # ('sc', StandardScaler(with_mean=False)),\n",
    "            ('sc', StandardScaler()),\n",
    "            # ('fu', FeatureUnion([ # not good?\n",
    "            #     ('pt', 'passthrough'),\n",
    "            #     ('qt', QuantileTransformer(n_quantiles=qt_n, output_distribution='normal', random_state=1)),\n",
    "            #     ('pca', PCA(20, whiten=True)), # good?\n",
    "            #     # ('fa', FeatureAgglomeration(20, pooling_func=np.median)), # not good?\n",
    "            #     ('fa_std', Pipeline([ # not bad?\n",
    "            #         ('fa_std2', FeatureAgglomeration(20, pooling_func=np.std)),\n",
    "            #         ('qt2', QuantileTransformer(n_quantiles=qt_n, output_distribution='normal', random_state=1)),\n",
    "            #     ])),\n",
    "            # ])),\n",
    "            # ('scale', FunctionTransformer(scale_func)),\n",
    "            # ('pca', PCA(whiten=True)), # bad\n",
    "            ('model', self._model)\n",
    "        ])\n",
    "        \n",
    "        # self._model = Ridge(alpha=1e5, fit_intercept=False)\n",
    "        # self._model = RidgeCV(fit_intercept=False)\n",
    "        \n",
    "        # dfs = []\n",
    "        # for i in range(4):\n",
    "        #     df2 = df.copy()\n",
    "        #     df2[features] = df2[features] + np.random.normal(0, 0.1, (df.shape[0], len(features)))\n",
    "        #     dfs += [\n",
    "        #         df2\n",
    "        #     ]\n",
    "        # df = pd.concat(dfs)\n",
    "        \n",
    "        # df[features] += np.random.normal(0, 0.1, (df.shape[0], len(features)))\n",
    "        \n",
    "        sw = np.abs(df['ret_beta'])\n",
    "        # sw = np.abs(df['ret'])\n",
    "        sw /= np.mean(sw)\n",
    "        # sw[:] = 1.0\n",
    "        # sw += 1e-2\n",
    "        # sw /= pd.Series(sw).rolling(1000, 1).mean().iloc[::-1].rolling(1000, 1).mean().iloc[::-1].values\n",
    "        # sw /= np.mean(sw)\n",
    "        \n",
    "        X = df[features]\n",
    "        y = np.sign(df['ret_beta'])\n",
    "        # y = np.sign(df['ret'])\n",
    "        # y = (df['ret_beta'] >= 0) * 1.0\n",
    "        # y = df['ret_beta']\n",
    "        # y = df['ret_beta'] / df['ret_beta'].std()\n",
    "        \n",
    "        # for i in range(20):\n",
    "        # #     # batch_size = int(32 * 2.0 ** i)\n",
    "        # #     # batch_size = 32\n",
    "        #     batch_size = 4096\n",
    "        #     # batch_size = df.shape[0]\n",
    "        #     # self._model._random_state = i\n",
    "        #     self._model.partial_fit(X, y, sample_weight=sw, batch_size=batch_size)\n",
    "        # #     # self._model.partial_fit(X, y, batch_size=batch_size)\n",
    "        # #     if es.stopped_epoch > 0:\n",
    "        #         # break\n",
    "        \n",
    "        # self._model.fit(X, y, sample_weight=sw)\n",
    "        \n",
    "        for i in range(0):\n",
    "            # es.patience = 400\n",
    "            # es.restore_best_weights = True\n",
    "            # es.monitor = 'loss'\n",
    "            \n",
    "            self._model.fit(X, y, model__sample_weight=sw, model__epochs=4)\n",
    "\n",
    "            weights = keras_model.model_.get_weights()\n",
    "            for i in range(0, len(weights)):\n",
    "            # for i in range(len(weights) // 2, len(weights)):\n",
    "                w = weights[i]\n",
    "                if False:\n",
    "                # if len(w.shape) == 1:\n",
    "                    w[:] = 0.0\n",
    "                else:\n",
    "                    # flatten shuffle\n",
    "                    w = np.random.permutation(w.flatten()).reshape(w.shape)\n",
    "                    # axis 0 shuffle\n",
    "                    # w = np.random.permutation(w)\n",
    "                    # axis 1 shuffle \n",
    "                    # maybe overfit\n",
    "                    # if len(w.shape) == 2:\n",
    "                    #     w = np.random.permutation(w.T).T\n",
    "                    # else:\n",
    "                    #     w = np.random.permutation(w)\n",
    "                weights[i] = w\n",
    "\n",
    "            keras_model.model_.set_weights(weights)\n",
    "        \n",
    "        es.monitor = 'val_loss'\n",
    "        # es.monitor = 'val_cosine_similarity'\n",
    "        # es.patience = 10\n",
    "        # es.restore_best_weights = True\n",
    "        self._model.fit(X, y, model__sample_weight=sw)\n",
    "        \n",
    "        # converter = tf.lite.TFLiteConverter.from_keras_model(self._model.named_steps['model'].model_)\n",
    "        # converter.optimizations = [tf.lite.Optimize.DEFAULT]\n",
    "        # self._model.named_steps['model'].model_ = converter.convert()\n",
    "        \n",
    "        # return self._model.fit(df[features], df['ret_beta'])\n",
    "        # self._model.fit(df[features], np.sign(df['ret_beta']), model__sample_weight=sw)\n",
    "        # return self._model.fit(df[features], df['ret_rank'])\n",
    "        # return self._model.fit(df[features], np.sign(df['ret_rank']), sample_weight=np.abs(df['ret_rank']))\n",
    "        # return self._model.fit(df[features], np.sign(df['ret_rank']), model__sample_weight=np.abs(df['ret_rank']))\n",
    "        \n",
    "        models = self._model.named_steps['model']._models\n",
    "        for i in range(len(models)):\n",
    "            models[i][1] = SimpleKerasPredictor(models[i][1].model_)\n",
    "    \n",
    "    def predict(self, df):\n",
    "        df = self._calc_features(df)\n",
    "        features = get_feature_columns(df)\n",
    "        y_pred = self._model.predict(df[features]).flatten()\n",
    "        \n",
    "        if os.getenv('USE_JOBLIB_MEMORY'):\n",
    "            corrs = df[features].corrwith(pd.Series(y_pred, index=df.index))\n",
    "            plt.plot(corrs.sort_values().values)\n",
    "            # corrs = df[features].rank().corrwith(pd.Series(y_pred, index=df.index).rank())\n",
    "            # plt.plot(corrs.sort_values().values)\n",
    "            plt.show()\n",
    "        \n",
    "        # df['position'] = np.sign(y_pred)\n",
    "        df['position'] = y_pred\n",
    "        # df['position'] -= 0.5\n",
    "        idx_btc = df.index.get_level_values('symbol') == 'BTC'\n",
    "        df.loc[idx_btc, 'position'] = 0\n",
    "        # df['position'] = unbiased_rank(df.groupby('timestamp')['position']) - 0.5\n",
    "        \n",
    "        # df['position_beta'] = df['position'] * df['beta']\n",
    "        # df['position_btc'] = -df.groupby('timestamp')['position_beta'].transform('sum')\n",
    "        # df.loc[idx_btc, 'position'] = df.loc[idx_btc, 'position_btc']\n",
    "        \n",
    "        # df['position'] = df.groupby('symbol')['position'].transform(lambda x: calc_pos(x, 0.4))\n",
    "        \n",
    "        normalize_position(df)\n",
    "        return df['position']\n",
    "    \n",
    "    def _calc_features(self, df):\n",
    "        df = df.copy()\n",
    "        df = calc_features(df)\n",
    "        \n",
    "        # dfs = [df]\n",
    "        # for col in get_feature_columns(df):\n",
    "        #     dfs += [\n",
    "        #         (df[col] ** 2).rename(col + '_sqr'),\n",
    "        #     ]\n",
    "        # df = pd.concat(dfs, axis=1)\n",
    "        \n",
    "        return df\n",
    "\n",
    "class SparseConstraint(tf.keras.constraints.Constraint):\n",
    "    def __init__(self, mask):\n",
    "        self.mask = mask\n",
    "        self.mask_t = tf.convert_to_tensor(mask)\n",
    "\n",
    "    def __call__(self, w):\n",
    "        return w * self.mask_t\n",
    "\n",
    "    def get_config(self):\n",
    "        return {'mask': self.mask}\n",
    "\n",
    "\n",
    "# 1dcnn https://www.keep-current.dev/convolution-networks-on-tabular-data/\n",
    "# tanh, mae: https://github.com/hoseinzadeehsan/CNNpred-Keras\n",
    "def build_keras_model(input_size, idx=0):\n",
    "    inputs = Input(shape=(input_size,))\n",
    "    x = inputs\n",
    "    # x = Dropout(0.5)(x)\n",
    "    \n",
    "    class DistanceL2(tf.keras.regularizers.Regularizer):\n",
    "        def __init__(self, l2=0.01):\n",
    "            self.l2 = tf.keras.backend.cast_to_floatx(l2)\n",
    "            self.initial_x = None\n",
    "            \n",
    "        def __call__(self, x):\n",
    "            initial_x = self.initial_x.flatten()\n",
    "            diff = tf.reshape(x, (-1,)) - initial_x\n",
    "            # d = tf.math.reduce_sum(diff * initial_x)\n",
    "            # n = np.sum(initial_x ** 2)\n",
    "            # diff = diff - initial_x * d / n\n",
    "            return 2.0 * self.l2 * tf.nn.l2_loss(diff)\n",
    "\n",
    "        def get_config(self):\n",
    "            return {\"l2\": float(self.l2)}\n",
    "        \n",
    "    # l2_dist = 1e-5\n",
    "    # l2_dist = 1e-4\n",
    "    # l2_dist = 1e-3\n",
    "    l2_dist = 0.0\n",
    "    \n",
    "    reg_l1 = regularizers.l1(1e-3)\n",
    "    \n",
    "    reg = None\n",
    "    # reg = regularizers.l1(1e-5)\n",
    "    # reg = regularizers.l2(1e-1)\n",
    "    # reg = regularizers.l2(1e-2)\n",
    "    # reg = regularizers.l2(1e-3)\n",
    "    # reg = regularizers.l2(4e-3)\n",
    "    # reg = regularizers.l2(1e-4)\n",
    "    # reg = regularizers.l2(1e-7)\n",
    "    # reg = regularizers.L1L2(\n",
    "    #     l1=1e-5, \n",
    "    #     l2=1e-5,\n",
    "    # )\n",
    "    \n",
    "    # act = 'relu'\n",
    "    # act = 'tanh'\n",
    "    act = 'elu' # good for cnn?\n",
    "    # act = tf.keras.activations.swish\n",
    "    # act = tf.keras.layers.LeakyReLU(alpha=0.1)\n",
    "    # act = tf.keras.layers.PReLU()\n",
    "    # act = tfa.activations.mish\n",
    "    # act = 'gelu' # good?\n",
    "    # act = 'softplus'\n",
    "    \n",
    "    # dropout_rate = 0.96\n",
    "    # dropout_rate = 0.98 # good?\n",
    "    dropout_rate = 0.99\n",
    "    # dropout_rate = 0.995\n",
    "    \n",
    "    # initializer = initializers.Zeros()\n",
    "    # initializer = initializers.HeNormal()\n",
    "    # initializer = initializers.GlorotNormal()\n",
    "    \n",
    "    orth_init = initializers.Orthogonal(gain=1.0, seed=None) # bad\n",
    "    \n",
    "    # initializer = 'glorot_uniform'\n",
    "    # initializer = 'glorot_normal'\n",
    "    initializer = 'he_normal'\n",
    "    # initializer = 'he_uniform'\n",
    "    # initializer = orth_init\n",
    "    bias_initializer = 'zeros'\n",
    "    # bias_initializer = 'he_normal'\n",
    "    \n",
    "#     def initializer(shape, dtype=None):\n",
    "#         p = 0.1\n",
    "#         dropout_scale = 1.0 / (0.5 / p + 0.5 * p) ** 0.5 # https://arxiv.org/pdf/1607.02488.pdf\n",
    "#         # return initializers.GlorotUniform()(shape, dtype=dtype) * 0.1 ** 0.5\n",
    "#         # return initializers.GlorotNormal()(shape, dtype=dtype) * dropout_scale\n",
    "#         w = initializers.HeNormal()(shape, dtype=dtype)\n",
    "#         # w = initializers.Orthogonal(gain=1.0, seed=None)(shape, dtype=dtype)\n",
    "#         # w = w ** 3 # 3 is good\n",
    "#         w /= tf.reduce_mean(w ** 2) ** 0.5\n",
    "#         print(shape)\n",
    "#         n_in, n_out = shape\n",
    "#         # w /= n_in ** 0.5\n",
    "#         # w /= n_out ** 0.5 # good\n",
    "        \n",
    "#         # https://arxiv.org/pdf/1902.06853.pdf\n",
    "#         w /= n_in ** 0.5\n",
    "#         # w *= 1.3\n",
    "#         # w *= 0.9\n",
    "#         return w\n",
    "    \n",
    "#     def bias_initializer(shape, dtype=None):\n",
    "#         w = initializers.HeNormal()(shape, dtype=dtype)\n",
    "#         w /= tf.reduce_mean(w ** 2) ** 0.5\n",
    "#         return w\n",
    "    \n",
    "    size = 8\n",
    "    # size = 12\n",
    "    # kernel_size = 5\n",
    "    kernel_size = int(size * 3 / 4)\n",
    "    # kernel_size = int(size / 2)\n",
    "    # kernel_size = size\n",
    "    \n",
    "    size = 32\n",
    "    # size = 64\n",
    "    # size = 128\n",
    "    # size = 512\n",
    "    # size = 1024\n",
    "    \n",
    "    dist_regs = []\n",
    "    dist_reg_layers = []\n",
    "    mars_constraints = []\n",
    "    \n",
    "    hidden_outputs = [x]\n",
    "    \n",
    "    def conv1d_mean_zero(x):\n",
    "        return x - tf.math.reduce_mean(x, axis=-1, keepdims=True)\n",
    "    \n",
    "    # x = Reshape((23, 2))(x)\n",
    "    # x = Reshape((11, 4))(x)\n",
    "    # x = Reshape((95, 2))(x)\n",
    "    x = Reshape((11, 2))(x)\n",
    "    # x = Reshape((11, 3))(x)\n",
    "    # def f1(x):\n",
    "    #     x = tf.math.cumsum(x, axis=-2)\n",
    "    #     # x -= tf.math.reduce_mean(x, axis=-2, keepdims=True)\n",
    "    #     return x\n",
    "    # x = Lambda(f1)(x)\n",
    "    # x = Dropout(0.5)(x)\n",
    "    x = Conv1D(\n",
    "        filters=32, \n",
    "        kernel_size=5,\n",
    "        # kernel_size=10,\n",
    "        # kernel_size=5 * 8,\n",
    "        activation=act, use_bias=True, \n",
    "        # padding='SAME',\n",
    "        padding='VALID',\n",
    "        kernel_regularizer=reg, \n",
    "        bias_regularizer=reg,\n",
    "        kernel_initializer=initializer, \n",
    "        # bias_initializer=initializer,\n",
    "        # kernel_constraint=conv1d_mean_zero, # good?\n",
    "    )(x)\n",
    "    # x = MaxPooling1D(2)(x)\n",
    "    # x = Dropout(0.5)(x)\n",
    "    x = Conv1D(\n",
    "        filters=32,\n",
    "        kernel_size=5,\n",
    "        # kernel_size=10,\n",
    "        # kernel_size=5 * 8,\n",
    "        activation=act, use_bias=True, \n",
    "        # padding='SAME',\n",
    "        padding='VALID',\n",
    "        kernel_regularizer=reg, \n",
    "        bias_regularizer=reg,\n",
    "        kernel_initializer=initializer, \n",
    "        # bias_initializer=initializer,\n",
    "        # kernel_constraint=conv1d_mean_zero,\n",
    "    )(x)\n",
    "    # x = Dropout(0.5)(x)\n",
    "    # x = Conv1D(\n",
    "    #     filters=32, \n",
    "    #     kernel_size=4,\n",
    "    #     activation=act, use_bias=True, \n",
    "    #     # padding='SAME',\n",
    "    #     padding='VALID',\n",
    "    #     kernel_regularizer=reg, \n",
    "    #     bias_regularizer=reg,\n",
    "    #     kernel_initializer=initializer, \n",
    "    #     # bias_initializer=initializer,\n",
    "    # )(x)\n",
    "    # x = Dropout(0.5)(x)\n",
    "    x = MaxPooling1D(2)(x) # good?\n",
    "    # x = AveragePooling1D(2)(x)\n",
    "    # x = AveragePooling1D(2)(x)\n",
    "    # x = AveragePooling1D(2)(x)\n",
    "    # x = GlobalMaxPooling1D()(x)\n",
    "    # x = GlobalAveragePooling1D()(x)\n",
    "    x = Flatten()(x)\n",
    "    \n",
    "#     depth = 2 + idx * 0\n",
    "#     for i in range(depth):\n",
    "#         t = 1.0 * i / (depth - 1)\n",
    "#         x_prev = x\n",
    "        \n",
    "#         dist_reg = DistanceL2(l2_dist)\n",
    "#         dist_regs.append(dist_reg)\n",
    "#         mars_constraint = MarsConstraint(8)\n",
    "#         mars_constraints.append(mars_constraint)\n",
    "#         # dense = GaussianDropConnectDense(\n",
    "#         dense = Dense(\n",
    "#             # size,\n",
    "#             # 32,\n",
    "#             # 64,\n",
    "#             128, # good with l2 reg\n",
    "#             # 256,\n",
    "#             # int(np.exp(np.log(64) * (1 - t) + np.log(64) * t)),\n",
    "#             # 64 if i == 0 else 128,\n",
    "#             activation=act, \n",
    "#             # activation=None,\n",
    "#             use_bias=True,\n",
    "#             # use_bias=False,\n",
    "#             # kernel_regularizer=reg_l1, \n",
    "#             kernel_regularizer=reg,\n",
    "#             # kernel_regularizer=dist_reg,\n",
    "#             # kernel_regularizer=reg2,\n",
    "#             bias_regularizer=reg,\n",
    "#             # kernel_initializer='zeros' if i > 0 else initializer,\n",
    "#             kernel_initializer=initializer, \n",
    "#             bias_initializer=bias_initializer,\n",
    "#             # kernel_constraint=mars_constraint,\n",
    "#             # kernel_constraint=SparseConstraint(np.random.binomial(1, 1.0 / 64, size=(input_size, size))) # bad\n",
    "#         )\n",
    "#         dist_reg_layers.append(dense)\n",
    "#         # dense = GaussianDropConnect(dense, rate=0.2)\n",
    "#         x = dense(x)\n",
    "#         # x = BatchNormalization()(x)\n",
    "#         # def smooth_units(x):\n",
    "#         #     return (x[:, 1:] + x[:, :-1]) / 2\n",
    "#         #     # return (x[:, 3:] + x[:, 2:-1] + x[:, 1:-2] + x[:, :-3]) / 4\n",
    "#         # x = Lambda(smooth_units)(x)\n",
    "#         # x = Activation(act)(x)\n",
    "#         # x = Lambda(smooth_units)(x)\n",
    "#         # if i > 0:\n",
    "#         #     x = Add()([x, x_prev])\n",
    "#         # if i == 9:\n",
    "#         #     x = tf.keras.layers.GaussianDropout(0.5)(x)\n",
    "#         # x = tf.keras.layers.GaussianDropout(dropout_rate)(x)\n",
    "#         # x = Dropout(dropout_rate)(x)\n",
    "#         # x = Dropout(0.1)(x)\n",
    "#         # x = tf.keras.layers.GaussianDropout(0.1)(x)\n",
    "        \n",
    "#         hidden_outputs.append(x)\n",
    "\n",
    "        \n",
    "    # x = Concatenate()(hidden_outputs)\n",
    "    \n",
    "    # x = Reshape((-1, 1))(x)\n",
    "    # x = AveragePooling1D(2)(x)\n",
    "    # x = Flatten()(x)\n",
    "    # x = Dropout(dropout_rate)(x)\n",
    "    # x = tf.keras.layers.GaussianDropout(dropout_rate)(x)\n",
    "    # x = tf.keras.layers.GaussianDropout(0.995)(x)\n",
    "    # x = tf.keras.layers.GaussianDropout(0.9)(x)\n",
    "    # x = tf.keras.layers.GaussianDropout(1.0 - 0.01 / 2 ** 0.5)(x)\n",
    "    # x = tf.keras.layers.GaussianNoise(100)(x) # bad\n",
    "\n",
    "    dist_reg = DistanceL2(l2_dist)\n",
    "    dist_regs.append(dist_reg)\n",
    "    # d3 = tfa.layers.NoisyDense(\n",
    "    # d3 = GaussianDropConnectDense(\n",
    "    d3 = Dense(\n",
    "        1,\n",
    "        # activation='linear',\n",
    "        # activation='tanh', # good\n",
    "        # activation='sigmoid',\n",
    "        # use_factorised=False,\n",
    "        use_bias=True, \n",
    "        # use_bias=False, \n",
    "        kernel_regularizer=reg, \n",
    "        # kernel_regularizer=dist_reg,\n",
    "        # kernel_regularizer=reg3, \n",
    "        bias_regularizer=reg,\n",
    "        kernel_initializer=initializer,\n",
    "        # kernel_initializer='glorot_uniform',\n",
    "        # kernel_initializer='zeros',\n",
    "        # bias_initializer=initializer,\n",
    "    )\n",
    "    dist_reg_layers.append(d3)\n",
    "    # d3 = GaussianDropConnect(d3, rate=0.2)\n",
    "    x = d3(x)\n",
    "    # x = Rescaling(0.1)(x)\n",
    "    x = Rescaling(0.01)(x)\n",
    "    # x = Rescaling(1 - dropout_rate)(x) # good?\n",
    "    # x = Rescaling(0.04)(x)\n",
    "    def scale_output_train(x):\n",
    "        return x * 2.0\n",
    "    x = LambdaTrain(scale_output_train)(x)\n",
    "    x = Activation('tanh')(x) # good\n",
    "    \n",
    "    model = Model(inputs=inputs, outputs=x)\n",
    "    \n",
    "    def make_gc_opt(klass):\n",
    "        class GCOpt(klass):\n",
    "            def get_gradients(self, loss, params):\n",
    "                grads = []\n",
    "                gradients = super().get_gradients()\n",
    "                for grad in gradients:\n",
    "                    grad_len = len(grad.shape)\n",
    "                    if grad_len > 1:\n",
    "                        axis = list(range(grad_len - 1))\n",
    "                        grad -= tf.reduce_mean(grad, axis=axis, keep_dims=True)\n",
    "                    grads.append(grad)\n",
    "                return grads\n",
    "        return GCOpt\n",
    "    \n",
    "    # def _get_gradients(self, tape, loss, var_list, grad_loss=None):\n",
    "    #     \"\"\"Called in `minimize` to compute gradients from loss.\"\"\"\n",
    "    #     grads = tape.gradient(loss, var_list, grad_loss)\n",
    "    #     return list(zip(grads, var_list))\n",
    "    \n",
    "    def make_gaussian_drop_connect_opt(klass):\n",
    "        class GaussianDropConnectOpt(klass):\n",
    "            def _get_gradients(self, tape, loss, var_list, grad_loss=None):\n",
    "                print('BBB')\n",
    "                # print(var_list)\n",
    "                # drop_connect_rate = 0.9\n",
    "                # sigma = np.sqrt(drop_connect_rate / (1.0 - drop_connect_rate))\n",
    "                # orig_var_list = []\n",
    "                # for w in var_list:\n",
    "                #     orig_var_list.append(w)\n",
    "                #     w.assign(w * tf.keras.backend.random_normal(\n",
    "                #         shape=tf.shape(w),\n",
    "                #         mean=1.0,\n",
    "                #         stddev=sigma,\n",
    "                #         dtype=w.dtype,\n",
    "                #         seed=None\n",
    "                #     ))\n",
    "                #     # w2 = tf.identity(w2, name=w.name)\n",
    "                #     # w2 = tf.Variable(w2, name=w.name)\n",
    "                #     # print(w2)\n",
    "                #     # var_list2.append(w2)\n",
    "                grads = tape.gradient(loss, var_list, grad_loss)\n",
    "                # print(grads)\n",
    "                return list(zip(grads, var_list))\n",
    "            \n",
    "            def get_gradients(self, loss, params):\n",
    "                print('AAA')\n",
    "                grads = []\n",
    "                params2 = []\n",
    "                drop_connect_rate = 0.9\n",
    "                sigma = np.sqrt(drop_connect_rate / (1.0 - drop_connect_rate))\n",
    "                for p in params:\n",
    "                    p = p * tf.keras.backend.random_normal(\n",
    "                        shape=tf.shape(p),\n",
    "                        mean=1.0,\n",
    "                        stddev=sigma,\n",
    "                        dtype=p.dtype,\n",
    "                        seed=None\n",
    "                    )\n",
    "                    params2.append(p)\n",
    "                    \n",
    "                return super().get_gradients(loss, params2)\n",
    "        return GaussianDropConnectOpt\n",
    "        \n",
    "    class AdamWNoise(tfa.optimizers.AdamW):\n",
    "        def get_gradients(self, loss, params):\n",
    "            grads = []\n",
    "            gradients = super().get_gradients()\n",
    "            for grad in gradients:\n",
    "                grad += tf.random_normal(\n",
    "                    shape=grad.get_shape(), \n",
    "                    mean=0.0, \n",
    "                    stddev=1e-3\n",
    "                )\n",
    "                grads.append(grad)\n",
    "            return grads\n",
    "    \n",
    "    # opt = tfa.optimizers.SGDW(\n",
    "        # weight_decay=1e-4,\n",
    "    # opt = SGD(\n",
    "    #     learning_rate=0.01 / 8,\n",
    "    #     # learning_rate=0.1,\n",
    "    #     # learning_rate=0.1 / 8,\n",
    "    #     # learning_rate=1,\n",
    "    #     momentum=1.0 - 0.1 / 8, \n",
    "    #     # nesterov=True,\n",
    "    # )\n",
    "    \n",
    "    # opt = GCNadam(\n",
    "    opt = Nadam(\n",
    "        # learning_rate=0.002 * 1e-1,\n",
    "        learning_rate=0.002,\n",
    "        beta_1=0.9, \n",
    "        # beta_1=0.5,\n",
    "        # beta_2=0.9,\n",
    "        beta_2=0.999,\n",
    "        epsilon=None,\n",
    "        # epsilon=1e-1,\n",
    "        # epsilon=1e-3,\n",
    "        schedule_decay=0.004,\n",
    "    )\n",
    "    # opt = tfa.optimizers.AdaBelief(\n",
    "    #     # learning_rate=0.001,\n",
    "    #     learning_rate=0.001 / 8,\n",
    "    #     # learning_rate=0.001 / 8 / 8,\n",
    "    #     # learning_rate=0.001 / 8 / 8 / 8,\n",
    "    #     # total_steps=1200,\n",
    "    #     # warmup_proportion=0.1,\n",
    "    #     # min_lr=1e-5,\n",
    "    #     # rectify=True,\n",
    "    #     # weight_decay=1e-2,\n",
    "    #     # weight_decay=1e-3,\n",
    "    #     # epsilon=1e-10,\n",
    "    # )\n",
    "    # opt = tfa.optimizers.Lookahead(opt)\n",
    "    # opt = Adam(\n",
    "    #     learning_rate=0.001,\n",
    "    #     beta_1=0.9, \n",
    "    #     beta_2=0.999, \n",
    "    #     epsilon=None, \n",
    "    #     decay=0.0,\n",
    "    #     # amsgrad=True\n",
    "    # )\n",
    "    # opt = AdamWNoise(\n",
    "    # opt = tfa.optimizers.AdamW(\n",
    "    # # # opt = make_gaussian_drop_connect_opt(tfa.optimizers.AdamW)(\n",
    "    #     learning_rate=0.002,\n",
    "    #     # learning_rate=0.002 * 1e-1,\n",
    "    #     # learning_rate=0.001 * 1e-1,\n",
    "    #     # learning_rate=0.002 * 1e-2,\n",
    "    #     # weight_decay=1e-2,\n",
    "    #     weight_decay=1e-3,\n",
    "    #     # weight_decay=1e-4,\n",
    "    #     # weight_decay=1e-5,\n",
    "    #     # weight_decay=1e-7,\n",
    "    #     # beta_1=0.1,\n",
    "    # )\n",
    "    \n",
    "    def my_loss_fn(y_true, y_pred):\n",
    "        # return tf.reduce_mean(tf.square(tf.sign(y_true) - y_pred) * tf.abs(y_true))\n",
    "        # return -tf.reduce_mean(y_pred * y_true) / (1e-37 + tf.reduce_mean(y_pred ** 2) ** 0.5) # good\n",
    "        # return -tf.reduce_mean(y_pred * y_true) / (1e-37 + tf.reduce_mean(tf.abs(y_pred))) # bad\n",
    "        # ret = tf.reduce_sum(y_pred * y_true, axis=-1)\n",
    "        # ret /= 1e-37 + tf.reduce_sum(tf.abs(y_pred), axis=-1)\n",
    "        # return tf.reduce_mean(-ret + ret ** 2)\n",
    "        \n",
    "        ret = y_pred * y_true\n",
    "        sharpe = tf.reduce_mean(ret) / (tf.reduce_mean(ret ** 2) ** 0.5)\n",
    "        return -sharpe\n",
    "        # return -sharpe + sharpe ** 2\n",
    "        \n",
    "        # p = (y_pred * 0.999 + 1) / 2\n",
    "        # one_true_p = tf.where(y_true == 1, 0.8, 0.0)\n",
    "        # zero_true_p = 1.0 - one_true_p\n",
    "        # return -one_true_p * tf.math.log(p) - zero_true_p * tf.math.log(1 - p)\n",
    "        # return (y_true - y_pred) ** 2\n",
    "    \n",
    "    model.compile(\n",
    "        optimizer=opt,\n",
    "        loss='mse', # good for sign ret\n",
    "        # loss='logcosh', # good for raw ret\n",
    "        # loss='mae', # good for raw ret\n",
    "        # loss=my_loss_fn,\n",
    "        # loss='binary_crossentropy',\n",
    "        # loss='hinge',\n",
    "        # loss='squared_hinge',\n",
    "        # loss='cosine_similarity',\n",
    "        metrics=[\n",
    "            'mse',\n",
    "            # 'accuracy',\n",
    "        ],\n",
    "        weighted_metrics=[\n",
    "            'mse',\n",
    "            'cosine_similarity',\n",
    "            # 'logcosh',\n",
    "            # tfa.metrics.RSquare(),\n",
    "        ]\n",
    "    )\n",
    "    \n",
    "    for i, dist_reg in enumerate(dist_regs):\n",
    "        dist_reg.initial_x = dist_reg_layers[i].get_weights()[0]\n",
    "    for i, mars_constraint in enumerate(mars_constraints):\n",
    "        mars_constraint.initial_weight = dist_reg_layers[i].get_weights()[0]\n",
    "    \n",
    "    # reg_cnn1.initial_x = cnn1.get_weights()[0]\n",
    "    # reg_cnn2.initial_x = cnn2.get_weights()[0]\n",
    "    # reg_cnn3.initial_x = cnn3.get_weights()[0]\n",
    "    # reg1.initial_x = d1.get_weights()[0]\n",
    "    # reg2.initial_x = d2.get_weights()[0]\n",
    "    # reg3.initial_x = d3.get_weights()[0]\n",
    "    \n",
    "    return model"
   ]
  },
  {
   "cell_type": "code",
   "execution_count": 11,
   "id": "1548a492-8fae-412c-bd3f-d9a0cb7b9985",
   "metadata": {
    "execution": {
     "iopub.execute_input": "2022-11-09T13:37:03.049865Z",
     "iopub.status.busy": "2022-11-09T13:37:03.049464Z",
     "iopub.status.idle": "2022-11-09T15:20:58.986454Z",
     "shell.execute_reply": "2022-11-09T15:20:58.985092Z"
    }
   },
   "outputs": [
    {
     "name": "stdout",
     "output_type": "stream",
     "text": [
      "float32\n",
      "fit df.shape (201190, 39)\n"
     ]
    },
    {
     "name": "stderr",
     "output_type": "stream",
     "text": [
      "2022-11-09 13:37:21.260790: W tensorflow/stream_executor/platform/default/dso_loader.cc:64] Could not load dynamic library 'libcuda.so.1'; dlerror: libcuda.so.1: cannot open shared object file: No such file or directory\n",
      "2022-11-09 13:37:21.260852: W tensorflow/stream_executor/cuda/cuda_driver.cc:263] failed call to cuInit: UNKNOWN ERROR (303)\n",
      "2022-11-09 13:37:21.260885: I tensorflow/stream_executor/cuda/cuda_diagnostics.cc:156] kernel driver does not appear to be running on this host (ec65dac88a5e): /proc/driver/nvidia/version does not exist\n",
      "2022-11-09 13:37:21.261274: I tensorflow/core/platform/cpu_feature_guard.cc:193] This TensorFlow binary is optimized with oneAPI Deep Neural Network Library (oneDNN) to use the following CPU instructions in performance-critical operations:  AVX2 FMA\n",
      "To enable them in other operations, rebuild TensorFlow with the appropriate compiler flags.\n",
      "WARNING:absl:Found untraced functions such as _jit_compiled_convolution_op, _jit_compiled_convolution_op while saving (showing 2 of 2). These functions will not be directly callable after loading.\n"
     ]
    },
    {
     "name": "stdout",
     "output_type": "stream",
     "text": [
      "INFO:tensorflow:Assets written to: /tmp/tmp0841tz05/assets\n"
     ]
    },
    {
     "name": "stderr",
     "output_type": "stream",
     "text": [
      "INFO:tensorflow:Assets written to: /tmp/tmp0841tz05/assets\n",
      "2022-11-09 13:42:42.176367: W tensorflow/compiler/mlir/lite/python/tf_tfl_flatbuffer_helpers.cc:362] Ignored output_format.\n",
      "2022-11-09 13:42:42.176470: W tensorflow/compiler/mlir/lite/python/tf_tfl_flatbuffer_helpers.cc:365] Ignored drop_control_dependency.\n",
      "2022-11-09 13:42:42.177545: I tensorflow/cc/saved_model/reader.cc:45] Reading SavedModel from: /tmp/tmp0841tz05\n",
      "2022-11-09 13:42:42.180255: I tensorflow/cc/saved_model/reader.cc:89] Reading meta graph with tags { serve }\n",
      "2022-11-09 13:42:42.180314: I tensorflow/cc/saved_model/reader.cc:130] Reading SavedModel debug info (if present) from: /tmp/tmp0841tz05\n",
      "2022-11-09 13:42:42.203451: I tensorflow/compiler/mlir/mlir_graph_optimization_pass.cc:354] MLIR V1 optimization pass is not enabled\n",
      "2022-11-09 13:42:42.205720: I tensorflow/cc/saved_model/loader.cc:229] Restoring SavedModel bundle.\n",
      "2022-11-09 13:42:42.276532: I tensorflow/cc/saved_model/loader.cc:213] Running initialization op on SavedModel bundle at path: /tmp/tmp0841tz05\n",
      "2022-11-09 13:42:42.296286: I tensorflow/cc/saved_model/loader.cc:305] SavedModel load for tags { serve }; Status: success: OK. Took 118728 microseconds.\n",
      "2022-11-09 13:42:42.338398: I tensorflow/compiler/mlir/tensorflow/utils/dump_mlir_util.cc:268] disabling MLIR crash reproducer, set env var `MLIR_CRASH_REPRODUCER_DIRECTORY` to enable.\n",
      "WARNING:absl:Found untraced functions such as _jit_compiled_convolution_op, _jit_compiled_convolution_op while saving (showing 2 of 2). These functions will not be directly callable after loading.\n"
     ]
    },
    {
     "name": "stdout",
     "output_type": "stream",
     "text": [
      "INFO:tensorflow:Assets written to: /tmp/tmpd9f23zpy/assets\n"
     ]
    },
    {
     "name": "stderr",
     "output_type": "stream",
     "text": [
      "INFO:tensorflow:Assets written to: /tmp/tmpd9f23zpy/assets\n",
      "2022-11-09 13:42:44.300353: W tensorflow/compiler/mlir/lite/python/tf_tfl_flatbuffer_helpers.cc:362] Ignored output_format.\n",
      "2022-11-09 13:42:44.300453: W tensorflow/compiler/mlir/lite/python/tf_tfl_flatbuffer_helpers.cc:365] Ignored drop_control_dependency.\n",
      "2022-11-09 13:42:44.300678: I tensorflow/cc/saved_model/reader.cc:45] Reading SavedModel from: /tmp/tmpd9f23zpy\n",
      "2022-11-09 13:42:44.303616: I tensorflow/cc/saved_model/reader.cc:89] Reading meta graph with tags { serve }\n",
      "2022-11-09 13:42:44.303673: I tensorflow/cc/saved_model/reader.cc:130] Reading SavedModel debug info (if present) from: /tmp/tmpd9f23zpy\n",
      "2022-11-09 13:42:44.316872: I tensorflow/cc/saved_model/loader.cc:229] Restoring SavedModel bundle.\n",
      "2022-11-09 13:42:44.383970: I tensorflow/cc/saved_model/loader.cc:213] Running initialization op on SavedModel bundle at path: /tmp/tmpd9f23zpy\n",
      "2022-11-09 13:42:44.401525: I tensorflow/cc/saved_model/loader.cc:305] SavedModel load for tags { serve }; Status: success: OK. Took 100846 microseconds.\n",
      "WARNING:absl:Found untraced functions such as _jit_compiled_convolution_op, _jit_compiled_convolution_op while saving (showing 2 of 2). These functions will not be directly callable after loading.\n"
     ]
    },
    {
     "name": "stdout",
     "output_type": "stream",
     "text": [
      "INFO:tensorflow:Assets written to: /tmp/tmp5kz0c2zg/assets\n"
     ]
    },
    {
     "name": "stderr",
     "output_type": "stream",
     "text": [
      "INFO:tensorflow:Assets written to: /tmp/tmp5kz0c2zg/assets\n",
      "2022-11-09 13:42:47.332499: W tensorflow/compiler/mlir/lite/python/tf_tfl_flatbuffer_helpers.cc:362] Ignored output_format.\n",
      "2022-11-09 13:42:47.332596: W tensorflow/compiler/mlir/lite/python/tf_tfl_flatbuffer_helpers.cc:365] Ignored drop_control_dependency.\n",
      "2022-11-09 13:42:47.332837: I tensorflow/cc/saved_model/reader.cc:45] Reading SavedModel from: /tmp/tmp5kz0c2zg\n",
      "2022-11-09 13:42:47.338802: I tensorflow/cc/saved_model/reader.cc:89] Reading meta graph with tags { serve }\n",
      "2022-11-09 13:42:47.338875: I tensorflow/cc/saved_model/reader.cc:130] Reading SavedModel debug info (if present) from: /tmp/tmp5kz0c2zg\n",
      "2022-11-09 13:42:47.360946: I tensorflow/cc/saved_model/loader.cc:229] Restoring SavedModel bundle.\n",
      "2022-11-09 13:42:47.454935: I tensorflow/cc/saved_model/loader.cc:213] Running initialization op on SavedModel bundle at path: /tmp/tmp5kz0c2zg\n",
      "2022-11-09 13:42:47.486826: I tensorflow/cc/saved_model/loader.cc:305] SavedModel load for tags { serve }; Status: success: OK. Took 153991 microseconds.\n",
      "WARNING:absl:Found untraced functions such as _jit_compiled_convolution_op, _jit_compiled_convolution_op while saving (showing 2 of 2). These functions will not be directly callable after loading.\n"
     ]
    },
    {
     "name": "stdout",
     "output_type": "stream",
     "text": [
      "INFO:tensorflow:Assets written to: /tmp/tmpo_s8b6y6/assets\n"
     ]
    },
    {
     "name": "stderr",
     "output_type": "stream",
     "text": [
      "INFO:tensorflow:Assets written to: /tmp/tmpo_s8b6y6/assets\n",
      "2022-11-09 13:42:49.564139: W tensorflow/compiler/mlir/lite/python/tf_tfl_flatbuffer_helpers.cc:362] Ignored output_format.\n",
      "2022-11-09 13:42:49.564245: W tensorflow/compiler/mlir/lite/python/tf_tfl_flatbuffer_helpers.cc:365] Ignored drop_control_dependency.\n",
      "2022-11-09 13:42:49.564470: I tensorflow/cc/saved_model/reader.cc:45] Reading SavedModel from: /tmp/tmpo_s8b6y6\n",
      "2022-11-09 13:42:49.567236: I tensorflow/cc/saved_model/reader.cc:89] Reading meta graph with tags { serve }\n",
      "2022-11-09 13:42:49.567305: I tensorflow/cc/saved_model/reader.cc:130] Reading SavedModel debug info (if present) from: /tmp/tmpo_s8b6y6\n",
      "2022-11-09 13:42:49.576076: I tensorflow/cc/saved_model/loader.cc:229] Restoring SavedModel bundle.\n",
      "2022-11-09 13:42:49.649249: I tensorflow/cc/saved_model/loader.cc:213] Running initialization op on SavedModel bundle at path: /tmp/tmpo_s8b6y6\n",
      "2022-11-09 13:42:49.669535: I tensorflow/cc/saved_model/loader.cc:305] SavedModel load for tags { serve }; Status: success: OK. Took 105064 microseconds.\n",
      "WARNING:absl:Found untraced functions such as _jit_compiled_convolution_op, _jit_compiled_convolution_op while saving (showing 2 of 2). These functions will not be directly callable after loading.\n"
     ]
    },
    {
     "name": "stdout",
     "output_type": "stream",
     "text": [
      "INFO:tensorflow:Assets written to: /tmp/tmp2h4m5akm/assets\n"
     ]
    },
    {
     "name": "stderr",
     "output_type": "stream",
     "text": [
      "INFO:tensorflow:Assets written to: /tmp/tmp2h4m5akm/assets\n",
      "2022-11-09 13:42:51.630250: W tensorflow/compiler/mlir/lite/python/tf_tfl_flatbuffer_helpers.cc:362] Ignored output_format.\n",
      "2022-11-09 13:42:51.630339: W tensorflow/compiler/mlir/lite/python/tf_tfl_flatbuffer_helpers.cc:365] Ignored drop_control_dependency.\n",
      "2022-11-09 13:42:51.630575: I tensorflow/cc/saved_model/reader.cc:45] Reading SavedModel from: /tmp/tmp2h4m5akm\n",
      "2022-11-09 13:42:51.632849: I tensorflow/cc/saved_model/reader.cc:89] Reading meta graph with tags { serve }\n",
      "2022-11-09 13:42:51.632891: I tensorflow/cc/saved_model/reader.cc:130] Reading SavedModel debug info (if present) from: /tmp/tmp2h4m5akm\n",
      "2022-11-09 13:42:51.640407: I tensorflow/cc/saved_model/loader.cc:229] Restoring SavedModel bundle.\n",
      "2022-11-09 13:42:51.708628: I tensorflow/cc/saved_model/loader.cc:213] Running initialization op on SavedModel bundle at path: /tmp/tmp2h4m5akm\n",
      "2022-11-09 13:42:51.728153: I tensorflow/cc/saved_model/loader.cc:305] SavedModel load for tags { serve }; Status: success: OK. Took 97577 microseconds.\n",
      "WARNING:absl:Found untraced functions such as _jit_compiled_convolution_op, _jit_compiled_convolution_op while saving (showing 2 of 2). These functions will not be directly callable after loading.\n"
     ]
    },
    {
     "name": "stdout",
     "output_type": "stream",
     "text": [
      "INFO:tensorflow:Assets written to: /tmp/tmp6w7h6p4l/assets\n"
     ]
    },
    {
     "name": "stderr",
     "output_type": "stream",
     "text": [
      "INFO:tensorflow:Assets written to: /tmp/tmp6w7h6p4l/assets\n",
      "2022-11-09 13:42:53.696739: W tensorflow/compiler/mlir/lite/python/tf_tfl_flatbuffer_helpers.cc:362] Ignored output_format.\n",
      "2022-11-09 13:42:53.696838: W tensorflow/compiler/mlir/lite/python/tf_tfl_flatbuffer_helpers.cc:365] Ignored drop_control_dependency.\n",
      "2022-11-09 13:42:53.697067: I tensorflow/cc/saved_model/reader.cc:45] Reading SavedModel from: /tmp/tmp6w7h6p4l\n",
      "2022-11-09 13:42:53.699331: I tensorflow/cc/saved_model/reader.cc:89] Reading meta graph with tags { serve }\n",
      "2022-11-09 13:42:53.699379: I tensorflow/cc/saved_model/reader.cc:130] Reading SavedModel debug info (if present) from: /tmp/tmp6w7h6p4l\n",
      "2022-11-09 13:42:53.706797: I tensorflow/cc/saved_model/loader.cc:229] Restoring SavedModel bundle.\n",
      "2022-11-09 13:42:53.768125: I tensorflow/cc/saved_model/loader.cc:213] Running initialization op on SavedModel bundle at path: /tmp/tmp6w7h6p4l\n",
      "2022-11-09 13:42:53.785567: I tensorflow/cc/saved_model/loader.cc:305] SavedModel load for tags { serve }; Status: success: OK. Took 88500 microseconds.\n",
      "WARNING:absl:Found untraced functions such as _jit_compiled_convolution_op, _jit_compiled_convolution_op while saving (showing 2 of 2). These functions will not be directly callable after loading.\n"
     ]
    },
    {
     "name": "stdout",
     "output_type": "stream",
     "text": [
      "INFO:tensorflow:Assets written to: /tmp/tmpv96auz7b/assets\n"
     ]
    },
    {
     "name": "stderr",
     "output_type": "stream",
     "text": [
      "INFO:tensorflow:Assets written to: /tmp/tmpv96auz7b/assets\n",
      "2022-11-09 13:42:55.652276: W tensorflow/compiler/mlir/lite/python/tf_tfl_flatbuffer_helpers.cc:362] Ignored output_format.\n",
      "2022-11-09 13:42:55.652366: W tensorflow/compiler/mlir/lite/python/tf_tfl_flatbuffer_helpers.cc:365] Ignored drop_control_dependency.\n",
      "2022-11-09 13:42:55.652598: I tensorflow/cc/saved_model/reader.cc:45] Reading SavedModel from: /tmp/tmpv96auz7b\n",
      "2022-11-09 13:42:55.654876: I tensorflow/cc/saved_model/reader.cc:89] Reading meta graph with tags { serve }\n",
      "2022-11-09 13:42:55.654925: I tensorflow/cc/saved_model/reader.cc:130] Reading SavedModel debug info (if present) from: /tmp/tmpv96auz7b\n",
      "2022-11-09 13:42:55.663344: I tensorflow/cc/saved_model/loader.cc:229] Restoring SavedModel bundle.\n",
      "2022-11-09 13:42:55.725364: I tensorflow/cc/saved_model/loader.cc:213] Running initialization op on SavedModel bundle at path: /tmp/tmpv96auz7b\n",
      "2022-11-09 13:42:55.742027: I tensorflow/cc/saved_model/loader.cc:305] SavedModel load for tags { serve }; Status: success: OK. Took 89428 microseconds.\n",
      "WARNING:absl:Found untraced functions such as _jit_compiled_convolution_op, _jit_compiled_convolution_op while saving (showing 2 of 2). These functions will not be directly callable after loading.\n"
     ]
    },
    {
     "name": "stdout",
     "output_type": "stream",
     "text": [
      "INFO:tensorflow:Assets written to: /tmp/tmplu77h3fn/assets\n"
     ]
    },
    {
     "name": "stderr",
     "output_type": "stream",
     "text": [
      "INFO:tensorflow:Assets written to: /tmp/tmplu77h3fn/assets\n",
      "2022-11-09 13:42:57.577519: W tensorflow/compiler/mlir/lite/python/tf_tfl_flatbuffer_helpers.cc:362] Ignored output_format.\n",
      "2022-11-09 13:42:57.577613: W tensorflow/compiler/mlir/lite/python/tf_tfl_flatbuffer_helpers.cc:365] Ignored drop_control_dependency.\n",
      "2022-11-09 13:42:57.577831: I tensorflow/cc/saved_model/reader.cc:45] Reading SavedModel from: /tmp/tmplu77h3fn\n",
      "2022-11-09 13:42:57.580001: I tensorflow/cc/saved_model/reader.cc:89] Reading meta graph with tags { serve }\n",
      "2022-11-09 13:42:57.580051: I tensorflow/cc/saved_model/reader.cc:130] Reading SavedModel debug info (if present) from: /tmp/tmplu77h3fn\n",
      "2022-11-09 13:42:57.587114: I tensorflow/cc/saved_model/loader.cc:229] Restoring SavedModel bundle.\n",
      "2022-11-09 13:42:57.648851: I tensorflow/cc/saved_model/loader.cc:213] Running initialization op on SavedModel bundle at path: /tmp/tmplu77h3fn\n",
      "2022-11-09 13:42:57.665380: I tensorflow/cc/saved_model/loader.cc:305] SavedModel load for tags { serve }; Status: success: OK. Took 87547 microseconds.\n",
      "WARNING:absl:Found untraced functions such as _jit_compiled_convolution_op, _jit_compiled_convolution_op while saving (showing 2 of 2). These functions will not be directly callable after loading.\n"
     ]
    },
    {
     "name": "stdout",
     "output_type": "stream",
     "text": [
      "INFO:tensorflow:Assets written to: /tmp/tmp0f9omsos/assets\n"
     ]
    },
    {
     "name": "stderr",
     "output_type": "stream",
     "text": [
      "INFO:tensorflow:Assets written to: /tmp/tmp0f9omsos/assets\n",
      "2022-11-09 13:42:59.592353: W tensorflow/compiler/mlir/lite/python/tf_tfl_flatbuffer_helpers.cc:362] Ignored output_format.\n",
      "2022-11-09 13:42:59.592450: W tensorflow/compiler/mlir/lite/python/tf_tfl_flatbuffer_helpers.cc:365] Ignored drop_control_dependency.\n",
      "2022-11-09 13:42:59.592682: I tensorflow/cc/saved_model/reader.cc:45] Reading SavedModel from: /tmp/tmp0f9omsos\n",
      "2022-11-09 13:42:59.595108: I tensorflow/cc/saved_model/reader.cc:89] Reading meta graph with tags { serve }\n",
      "2022-11-09 13:42:59.595169: I tensorflow/cc/saved_model/reader.cc:130] Reading SavedModel debug info (if present) from: /tmp/tmp0f9omsos\n",
      "2022-11-09 13:42:59.603414: I tensorflow/cc/saved_model/loader.cc:229] Restoring SavedModel bundle.\n",
      "2022-11-09 13:42:59.667398: I tensorflow/cc/saved_model/loader.cc:213] Running initialization op on SavedModel bundle at path: /tmp/tmp0f9omsos\n",
      "2022-11-09 13:42:59.684153: I tensorflow/cc/saved_model/loader.cc:305] SavedModel load for tags { serve }; Status: success: OK. Took 91470 microseconds.\n",
      "WARNING:absl:Found untraced functions such as _jit_compiled_convolution_op, _jit_compiled_convolution_op while saving (showing 2 of 2). These functions will not be directly callable after loading.\n"
     ]
    },
    {
     "name": "stdout",
     "output_type": "stream",
     "text": [
      "INFO:tensorflow:Assets written to: /tmp/tmpxoovlqx4/assets\n"
     ]
    },
    {
     "name": "stderr",
     "output_type": "stream",
     "text": [
      "INFO:tensorflow:Assets written to: /tmp/tmpxoovlqx4/assets\n",
      "2022-11-09 13:43:01.642485: W tensorflow/compiler/mlir/lite/python/tf_tfl_flatbuffer_helpers.cc:362] Ignored output_format.\n",
      "2022-11-09 13:43:01.642576: W tensorflow/compiler/mlir/lite/python/tf_tfl_flatbuffer_helpers.cc:365] Ignored drop_control_dependency.\n",
      "2022-11-09 13:43:01.642796: I tensorflow/cc/saved_model/reader.cc:45] Reading SavedModel from: /tmp/tmpxoovlqx4\n",
      "2022-11-09 13:43:01.645029: I tensorflow/cc/saved_model/reader.cc:89] Reading meta graph with tags { serve }\n",
      "2022-11-09 13:43:01.645086: I tensorflow/cc/saved_model/reader.cc:130] Reading SavedModel debug info (if present) from: /tmp/tmpxoovlqx4\n",
      "2022-11-09 13:43:01.652863: I tensorflow/cc/saved_model/loader.cc:229] Restoring SavedModel bundle.\n",
      "2022-11-09 13:43:01.715413: I tensorflow/cc/saved_model/loader.cc:213] Running initialization op on SavedModel bundle at path: /tmp/tmpxoovlqx4\n",
      "2022-11-09 13:43:01.732149: I tensorflow/cc/saved_model/loader.cc:305] SavedModel load for tags { serve }; Status: success: OK. Took 89352 microseconds.\n"
     ]
    },
    {
     "data": {
      "image/png": "[encoded data removed]",
      "text/plain": [
       "<Figure size 640x480 with 1 Axes>"
      ]
     },
     "metadata": {},
     "output_type": "display_data"
    },
    {
     "name": "stdout",
     "output_type": "stream",
     "text": [
      "fit df.shape (186931, 39)\n"
     ]
    },
    {
     "name": "stderr",
     "output_type": "stream",
     "text": [
      "WARNING:absl:Found untraced functions such as _jit_compiled_convolution_op, _jit_compiled_convolution_op while saving (showing 2 of 2). These functions will not be directly callable after loading.\n"
     ]
    },
    {
     "name": "stdout",
     "output_type": "stream",
     "text": [
      "INFO:tensorflow:Assets written to: /tmp/tmpkrl4qve8/assets\n"
     ]
    },
    {
     "name": "stderr",
     "output_type": "stream",
     "text": [
      "INFO:tensorflow:Assets written to: /tmp/tmpkrl4qve8/assets\n",
      "2022-11-09 13:50:12.901508: W tensorflow/compiler/mlir/lite/python/tf_tfl_flatbuffer_helpers.cc:362] Ignored output_format.\n",
      "2022-11-09 13:50:12.901612: W tensorflow/compiler/mlir/lite/python/tf_tfl_flatbuffer_helpers.cc:365] Ignored drop_control_dependency.\n",
      "2022-11-09 13:50:12.901845: I tensorflow/cc/saved_model/reader.cc:45] Reading SavedModel from: /tmp/tmpkrl4qve8\n",
      "2022-11-09 13:50:12.904176: I tensorflow/cc/saved_model/reader.cc:89] Reading meta graph with tags { serve }\n",
      "2022-11-09 13:50:12.904232: I tensorflow/cc/saved_model/reader.cc:130] Reading SavedModel debug info (if present) from: /tmp/tmpkrl4qve8\n",
      "2022-11-09 13:50:12.912193: I tensorflow/cc/saved_model/loader.cc:229] Restoring SavedModel bundle.\n",
      "2022-11-09 13:50:12.978645: I tensorflow/cc/saved_model/loader.cc:213] Running initialization op on SavedModel bundle at path: /tmp/tmpkrl4qve8\n",
      "2022-11-09 13:50:12.997982: I tensorflow/cc/saved_model/loader.cc:305] SavedModel load for tags { serve }; Status: success: OK. Took 96122 microseconds.\n",
      "WARNING:absl:Found untraced functions such as _jit_compiled_convolution_op, _jit_compiled_convolution_op while saving (showing 2 of 2). These functions will not be directly callable after loading.\n"
     ]
    },
    {
     "name": "stdout",
     "output_type": "stream",
     "text": [
      "INFO:tensorflow:Assets written to: /tmp/tmpuxip85q6/assets\n"
     ]
    },
    {
     "name": "stderr",
     "output_type": "stream",
     "text": [
      "INFO:tensorflow:Assets written to: /tmp/tmpuxip85q6/assets\n",
      "2022-11-09 13:50:14.953749: W tensorflow/compiler/mlir/lite/python/tf_tfl_flatbuffer_helpers.cc:362] Ignored output_format.\n",
      "2022-11-09 13:50:14.953841: W tensorflow/compiler/mlir/lite/python/tf_tfl_flatbuffer_helpers.cc:365] Ignored drop_control_dependency.\n",
      "2022-11-09 13:50:14.954085: I tensorflow/cc/saved_model/reader.cc:45] Reading SavedModel from: /tmp/tmpuxip85q6\n",
      "2022-11-09 13:50:14.956292: I tensorflow/cc/saved_model/reader.cc:89] Reading meta graph with tags { serve }\n",
      "2022-11-09 13:50:14.956346: I tensorflow/cc/saved_model/reader.cc:130] Reading SavedModel debug info (if present) from: /tmp/tmpuxip85q6\n",
      "2022-11-09 13:50:14.964540: I tensorflow/cc/saved_model/loader.cc:229] Restoring SavedModel bundle.\n",
      "2022-11-09 13:50:15.031680: I tensorflow/cc/saved_model/loader.cc:213] Running initialization op on SavedModel bundle at path: /tmp/tmpuxip85q6\n",
      "2022-11-09 13:50:15.048081: I tensorflow/cc/saved_model/loader.cc:305] SavedModel load for tags { serve }; Status: success: OK. Took 93996 microseconds.\n",
      "WARNING:absl:Found untraced functions such as _jit_compiled_convolution_op, _jit_compiled_convolution_op while saving (showing 2 of 2). These functions will not be directly callable after loading.\n"
     ]
    },
    {
     "name": "stdout",
     "output_type": "stream",
     "text": [
      "INFO:tensorflow:Assets written to: /tmp/tmp9djxv3o_/assets\n"
     ]
    },
    {
     "name": "stderr",
     "output_type": "stream",
     "text": [
      "INFO:tensorflow:Assets written to: /tmp/tmp9djxv3o_/assets\n",
      "2022-11-09 13:50:16.970643: W tensorflow/compiler/mlir/lite/python/tf_tfl_flatbuffer_helpers.cc:362] Ignored output_format.\n",
      "2022-11-09 13:50:16.970751: W tensorflow/compiler/mlir/lite/python/tf_tfl_flatbuffer_helpers.cc:365] Ignored drop_control_dependency.\n",
      "2022-11-09 13:50:16.970977: I tensorflow/cc/saved_model/reader.cc:45] Reading SavedModel from: /tmp/tmp9djxv3o_\n",
      "2022-11-09 13:50:16.973411: I tensorflow/cc/saved_model/reader.cc:89] Reading meta graph with tags { serve }\n",
      "2022-11-09 13:50:16.973475: I tensorflow/cc/saved_model/reader.cc:130] Reading SavedModel debug info (if present) from: /tmp/tmp9djxv3o_\n",
      "2022-11-09 13:50:16.982088: I tensorflow/cc/saved_model/loader.cc:229] Restoring SavedModel bundle.\n",
      "2022-11-09 13:50:17.050730: I tensorflow/cc/saved_model/loader.cc:213] Running initialization op on SavedModel bundle at path: /tmp/tmp9djxv3o_\n",
      "2022-11-09 13:50:17.070850: I tensorflow/cc/saved_model/loader.cc:305] SavedModel load for tags { serve }; Status: success: OK. Took 99871 microseconds.\n",
      "WARNING:absl:Found untraced functions such as _jit_compiled_convolution_op, _jit_compiled_convolution_op while saving (showing 2 of 2). These functions will not be directly callable after loading.\n"
     ]
    },
    {
     "name": "stdout",
     "output_type": "stream",
     "text": [
      "INFO:tensorflow:Assets written to: /tmp/tmp8y5ec2d6/assets\n"
     ]
    },
    {
     "name": "stderr",
     "output_type": "stream",
     "text": [
      "INFO:tensorflow:Assets written to: /tmp/tmp8y5ec2d6/assets\n",
      "2022-11-09 13:50:18.994725: W tensorflow/compiler/mlir/lite/python/tf_tfl_flatbuffer_helpers.cc:362] Ignored output_format.\n",
      "2022-11-09 13:50:18.994825: W tensorflow/compiler/mlir/lite/python/tf_tfl_flatbuffer_helpers.cc:365] Ignored drop_control_dependency.\n",
      "2022-11-09 13:50:18.995056: I tensorflow/cc/saved_model/reader.cc:45] Reading SavedModel from: /tmp/tmp8y5ec2d6\n",
      "2022-11-09 13:50:18.997324: I tensorflow/cc/saved_model/reader.cc:89] Reading meta graph with tags { serve }\n",
      "2022-11-09 13:50:18.997381: I tensorflow/cc/saved_model/reader.cc:130] Reading SavedModel debug info (if present) from: /tmp/tmp8y5ec2d6\n",
      "2022-11-09 13:50:19.005606: I tensorflow/cc/saved_model/loader.cc:229] Restoring SavedModel bundle.\n",
      "2022-11-09 13:50:19.071420: I tensorflow/cc/saved_model/loader.cc:213] Running initialization op on SavedModel bundle at path: /tmp/tmp8y5ec2d6\n",
      "2022-11-09 13:50:19.089825: I tensorflow/cc/saved_model/loader.cc:305] SavedModel load for tags { serve }; Status: success: OK. Took 94779 microseconds.\n",
      "WARNING:absl:Found untraced functions such as _jit_compiled_convolution_op, _jit_compiled_convolution_op while saving (showing 2 of 2). These functions will not be directly callable after loading.\n"
     ]
    },
    {
     "name": "stdout",
     "output_type": "stream",
     "text": [
      "INFO:tensorflow:Assets written to: /tmp/tmp1rg2gw0t/assets\n"
     ]
    },
    {
     "name": "stderr",
     "output_type": "stream",
     "text": [
      "INFO:tensorflow:Assets written to: /tmp/tmp1rg2gw0t/assets\n",
      "2022-11-09 13:50:21.044135: W tensorflow/compiler/mlir/lite/python/tf_tfl_flatbuffer_helpers.cc:362] Ignored output_format.\n",
      "2022-11-09 13:50:21.044237: W tensorflow/compiler/mlir/lite/python/tf_tfl_flatbuffer_helpers.cc:365] Ignored drop_control_dependency.\n",
      "2022-11-09 13:50:21.044463: I tensorflow/cc/saved_model/reader.cc:45] Reading SavedModel from: /tmp/tmp1rg2gw0t\n",
      "2022-11-09 13:50:21.046794: I tensorflow/cc/saved_model/reader.cc:89] Reading meta graph with tags { serve }\n",
      "2022-11-09 13:50:21.046853: I tensorflow/cc/saved_model/reader.cc:130] Reading SavedModel debug info (if present) from: /tmp/tmp1rg2gw0t\n",
      "2022-11-09 13:50:21.054710: I tensorflow/cc/saved_model/loader.cc:229] Restoring SavedModel bundle.\n",
      "2022-11-09 13:50:21.123330: I tensorflow/cc/saved_model/loader.cc:213] Running initialization op on SavedModel bundle at path: /tmp/tmp1rg2gw0t\n",
      "2022-11-09 13:50:21.142255: I tensorflow/cc/saved_model/loader.cc:305] SavedModel load for tags { serve }; Status: success: OK. Took 97790 microseconds.\n",
      "WARNING:absl:Found untraced functions such as _jit_compiled_convolution_op, _jit_compiled_convolution_op while saving (showing 2 of 2). These functions will not be directly callable after loading.\n"
     ]
    },
    {
     "name": "stdout",
     "output_type": "stream",
     "text": [
      "INFO:tensorflow:Assets written to: /tmp/tmph8oipf9q/assets\n"
     ]
    },
    {
     "name": "stderr",
     "output_type": "stream",
     "text": [
      "INFO:tensorflow:Assets written to: /tmp/tmph8oipf9q/assets\n",
      "2022-11-09 13:50:23.034007: W tensorflow/compiler/mlir/lite/python/tf_tfl_flatbuffer_helpers.cc:362] Ignored output_format.\n",
      "2022-11-09 13:50:23.034126: W tensorflow/compiler/mlir/lite/python/tf_tfl_flatbuffer_helpers.cc:365] Ignored drop_control_dependency.\n",
      "2022-11-09 13:50:23.034350: I tensorflow/cc/saved_model/reader.cc:45] Reading SavedModel from: /tmp/tmph8oipf9q\n",
      "2022-11-09 13:50:23.036674: I tensorflow/cc/saved_model/reader.cc:89] Reading meta graph with tags { serve }\n",
      "2022-11-09 13:50:23.036728: I tensorflow/cc/saved_model/reader.cc:130] Reading SavedModel debug info (if present) from: /tmp/tmph8oipf9q\n",
      "2022-11-09 13:50:23.044598: I tensorflow/cc/saved_model/loader.cc:229] Restoring SavedModel bundle.\n",
      "2022-11-09 13:50:23.111927: I tensorflow/cc/saved_model/loader.cc:213] Running initialization op on SavedModel bundle at path: /tmp/tmph8oipf9q\n",
      "2022-11-09 13:50:23.129167: I tensorflow/cc/saved_model/loader.cc:305] SavedModel load for tags { serve }; Status: success: OK. Took 94817 microseconds.\n",
      "WARNING:absl:Found untraced functions such as _jit_compiled_convolution_op, _jit_compiled_convolution_op while saving (showing 2 of 2). These functions will not be directly callable after loading.\n"
     ]
    },
    {
     "name": "stdout",
     "output_type": "stream",
     "text": [
      "INFO:tensorflow:Assets written to: /tmp/tmp74537qjm/assets\n"
     ]
    },
    {
     "name": "stderr",
     "output_type": "stream",
     "text": [
      "INFO:tensorflow:Assets written to: /tmp/tmp74537qjm/assets\n",
      "2022-11-09 13:50:24.987732: W tensorflow/compiler/mlir/lite/python/tf_tfl_flatbuffer_helpers.cc:362] Ignored output_format.\n",
      "2022-11-09 13:50:24.987829: W tensorflow/compiler/mlir/lite/python/tf_tfl_flatbuffer_helpers.cc:365] Ignored drop_control_dependency.\n",
      "2022-11-09 13:50:24.988075: I tensorflow/cc/saved_model/reader.cc:45] Reading SavedModel from: /tmp/tmp74537qjm\n",
      "2022-11-09 13:50:24.990615: I tensorflow/cc/saved_model/reader.cc:89] Reading meta graph with tags { serve }\n",
      "2022-11-09 13:50:24.990668: I tensorflow/cc/saved_model/reader.cc:130] Reading SavedModel debug info (if present) from: /tmp/tmp74537qjm\n",
      "2022-11-09 13:50:25.001674: I tensorflow/cc/saved_model/loader.cc:229] Restoring SavedModel bundle.\n",
      "2022-11-09 13:50:25.069049: I tensorflow/cc/saved_model/loader.cc:213] Running initialization op on SavedModel bundle at path: /tmp/tmp74537qjm\n",
      "2022-11-09 13:50:25.086027: I tensorflow/cc/saved_model/loader.cc:305] SavedModel load for tags { serve }; Status: success: OK. Took 97916 microseconds.\n",
      "WARNING:absl:Found untraced functions such as _jit_compiled_convolution_op, _jit_compiled_convolution_op while saving (showing 2 of 2). These functions will not be directly callable after loading.\n"
     ]
    },
    {
     "name": "stdout",
     "output_type": "stream",
     "text": [
      "INFO:tensorflow:Assets written to: /tmp/tmp0zpzhtpy/assets\n"
     ]
    },
    {
     "name": "stderr",
     "output_type": "stream",
     "text": [
      "INFO:tensorflow:Assets written to: /tmp/tmp0zpzhtpy/assets\n",
      "2022-11-09 13:50:27.059158: W tensorflow/compiler/mlir/lite/python/tf_tfl_flatbuffer_helpers.cc:362] Ignored output_format.\n",
      "2022-11-09 13:50:27.059256: W tensorflow/compiler/mlir/lite/python/tf_tfl_flatbuffer_helpers.cc:365] Ignored drop_control_dependency.\n",
      "2022-11-09 13:50:27.059481: I tensorflow/cc/saved_model/reader.cc:45] Reading SavedModel from: /tmp/tmp0zpzhtpy\n",
      "2022-11-09 13:50:27.062321: I tensorflow/cc/saved_model/reader.cc:89] Reading meta graph with tags { serve }\n",
      "2022-11-09 13:50:27.062378: I tensorflow/cc/saved_model/reader.cc:130] Reading SavedModel debug info (if present) from: /tmp/tmp0zpzhtpy\n",
      "2022-11-09 13:50:27.079068: I tensorflow/cc/saved_model/loader.cc:229] Restoring SavedModel bundle.\n",
      "2022-11-09 13:50:27.145129: I tensorflow/cc/saved_model/loader.cc:213] Running initialization op on SavedModel bundle at path: /tmp/tmp0zpzhtpy\n",
      "2022-11-09 13:50:27.161984: I tensorflow/cc/saved_model/loader.cc:305] SavedModel load for tags { serve }; Status: success: OK. Took 102502 microseconds.\n",
      "WARNING:absl:Found untraced functions such as _jit_compiled_convolution_op, _jit_compiled_convolution_op while saving (showing 2 of 2). These functions will not be directly callable after loading.\n"
     ]
    },
    {
     "name": "stdout",
     "output_type": "stream",
     "text": [
      "INFO:tensorflow:Assets written to: /tmp/tmpybuqpye6/assets\n"
     ]
    },
    {
     "name": "stderr",
     "output_type": "stream",
     "text": [
      "INFO:tensorflow:Assets written to: /tmp/tmpybuqpye6/assets\n",
      "2022-11-09 13:50:29.109553: W tensorflow/compiler/mlir/lite/python/tf_tfl_flatbuffer_helpers.cc:362] Ignored output_format.\n",
      "2022-11-09 13:50:29.109655: W tensorflow/compiler/mlir/lite/python/tf_tfl_flatbuffer_helpers.cc:365] Ignored drop_control_dependency.\n",
      "2022-11-09 13:50:29.109875: I tensorflow/cc/saved_model/reader.cc:45] Reading SavedModel from: /tmp/tmpybuqpye6\n",
      "2022-11-09 13:50:29.112774: I tensorflow/cc/saved_model/reader.cc:89] Reading meta graph with tags { serve }\n",
      "2022-11-09 13:50:29.112841: I tensorflow/cc/saved_model/reader.cc:130] Reading SavedModel debug info (if present) from: /tmp/tmpybuqpye6\n",
      "2022-11-09 13:50:29.130438: I tensorflow/cc/saved_model/loader.cc:229] Restoring SavedModel bundle.\n",
      "2022-11-09 13:50:29.199943: I tensorflow/cc/saved_model/loader.cc:213] Running initialization op on SavedModel bundle at path: /tmp/tmpybuqpye6\n",
      "2022-11-09 13:50:29.216305: I tensorflow/cc/saved_model/loader.cc:305] SavedModel load for tags { serve }; Status: success: OK. Took 106429 microseconds.\n",
      "WARNING:absl:Found untraced functions such as _jit_compiled_convolution_op, _jit_compiled_convolution_op while saving (showing 2 of 2). These functions will not be directly callable after loading.\n"
     ]
    },
    {
     "name": "stdout",
     "output_type": "stream",
     "text": [
      "INFO:tensorflow:Assets written to: /tmp/tmp5kpdiann/assets\n"
     ]
    },
    {
     "name": "stderr",
     "output_type": "stream",
     "text": [
      "INFO:tensorflow:Assets written to: /tmp/tmp5kpdiann/assets\n",
      "2022-11-09 13:50:31.172592: W tensorflow/compiler/mlir/lite/python/tf_tfl_flatbuffer_helpers.cc:362] Ignored output_format.\n",
      "2022-11-09 13:50:31.172687: W tensorflow/compiler/mlir/lite/python/tf_tfl_flatbuffer_helpers.cc:365] Ignored drop_control_dependency.\n",
      "2022-11-09 13:50:31.172905: I tensorflow/cc/saved_model/reader.cc:45] Reading SavedModel from: /tmp/tmp5kpdiann\n",
      "2022-11-09 13:50:31.175870: I tensorflow/cc/saved_model/reader.cc:89] Reading meta graph with tags { serve }\n",
      "2022-11-09 13:50:31.175919: I tensorflow/cc/saved_model/reader.cc:130] Reading SavedModel debug info (if present) from: /tmp/tmp5kpdiann\n",
      "2022-11-09 13:50:31.192277: I tensorflow/cc/saved_model/loader.cc:229] Restoring SavedModel bundle.\n",
      "2022-11-09 13:50:31.258263: I tensorflow/cc/saved_model/loader.cc:213] Running initialization op on SavedModel bundle at path: /tmp/tmp5kpdiann\n",
      "2022-11-09 13:50:31.275886: I tensorflow/cc/saved_model/loader.cc:305] SavedModel load for tags { serve }; Status: success: OK. Took 102980 microseconds.\n"
     ]
    },
    {
     "data": {
      "image/png": "[encoded data removed]",
      "text/plain": [
       "<Figure size 640x480 with 1 Axes>"
      ]
     },
     "metadata": {},
     "output_type": "display_data"
    },
    {
     "name": "stdout",
     "output_type": "stream",
     "text": [
      "fit df.shape (179957, 39)\n"
     ]
    },
    {
     "name": "stderr",
     "output_type": "stream",
     "text": [
      "WARNING:absl:Found untraced functions such as _jit_compiled_convolution_op, _jit_compiled_convolution_op while saving (showing 2 of 2). These functions will not be directly callable after loading.\n"
     ]
    },
    {
     "name": "stdout",
     "output_type": "stream",
     "text": [
      "INFO:tensorflow:Assets written to: /tmp/tmpl1xmk3zs/assets\n"
     ]
    },
    {
     "name": "stderr",
     "output_type": "stream",
     "text": [
      "INFO:tensorflow:Assets written to: /tmp/tmpl1xmk3zs/assets\n",
      "2022-11-09 13:57:40.216767: W tensorflow/compiler/mlir/lite/python/tf_tfl_flatbuffer_helpers.cc:362] Ignored output_format.\n",
      "2022-11-09 13:57:40.216865: W tensorflow/compiler/mlir/lite/python/tf_tfl_flatbuffer_helpers.cc:365] Ignored drop_control_dependency.\n",
      "2022-11-09 13:57:40.217105: I tensorflow/cc/saved_model/reader.cc:45] Reading SavedModel from: /tmp/tmpl1xmk3zs\n",
      "2022-11-09 13:57:40.219422: I tensorflow/cc/saved_model/reader.cc:89] Reading meta graph with tags { serve }\n",
      "2022-11-09 13:57:40.219473: I tensorflow/cc/saved_model/reader.cc:130] Reading SavedModel debug info (if present) from: /tmp/tmpl1xmk3zs\n",
      "2022-11-09 13:57:40.227670: I tensorflow/cc/saved_model/loader.cc:229] Restoring SavedModel bundle.\n",
      "2022-11-09 13:57:40.290885: I tensorflow/cc/saved_model/loader.cc:213] Running initialization op on SavedModel bundle at path: /tmp/tmpl1xmk3zs\n",
      "2022-11-09 13:57:40.309642: I tensorflow/cc/saved_model/loader.cc:305] SavedModel load for tags { serve }; Status: success: OK. Took 92535 microseconds.\n",
      "WARNING:absl:Found untraced functions such as _jit_compiled_convolution_op, _jit_compiled_convolution_op while saving (showing 2 of 2). These functions will not be directly callable after loading.\n"
     ]
    },
    {
     "name": "stdout",
     "output_type": "stream",
     "text": [
      "INFO:tensorflow:Assets written to: /tmp/tmpvrflcwgo/assets\n"
     ]
    },
    {
     "name": "stderr",
     "output_type": "stream",
     "text": [
      "INFO:tensorflow:Assets written to: /tmp/tmpvrflcwgo/assets\n",
      "2022-11-09 13:57:42.252864: W tensorflow/compiler/mlir/lite/python/tf_tfl_flatbuffer_helpers.cc:362] Ignored output_format.\n",
      "2022-11-09 13:57:42.252973: W tensorflow/compiler/mlir/lite/python/tf_tfl_flatbuffer_helpers.cc:365] Ignored drop_control_dependency.\n",
      "2022-11-09 13:57:42.253200: I tensorflow/cc/saved_model/reader.cc:45] Reading SavedModel from: /tmp/tmpvrflcwgo\n",
      "2022-11-09 13:57:42.255492: I tensorflow/cc/saved_model/reader.cc:89] Reading meta graph with tags { serve }\n",
      "2022-11-09 13:57:42.255556: I tensorflow/cc/saved_model/reader.cc:130] Reading SavedModel debug info (if present) from: /tmp/tmpvrflcwgo\n",
      "2022-11-09 13:57:42.264507: I tensorflow/cc/saved_model/loader.cc:229] Restoring SavedModel bundle.\n",
      "2022-11-09 13:57:42.333261: I tensorflow/cc/saved_model/loader.cc:213] Running initialization op on SavedModel bundle at path: /tmp/tmpvrflcwgo\n",
      "2022-11-09 13:57:42.350758: I tensorflow/cc/saved_model/loader.cc:305] SavedModel load for tags { serve }; Status: success: OK. Took 97558 microseconds.\n",
      "WARNING:absl:Found untraced functions such as _jit_compiled_convolution_op, _jit_compiled_convolution_op while saving (showing 2 of 2). These functions will not be directly callable after loading.\n"
     ]
    },
    {
     "name": "stdout",
     "output_type": "stream",
     "text": [
      "INFO:tensorflow:Assets written to: /tmp/tmpacizfrd_/assets\n"
     ]
    },
    {
     "name": "stderr",
     "output_type": "stream",
     "text": [
      "INFO:tensorflow:Assets written to: /tmp/tmpacizfrd_/assets\n",
      "2022-11-09 13:57:44.178051: W tensorflow/compiler/mlir/lite/python/tf_tfl_flatbuffer_helpers.cc:362] Ignored output_format.\n",
      "2022-11-09 13:57:44.178164: W tensorflow/compiler/mlir/lite/python/tf_tfl_flatbuffer_helpers.cc:365] Ignored drop_control_dependency.\n",
      "2022-11-09 13:57:44.178384: I tensorflow/cc/saved_model/reader.cc:45] Reading SavedModel from: /tmp/tmpacizfrd_\n",
      "2022-11-09 13:57:44.180688: I tensorflow/cc/saved_model/reader.cc:89] Reading meta graph with tags { serve }\n",
      "2022-11-09 13:57:44.180733: I tensorflow/cc/saved_model/reader.cc:130] Reading SavedModel debug info (if present) from: /tmp/tmpacizfrd_\n",
      "2022-11-09 13:57:44.188367: I tensorflow/cc/saved_model/loader.cc:229] Restoring SavedModel bundle.\n",
      "2022-11-09 13:57:44.247789: I tensorflow/cc/saved_model/loader.cc:213] Running initialization op on SavedModel bundle at path: /tmp/tmpacizfrd_\n",
      "2022-11-09 13:57:44.263697: I tensorflow/cc/saved_model/loader.cc:305] SavedModel load for tags { serve }; Status: success: OK. Took 85312 microseconds.\n",
      "WARNING:absl:Found untraced functions such as _jit_compiled_convolution_op, _jit_compiled_convolution_op while saving (showing 2 of 2). These functions will not be directly callable after loading.\n"
     ]
    },
    {
     "name": "stdout",
     "output_type": "stream",
     "text": [
      "INFO:tensorflow:Assets written to: /tmp/tmpgnorpeaq/assets\n"
     ]
    },
    {
     "name": "stderr",
     "output_type": "stream",
     "text": [
      "INFO:tensorflow:Assets written to: /tmp/tmpgnorpeaq/assets\n",
      "2022-11-09 13:57:46.138253: W tensorflow/compiler/mlir/lite/python/tf_tfl_flatbuffer_helpers.cc:362] Ignored output_format.\n",
      "2022-11-09 13:57:46.138345: W tensorflow/compiler/mlir/lite/python/tf_tfl_flatbuffer_helpers.cc:365] Ignored drop_control_dependency.\n",
      "2022-11-09 13:57:46.138565: I tensorflow/cc/saved_model/reader.cc:45] Reading SavedModel from: /tmp/tmpgnorpeaq\n",
      "2022-11-09 13:57:46.140789: I tensorflow/cc/saved_model/reader.cc:89] Reading meta graph with tags { serve }\n",
      "2022-11-09 13:57:46.140832: I tensorflow/cc/saved_model/reader.cc:130] Reading SavedModel debug info (if present) from: /tmp/tmpgnorpeaq\n",
      "2022-11-09 13:57:46.148683: I tensorflow/cc/saved_model/loader.cc:229] Restoring SavedModel bundle.\n",
      "2022-11-09 13:57:46.211152: I tensorflow/cc/saved_model/loader.cc:213] Running initialization op on SavedModel bundle at path: /tmp/tmpgnorpeaq\n",
      "2022-11-09 13:57:46.227662: I tensorflow/cc/saved_model/loader.cc:305] SavedModel load for tags { serve }; Status: success: OK. Took 89096 microseconds.\n",
      "WARNING:absl:Found untraced functions such as _jit_compiled_convolution_op, _jit_compiled_convolution_op while saving (showing 2 of 2). These functions will not be directly callable after loading.\n"
     ]
    },
    {
     "name": "stdout",
     "output_type": "stream",
     "text": [
      "INFO:tensorflow:Assets written to: /tmp/tmp2icvnnkq/assets\n"
     ]
    },
    {
     "name": "stderr",
     "output_type": "stream",
     "text": [
      "INFO:tensorflow:Assets written to: /tmp/tmp2icvnnkq/assets\n",
      "2022-11-09 13:57:48.133966: W tensorflow/compiler/mlir/lite/python/tf_tfl_flatbuffer_helpers.cc:362] Ignored output_format.\n",
      "2022-11-09 13:57:48.134077: W tensorflow/compiler/mlir/lite/python/tf_tfl_flatbuffer_helpers.cc:365] Ignored drop_control_dependency.\n",
      "2022-11-09 13:57:48.134318: I tensorflow/cc/saved_model/reader.cc:45] Reading SavedModel from: /tmp/tmp2icvnnkq\n",
      "2022-11-09 13:57:48.136616: I tensorflow/cc/saved_model/reader.cc:89] Reading meta graph with tags { serve }\n",
      "2022-11-09 13:57:48.136667: I tensorflow/cc/saved_model/reader.cc:130] Reading SavedModel debug info (if present) from: /tmp/tmp2icvnnkq\n",
      "2022-11-09 13:57:48.146572: I tensorflow/cc/saved_model/loader.cc:229] Restoring SavedModel bundle.\n",
      "2022-11-09 13:57:48.209962: I tensorflow/cc/saved_model/loader.cc:213] Running initialization op on SavedModel bundle at path: /tmp/tmp2icvnnkq\n",
      "2022-11-09 13:57:48.227236: I tensorflow/cc/saved_model/loader.cc:305] SavedModel load for tags { serve }; Status: success: OK. Took 92918 microseconds.\n",
      "WARNING:absl:Found untraced functions such as _jit_compiled_convolution_op, _jit_compiled_convolution_op while saving (showing 2 of 2). These functions will not be directly callable after loading.\n"
     ]
    },
    {
     "name": "stdout",
     "output_type": "stream",
     "text": [
      "INFO:tensorflow:Assets written to: /tmp/tmpzee1kgvf/assets\n"
     ]
    },
    {
     "name": "stderr",
     "output_type": "stream",
     "text": [
      "INFO:tensorflow:Assets written to: /tmp/tmpzee1kgvf/assets\n",
      "2022-11-09 13:57:50.186754: W tensorflow/compiler/mlir/lite/python/tf_tfl_flatbuffer_helpers.cc:362] Ignored output_format.\n",
      "2022-11-09 13:57:50.186847: W tensorflow/compiler/mlir/lite/python/tf_tfl_flatbuffer_helpers.cc:365] Ignored drop_control_dependency.\n",
      "2022-11-09 13:57:50.187065: I tensorflow/cc/saved_model/reader.cc:45] Reading SavedModel from: /tmp/tmpzee1kgvf\n",
      "2022-11-09 13:57:50.189569: I tensorflow/cc/saved_model/reader.cc:89] Reading meta graph with tags { serve }\n",
      "2022-11-09 13:57:50.189613: I tensorflow/cc/saved_model/reader.cc:130] Reading SavedModel debug info (if present) from: /tmp/tmpzee1kgvf\n",
      "2022-11-09 13:57:50.199494: I tensorflow/cc/saved_model/loader.cc:229] Restoring SavedModel bundle.\n",
      "2022-11-09 13:57:50.271551: I tensorflow/cc/saved_model/loader.cc:213] Running initialization op on SavedModel bundle at path: /tmp/tmpzee1kgvf\n",
      "2022-11-09 13:57:50.290440: I tensorflow/cc/saved_model/loader.cc:305] SavedModel load for tags { serve }; Status: success: OK. Took 103374 microseconds.\n",
      "WARNING:absl:Found untraced functions such as _jit_compiled_convolution_op, _jit_compiled_convolution_op while saving (showing 2 of 2). These functions will not be directly callable after loading.\n"
     ]
    },
    {
     "name": "stdout",
     "output_type": "stream",
     "text": [
      "INFO:tensorflow:Assets written to: /tmp/tmpqpl4kp3l/assets\n"
     ]
    },
    {
     "name": "stderr",
     "output_type": "stream",
     "text": [
      "INFO:tensorflow:Assets written to: /tmp/tmpqpl4kp3l/assets\n",
      "2022-11-09 13:57:52.207624: W tensorflow/compiler/mlir/lite/python/tf_tfl_flatbuffer_helpers.cc:362] Ignored output_format.\n",
      "2022-11-09 13:57:52.207724: W tensorflow/compiler/mlir/lite/python/tf_tfl_flatbuffer_helpers.cc:365] Ignored drop_control_dependency.\n",
      "2022-11-09 13:57:52.207947: I tensorflow/cc/saved_model/reader.cc:45] Reading SavedModel from: /tmp/tmpqpl4kp3l\n",
      "2022-11-09 13:57:52.210528: I tensorflow/cc/saved_model/reader.cc:89] Reading meta graph with tags { serve }\n",
      "2022-11-09 13:57:52.210596: I tensorflow/cc/saved_model/reader.cc:130] Reading SavedModel debug info (if present) from: /tmp/tmpqpl4kp3l\n",
      "2022-11-09 13:57:52.221101: I tensorflow/cc/saved_model/loader.cc:229] Restoring SavedModel bundle.\n",
      "2022-11-09 13:57:52.289232: I tensorflow/cc/saved_model/loader.cc:213] Running initialization op on SavedModel bundle at path: /tmp/tmpqpl4kp3l\n",
      "2022-11-09 13:57:52.310772: I tensorflow/cc/saved_model/loader.cc:305] SavedModel load for tags { serve }; Status: success: OK. Took 102824 microseconds.\n",
      "WARNING:absl:Found untraced functions such as _jit_compiled_convolution_op, _jit_compiled_convolution_op while saving (showing 2 of 2). These functions will not be directly callable after loading.\n"
     ]
    },
    {
     "name": "stdout",
     "output_type": "stream",
     "text": [
      "INFO:tensorflow:Assets written to: /tmp/tmphl9nqomp/assets\n"
     ]
    },
    {
     "name": "stderr",
     "output_type": "stream",
     "text": [
      "INFO:tensorflow:Assets written to: /tmp/tmphl9nqomp/assets\n",
      "2022-11-09 13:57:54.308793: W tensorflow/compiler/mlir/lite/python/tf_tfl_flatbuffer_helpers.cc:362] Ignored output_format.\n",
      "2022-11-09 13:57:54.308901: W tensorflow/compiler/mlir/lite/python/tf_tfl_flatbuffer_helpers.cc:365] Ignored drop_control_dependency.\n",
      "2022-11-09 13:57:54.309158: I tensorflow/cc/saved_model/reader.cc:45] Reading SavedModel from: /tmp/tmphl9nqomp\n",
      "2022-11-09 13:57:54.312149: I tensorflow/cc/saved_model/reader.cc:89] Reading meta graph with tags { serve }\n",
      "2022-11-09 13:57:54.312220: I tensorflow/cc/saved_model/reader.cc:130] Reading SavedModel debug info (if present) from: /tmp/tmphl9nqomp\n",
      "2022-11-09 13:57:54.329863: I tensorflow/cc/saved_model/loader.cc:229] Restoring SavedModel bundle.\n",
      "2022-11-09 13:57:54.397957: I tensorflow/cc/saved_model/loader.cc:213] Running initialization op on SavedModel bundle at path: /tmp/tmphl9nqomp\n",
      "2022-11-09 13:57:54.414581: I tensorflow/cc/saved_model/loader.cc:305] SavedModel load for tags { serve }; Status: success: OK. Took 105422 microseconds.\n",
      "WARNING:absl:Found untraced functions such as _jit_compiled_convolution_op, _jit_compiled_convolution_op while saving (showing 2 of 2). These functions will not be directly callable after loading.\n"
     ]
    },
    {
     "name": "stdout",
     "output_type": "stream",
     "text": [
      "INFO:tensorflow:Assets written to: /tmp/tmpc8oi4ij_/assets\n"
     ]
    },
    {
     "name": "stderr",
     "output_type": "stream",
     "text": [
      "INFO:tensorflow:Assets written to: /tmp/tmpc8oi4ij_/assets\n",
      "2022-11-09 13:57:56.384090: W tensorflow/compiler/mlir/lite/python/tf_tfl_flatbuffer_helpers.cc:362] Ignored output_format.\n",
      "2022-11-09 13:57:56.384189: W tensorflow/compiler/mlir/lite/python/tf_tfl_flatbuffer_helpers.cc:365] Ignored drop_control_dependency.\n",
      "2022-11-09 13:57:56.384412: I tensorflow/cc/saved_model/reader.cc:45] Reading SavedModel from: /tmp/tmpc8oi4ij_\n",
      "2022-11-09 13:57:56.387366: I tensorflow/cc/saved_model/reader.cc:89] Reading meta graph with tags { serve }\n",
      "2022-11-09 13:57:56.387435: I tensorflow/cc/saved_model/reader.cc:130] Reading SavedModel debug info (if present) from: /tmp/tmpc8oi4ij_\n",
      "2022-11-09 13:57:56.404909: I tensorflow/cc/saved_model/loader.cc:229] Restoring SavedModel bundle.\n",
      "2022-11-09 13:57:56.473205: I tensorflow/cc/saved_model/loader.cc:213] Running initialization op on SavedModel bundle at path: /tmp/tmpc8oi4ij_\n",
      "2022-11-09 13:57:56.490778: I tensorflow/cc/saved_model/loader.cc:305] SavedModel load for tags { serve }; Status: success: OK. Took 106364 microseconds.\n",
      "WARNING:absl:Found untraced functions such as _jit_compiled_convolution_op, _jit_compiled_convolution_op while saving (showing 2 of 2). These functions will not be directly callable after loading.\n"
     ]
    },
    {
     "name": "stdout",
     "output_type": "stream",
     "text": [
      "INFO:tensorflow:Assets written to: /tmp/tmpukbew3tb/assets\n"
     ]
    },
    {
     "name": "stderr",
     "output_type": "stream",
     "text": [
      "INFO:tensorflow:Assets written to: /tmp/tmpukbew3tb/assets\n",
      "2022-11-09 13:57:58.482636: W tensorflow/compiler/mlir/lite/python/tf_tfl_flatbuffer_helpers.cc:362] Ignored output_format.\n",
      "2022-11-09 13:57:58.482736: W tensorflow/compiler/mlir/lite/python/tf_tfl_flatbuffer_helpers.cc:365] Ignored drop_control_dependency.\n",
      "2022-11-09 13:57:58.482968: I tensorflow/cc/saved_model/reader.cc:45] Reading SavedModel from: /tmp/tmpukbew3tb\n",
      "2022-11-09 13:57:58.485794: I tensorflow/cc/saved_model/reader.cc:89] Reading meta graph with tags { serve }\n",
      "2022-11-09 13:57:58.485857: I tensorflow/cc/saved_model/reader.cc:130] Reading SavedModel debug info (if present) from: /tmp/tmpukbew3tb\n",
      "2022-11-09 13:57:58.502890: I tensorflow/cc/saved_model/loader.cc:229] Restoring SavedModel bundle.\n",
      "2022-11-09 13:57:58.574548: I tensorflow/cc/saved_model/loader.cc:213] Running initialization op on SavedModel bundle at path: /tmp/tmpukbew3tb\n",
      "2022-11-09 13:57:58.594030: I tensorflow/cc/saved_model/loader.cc:305] SavedModel load for tags { serve }; Status: success: OK. Took 111060 microseconds.\n"
     ]
    },
    {
     "data": {
      "image/png": "[encoded data removed]",
      "text/plain": [
       "<Figure size 640x480 with 1 Axes>"
      ]
     },
     "metadata": {},
     "output_type": "display_data"
    },
    {
     "name": "stdout",
     "output_type": "stream",
     "text": [
      "fit df.shape (179957, 39)\n"
     ]
    },
    {
     "name": "stderr",
     "output_type": "stream",
     "text": [
      "WARNING:absl:Found untraced functions such as _jit_compiled_convolution_op, _jit_compiled_convolution_op while saving (showing 2 of 2). These functions will not be directly callable after loading.\n"
     ]
    },
    {
     "name": "stdout",
     "output_type": "stream",
     "text": [
      "INFO:tensorflow:Assets written to: /tmp/tmp5rdmfpgr/assets\n"
     ]
    },
    {
     "name": "stderr",
     "output_type": "stream",
     "text": [
      "INFO:tensorflow:Assets written to: /tmp/tmp5rdmfpgr/assets\n",
      "2022-11-09 14:04:00.783325: W tensorflow/compiler/mlir/lite/python/tf_tfl_flatbuffer_helpers.cc:362] Ignored output_format.\n",
      "2022-11-09 14:04:00.783430: W tensorflow/compiler/mlir/lite/python/tf_tfl_flatbuffer_helpers.cc:365] Ignored drop_control_dependency.\n",
      "2022-11-09 14:04:00.783661: I tensorflow/cc/saved_model/reader.cc:45] Reading SavedModel from: /tmp/tmp5rdmfpgr\n",
      "2022-11-09 14:04:00.785966: I tensorflow/cc/saved_model/reader.cc:89] Reading meta graph with tags { serve }\n",
      "2022-11-09 14:04:00.786030: I tensorflow/cc/saved_model/reader.cc:130] Reading SavedModel debug info (if present) from: /tmp/tmp5rdmfpgr\n",
      "2022-11-09 14:04:00.794292: I tensorflow/cc/saved_model/loader.cc:229] Restoring SavedModel bundle.\n",
      "2022-11-09 14:04:00.858600: I tensorflow/cc/saved_model/loader.cc:213] Running initialization op on SavedModel bundle at path: /tmp/tmp5rdmfpgr\n",
      "2022-11-09 14:04:00.875006: I tensorflow/cc/saved_model/loader.cc:305] SavedModel load for tags { serve }; Status: success: OK. Took 91343 microseconds.\n",
      "WARNING:absl:Found untraced functions such as _jit_compiled_convolution_op, _jit_compiled_convolution_op while saving (showing 2 of 2). These functions will not be directly callable after loading.\n"
     ]
    },
    {
     "name": "stdout",
     "output_type": "stream",
     "text": [
      "INFO:tensorflow:Assets written to: /tmp/tmp90a2y6jq/assets\n"
     ]
    },
    {
     "name": "stderr",
     "output_type": "stream",
     "text": [
      "INFO:tensorflow:Assets written to: /tmp/tmp90a2y6jq/assets\n",
      "2022-11-09 14:04:02.753720: W tensorflow/compiler/mlir/lite/python/tf_tfl_flatbuffer_helpers.cc:362] Ignored output_format.\n",
      "2022-11-09 14:04:02.753813: W tensorflow/compiler/mlir/lite/python/tf_tfl_flatbuffer_helpers.cc:365] Ignored drop_control_dependency.\n",
      "2022-11-09 14:04:02.754031: I tensorflow/cc/saved_model/reader.cc:45] Reading SavedModel from: /tmp/tmp90a2y6jq\n",
      "2022-11-09 14:04:02.756274: I tensorflow/cc/saved_model/reader.cc:89] Reading meta graph with tags { serve }\n",
      "2022-11-09 14:04:02.756323: I tensorflow/cc/saved_model/reader.cc:130] Reading SavedModel debug info (if present) from: /tmp/tmp90a2y6jq\n",
      "2022-11-09 14:04:02.763635: I tensorflow/cc/saved_model/loader.cc:229] Restoring SavedModel bundle.\n",
      "2022-11-09 14:04:02.827635: I tensorflow/cc/saved_model/loader.cc:213] Running initialization op on SavedModel bundle at path: /tmp/tmp90a2y6jq\n",
      "2022-11-09 14:04:02.845413: I tensorflow/cc/saved_model/loader.cc:305] SavedModel load for tags { serve }; Status: success: OK. Took 91381 microseconds.\n",
      "WARNING:absl:Found untraced functions such as _jit_compiled_convolution_op, _jit_compiled_convolution_op while saving (showing 2 of 2). These functions will not be directly callable after loading.\n"
     ]
    },
    {
     "name": "stdout",
     "output_type": "stream",
     "text": [
      "INFO:tensorflow:Assets written to: /tmp/tmp559qdfi6/assets\n"
     ]
    },
    {
     "name": "stderr",
     "output_type": "stream",
     "text": [
      "INFO:tensorflow:Assets written to: /tmp/tmp559qdfi6/assets\n",
      "2022-11-09 14:04:04.756525: W tensorflow/compiler/mlir/lite/python/tf_tfl_flatbuffer_helpers.cc:362] Ignored output_format.\n",
      "2022-11-09 14:04:04.756619: W tensorflow/compiler/mlir/lite/python/tf_tfl_flatbuffer_helpers.cc:365] Ignored drop_control_dependency.\n",
      "2022-11-09 14:04:04.756837: I tensorflow/cc/saved_model/reader.cc:45] Reading SavedModel from: /tmp/tmp559qdfi6\n",
      "2022-11-09 14:04:04.759112: I tensorflow/cc/saved_model/reader.cc:89] Reading meta graph with tags { serve }\n",
      "2022-11-09 14:04:04.759165: I tensorflow/cc/saved_model/reader.cc:130] Reading SavedModel debug info (if present) from: /tmp/tmp559qdfi6\n",
      "2022-11-09 14:04:04.767149: I tensorflow/cc/saved_model/loader.cc:229] Restoring SavedModel bundle.\n",
      "2022-11-09 14:04:04.830798: I tensorflow/cc/saved_model/loader.cc:213] Running initialization op on SavedModel bundle at path: /tmp/tmp559qdfi6\n",
      "2022-11-09 14:04:04.847600: I tensorflow/cc/saved_model/loader.cc:305] SavedModel load for tags { serve }; Status: success: OK. Took 90762 microseconds.\n",
      "WARNING:absl:Found untraced functions such as _jit_compiled_convolution_op, _jit_compiled_convolution_op while saving (showing 2 of 2). These functions will not be directly callable after loading.\n"
     ]
    },
    {
     "name": "stdout",
     "output_type": "stream",
     "text": [
      "INFO:tensorflow:Assets written to: /tmp/tmp2pd7v0i0/assets\n"
     ]
    },
    {
     "name": "stderr",
     "output_type": "stream",
     "text": [
      "INFO:tensorflow:Assets written to: /tmp/tmp2pd7v0i0/assets\n",
      "2022-11-09 14:04:06.713440: W tensorflow/compiler/mlir/lite/python/tf_tfl_flatbuffer_helpers.cc:362] Ignored output_format.\n",
      "2022-11-09 14:04:06.713534: W tensorflow/compiler/mlir/lite/python/tf_tfl_flatbuffer_helpers.cc:365] Ignored drop_control_dependency.\n",
      "2022-11-09 14:04:06.713760: I tensorflow/cc/saved_model/reader.cc:45] Reading SavedModel from: /tmp/tmp2pd7v0i0\n",
      "2022-11-09 14:04:06.715963: I tensorflow/cc/saved_model/reader.cc:89] Reading meta graph with tags { serve }\n",
      "2022-11-09 14:04:06.716017: I tensorflow/cc/saved_model/reader.cc:130] Reading SavedModel debug info (if present) from: /tmp/tmp2pd7v0i0\n",
      "2022-11-09 14:04:06.723396: I tensorflow/cc/saved_model/loader.cc:229] Restoring SavedModel bundle.\n",
      "2022-11-09 14:04:06.784530: I tensorflow/cc/saved_model/loader.cc:213] Running initialization op on SavedModel bundle at path: /tmp/tmp2pd7v0i0\n",
      "2022-11-09 14:04:06.801664: I tensorflow/cc/saved_model/loader.cc:305] SavedModel load for tags { serve }; Status: success: OK. Took 87904 microseconds.\n",
      "WARNING:absl:Found untraced functions such as _jit_compiled_convolution_op, _jit_compiled_convolution_op while saving (showing 2 of 2). These functions will not be directly callable after loading.\n"
     ]
    },
    {
     "name": "stdout",
     "output_type": "stream",
     "text": [
      "INFO:tensorflow:Assets written to: /tmp/tmpgj0g_999/assets\n"
     ]
    },
    {
     "name": "stderr",
     "output_type": "stream",
     "text": [
      "INFO:tensorflow:Assets written to: /tmp/tmpgj0g_999/assets\n",
      "2022-11-09 14:04:08.696080: W tensorflow/compiler/mlir/lite/python/tf_tfl_flatbuffer_helpers.cc:362] Ignored output_format.\n",
      "2022-11-09 14:04:08.696171: W tensorflow/compiler/mlir/lite/python/tf_tfl_flatbuffer_helpers.cc:365] Ignored drop_control_dependency.\n",
      "2022-11-09 14:04:08.696399: I tensorflow/cc/saved_model/reader.cc:45] Reading SavedModel from: /tmp/tmpgj0g_999\n",
      "2022-11-09 14:04:08.698605: I tensorflow/cc/saved_model/reader.cc:89] Reading meta graph with tags { serve }\n",
      "2022-11-09 14:04:08.698651: I tensorflow/cc/saved_model/reader.cc:130] Reading SavedModel debug info (if present) from: /tmp/tmpgj0g_999\n",
      "2022-11-09 14:04:08.706163: I tensorflow/cc/saved_model/loader.cc:229] Restoring SavedModel bundle.\n",
      "2022-11-09 14:04:08.767950: I tensorflow/cc/saved_model/loader.cc:213] Running initialization op on SavedModel bundle at path: /tmp/tmpgj0g_999\n",
      "2022-11-09 14:04:08.784310: I tensorflow/cc/saved_model/loader.cc:305] SavedModel load for tags { serve }; Status: success: OK. Took 87911 microseconds.\n",
      "WARNING:absl:Found untraced functions such as _jit_compiled_convolution_op, _jit_compiled_convolution_op while saving (showing 2 of 2). These functions will not be directly callable after loading.\n"
     ]
    },
    {
     "name": "stdout",
     "output_type": "stream",
     "text": [
      "INFO:tensorflow:Assets written to: /tmp/tmp398gmeqd/assets\n"
     ]
    },
    {
     "name": "stderr",
     "output_type": "stream",
     "text": [
      "INFO:tensorflow:Assets written to: /tmp/tmp398gmeqd/assets\n",
      "2022-11-09 14:04:12.317683: W tensorflow/compiler/mlir/lite/python/tf_tfl_flatbuffer_helpers.cc:362] Ignored output_format.\n",
      "2022-11-09 14:04:12.317780: W tensorflow/compiler/mlir/lite/python/tf_tfl_flatbuffer_helpers.cc:365] Ignored drop_control_dependency.\n",
      "2022-11-09 14:04:12.318011: I tensorflow/cc/saved_model/reader.cc:45] Reading SavedModel from: /tmp/tmp398gmeqd\n",
      "2022-11-09 14:04:12.322148: I tensorflow/cc/saved_model/reader.cc:89] Reading meta graph with tags { serve }\n",
      "2022-11-09 14:04:12.322222: I tensorflow/cc/saved_model/reader.cc:130] Reading SavedModel debug info (if present) from: /tmp/tmp398gmeqd\n",
      "2022-11-09 14:04:12.335406: I tensorflow/cc/saved_model/loader.cc:229] Restoring SavedModel bundle.\n",
      "2022-11-09 14:04:12.411579: I tensorflow/cc/saved_model/loader.cc:213] Running initialization op on SavedModel bundle at path: /tmp/tmp398gmeqd\n",
      "2022-11-09 14:04:12.434052: I tensorflow/cc/saved_model/loader.cc:305] SavedModel load for tags { serve }; Status: success: OK. Took 116039 microseconds.\n",
      "WARNING:absl:Found untraced functions such as _jit_compiled_convolution_op, _jit_compiled_convolution_op while saving (showing 2 of 2). These functions will not be directly callable after loading.\n"
     ]
    },
    {
     "name": "stdout",
     "output_type": "stream",
     "text": [
      "INFO:tensorflow:Assets written to: /tmp/tmp3yawyche/assets\n"
     ]
    },
    {
     "name": "stderr",
     "output_type": "stream",
     "text": [
      "INFO:tensorflow:Assets written to: /tmp/tmp3yawyche/assets\n",
      "2022-11-09 14:04:14.442918: W tensorflow/compiler/mlir/lite/python/tf_tfl_flatbuffer_helpers.cc:362] Ignored output_format.\n",
      "2022-11-09 14:04:14.443008: W tensorflow/compiler/mlir/lite/python/tf_tfl_flatbuffer_helpers.cc:365] Ignored drop_control_dependency.\n",
      "2022-11-09 14:04:14.443237: I tensorflow/cc/saved_model/reader.cc:45] Reading SavedModel from: /tmp/tmp3yawyche\n",
      "2022-11-09 14:04:14.445770: I tensorflow/cc/saved_model/reader.cc:89] Reading meta graph with tags { serve }\n",
      "2022-11-09 14:04:14.445824: I tensorflow/cc/saved_model/reader.cc:130] Reading SavedModel debug info (if present) from: /tmp/tmp3yawyche\n",
      "2022-11-09 14:04:14.454711: I tensorflow/cc/saved_model/loader.cc:229] Restoring SavedModel bundle.\n",
      "2022-11-09 14:04:14.520550: I tensorflow/cc/saved_model/loader.cc:213] Running initialization op on SavedModel bundle at path: /tmp/tmp3yawyche\n",
      "2022-11-09 14:04:14.537757: I tensorflow/cc/saved_model/loader.cc:305] SavedModel load for tags { serve }; Status: success: OK. Took 94519 microseconds.\n",
      "WARNING:absl:Found untraced functions such as _jit_compiled_convolution_op, _jit_compiled_convolution_op while saving (showing 2 of 2). These functions will not be directly callable after loading.\n"
     ]
    },
    {
     "name": "stdout",
     "output_type": "stream",
     "text": [
      "INFO:tensorflow:Assets written to: /tmp/tmpqvxi4ajw/assets\n"
     ]
    },
    {
     "name": "stderr",
     "output_type": "stream",
     "text": [
      "INFO:tensorflow:Assets written to: /tmp/tmpqvxi4ajw/assets\n",
      "2022-11-09 14:04:16.521366: W tensorflow/compiler/mlir/lite/python/tf_tfl_flatbuffer_helpers.cc:362] Ignored output_format.\n",
      "2022-11-09 14:04:16.521478: W tensorflow/compiler/mlir/lite/python/tf_tfl_flatbuffer_helpers.cc:365] Ignored drop_control_dependency.\n",
      "2022-11-09 14:04:16.521705: I tensorflow/cc/saved_model/reader.cc:45] Reading SavedModel from: /tmp/tmpqvxi4ajw\n",
      "2022-11-09 14:04:16.524127: I tensorflow/cc/saved_model/reader.cc:89] Reading meta graph with tags { serve }\n",
      "2022-11-09 14:04:16.524200: I tensorflow/cc/saved_model/reader.cc:130] Reading SavedModel debug info (if present) from: /tmp/tmpqvxi4ajw\n",
      "2022-11-09 14:04:16.532847: I tensorflow/cc/saved_model/loader.cc:229] Restoring SavedModel bundle.\n",
      "2022-11-09 14:04:16.602971: I tensorflow/cc/saved_model/loader.cc:213] Running initialization op on SavedModel bundle at path: /tmp/tmpqvxi4ajw\n",
      "2022-11-09 14:04:16.623350: I tensorflow/cc/saved_model/loader.cc:305] SavedModel load for tags { serve }; Status: success: OK. Took 101643 microseconds.\n",
      "WARNING:absl:Found untraced functions such as _jit_compiled_convolution_op, _jit_compiled_convolution_op while saving (showing 2 of 2). These functions will not be directly callable after loading.\n"
     ]
    },
    {
     "name": "stdout",
     "output_type": "stream",
     "text": [
      "INFO:tensorflow:Assets written to: /tmp/tmputbkh9pm/assets\n"
     ]
    },
    {
     "name": "stderr",
     "output_type": "stream",
     "text": [
      "INFO:tensorflow:Assets written to: /tmp/tmputbkh9pm/assets\n",
      "2022-11-09 14:04:18.593640: W tensorflow/compiler/mlir/lite/python/tf_tfl_flatbuffer_helpers.cc:362] Ignored output_format.\n",
      "2022-11-09 14:04:18.593741: W tensorflow/compiler/mlir/lite/python/tf_tfl_flatbuffer_helpers.cc:365] Ignored drop_control_dependency.\n",
      "2022-11-09 14:04:18.593994: I tensorflow/cc/saved_model/reader.cc:45] Reading SavedModel from: /tmp/tmputbkh9pm\n",
      "2022-11-09 14:04:18.596462: I tensorflow/cc/saved_model/reader.cc:89] Reading meta graph with tags { serve }\n",
      "2022-11-09 14:04:18.596517: I tensorflow/cc/saved_model/reader.cc:130] Reading SavedModel debug info (if present) from: /tmp/tmputbkh9pm\n",
      "2022-11-09 14:04:18.604066: I tensorflow/cc/saved_model/loader.cc:229] Restoring SavedModel bundle.\n",
      "2022-11-09 14:04:18.666029: I tensorflow/cc/saved_model/loader.cc:213] Running initialization op on SavedModel bundle at path: /tmp/tmputbkh9pm\n",
      "2022-11-09 14:04:18.683468: I tensorflow/cc/saved_model/loader.cc:305] SavedModel load for tags { serve }; Status: success: OK. Took 89474 microseconds.\n",
      "WARNING:absl:Found untraced functions such as _jit_compiled_convolution_op, _jit_compiled_convolution_op while saving (showing 2 of 2). These functions will not be directly callable after loading.\n"
     ]
    },
    {
     "name": "stdout",
     "output_type": "stream",
     "text": [
      "INFO:tensorflow:Assets written to: /tmp/tmpke35ki_k/assets\n"
     ]
    },
    {
     "name": "stderr",
     "output_type": "stream",
     "text": [
      "INFO:tensorflow:Assets written to: /tmp/tmpke35ki_k/assets\n",
      "2022-11-09 14:04:20.605007: W tensorflow/compiler/mlir/lite/python/tf_tfl_flatbuffer_helpers.cc:362] Ignored output_format.\n",
      "2022-11-09 14:04:20.605101: W tensorflow/compiler/mlir/lite/python/tf_tfl_flatbuffer_helpers.cc:365] Ignored drop_control_dependency.\n",
      "2022-11-09 14:04:20.605325: I tensorflow/cc/saved_model/reader.cc:45] Reading SavedModel from: /tmp/tmpke35ki_k\n",
      "2022-11-09 14:04:20.607628: I tensorflow/cc/saved_model/reader.cc:89] Reading meta graph with tags { serve }\n",
      "2022-11-09 14:04:20.607687: I tensorflow/cc/saved_model/reader.cc:130] Reading SavedModel debug info (if present) from: /tmp/tmpke35ki_k\n",
      "2022-11-09 14:04:20.615265: I tensorflow/cc/saved_model/loader.cc:229] Restoring SavedModel bundle.\n",
      "2022-11-09 14:04:20.676862: I tensorflow/cc/saved_model/loader.cc:213] Running initialization op on SavedModel bundle at path: /tmp/tmpke35ki_k\n",
      "2022-11-09 14:04:20.694913: I tensorflow/cc/saved_model/loader.cc:305] SavedModel load for tags { serve }; Status: success: OK. Took 89587 microseconds.\n"
     ]
    },
    {
     "data": {
      "image/png": "[encoded data removed]",
      "text/plain": [
       "<Figure size 640x480 with 1 Axes>"
      ]
     },
     "metadata": {},
     "output_type": "display_data"
    },
    {
     "name": "stdout",
     "output_type": "stream",
     "text": [
      "fit df.shape (180191, 39)\n"
     ]
    },
    {
     "name": "stderr",
     "output_type": "stream",
     "text": [
      "WARNING:absl:Found untraced functions such as _jit_compiled_convolution_op, _jit_compiled_convolution_op while saving (showing 2 of 2). These functions will not be directly callable after loading.\n"
     ]
    },
    {
     "name": "stdout",
     "output_type": "stream",
     "text": [
      "INFO:tensorflow:Assets written to: /tmp/tmpto33iln_/assets\n"
     ]
    },
    {
     "name": "stderr",
     "output_type": "stream",
     "text": [
      "INFO:tensorflow:Assets written to: /tmp/tmpto33iln_/assets\n",
      "2022-11-09 14:16:01.233128: W tensorflow/compiler/mlir/lite/python/tf_tfl_flatbuffer_helpers.cc:362] Ignored output_format.\n",
      "2022-11-09 14:16:01.233227: W tensorflow/compiler/mlir/lite/python/tf_tfl_flatbuffer_helpers.cc:365] Ignored drop_control_dependency.\n",
      "2022-11-09 14:16:01.233460: I tensorflow/cc/saved_model/reader.cc:45] Reading SavedModel from: /tmp/tmpto33iln_\n",
      "2022-11-09 14:16:01.235761: I tensorflow/cc/saved_model/reader.cc:89] Reading meta graph with tags { serve }\n",
      "2022-11-09 14:16:01.235816: I tensorflow/cc/saved_model/reader.cc:130] Reading SavedModel debug info (if present) from: /tmp/tmpto33iln_\n",
      "2022-11-09 14:16:01.243649: I tensorflow/cc/saved_model/loader.cc:229] Restoring SavedModel bundle.\n",
      "2022-11-09 14:16:01.308159: I tensorflow/cc/saved_model/loader.cc:213] Running initialization op on SavedModel bundle at path: /tmp/tmpto33iln_\n",
      "2022-11-09 14:16:01.326302: I tensorflow/cc/saved_model/loader.cc:305] SavedModel load for tags { serve }; Status: success: OK. Took 92841 microseconds.\n",
      "WARNING:absl:Found untraced functions such as _jit_compiled_convolution_op, _jit_compiled_convolution_op while saving (showing 2 of 2). These functions will not be directly callable after loading.\n"
     ]
    },
    {
     "name": "stdout",
     "output_type": "stream",
     "text": [
      "INFO:tensorflow:Assets written to: /tmp/tmplsbvw6a3/assets\n"
     ]
    },
    {
     "name": "stderr",
     "output_type": "stream",
     "text": [
      "INFO:tensorflow:Assets written to: /tmp/tmplsbvw6a3/assets\n",
      "2022-11-09 14:16:03.259643: W tensorflow/compiler/mlir/lite/python/tf_tfl_flatbuffer_helpers.cc:362] Ignored output_format.\n",
      "2022-11-09 14:16:03.259744: W tensorflow/compiler/mlir/lite/python/tf_tfl_flatbuffer_helpers.cc:365] Ignored drop_control_dependency.\n",
      "2022-11-09 14:16:03.259971: I tensorflow/cc/saved_model/reader.cc:45] Reading SavedModel from: /tmp/tmplsbvw6a3\n",
      "2022-11-09 14:16:03.262267: I tensorflow/cc/saved_model/reader.cc:89] Reading meta graph with tags { serve }\n",
      "2022-11-09 14:16:03.262317: I tensorflow/cc/saved_model/reader.cc:130] Reading SavedModel debug info (if present) from: /tmp/tmplsbvw6a3\n",
      "2022-11-09 14:16:03.270056: I tensorflow/cc/saved_model/loader.cc:229] Restoring SavedModel bundle.\n",
      "2022-11-09 14:16:03.333257: I tensorflow/cc/saved_model/loader.cc:213] Running initialization op on SavedModel bundle at path: /tmp/tmplsbvw6a3\n",
      "2022-11-09 14:16:03.349744: I tensorflow/cc/saved_model/loader.cc:305] SavedModel load for tags { serve }; Status: success: OK. Took 89772 microseconds.\n",
      "WARNING:absl:Found untraced functions such as _jit_compiled_convolution_op, _jit_compiled_convolution_op while saving (showing 2 of 2). These functions will not be directly callable after loading.\n"
     ]
    },
    {
     "name": "stdout",
     "output_type": "stream",
     "text": [
      "INFO:tensorflow:Assets written to: /tmp/tmpqniu92ke/assets\n"
     ]
    },
    {
     "name": "stderr",
     "output_type": "stream",
     "text": [
      "INFO:tensorflow:Assets written to: /tmp/tmpqniu92ke/assets\n",
      "2022-11-09 14:16:05.229948: W tensorflow/compiler/mlir/lite/python/tf_tfl_flatbuffer_helpers.cc:362] Ignored output_format.\n",
      "2022-11-09 14:16:05.230051: W tensorflow/compiler/mlir/lite/python/tf_tfl_flatbuffer_helpers.cc:365] Ignored drop_control_dependency.\n",
      "2022-11-09 14:16:05.230302: I tensorflow/cc/saved_model/reader.cc:45] Reading SavedModel from: /tmp/tmpqniu92ke\n",
      "2022-11-09 14:16:05.232589: I tensorflow/cc/saved_model/reader.cc:89] Reading meta graph with tags { serve }\n",
      "2022-11-09 14:16:05.232649: I tensorflow/cc/saved_model/reader.cc:130] Reading SavedModel debug info (if present) from: /tmp/tmpqniu92ke\n",
      "2022-11-09 14:16:05.240933: I tensorflow/cc/saved_model/loader.cc:229] Restoring SavedModel bundle.\n",
      "2022-11-09 14:16:05.306638: I tensorflow/cc/saved_model/loader.cc:213] Running initialization op on SavedModel bundle at path: /tmp/tmpqniu92ke\n",
      "2022-11-09 14:16:05.324839: I tensorflow/cc/saved_model/loader.cc:305] SavedModel load for tags { serve }; Status: success: OK. Took 94536 microseconds.\n",
      "WARNING:absl:Found untraced functions such as _jit_compiled_convolution_op, _jit_compiled_convolution_op while saving (showing 2 of 2). These functions will not be directly callable after loading.\n"
     ]
    },
    {
     "name": "stdout",
     "output_type": "stream",
     "text": [
      "INFO:tensorflow:Assets written to: /tmp/tmpjnp26cf7/assets\n"
     ]
    },
    {
     "name": "stderr",
     "output_type": "stream",
     "text": [
      "INFO:tensorflow:Assets written to: /tmp/tmpjnp26cf7/assets\n",
      "2022-11-09 14:16:07.230939: W tensorflow/compiler/mlir/lite/python/tf_tfl_flatbuffer_helpers.cc:362] Ignored output_format.\n",
      "2022-11-09 14:16:07.231037: W tensorflow/compiler/mlir/lite/python/tf_tfl_flatbuffer_helpers.cc:365] Ignored drop_control_dependency.\n",
      "2022-11-09 14:16:07.231261: I tensorflow/cc/saved_model/reader.cc:45] Reading SavedModel from: /tmp/tmpjnp26cf7\n",
      "2022-11-09 14:16:07.233467: I tensorflow/cc/saved_model/reader.cc:89] Reading meta graph with tags { serve }\n",
      "2022-11-09 14:16:07.233514: I tensorflow/cc/saved_model/reader.cc:130] Reading SavedModel debug info (if present) from: /tmp/tmpjnp26cf7\n",
      "2022-11-09 14:16:07.240915: I tensorflow/cc/saved_model/loader.cc:229] Restoring SavedModel bundle.\n",
      "2022-11-09 14:16:07.305868: I tensorflow/cc/saved_model/loader.cc:213] Running initialization op on SavedModel bundle at path: /tmp/tmpjnp26cf7\n",
      "2022-11-09 14:16:07.321982: I tensorflow/cc/saved_model/loader.cc:305] SavedModel load for tags { serve }; Status: success: OK. Took 90720 microseconds.\n",
      "WARNING:absl:Found untraced functions such as _jit_compiled_convolution_op, _jit_compiled_convolution_op while saving (showing 2 of 2). These functions will not be directly callable after loading.\n"
     ]
    },
    {
     "name": "stdout",
     "output_type": "stream",
     "text": [
      "INFO:tensorflow:Assets written to: /tmp/tmpajp2bhtg/assets\n"
     ]
    },
    {
     "name": "stderr",
     "output_type": "stream",
     "text": [
      "INFO:tensorflow:Assets written to: /tmp/tmpajp2bhtg/assets\n",
      "2022-11-09 14:16:09.225617: W tensorflow/compiler/mlir/lite/python/tf_tfl_flatbuffer_helpers.cc:362] Ignored output_format.\n",
      "2022-11-09 14:16:09.225704: W tensorflow/compiler/mlir/lite/python/tf_tfl_flatbuffer_helpers.cc:365] Ignored drop_control_dependency.\n",
      "2022-11-09 14:16:09.225928: I tensorflow/cc/saved_model/reader.cc:45] Reading SavedModel from: /tmp/tmpajp2bhtg\n",
      "2022-11-09 14:16:09.228219: I tensorflow/cc/saved_model/reader.cc:89] Reading meta graph with tags { serve }\n",
      "2022-11-09 14:16:09.228270: I tensorflow/cc/saved_model/reader.cc:130] Reading SavedModel debug info (if present) from: /tmp/tmpajp2bhtg\n",
      "2022-11-09 14:16:09.235974: I tensorflow/cc/saved_model/loader.cc:229] Restoring SavedModel bundle.\n",
      "2022-11-09 14:16:09.303114: I tensorflow/cc/saved_model/loader.cc:213] Running initialization op on SavedModel bundle at path: /tmp/tmpajp2bhtg\n",
      "2022-11-09 14:16:09.321637: I tensorflow/cc/saved_model/loader.cc:305] SavedModel load for tags { serve }; Status: success: OK. Took 95708 microseconds.\n",
      "WARNING:absl:Found untraced functions such as _jit_compiled_convolution_op, _jit_compiled_convolution_op while saving (showing 2 of 2). These functions will not be directly callable after loading.\n"
     ]
    },
    {
     "name": "stdout",
     "output_type": "stream",
     "text": [
      "INFO:tensorflow:Assets written to: /tmp/tmphndtzcxd/assets\n"
     ]
    },
    {
     "name": "stderr",
     "output_type": "stream",
     "text": [
      "INFO:tensorflow:Assets written to: /tmp/tmphndtzcxd/assets\n",
      "2022-11-09 14:16:11.185113: W tensorflow/compiler/mlir/lite/python/tf_tfl_flatbuffer_helpers.cc:362] Ignored output_format.\n",
      "2022-11-09 14:16:11.185204: W tensorflow/compiler/mlir/lite/python/tf_tfl_flatbuffer_helpers.cc:365] Ignored drop_control_dependency.\n",
      "2022-11-09 14:16:11.185432: I tensorflow/cc/saved_model/reader.cc:45] Reading SavedModel from: /tmp/tmphndtzcxd\n",
      "2022-11-09 14:16:11.187625: I tensorflow/cc/saved_model/reader.cc:89] Reading meta graph with tags { serve }\n",
      "2022-11-09 14:16:11.187671: I tensorflow/cc/saved_model/reader.cc:130] Reading SavedModel debug info (if present) from: /tmp/tmphndtzcxd\n",
      "2022-11-09 14:16:11.195096: I tensorflow/cc/saved_model/loader.cc:229] Restoring SavedModel bundle.\n",
      "2022-11-09 14:16:11.255072: I tensorflow/cc/saved_model/loader.cc:213] Running initialization op on SavedModel bundle at path: /tmp/tmphndtzcxd\n",
      "2022-11-09 14:16:11.270724: I tensorflow/cc/saved_model/loader.cc:305] SavedModel load for tags { serve }; Status: success: OK. Took 85290 microseconds.\n",
      "WARNING:absl:Found untraced functions such as _jit_compiled_convolution_op, _jit_compiled_convolution_op while saving (showing 2 of 2). These functions will not be directly callable after loading.\n"
     ]
    },
    {
     "name": "stdout",
     "output_type": "stream",
     "text": [
      "INFO:tensorflow:Assets written to: /tmp/tmp5z42j2he/assets\n"
     ]
    },
    {
     "name": "stderr",
     "output_type": "stream",
     "text": [
      "INFO:tensorflow:Assets written to: /tmp/tmp5z42j2he/assets\n",
      "2022-11-09 14:16:17.166559: W tensorflow/compiler/mlir/lite/python/tf_tfl_flatbuffer_helpers.cc:362] Ignored output_format.\n",
      "2022-11-09 14:16:17.166650: W tensorflow/compiler/mlir/lite/python/tf_tfl_flatbuffer_helpers.cc:365] Ignored drop_control_dependency.\n",
      "2022-11-09 14:16:17.166898: I tensorflow/cc/saved_model/reader.cc:45] Reading SavedModel from: /tmp/tmp5z42j2he\n",
      "2022-11-09 14:16:17.176724: I tensorflow/cc/saved_model/reader.cc:89] Reading meta graph with tags { serve }\n",
      "2022-11-09 14:16:17.176796: I tensorflow/cc/saved_model/reader.cc:130] Reading SavedModel debug info (if present) from: /tmp/tmp5z42j2he\n",
      "2022-11-09 14:16:17.206048: I tensorflow/cc/saved_model/loader.cc:229] Restoring SavedModel bundle.\n",
      "2022-11-09 14:16:17.371167: I tensorflow/cc/saved_model/loader.cc:213] Running initialization op on SavedModel bundle at path: /tmp/tmp5z42j2he\n",
      "2022-11-09 14:16:17.421267: I tensorflow/cc/saved_model/loader.cc:305] SavedModel load for tags { serve }; Status: success: OK. Took 254369 microseconds.\n",
      "WARNING:absl:Found untraced functions such as _jit_compiled_convolution_op, _jit_compiled_convolution_op while saving (showing 2 of 2). These functions will not be directly callable after loading.\n"
     ]
    },
    {
     "name": "stdout",
     "output_type": "stream",
     "text": [
      "INFO:tensorflow:Assets written to: /tmp/tmpsiexmzv_/assets\n"
     ]
    },
    {
     "name": "stderr",
     "output_type": "stream",
     "text": [
      "INFO:tensorflow:Assets written to: /tmp/tmpsiexmzv_/assets\n",
      "2022-11-09 14:16:21.456292: W tensorflow/compiler/mlir/lite/python/tf_tfl_flatbuffer_helpers.cc:362] Ignored output_format.\n",
      "2022-11-09 14:16:21.456387: W tensorflow/compiler/mlir/lite/python/tf_tfl_flatbuffer_helpers.cc:365] Ignored drop_control_dependency.\n",
      "2022-11-09 14:16:21.456619: I tensorflow/cc/saved_model/reader.cc:45] Reading SavedModel from: /tmp/tmpsiexmzv_\n",
      "2022-11-09 14:16:21.461577: I tensorflow/cc/saved_model/reader.cc:89] Reading meta graph with tags { serve }\n",
      "2022-11-09 14:16:21.461645: I tensorflow/cc/saved_model/reader.cc:130] Reading SavedModel debug info (if present) from: /tmp/tmpsiexmzv_\n",
      "2022-11-09 14:16:21.480954: I tensorflow/cc/saved_model/loader.cc:229] Restoring SavedModel bundle.\n",
      "2022-11-09 14:16:21.628654: I tensorflow/cc/saved_model/loader.cc:213] Running initialization op on SavedModel bundle at path: /tmp/tmpsiexmzv_\n",
      "2022-11-09 14:16:21.669410: I tensorflow/cc/saved_model/loader.cc:305] SavedModel load for tags { serve }; Status: success: OK. Took 212790 microseconds.\n",
      "WARNING:absl:Found untraced functions such as _jit_compiled_convolution_op, _jit_compiled_convolution_op while saving (showing 2 of 2). These functions will not be directly callable after loading.\n"
     ]
    },
    {
     "name": "stdout",
     "output_type": "stream",
     "text": [
      "INFO:tensorflow:Assets written to: /tmp/tmpkhlk4gh0/assets\n"
     ]
    },
    {
     "name": "stderr",
     "output_type": "stream",
     "text": [
      "INFO:tensorflow:Assets written to: /tmp/tmpkhlk4gh0/assets\n",
      "2022-11-09 14:16:25.522609: W tensorflow/compiler/mlir/lite/python/tf_tfl_flatbuffer_helpers.cc:362] Ignored output_format.\n",
      "2022-11-09 14:16:25.522698: W tensorflow/compiler/mlir/lite/python/tf_tfl_flatbuffer_helpers.cc:365] Ignored drop_control_dependency.\n",
      "2022-11-09 14:16:25.523291: I tensorflow/cc/saved_model/reader.cc:45] Reading SavedModel from: /tmp/tmpkhlk4gh0\n",
      "2022-11-09 14:16:25.528548: I tensorflow/cc/saved_model/reader.cc:89] Reading meta graph with tags { serve }\n",
      "2022-11-09 14:16:25.528613: I tensorflow/cc/saved_model/reader.cc:130] Reading SavedModel debug info (if present) from: /tmp/tmpkhlk4gh0\n",
      "2022-11-09 14:16:25.542953: I tensorflow/cc/saved_model/loader.cc:229] Restoring SavedModel bundle.\n",
      "2022-11-09 14:16:25.666251: I tensorflow/cc/saved_model/loader.cc:213] Running initialization op on SavedModel bundle at path: /tmp/tmpkhlk4gh0\n",
      "2022-11-09 14:16:25.701725: I tensorflow/cc/saved_model/loader.cc:305] SavedModel load for tags { serve }; Status: success: OK. Took 178432 microseconds.\n",
      "WARNING:absl:Found untraced functions such as _jit_compiled_convolution_op, _jit_compiled_convolution_op while saving (showing 2 of 2). These functions will not be directly callable after loading.\n"
     ]
    },
    {
     "name": "stdout",
     "output_type": "stream",
     "text": [
      "INFO:tensorflow:Assets written to: /tmp/tmpac8hvnp6/assets\n"
     ]
    },
    {
     "name": "stderr",
     "output_type": "stream",
     "text": [
      "INFO:tensorflow:Assets written to: /tmp/tmpac8hvnp6/assets\n",
      "2022-11-09 14:16:29.223578: W tensorflow/compiler/mlir/lite/python/tf_tfl_flatbuffer_helpers.cc:362] Ignored output_format.\n",
      "2022-11-09 14:16:29.223681: W tensorflow/compiler/mlir/lite/python/tf_tfl_flatbuffer_helpers.cc:365] Ignored drop_control_dependency.\n",
      "2022-11-09 14:16:29.223936: I tensorflow/cc/saved_model/reader.cc:45] Reading SavedModel from: /tmp/tmpac8hvnp6\n",
      "2022-11-09 14:16:29.228414: I tensorflow/cc/saved_model/reader.cc:89] Reading meta graph with tags { serve }\n",
      "2022-11-09 14:16:29.228476: I tensorflow/cc/saved_model/reader.cc:130] Reading SavedModel debug info (if present) from: /tmp/tmpac8hvnp6\n",
      "2022-11-09 14:16:29.241283: I tensorflow/cc/saved_model/loader.cc:229] Restoring SavedModel bundle.\n",
      "2022-11-09 14:16:29.354155: I tensorflow/cc/saved_model/loader.cc:213] Running initialization op on SavedModel bundle at path: /tmp/tmpac8hvnp6\n",
      "2022-11-09 14:16:29.384414: I tensorflow/cc/saved_model/loader.cc:305] SavedModel load for tags { serve }; Status: success: OK. Took 160465 microseconds.\n"
     ]
    },
    {
     "data": {
      "image/png": "[encoded data removed]",
      "text/plain": [
       "<Figure size 640x480 with 1 Axes>"
      ]
     },
     "metadata": {},
     "output_type": "display_data"
    },
    {
     "name": "stdout",
     "output_type": "stream",
     "text": [
      "return without cost statistics\n",
      "mean 0.0026733482441065274\n",
      "std 0.024778941302512077\n",
      "sharpe 0.10788791221824738\n",
      "double sharpe 1.246462989427445\n",
      "max drawdown 0.5562287150190066\n",
      "return with cost statistics\n",
      "mean 0.0014162591768518734\n",
      "std 0.0247914026788944\n",
      "sharpe 0.05712702888157166\n",
      "double sharpe 0.6148702855046565\n",
      "max drawdown 0.5567520149964373\n"
     ]
    },
    {
     "data": {
      "image/png": "[encoded data removed]",
      "text/plain": [
       "<Figure size 640x480 with 1 Axes>"
      ]
     },
     "metadata": {},
     "output_type": "display_data"
    },
    {
     "data": {
      "image/png": "[encoded data removed]",
      "text/plain": [
       "<Figure size 640x480 with 1 Axes>"
      ]
     },
     "metadata": {},
     "output_type": "display_data"
    },
    {
     "data": {
      "image/png": "[encoded data removed]",
      "text/plain": [
       "<Figure size 640x480 with 1 Axes>"
      ]
     },
     "metadata": {},
     "output_type": "display_data"
    },
    {
     "data": {
      "image/png": "[encoded data removed]",
      "text/plain": [
       "<Figure size 640x480 with 1 Axes>"
      ]
     },
     "metadata": {},
     "output_type": "display_data"
    },
    {
     "name": "stdout",
     "output_type": "stream",
     "text": [
      "fit df.shape (232490, 39)\n"
     ]
    },
    {
     "name": "stderr",
     "output_type": "stream",
     "text": [
      "WARNING:absl:Found untraced functions such as _jit_compiled_convolution_op, _jit_compiled_convolution_op while saving (showing 2 of 2). These functions will not be directly callable after loading.\n"
     ]
    },
    {
     "name": "stdout",
     "output_type": "stream",
     "text": [
      "INFO:tensorflow:Assets written to: /tmp/tmp190zl8ou/assets\n"
     ]
    },
    {
     "name": "stderr",
     "output_type": "stream",
     "text": [
      "INFO:tensorflow:Assets written to: /tmp/tmp190zl8ou/assets\n",
      "2022-11-09 15:17:47.347603: W tensorflow/compiler/mlir/lite/python/tf_tfl_flatbuffer_helpers.cc:362] Ignored output_format.\n",
      "2022-11-09 15:17:47.347691: W tensorflow/compiler/mlir/lite/python/tf_tfl_flatbuffer_helpers.cc:365] Ignored drop_control_dependency.\n",
      "2022-11-09 15:17:47.347923: I tensorflow/cc/saved_model/reader.cc:45] Reading SavedModel from: /tmp/tmp190zl8ou\n",
      "2022-11-09 15:17:47.350270: I tensorflow/cc/saved_model/reader.cc:89] Reading meta graph with tags { serve }\n",
      "2022-11-09 15:17:47.350323: I tensorflow/cc/saved_model/reader.cc:130] Reading SavedModel debug info (if present) from: /tmp/tmp190zl8ou\n",
      "2022-11-09 15:17:47.357981: I tensorflow/cc/saved_model/loader.cc:229] Restoring SavedModel bundle.\n",
      "2022-11-09 15:17:47.423235: I tensorflow/cc/saved_model/loader.cc:213] Running initialization op on SavedModel bundle at path: /tmp/tmp190zl8ou\n",
      "2022-11-09 15:17:47.440668: I tensorflow/cc/saved_model/loader.cc:305] SavedModel load for tags { serve }; Status: success: OK. Took 92745 microseconds.\n",
      "WARNING:absl:Found untraced functions such as _jit_compiled_convolution_op, _jit_compiled_convolution_op while saving (showing 2 of 2). These functions will not be directly callable after loading.\n"
     ]
    },
    {
     "name": "stdout",
     "output_type": "stream",
     "text": [
      "INFO:tensorflow:Assets written to: /tmp/tmpzwn4qspf/assets\n"
     ]
    },
    {
     "name": "stderr",
     "output_type": "stream",
     "text": [
      "INFO:tensorflow:Assets written to: /tmp/tmpzwn4qspf/assets\n",
      "2022-11-09 15:17:49.393306: W tensorflow/compiler/mlir/lite/python/tf_tfl_flatbuffer_helpers.cc:362] Ignored output_format.\n",
      "2022-11-09 15:17:49.393408: W tensorflow/compiler/mlir/lite/python/tf_tfl_flatbuffer_helpers.cc:365] Ignored drop_control_dependency.\n",
      "2022-11-09 15:17:49.393630: I tensorflow/cc/saved_model/reader.cc:45] Reading SavedModel from: /tmp/tmpzwn4qspf\n",
      "2022-11-09 15:17:49.395880: I tensorflow/cc/saved_model/reader.cc:89] Reading meta graph with tags { serve }\n",
      "2022-11-09 15:17:49.395935: I tensorflow/cc/saved_model/reader.cc:130] Reading SavedModel debug info (if present) from: /tmp/tmpzwn4qspf\n",
      "2022-11-09 15:17:49.403712: I tensorflow/cc/saved_model/loader.cc:229] Restoring SavedModel bundle.\n",
      "2022-11-09 15:17:49.472131: I tensorflow/cc/saved_model/loader.cc:213] Running initialization op on SavedModel bundle at path: /tmp/tmpzwn4qspf\n",
      "2022-11-09 15:17:49.490969: I tensorflow/cc/saved_model/loader.cc:305] SavedModel load for tags { serve }; Status: success: OK. Took 97338 microseconds.\n",
      "WARNING:absl:Found untraced functions such as _jit_compiled_convolution_op, _jit_compiled_convolution_op while saving (showing 2 of 2). These functions will not be directly callable after loading.\n"
     ]
    },
    {
     "name": "stdout",
     "output_type": "stream",
     "text": [
      "INFO:tensorflow:Assets written to: /tmp/tmp9yopuq2c/assets\n"
     ]
    },
    {
     "name": "stderr",
     "output_type": "stream",
     "text": [
      "INFO:tensorflow:Assets written to: /tmp/tmp9yopuq2c/assets\n",
      "2022-11-09 15:17:51.444799: W tensorflow/compiler/mlir/lite/python/tf_tfl_flatbuffer_helpers.cc:362] Ignored output_format.\n",
      "2022-11-09 15:17:51.444906: W tensorflow/compiler/mlir/lite/python/tf_tfl_flatbuffer_helpers.cc:365] Ignored drop_control_dependency.\n",
      "2022-11-09 15:17:51.445168: I tensorflow/cc/saved_model/reader.cc:45] Reading SavedModel from: /tmp/tmp9yopuq2c\n",
      "2022-11-09 15:17:51.447479: I tensorflow/cc/saved_model/reader.cc:89] Reading meta graph with tags { serve }\n",
      "2022-11-09 15:17:51.447539: I tensorflow/cc/saved_model/reader.cc:130] Reading SavedModel debug info (if present) from: /tmp/tmp9yopuq2c\n",
      "2022-11-09 15:17:51.455512: I tensorflow/cc/saved_model/loader.cc:229] Restoring SavedModel bundle.\n",
      "2022-11-09 15:17:51.524907: I tensorflow/cc/saved_model/loader.cc:213] Running initialization op on SavedModel bundle at path: /tmp/tmp9yopuq2c\n",
      "2022-11-09 15:17:51.542137: I tensorflow/cc/saved_model/loader.cc:305] SavedModel load for tags { serve }; Status: success: OK. Took 96968 microseconds.\n",
      "WARNING:absl:Found untraced functions such as _jit_compiled_convolution_op, _jit_compiled_convolution_op while saving (showing 2 of 2). These functions will not be directly callable after loading.\n"
     ]
    },
    {
     "name": "stdout",
     "output_type": "stream",
     "text": [
      "INFO:tensorflow:Assets written to: /tmp/tmp7d9o61wi/assets\n"
     ]
    },
    {
     "name": "stderr",
     "output_type": "stream",
     "text": [
      "INFO:tensorflow:Assets written to: /tmp/tmp7d9o61wi/assets\n",
      "2022-11-09 15:17:53.518210: W tensorflow/compiler/mlir/lite/python/tf_tfl_flatbuffer_helpers.cc:362] Ignored output_format.\n",
      "2022-11-09 15:17:53.518300: W tensorflow/compiler/mlir/lite/python/tf_tfl_flatbuffer_helpers.cc:365] Ignored drop_control_dependency.\n",
      "2022-11-09 15:17:53.518525: I tensorflow/cc/saved_model/reader.cc:45] Reading SavedModel from: /tmp/tmp7d9o61wi\n",
      "2022-11-09 15:17:53.520728: I tensorflow/cc/saved_model/reader.cc:89] Reading meta graph with tags { serve }\n",
      "2022-11-09 15:17:53.520770: I tensorflow/cc/saved_model/reader.cc:130] Reading SavedModel debug info (if present) from: /tmp/tmp7d9o61wi\n",
      "2022-11-09 15:17:53.528626: I tensorflow/cc/saved_model/loader.cc:229] Restoring SavedModel bundle.\n",
      "2022-11-09 15:17:53.591434: I tensorflow/cc/saved_model/loader.cc:213] Running initialization op on SavedModel bundle at path: /tmp/tmp7d9o61wi\n",
      "2022-11-09 15:17:53.608192: I tensorflow/cc/saved_model/loader.cc:305] SavedModel load for tags { serve }; Status: success: OK. Took 89665 microseconds.\n",
      "WARNING:absl:Found untraced functions such as _jit_compiled_convolution_op, _jit_compiled_convolution_op while saving (showing 2 of 2). These functions will not be directly callable after loading.\n"
     ]
    },
    {
     "name": "stdout",
     "output_type": "stream",
     "text": [
      "INFO:tensorflow:Assets written to: /tmp/tmpzvwutpki/assets\n"
     ]
    },
    {
     "name": "stderr",
     "output_type": "stream",
     "text": [
      "INFO:tensorflow:Assets written to: /tmp/tmpzvwutpki/assets\n",
      "2022-11-09 15:17:55.541173: W tensorflow/compiler/mlir/lite/python/tf_tfl_flatbuffer_helpers.cc:362] Ignored output_format.\n",
      "2022-11-09 15:17:55.541274: W tensorflow/compiler/mlir/lite/python/tf_tfl_flatbuffer_helpers.cc:365] Ignored drop_control_dependency.\n",
      "2022-11-09 15:17:55.541500: I tensorflow/cc/saved_model/reader.cc:45] Reading SavedModel from: /tmp/tmpzvwutpki\n",
      "2022-11-09 15:17:55.543750: I tensorflow/cc/saved_model/reader.cc:89] Reading meta graph with tags { serve }\n",
      "2022-11-09 15:17:55.543808: I tensorflow/cc/saved_model/reader.cc:130] Reading SavedModel debug info (if present) from: /tmp/tmpzvwutpki\n",
      "2022-11-09 15:17:55.551786: I tensorflow/cc/saved_model/loader.cc:229] Restoring SavedModel bundle.\n",
      "2022-11-09 15:17:55.619402: I tensorflow/cc/saved_model/loader.cc:213] Running initialization op on SavedModel bundle at path: /tmp/tmpzvwutpki\n",
      "2022-11-09 15:17:55.640174: I tensorflow/cc/saved_model/loader.cc:305] SavedModel load for tags { serve }; Status: success: OK. Took 98672 microseconds.\n",
      "WARNING:absl:Found untraced functions such as _jit_compiled_convolution_op, _jit_compiled_convolution_op while saving (showing 2 of 2). These functions will not be directly callable after loading.\n"
     ]
    },
    {
     "name": "stdout",
     "output_type": "stream",
     "text": [
      "INFO:tensorflow:Assets written to: /tmp/tmpxgz6actn/assets\n"
     ]
    },
    {
     "name": "stderr",
     "output_type": "stream",
     "text": [
      "INFO:tensorflow:Assets written to: /tmp/tmpxgz6actn/assets\n",
      "2022-11-09 15:17:57.674026: W tensorflow/compiler/mlir/lite/python/tf_tfl_flatbuffer_helpers.cc:362] Ignored output_format.\n",
      "2022-11-09 15:17:57.674167: W tensorflow/compiler/mlir/lite/python/tf_tfl_flatbuffer_helpers.cc:365] Ignored drop_control_dependency.\n",
      "2022-11-09 15:17:57.674404: I tensorflow/cc/saved_model/reader.cc:45] Reading SavedModel from: /tmp/tmpxgz6actn\n",
      "2022-11-09 15:17:57.676723: I tensorflow/cc/saved_model/reader.cc:89] Reading meta graph with tags { serve }\n",
      "2022-11-09 15:17:57.676779: I tensorflow/cc/saved_model/reader.cc:130] Reading SavedModel debug info (if present) from: /tmp/tmpxgz6actn\n",
      "2022-11-09 15:17:57.684939: I tensorflow/cc/saved_model/loader.cc:229] Restoring SavedModel bundle.\n",
      "2022-11-09 15:17:57.749073: I tensorflow/cc/saved_model/loader.cc:213] Running initialization op on SavedModel bundle at path: /tmp/tmpxgz6actn\n",
      "2022-11-09 15:17:57.767331: I tensorflow/cc/saved_model/loader.cc:305] SavedModel load for tags { serve }; Status: success: OK. Took 92926 microseconds.\n",
      "WARNING:absl:Found untraced functions such as _jit_compiled_convolution_op, _jit_compiled_convolution_op while saving (showing 2 of 2). These functions will not be directly callable after loading.\n"
     ]
    },
    {
     "name": "stdout",
     "output_type": "stream",
     "text": [
      "INFO:tensorflow:Assets written to: /tmp/tmp2uk86hcd/assets\n"
     ]
    },
    {
     "name": "stderr",
     "output_type": "stream",
     "text": [
      "INFO:tensorflow:Assets written to: /tmp/tmp2uk86hcd/assets\n",
      "2022-11-09 15:17:59.688100: W tensorflow/compiler/mlir/lite/python/tf_tfl_flatbuffer_helpers.cc:362] Ignored output_format.\n",
      "2022-11-09 15:17:59.688208: W tensorflow/compiler/mlir/lite/python/tf_tfl_flatbuffer_helpers.cc:365] Ignored drop_control_dependency.\n",
      "2022-11-09 15:17:59.688432: I tensorflow/cc/saved_model/reader.cc:45] Reading SavedModel from: /tmp/tmp2uk86hcd\n",
      "2022-11-09 15:17:59.690716: I tensorflow/cc/saved_model/reader.cc:89] Reading meta graph with tags { serve }\n",
      "2022-11-09 15:17:59.690771: I tensorflow/cc/saved_model/reader.cc:130] Reading SavedModel debug info (if present) from: /tmp/tmp2uk86hcd\n",
      "2022-11-09 15:17:59.698682: I tensorflow/cc/saved_model/loader.cc:229] Restoring SavedModel bundle.\n",
      "2022-11-09 15:17:59.765456: I tensorflow/cc/saved_model/loader.cc:213] Running initialization op on SavedModel bundle at path: /tmp/tmp2uk86hcd\n",
      "2022-11-09 15:17:59.783390: I tensorflow/cc/saved_model/loader.cc:305] SavedModel load for tags { serve }; Status: success: OK. Took 94956 microseconds.\n",
      "WARNING:absl:Found untraced functions such as _jit_compiled_convolution_op, _jit_compiled_convolution_op while saving (showing 2 of 2). These functions will not be directly callable after loading.\n"
     ]
    },
    {
     "name": "stdout",
     "output_type": "stream",
     "text": [
      "INFO:tensorflow:Assets written to: /tmp/tmpb21j43wa/assets\n"
     ]
    },
    {
     "name": "stderr",
     "output_type": "stream",
     "text": [
      "INFO:tensorflow:Assets written to: /tmp/tmpb21j43wa/assets\n",
      "2022-11-09 15:18:01.731144: W tensorflow/compiler/mlir/lite/python/tf_tfl_flatbuffer_helpers.cc:362] Ignored output_format.\n",
      "2022-11-09 15:18:01.731252: W tensorflow/compiler/mlir/lite/python/tf_tfl_flatbuffer_helpers.cc:365] Ignored drop_control_dependency.\n",
      "2022-11-09 15:18:01.731491: I tensorflow/cc/saved_model/reader.cc:45] Reading SavedModel from: /tmp/tmpb21j43wa\n",
      "2022-11-09 15:18:01.733770: I tensorflow/cc/saved_model/reader.cc:89] Reading meta graph with tags { serve }\n",
      "2022-11-09 15:18:01.733833: I tensorflow/cc/saved_model/reader.cc:130] Reading SavedModel debug info (if present) from: /tmp/tmpb21j43wa\n",
      "2022-11-09 15:18:01.741675: I tensorflow/cc/saved_model/loader.cc:229] Restoring SavedModel bundle.\n",
      "2022-11-09 15:18:01.810652: I tensorflow/cc/saved_model/loader.cc:213] Running initialization op on SavedModel bundle at path: /tmp/tmpb21j43wa\n",
      "2022-11-09 15:18:01.830304: I tensorflow/cc/saved_model/loader.cc:305] SavedModel load for tags { serve }; Status: success: OK. Took 98811 microseconds.\n",
      "WARNING:absl:Found untraced functions such as _jit_compiled_convolution_op, _jit_compiled_convolution_op while saving (showing 2 of 2). These functions will not be directly callable after loading.\n"
     ]
    },
    {
     "name": "stdout",
     "output_type": "stream",
     "text": [
      "INFO:tensorflow:Assets written to: /tmp/tmpbyar3u8g/assets\n"
     ]
    },
    {
     "name": "stderr",
     "output_type": "stream",
     "text": [
      "INFO:tensorflow:Assets written to: /tmp/tmpbyar3u8g/assets\n",
      "2022-11-09 15:18:03.835642: W tensorflow/compiler/mlir/lite/python/tf_tfl_flatbuffer_helpers.cc:362] Ignored output_format.\n",
      "2022-11-09 15:18:03.835728: W tensorflow/compiler/mlir/lite/python/tf_tfl_flatbuffer_helpers.cc:365] Ignored drop_control_dependency.\n",
      "2022-11-09 15:18:03.835945: I tensorflow/cc/saved_model/reader.cc:45] Reading SavedModel from: /tmp/tmpbyar3u8g\n",
      "2022-11-09 15:18:03.838167: I tensorflow/cc/saved_model/reader.cc:89] Reading meta graph with tags { serve }\n",
      "2022-11-09 15:18:03.838221: I tensorflow/cc/saved_model/reader.cc:130] Reading SavedModel debug info (if present) from: /tmp/tmpbyar3u8g\n",
      "2022-11-09 15:18:03.845555: I tensorflow/cc/saved_model/loader.cc:229] Restoring SavedModel bundle.\n",
      "2022-11-09 15:18:03.906707: I tensorflow/cc/saved_model/loader.cc:213] Running initialization op on SavedModel bundle at path: /tmp/tmpbyar3u8g\n",
      "2022-11-09 15:18:03.923115: I tensorflow/cc/saved_model/loader.cc:305] SavedModel load for tags { serve }; Status: success: OK. Took 87170 microseconds.\n",
      "WARNING:absl:Found untraced functions such as _jit_compiled_convolution_op, _jit_compiled_convolution_op while saving (showing 2 of 2). These functions will not be directly callable after loading.\n"
     ]
    },
    {
     "name": "stdout",
     "output_type": "stream",
     "text": [
      "INFO:tensorflow:Assets written to: /tmp/tmprto8alka/assets\n"
     ]
    },
    {
     "name": "stderr",
     "output_type": "stream",
     "text": [
      "INFO:tensorflow:Assets written to: /tmp/tmprto8alka/assets\n",
      "2022-11-09 15:18:05.855237: W tensorflow/compiler/mlir/lite/python/tf_tfl_flatbuffer_helpers.cc:362] Ignored output_format.\n",
      "2022-11-09 15:18:05.855329: W tensorflow/compiler/mlir/lite/python/tf_tfl_flatbuffer_helpers.cc:365] Ignored drop_control_dependency.\n",
      "2022-11-09 15:18:05.855553: I tensorflow/cc/saved_model/reader.cc:45] Reading SavedModel from: /tmp/tmprto8alka\n",
      "2022-11-09 15:18:05.858012: I tensorflow/cc/saved_model/reader.cc:89] Reading meta graph with tags { serve }\n",
      "2022-11-09 15:18:05.858104: I tensorflow/cc/saved_model/reader.cc:130] Reading SavedModel debug info (if present) from: /tmp/tmprto8alka\n",
      "2022-11-09 15:18:05.869853: I tensorflow/cc/saved_model/loader.cc:229] Restoring SavedModel bundle.\n",
      "2022-11-09 15:18:05.935204: I tensorflow/cc/saved_model/loader.cc:213] Running initialization op on SavedModel bundle at path: /tmp/tmprto8alka\n",
      "2022-11-09 15:18:05.953696: I tensorflow/cc/saved_model/loader.cc:305] SavedModel load for tags { serve }; Status: success: OK. Took 98142 microseconds.\n",
      "WARNING:absl:Found untraced functions such as _jit_compiled_convolution_op, _jit_compiled_convolution_op while saving (showing 2 of 2). These functions will not be directly callable after loading.\n"
     ]
    },
    {
     "name": "stdout",
     "output_type": "stream",
     "text": [
      "INFO:tensorflow:Assets written to: /tmp/tmpk6jhvx58/assets\n"
     ]
    },
    {
     "name": "stderr",
     "output_type": "stream",
     "text": [
      "INFO:tensorflow:Assets written to: /tmp/tmpk6jhvx58/assets\n",
      "2022-11-09 15:18:07.873002: W tensorflow/compiler/mlir/lite/python/tf_tfl_flatbuffer_helpers.cc:362] Ignored output_format.\n",
      "2022-11-09 15:18:07.873099: W tensorflow/compiler/mlir/lite/python/tf_tfl_flatbuffer_helpers.cc:365] Ignored drop_control_dependency.\n",
      "2022-11-09 15:18:07.873322: I tensorflow/cc/saved_model/reader.cc:45] Reading SavedModel from: /tmp/tmpk6jhvx58\n",
      "2022-11-09 15:18:07.875803: I tensorflow/cc/saved_model/reader.cc:89] Reading meta graph with tags { serve }\n",
      "2022-11-09 15:18:07.875849: I tensorflow/cc/saved_model/reader.cc:130] Reading SavedModel debug info (if present) from: /tmp/tmpk6jhvx58\n",
      "2022-11-09 15:18:07.887185: I tensorflow/cc/saved_model/loader.cc:229] Restoring SavedModel bundle.\n",
      "2022-11-09 15:18:07.951929: I tensorflow/cc/saved_model/loader.cc:213] Running initialization op on SavedModel bundle at path: /tmp/tmpk6jhvx58\n",
      "2022-11-09 15:18:07.968505: I tensorflow/cc/saved_model/loader.cc:305] SavedModel load for tags { serve }; Status: success: OK. Took 95183 microseconds.\n",
      "WARNING:absl:Found untraced functions such as _jit_compiled_convolution_op, _jit_compiled_convolution_op while saving (showing 2 of 2). These functions will not be directly callable after loading.\n"
     ]
    },
    {
     "name": "stdout",
     "output_type": "stream",
     "text": [
      "INFO:tensorflow:Assets written to: /tmp/tmpp942l24r/assets\n"
     ]
    },
    {
     "name": "stderr",
     "output_type": "stream",
     "text": [
      "INFO:tensorflow:Assets written to: /tmp/tmpp942l24r/assets\n",
      "2022-11-09 15:18:09.918777: W tensorflow/compiler/mlir/lite/python/tf_tfl_flatbuffer_helpers.cc:362] Ignored output_format.\n",
      "2022-11-09 15:18:09.918873: W tensorflow/compiler/mlir/lite/python/tf_tfl_flatbuffer_helpers.cc:365] Ignored drop_control_dependency.\n",
      "2022-11-09 15:18:09.919095: I tensorflow/cc/saved_model/reader.cc:45] Reading SavedModel from: /tmp/tmpp942l24r\n",
      "2022-11-09 15:18:09.921591: I tensorflow/cc/saved_model/reader.cc:89] Reading meta graph with tags { serve }\n",
      "2022-11-09 15:18:09.921646: I tensorflow/cc/saved_model/reader.cc:130] Reading SavedModel debug info (if present) from: /tmp/tmpp942l24r\n",
      "2022-11-09 15:18:09.932765: I tensorflow/cc/saved_model/loader.cc:229] Restoring SavedModel bundle.\n",
      "2022-11-09 15:18:09.996746: I tensorflow/cc/saved_model/loader.cc:213] Running initialization op on SavedModel bundle at path: /tmp/tmpp942l24r\n",
      "2022-11-09 15:18:10.013702: I tensorflow/cc/saved_model/loader.cc:305] SavedModel load for tags { serve }; Status: success: OK. Took 94607 microseconds.\n",
      "WARNING:absl:Found untraced functions such as _jit_compiled_convolution_op, _jit_compiled_convolution_op while saving (showing 2 of 2). These functions will not be directly callable after loading.\n"
     ]
    },
    {
     "name": "stdout",
     "output_type": "stream",
     "text": [
      "INFO:tensorflow:Assets written to: /tmp/tmp7xt_1phq/assets\n"
     ]
    },
    {
     "name": "stderr",
     "output_type": "stream",
     "text": [
      "INFO:tensorflow:Assets written to: /tmp/tmp7xt_1phq/assets\n",
      "2022-11-09 15:18:15.189541: W tensorflow/compiler/mlir/lite/python/tf_tfl_flatbuffer_helpers.cc:362] Ignored output_format.\n",
      "2022-11-09 15:18:15.189643: W tensorflow/compiler/mlir/lite/python/tf_tfl_flatbuffer_helpers.cc:365] Ignored drop_control_dependency.\n",
      "2022-11-09 15:18:15.189883: I tensorflow/cc/saved_model/reader.cc:45] Reading SavedModel from: /tmp/tmp7xt_1phq\n",
      "2022-11-09 15:18:15.195418: I tensorflow/cc/saved_model/reader.cc:89] Reading meta graph with tags { serve }\n",
      "2022-11-09 15:18:15.195492: I tensorflow/cc/saved_model/reader.cc:130] Reading SavedModel debug info (if present) from: /tmp/tmp7xt_1phq\n",
      "2022-11-09 15:18:15.214542: I tensorflow/cc/saved_model/loader.cc:229] Restoring SavedModel bundle.\n",
      "2022-11-09 15:18:15.307076: I tensorflow/cc/saved_model/loader.cc:213] Running initialization op on SavedModel bundle at path: /tmp/tmp7xt_1phq\n",
      "2022-11-09 15:18:15.335574: I tensorflow/cc/saved_model/loader.cc:305] SavedModel load for tags { serve }; Status: success: OK. Took 145690 microseconds.\n",
      "WARNING:absl:Found untraced functions such as _jit_compiled_convolution_op, _jit_compiled_convolution_op while saving (showing 2 of 2). These functions will not be directly callable after loading.\n"
     ]
    },
    {
     "name": "stdout",
     "output_type": "stream",
     "text": [
      "INFO:tensorflow:Assets written to: /tmp/tmpx10ctvv9/assets\n"
     ]
    },
    {
     "name": "stderr",
     "output_type": "stream",
     "text": [
      "INFO:tensorflow:Assets written to: /tmp/tmpx10ctvv9/assets\n",
      "2022-11-09 15:18:17.444755: W tensorflow/compiler/mlir/lite/python/tf_tfl_flatbuffer_helpers.cc:362] Ignored output_format.\n",
      "2022-11-09 15:18:17.444857: W tensorflow/compiler/mlir/lite/python/tf_tfl_flatbuffer_helpers.cc:365] Ignored drop_control_dependency.\n",
      "2022-11-09 15:18:17.445080: I tensorflow/cc/saved_model/reader.cc:45] Reading SavedModel from: /tmp/tmpx10ctvv9\n",
      "2022-11-09 15:18:17.448077: I tensorflow/cc/saved_model/reader.cc:89] Reading meta graph with tags { serve }\n",
      "2022-11-09 15:18:17.448138: I tensorflow/cc/saved_model/reader.cc:130] Reading SavedModel debug info (if present) from: /tmp/tmpx10ctvv9\n",
      "2022-11-09 15:18:17.457776: I tensorflow/cc/saved_model/loader.cc:229] Restoring SavedModel bundle.\n",
      "2022-11-09 15:18:17.531231: I tensorflow/cc/saved_model/loader.cc:213] Running initialization op on SavedModel bundle at path: /tmp/tmpx10ctvv9\n",
      "2022-11-09 15:18:17.552822: I tensorflow/cc/saved_model/loader.cc:305] SavedModel load for tags { serve }; Status: success: OK. Took 107741 microseconds.\n",
      "WARNING:absl:Found untraced functions such as _jit_compiled_convolution_op, _jit_compiled_convolution_op while saving (showing 2 of 2). These functions will not be directly callable after loading.\n"
     ]
    },
    {
     "name": "stdout",
     "output_type": "stream",
     "text": [
      "INFO:tensorflow:Assets written to: /tmp/tmp56_dvq10/assets\n"
     ]
    },
    {
     "name": "stderr",
     "output_type": "stream",
     "text": [
      "INFO:tensorflow:Assets written to: /tmp/tmp56_dvq10/assets\n",
      "2022-11-09 15:18:19.589374: W tensorflow/compiler/mlir/lite/python/tf_tfl_flatbuffer_helpers.cc:362] Ignored output_format.\n",
      "2022-11-09 15:18:19.589472: W tensorflow/compiler/mlir/lite/python/tf_tfl_flatbuffer_helpers.cc:365] Ignored drop_control_dependency.\n",
      "2022-11-09 15:18:19.589698: I tensorflow/cc/saved_model/reader.cc:45] Reading SavedModel from: /tmp/tmp56_dvq10\n",
      "2022-11-09 15:18:19.592159: I tensorflow/cc/saved_model/reader.cc:89] Reading meta graph with tags { serve }\n",
      "2022-11-09 15:18:19.592214: I tensorflow/cc/saved_model/reader.cc:130] Reading SavedModel debug info (if present) from: /tmp/tmp56_dvq10\n",
      "2022-11-09 15:18:19.600629: I tensorflow/cc/saved_model/loader.cc:229] Restoring SavedModel bundle.\n",
      "2022-11-09 15:18:19.670276: I tensorflow/cc/saved_model/loader.cc:213] Running initialization op on SavedModel bundle at path: /tmp/tmp56_dvq10\n",
      "2022-11-09 15:18:19.689230: I tensorflow/cc/saved_model/loader.cc:305] SavedModel load for tags { serve }; Status: success: OK. Took 99532 microseconds.\n",
      "WARNING:absl:Found untraced functions such as _jit_compiled_convolution_op, _jit_compiled_convolution_op while saving (showing 2 of 2). These functions will not be directly callable after loading.\n"
     ]
    },
    {
     "name": "stdout",
     "output_type": "stream",
     "text": [
      "INFO:tensorflow:Assets written to: /tmp/tmpxzd53vez/assets\n"
     ]
    },
    {
     "name": "stderr",
     "output_type": "stream",
     "text": [
      "INFO:tensorflow:Assets written to: /tmp/tmpxzd53vez/assets\n",
      "2022-11-09 15:18:21.630808: W tensorflow/compiler/mlir/lite/python/tf_tfl_flatbuffer_helpers.cc:362] Ignored output_format.\n",
      "2022-11-09 15:18:21.630905: W tensorflow/compiler/mlir/lite/python/tf_tfl_flatbuffer_helpers.cc:365] Ignored drop_control_dependency.\n",
      "2022-11-09 15:18:21.631144: I tensorflow/cc/saved_model/reader.cc:45] Reading SavedModel from: /tmp/tmpxzd53vez\n",
      "2022-11-09 15:18:21.633525: I tensorflow/cc/saved_model/reader.cc:89] Reading meta graph with tags { serve }\n",
      "2022-11-09 15:18:21.633583: I tensorflow/cc/saved_model/reader.cc:130] Reading SavedModel debug info (if present) from: /tmp/tmpxzd53vez\n",
      "2022-11-09 15:18:21.641855: I tensorflow/cc/saved_model/loader.cc:229] Restoring SavedModel bundle.\n",
      "2022-11-09 15:18:21.716524: I tensorflow/cc/saved_model/loader.cc:213] Running initialization op on SavedModel bundle at path: /tmp/tmpxzd53vez\n",
      "2022-11-09 15:18:21.735479: I tensorflow/cc/saved_model/loader.cc:305] SavedModel load for tags { serve }; Status: success: OK. Took 104334 microseconds.\n",
      "WARNING:absl:Found untraced functions such as _jit_compiled_convolution_op, _jit_compiled_convolution_op while saving (showing 2 of 2). These functions will not be directly callable after loading.\n"
     ]
    },
    {
     "name": "stdout",
     "output_type": "stream",
     "text": [
      "INFO:tensorflow:Assets written to: /tmp/tmpuu6f9s45/assets\n"
     ]
    },
    {
     "name": "stderr",
     "output_type": "stream",
     "text": [
      "INFO:tensorflow:Assets written to: /tmp/tmpuu6f9s45/assets\n",
      "2022-11-09 15:18:23.706829: W tensorflow/compiler/mlir/lite/python/tf_tfl_flatbuffer_helpers.cc:362] Ignored output_format.\n",
      "2022-11-09 15:18:23.706920: W tensorflow/compiler/mlir/lite/python/tf_tfl_flatbuffer_helpers.cc:365] Ignored drop_control_dependency.\n",
      "2022-11-09 15:18:23.707147: I tensorflow/cc/saved_model/reader.cc:45] Reading SavedModel from: /tmp/tmpuu6f9s45\n",
      "2022-11-09 15:18:23.709500: I tensorflow/cc/saved_model/reader.cc:89] Reading meta graph with tags { serve }\n",
      "2022-11-09 15:18:23.709579: I tensorflow/cc/saved_model/reader.cc:130] Reading SavedModel debug info (if present) from: /tmp/tmpuu6f9s45\n",
      "2022-11-09 15:18:23.718137: I tensorflow/cc/saved_model/loader.cc:229] Restoring SavedModel bundle.\n",
      "2022-11-09 15:18:23.784412: I tensorflow/cc/saved_model/loader.cc:213] Running initialization op on SavedModel bundle at path: /tmp/tmpuu6f9s45\n",
      "2022-11-09 15:18:23.805081: I tensorflow/cc/saved_model/loader.cc:305] SavedModel load for tags { serve }; Status: success: OK. Took 97933 microseconds.\n",
      "WARNING:absl:Found untraced functions such as _jit_compiled_convolution_op, _jit_compiled_convolution_op while saving (showing 2 of 2). These functions will not be directly callable after loading.\n"
     ]
    },
    {
     "name": "stdout",
     "output_type": "stream",
     "text": [
      "INFO:tensorflow:Assets written to: /tmp/tmpuvxikf73/assets\n"
     ]
    },
    {
     "name": "stderr",
     "output_type": "stream",
     "text": [
      "INFO:tensorflow:Assets written to: /tmp/tmpuvxikf73/assets\n",
      "2022-11-09 15:18:25.761526: W tensorflow/compiler/mlir/lite/python/tf_tfl_flatbuffer_helpers.cc:362] Ignored output_format.\n",
      "2022-11-09 15:18:25.761626: W tensorflow/compiler/mlir/lite/python/tf_tfl_flatbuffer_helpers.cc:365] Ignored drop_control_dependency.\n",
      "2022-11-09 15:18:25.761854: I tensorflow/cc/saved_model/reader.cc:45] Reading SavedModel from: /tmp/tmpuvxikf73\n",
      "2022-11-09 15:18:25.764102: I tensorflow/cc/saved_model/reader.cc:89] Reading meta graph with tags { serve }\n",
      "2022-11-09 15:18:25.764152: I tensorflow/cc/saved_model/reader.cc:130] Reading SavedModel debug info (if present) from: /tmp/tmpuvxikf73\n",
      "2022-11-09 15:18:25.772003: I tensorflow/cc/saved_model/loader.cc:229] Restoring SavedModel bundle.\n",
      "2022-11-09 15:18:25.838746: I tensorflow/cc/saved_model/loader.cc:213] Running initialization op on SavedModel bundle at path: /tmp/tmpuvxikf73\n",
      "2022-11-09 15:18:25.857431: I tensorflow/cc/saved_model/loader.cc:305] SavedModel load for tags { serve }; Status: success: OK. Took 95575 microseconds.\n",
      "WARNING:absl:Found untraced functions such as _jit_compiled_convolution_op, _jit_compiled_convolution_op while saving (showing 2 of 2). These functions will not be directly callable after loading.\n"
     ]
    },
    {
     "name": "stdout",
     "output_type": "stream",
     "text": [
      "INFO:tensorflow:Assets written to: /tmp/tmpyj6bz3si/assets\n"
     ]
    },
    {
     "name": "stderr",
     "output_type": "stream",
     "text": [
      "INFO:tensorflow:Assets written to: /tmp/tmpyj6bz3si/assets\n",
      "2022-11-09 15:18:27.775431: W tensorflow/compiler/mlir/lite/python/tf_tfl_flatbuffer_helpers.cc:362] Ignored output_format.\n",
      "2022-11-09 15:18:27.775530: W tensorflow/compiler/mlir/lite/python/tf_tfl_flatbuffer_helpers.cc:365] Ignored drop_control_dependency.\n",
      "2022-11-09 15:18:27.775765: I tensorflow/cc/saved_model/reader.cc:45] Reading SavedModel from: /tmp/tmpyj6bz3si\n",
      "2022-11-09 15:18:27.778030: I tensorflow/cc/saved_model/reader.cc:89] Reading meta graph with tags { serve }\n",
      "2022-11-09 15:18:27.778130: I tensorflow/cc/saved_model/reader.cc:130] Reading SavedModel debug info (if present) from: /tmp/tmpyj6bz3si\n",
      "2022-11-09 15:18:27.785884: I tensorflow/cc/saved_model/loader.cc:229] Restoring SavedModel bundle.\n",
      "2022-11-09 15:18:27.849671: I tensorflow/cc/saved_model/loader.cc:213] Running initialization op on SavedModel bundle at path: /tmp/tmpyj6bz3si\n",
      "2022-11-09 15:18:27.867260: I tensorflow/cc/saved_model/loader.cc:305] SavedModel load for tags { serve }; Status: success: OK. Took 91494 microseconds.\n",
      "WARNING:absl:Found untraced functions such as _jit_compiled_convolution_op, _jit_compiled_convolution_op while saving (showing 2 of 2). These functions will not be directly callable after loading.\n"
     ]
    },
    {
     "name": "stdout",
     "output_type": "stream",
     "text": [
      "INFO:tensorflow:Assets written to: /tmp/tmp1gbxslul/assets\n"
     ]
    },
    {
     "name": "stderr",
     "output_type": "stream",
     "text": [
      "INFO:tensorflow:Assets written to: /tmp/tmp1gbxslul/assets\n",
      "2022-11-09 15:18:29.816176: W tensorflow/compiler/mlir/lite/python/tf_tfl_flatbuffer_helpers.cc:362] Ignored output_format.\n",
      "2022-11-09 15:18:29.816286: W tensorflow/compiler/mlir/lite/python/tf_tfl_flatbuffer_helpers.cc:365] Ignored drop_control_dependency.\n",
      "2022-11-09 15:18:29.816513: I tensorflow/cc/saved_model/reader.cc:45] Reading SavedModel from: /tmp/tmp1gbxslul\n",
      "2022-11-09 15:18:29.818842: I tensorflow/cc/saved_model/reader.cc:89] Reading meta graph with tags { serve }\n",
      "2022-11-09 15:18:29.818911: I tensorflow/cc/saved_model/reader.cc:130] Reading SavedModel debug info (if present) from: /tmp/tmp1gbxslul\n",
      "2022-11-09 15:18:29.826988: I tensorflow/cc/saved_model/loader.cc:229] Restoring SavedModel bundle.\n",
      "2022-11-09 15:18:29.893483: I tensorflow/cc/saved_model/loader.cc:213] Running initialization op on SavedModel bundle at path: /tmp/tmp1gbxslul\n",
      "2022-11-09 15:18:29.911641: I tensorflow/cc/saved_model/loader.cc:305] SavedModel load for tags { serve }; Status: success: OK. Took 95127 microseconds.\n",
      "WARNING:absl:Found untraced functions such as _jit_compiled_convolution_op, _jit_compiled_convolution_op while saving (showing 2 of 2). These functions will not be directly callable after loading.\n"
     ]
    },
    {
     "name": "stdout",
     "output_type": "stream",
     "text": [
      "INFO:tensorflow:Assets written to: /tmp/tmpp3amgxmr/assets\n"
     ]
    },
    {
     "name": "stderr",
     "output_type": "stream",
     "text": [
      "INFO:tensorflow:Assets written to: /tmp/tmpp3amgxmr/assets\n",
      "2022-11-09 15:18:31.893729: W tensorflow/compiler/mlir/lite/python/tf_tfl_flatbuffer_helpers.cc:362] Ignored output_format.\n",
      "2022-11-09 15:18:31.893830: W tensorflow/compiler/mlir/lite/python/tf_tfl_flatbuffer_helpers.cc:365] Ignored drop_control_dependency.\n",
      "2022-11-09 15:18:31.894053: I tensorflow/cc/saved_model/reader.cc:45] Reading SavedModel from: /tmp/tmpp3amgxmr\n",
      "2022-11-09 15:18:31.896323: I tensorflow/cc/saved_model/reader.cc:89] Reading meta graph with tags { serve }\n",
      "2022-11-09 15:18:31.896388: I tensorflow/cc/saved_model/reader.cc:130] Reading SavedModel debug info (if present) from: /tmp/tmpp3amgxmr\n",
      "2022-11-09 15:18:31.904317: I tensorflow/cc/saved_model/loader.cc:229] Restoring SavedModel bundle.\n",
      "2022-11-09 15:18:31.970247: I tensorflow/cc/saved_model/loader.cc:213] Running initialization op on SavedModel bundle at path: /tmp/tmpp3amgxmr\n",
      "2022-11-09 15:18:31.990963: I tensorflow/cc/saved_model/loader.cc:305] SavedModel load for tags { serve }; Status: success: OK. Took 96908 microseconds.\n",
      "WARNING:absl:Found untraced functions such as _jit_compiled_convolution_op, _jit_compiled_convolution_op while saving (showing 2 of 2). These functions will not be directly callable after loading.\n"
     ]
    },
    {
     "name": "stdout",
     "output_type": "stream",
     "text": [
      "INFO:tensorflow:Assets written to: /tmp/tmppbibx5nt/assets\n"
     ]
    },
    {
     "name": "stderr",
     "output_type": "stream",
     "text": [
      "INFO:tensorflow:Assets written to: /tmp/tmppbibx5nt/assets\n",
      "2022-11-09 15:18:34.023221: W tensorflow/compiler/mlir/lite/python/tf_tfl_flatbuffer_helpers.cc:362] Ignored output_format.\n",
      "2022-11-09 15:18:34.023319: W tensorflow/compiler/mlir/lite/python/tf_tfl_flatbuffer_helpers.cc:365] Ignored drop_control_dependency.\n",
      "2022-11-09 15:18:34.023544: I tensorflow/cc/saved_model/reader.cc:45] Reading SavedModel from: /tmp/tmppbibx5nt\n",
      "2022-11-09 15:18:34.025759: I tensorflow/cc/saved_model/reader.cc:89] Reading meta graph with tags { serve }\n",
      "2022-11-09 15:18:34.025812: I tensorflow/cc/saved_model/reader.cc:130] Reading SavedModel debug info (if present) from: /tmp/tmppbibx5nt\n",
      "2022-11-09 15:18:34.033162: I tensorflow/cc/saved_model/loader.cc:229] Restoring SavedModel bundle.\n",
      "2022-11-09 15:18:34.096793: I tensorflow/cc/saved_model/loader.cc:213] Running initialization op on SavedModel bundle at path: /tmp/tmppbibx5nt\n",
      "2022-11-09 15:18:34.113921: I tensorflow/cc/saved_model/loader.cc:305] SavedModel load for tags { serve }; Status: success: OK. Took 90376 microseconds.\n",
      "WARNING:absl:Found untraced functions such as _jit_compiled_convolution_op, _jit_compiled_convolution_op while saving (showing 2 of 2). These functions will not be directly callable after loading.\n"
     ]
    },
    {
     "name": "stdout",
     "output_type": "stream",
     "text": [
      "INFO:tensorflow:Assets written to: /tmp/tmps1rl0cvu/assets\n"
     ]
    },
    {
     "name": "stderr",
     "output_type": "stream",
     "text": [
      "INFO:tensorflow:Assets written to: /tmp/tmps1rl0cvu/assets\n",
      "2022-11-09 15:18:36.111332: W tensorflow/compiler/mlir/lite/python/tf_tfl_flatbuffer_helpers.cc:362] Ignored output_format.\n",
      "2022-11-09 15:18:36.111435: W tensorflow/compiler/mlir/lite/python/tf_tfl_flatbuffer_helpers.cc:365] Ignored drop_control_dependency.\n",
      "2022-11-09 15:18:36.111664: I tensorflow/cc/saved_model/reader.cc:45] Reading SavedModel from: /tmp/tmps1rl0cvu\n",
      "2022-11-09 15:18:36.113910: I tensorflow/cc/saved_model/reader.cc:89] Reading meta graph with tags { serve }\n",
      "2022-11-09 15:18:36.113970: I tensorflow/cc/saved_model/reader.cc:130] Reading SavedModel debug info (if present) from: /tmp/tmps1rl0cvu\n",
      "2022-11-09 15:18:36.121724: I tensorflow/cc/saved_model/loader.cc:229] Restoring SavedModel bundle.\n",
      "2022-11-09 15:18:36.189276: I tensorflow/cc/saved_model/loader.cc:213] Running initialization op on SavedModel bundle at path: /tmp/tmps1rl0cvu\n",
      "2022-11-09 15:18:36.207751: I tensorflow/cc/saved_model/loader.cc:305] SavedModel load for tags { serve }; Status: success: OK. Took 96086 microseconds.\n",
      "WARNING:absl:Found untraced functions such as _jit_compiled_convolution_op, _jit_compiled_convolution_op while saving (showing 2 of 2). These functions will not be directly callable after loading.\n"
     ]
    },
    {
     "name": "stdout",
     "output_type": "stream",
     "text": [
      "INFO:tensorflow:Assets written to: /tmp/tmps2l5dgib/assets\n"
     ]
    },
    {
     "name": "stderr",
     "output_type": "stream",
     "text": [
      "INFO:tensorflow:Assets written to: /tmp/tmps2l5dgib/assets\n",
      "2022-11-09 15:18:38.201865: W tensorflow/compiler/mlir/lite/python/tf_tfl_flatbuffer_helpers.cc:362] Ignored output_format.\n",
      "2022-11-09 15:18:38.201993: W tensorflow/compiler/mlir/lite/python/tf_tfl_flatbuffer_helpers.cc:365] Ignored drop_control_dependency.\n",
      "2022-11-09 15:18:38.202256: I tensorflow/cc/saved_model/reader.cc:45] Reading SavedModel from: /tmp/tmps2l5dgib\n",
      "2022-11-09 15:18:38.204551: I tensorflow/cc/saved_model/reader.cc:89] Reading meta graph with tags { serve }\n",
      "2022-11-09 15:18:38.204612: I tensorflow/cc/saved_model/reader.cc:130] Reading SavedModel debug info (if present) from: /tmp/tmps2l5dgib\n",
      "2022-11-09 15:18:38.212247: I tensorflow/cc/saved_model/loader.cc:229] Restoring SavedModel bundle.\n",
      "2022-11-09 15:18:38.276092: I tensorflow/cc/saved_model/loader.cc:213] Running initialization op on SavedModel bundle at path: /tmp/tmps2l5dgib\n",
      "2022-11-09 15:18:38.295387: I tensorflow/cc/saved_model/loader.cc:305] SavedModel load for tags { serve }; Status: success: OK. Took 93131 microseconds.\n",
      "WARNING:absl:Found untraced functions such as _jit_compiled_convolution_op, _jit_compiled_convolution_op while saving (showing 2 of 2). These functions will not be directly callable after loading.\n"
     ]
    },
    {
     "name": "stdout",
     "output_type": "stream",
     "text": [
      "INFO:tensorflow:Assets written to: /tmp/tmpeg38y1vq/assets\n"
     ]
    },
    {
     "name": "stderr",
     "output_type": "stream",
     "text": [
      "INFO:tensorflow:Assets written to: /tmp/tmpeg38y1vq/assets\n",
      "2022-11-09 15:18:40.173348: W tensorflow/compiler/mlir/lite/python/tf_tfl_flatbuffer_helpers.cc:362] Ignored output_format.\n",
      "2022-11-09 15:18:40.173447: W tensorflow/compiler/mlir/lite/python/tf_tfl_flatbuffer_helpers.cc:365] Ignored drop_control_dependency.\n",
      "2022-11-09 15:18:40.173683: I tensorflow/cc/saved_model/reader.cc:45] Reading SavedModel from: /tmp/tmpeg38y1vq\n",
      "2022-11-09 15:18:40.175947: I tensorflow/cc/saved_model/reader.cc:89] Reading meta graph with tags { serve }\n",
      "2022-11-09 15:18:40.175997: I tensorflow/cc/saved_model/reader.cc:130] Reading SavedModel debug info (if present) from: /tmp/tmpeg38y1vq\n",
      "2022-11-09 15:18:40.183407: I tensorflow/cc/saved_model/loader.cc:229] Restoring SavedModel bundle.\n",
      "2022-11-09 15:18:40.246674: I tensorflow/cc/saved_model/loader.cc:213] Running initialization op on SavedModel bundle at path: /tmp/tmpeg38y1vq\n",
      "2022-11-09 15:18:40.263744: I tensorflow/cc/saved_model/loader.cc:305] SavedModel load for tags { serve }; Status: success: OK. Took 90060 microseconds.\n",
      "WARNING:absl:Found untraced functions such as _jit_compiled_convolution_op, _jit_compiled_convolution_op while saving (showing 2 of 2). These functions will not be directly callable after loading.\n"
     ]
    },
    {
     "name": "stdout",
     "output_type": "stream",
     "text": [
      "INFO:tensorflow:Assets written to: /tmp/tmpo6p0p84f/assets\n"
     ]
    },
    {
     "name": "stderr",
     "output_type": "stream",
     "text": [
      "INFO:tensorflow:Assets written to: /tmp/tmpo6p0p84f/assets\n",
      "2022-11-09 15:18:42.202663: W tensorflow/compiler/mlir/lite/python/tf_tfl_flatbuffer_helpers.cc:362] Ignored output_format.\n",
      "2022-11-09 15:18:42.202763: W tensorflow/compiler/mlir/lite/python/tf_tfl_flatbuffer_helpers.cc:365] Ignored drop_control_dependency.\n",
      "2022-11-09 15:18:42.203182: I tensorflow/cc/saved_model/reader.cc:45] Reading SavedModel from: /tmp/tmpo6p0p84f\n",
      "2022-11-09 15:18:42.205490: I tensorflow/cc/saved_model/reader.cc:89] Reading meta graph with tags { serve }\n",
      "2022-11-09 15:18:42.205549: I tensorflow/cc/saved_model/reader.cc:130] Reading SavedModel debug info (if present) from: /tmp/tmpo6p0p84f\n",
      "2022-11-09 15:18:42.213755: I tensorflow/cc/saved_model/loader.cc:229] Restoring SavedModel bundle.\n",
      "2022-11-09 15:18:42.283162: I tensorflow/cc/saved_model/loader.cc:213] Running initialization op on SavedModel bundle at path: /tmp/tmpo6p0p84f\n",
      "2022-11-09 15:18:42.300323: I tensorflow/cc/saved_model/loader.cc:305] SavedModel load for tags { serve }; Status: success: OK. Took 97149 microseconds.\n",
      "WARNING:absl:Found untraced functions such as _jit_compiled_convolution_op, _jit_compiled_convolution_op while saving (showing 2 of 2). These functions will not be directly callable after loading.\n"
     ]
    },
    {
     "name": "stdout",
     "output_type": "stream",
     "text": [
      "INFO:tensorflow:Assets written to: /tmp/tmphpkkpkcg/assets\n"
     ]
    },
    {
     "name": "stderr",
     "output_type": "stream",
     "text": [
      "INFO:tensorflow:Assets written to: /tmp/tmphpkkpkcg/assets\n",
      "2022-11-09 15:18:47.606833: W tensorflow/compiler/mlir/lite/python/tf_tfl_flatbuffer_helpers.cc:362] Ignored output_format.\n",
      "2022-11-09 15:18:47.606933: W tensorflow/compiler/mlir/lite/python/tf_tfl_flatbuffer_helpers.cc:365] Ignored drop_control_dependency.\n",
      "2022-11-09 15:18:47.607181: I tensorflow/cc/saved_model/reader.cc:45] Reading SavedModel from: /tmp/tmphpkkpkcg\n",
      "2022-11-09 15:18:47.612686: I tensorflow/cc/saved_model/reader.cc:89] Reading meta graph with tags { serve }\n",
      "2022-11-09 15:18:47.612755: I tensorflow/cc/saved_model/reader.cc:130] Reading SavedModel debug info (if present) from: /tmp/tmphpkkpkcg\n",
      "2022-11-09 15:18:47.633758: I tensorflow/cc/saved_model/loader.cc:229] Restoring SavedModel bundle.\n",
      "2022-11-09 15:18:47.740169: I tensorflow/cc/saved_model/loader.cc:213] Running initialization op on SavedModel bundle at path: /tmp/tmphpkkpkcg\n",
      "2022-11-09 15:18:47.774752: I tensorflow/cc/saved_model/loader.cc:305] SavedModel load for tags { serve }; Status: success: OK. Took 167571 microseconds.\n",
      "WARNING:absl:Found untraced functions such as _jit_compiled_convolution_op, _jit_compiled_convolution_op while saving (showing 2 of 2). These functions will not be directly callable after loading.\n"
     ]
    },
    {
     "name": "stdout",
     "output_type": "stream",
     "text": [
      "INFO:tensorflow:Assets written to: /tmp/tmpqhzqbhrm/assets\n"
     ]
    },
    {
     "name": "stderr",
     "output_type": "stream",
     "text": [
      "INFO:tensorflow:Assets written to: /tmp/tmpqhzqbhrm/assets\n",
      "2022-11-09 15:18:49.973581: W tensorflow/compiler/mlir/lite/python/tf_tfl_flatbuffer_helpers.cc:362] Ignored output_format.\n",
      "2022-11-09 15:18:49.973668: W tensorflow/compiler/mlir/lite/python/tf_tfl_flatbuffer_helpers.cc:365] Ignored drop_control_dependency.\n",
      "2022-11-09 15:18:49.973900: I tensorflow/cc/saved_model/reader.cc:45] Reading SavedModel from: /tmp/tmpqhzqbhrm\n",
      "2022-11-09 15:18:49.977371: I tensorflow/cc/saved_model/reader.cc:89] Reading meta graph with tags { serve }\n",
      "2022-11-09 15:18:49.977450: I tensorflow/cc/saved_model/reader.cc:130] Reading SavedModel debug info (if present) from: /tmp/tmpqhzqbhrm\n",
      "2022-11-09 15:18:49.989459: I tensorflow/cc/saved_model/loader.cc:229] Restoring SavedModel bundle.\n",
      "2022-11-09 15:18:50.071389: I tensorflow/cc/saved_model/loader.cc:213] Running initialization op on SavedModel bundle at path: /tmp/tmpqhzqbhrm\n",
      "2022-11-09 15:18:50.094789: I tensorflow/cc/saved_model/loader.cc:305] SavedModel load for tags { serve }; Status: success: OK. Took 120888 microseconds.\n",
      "WARNING:absl:Found untraced functions such as _jit_compiled_convolution_op, _jit_compiled_convolution_op while saving (showing 2 of 2). These functions will not be directly callable after loading.\n"
     ]
    },
    {
     "name": "stdout",
     "output_type": "stream",
     "text": [
      "INFO:tensorflow:Assets written to: /tmp/tmpsaqgsaoq/assets\n"
     ]
    },
    {
     "name": "stderr",
     "output_type": "stream",
     "text": [
      "INFO:tensorflow:Assets written to: /tmp/tmpsaqgsaoq/assets\n",
      "2022-11-09 15:18:52.182058: W tensorflow/compiler/mlir/lite/python/tf_tfl_flatbuffer_helpers.cc:362] Ignored output_format.\n",
      "2022-11-09 15:18:52.182181: W tensorflow/compiler/mlir/lite/python/tf_tfl_flatbuffer_helpers.cc:365] Ignored drop_control_dependency.\n",
      "2022-11-09 15:18:52.182428: I tensorflow/cc/saved_model/reader.cc:45] Reading SavedModel from: /tmp/tmpsaqgsaoq\n",
      "2022-11-09 15:18:52.185149: I tensorflow/cc/saved_model/reader.cc:89] Reading meta graph with tags { serve }\n",
      "2022-11-09 15:18:52.185213: I tensorflow/cc/saved_model/reader.cc:130] Reading SavedModel debug info (if present) from: /tmp/tmpsaqgsaoq\n",
      "2022-11-09 15:18:52.195196: I tensorflow/cc/saved_model/loader.cc:229] Restoring SavedModel bundle.\n",
      "2022-11-09 15:18:52.273577: I tensorflow/cc/saved_model/loader.cc:213] Running initialization op on SavedModel bundle at path: /tmp/tmpsaqgsaoq\n",
      "2022-11-09 15:18:52.296792: I tensorflow/cc/saved_model/loader.cc:305] SavedModel load for tags { serve }; Status: success: OK. Took 114362 microseconds.\n",
      "WARNING:absl:Found untraced functions such as _jit_compiled_convolution_op, _jit_compiled_convolution_op while saving (showing 2 of 2). These functions will not be directly callable after loading.\n"
     ]
    },
    {
     "name": "stdout",
     "output_type": "stream",
     "text": [
      "INFO:tensorflow:Assets written to: /tmp/tmp36mdzg1l/assets\n"
     ]
    },
    {
     "name": "stderr",
     "output_type": "stream",
     "text": [
      "INFO:tensorflow:Assets written to: /tmp/tmp36mdzg1l/assets\n",
      "2022-11-09 15:18:54.243284: W tensorflow/compiler/mlir/lite/python/tf_tfl_flatbuffer_helpers.cc:362] Ignored output_format.\n",
      "2022-11-09 15:18:54.243382: W tensorflow/compiler/mlir/lite/python/tf_tfl_flatbuffer_helpers.cc:365] Ignored drop_control_dependency.\n",
      "2022-11-09 15:18:54.243620: I tensorflow/cc/saved_model/reader.cc:45] Reading SavedModel from: /tmp/tmp36mdzg1l\n",
      "2022-11-09 15:18:54.246012: I tensorflow/cc/saved_model/reader.cc:89] Reading meta graph with tags { serve }\n",
      "2022-11-09 15:18:54.246106: I tensorflow/cc/saved_model/reader.cc:130] Reading SavedModel debug info (if present) from: /tmp/tmp36mdzg1l\n",
      "2022-11-09 15:18:54.254541: I tensorflow/cc/saved_model/loader.cc:229] Restoring SavedModel bundle.\n",
      "2022-11-09 15:18:54.322839: I tensorflow/cc/saved_model/loader.cc:213] Running initialization op on SavedModel bundle at path: /tmp/tmp36mdzg1l\n",
      "2022-11-09 15:18:54.343022: I tensorflow/cc/saved_model/loader.cc:305] SavedModel load for tags { serve }; Status: success: OK. Took 99403 microseconds.\n",
      "WARNING:absl:Found untraced functions such as _jit_compiled_convolution_op, _jit_compiled_convolution_op while saving (showing 2 of 2). These functions will not be directly callable after loading.\n"
     ]
    },
    {
     "name": "stdout",
     "output_type": "stream",
     "text": [
      "INFO:tensorflow:Assets written to: /tmp/tmpvsbkcr6c/assets\n"
     ]
    },
    {
     "name": "stderr",
     "output_type": "stream",
     "text": [
      "INFO:tensorflow:Assets written to: /tmp/tmpvsbkcr6c/assets\n",
      "2022-11-09 15:18:56.269484: W tensorflow/compiler/mlir/lite/python/tf_tfl_flatbuffer_helpers.cc:362] Ignored output_format.\n",
      "2022-11-09 15:18:56.269584: W tensorflow/compiler/mlir/lite/python/tf_tfl_flatbuffer_helpers.cc:365] Ignored drop_control_dependency.\n",
      "2022-11-09 15:18:56.269850: I tensorflow/cc/saved_model/reader.cc:45] Reading SavedModel from: /tmp/tmpvsbkcr6c\n",
      "2022-11-09 15:18:56.272221: I tensorflow/cc/saved_model/reader.cc:89] Reading meta graph with tags { serve }\n",
      "2022-11-09 15:18:56.272282: I tensorflow/cc/saved_model/reader.cc:130] Reading SavedModel debug info (if present) from: /tmp/tmpvsbkcr6c\n",
      "2022-11-09 15:18:56.280753: I tensorflow/cc/saved_model/loader.cc:229] Restoring SavedModel bundle.\n",
      "2022-11-09 15:18:56.352126: I tensorflow/cc/saved_model/loader.cc:213] Running initialization op on SavedModel bundle at path: /tmp/tmpvsbkcr6c\n",
      "2022-11-09 15:18:56.373779: I tensorflow/cc/saved_model/loader.cc:305] SavedModel load for tags { serve }; Status: success: OK. Took 103928 microseconds.\n",
      "WARNING:absl:Found untraced functions such as _jit_compiled_convolution_op, _jit_compiled_convolution_op while saving (showing 2 of 2). These functions will not be directly callable after loading.\n"
     ]
    },
    {
     "name": "stdout",
     "output_type": "stream",
     "text": [
      "INFO:tensorflow:Assets written to: /tmp/tmpx1lqn878/assets\n"
     ]
    },
    {
     "name": "stderr",
     "output_type": "stream",
     "text": [
      "INFO:tensorflow:Assets written to: /tmp/tmpx1lqn878/assets\n",
      "2022-11-09 15:18:58.314590: W tensorflow/compiler/mlir/lite/python/tf_tfl_flatbuffer_helpers.cc:362] Ignored output_format.\n",
      "2022-11-09 15:18:58.314684: W tensorflow/compiler/mlir/lite/python/tf_tfl_flatbuffer_helpers.cc:365] Ignored drop_control_dependency.\n",
      "2022-11-09 15:18:58.314906: I tensorflow/cc/saved_model/reader.cc:45] Reading SavedModel from: /tmp/tmpx1lqn878\n",
      "2022-11-09 15:18:58.317168: I tensorflow/cc/saved_model/reader.cc:89] Reading meta graph with tags { serve }\n",
      "2022-11-09 15:18:58.317217: I tensorflow/cc/saved_model/reader.cc:130] Reading SavedModel debug info (if present) from: /tmp/tmpx1lqn878\n",
      "2022-11-09 15:18:58.325377: I tensorflow/cc/saved_model/loader.cc:229] Restoring SavedModel bundle.\n",
      "2022-11-09 15:18:58.393949: I tensorflow/cc/saved_model/loader.cc:213] Running initialization op on SavedModel bundle at path: /tmp/tmpx1lqn878\n",
      "2022-11-09 15:18:58.412993: I tensorflow/cc/saved_model/loader.cc:305] SavedModel load for tags { serve }; Status: success: OK. Took 98085 microseconds.\n",
      "WARNING:absl:Found untraced functions such as _jit_compiled_convolution_op, _jit_compiled_convolution_op while saving (showing 2 of 2). These functions will not be directly callable after loading.\n"
     ]
    },
    {
     "name": "stdout",
     "output_type": "stream",
     "text": [
      "INFO:tensorflow:Assets written to: /tmp/tmpnjs0xsac/assets\n"
     ]
    },
    {
     "name": "stderr",
     "output_type": "stream",
     "text": [
      "INFO:tensorflow:Assets written to: /tmp/tmpnjs0xsac/assets\n",
      "2022-11-09 15:19:00.354197: W tensorflow/compiler/mlir/lite/python/tf_tfl_flatbuffer_helpers.cc:362] Ignored output_format.\n",
      "2022-11-09 15:19:00.354294: W tensorflow/compiler/mlir/lite/python/tf_tfl_flatbuffer_helpers.cc:365] Ignored drop_control_dependency.\n",
      "2022-11-09 15:19:00.354516: I tensorflow/cc/saved_model/reader.cc:45] Reading SavedModel from: /tmp/tmpnjs0xsac\n",
      "2022-11-09 15:19:00.356782: I tensorflow/cc/saved_model/reader.cc:89] Reading meta graph with tags { serve }\n",
      "2022-11-09 15:19:00.356840: I tensorflow/cc/saved_model/reader.cc:130] Reading SavedModel debug info (if present) from: /tmp/tmpnjs0xsac\n",
      "2022-11-09 15:19:00.365071: I tensorflow/cc/saved_model/loader.cc:229] Restoring SavedModel bundle.\n",
      "2022-11-09 15:19:00.434191: I tensorflow/cc/saved_model/loader.cc:213] Running initialization op on SavedModel bundle at path: /tmp/tmpnjs0xsac\n",
      "2022-11-09 15:19:00.451837: I tensorflow/cc/saved_model/loader.cc:305] SavedModel load for tags { serve }; Status: success: OK. Took 97320 microseconds.\n",
      "WARNING:absl:Found untraced functions such as _jit_compiled_convolution_op, _jit_compiled_convolution_op while saving (showing 2 of 2). These functions will not be directly callable after loading.\n"
     ]
    },
    {
     "name": "stdout",
     "output_type": "stream",
     "text": [
      "INFO:tensorflow:Assets written to: /tmp/tmpgwg3jdra/assets\n"
     ]
    },
    {
     "name": "stderr",
     "output_type": "stream",
     "text": [
      "INFO:tensorflow:Assets written to: /tmp/tmpgwg3jdra/assets\n",
      "2022-11-09 15:19:02.407380: W tensorflow/compiler/mlir/lite/python/tf_tfl_flatbuffer_helpers.cc:362] Ignored output_format.\n",
      "2022-11-09 15:19:02.407477: W tensorflow/compiler/mlir/lite/python/tf_tfl_flatbuffer_helpers.cc:365] Ignored drop_control_dependency.\n",
      "2022-11-09 15:19:02.407710: I tensorflow/cc/saved_model/reader.cc:45] Reading SavedModel from: /tmp/tmpgwg3jdra\n",
      "2022-11-09 15:19:02.410025: I tensorflow/cc/saved_model/reader.cc:89] Reading meta graph with tags { serve }\n",
      "2022-11-09 15:19:02.410134: I tensorflow/cc/saved_model/reader.cc:130] Reading SavedModel debug info (if present) from: /tmp/tmpgwg3jdra\n",
      "2022-11-09 15:19:02.418152: I tensorflow/cc/saved_model/loader.cc:229] Restoring SavedModel bundle.\n",
      "2022-11-09 15:19:02.487282: I tensorflow/cc/saved_model/loader.cc:213] Running initialization op on SavedModel bundle at path: /tmp/tmpgwg3jdra\n",
      "2022-11-09 15:19:02.506133: I tensorflow/cc/saved_model/loader.cc:305] SavedModel load for tags { serve }; Status: success: OK. Took 98423 microseconds.\n",
      "WARNING:absl:Found untraced functions such as _jit_compiled_convolution_op, _jit_compiled_convolution_op while saving (showing 2 of 2). These functions will not be directly callable after loading.\n"
     ]
    },
    {
     "name": "stdout",
     "output_type": "stream",
     "text": [
      "INFO:tensorflow:Assets written to: /tmp/tmpy0uncq1d/assets\n"
     ]
    },
    {
     "name": "stderr",
     "output_type": "stream",
     "text": [
      "INFO:tensorflow:Assets written to: /tmp/tmpy0uncq1d/assets\n",
      "2022-11-09 15:19:04.389709: W tensorflow/compiler/mlir/lite/python/tf_tfl_flatbuffer_helpers.cc:362] Ignored output_format.\n",
      "2022-11-09 15:19:04.389812: W tensorflow/compiler/mlir/lite/python/tf_tfl_flatbuffer_helpers.cc:365] Ignored drop_control_dependency.\n",
      "2022-11-09 15:19:04.390037: I tensorflow/cc/saved_model/reader.cc:45] Reading SavedModel from: /tmp/tmpy0uncq1d\n",
      "2022-11-09 15:19:04.392300: I tensorflow/cc/saved_model/reader.cc:89] Reading meta graph with tags { serve }\n",
      "2022-11-09 15:19:04.392360: I tensorflow/cc/saved_model/reader.cc:130] Reading SavedModel debug info (if present) from: /tmp/tmpy0uncq1d\n",
      "2022-11-09 15:19:04.400277: I tensorflow/cc/saved_model/loader.cc:229] Restoring SavedModel bundle.\n",
      "2022-11-09 15:19:04.468897: I tensorflow/cc/saved_model/loader.cc:213] Running initialization op on SavedModel bundle at path: /tmp/tmpy0uncq1d\n",
      "2022-11-09 15:19:04.487310: I tensorflow/cc/saved_model/loader.cc:305] SavedModel load for tags { serve }; Status: success: OK. Took 97271 microseconds.\n",
      "WARNING:absl:Found untraced functions such as _jit_compiled_convolution_op, _jit_compiled_convolution_op while saving (showing 2 of 2). These functions will not be directly callable after loading.\n"
     ]
    },
    {
     "name": "stdout",
     "output_type": "stream",
     "text": [
      "INFO:tensorflow:Assets written to: /tmp/tmppky3qhoo/assets\n"
     ]
    },
    {
     "name": "stderr",
     "output_type": "stream",
     "text": [
      "INFO:tensorflow:Assets written to: /tmp/tmppky3qhoo/assets\n",
      "2022-11-09 15:19:06.443051: W tensorflow/compiler/mlir/lite/python/tf_tfl_flatbuffer_helpers.cc:362] Ignored output_format.\n",
      "2022-11-09 15:19:06.443161: W tensorflow/compiler/mlir/lite/python/tf_tfl_flatbuffer_helpers.cc:365] Ignored drop_control_dependency.\n",
      "2022-11-09 15:19:06.443384: I tensorflow/cc/saved_model/reader.cc:45] Reading SavedModel from: /tmp/tmppky3qhoo\n",
      "2022-11-09 15:19:06.445638: I tensorflow/cc/saved_model/reader.cc:89] Reading meta graph with tags { serve }\n",
      "2022-11-09 15:19:06.445706: I tensorflow/cc/saved_model/reader.cc:130] Reading SavedModel debug info (if present) from: /tmp/tmppky3qhoo\n",
      "2022-11-09 15:19:06.453604: I tensorflow/cc/saved_model/loader.cc:229] Restoring SavedModel bundle.\n",
      "2022-11-09 15:19:06.520753: I tensorflow/cc/saved_model/loader.cc:213] Running initialization op on SavedModel bundle at path: /tmp/tmppky3qhoo\n",
      "2022-11-09 15:19:06.538690: I tensorflow/cc/saved_model/loader.cc:305] SavedModel load for tags { serve }; Status: success: OK. Took 95305 microseconds.\n",
      "WARNING:absl:Found untraced functions such as _jit_compiled_convolution_op, _jit_compiled_convolution_op while saving (showing 2 of 2). These functions will not be directly callable after loading.\n"
     ]
    },
    {
     "name": "stdout",
     "output_type": "stream",
     "text": [
      "INFO:tensorflow:Assets written to: /tmp/tmp0x4audua/assets\n"
     ]
    },
    {
     "name": "stderr",
     "output_type": "stream",
     "text": [
      "INFO:tensorflow:Assets written to: /tmp/tmp0x4audua/assets\n",
      "2022-11-09 15:19:10.919927: W tensorflow/compiler/mlir/lite/python/tf_tfl_flatbuffer_helpers.cc:362] Ignored output_format.\n",
      "2022-11-09 15:19:10.920031: W tensorflow/compiler/mlir/lite/python/tf_tfl_flatbuffer_helpers.cc:365] Ignored drop_control_dependency.\n",
      "2022-11-09 15:19:10.920294: I tensorflow/cc/saved_model/reader.cc:45] Reading SavedModel from: /tmp/tmp0x4audua\n",
      "2022-11-09 15:19:10.927581: I tensorflow/cc/saved_model/reader.cc:89] Reading meta graph with tags { serve }\n",
      "2022-11-09 15:19:10.927655: I tensorflow/cc/saved_model/reader.cc:130] Reading SavedModel debug info (if present) from: /tmp/tmp0x4audua\n",
      "2022-11-09 15:19:10.965999: I tensorflow/cc/saved_model/loader.cc:229] Restoring SavedModel bundle.\n",
      "2022-11-09 15:19:11.171515: I tensorflow/cc/saved_model/loader.cc:213] Running initialization op on SavedModel bundle at path: /tmp/tmp0x4audua\n",
      "2022-11-09 15:19:11.231237: I tensorflow/cc/saved_model/loader.cc:305] SavedModel load for tags { serve }; Status: success: OK. Took 310937 microseconds.\n",
      "WARNING:absl:Found untraced functions such as _jit_compiled_convolution_op, _jit_compiled_convolution_op while saving (showing 2 of 2). These functions will not be directly callable after loading.\n"
     ]
    },
    {
     "name": "stdout",
     "output_type": "stream",
     "text": [
      "INFO:tensorflow:Assets written to: /tmp/tmp8ut15ugt/assets\n"
     ]
    },
    {
     "name": "stderr",
     "output_type": "stream",
     "text": [
      "INFO:tensorflow:Assets written to: /tmp/tmp8ut15ugt/assets\n",
      "2022-11-09 15:19:13.821518: W tensorflow/compiler/mlir/lite/python/tf_tfl_flatbuffer_helpers.cc:362] Ignored output_format.\n",
      "2022-11-09 15:19:13.821611: W tensorflow/compiler/mlir/lite/python/tf_tfl_flatbuffer_helpers.cc:365] Ignored drop_control_dependency.\n",
      "2022-11-09 15:19:13.821843: I tensorflow/cc/saved_model/reader.cc:45] Reading SavedModel from: /tmp/tmp8ut15ugt\n",
      "2022-11-09 15:19:13.827280: I tensorflow/cc/saved_model/reader.cc:89] Reading meta graph with tags { serve }\n",
      "2022-11-09 15:19:13.827347: I tensorflow/cc/saved_model/reader.cc:130] Reading SavedModel debug info (if present) from: /tmp/tmp8ut15ugt\n",
      "2022-11-09 15:19:13.847034: I tensorflow/cc/saved_model/loader.cc:229] Restoring SavedModel bundle.\n",
      "2022-11-09 15:19:13.941636: I tensorflow/cc/saved_model/loader.cc:213] Running initialization op on SavedModel bundle at path: /tmp/tmp8ut15ugt\n",
      "2022-11-09 15:19:13.971369: I tensorflow/cc/saved_model/loader.cc:305] SavedModel load for tags { serve }; Status: success: OK. Took 149523 microseconds.\n",
      "WARNING:absl:Found untraced functions such as _jit_compiled_convolution_op, _jit_compiled_convolution_op while saving (showing 2 of 2). These functions will not be directly callable after loading.\n"
     ]
    },
    {
     "name": "stdout",
     "output_type": "stream",
     "text": [
      "INFO:tensorflow:Assets written to: /tmp/tmpocouuijf/assets\n"
     ]
    },
    {
     "name": "stderr",
     "output_type": "stream",
     "text": [
      "INFO:tensorflow:Assets written to: /tmp/tmpocouuijf/assets\n",
      "2022-11-09 15:19:16.126968: W tensorflow/compiler/mlir/lite/python/tf_tfl_flatbuffer_helpers.cc:362] Ignored output_format.\n",
      "2022-11-09 15:19:16.127064: W tensorflow/compiler/mlir/lite/python/tf_tfl_flatbuffer_helpers.cc:365] Ignored drop_control_dependency.\n",
      "2022-11-09 15:19:16.127287: I tensorflow/cc/saved_model/reader.cc:45] Reading SavedModel from: /tmp/tmpocouuijf\n",
      "2022-11-09 15:19:16.130581: I tensorflow/cc/saved_model/reader.cc:89] Reading meta graph with tags { serve }\n",
      "2022-11-09 15:19:16.130629: I tensorflow/cc/saved_model/reader.cc:130] Reading SavedModel debug info (if present) from: /tmp/tmpocouuijf\n",
      "2022-11-09 15:19:16.141277: I tensorflow/cc/saved_model/loader.cc:229] Restoring SavedModel bundle.\n",
      "2022-11-09 15:19:16.209913: I tensorflow/cc/saved_model/loader.cc:213] Running initialization op on SavedModel bundle at path: /tmp/tmpocouuijf\n",
      "2022-11-09 15:19:16.229465: I tensorflow/cc/saved_model/loader.cc:305] SavedModel load for tags { serve }; Status: success: OK. Took 102177 microseconds.\n",
      "WARNING:absl:Found untraced functions such as _jit_compiled_convolution_op, _jit_compiled_convolution_op while saving (showing 2 of 2). These functions will not be directly callable after loading.\n"
     ]
    },
    {
     "name": "stdout",
     "output_type": "stream",
     "text": [
      "INFO:tensorflow:Assets written to: /tmp/tmp481bh5ve/assets\n"
     ]
    },
    {
     "name": "stderr",
     "output_type": "stream",
     "text": [
      "INFO:tensorflow:Assets written to: /tmp/tmp481bh5ve/assets\n",
      "2022-11-09 15:19:18.254199: W tensorflow/compiler/mlir/lite/python/tf_tfl_flatbuffer_helpers.cc:362] Ignored output_format.\n",
      "2022-11-09 15:19:18.254301: W tensorflow/compiler/mlir/lite/python/tf_tfl_flatbuffer_helpers.cc:365] Ignored drop_control_dependency.\n",
      "2022-11-09 15:19:18.254541: I tensorflow/cc/saved_model/reader.cc:45] Reading SavedModel from: /tmp/tmp481bh5ve\n",
      "2022-11-09 15:19:18.257314: I tensorflow/cc/saved_model/reader.cc:89] Reading meta graph with tags { serve }\n",
      "2022-11-09 15:19:18.257385: I tensorflow/cc/saved_model/reader.cc:130] Reading SavedModel debug info (if present) from: /tmp/tmp481bh5ve\n",
      "2022-11-09 15:19:18.268055: I tensorflow/cc/saved_model/loader.cc:229] Restoring SavedModel bundle.\n",
      "2022-11-09 15:19:18.347999: I tensorflow/cc/saved_model/loader.cc:213] Running initialization op on SavedModel bundle at path: /tmp/tmp481bh5ve\n",
      "2022-11-09 15:19:18.370588: I tensorflow/cc/saved_model/loader.cc:305] SavedModel load for tags { serve }; Status: success: OK. Took 116047 microseconds.\n",
      "WARNING:absl:Found untraced functions such as _jit_compiled_convolution_op, _jit_compiled_convolution_op while saving (showing 2 of 2). These functions will not be directly callable after loading.\n"
     ]
    },
    {
     "name": "stdout",
     "output_type": "stream",
     "text": [
      "INFO:tensorflow:Assets written to: /tmp/tmpi7ew34pp/assets\n"
     ]
    },
    {
     "name": "stderr",
     "output_type": "stream",
     "text": [
      "INFO:tensorflow:Assets written to: /tmp/tmpi7ew34pp/assets\n",
      "2022-11-09 15:19:20.385544: W tensorflow/compiler/mlir/lite/python/tf_tfl_flatbuffer_helpers.cc:362] Ignored output_format.\n",
      "2022-11-09 15:19:20.385639: W tensorflow/compiler/mlir/lite/python/tf_tfl_flatbuffer_helpers.cc:365] Ignored drop_control_dependency.\n",
      "2022-11-09 15:19:20.385861: I tensorflow/cc/saved_model/reader.cc:45] Reading SavedModel from: /tmp/tmpi7ew34pp\n",
      "2022-11-09 15:19:20.388377: I tensorflow/cc/saved_model/reader.cc:89] Reading meta graph with tags { serve }\n",
      "2022-11-09 15:19:20.388438: I tensorflow/cc/saved_model/reader.cc:130] Reading SavedModel debug info (if present) from: /tmp/tmpi7ew34pp\n",
      "2022-11-09 15:19:20.396755: I tensorflow/cc/saved_model/loader.cc:229] Restoring SavedModel bundle.\n",
      "2022-11-09 15:19:20.461814: I tensorflow/cc/saved_model/loader.cc:213] Running initialization op on SavedModel bundle at path: /tmp/tmpi7ew34pp\n",
      "2022-11-09 15:19:20.479412: I tensorflow/cc/saved_model/loader.cc:305] SavedModel load for tags { serve }; Status: success: OK. Took 93551 microseconds.\n",
      "WARNING:absl:Found untraced functions such as _jit_compiled_convolution_op, _jit_compiled_convolution_op while saving (showing 2 of 2). These functions will not be directly callable after loading.\n"
     ]
    },
    {
     "name": "stdout",
     "output_type": "stream",
     "text": [
      "INFO:tensorflow:Assets written to: /tmp/tmpb96vr6vc/assets\n"
     ]
    },
    {
     "name": "stderr",
     "output_type": "stream",
     "text": [
      "INFO:tensorflow:Assets written to: /tmp/tmpb96vr6vc/assets\n",
      "2022-11-09 15:19:22.445058: W tensorflow/compiler/mlir/lite/python/tf_tfl_flatbuffer_helpers.cc:362] Ignored output_format.\n",
      "2022-11-09 15:19:22.445155: W tensorflow/compiler/mlir/lite/python/tf_tfl_flatbuffer_helpers.cc:365] Ignored drop_control_dependency.\n",
      "2022-11-09 15:19:22.445376: I tensorflow/cc/saved_model/reader.cc:45] Reading SavedModel from: /tmp/tmpb96vr6vc\n",
      "2022-11-09 15:19:22.447867: I tensorflow/cc/saved_model/reader.cc:89] Reading meta graph with tags { serve }\n",
      "2022-11-09 15:19:22.447923: I tensorflow/cc/saved_model/reader.cc:130] Reading SavedModel debug info (if present) from: /tmp/tmpb96vr6vc\n",
      "2022-11-09 15:19:22.456141: I tensorflow/cc/saved_model/loader.cc:229] Restoring SavedModel bundle.\n",
      "2022-11-09 15:19:22.524799: I tensorflow/cc/saved_model/loader.cc:213] Running initialization op on SavedModel bundle at path: /tmp/tmpb96vr6vc\n",
      "2022-11-09 15:19:22.542661: I tensorflow/cc/saved_model/loader.cc:305] SavedModel load for tags { serve }; Status: success: OK. Took 97285 microseconds.\n",
      "WARNING:absl:Found untraced functions such as _jit_compiled_convolution_op, _jit_compiled_convolution_op while saving (showing 2 of 2). These functions will not be directly callable after loading.\n"
     ]
    },
    {
     "name": "stdout",
     "output_type": "stream",
     "text": [
      "INFO:tensorflow:Assets written to: /tmp/tmp7_b0ig7x/assets\n"
     ]
    },
    {
     "name": "stderr",
     "output_type": "stream",
     "text": [
      "INFO:tensorflow:Assets written to: /tmp/tmp7_b0ig7x/assets\n",
      "2022-11-09 15:19:24.575276: W tensorflow/compiler/mlir/lite/python/tf_tfl_flatbuffer_helpers.cc:362] Ignored output_format.\n",
      "2022-11-09 15:19:24.575382: W tensorflow/compiler/mlir/lite/python/tf_tfl_flatbuffer_helpers.cc:365] Ignored drop_control_dependency.\n",
      "2022-11-09 15:19:24.575616: I tensorflow/cc/saved_model/reader.cc:45] Reading SavedModel from: /tmp/tmp7_b0ig7x\n",
      "2022-11-09 15:19:24.578007: I tensorflow/cc/saved_model/reader.cc:89] Reading meta graph with tags { serve }\n",
      "2022-11-09 15:19:24.578114: I tensorflow/cc/saved_model/reader.cc:130] Reading SavedModel debug info (if present) from: /tmp/tmp7_b0ig7x\n",
      "2022-11-09 15:19:24.586839: I tensorflow/cc/saved_model/loader.cc:229] Restoring SavedModel bundle.\n",
      "2022-11-09 15:19:24.660152: I tensorflow/cc/saved_model/loader.cc:213] Running initialization op on SavedModel bundle at path: /tmp/tmp7_b0ig7x\n",
      "2022-11-09 15:19:24.681048: I tensorflow/cc/saved_model/loader.cc:305] SavedModel load for tags { serve }; Status: success: OK. Took 105431 microseconds.\n",
      "WARNING:absl:Found untraced functions such as _jit_compiled_convolution_op, _jit_compiled_convolution_op while saving (showing 2 of 2). These functions will not be directly callable after loading.\n"
     ]
    },
    {
     "name": "stdout",
     "output_type": "stream",
     "text": [
      "INFO:tensorflow:Assets written to: /tmp/tmpyzi7t7gg/assets\n"
     ]
    },
    {
     "name": "stderr",
     "output_type": "stream",
     "text": [
      "INFO:tensorflow:Assets written to: /tmp/tmpyzi7t7gg/assets\n",
      "2022-11-09 15:19:26.682262: W tensorflow/compiler/mlir/lite/python/tf_tfl_flatbuffer_helpers.cc:362] Ignored output_format.\n",
      "2022-11-09 15:19:26.682362: W tensorflow/compiler/mlir/lite/python/tf_tfl_flatbuffer_helpers.cc:365] Ignored drop_control_dependency.\n",
      "2022-11-09 15:19:26.682586: I tensorflow/cc/saved_model/reader.cc:45] Reading SavedModel from: /tmp/tmpyzi7t7gg\n",
      "2022-11-09 15:19:26.684934: I tensorflow/cc/saved_model/reader.cc:89] Reading meta graph with tags { serve }\n",
      "2022-11-09 15:19:26.685001: I tensorflow/cc/saved_model/reader.cc:130] Reading SavedModel debug info (if present) from: /tmp/tmpyzi7t7gg\n",
      "2022-11-09 15:19:26.693331: I tensorflow/cc/saved_model/loader.cc:229] Restoring SavedModel bundle.\n",
      "2022-11-09 15:19:26.762351: I tensorflow/cc/saved_model/loader.cc:213] Running initialization op on SavedModel bundle at path: /tmp/tmpyzi7t7gg\n",
      "2022-11-09 15:19:26.783469: I tensorflow/cc/saved_model/loader.cc:305] SavedModel load for tags { serve }; Status: success: OK. Took 100882 microseconds.\n",
      "WARNING:absl:Found untraced functions such as _jit_compiled_convolution_op, _jit_compiled_convolution_op while saving (showing 2 of 2). These functions will not be directly callable after loading.\n"
     ]
    },
    {
     "name": "stdout",
     "output_type": "stream",
     "text": [
      "INFO:tensorflow:Assets written to: /tmp/tmpxm1mqdx1/assets\n"
     ]
    },
    {
     "name": "stderr",
     "output_type": "stream",
     "text": [
      "INFO:tensorflow:Assets written to: /tmp/tmpxm1mqdx1/assets\n",
      "2022-11-09 15:19:28.735221: W tensorflow/compiler/mlir/lite/python/tf_tfl_flatbuffer_helpers.cc:362] Ignored output_format.\n",
      "2022-11-09 15:19:28.735328: W tensorflow/compiler/mlir/lite/python/tf_tfl_flatbuffer_helpers.cc:365] Ignored drop_control_dependency.\n",
      "2022-11-09 15:19:28.735582: I tensorflow/cc/saved_model/reader.cc:45] Reading SavedModel from: /tmp/tmpxm1mqdx1\n",
      "2022-11-09 15:19:28.737928: I tensorflow/cc/saved_model/reader.cc:89] Reading meta graph with tags { serve }\n",
      "2022-11-09 15:19:28.737997: I tensorflow/cc/saved_model/reader.cc:130] Reading SavedModel debug info (if present) from: /tmp/tmpxm1mqdx1\n",
      "2022-11-09 15:19:28.745952: I tensorflow/cc/saved_model/loader.cc:229] Restoring SavedModel bundle.\n",
      "2022-11-09 15:19:28.812758: I tensorflow/cc/saved_model/loader.cc:213] Running initialization op on SavedModel bundle at path: /tmp/tmpxm1mqdx1\n",
      "2022-11-09 15:19:28.829866: I tensorflow/cc/saved_model/loader.cc:305] SavedModel load for tags { serve }; Status: success: OK. Took 94283 microseconds.\n",
      "WARNING:absl:Found untraced functions such as _jit_compiled_convolution_op, _jit_compiled_convolution_op while saving (showing 2 of 2). These functions will not be directly callable after loading.\n"
     ]
    },
    {
     "name": "stdout",
     "output_type": "stream",
     "text": [
      "INFO:tensorflow:Assets written to: /tmp/tmpr1b_c1yt/assets\n"
     ]
    },
    {
     "name": "stderr",
     "output_type": "stream",
     "text": [
      "INFO:tensorflow:Assets written to: /tmp/tmpr1b_c1yt/assets\n",
      "2022-11-09 15:19:30.754511: W tensorflow/compiler/mlir/lite/python/tf_tfl_flatbuffer_helpers.cc:362] Ignored output_format.\n",
      "2022-11-09 15:19:30.754620: W tensorflow/compiler/mlir/lite/python/tf_tfl_flatbuffer_helpers.cc:365] Ignored drop_control_dependency.\n",
      "2022-11-09 15:19:30.754854: I tensorflow/cc/saved_model/reader.cc:45] Reading SavedModel from: /tmp/tmpr1b_c1yt\n",
      "2022-11-09 15:19:30.757244: I tensorflow/cc/saved_model/reader.cc:89] Reading meta graph with tags { serve }\n",
      "2022-11-09 15:19:30.757311: I tensorflow/cc/saved_model/reader.cc:130] Reading SavedModel debug info (if present) from: /tmp/tmpr1b_c1yt\n",
      "2022-11-09 15:19:30.765704: I tensorflow/cc/saved_model/loader.cc:229] Restoring SavedModel bundle.\n",
      "2022-11-09 15:19:30.835404: I tensorflow/cc/saved_model/loader.cc:213] Running initialization op on SavedModel bundle at path: /tmp/tmpr1b_c1yt\n",
      "2022-11-09 15:19:30.851705: I tensorflow/cc/saved_model/loader.cc:305] SavedModel load for tags { serve }; Status: success: OK. Took 96850 microseconds.\n",
      "WARNING:absl:Found untraced functions such as _jit_compiled_convolution_op, _jit_compiled_convolution_op while saving (showing 2 of 2). These functions will not be directly callable after loading.\n"
     ]
    },
    {
     "name": "stdout",
     "output_type": "stream",
     "text": [
      "INFO:tensorflow:Assets written to: /tmp/tmpeuzpimw6/assets\n"
     ]
    },
    {
     "name": "stderr",
     "output_type": "stream",
     "text": [
      "INFO:tensorflow:Assets written to: /tmp/tmpeuzpimw6/assets\n",
      "2022-11-09 15:19:35.407612: W tensorflow/compiler/mlir/lite/python/tf_tfl_flatbuffer_helpers.cc:362] Ignored output_format.\n",
      "2022-11-09 15:19:35.407710: W tensorflow/compiler/mlir/lite/python/tf_tfl_flatbuffer_helpers.cc:365] Ignored drop_control_dependency.\n",
      "2022-11-09 15:19:35.407949: I tensorflow/cc/saved_model/reader.cc:45] Reading SavedModel from: /tmp/tmpeuzpimw6\n",
      "2022-11-09 15:19:35.413857: I tensorflow/cc/saved_model/reader.cc:89] Reading meta graph with tags { serve }\n",
      "2022-11-09 15:19:35.413928: I tensorflow/cc/saved_model/reader.cc:130] Reading SavedModel debug info (if present) from: /tmp/tmpeuzpimw6\n",
      "2022-11-09 15:19:35.436956: I tensorflow/cc/saved_model/loader.cc:229] Restoring SavedModel bundle.\n",
      "2022-11-09 15:19:35.559763: I tensorflow/cc/saved_model/loader.cc:213] Running initialization op on SavedModel bundle at path: /tmp/tmpeuzpimw6\n",
      "2022-11-09 15:19:35.599632: I tensorflow/cc/saved_model/loader.cc:305] SavedModel load for tags { serve }; Status: success: OK. Took 191682 microseconds.\n",
      "WARNING:absl:Found untraced functions such as _jit_compiled_convolution_op, _jit_compiled_convolution_op while saving (showing 2 of 2). These functions will not be directly callable after loading.\n"
     ]
    },
    {
     "name": "stdout",
     "output_type": "stream",
     "text": [
      "INFO:tensorflow:Assets written to: /tmp/tmp7ydflqd0/assets\n"
     ]
    },
    {
     "name": "stderr",
     "output_type": "stream",
     "text": [
      "INFO:tensorflow:Assets written to: /tmp/tmp7ydflqd0/assets\n",
      "2022-11-09 15:19:37.961828: W tensorflow/compiler/mlir/lite/python/tf_tfl_flatbuffer_helpers.cc:362] Ignored output_format.\n",
      "2022-11-09 15:19:37.961935: W tensorflow/compiler/mlir/lite/python/tf_tfl_flatbuffer_helpers.cc:365] Ignored drop_control_dependency.\n",
      "2022-11-09 15:19:37.962191: I tensorflow/cc/saved_model/reader.cc:45] Reading SavedModel from: /tmp/tmp7ydflqd0\n",
      "2022-11-09 15:19:37.966374: I tensorflow/cc/saved_model/reader.cc:89] Reading meta graph with tags { serve }\n",
      "2022-11-09 15:19:37.966444: I tensorflow/cc/saved_model/reader.cc:130] Reading SavedModel debug info (if present) from: /tmp/tmp7ydflqd0\n",
      "2022-11-09 15:19:37.980516: I tensorflow/cc/saved_model/loader.cc:229] Restoring SavedModel bundle.\n",
      "2022-11-09 15:19:38.057786: I tensorflow/cc/saved_model/loader.cc:213] Running initialization op on SavedModel bundle at path: /tmp/tmp7ydflqd0\n",
      "2022-11-09 15:19:38.080602: I tensorflow/cc/saved_model/loader.cc:305] SavedModel load for tags { serve }; Status: success: OK. Took 118409 microseconds.\n",
      "WARNING:absl:Found untraced functions such as _jit_compiled_convolution_op, _jit_compiled_convolution_op while saving (showing 2 of 2). These functions will not be directly callable after loading.\n"
     ]
    },
    {
     "name": "stdout",
     "output_type": "stream",
     "text": [
      "INFO:tensorflow:Assets written to: /tmp/tmpe_fhvod8/assets\n"
     ]
    },
    {
     "name": "stderr",
     "output_type": "stream",
     "text": [
      "INFO:tensorflow:Assets written to: /tmp/tmpe_fhvod8/assets\n",
      "2022-11-09 15:19:40.148900: W tensorflow/compiler/mlir/lite/python/tf_tfl_flatbuffer_helpers.cc:362] Ignored output_format.\n",
      "2022-11-09 15:19:40.149031: W tensorflow/compiler/mlir/lite/python/tf_tfl_flatbuffer_helpers.cc:365] Ignored drop_control_dependency.\n",
      "2022-11-09 15:19:40.149273: I tensorflow/cc/saved_model/reader.cc:45] Reading SavedModel from: /tmp/tmpe_fhvod8\n",
      "2022-11-09 15:19:40.152199: I tensorflow/cc/saved_model/reader.cc:89] Reading meta graph with tags { serve }\n",
      "2022-11-09 15:19:40.152268: I tensorflow/cc/saved_model/reader.cc:130] Reading SavedModel debug info (if present) from: /tmp/tmpe_fhvod8\n",
      "2022-11-09 15:19:40.162744: I tensorflow/cc/saved_model/loader.cc:229] Restoring SavedModel bundle.\n",
      "2022-11-09 15:19:40.242303: I tensorflow/cc/saved_model/loader.cc:213] Running initialization op on SavedModel bundle at path: /tmp/tmpe_fhvod8\n",
      "2022-11-09 15:19:40.268641: I tensorflow/cc/saved_model/loader.cc:305] SavedModel load for tags { serve }; Status: success: OK. Took 119366 microseconds.\n",
      "WARNING:absl:Found untraced functions such as _jit_compiled_convolution_op, _jit_compiled_convolution_op while saving (showing 2 of 2). These functions will not be directly callable after loading.\n"
     ]
    },
    {
     "name": "stdout",
     "output_type": "stream",
     "text": [
      "INFO:tensorflow:Assets written to: /tmp/tmppvu7j080/assets\n"
     ]
    },
    {
     "name": "stderr",
     "output_type": "stream",
     "text": [
      "INFO:tensorflow:Assets written to: /tmp/tmppvu7j080/assets\n",
      "2022-11-09 15:19:42.314293: W tensorflow/compiler/mlir/lite/python/tf_tfl_flatbuffer_helpers.cc:362] Ignored output_format.\n",
      "2022-11-09 15:19:42.314398: W tensorflow/compiler/mlir/lite/python/tf_tfl_flatbuffer_helpers.cc:365] Ignored drop_control_dependency.\n",
      "2022-11-09 15:19:42.314618: I tensorflow/cc/saved_model/reader.cc:45] Reading SavedModel from: /tmp/tmppvu7j080\n",
      "2022-11-09 15:19:42.317233: I tensorflow/cc/saved_model/reader.cc:89] Reading meta graph with tags { serve }\n",
      "2022-11-09 15:19:42.317298: I tensorflow/cc/saved_model/reader.cc:130] Reading SavedModel debug info (if present) from: /tmp/tmppvu7j080\n",
      "2022-11-09 15:19:42.326543: I tensorflow/cc/saved_model/loader.cc:229] Restoring SavedModel bundle.\n",
      "2022-11-09 15:19:42.399697: I tensorflow/cc/saved_model/loader.cc:213] Running initialization op on SavedModel bundle at path: /tmp/tmppvu7j080\n",
      "2022-11-09 15:19:42.419908: I tensorflow/cc/saved_model/loader.cc:305] SavedModel load for tags { serve }; Status: success: OK. Took 105288 microseconds.\n",
      "WARNING:absl:Found untraced functions such as _jit_compiled_convolution_op, _jit_compiled_convolution_op while saving (showing 2 of 2). These functions will not be directly callable after loading.\n"
     ]
    },
    {
     "name": "stdout",
     "output_type": "stream",
     "text": [
      "INFO:tensorflow:Assets written to: /tmp/tmph5l4_ymz/assets\n"
     ]
    },
    {
     "name": "stderr",
     "output_type": "stream",
     "text": [
      "INFO:tensorflow:Assets written to: /tmp/tmph5l4_ymz/assets\n",
      "2022-11-09 15:19:44.383038: W tensorflow/compiler/mlir/lite/python/tf_tfl_flatbuffer_helpers.cc:362] Ignored output_format.\n",
      "2022-11-09 15:19:44.383151: W tensorflow/compiler/mlir/lite/python/tf_tfl_flatbuffer_helpers.cc:365] Ignored drop_control_dependency.\n",
      "2022-11-09 15:19:44.383375: I tensorflow/cc/saved_model/reader.cc:45] Reading SavedModel from: /tmp/tmph5l4_ymz\n",
      "2022-11-09 15:19:44.385949: I tensorflow/cc/saved_model/reader.cc:89] Reading meta graph with tags { serve }\n",
      "2022-11-09 15:19:44.386036: I tensorflow/cc/saved_model/reader.cc:130] Reading SavedModel debug info (if present) from: /tmp/tmph5l4_ymz\n",
      "2022-11-09 15:19:44.395147: I tensorflow/cc/saved_model/loader.cc:229] Restoring SavedModel bundle.\n",
      "2022-11-09 15:19:44.467913: I tensorflow/cc/saved_model/loader.cc:213] Running initialization op on SavedModel bundle at path: /tmp/tmph5l4_ymz\n",
      "2022-11-09 15:19:44.489152: I tensorflow/cc/saved_model/loader.cc:305] SavedModel load for tags { serve }; Status: success: OK. Took 105775 microseconds.\n",
      "WARNING:absl:Found untraced functions such as _jit_compiled_convolution_op, _jit_compiled_convolution_op while saving (showing 2 of 2). These functions will not be directly callable after loading.\n"
     ]
    },
    {
     "name": "stdout",
     "output_type": "stream",
     "text": [
      "INFO:tensorflow:Assets written to: /tmp/tmpjo9t6r1h/assets\n"
     ]
    },
    {
     "name": "stderr",
     "output_type": "stream",
     "text": [
      "INFO:tensorflow:Assets written to: /tmp/tmpjo9t6r1h/assets\n",
      "2022-11-09 15:19:46.463565: W tensorflow/compiler/mlir/lite/python/tf_tfl_flatbuffer_helpers.cc:362] Ignored output_format.\n",
      "2022-11-09 15:19:46.463662: W tensorflow/compiler/mlir/lite/python/tf_tfl_flatbuffer_helpers.cc:365] Ignored drop_control_dependency.\n",
      "2022-11-09 15:19:46.463887: I tensorflow/cc/saved_model/reader.cc:45] Reading SavedModel from: /tmp/tmpjo9t6r1h\n",
      "2022-11-09 15:19:46.466348: I tensorflow/cc/saved_model/reader.cc:89] Reading meta graph with tags { serve }\n",
      "2022-11-09 15:19:46.466413: I tensorflow/cc/saved_model/reader.cc:130] Reading SavedModel debug info (if present) from: /tmp/tmpjo9t6r1h\n",
      "2022-11-09 15:19:46.475302: I tensorflow/cc/saved_model/loader.cc:229] Restoring SavedModel bundle.\n",
      "2022-11-09 15:19:46.545268: I tensorflow/cc/saved_model/loader.cc:213] Running initialization op on SavedModel bundle at path: /tmp/tmpjo9t6r1h\n",
      "2022-11-09 15:19:46.563672: I tensorflow/cc/saved_model/loader.cc:305] SavedModel load for tags { serve }; Status: success: OK. Took 99784 microseconds.\n",
      "WARNING:absl:Found untraced functions such as _jit_compiled_convolution_op, _jit_compiled_convolution_op while saving (showing 2 of 2). These functions will not be directly callable after loading.\n"
     ]
    },
    {
     "name": "stdout",
     "output_type": "stream",
     "text": [
      "INFO:tensorflow:Assets written to: /tmp/tmp6yuw3abf/assets\n"
     ]
    },
    {
     "name": "stderr",
     "output_type": "stream",
     "text": [
      "INFO:tensorflow:Assets written to: /tmp/tmp6yuw3abf/assets\n",
      "2022-11-09 15:19:48.521564: W tensorflow/compiler/mlir/lite/python/tf_tfl_flatbuffer_helpers.cc:362] Ignored output_format.\n",
      "2022-11-09 15:19:48.521658: W tensorflow/compiler/mlir/lite/python/tf_tfl_flatbuffer_helpers.cc:365] Ignored drop_control_dependency.\n",
      "2022-11-09 15:19:48.521876: I tensorflow/cc/saved_model/reader.cc:45] Reading SavedModel from: /tmp/tmp6yuw3abf\n",
      "2022-11-09 15:19:48.524191: I tensorflow/cc/saved_model/reader.cc:89] Reading meta graph with tags { serve }\n",
      "2022-11-09 15:19:48.524237: I tensorflow/cc/saved_model/reader.cc:130] Reading SavedModel debug info (if present) from: /tmp/tmp6yuw3abf\n",
      "2022-11-09 15:19:48.531886: I tensorflow/cc/saved_model/loader.cc:229] Restoring SavedModel bundle.\n",
      "2022-11-09 15:19:48.599305: I tensorflow/cc/saved_model/loader.cc:213] Running initialization op on SavedModel bundle at path: /tmp/tmp6yuw3abf\n",
      "2022-11-09 15:19:48.617961: I tensorflow/cc/saved_model/loader.cc:305] SavedModel load for tags { serve }; Status: success: OK. Took 96083 microseconds.\n",
      "WARNING:absl:Found untraced functions such as _jit_compiled_convolution_op, _jit_compiled_convolution_op while saving (showing 2 of 2). These functions will not be directly callable after loading.\n"
     ]
    },
    {
     "name": "stdout",
     "output_type": "stream",
     "text": [
      "INFO:tensorflow:Assets written to: /tmp/tmps3wealy_/assets\n"
     ]
    },
    {
     "name": "stderr",
     "output_type": "stream",
     "text": [
      "INFO:tensorflow:Assets written to: /tmp/tmps3wealy_/assets\n",
      "2022-11-09 15:19:50.579332: W tensorflow/compiler/mlir/lite/python/tf_tfl_flatbuffer_helpers.cc:362] Ignored output_format.\n",
      "2022-11-09 15:19:50.579435: W tensorflow/compiler/mlir/lite/python/tf_tfl_flatbuffer_helpers.cc:365] Ignored drop_control_dependency.\n",
      "2022-11-09 15:19:50.579658: I tensorflow/cc/saved_model/reader.cc:45] Reading SavedModel from: /tmp/tmps3wealy_\n",
      "2022-11-09 15:19:50.582037: I tensorflow/cc/saved_model/reader.cc:89] Reading meta graph with tags { serve }\n",
      "2022-11-09 15:19:50.582151: I tensorflow/cc/saved_model/reader.cc:130] Reading SavedModel debug info (if present) from: /tmp/tmps3wealy_\n",
      "2022-11-09 15:19:50.590749: I tensorflow/cc/saved_model/loader.cc:229] Restoring SavedModel bundle.\n",
      "2022-11-09 15:19:50.663457: I tensorflow/cc/saved_model/loader.cc:213] Running initialization op on SavedModel bundle at path: /tmp/tmps3wealy_\n",
      "2022-11-09 15:19:50.683795: I tensorflow/cc/saved_model/loader.cc:305] SavedModel load for tags { serve }; Status: success: OK. Took 104137 microseconds.\n",
      "WARNING:absl:Found untraced functions such as _jit_compiled_convolution_op, _jit_compiled_convolution_op while saving (showing 2 of 2). These functions will not be directly callable after loading.\n"
     ]
    },
    {
     "name": "stdout",
     "output_type": "stream",
     "text": [
      "INFO:tensorflow:Assets written to: /tmp/tmpkd1oifo3/assets\n"
     ]
    },
    {
     "name": "stderr",
     "output_type": "stream",
     "text": [
      "INFO:tensorflow:Assets written to: /tmp/tmpkd1oifo3/assets\n",
      "2022-11-09 15:19:54.995622: W tensorflow/compiler/mlir/lite/python/tf_tfl_flatbuffer_helpers.cc:362] Ignored output_format.\n",
      "2022-11-09 15:19:54.995723: W tensorflow/compiler/mlir/lite/python/tf_tfl_flatbuffer_helpers.cc:365] Ignored drop_control_dependency.\n",
      "2022-11-09 15:19:54.995968: I tensorflow/cc/saved_model/reader.cc:45] Reading SavedModel from: /tmp/tmpkd1oifo3\n",
      "2022-11-09 15:19:55.002516: I tensorflow/cc/saved_model/reader.cc:89] Reading meta graph with tags { serve }\n",
      "2022-11-09 15:19:55.002594: I tensorflow/cc/saved_model/reader.cc:130] Reading SavedModel debug info (if present) from: /tmp/tmpkd1oifo3\n",
      "2022-11-09 15:19:55.030420: I tensorflow/cc/saved_model/loader.cc:229] Restoring SavedModel bundle.\n",
      "2022-11-09 15:19:55.177452: I tensorflow/cc/saved_model/loader.cc:213] Running initialization op on SavedModel bundle at path: /tmp/tmpkd1oifo3\n",
      "2022-11-09 15:19:55.226572: I tensorflow/cc/saved_model/loader.cc:305] SavedModel load for tags { serve }; Status: success: OK. Took 230591 microseconds.\n",
      "WARNING:absl:Found untraced functions such as _jit_compiled_convolution_op, _jit_compiled_convolution_op while saving (showing 2 of 2). These functions will not be directly callable after loading.\n"
     ]
    },
    {
     "name": "stdout",
     "output_type": "stream",
     "text": [
      "INFO:tensorflow:Assets written to: /tmp/tmp2rdq17dl/assets\n"
     ]
    },
    {
     "name": "stderr",
     "output_type": "stream",
     "text": [
      "INFO:tensorflow:Assets written to: /tmp/tmp2rdq17dl/assets\n",
      "2022-11-09 15:19:57.562920: W tensorflow/compiler/mlir/lite/python/tf_tfl_flatbuffer_helpers.cc:362] Ignored output_format.\n",
      "2022-11-09 15:19:57.563017: W tensorflow/compiler/mlir/lite/python/tf_tfl_flatbuffer_helpers.cc:365] Ignored drop_control_dependency.\n",
      "2022-11-09 15:19:57.563261: I tensorflow/cc/saved_model/reader.cc:45] Reading SavedModel from: /tmp/tmp2rdq17dl\n",
      "2022-11-09 15:19:57.567765: I tensorflow/cc/saved_model/reader.cc:89] Reading meta graph with tags { serve }\n",
      "2022-11-09 15:19:57.567825: I tensorflow/cc/saved_model/reader.cc:130] Reading SavedModel debug info (if present) from: /tmp/tmp2rdq17dl\n",
      "2022-11-09 15:19:57.583097: I tensorflow/cc/saved_model/loader.cc:229] Restoring SavedModel bundle.\n",
      "2022-11-09 15:19:57.661695: I tensorflow/cc/saved_model/loader.cc:213] Running initialization op on SavedModel bundle at path: /tmp/tmp2rdq17dl\n",
      "2022-11-09 15:19:57.686633: I tensorflow/cc/saved_model/loader.cc:305] SavedModel load for tags { serve }; Status: success: OK. Took 123372 microseconds.\n",
      "WARNING:absl:Found untraced functions such as _jit_compiled_convolution_op, _jit_compiled_convolution_op while saving (showing 2 of 2). These functions will not be directly callable after loading.\n"
     ]
    },
    {
     "name": "stdout",
     "output_type": "stream",
     "text": [
      "INFO:tensorflow:Assets written to: /tmp/tmpf1vw0jmd/assets\n"
     ]
    },
    {
     "name": "stderr",
     "output_type": "stream",
     "text": [
      "INFO:tensorflow:Assets written to: /tmp/tmpf1vw0jmd/assets\n",
      "2022-11-09 15:19:59.814610: W tensorflow/compiler/mlir/lite/python/tf_tfl_flatbuffer_helpers.cc:362] Ignored output_format.\n",
      "2022-11-09 15:19:59.814712: W tensorflow/compiler/mlir/lite/python/tf_tfl_flatbuffer_helpers.cc:365] Ignored drop_control_dependency.\n",
      "2022-11-09 15:19:59.814944: I tensorflow/cc/saved_model/reader.cc:45] Reading SavedModel from: /tmp/tmpf1vw0jmd\n",
      "2022-11-09 15:19:59.818293: I tensorflow/cc/saved_model/reader.cc:89] Reading meta graph with tags { serve }\n",
      "2022-11-09 15:19:59.818372: I tensorflow/cc/saved_model/reader.cc:130] Reading SavedModel debug info (if present) from: /tmp/tmpf1vw0jmd\n",
      "2022-11-09 15:19:59.829366: I tensorflow/cc/saved_model/loader.cc:229] Restoring SavedModel bundle.\n",
      "2022-11-09 15:19:59.909844: I tensorflow/cc/saved_model/loader.cc:213] Running initialization op on SavedModel bundle at path: /tmp/tmpf1vw0jmd\n",
      "2022-11-09 15:19:59.932109: I tensorflow/cc/saved_model/loader.cc:305] SavedModel load for tags { serve }; Status: success: OK. Took 117165 microseconds.\n",
      "WARNING:absl:Found untraced functions such as _jit_compiled_convolution_op, _jit_compiled_convolution_op while saving (showing 2 of 2). These functions will not be directly callable after loading.\n"
     ]
    },
    {
     "name": "stdout",
     "output_type": "stream",
     "text": [
      "INFO:tensorflow:Assets written to: /tmp/tmp4cx648az/assets\n"
     ]
    },
    {
     "name": "stderr",
     "output_type": "stream",
     "text": [
      "INFO:tensorflow:Assets written to: /tmp/tmp4cx648az/assets\n",
      "2022-11-09 15:20:01.964419: W tensorflow/compiler/mlir/lite/python/tf_tfl_flatbuffer_helpers.cc:362] Ignored output_format.\n",
      "2022-11-09 15:20:01.964521: W tensorflow/compiler/mlir/lite/python/tf_tfl_flatbuffer_helpers.cc:365] Ignored drop_control_dependency.\n",
      "2022-11-09 15:20:01.964745: I tensorflow/cc/saved_model/reader.cc:45] Reading SavedModel from: /tmp/tmp4cx648az\n",
      "2022-11-09 15:20:01.967545: I tensorflow/cc/saved_model/reader.cc:89] Reading meta graph with tags { serve }\n",
      "2022-11-09 15:20:01.967618: I tensorflow/cc/saved_model/reader.cc:130] Reading SavedModel debug info (if present) from: /tmp/tmp4cx648az\n",
      "2022-11-09 15:20:01.977604: I tensorflow/cc/saved_model/loader.cc:229] Restoring SavedModel bundle.\n",
      "2022-11-09 15:20:02.056068: I tensorflow/cc/saved_model/loader.cc:213] Running initialization op on SavedModel bundle at path: /tmp/tmp4cx648az\n",
      "2022-11-09 15:20:02.078544: I tensorflow/cc/saved_model/loader.cc:305] SavedModel load for tags { serve }; Status: success: OK. Took 113799 microseconds.\n",
      "WARNING:absl:Found untraced functions such as _jit_compiled_convolution_op, _jit_compiled_convolution_op while saving (showing 2 of 2). These functions will not be directly callable after loading.\n"
     ]
    },
    {
     "name": "stdout",
     "output_type": "stream",
     "text": [
      "INFO:tensorflow:Assets written to: /tmp/tmphntnswl2/assets\n"
     ]
    },
    {
     "name": "stderr",
     "output_type": "stream",
     "text": [
      "INFO:tensorflow:Assets written to: /tmp/tmphntnswl2/assets\n",
      "2022-11-09 15:20:04.034666: W tensorflow/compiler/mlir/lite/python/tf_tfl_flatbuffer_helpers.cc:362] Ignored output_format.\n",
      "2022-11-09 15:20:04.034760: W tensorflow/compiler/mlir/lite/python/tf_tfl_flatbuffer_helpers.cc:365] Ignored drop_control_dependency.\n",
      "2022-11-09 15:20:04.034978: I tensorflow/cc/saved_model/reader.cc:45] Reading SavedModel from: /tmp/tmphntnswl2\n",
      "2022-11-09 15:20:04.037521: I tensorflow/cc/saved_model/reader.cc:89] Reading meta graph with tags { serve }\n",
      "2022-11-09 15:20:04.037577: I tensorflow/cc/saved_model/reader.cc:130] Reading SavedModel debug info (if present) from: /tmp/tmphntnswl2\n",
      "2022-11-09 15:20:04.045965: I tensorflow/cc/saved_model/loader.cc:229] Restoring SavedModel bundle.\n",
      "2022-11-09 15:20:04.112445: I tensorflow/cc/saved_model/loader.cc:213] Running initialization op on SavedModel bundle at path: /tmp/tmphntnswl2\n",
      "2022-11-09 15:20:04.129939: I tensorflow/cc/saved_model/loader.cc:305] SavedModel load for tags { serve }; Status: success: OK. Took 94960 microseconds.\n",
      "WARNING:absl:Found untraced functions such as _jit_compiled_convolution_op, _jit_compiled_convolution_op while saving (showing 2 of 2). These functions will not be directly callable after loading.\n"
     ]
    },
    {
     "name": "stdout",
     "output_type": "stream",
     "text": [
      "INFO:tensorflow:Assets written to: /tmp/tmplv90lueq/assets\n"
     ]
    },
    {
     "name": "stderr",
     "output_type": "stream",
     "text": [
      "INFO:tensorflow:Assets written to: /tmp/tmplv90lueq/assets\n",
      "2022-11-09 15:20:06.039329: W tensorflow/compiler/mlir/lite/python/tf_tfl_flatbuffer_helpers.cc:362] Ignored output_format.\n",
      "2022-11-09 15:20:06.039446: W tensorflow/compiler/mlir/lite/python/tf_tfl_flatbuffer_helpers.cc:365] Ignored drop_control_dependency.\n",
      "2022-11-09 15:20:06.039695: I tensorflow/cc/saved_model/reader.cc:45] Reading SavedModel from: /tmp/tmplv90lueq\n",
      "2022-11-09 15:20:06.042385: I tensorflow/cc/saved_model/reader.cc:89] Reading meta graph with tags { serve }\n",
      "2022-11-09 15:20:06.042465: I tensorflow/cc/saved_model/reader.cc:130] Reading SavedModel debug info (if present) from: /tmp/tmplv90lueq\n",
      "2022-11-09 15:20:06.051632: I tensorflow/cc/saved_model/loader.cc:229] Restoring SavedModel bundle.\n",
      "2022-11-09 15:20:06.125340: I tensorflow/cc/saved_model/loader.cc:213] Running initialization op on SavedModel bundle at path: /tmp/tmplv90lueq\n",
      "2022-11-09 15:20:06.146721: I tensorflow/cc/saved_model/loader.cc:305] SavedModel load for tags { serve }; Status: success: OK. Took 107025 microseconds.\n",
      "WARNING:absl:Found untraced functions such as _jit_compiled_convolution_op, _jit_compiled_convolution_op while saving (showing 2 of 2). These functions will not be directly callable after loading.\n"
     ]
    },
    {
     "name": "stdout",
     "output_type": "stream",
     "text": [
      "INFO:tensorflow:Assets written to: /tmp/tmpxin47zdj/assets\n"
     ]
    },
    {
     "name": "stderr",
     "output_type": "stream",
     "text": [
      "INFO:tensorflow:Assets written to: /tmp/tmpxin47zdj/assets\n",
      "2022-11-09 15:20:08.071843: W tensorflow/compiler/mlir/lite/python/tf_tfl_flatbuffer_helpers.cc:362] Ignored output_format.\n",
      "2022-11-09 15:20:08.071936: W tensorflow/compiler/mlir/lite/python/tf_tfl_flatbuffer_helpers.cc:365] Ignored drop_control_dependency.\n",
      "2022-11-09 15:20:08.072212: I tensorflow/cc/saved_model/reader.cc:45] Reading SavedModel from: /tmp/tmpxin47zdj\n",
      "2022-11-09 15:20:08.074603: I tensorflow/cc/saved_model/reader.cc:89] Reading meta graph with tags { serve }\n",
      "2022-11-09 15:20:08.074660: I tensorflow/cc/saved_model/reader.cc:130] Reading SavedModel debug info (if present) from: /tmp/tmpxin47zdj\n",
      "2022-11-09 15:20:08.082519: I tensorflow/cc/saved_model/loader.cc:229] Restoring SavedModel bundle.\n",
      "2022-11-09 15:20:08.146655: I tensorflow/cc/saved_model/loader.cc:213] Running initialization op on SavedModel bundle at path: /tmp/tmpxin47zdj\n",
      "2022-11-09 15:20:08.163430: I tensorflow/cc/saved_model/loader.cc:305] SavedModel load for tags { serve }; Status: success: OK. Took 91218 microseconds.\n",
      "WARNING:absl:Found untraced functions such as _jit_compiled_convolution_op, _jit_compiled_convolution_op while saving (showing 2 of 2). These functions will not be directly callable after loading.\n"
     ]
    },
    {
     "name": "stdout",
     "output_type": "stream",
     "text": [
      "INFO:tensorflow:Assets written to: /tmp/tmpkrpu6fsq/assets\n"
     ]
    },
    {
     "name": "stderr",
     "output_type": "stream",
     "text": [
      "INFO:tensorflow:Assets written to: /tmp/tmpkrpu6fsq/assets\n",
      "2022-11-09 15:20:11.934289: W tensorflow/compiler/mlir/lite/python/tf_tfl_flatbuffer_helpers.cc:362] Ignored output_format.\n",
      "2022-11-09 15:20:11.934392: W tensorflow/compiler/mlir/lite/python/tf_tfl_flatbuffer_helpers.cc:365] Ignored drop_control_dependency.\n",
      "2022-11-09 15:20:11.934642: I tensorflow/cc/saved_model/reader.cc:45] Reading SavedModel from: /tmp/tmpkrpu6fsq\n",
      "2022-11-09 15:20:11.941724: I tensorflow/cc/saved_model/reader.cc:89] Reading meta graph with tags { serve }\n",
      "2022-11-09 15:20:11.941795: I tensorflow/cc/saved_model/reader.cc:130] Reading SavedModel debug info (if present) from: /tmp/tmpkrpu6fsq\n",
      "2022-11-09 15:20:11.978961: I tensorflow/cc/saved_model/loader.cc:229] Restoring SavedModel bundle.\n",
      "2022-11-09 15:20:12.195401: I tensorflow/cc/saved_model/loader.cc:213] Running initialization op on SavedModel bundle at path: /tmp/tmpkrpu6fsq\n",
      "2022-11-09 15:20:12.262509: I tensorflow/cc/saved_model/loader.cc:305] SavedModel load for tags { serve }; Status: success: OK. Took 327869 microseconds.\n",
      "WARNING:absl:Found untraced functions such as _jit_compiled_convolution_op, _jit_compiled_convolution_op while saving (showing 2 of 2). These functions will not be directly callable after loading.\n"
     ]
    },
    {
     "name": "stdout",
     "output_type": "stream",
     "text": [
      "INFO:tensorflow:Assets written to: /tmp/tmpvazuxdr9/assets\n"
     ]
    },
    {
     "name": "stderr",
     "output_type": "stream",
     "text": [
      "INFO:tensorflow:Assets written to: /tmp/tmpvazuxdr9/assets\n",
      "2022-11-09 15:20:14.814764: W tensorflow/compiler/mlir/lite/python/tf_tfl_flatbuffer_helpers.cc:362] Ignored output_format.\n",
      "2022-11-09 15:20:14.814855: W tensorflow/compiler/mlir/lite/python/tf_tfl_flatbuffer_helpers.cc:365] Ignored drop_control_dependency.\n",
      "2022-11-09 15:20:14.815099: I tensorflow/cc/saved_model/reader.cc:45] Reading SavedModel from: /tmp/tmpvazuxdr9\n",
      "2022-11-09 15:20:14.820335: I tensorflow/cc/saved_model/reader.cc:89] Reading meta graph with tags { serve }\n",
      "2022-11-09 15:20:14.820397: I tensorflow/cc/saved_model/reader.cc:130] Reading SavedModel debug info (if present) from: /tmp/tmpvazuxdr9\n",
      "2022-11-09 15:20:14.840324: I tensorflow/cc/saved_model/loader.cc:229] Restoring SavedModel bundle.\n",
      "2022-11-09 15:20:14.947360: I tensorflow/cc/saved_model/loader.cc:213] Running initialization op on SavedModel bundle at path: /tmp/tmpvazuxdr9\n",
      "2022-11-09 15:20:14.981920: I tensorflow/cc/saved_model/loader.cc:305] SavedModel load for tags { serve }; Status: success: OK. Took 166821 microseconds.\n",
      "WARNING:absl:Found untraced functions such as _jit_compiled_convolution_op, _jit_compiled_convolution_op while saving (showing 2 of 2). These functions will not be directly callable after loading.\n"
     ]
    },
    {
     "name": "stdout",
     "output_type": "stream",
     "text": [
      "INFO:tensorflow:Assets written to: /tmp/tmpmz0s9x2a/assets\n"
     ]
    },
    {
     "name": "stderr",
     "output_type": "stream",
     "text": [
      "INFO:tensorflow:Assets written to: /tmp/tmpmz0s9x2a/assets\n",
      "2022-11-09 15:20:17.212457: W tensorflow/compiler/mlir/lite/python/tf_tfl_flatbuffer_helpers.cc:362] Ignored output_format.\n",
      "2022-11-09 15:20:17.212565: W tensorflow/compiler/mlir/lite/python/tf_tfl_flatbuffer_helpers.cc:365] Ignored drop_control_dependency.\n",
      "2022-11-09 15:20:17.212800: I tensorflow/cc/saved_model/reader.cc:45] Reading SavedModel from: /tmp/tmpmz0s9x2a\n",
      "2022-11-09 15:20:17.217036: I tensorflow/cc/saved_model/reader.cc:89] Reading meta graph with tags { serve }\n",
      "2022-11-09 15:20:17.217219: I tensorflow/cc/saved_model/reader.cc:130] Reading SavedModel debug info (if present) from: /tmp/tmpmz0s9x2a\n",
      "2022-11-09 15:20:17.232062: I tensorflow/cc/saved_model/loader.cc:229] Restoring SavedModel bundle.\n",
      "2022-11-09 15:20:17.309274: I tensorflow/cc/saved_model/loader.cc:213] Running initialization op on SavedModel bundle at path: /tmp/tmpmz0s9x2a\n",
      "2022-11-09 15:20:17.332776: I tensorflow/cc/saved_model/loader.cc:305] SavedModel load for tags { serve }; Status: success: OK. Took 119976 microseconds.\n",
      "WARNING:absl:Found untraced functions such as _jit_compiled_convolution_op, _jit_compiled_convolution_op while saving (showing 2 of 2). These functions will not be directly callable after loading.\n"
     ]
    },
    {
     "name": "stdout",
     "output_type": "stream",
     "text": [
      "INFO:tensorflow:Assets written to: /tmp/tmp1r912se_/assets\n"
     ]
    },
    {
     "name": "stderr",
     "output_type": "stream",
     "text": [
      "INFO:tensorflow:Assets written to: /tmp/tmp1r912se_/assets\n",
      "2022-11-09 15:20:19.353315: W tensorflow/compiler/mlir/lite/python/tf_tfl_flatbuffer_helpers.cc:362] Ignored output_format.\n",
      "2022-11-09 15:20:19.353415: W tensorflow/compiler/mlir/lite/python/tf_tfl_flatbuffer_helpers.cc:365] Ignored drop_control_dependency.\n",
      "2022-11-09 15:20:19.353636: I tensorflow/cc/saved_model/reader.cc:45] Reading SavedModel from: /tmp/tmp1r912se_\n",
      "2022-11-09 15:20:19.356389: I tensorflow/cc/saved_model/reader.cc:89] Reading meta graph with tags { serve }\n",
      "2022-11-09 15:20:19.356440: I tensorflow/cc/saved_model/reader.cc:130] Reading SavedModel debug info (if present) from: /tmp/tmp1r912se_\n",
      "2022-11-09 15:20:19.365778: I tensorflow/cc/saved_model/loader.cc:229] Restoring SavedModel bundle.\n",
      "2022-11-09 15:20:19.436394: I tensorflow/cc/saved_model/loader.cc:213] Running initialization op on SavedModel bundle at path: /tmp/tmp1r912se_\n",
      "2022-11-09 15:20:19.456000: I tensorflow/cc/saved_model/loader.cc:305] SavedModel load for tags { serve }; Status: success: OK. Took 102363 microseconds.\n",
      "WARNING:absl:Found untraced functions such as _jit_compiled_convolution_op, _jit_compiled_convolution_op while saving (showing 2 of 2). These functions will not be directly callable after loading.\n"
     ]
    },
    {
     "name": "stdout",
     "output_type": "stream",
     "text": [
      "INFO:tensorflow:Assets written to: /tmp/tmpfuu2l9tc/assets\n"
     ]
    },
    {
     "name": "stderr",
     "output_type": "stream",
     "text": [
      "INFO:tensorflow:Assets written to: /tmp/tmpfuu2l9tc/assets\n",
      "2022-11-09 15:20:21.454160: W tensorflow/compiler/mlir/lite/python/tf_tfl_flatbuffer_helpers.cc:362] Ignored output_format.\n",
      "2022-11-09 15:20:21.454255: W tensorflow/compiler/mlir/lite/python/tf_tfl_flatbuffer_helpers.cc:365] Ignored drop_control_dependency.\n",
      "2022-11-09 15:20:21.454481: I tensorflow/cc/saved_model/reader.cc:45] Reading SavedModel from: /tmp/tmpfuu2l9tc\n",
      "2022-11-09 15:20:21.457059: I tensorflow/cc/saved_model/reader.cc:89] Reading meta graph with tags { serve }\n",
      "2022-11-09 15:20:21.457122: I tensorflow/cc/saved_model/reader.cc:130] Reading SavedModel debug info (if present) from: /tmp/tmpfuu2l9tc\n",
      "2022-11-09 15:20:21.466247: I tensorflow/cc/saved_model/loader.cc:229] Restoring SavedModel bundle.\n",
      "2022-11-09 15:20:21.538779: I tensorflow/cc/saved_model/loader.cc:213] Running initialization op on SavedModel bundle at path: /tmp/tmpfuu2l9tc\n",
      "2022-11-09 15:20:21.558729: I tensorflow/cc/saved_model/loader.cc:305] SavedModel load for tags { serve }; Status: success: OK. Took 104247 microseconds.\n",
      "WARNING:absl:Found untraced functions such as _jit_compiled_convolution_op, _jit_compiled_convolution_op while saving (showing 2 of 2). These functions will not be directly callable after loading.\n"
     ]
    },
    {
     "name": "stdout",
     "output_type": "stream",
     "text": [
      "INFO:tensorflow:Assets written to: /tmp/tmpdxjaq41i/assets\n"
     ]
    },
    {
     "name": "stderr",
     "output_type": "stream",
     "text": [
      "INFO:tensorflow:Assets written to: /tmp/tmpdxjaq41i/assets\n",
      "2022-11-09 15:20:23.500253: W tensorflow/compiler/mlir/lite/python/tf_tfl_flatbuffer_helpers.cc:362] Ignored output_format.\n",
      "2022-11-09 15:20:23.500349: W tensorflow/compiler/mlir/lite/python/tf_tfl_flatbuffer_helpers.cc:365] Ignored drop_control_dependency.\n",
      "2022-11-09 15:20:23.500578: I tensorflow/cc/saved_model/reader.cc:45] Reading SavedModel from: /tmp/tmpdxjaq41i\n",
      "2022-11-09 15:20:23.503103: I tensorflow/cc/saved_model/reader.cc:89] Reading meta graph with tags { serve }\n",
      "2022-11-09 15:20:23.503170: I tensorflow/cc/saved_model/reader.cc:130] Reading SavedModel debug info (if present) from: /tmp/tmpdxjaq41i\n",
      "2022-11-09 15:20:23.512125: I tensorflow/cc/saved_model/loader.cc:229] Restoring SavedModel bundle.\n",
      "2022-11-09 15:20:23.586463: I tensorflow/cc/saved_model/loader.cc:213] Running initialization op on SavedModel bundle at path: /tmp/tmpdxjaq41i\n",
      "2022-11-09 15:20:23.607011: I tensorflow/cc/saved_model/loader.cc:305] SavedModel load for tags { serve }; Status: success: OK. Took 106433 microseconds.\n",
      "WARNING:absl:Found untraced functions such as _jit_compiled_convolution_op, _jit_compiled_convolution_op while saving (showing 2 of 2). These functions will not be directly callable after loading.\n"
     ]
    },
    {
     "name": "stdout",
     "output_type": "stream",
     "text": [
      "INFO:tensorflow:Assets written to: /tmp/tmp8clj_nsg/assets\n"
     ]
    },
    {
     "name": "stderr",
     "output_type": "stream",
     "text": [
      "INFO:tensorflow:Assets written to: /tmp/tmp8clj_nsg/assets\n",
      "2022-11-09 15:20:25.587951: W tensorflow/compiler/mlir/lite/python/tf_tfl_flatbuffer_helpers.cc:362] Ignored output_format.\n",
      "2022-11-09 15:20:25.588045: W tensorflow/compiler/mlir/lite/python/tf_tfl_flatbuffer_helpers.cc:365] Ignored drop_control_dependency.\n",
      "2022-11-09 15:20:25.588286: I tensorflow/cc/saved_model/reader.cc:45] Reading SavedModel from: /tmp/tmp8clj_nsg\n",
      "2022-11-09 15:20:25.590669: I tensorflow/cc/saved_model/reader.cc:89] Reading meta graph with tags { serve }\n",
      "2022-11-09 15:20:25.590724: I tensorflow/cc/saved_model/reader.cc:130] Reading SavedModel debug info (if present) from: /tmp/tmp8clj_nsg\n",
      "2022-11-09 15:20:25.599116: I tensorflow/cc/saved_model/loader.cc:229] Restoring SavedModel bundle.\n",
      "2022-11-09 15:20:25.669433: I tensorflow/cc/saved_model/loader.cc:213] Running initialization op on SavedModel bundle at path: /tmp/tmp8clj_nsg\n",
      "2022-11-09 15:20:25.688395: I tensorflow/cc/saved_model/loader.cc:305] SavedModel load for tags { serve }; Status: success: OK. Took 100107 microseconds.\n",
      "WARNING:absl:Found untraced functions such as _jit_compiled_convolution_op, _jit_compiled_convolution_op while saving (showing 2 of 2). These functions will not be directly callable after loading.\n"
     ]
    },
    {
     "name": "stdout",
     "output_type": "stream",
     "text": [
      "INFO:tensorflow:Assets written to: /tmp/tmpe97qygsr/assets\n"
     ]
    },
    {
     "name": "stderr",
     "output_type": "stream",
     "text": [
      "INFO:tensorflow:Assets written to: /tmp/tmpe97qygsr/assets\n",
      "2022-11-09 15:20:29.835822: W tensorflow/compiler/mlir/lite/python/tf_tfl_flatbuffer_helpers.cc:362] Ignored output_format.\n",
      "2022-11-09 15:20:29.835926: W tensorflow/compiler/mlir/lite/python/tf_tfl_flatbuffer_helpers.cc:365] Ignored drop_control_dependency.\n",
      "2022-11-09 15:20:29.836169: I tensorflow/cc/saved_model/reader.cc:45] Reading SavedModel from: /tmp/tmpe97qygsr\n",
      "2022-11-09 15:20:29.842390: I tensorflow/cc/saved_model/reader.cc:89] Reading meta graph with tags { serve }\n",
      "2022-11-09 15:20:29.842466: I tensorflow/cc/saved_model/reader.cc:130] Reading SavedModel debug info (if present) from: /tmp/tmpe97qygsr\n",
      "2022-11-09 15:20:29.869195: I tensorflow/cc/saved_model/loader.cc:229] Restoring SavedModel bundle.\n",
      "2022-11-09 15:20:30.006185: I tensorflow/cc/saved_model/loader.cc:213] Running initialization op on SavedModel bundle at path: /tmp/tmpe97qygsr\n",
      "2022-11-09 15:20:30.048885: I tensorflow/cc/saved_model/loader.cc:305] SavedModel load for tags { serve }; Status: success: OK. Took 212715 microseconds.\n",
      "WARNING:absl:Found untraced functions such as _jit_compiled_convolution_op, _jit_compiled_convolution_op while saving (showing 2 of 2). These functions will not be directly callable after loading.\n"
     ]
    },
    {
     "name": "stdout",
     "output_type": "stream",
     "text": [
      "INFO:tensorflow:Assets written to: /tmp/tmp_orjxccr/assets\n"
     ]
    },
    {
     "name": "stderr",
     "output_type": "stream",
     "text": [
      "INFO:tensorflow:Assets written to: /tmp/tmp_orjxccr/assets\n",
      "2022-11-09 15:20:32.505176: W tensorflow/compiler/mlir/lite/python/tf_tfl_flatbuffer_helpers.cc:362] Ignored output_format.\n",
      "2022-11-09 15:20:32.505290: W tensorflow/compiler/mlir/lite/python/tf_tfl_flatbuffer_helpers.cc:365] Ignored drop_control_dependency.\n",
      "2022-11-09 15:20:32.505537: I tensorflow/cc/saved_model/reader.cc:45] Reading SavedModel from: /tmp/tmp_orjxccr\n",
      "2022-11-09 15:20:32.510799: I tensorflow/cc/saved_model/reader.cc:89] Reading meta graph with tags { serve }\n",
      "2022-11-09 15:20:32.510887: I tensorflow/cc/saved_model/reader.cc:130] Reading SavedModel debug info (if present) from: /tmp/tmp_orjxccr\n",
      "2022-11-09 15:20:32.529213: I tensorflow/cc/saved_model/loader.cc:229] Restoring SavedModel bundle.\n",
      "2022-11-09 15:20:32.624783: I tensorflow/cc/saved_model/loader.cc:213] Running initialization op on SavedModel bundle at path: /tmp/tmp_orjxccr\n",
      "2022-11-09 15:20:32.655280: I tensorflow/cc/saved_model/loader.cc:305] SavedModel load for tags { serve }; Status: success: OK. Took 149742 microseconds.\n",
      "WARNING:absl:Found untraced functions such as _jit_compiled_convolution_op, _jit_compiled_convolution_op while saving (showing 2 of 2). These functions will not be directly callable after loading.\n"
     ]
    },
    {
     "name": "stdout",
     "output_type": "stream",
     "text": [
      "INFO:tensorflow:Assets written to: /tmp/tmpxmmsn6d9/assets\n"
     ]
    },
    {
     "name": "stderr",
     "output_type": "stream",
     "text": [
      "INFO:tensorflow:Assets written to: /tmp/tmpxmmsn6d9/assets\n",
      "2022-11-09 15:20:34.691684: W tensorflow/compiler/mlir/lite/python/tf_tfl_flatbuffer_helpers.cc:362] Ignored output_format.\n",
      "2022-11-09 15:20:34.691776: W tensorflow/compiler/mlir/lite/python/tf_tfl_flatbuffer_helpers.cc:365] Ignored drop_control_dependency.\n",
      "2022-11-09 15:20:34.691993: I tensorflow/cc/saved_model/reader.cc:45] Reading SavedModel from: /tmp/tmpxmmsn6d9\n",
      "2022-11-09 15:20:34.695011: I tensorflow/cc/saved_model/reader.cc:89] Reading meta graph with tags { serve }\n",
      "2022-11-09 15:20:34.695078: I tensorflow/cc/saved_model/reader.cc:130] Reading SavedModel debug info (if present) from: /tmp/tmpxmmsn6d9\n",
      "2022-11-09 15:20:34.705218: I tensorflow/cc/saved_model/loader.cc:229] Restoring SavedModel bundle.\n",
      "2022-11-09 15:20:34.779186: I tensorflow/cc/saved_model/loader.cc:213] Running initialization op on SavedModel bundle at path: /tmp/tmpxmmsn6d9\n",
      "2022-11-09 15:20:34.803223: I tensorflow/cc/saved_model/loader.cc:305] SavedModel load for tags { serve }; Status: success: OK. Took 111229 microseconds.\n",
      "WARNING:absl:Found untraced functions such as _jit_compiled_convolution_op, _jit_compiled_convolution_op while saving (showing 2 of 2). These functions will not be directly callable after loading.\n"
     ]
    },
    {
     "name": "stdout",
     "output_type": "stream",
     "text": [
      "INFO:tensorflow:Assets written to: /tmp/tmp5zoe8zmt/assets\n"
     ]
    },
    {
     "name": "stderr",
     "output_type": "stream",
     "text": [
      "INFO:tensorflow:Assets written to: /tmp/tmp5zoe8zmt/assets\n",
      "2022-11-09 15:20:36.818797: W tensorflow/compiler/mlir/lite/python/tf_tfl_flatbuffer_helpers.cc:362] Ignored output_format.\n",
      "2022-11-09 15:20:36.818890: W tensorflow/compiler/mlir/lite/python/tf_tfl_flatbuffer_helpers.cc:365] Ignored drop_control_dependency.\n",
      "2022-11-09 15:20:36.819111: I tensorflow/cc/saved_model/reader.cc:45] Reading SavedModel from: /tmp/tmp5zoe8zmt\n",
      "2022-11-09 15:20:36.821688: I tensorflow/cc/saved_model/reader.cc:89] Reading meta graph with tags { serve }\n",
      "2022-11-09 15:20:36.821747: I tensorflow/cc/saved_model/reader.cc:130] Reading SavedModel debug info (if present) from: /tmp/tmp5zoe8zmt\n",
      "2022-11-09 15:20:36.831037: I tensorflow/cc/saved_model/loader.cc:229] Restoring SavedModel bundle.\n",
      "2022-11-09 15:20:36.899359: I tensorflow/cc/saved_model/loader.cc:213] Running initialization op on SavedModel bundle at path: /tmp/tmp5zoe8zmt\n",
      "2022-11-09 15:20:36.918617: I tensorflow/cc/saved_model/loader.cc:305] SavedModel load for tags { serve }; Status: success: OK. Took 99505 microseconds.\n",
      "WARNING:absl:Found untraced functions such as _jit_compiled_convolution_op, _jit_compiled_convolution_op while saving (showing 2 of 2). These functions will not be directly callable after loading.\n"
     ]
    },
    {
     "name": "stdout",
     "output_type": "stream",
     "text": [
      "INFO:tensorflow:Assets written to: /tmp/tmp2csg5l37/assets\n"
     ]
    },
    {
     "name": "stderr",
     "output_type": "stream",
     "text": [
      "INFO:tensorflow:Assets written to: /tmp/tmp2csg5l37/assets\n",
      "2022-11-09 15:20:38.934103: W tensorflow/compiler/mlir/lite/python/tf_tfl_flatbuffer_helpers.cc:362] Ignored output_format.\n",
      "2022-11-09 15:20:38.934208: W tensorflow/compiler/mlir/lite/python/tf_tfl_flatbuffer_helpers.cc:365] Ignored drop_control_dependency.\n",
      "2022-11-09 15:20:38.934434: I tensorflow/cc/saved_model/reader.cc:45] Reading SavedModel from: /tmp/tmp2csg5l37\n",
      "2022-11-09 15:20:38.937026: I tensorflow/cc/saved_model/reader.cc:89] Reading meta graph with tags { serve }\n",
      "2022-11-09 15:20:38.937087: I tensorflow/cc/saved_model/reader.cc:130] Reading SavedModel debug info (if present) from: /tmp/tmp2csg5l37\n",
      "2022-11-09 15:20:38.945576: I tensorflow/cc/saved_model/loader.cc:229] Restoring SavedModel bundle.\n",
      "2022-11-09 15:20:39.015755: I tensorflow/cc/saved_model/loader.cc:213] Running initialization op on SavedModel bundle at path: /tmp/tmp2csg5l37\n",
      "2022-11-09 15:20:39.035532: I tensorflow/cc/saved_model/loader.cc:305] SavedModel load for tags { serve }; Status: success: OK. Took 101098 microseconds.\n",
      "WARNING:absl:Found untraced functions such as _jit_compiled_convolution_op, _jit_compiled_convolution_op while saving (showing 2 of 2). These functions will not be directly callable after loading.\n"
     ]
    },
    {
     "name": "stdout",
     "output_type": "stream",
     "text": [
      "INFO:tensorflow:Assets written to: /tmp/tmpnhqg12p3/assets\n"
     ]
    },
    {
     "name": "stderr",
     "output_type": "stream",
     "text": [
      "INFO:tensorflow:Assets written to: /tmp/tmpnhqg12p3/assets\n",
      "2022-11-09 15:20:42.886761: W tensorflow/compiler/mlir/lite/python/tf_tfl_flatbuffer_helpers.cc:362] Ignored output_format.\n",
      "2022-11-09 15:20:42.886859: W tensorflow/compiler/mlir/lite/python/tf_tfl_flatbuffer_helpers.cc:365] Ignored drop_control_dependency.\n",
      "2022-11-09 15:20:42.887098: I tensorflow/cc/saved_model/reader.cc:45] Reading SavedModel from: /tmp/tmpnhqg12p3\n",
      "2022-11-09 15:20:42.893382: I tensorflow/cc/saved_model/reader.cc:89] Reading meta graph with tags { serve }\n",
      "2022-11-09 15:20:42.893455: I tensorflow/cc/saved_model/reader.cc:130] Reading SavedModel debug info (if present) from: /tmp/tmpnhqg12p3\n",
      "2022-11-09 15:20:42.918878: I tensorflow/cc/saved_model/loader.cc:229] Restoring SavedModel bundle.\n",
      "2022-11-09 15:20:43.048092: I tensorflow/cc/saved_model/loader.cc:213] Running initialization op on SavedModel bundle at path: /tmp/tmpnhqg12p3\n",
      "2022-11-09 15:20:43.087278: I tensorflow/cc/saved_model/loader.cc:305] SavedModel load for tags { serve }; Status: success: OK. Took 200178 microseconds.\n",
      "WARNING:absl:Found untraced functions such as _jit_compiled_convolution_op, _jit_compiled_convolution_op while saving (showing 2 of 2). These functions will not be directly callable after loading.\n"
     ]
    },
    {
     "name": "stdout",
     "output_type": "stream",
     "text": [
      "INFO:tensorflow:Assets written to: /tmp/tmpq6ueb_nm/assets\n"
     ]
    },
    {
     "name": "stderr",
     "output_type": "stream",
     "text": [
      "INFO:tensorflow:Assets written to: /tmp/tmpq6ueb_nm/assets\n",
      "2022-11-09 15:20:45.413674: W tensorflow/compiler/mlir/lite/python/tf_tfl_flatbuffer_helpers.cc:362] Ignored output_format.\n",
      "2022-11-09 15:20:45.413778: W tensorflow/compiler/mlir/lite/python/tf_tfl_flatbuffer_helpers.cc:365] Ignored drop_control_dependency.\n",
      "2022-11-09 15:20:45.414017: I tensorflow/cc/saved_model/reader.cc:45] Reading SavedModel from: /tmp/tmpq6ueb_nm\n",
      "2022-11-09 15:20:45.419086: I tensorflow/cc/saved_model/reader.cc:89] Reading meta graph with tags { serve }\n",
      "2022-11-09 15:20:45.419153: I tensorflow/cc/saved_model/reader.cc:130] Reading SavedModel debug info (if present) from: /tmp/tmpq6ueb_nm\n",
      "2022-11-09 15:20:45.434467: I tensorflow/cc/saved_model/loader.cc:229] Restoring SavedModel bundle.\n",
      "2022-11-09 15:20:45.524356: I tensorflow/cc/saved_model/loader.cc:213] Running initialization op on SavedModel bundle at path: /tmp/tmpq6ueb_nm\n",
      "2022-11-09 15:20:45.548445: I tensorflow/cc/saved_model/loader.cc:305] SavedModel load for tags { serve }; Status: success: OK. Took 134427 microseconds.\n",
      "WARNING:absl:Found untraced functions such as _jit_compiled_convolution_op, _jit_compiled_convolution_op while saving (showing 2 of 2). These functions will not be directly callable after loading.\n"
     ]
    },
    {
     "name": "stdout",
     "output_type": "stream",
     "text": [
      "INFO:tensorflow:Assets written to: /tmp/tmp7g0g7g0f/assets\n"
     ]
    },
    {
     "name": "stderr",
     "output_type": "stream",
     "text": [
      "INFO:tensorflow:Assets written to: /tmp/tmp7g0g7g0f/assets\n",
      "2022-11-09 15:20:47.697144: W tensorflow/compiler/mlir/lite/python/tf_tfl_flatbuffer_helpers.cc:362] Ignored output_format.\n",
      "2022-11-09 15:20:47.697246: W tensorflow/compiler/mlir/lite/python/tf_tfl_flatbuffer_helpers.cc:365] Ignored drop_control_dependency.\n",
      "2022-11-09 15:20:47.697471: I tensorflow/cc/saved_model/reader.cc:45] Reading SavedModel from: /tmp/tmp7g0g7g0f\n",
      "2022-11-09 15:20:47.700738: I tensorflow/cc/saved_model/reader.cc:89] Reading meta graph with tags { serve }\n",
      "2022-11-09 15:20:47.700811: I tensorflow/cc/saved_model/reader.cc:130] Reading SavedModel debug info (if present) from: /tmp/tmp7g0g7g0f\n",
      "2022-11-09 15:20:47.712310: I tensorflow/cc/saved_model/loader.cc:229] Restoring SavedModel bundle.\n",
      "2022-11-09 15:20:47.789389: I tensorflow/cc/saved_model/loader.cc:213] Running initialization op on SavedModel bundle at path: /tmp/tmp7g0g7g0f\n",
      "2022-11-09 15:20:47.811091: I tensorflow/cc/saved_model/loader.cc:305] SavedModel load for tags { serve }; Status: success: OK. Took 113620 microseconds.\n",
      "WARNING:absl:Found untraced functions such as _jit_compiled_convolution_op, _jit_compiled_convolution_op while saving (showing 2 of 2). These functions will not be directly callable after loading.\n"
     ]
    },
    {
     "name": "stdout",
     "output_type": "stream",
     "text": [
      "INFO:tensorflow:Assets written to: /tmp/tmp7h56lpie/assets\n"
     ]
    },
    {
     "name": "stderr",
     "output_type": "stream",
     "text": [
      "INFO:tensorflow:Assets written to: /tmp/tmp7h56lpie/assets\n",
      "2022-11-09 15:20:49.840654: W tensorflow/compiler/mlir/lite/python/tf_tfl_flatbuffer_helpers.cc:362] Ignored output_format.\n",
      "2022-11-09 15:20:49.840753: W tensorflow/compiler/mlir/lite/python/tf_tfl_flatbuffer_helpers.cc:365] Ignored drop_control_dependency.\n",
      "2022-11-09 15:20:49.840981: I tensorflow/cc/saved_model/reader.cc:45] Reading SavedModel from: /tmp/tmp7h56lpie\n",
      "2022-11-09 15:20:49.843662: I tensorflow/cc/saved_model/reader.cc:89] Reading meta graph with tags { serve }\n",
      "2022-11-09 15:20:49.843721: I tensorflow/cc/saved_model/reader.cc:130] Reading SavedModel debug info (if present) from: /tmp/tmp7h56lpie\n",
      "2022-11-09 15:20:49.853007: I tensorflow/cc/saved_model/loader.cc:229] Restoring SavedModel bundle.\n",
      "2022-11-09 15:20:49.924989: I tensorflow/cc/saved_model/loader.cc:213] Running initialization op on SavedModel bundle at path: /tmp/tmp7h56lpie\n",
      "2022-11-09 15:20:49.944629: I tensorflow/cc/saved_model/loader.cc:305] SavedModel load for tags { serve }; Status: success: OK. Took 103647 microseconds.\n",
      "WARNING:absl:Found untraced functions such as _jit_compiled_convolution_op, _jit_compiled_convolution_op while saving (showing 2 of 2). These functions will not be directly callable after loading.\n"
     ]
    },
    {
     "name": "stdout",
     "output_type": "stream",
     "text": [
      "INFO:tensorflow:Assets written to: /tmp/tmpinch00bi/assets\n"
     ]
    },
    {
     "name": "stderr",
     "output_type": "stream",
     "text": [
      "INFO:tensorflow:Assets written to: /tmp/tmpinch00bi/assets\n",
      "2022-11-09 15:20:53.332808: W tensorflow/compiler/mlir/lite/python/tf_tfl_flatbuffer_helpers.cc:362] Ignored output_format.\n",
      "2022-11-09 15:20:53.332895: W tensorflow/compiler/mlir/lite/python/tf_tfl_flatbuffer_helpers.cc:365] Ignored drop_control_dependency.\n",
      "2022-11-09 15:20:53.333142: I tensorflow/cc/saved_model/reader.cc:45] Reading SavedModel from: /tmp/tmpinch00bi\n",
      "2022-11-09 15:20:53.339073: I tensorflow/cc/saved_model/reader.cc:89] Reading meta graph with tags { serve }\n",
      "2022-11-09 15:20:53.339144: I tensorflow/cc/saved_model/reader.cc:130] Reading SavedModel debug info (if present) from: /tmp/tmpinch00bi\n",
      "2022-11-09 15:20:53.364858: I tensorflow/cc/saved_model/loader.cc:229] Restoring SavedModel bundle.\n",
      "2022-11-09 15:20:53.491388: I tensorflow/cc/saved_model/loader.cc:213] Running initialization op on SavedModel bundle at path: /tmp/tmpinch00bi\n",
      "2022-11-09 15:20:53.532384: I tensorflow/cc/saved_model/loader.cc:305] SavedModel load for tags { serve }; Status: success: OK. Took 199243 microseconds.\n",
      "WARNING:absl:Found untraced functions such as _jit_compiled_convolution_op, _jit_compiled_convolution_op while saving (showing 2 of 2). These functions will not be directly callable after loading.\n"
     ]
    },
    {
     "name": "stdout",
     "output_type": "stream",
     "text": [
      "INFO:tensorflow:Assets written to: /tmp/tmp3oi4lqk8/assets\n"
     ]
    },
    {
     "name": "stderr",
     "output_type": "stream",
     "text": [
      "INFO:tensorflow:Assets written to: /tmp/tmp3oi4lqk8/assets\n",
      "2022-11-09 15:20:55.987197: W tensorflow/compiler/mlir/lite/python/tf_tfl_flatbuffer_helpers.cc:362] Ignored output_format.\n",
      "2022-11-09 15:20:55.987293: W tensorflow/compiler/mlir/lite/python/tf_tfl_flatbuffer_helpers.cc:365] Ignored drop_control_dependency.\n",
      "2022-11-09 15:20:55.987534: I tensorflow/cc/saved_model/reader.cc:45] Reading SavedModel from: /tmp/tmp3oi4lqk8\n",
      "2022-11-09 15:20:55.992958: I tensorflow/cc/saved_model/reader.cc:89] Reading meta graph with tags { serve }\n",
      "2022-11-09 15:20:55.993040: I tensorflow/cc/saved_model/reader.cc:130] Reading SavedModel debug info (if present) from: /tmp/tmp3oi4lqk8\n",
      "2022-11-09 15:20:56.013580: I tensorflow/cc/saved_model/loader.cc:229] Restoring SavedModel bundle.\n",
      "2022-11-09 15:20:56.111640: I tensorflow/cc/saved_model/loader.cc:213] Running initialization op on SavedModel bundle at path: /tmp/tmp3oi4lqk8\n",
      "2022-11-09 15:20:56.144424: I tensorflow/cc/saved_model/loader.cc:305] SavedModel load for tags { serve }; Status: success: OK. Took 156889 microseconds.\n",
      "WARNING:absl:Found untraced functions such as _jit_compiled_convolution_op, _jit_compiled_convolution_op while saving (showing 2 of 2). These functions will not be directly callable after loading.\n"
     ]
    },
    {
     "name": "stdout",
     "output_type": "stream",
     "text": [
      "INFO:tensorflow:Assets written to: /tmp/tmp0ftas6l2/assets\n"
     ]
    },
    {
     "name": "stderr",
     "output_type": "stream",
     "text": [
      "INFO:tensorflow:Assets written to: /tmp/tmp0ftas6l2/assets\n",
      "2022-11-09 15:20:58.285838: W tensorflow/compiler/mlir/lite/python/tf_tfl_flatbuffer_helpers.cc:362] Ignored output_format.\n",
      "2022-11-09 15:20:58.285939: W tensorflow/compiler/mlir/lite/python/tf_tfl_flatbuffer_helpers.cc:365] Ignored drop_control_dependency.\n",
      "2022-11-09 15:20:58.286203: I tensorflow/cc/saved_model/reader.cc:45] Reading SavedModel from: /tmp/tmp0ftas6l2\n",
      "2022-11-09 15:20:58.289541: I tensorflow/cc/saved_model/reader.cc:89] Reading meta graph with tags { serve }\n",
      "2022-11-09 15:20:58.289609: I tensorflow/cc/saved_model/reader.cc:130] Reading SavedModel debug info (if present) from: /tmp/tmp0ftas6l2\n",
      "2022-11-09 15:20:58.301993: I tensorflow/cc/saved_model/loader.cc:229] Restoring SavedModel bundle.\n",
      "2022-11-09 15:20:58.383528: I tensorflow/cc/saved_model/loader.cc:213] Running initialization op on SavedModel bundle at path: /tmp/tmp0ftas6l2\n",
      "2022-11-09 15:20:58.409342: I tensorflow/cc/saved_model/loader.cc:305] SavedModel load for tags { serve }; Status: success: OK. Took 123134 microseconds.\n"
     ]
    }
   ],
   "source": [
    "print(tf.keras.backend.floatx())\n",
    "\n",
    "# df = pd.read_pickle('/tmp/df_price_type_none.pkl')\n",
    "df = pd.read_pickle('/tmp/df_horizon8_price_type_none.pkl')\n",
    "# df = pd.read_pickle('/tmp/df_horizon4_price_type_none.pkl')\n",
    "# df = df.iloc[-10000:]\n",
    "\n",
    "df = df.loc[df.index.get_level_values('timestamp') < pd.to_datetime('2022-11-07 00:00:00Z')]\n",
    "\n",
    "btc_timestamps = df.loc[df.index.get_level_values('symbol') == 'BTC'].index.get_level_values('timestamp')\n",
    "# sol_timestamps = df.loc[df.index.get_level_values('symbol') == 'SOL'].index.get_level_values('timestamp')\n",
    "df = df.loc[df.index.get_level_values('timestamp').isin(btc_timestamps)]\n",
    "# df = df.loc[df.index.get_level_values('timestamp').isin(sol_timestamps)]\n",
    "\n",
    "# model = ExampleModelRank(1)\n",
    "model = ExampleModelRank(10)\n",
    "\n",
    "# # cv\n",
    "df_cv = calc_position_cv2(model, df)\n",
    "visualize_result(df_cv.dropna())\n",
    "# small ensemble result: https://gist.github.com/richmanbtc/5275f155527ae6d7d2232c3aa6d203e9\n",
    "\n",
    "# fit and save model as portable format\n",
    "model = ExampleModelRank(80)\n",
    "model.fit(df)\n",
    "data = cloudpickle.dumps(model)\n",
    "data = lzma.compress(data)\n",
    "with open('/home/jovyan/data/20221028_btc_one_cnn_h8.xz', 'wb') as f:\n",
    "    f.write(data)"
   ]
  },
  {
   "cell_type": "code",
   "execution_count": 12,
   "id": "5d9ca8fc-dafe-4d1b-9a0f-e84f7e46f6c6",
   "metadata": {
    "execution": {
     "iopub.execute_input": "2022-11-09T15:20:58.992809Z",
     "iopub.status.busy": "2022-11-09T15:20:58.992047Z",
     "iopub.status.idle": "2022-11-09T15:21:34.916890Z",
     "shell.execute_reply": "2022-11-09T15:21:34.915497Z"
    }
   },
   "outputs": [
    {
     "data": {
      "image/png": "[encoded data removed]",
      "text/plain": [
       "<Figure size 640x480 with 1 Axes>"
      ]
     },
     "metadata": {},
     "output_type": "display_data"
    },
    {
     "name": "stdout",
     "output_type": "stream",
     "text": [
      "timestamp                  symbol\n",
      "2022-09-10 12:00:00+00:00  ADA      -0.111111\n",
      "                           ATOM     -0.111111\n",
      "                           BNB      -0.111111\n",
      "                           BTC       0.000000\n",
      "                           DOT      -0.111111\n",
      "                                       ...   \n",
      "2022-11-09 12:00:00+00:00  ETH       0.168924\n",
      "                           LINK      0.123452\n",
      "                           MATIC     0.125628\n",
      "                           SOL       0.252310\n",
      "                           XRP       0.154608\n",
      "Name: position, Length: 14410, dtype: float32\n",
      "['ADA', 'ATOM', 'BNB', 'BTC', 'DOT', 'ETH', 'LINK', 'MATIC', 'SOL', 'XRP']\n",
      "test shift predict\n"
     ]
    },
    {
     "data": {
      "image/png": "[encoded data removed]",
      "text/plain": [
       "<Figure size 640x480 with 1 Axes>"
      ]
     },
     "metadata": {},
     "output_type": "display_data"
    },
    {
     "data": {
      "image/png": "[encoded data removed]",
      "text/plain": [
       "<Figure size 640x480 with 1 Axes>"
      ]
     },
     "metadata": {},
     "output_type": "display_data"
    },
    {
     "data": {
      "image/png": "[encoded data removed]",
      "text/plain": [
       "<Figure size 640x480 with 1 Axes>"
      ]
     },
     "metadata": {},
     "output_type": "display_data"
    },
    {
     "data": {
      "text/html": [
       "<div>\n",
       "<style scoped>\n",
       "    .dataframe tbody tr th:only-of-type {\n",
       "        vertical-align: middle;\n",
       "    }\n",
       "\n",
       "    .dataframe tbody tr th {\n",
       "        vertical-align: top;\n",
       "    }\n",
       "\n",
       "    .dataframe thead th {\n",
       "        text-align: right;\n",
       "    }\n",
       "</style>\n",
       "<table border=\"1\" class=\"dataframe\">\n",
       "  <thead>\n",
       "    <tr style=\"text-align: right;\">\n",
       "      <th></th>\n",
       "      <th></th>\n",
       "      <th>position1</th>\n",
       "      <th>position2</th>\n",
       "      <th>position3</th>\n",
       "    </tr>\n",
       "    <tr>\n",
       "      <th>timestamp</th>\n",
       "      <th>symbol</th>\n",
       "      <th></th>\n",
       "      <th></th>\n",
       "      <th></th>\n",
       "    </tr>\n",
       "  </thead>\n",
       "  <tbody>\n",
       "    <tr>\n",
       "      <th rowspan=\"5\" valign=\"top\">2022-09-10 13:00:00+00:00</th>\n",
       "      <th>ADA</th>\n",
       "      <td>-0.111111</td>\n",
       "      <td>-0.111111</td>\n",
       "      <td>-0.111111</td>\n",
       "    </tr>\n",
       "    <tr>\n",
       "      <th>ATOM</th>\n",
       "      <td>-0.111111</td>\n",
       "      <td>-0.111111</td>\n",
       "      <td>-0.111111</td>\n",
       "    </tr>\n",
       "    <tr>\n",
       "      <th>BNB</th>\n",
       "      <td>-0.111111</td>\n",
       "      <td>-0.111111</td>\n",
       "      <td>-0.111111</td>\n",
       "    </tr>\n",
       "    <tr>\n",
       "      <th>BTC</th>\n",
       "      <td>0.000000</td>\n",
       "      <td>0.000000</td>\n",
       "      <td>0.000000</td>\n",
       "    </tr>\n",
       "    <tr>\n",
       "      <th>DOT</th>\n",
       "      <td>-0.111111</td>\n",
       "      <td>-0.111111</td>\n",
       "      <td>-0.111111</td>\n",
       "    </tr>\n",
       "    <tr>\n",
       "      <th>...</th>\n",
       "      <th>...</th>\n",
       "      <td>...</td>\n",
       "      <td>...</td>\n",
       "      <td>...</td>\n",
       "    </tr>\n",
       "    <tr>\n",
       "      <th rowspan=\"5\" valign=\"top\">2022-11-09 11:00:00+00:00</th>\n",
       "      <th>ETH</th>\n",
       "      <td>0.190069</td>\n",
       "      <td>0.190069</td>\n",
       "      <td>0.190069</td>\n",
       "    </tr>\n",
       "    <tr>\n",
       "      <th>LINK</th>\n",
       "      <td>0.129424</td>\n",
       "      <td>0.129424</td>\n",
       "      <td>0.129424</td>\n",
       "    </tr>\n",
       "    <tr>\n",
       "      <th>MATIC</th>\n",
       "      <td>0.136680</td>\n",
       "      <td>0.136680</td>\n",
       "      <td>0.136680</td>\n",
       "    </tr>\n",
       "    <tr>\n",
       "      <th>SOL</th>\n",
       "      <td>0.218091</td>\n",
       "      <td>0.218091</td>\n",
       "      <td>0.218091</td>\n",
       "    </tr>\n",
       "    <tr>\n",
       "      <th>XRP</th>\n",
       "      <td>0.170106</td>\n",
       "      <td>0.170106</td>\n",
       "      <td>0.170106</td>\n",
       "    </tr>\n",
       "  </tbody>\n",
       "</table>\n",
       "<p>14390 rows × 3 columns</p>\n",
       "</div>"
      ],
      "text/plain": [
       "                                  position1  position2  position3\n",
       "timestamp                 symbol                                 \n",
       "2022-09-10 13:00:00+00:00 ADA     -0.111111  -0.111111  -0.111111\n",
       "                          ATOM    -0.111111  -0.111111  -0.111111\n",
       "                          BNB     -0.111111  -0.111111  -0.111111\n",
       "                          BTC      0.000000   0.000000   0.000000\n",
       "                          DOT     -0.111111  -0.111111  -0.111111\n",
       "...                                     ...        ...        ...\n",
       "2022-11-09 11:00:00+00:00 ETH      0.190069   0.190069   0.190069\n",
       "                          LINK     0.129424   0.129424   0.129424\n",
       "                          MATIC    0.136680   0.136680   0.136680\n",
       "                          SOL      0.218091   0.218091   0.218091\n",
       "                          XRP      0.170106   0.170106   0.170106\n",
       "\n",
       "[14390 rows x 3 columns]"
      ]
     },
     "metadata": {},
     "output_type": "display_data"
    },
    {
     "data": {
      "image/png": "[encoded data removed]",
      "text/plain": [
       "<Figure size 640x480 with 1 Axes>"
      ]
     },
     "metadata": {},
     "output_type": "display_data"
    },
    {
     "name": "stdout",
     "output_type": "stream",
     "text": [
      "ADA (1439, 4)\n",
      "ATOM (1439, 4)\n",
      "BNB (1439, 4)\n",
      "BTC (1439, 4)\n",
      "DOT (1439, 4)\n",
      "ETH (1439, 4)\n",
      "LINK (1439, 4)\n",
      "MATIC (1439, 4)\n",
      "SOL (1439, 4)\n",
      "XRP (1439, 4)\n"
     ]
    },
    {
     "data": {
      "image/png": "[encoded data removed]",
      "text/plain": [
       "<Figure size 640x480 with 1 Axes>"
      ]
     },
     "metadata": {},
     "output_type": "display_data"
    }
   ],
   "source": [
    "# model validation (Just run this cell in the new kernel to make sure you saved it in a portable format.)\n",
    "\n",
    "import os\n",
    "import joblib\n",
    "import pandas as pd\n",
    "\n",
    "model = joblib.load('/home/jovyan/data/20221028_btc_one_cnn_h8.xz')\n",
    "df = pd.read_pickle('/tmp/df_horizon8_price_type_none.pkl')\n",
    "df = df[['op', 'hi', 'lo', 'cl', 'volume']]\n",
    "max_timestamp = df.index.get_level_values('timestamp').max()\n",
    "df = df.loc[max_timestamp - pd.to_timedelta(model.max_data_sec, unit='S') <= df.index.get_level_values('timestamp')]\n",
    "print(model.predict(df))\n",
    "print(model.symbols)\n",
    "\n",
    "\n",
    "\n",
    "print('test shift predict')\n",
    "import matplotlib.pyplot as plt\n",
    "\n",
    "position1 = model.predict(df)\n",
    "position2 = model.predict(df.loc[df.index.get_level_values('timestamp') < max_timestamp])\n",
    "position3 = model.predict(df.loc[df.index.get_level_values('timestamp').min() < df.index.get_level_values('timestamp')])\n",
    "\n",
    "test_timestamp = max_timestamp - pd.to_timedelta(1, unit='H')\n",
    "df_test = pd.concat([\n",
    "    position1.rename('position1'),\n",
    "    position2.rename('position2'),\n",
    "    position3.rename('position3'),\n",
    "], axis=1)\n",
    "\n",
    "df_test = df_test.dropna()\n",
    "display(df_test)\n",
    "\n",
    "for symbol, df_symbol in df_test.groupby('symbol'):\n",
    "    df_symbol = df_symbol.reset_index().set_index('timestamp')\n",
    "    (df_symbol['position2'] - df_symbol['position1']).plot()\n",
    "plt.show()\n",
    "\n",
    "for symbol, df_symbol in df_test.groupby('symbol'):\n",
    "    df_symbol = df_symbol.reset_index().set_index('timestamp')\n",
    "    print(symbol, df_symbol.shape)\n",
    "    (df_symbol['position3'] - df_symbol['position1']).plot()\n",
    "plt.show()"
   ]
  },
  {
   "cell_type": "code",
   "execution_count": null,
   "id": "b1c337ac-00f8-47d0-abd2-e7f4862ef62f",
   "metadata": {},
   "outputs": [],
   "source": []
  }
 ],
 "metadata": {
  "kernelspec": {
   "display_name": "Python 3 (ipykernel)",
   "language": "python",
   "name": "python3"
  },
  "language_info": {
   "codemirror_mode": {
    "name": "ipython",
    "version": 3
   },
   "file_extension": ".py",
   "mimetype": "text/x-python",
   "name": "python",
   "nbconvert_exporter": "python",
   "pygments_lexer": "ipython3",
   "version": "3.10.6"
  }
 },
 "nbformat": 4,
 "nbformat_minor": 5
}
