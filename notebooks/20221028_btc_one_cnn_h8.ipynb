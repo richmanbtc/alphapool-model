{
 "cells": [
  {
   "cell_type": "code",
   "execution_count": 1,
   "id": "69f846ac-9e0c-4042-957d-a3ca24acf396",
   "metadata": {},
   "outputs": [],
   "source": [
    "import os\n",
    "import sys\n",
    "p = '..'\n",
    "while not os.path.isdir(p + '/notebooks'):\n",
    "    p += '/..'\n",
    "sys.path.append(p) # for import src\n",
    "\n",
    "import os\n",
    "import cloudpickle\n",
    "import lzma\n",
    "import pandas as pd\n",
    "import numpy as np\n",
    "from sklearn.linear_model import Ridge\n",
    "from sklearn.model_selection import cross_val_predict\n",
    "from scipy.stats import pearsonr\n",
    "import matplotlib.pyplot as plt\n",
    "import lightgbm as lgb\n",
    "import talib\n",
    "import joblib\n",
    "\n",
    "import src\n",
    "from src.ml_utils import (\n",
    "    fetch_ohlcv, \n",
    "    visualize_result, \n",
    "    normalize_position, \n",
    "    calc_position_cv2,\n",
    "    get_feature_columns,\n",
    "    get_symbols,\n",
    "    unbiased_rank,\n",
    "    ewm_finite,\n",
    ")\n",
    "cloudpickle.register_pickle_by_value(src) # for model portability\n",
    "\n",
    "os.environ[\"USE_JOBLIB_MEMORY\"] = \"1\"\n",
    "\n",
    "def get_joblib_memory():\n",
    "    if os.getenv('USE_JOBLIB_MEMORY'):\n",
    "        return joblib.Memory('/tmp/alphapool_joblib_memory', verbose=0)\n",
    "    else:\n",
    "        return joblib.Memory(None, verbose=0)\n"
   ]
  },
  {
   "cell_type": "code",
   "execution_count": 11,
   "id": "ec39979e-af09-44f8-a210-b95b7bc0af8a",
   "metadata": {},
   "outputs": [
    {
     "data": {
      "text/html": [
       "<div>\n",
       "<style scoped>\n",
       "    .dataframe tbody tr th:only-of-type {\n",
       "        vertical-align: middle;\n",
       "    }\n",
       "\n",
       "    .dataframe tbody tr th {\n",
       "        vertical-align: top;\n",
       "    }\n",
       "\n",
       "    .dataframe thead th {\n",
       "        text-align: right;\n",
       "    }\n",
       "</style>\n",
       "<table border=\"1\" class=\"dataframe\">\n",
       "  <thead>\n",
       "    <tr style=\"text-align: right;\">\n",
       "      <th></th>\n",
       "      <th></th>\n",
       "      <th>op</th>\n",
       "      <th>hi</th>\n",
       "      <th>lo</th>\n",
       "      <th>cl</th>\n",
       "      <th>volume</th>\n",
       "      <th>execution_start_at</th>\n",
       "      <th>ret</th>\n",
       "    </tr>\n",
       "    <tr>\n",
       "      <th>timestamp</th>\n",
       "      <th>symbol</th>\n",
       "      <th></th>\n",
       "      <th></th>\n",
       "      <th></th>\n",
       "      <th></th>\n",
       "      <th></th>\n",
       "      <th></th>\n",
       "      <th></th>\n",
       "    </tr>\n",
       "  </thead>\n",
       "  <tbody>\n",
       "    <tr>\n",
       "      <th rowspan=\"4\" valign=\"top\">2019-07-20 12:00:00+00:00</th>\n",
       "      <th>BNB</th>\n",
       "      <td>30.722500</td>\n",
       "      <td>30.772500</td>\n",
       "      <td>30.6250</td>\n",
       "      <td>30.625000</td>\n",
       "      <td>2.215166e+04</td>\n",
       "      <td>2019-07-20 13:00:00+00:00</td>\n",
       "      <td>0.026612</td>\n",
       "    </tr>\n",
       "    <tr>\n",
       "      <th>BTC</th>\n",
       "      <td>10564.250000</td>\n",
       "      <td>10630.000000</td>\n",
       "      <td>10525.5000</td>\n",
       "      <td>10539.500000</td>\n",
       "      <td>1.052997e+07</td>\n",
       "      <td>2019-07-20 13:00:00+00:00</td>\n",
       "      <td>0.034090</td>\n",
       "    </tr>\n",
       "    <tr>\n",
       "      <th>ETH</th>\n",
       "      <td>225.930000</td>\n",
       "      <td>226.440000</td>\n",
       "      <td>225.5100</td>\n",
       "      <td>225.830000</td>\n",
       "      <td>0.000000e+00</td>\n",
       "      <td>2019-07-20 13:00:00+00:00</td>\n",
       "      <td>0.030901</td>\n",
       "    </tr>\n",
       "    <tr>\n",
       "      <th>XRP</th>\n",
       "      <td>0.327975</td>\n",
       "      <td>0.328400</td>\n",
       "      <td>0.3270</td>\n",
       "      <td>0.327975</td>\n",
       "      <td>0.000000e+00</td>\n",
       "      <td>2019-07-20 13:00:00+00:00</td>\n",
       "      <td>0.037908</td>\n",
       "    </tr>\n",
       "    <tr>\n",
       "      <th>2019-07-20 13:00:00+00:00</th>\n",
       "      <th>BNB</th>\n",
       "      <td>30.625000</td>\n",
       "      <td>30.867500</td>\n",
       "      <td>30.3350</td>\n",
       "      <td>30.562500</td>\n",
       "      <td>1.649716e+05</td>\n",
       "      <td>2019-07-20 14:00:00+00:00</td>\n",
       "      <td>0.026836</td>\n",
       "    </tr>\n",
       "    <tr>\n",
       "      <th>...</th>\n",
       "      <th>...</th>\n",
       "      <td>...</td>\n",
       "      <td>...</td>\n",
       "      <td>...</td>\n",
       "      <td>...</td>\n",
       "      <td>...</td>\n",
       "      <td>...</td>\n",
       "      <td>...</td>\n",
       "    </tr>\n",
       "    <tr>\n",
       "      <th rowspan=\"5\" valign=\"top\">2022-11-09 18:00:00+00:00</th>\n",
       "      <th>ETH</th>\n",
       "      <td>1218.600000</td>\n",
       "      <td>1269.900000</td>\n",
       "      <td>1181.2000</td>\n",
       "      <td>1182.500000</td>\n",
       "      <td>1.666431e+08</td>\n",
       "      <td>2022-11-09 19:00:00+00:00</td>\n",
       "      <td>NaN</td>\n",
       "    </tr>\n",
       "    <tr>\n",
       "      <th>LINK</th>\n",
       "      <td>6.549500</td>\n",
       "      <td>6.585000</td>\n",
       "      <td>6.2205</td>\n",
       "      <td>6.354000</td>\n",
       "      <td>3.235070e+06</td>\n",
       "      <td>2022-11-09 19:00:00+00:00</td>\n",
       "      <td>NaN</td>\n",
       "    </tr>\n",
       "    <tr>\n",
       "      <th>MATIC</th>\n",
       "      <td>0.821400</td>\n",
       "      <td>0.835000</td>\n",
       "      <td>0.7952</td>\n",
       "      <td>0.818200</td>\n",
       "      <td>6.307637e+06</td>\n",
       "      <td>2022-11-09 19:00:00+00:00</td>\n",
       "      <td>NaN</td>\n",
       "    </tr>\n",
       "    <tr>\n",
       "      <th>SOL</th>\n",
       "      <td>14.862500</td>\n",
       "      <td>15.137500</td>\n",
       "      <td>12.1000</td>\n",
       "      <td>13.770000</td>\n",
       "      <td>8.465485e+07</td>\n",
       "      <td>2022-11-09 19:00:00+00:00</td>\n",
       "      <td>NaN</td>\n",
       "    </tr>\n",
       "    <tr>\n",
       "      <th>XRP</th>\n",
       "      <td>0.359050</td>\n",
       "      <td>0.360625</td>\n",
       "      <td>0.3435</td>\n",
       "      <td>0.350275</td>\n",
       "      <td>3.780293e+06</td>\n",
       "      <td>2022-11-09 19:00:00+00:00</td>\n",
       "      <td>NaN</td>\n",
       "    </tr>\n",
       "  </tbody>\n",
       "</table>\n",
       "<p>262098 rows × 7 columns</p>\n",
       "</div>"
      ],
      "text/plain": [
       "                                            op            hi          lo  \\\n",
       "timestamp                 symbol                                           \n",
       "2019-07-20 12:00:00+00:00 BNB        30.722500     30.772500     30.6250   \n",
       "                          BTC     10564.250000  10630.000000  10525.5000   \n",
       "                          ETH       225.930000    226.440000    225.5100   \n",
       "                          XRP         0.327975      0.328400      0.3270   \n",
       "2019-07-20 13:00:00+00:00 BNB        30.625000     30.867500     30.3350   \n",
       "...                                        ...           ...         ...   \n",
       "2022-11-09 18:00:00+00:00 ETH      1218.600000   1269.900000   1181.2000   \n",
       "                          LINK        6.549500      6.585000      6.2205   \n",
       "                          MATIC       0.821400      0.835000      0.7952   \n",
       "                          SOL        14.862500     15.137500     12.1000   \n",
       "                          XRP         0.359050      0.360625      0.3435   \n",
       "\n",
       "                                            cl        volume  \\\n",
       "timestamp                 symbol                               \n",
       "2019-07-20 12:00:00+00:00 BNB        30.625000  2.215166e+04   \n",
       "                          BTC     10539.500000  1.052997e+07   \n",
       "                          ETH       225.830000  0.000000e+00   \n",
       "                          XRP         0.327975  0.000000e+00   \n",
       "2019-07-20 13:00:00+00:00 BNB        30.562500  1.649716e+05   \n",
       "...                                        ...           ...   \n",
       "2022-11-09 18:00:00+00:00 ETH      1182.500000  1.666431e+08   \n",
       "                          LINK        6.354000  3.235070e+06   \n",
       "                          MATIC       0.818200  6.307637e+06   \n",
       "                          SOL        13.770000  8.465485e+07   \n",
       "                          XRP         0.350275  3.780293e+06   \n",
       "\n",
       "                                        execution_start_at       ret  \n",
       "timestamp                 symbol                                      \n",
       "2019-07-20 12:00:00+00:00 BNB    2019-07-20 13:00:00+00:00  0.026612  \n",
       "                          BTC    2019-07-20 13:00:00+00:00  0.034090  \n",
       "                          ETH    2019-07-20 13:00:00+00:00  0.030901  \n",
       "                          XRP    2019-07-20 13:00:00+00:00  0.037908  \n",
       "2019-07-20 13:00:00+00:00 BNB    2019-07-20 14:00:00+00:00  0.026836  \n",
       "...                                                    ...       ...  \n",
       "2022-11-09 18:00:00+00:00 ETH    2022-11-09 19:00:00+00:00       NaN  \n",
       "                          LINK   2022-11-09 19:00:00+00:00       NaN  \n",
       "                          MATIC  2022-11-09 19:00:00+00:00       NaN  \n",
       "                          SOL    2022-11-09 19:00:00+00:00       NaN  \n",
       "                          XRP    2022-11-09 19:00:00+00:00       NaN  \n",
       "\n",
       "[262098 rows x 7 columns]"
      ]
     },
     "metadata": {},
     "output_type": "display_data"
    }
   ],
   "source": [
    "# symbols = 'BTC,ETH'.split(',')\n",
    "symbols = os.getenv('ALPHAPOOL_SYMBOLS').split(',') # 売買代金が多く、古いもの\n",
    "df = fetch_ohlcv(symbols=symbols, with_target=True, price_type=None, horizon=8)\n",
    "df.to_pickle('/tmp/df_horizon8_price_type_none.pkl')\n",
    "display(df)"
   ]
  },
  {
   "cell_type": "code",
   "execution_count": 12,
   "id": "463f3d07-3dac-4173-90c1-33426b09861c",
   "metadata": {},
   "outputs": [],
   "source": [
    "# based on 20220910_eda\n",
    "\n",
    "import numba\n",
    "from pandas.api.types import is_float_dtype\n",
    "\n",
    "def signed_rsi_sma(x, timeperiod=14):\n",
    "    v = x.diff(1).fillna(0)\n",
    "    return (v.rolling(timeperiod, 1).sum() / (1e-37 + v.abs().rolling(timeperiod, 1).sum())).clip(-1, 1)\n",
    "\n",
    "def uniform_rank(x):\n",
    "    return unbiased_rank(x)\n",
    "    # count = x.transform(\"count\")\n",
    "    # rank = x.rank()\n",
    "    # return (rank - 0.5) / count\n",
    "\n",
    "def beta_mean(df, col):\n",
    "    # broadcast btc value\n",
    "    idx = df.index.to_frame()\n",
    "    idx['symbol'] = 'BTC'\n",
    "    idx = pd.MultiIndex.from_frame(idx)\n",
    "    return pd.Series(df.loc[idx, col].values, index=df.index)\n",
    "    \n",
    "def calc_features(df, with_ret=False):\n",
    "    mem = get_joblib_memory()\n",
    "    return mem.cache(do_calc_features)(df, with_ret=with_ret)\n",
    "    \n",
    "def do_calc_features(df, with_ret=False):\n",
    "    dfs = []\n",
    "    for symbol, df_symbol in df.groupby('symbol'):\n",
    "        dfs.append(calc_features_single(df_symbol))\n",
    "    df = pd.concat(dfs).sort_index()\n",
    "\n",
    "    beta_window = 24 * 30\n",
    "    # beta_window = 24 * 7\n",
    "\n",
    "    # df['ln_cl_diff_mean'] = df.groupby('timestamp')['ln_cl_diff'].transform('mean')\n",
    "    df['ln_cl_diff_mean'] = beta_mean(df, 'ln_cl_diff')\n",
    "    \n",
    "    # wrong\n",
    "    # df['beta'] = df.groupby('symbol')['ln_cl_diff'].transform(lambda x: x.rolling(beta_window, 1).corr(df.loc[x.index, 'ln_cl_diff_mean'])).fillna(0).clip(0.1, 2.0)\n",
    "\n",
    "    # df['beta'] = (\n",
    "    #     (df['ln_cl_diff'] * df['ln_cl_diff_mean']).groupby('symbol').transform(lambda x: x.rolling(beta_window, 1).mean())\n",
    "    #     / (df['ln_cl_diff_mean'] ** 2).groupby('symbol').transform(lambda x: x.rolling(beta_window, 1).mean())\n",
    "    # ).fillna(0).clip(0.1, 2.0)\n",
    "    df['beta'] = 1.0\n",
    "    \n",
    "    dfs = [\n",
    "        df,\n",
    "        # df.drop(columns=get_feature_columns(df)),\n",
    "    ]\n",
    "    \n",
    "    if with_ret:\n",
    "        ret_mean = beta_mean(df, 'ret')\n",
    "        dfs += [\n",
    "            (uniform_rank(df.groupby('timestamp')['ret']) - 0.5).rename('ret_rank'),\n",
    "            (df['ret'] - df['beta'] * ret_mean).rename('ret_beta'),\n",
    "        ]\n",
    "    \n",
    "    for col in get_feature_columns(df):\n",
    "        feature_mean = beta_mean(df, col)\n",
    "        dfs += [\n",
    "            # (2 * uniform_rank(df.groupby('timestamp')[col]) - 1).rename(col + '_symbolrank'),\n",
    "            (df[col] - df['beta'] * feature_mean).rename(col + '_symbolbeta'),\n",
    "        ]\n",
    "    df = pd.concat(dfs, axis=1)\n",
    "    \n",
    "    # dfs = [df]\n",
    "    # for col in get_feature_columns(df):\n",
    "    #     if '_symbolbeta' not in col:\n",
    "    #         continue\n",
    "    #     dfs += [\n",
    "    #         (2 * uniform_rank(df.groupby('timestamp')[col]) - 1).rename(col.replace('symbolbeta', 'symbolbtrk')),\n",
    "    #     ]\n",
    "    # df = pd.concat(dfs, axis=1)\n",
    "    \n",
    "    df = df[sorted([x for x in df.columns if is_float_dtype(df.dtypes[x])])].copy().astype('float32')\n",
    "\n",
    "    return df\n",
    "\n",
    "def calc_features_single(df):\n",
    "    df = df.copy()\n",
    "\n",
    "    high = df['hi']\n",
    "    low = df['lo']\n",
    "    close = df['cl']\n",
    "    volume = df['volume']\n",
    "    df['ln_cl'] = np.log(df['cl'])\n",
    "    df['ln_hi'] = np.log(df['hi'])\n",
    "    df['ln_lo'] = np.log(df['lo'])\n",
    "    df['ln_hilo'] = 0.5 * (df['ln_hi'] + df['ln_lo'])\n",
    "    df['ln_cl_diff'] = df['ln_cl'].diff(1).fillna(0)\n",
    "    df['ln_volume'] = np.log1p(df['volume'])\n",
    "\n",
    "    dfs = [df]\n",
    "    \n",
    "    # for i in range(1, 96):\n",
    "    # for i in range(1, 96 // 4):\n",
    "    for i in range(1, 96 // 8):\n",
    "    # for i in range(1, 192 // 8):\n",
    "        dfs += [\n",
    "            # (df['ln_cl'] - df['ln_cl'].rolling(8 * i).mean()).fillna(0).rename('feature_{:02}_ln_cl_kairi'.format(i)), # good\n",
    "            # df['ln_cl'].diff(8).shift(i * 8).fillna(0).rename('feature_ln_cl_diff_{:02}'.format(i)),\n",
    "            df['ln_cl'].diff(8 * i).fillna(0).rename('feature_{:02}_ln_cl_diff'.format(i)), # good\n",
    "            # df['ln_cl'].diff(1 * i).fillna(0).rename('feature_{:02}_ln_cl_diff'.format(i)),\n",
    "            # df['ln_cl'].diff(4 * i).fillna(0).rename('feature_{:02}_ln_cl_diff'.format(i)),\n",
    "            # df['ln_cl'].rolling(8 * i).std().fillna(0).rename('feature_{:02}_ln_cl_std'.format(i)),\n",
    "            # df['ln_volume'].diff(8 * i).fillna(0).rename('feature_{:02}_ln_volume_diff'.format(i)),\n",
    "            # df['ln_volume'].rolling(8 * i).mean().fillna(0).rename('feature_{:02}_ln_volume_mean'.format(i)),\n",
    "            # np.log1p(df['volume'].rolling(8 * i).mean()).fillna(0).rename('feature_{:02}_ln_volume_mean2'.format(i)),\n",
    "            # signed_rsi_sma(df['cl'], timeperiod=i).fillna(0).rename('feature_{:02}_rsi'.format(i)),\n",
    "        ]\n",
    "\n",
    "    return pd.concat(dfs, axis=1)"
   ]
  },
  {
   "cell_type": "code",
   "execution_count": 13,
   "id": "3ffd0d1e-fb4b-45f6-8f65-4dda9bb3598c",
   "metadata": {},
   "outputs": [],
   "source": [
    "import tensorflow as tf\n",
    "from tensorflow.keras.layers import (\n",
    "    Input, Dense, Dropout, Reshape, Conv1D, Conv2D, Conv3D, Flatten, MaxPooling1D, AveragePooling1D,\n",
    "    BatchNormalization, Concatenate, Activation, Rescaling, Add, Subtract, Lambda,\n",
    "    GlobalMaxPooling1D, GlobalAveragePooling1D\n",
    ")\n",
    "from tensorflow.keras.models import Model\n",
    "from tensorflow.keras.optimizers import Nadam, SGD, Adam\n",
    "from tensorflow.keras import regularizers\n",
    "from tensorflow.keras import initializers\n",
    "from scipy.stats import norm\n",
    "from scikeras.wrappers import KerasRegressor\n",
    "from functools import partial\n",
    "import tensorflow_addons as tfa"
   ]
  },
  {
   "cell_type": "code",
   "execution_count": 14,
   "id": "2f272bbd-ad1c-43a3-b242-e236340a3ab8",
   "metadata": {},
   "outputs": [],
   "source": [
    "from tensorflow.python.ops import gen_math_ops, nn_ops\n",
    "\n",
    "class GaussianDropConnectDense(Dense):\n",
    "    def build(self, input_shape):\n",
    "        super().build(input_shape)\n",
    "        \n",
    "        self.kernel_initial = self.kernel.numpy()\n",
    "        # print(self.kernel_initial)\n",
    "        \n",
    "#         self.kernel_old = self.kernel\n",
    "#         self.bias_old = self.bias\n",
    "        \n",
    "        \n",
    "        \n",
    "#         self.kernel = self.kernel_old\n",
    "#         self.bias = self.bias_old * tf.keras.backend.random_normal(\n",
    "#             shape=tf.shape(self.bias_old),\n",
    "#             mean=1.0,\n",
    "#             stddev=sigma,\n",
    "#             dtype=self.bias_old.dtype,\n",
    "#             seed=None\n",
    "#         )\n",
    "    \n",
    "    def call(self, inputs, training=None):     \n",
    "        # dropout_rate = 0.3   \n",
    "        dropout_rate = 0.5      \n",
    "        # dropout_rate = 0.7\n",
    "        sigma = np.sqrt(dropout_rate / (1.0 - dropout_rate))\n",
    "        \n",
    "        # kernel = self.kernel_initial + tf.keras.backend.dropout(self.kernel - self.kernel_initial, dropout_rate, seed=None) / (1.0 - dropout_rate)\n",
    "        kernel = self.kernel_initial + (self.kernel - self.kernel_initial) * tf.keras.backend.random_normal(\n",
    "            shape=tf.shape(self.kernel),\n",
    "            mean=1.0,\n",
    "            stddev=sigma,\n",
    "            dtype=self.kernel.dtype,\n",
    "            seed=None\n",
    "        )\n",
    "        bias = self.bias\n",
    "        \n",
    "        # kernel = self.kernel * tf.keras.backend.random_normal(\n",
    "        #     shape=tf.shape(self.kernel),\n",
    "        #     mean=1.0,\n",
    "        #     stddev=sigma,\n",
    "        #     dtype=self.kernel.dtype,\n",
    "        #     seed=None\n",
    "        # )\n",
    "        # bias = self.bias * tf.keras.backend.random_normal(\n",
    "        #     shape=tf.shape(self.bias),\n",
    "        #     mean=1.0,\n",
    "        #     stddev=sigma,\n",
    "        #     dtype=self.bias.dtype,\n",
    "        #     seed=None\n",
    "        # )\n",
    "        \n",
    "        kernel = tf.keras.backend.in_train_phase(kernel, self.kernel, training=training)\n",
    "        bias = tf.keras.backend.in_train_phase(bias, self.bias, training=training)\n",
    "        \n",
    "        if inputs.dtype.base_dtype != self._compute_dtype_object.base_dtype:\n",
    "          inputs = math_ops.cast(inputs, dtype=self._compute_dtype_object)\n",
    "\n",
    "        rank = inputs.shape.rank\n",
    "        if rank == 2 or rank is None:\n",
    "            outputs = gen_math_ops.MatMul(a=inputs, b=kernel)\n",
    "        # Broadcast kernel to inputs.\n",
    "        else:\n",
    "          outputs = standard_ops.tensordot(inputs, kernel, [[rank - 1], [0]])\n",
    "          # Reshape the output back to the original ndim of the input.\n",
    "          if not context.executing_eagerly():\n",
    "            shape = inputs.shape.as_list()\n",
    "            output_shape = shape[:-1] + [kernel.shape[-1]]\n",
    "            outputs.set_shape(output_shape)\n",
    "\n",
    "        if self.use_bias:\n",
    "          outputs = nn_ops.bias_add(outputs, bias)\n",
    "\n",
    "        if self.activation is not None:\n",
    "          outputs = self.activation(outputs)\n",
    "        return outputs"
   ]
  },
  {
   "cell_type": "code",
   "execution_count": 15,
   "id": "06e51888-c034-4858-a648-2236b6f7fbc4",
   "metadata": {},
   "outputs": [],
   "source": [
    "class WeightLenCallback(tf.keras.callbacks.Callback):\n",
    "    def on_train_begin(self, logs=None):\n",
    "        self.initial_weights = self.model.get_weights()\n",
    "        self.initial_weights_norm = self._calc_dist(self.initial_weights)\n",
    "        self.prev_weights = self.initial_weights\n",
    "        self.weight_len = 0.0\n",
    "\n",
    "    def on_epoch_end(self, epoch, logs=None):\n",
    "        weights = self.model.get_weights()\n",
    "        weight_dist = self._calc_dist(self.initial_weights, weights)\n",
    "        weight_dist2 = self._calc_dist(self.initial_weights, weights, True)\n",
    "        logs['weight_dist'] = weight_dist\n",
    "        # logs['weight_dist2'] = weight_dist2\n",
    "        logs['weight_len'] = self.weight_len\n",
    "        logs['weight_ndist'] = weight_dist / self.initial_weights_norm\n",
    "        logs['weight_nlen'] = self.weight_len / self.initial_weights_norm\n",
    "\n",
    "    def on_train_batch_end(self, batch, logs=None):\n",
    "        weights = self.model.get_weights()\n",
    "        self.weight_len += self._calc_dist(self.prev_weights, weights)\n",
    "        self.prev_weights = weights\n",
    "        \n",
    "    def _calc_dist(self, w1, w2=None, normalized=False):\n",
    "        d = 0.0\n",
    "        for i in range(len(w1)):\n",
    "            x = w1[i]\n",
    "            y = w1[i] if w2 is None else w2[i] \n",
    "            if normalized:\n",
    "                x = x / (1e-37 + np.sum(x ** 2) ** 0.5)\n",
    "                y = y / (1e-37 + np.sum(y ** 2) ** 0.5)\n",
    "            if w2 is None:\n",
    "                d += np.sum(x ** 2)\n",
    "            else:\n",
    "                d += np.sum((x - y) ** 2)\n",
    "        return d ** 0.5"
   ]
  },
  {
   "cell_type": "code",
   "execution_count": 16,
   "id": "d7d734d2-1217-49df-aa95-3307070f35b0",
   "metadata": {},
   "outputs": [],
   "source": [
    "# support multi dimension\n",
    "class MyVotingRegressor:\n",
    "    def __init__(self, models):\n",
    "        self._models = models\n",
    "        \n",
    "    def fit(self, X, y, sample_weight=None):\n",
    "        for label, m in self._models:\n",
    "            m.fit(X, y, sample_weight=sample_weight)\n",
    "        return self\n",
    "        \n",
    "    def predict(self, X):\n",
    "        ys = []\n",
    "        for label, m in self._models:\n",
    "            ys.append(m.predict(X))\n",
    "        return np.mean(ys, axis=0)"
   ]
  },
  {
   "cell_type": "code",
   "execution_count": 17,
   "id": "d2252445-369a-4f8b-a79f-6901cd3c51da",
   "metadata": {},
   "outputs": [],
   "source": [
    "class LambdaTrain(Lambda):    \n",
    "    def call(self, inputs, training=None):     \n",
    "        return tf.keras.backend.in_train_phase(super().call(inputs), inputs, training=training)"
   ]
  },
  {
   "cell_type": "code",
   "execution_count": 18,
   "id": "00cd1ae7-a3d5-40a2-90e6-eb446ab9b79a",
   "metadata": {},
   "outputs": [],
   "source": [
    "import tempfile\n",
    "\n",
    "class SimpleKerasPredictor:\n",
    "    def __init__(self, model):\n",
    "        # self.model = model\n",
    "        \n",
    "        converter = tf.lite.TFLiteConverter.from_keras_model(model)\n",
    "        converter.optimizations = [tf.lite.Optimize.DEFAULT]\n",
    "        self.tflite_data = converter.convert()\n",
    "        \n",
    "    def predict(self, X):\n",
    "        if True:\n",
    "            interpreter = tf.lite.Interpreter(model_content=self.tflite_data)\n",
    "            signatures = interpreter.get_signature_list()\n",
    "            # print(signatures)\n",
    "\n",
    "            input_name = signatures['serving_default']['inputs'][0]\n",
    "            output_name = signatures['serving_default']['outputs'][0]\n",
    "            # {'serving_default': {'inputs': ['input_14'], 'outputs': ['activation_13']}}\n",
    "\n",
    "            sig = interpreter.get_signature_runner()\n",
    "            # print(sig)\n",
    "            return sig(**{ input_name: X })[output_name]\n",
    "        else:\n",
    "            return self.model.predict(X)\n",
    "    \n",
    "    def __getstate__(self):\n",
    "        state = {}\n",
    "        state['tflite_data'] = self.tflite_data\n",
    "        # with tempfile.TemporaryDirectory() as dir:\n",
    "        #     filename = dir + '/model.h5'\n",
    "        #     self.model.save(filename, include_optimizer=False)\n",
    "        #     with open(filename, 'rb') as f:\n",
    "        #         state['model'] = f.read()\n",
    "        return state\n",
    "        \n",
    "    def __setstate__(self, state):\n",
    "        self.tflite_data = state['tflite_data']\n",
    "        # interpreter = tf.lite.Interpreter(model_content=self.tflite_data)\n",
    "        # self.sig = interpreter.get_signature_runner()\n",
    "\n",
    "        # with tempfile.TemporaryDirectory() as dir:\n",
    "        #     model_data = state.get('model')\n",
    "        #     filename = dir + '/model.h5'\n",
    "        #     with open(filename, 'wb') as f:\n",
    "        #         f.write(model_data)\n",
    "        #     self.model = tf.keras.models.load_model(filename)    "
   ]
  },
  {
   "cell_type": "code",
   "execution_count": 19,
   "id": "363fd2c2-ad26-41c3-97b4-8b82f4490664",
   "metadata": {},
   "outputs": [],
   "source": [
    "\n",
    "from sklearn.preprocessing import StandardScaler, FunctionTransformer\n",
    "from sklearn.pipeline import Pipeline\n",
    "from sklearn.ensemble import BaggingRegressor, VotingRegressor\n",
    "\n",
    "from sklearn.pipeline import Pipeline, FeatureUnion\n",
    "from sklearn.cluster import FeatureAgglomeration\n",
    "import xgboost as xgb\n",
    "from sklearn.ensemble import HistGradientBoostingRegressor, BaggingRegressor\n",
    "from sklearn.decomposition import PCA, TruncatedSVD\n",
    "from sklearn.compose import TransformedTargetRegressor\n",
    "from sklearn.preprocessing import QuantileTransformer\n",
    "from sklearn.feature_selection import SelectPercentile, mutual_info_regression\n",
    "from sklearn.linear_model import RidgeCV\n",
    "\n",
    "class ExampleModelRank:\n",
    "    def __init__(self, ensemble=10):\n",
    "        # self._model = Ridge(fit_intercept=False, alpha=1e20)\n",
    "        # self._model = Pipeline([\n",
    "        #     ('ss', StandardScaler()),\n",
    "        #     ('model', self._model)\n",
    "        # ])\n",
    "        \n",
    "        # self._model = lgb.LGBMRegressor(\n",
    "        #     n_estimators=1000,\n",
    "        #     learning_rate=0.01,\n",
    "        #     extra_trees=True,\n",
    "        #     # colsample_bytree=0.9,\n",
    "        #     colsample_bytree=0.03,\n",
    "        #     # lambda_l2=1e1,\n",
    "        #     random_state=1,\n",
    "        #     n_jobs=-1,\n",
    "        # )\n",
    "        \n",
    "        # self._model = lgb.LGBMClassifier(\n",
    "        #     # n_estimators=1000,\n",
    "        #     # learning_rate=0.001,\n",
    "        #     random_state=1,\n",
    "        #     n_jobs=-1,\n",
    "        # )\n",
    "        \n",
    "        \n",
    "        # union = FeatureUnion([\n",
    "        #     (\"pt\", 'passthrough'),\n",
    "        #     (\"pca\", PCA(n_components=32)),\n",
    "        #     (\"svd\", TruncatedSVD(n_components=32)),\n",
    "        #     (\"agg\", FeatureAgglomeration(n_clusters=32)),\n",
    "        # ])\n",
    "        # self._model = Pipeline([\n",
    "        #     # ('feat_agglo', FeatureAgglomeration(n_clusters=64)),\n",
    "        #     ('union', union),\n",
    "        #     ('model', self._model)\n",
    "        # ])\n",
    "        \n",
    "        \n",
    "        self.max_data_sec = 2 * 30 * 24 * 60 * 60 # for predict script\n",
    "        self.price_type = None\n",
    "        self.ensemble = ensemble\n",
    "        self.horizon = 8\n",
    "\n",
    "    def fit(self, df):\n",
    "        df = self._calc_features(df)\n",
    "        features = get_feature_columns(df)\n",
    "        \n",
    "        df['ret_train'] = df['ret']\n",
    "        # df['ret_train'] = (df.groupby('symbol')['ln_cl'].shift(-24) - df['ln_cl']).fillna(0)\n",
    "        # df['ret_train'] = (df.groupby('symbol')['ln_cl'].shift(-4) - df['ln_cl']).fillna(0)\n",
    "        # df['ret_train'] = (df.groupby('symbol')['ln_hilo'].shift(-24) - df['ln_hilo']).fillna(0)\n",
    "        # df['ret_train'] = (df.groupby('symbol')['ln_hilocl'].shift(-24) - df['ln_hilocl']).fillna(0)\n",
    "        # df['ret_train'] = (df.groupby('symbol')['ln_hilo'].shift(-24) - df.groupby('symbol')['ln_hilo'].shift(12)).fillna(0)\n",
    "        # df['ret_train'] = (df.groupby('symbol')['ln_hilo'].shift(-48) - df['ln_hilo']).fillna(0)\n",
    "        # def calc_ret(x):\n",
    "        #     hi = df.loc[x.index, 'hi']\n",
    "        #     lo = df.loc[x.index, 'lo']\n",
    "        #     return 0.5 * (hi.rolling(24, 1).max().shift(-24) + lo.rolling(24, 1).min().shift(-24)) / x - 1\n",
    "        # df['ret_train'] = df.groupby('symbol')['cl'].transform(calc_ret)\n",
    "        \n",
    "        # df['ret_rank'] = unbiased_rank(df.groupby('timestamp')['ret_train']) - 0.5\n",
    "        # df['ret_mean'] = df.groupby('timestamp')['ret_train'].transform('mean')\n",
    "        df['ret_mean'] = beta_mean(df, 'ret_train')\n",
    "        df['ret_beta'] = df['ret_train'] - df['ret_mean'] * df['beta']\n",
    "        df = df.dropna()\n",
    "        self.symbols = get_symbols(df) # for predict script\n",
    "        \n",
    "        df = df.loc[df.index.get_level_values('symbol') != 'BTC']\n",
    "        \n",
    "        print('fit df.shape', df.shape)\n",
    "        \n",
    "        reduce_lr = tf.keras.callbacks.ReduceLROnPlateau(\n",
    "            monitor=\"val_loss\",\n",
    "            factor=0.5,\n",
    "            patience=5,\n",
    "            # verbose=0,\n",
    "            # mode=\"auto\",\n",
    "            # min_delta=0.0001,\n",
    "            # cooldown=0,\n",
    "            # min_lr=0,\n",
    "        )\n",
    "        \n",
    "        es = tf.keras.callbacks.EarlyStopping(\n",
    "            monitor='val_loss',\n",
    "            # monitor='val_mse_weighted',\n",
    "            min_delta=0,\n",
    "            # patience=10,\n",
    "            patience=40,\n",
    "            verbose=0,\n",
    "            mode='auto',\n",
    "            # mode='max',\n",
    "            baseline=None,\n",
    "            restore_best_weights=True\n",
    "        )\n",
    "        \n",
    "        tb = tf.keras.callbacks.TensorBoard(\n",
    "            log_dir=\"tb_logs\",\n",
    "            histogram_freq=1,\n",
    "            write_graph=True,\n",
    "            write_images=False,\n",
    "            write_steps_per_second=False,\n",
    "            update_freq=\"epoch\",\n",
    "            profile_batch=0,\n",
    "            embeddings_freq=1,\n",
    "            embeddings_metadata=None,\n",
    "        )\n",
    "\n",
    "        # lr1 = 0.002\n",
    "        lr1 = 0.002 * 1e-1\n",
    "        lr0 = lr1 * 1e-2\n",
    "        def scheduler(epoch, lr):\n",
    "            if epoch <= 10:\n",
    "                t = epoch / 10.0\n",
    "            else:\n",
    "                t = 1.0\n",
    "            return np.exp(np.log(lr0) * (1 - t) + np.log(lr1) * t)\n",
    "        \n",
    "        # self._model = KerasRegressor(\n",
    "        #     model=partial(build_keras_model, len(features) * 2 + 20 + 20 - 100 * 0, 0),\n",
    "        #     # model=partial(build_keras_model, len(features) * 1, 0),\n",
    "        #     random_state=1,\n",
    "        #     # random_state=np.random.RandomState(1),\n",
    "        #     # epochs=1,\n",
    "        #     # epochs=4,\n",
    "        #     # epochs=20,\n",
    "        #     epochs=1000,\n",
    "        #     validation_split=0.3, # worse than not using val\n",
    "        #     callbacks=[\n",
    "        #         es,\n",
    "        #         # reduce_lr,\n",
    "        #         # tf.keras.callbacks.LearningRateScheduler(scheduler),\n",
    "        #         WeightLenCallback(),\n",
    "        #         # WeightShuffleCallback(),\n",
    "        #         tb, # last\n",
    "        #     ],\n",
    "        #     # batch_size=4096 // 8 // 8,\n",
    "        #     # batch_size=4096 // 8,\n",
    "        #     batch_size=4096,\n",
    "        #     # batch_size=65536,\n",
    "        #     # batch_size=df.shape[0],\n",
    "        #     # shuffle=False,\n",
    "        #     verbose=2,\n",
    "        #     warm_start=True,\n",
    "        # )\n",
    "        # keras_model = self._model\n",
    "        \n",
    "        models = []\n",
    "        for i in range(0, self.ensemble):\n",
    "            models.append(['nn{}'.format(i), KerasRegressor(\n",
    "                # model=partial(build_keras_model, len(features) * 2 + 20 + 20 - 100 * 0, i),\n",
    "                model=partial(build_keras_model, len(features) * 1, i),\n",
    "                epochs=1000,\n",
    "                validation_split=0.3, # worse than not using val\n",
    "                callbacks=[\n",
    "                    es,\n",
    "                    # WeightLenCallback(),\n",
    "                    tb, # last\n",
    "                ],\n",
    "                # batch_size=4096 * 8,\n",
    "                batch_size=4096,\n",
    "                # batch_size=4096 // 8,\n",
    "                random_state=i,\n",
    "                verbose=2 if self.ensemble <= 1 else 0,\n",
    "            )])\n",
    "        self._model = MyVotingRegressor(models)\n",
    "        \n",
    "        # self._model = BaggingRegressor(self._model, random_state=1)\n",
    "\n",
    "        nonstationary_est = lgb.LGBMRegressor(\n",
    "            n_estimators=1000,\n",
    "            learning_rate=0.01,\n",
    "            extra_trees=True,\n",
    "            colsample_bytree=0.03,\n",
    "            random_state=1,\n",
    "            n_jobs=-1,\n",
    "        )\n",
    "        \n",
    "        def scale_func(x):\n",
    "            return x * 0.1\n",
    "        \n",
    "        qt_n = 100\n",
    "        \n",
    "        self._model = Pipeline([\n",
    "            # ('qt', QuantileTransformer(n_quantiles=qt_n, output_distribution='normal', random_state=1)),\n",
    "            # ('qt', QuantileTransformer(output_distribution='uniform', random_state=1)),\n",
    "            # ('sc', StandardScaler(with_mean=False)),\n",
    "            ('sc', StandardScaler()),\n",
    "            # ('fu', FeatureUnion([ # not good?\n",
    "            #     ('pt', 'passthrough'),\n",
    "            #     ('qt', QuantileTransformer(n_quantiles=qt_n, output_distribution='normal', random_state=1)),\n",
    "            #     ('pca', PCA(20, whiten=True)), # good?\n",
    "            #     # ('fa', FeatureAgglomeration(20, pooling_func=np.median)), # not good?\n",
    "            #     ('fa_std', Pipeline([ # not bad?\n",
    "            #         ('fa_std2', FeatureAgglomeration(20, pooling_func=np.std)),\n",
    "            #         ('qt2', QuantileTransformer(n_quantiles=qt_n, output_distribution='normal', random_state=1)),\n",
    "            #     ])),\n",
    "            # ])),\n",
    "            # ('scale', FunctionTransformer(scale_func)),\n",
    "            # ('pca', PCA(whiten=True)), # bad\n",
    "            ('model', self._model)\n",
    "        ])\n",
    "        \n",
    "        # self._model = Ridge(alpha=1e5, fit_intercept=False)\n",
    "        # self._model = RidgeCV(fit_intercept=False)\n",
    "        \n",
    "        # dfs = []\n",
    "        # for i in range(4):\n",
    "        #     df2 = df.copy()\n",
    "        #     df2[features] = df2[features] + np.random.normal(0, 0.1, (df.shape[0], len(features)))\n",
    "        #     dfs += [\n",
    "        #         df2\n",
    "        #     ]\n",
    "        # df = pd.concat(dfs)\n",
    "        \n",
    "        # df[features] += np.random.normal(0, 0.1, (df.shape[0], len(features)))\n",
    "        \n",
    "        sw = np.abs(df['ret_beta'])\n",
    "        # sw = np.abs(df['ret'])\n",
    "        sw /= np.mean(sw)\n",
    "        # sw[:] = 1.0\n",
    "        # sw += 1e-2\n",
    "        # sw /= pd.Series(sw).rolling(1000, 1).mean().iloc[::-1].rolling(1000, 1).mean().iloc[::-1].values\n",
    "        # sw /= np.mean(sw)\n",
    "        \n",
    "        X = df[features]\n",
    "        y = np.sign(df['ret_beta'])\n",
    "        # y = np.sign(df['ret'])\n",
    "        # y = (df['ret_beta'] >= 0) * 1.0\n",
    "        # y = df['ret_beta']\n",
    "        # y = df['ret_beta'] / df['ret_beta'].std()\n",
    "        \n",
    "        # for i in range(20):\n",
    "        # #     # batch_size = int(32 * 2.0 ** i)\n",
    "        # #     # batch_size = 32\n",
    "        #     batch_size = 4096\n",
    "        #     # batch_size = df.shape[0]\n",
    "        #     # self._model._random_state = i\n",
    "        #     self._model.partial_fit(X, y, sample_weight=sw, batch_size=batch_size)\n",
    "        # #     # self._model.partial_fit(X, y, batch_size=batch_size)\n",
    "        # #     if es.stopped_epoch > 0:\n",
    "        #         # break\n",
    "        \n",
    "        # self._model.fit(X, y, sample_weight=sw)\n",
    "        \n",
    "        for i in range(0):\n",
    "            # es.patience = 400\n",
    "            # es.restore_best_weights = True\n",
    "            # es.monitor = 'loss'\n",
    "            \n",
    "            self._model.fit(X, y, model__sample_weight=sw, model__epochs=4)\n",
    "\n",
    "            weights = keras_model.model_.get_weights()\n",
    "            for i in range(0, len(weights)):\n",
    "            # for i in range(len(weights) // 2, len(weights)):\n",
    "                w = weights[i]\n",
    "                if False:\n",
    "                # if len(w.shape) == 1:\n",
    "                    w[:] = 0.0\n",
    "                else:\n",
    "                    # flatten shuffle\n",
    "                    w = np.random.permutation(w.flatten()).reshape(w.shape)\n",
    "                    # axis 0 shuffle\n",
    "                    # w = np.random.permutation(w)\n",
    "                    # axis 1 shuffle \n",
    "                    # maybe overfit\n",
    "                    # if len(w.shape) == 2:\n",
    "                    #     w = np.random.permutation(w.T).T\n",
    "                    # else:\n",
    "                    #     w = np.random.permutation(w)\n",
    "                weights[i] = w\n",
    "\n",
    "            keras_model.model_.set_weights(weights)\n",
    "        \n",
    "        es.monitor = 'val_loss'\n",
    "        # es.monitor = 'val_cosine_similarity'\n",
    "        # es.patience = 10\n",
    "        # es.restore_best_weights = True\n",
    "        self._model.fit(X, y, model__sample_weight=sw)\n",
    "        \n",
    "        # converter = tf.lite.TFLiteConverter.from_keras_model(self._model.named_steps['model'].model_)\n",
    "        # converter.optimizations = [tf.lite.Optimize.DEFAULT]\n",
    "        # self._model.named_steps['model'].model_ = converter.convert()\n",
    "        \n",
    "        # return self._model.fit(df[features], df['ret_beta'])\n",
    "        # self._model.fit(df[features], np.sign(df['ret_beta']), model__sample_weight=sw)\n",
    "        # return self._model.fit(df[features], df['ret_rank'])\n",
    "        # return self._model.fit(df[features], np.sign(df['ret_rank']), sample_weight=np.abs(df['ret_rank']))\n",
    "        # return self._model.fit(df[features], np.sign(df['ret_rank']), model__sample_weight=np.abs(df['ret_rank']))\n",
    "        \n",
    "        models = self._model.named_steps['model']._models\n",
    "        for i in range(len(models)):\n",
    "            models[i][1] = SimpleKerasPredictor(models[i][1].model_)\n",
    "    \n",
    "    def predict(self, df):\n",
    "        df = self._calc_features(df)\n",
    "        features = get_feature_columns(df)\n",
    "        y_pred = self._model.predict(df[features]).flatten()\n",
    "        \n",
    "        if os.getenv('USE_JOBLIB_MEMORY'):\n",
    "            corrs = df[features].corrwith(pd.Series(y_pred, index=df.index))\n",
    "            plt.plot(corrs.sort_values().values)\n",
    "            # corrs = df[features].rank().corrwith(pd.Series(y_pred, index=df.index).rank())\n",
    "            # plt.plot(corrs.sort_values().values)\n",
    "            plt.show()\n",
    "        \n",
    "        # df['position'] = np.sign(y_pred)\n",
    "        df['position'] = y_pred\n",
    "        # df['position'] -= 0.5\n",
    "        idx_btc = df.index.get_level_values('symbol') == 'BTC'\n",
    "        df.loc[idx_btc, 'position'] = 0\n",
    "        # df['position'] = unbiased_rank(df.groupby('timestamp')['position']) - 0.5\n",
    "        \n",
    "        df['position_beta'] = df['position'] * df['beta']\n",
    "        df['position_btc'] = -df.groupby('timestamp')['position_beta'].transform('sum')\n",
    "        df.loc[idx_btc, 'position'] = df.loc[idx_btc, 'position_btc']\n",
    "        \n",
    "        # df['position'] = df.groupby('symbol')['position'].transform(lambda x: calc_pos(x, 0.4))\n",
    "        \n",
    "        normalize_position(df)\n",
    "        return df['position']\n",
    "    \n",
    "    def _calc_features(self, df):\n",
    "        df = df.copy()\n",
    "        df = calc_features(df)\n",
    "        \n",
    "        # dfs = [df]\n",
    "        # for col in get_feature_columns(df):\n",
    "        #     dfs += [\n",
    "        #         (df[col] ** 2).rename(col + '_sqr'),\n",
    "        #     ]\n",
    "        # df = pd.concat(dfs, axis=1)\n",
    "        \n",
    "        return df\n",
    "\n",
    "class SparseConstraint(tf.keras.constraints.Constraint):\n",
    "    def __init__(self, mask):\n",
    "        self.mask = mask\n",
    "        self.mask_t = tf.convert_to_tensor(mask)\n",
    "\n",
    "    def __call__(self, w):\n",
    "        return w * self.mask_t\n",
    "\n",
    "    def get_config(self):\n",
    "        return {'mask': self.mask}\n",
    "\n",
    "\n",
    "# 1dcnn https://www.keep-current.dev/convolution-networks-on-tabular-data/\n",
    "# tanh, mae: https://github.com/hoseinzadeehsan/CNNpred-Keras\n",
    "def build_keras_model(input_size, idx=0):\n",
    "    inputs = Input(shape=(input_size,))\n",
    "    x = inputs\n",
    "    # x = Dropout(0.5)(x)\n",
    "    \n",
    "    class DistanceL2(tf.keras.regularizers.Regularizer):\n",
    "        def __init__(self, l2=0.01):\n",
    "            self.l2 = tf.keras.backend.cast_to_floatx(l2)\n",
    "            self.initial_x = None\n",
    "            \n",
    "        def __call__(self, x):\n",
    "            initial_x = self.initial_x.flatten()\n",
    "            diff = tf.reshape(x, (-1,)) - initial_x\n",
    "            # d = tf.math.reduce_sum(diff * initial_x)\n",
    "            # n = np.sum(initial_x ** 2)\n",
    "            # diff = diff - initial_x * d / n\n",
    "            return 2.0 * self.l2 * tf.nn.l2_loss(diff)\n",
    "\n",
    "        def get_config(self):\n",
    "            return {\"l2\": float(self.l2)}\n",
    "        \n",
    "    # l2_dist = 1e-5\n",
    "    # l2_dist = 1e-4\n",
    "    # l2_dist = 1e-3\n",
    "    l2_dist = 0.0\n",
    "    \n",
    "    reg_l1 = regularizers.l1(1e-3)\n",
    "    \n",
    "    reg = None\n",
    "    # reg = regularizers.l1(1e-5)\n",
    "    # reg = regularizers.l2(1e-1)\n",
    "    # reg = regularizers.l2(1e-2)\n",
    "    # reg = regularizers.l2(1e-3)\n",
    "    # reg = regularizers.l2(4e-3)\n",
    "    # reg = regularizers.l2(1e-4)\n",
    "    # reg = regularizers.l2(1e-7)\n",
    "    # reg = regularizers.L1L2(\n",
    "    #     l1=1e-5, \n",
    "    #     l2=1e-5,\n",
    "    # )\n",
    "    \n",
    "    # act = 'relu'\n",
    "    # act = 'tanh'\n",
    "    act = 'elu' # good for cnn?\n",
    "    # act = tf.keras.activations.swish\n",
    "    # act = tf.keras.layers.LeakyReLU(alpha=0.1)\n",
    "    # act = tf.keras.layers.PReLU()\n",
    "    # act = tfa.activations.mish\n",
    "    # act = 'gelu' # good?\n",
    "    # act = 'softplus'\n",
    "    \n",
    "    # dropout_rate = 0.96\n",
    "    # dropout_rate = 0.98 # good?\n",
    "    dropout_rate = 0.99\n",
    "    # dropout_rate = 0.995\n",
    "    \n",
    "    # initializer = initializers.Zeros()\n",
    "    # initializer = initializers.HeNormal()\n",
    "    # initializer = initializers.GlorotNormal()\n",
    "    \n",
    "    orth_init = initializers.Orthogonal(gain=1.0, seed=None) # bad\n",
    "    \n",
    "    # initializer = 'glorot_uniform'\n",
    "    # initializer = 'glorot_normal'\n",
    "    initializer = 'he_normal'\n",
    "    # initializer = 'he_uniform'\n",
    "    # initializer = orth_init\n",
    "    bias_initializer = 'zeros'\n",
    "    # bias_initializer = 'he_normal'\n",
    "    \n",
    "#     def initializer(shape, dtype=None):\n",
    "#         p = 0.1\n",
    "#         dropout_scale = 1.0 / (0.5 / p + 0.5 * p) ** 0.5 # https://arxiv.org/pdf/1607.02488.pdf\n",
    "#         # return initializers.GlorotUniform()(shape, dtype=dtype) * 0.1 ** 0.5\n",
    "#         # return initializers.GlorotNormal()(shape, dtype=dtype) * dropout_scale\n",
    "#         w = initializers.HeNormal()(shape, dtype=dtype)\n",
    "#         # w = initializers.Orthogonal(gain=1.0, seed=None)(shape, dtype=dtype)\n",
    "#         # w = w ** 3 # 3 is good\n",
    "#         w /= tf.reduce_mean(w ** 2) ** 0.5\n",
    "#         print(shape)\n",
    "#         n_in, n_out = shape\n",
    "#         # w /= n_in ** 0.5\n",
    "#         # w /= n_out ** 0.5 # good\n",
    "        \n",
    "#         # https://arxiv.org/pdf/1902.06853.pdf\n",
    "#         w /= n_in ** 0.5\n",
    "#         # w *= 1.3\n",
    "#         # w *= 0.9\n",
    "#         return w\n",
    "    \n",
    "#     def bias_initializer(shape, dtype=None):\n",
    "#         w = initializers.HeNormal()(shape, dtype=dtype)\n",
    "#         w /= tf.reduce_mean(w ** 2) ** 0.5\n",
    "#         return w\n",
    "    \n",
    "    size = 8\n",
    "    # size = 12\n",
    "    # kernel_size = 5\n",
    "    kernel_size = int(size * 3 / 4)\n",
    "    # kernel_size = int(size / 2)\n",
    "    # kernel_size = size\n",
    "    \n",
    "    size = 32\n",
    "    # size = 64\n",
    "    # size = 128\n",
    "    # size = 512\n",
    "    # size = 1024\n",
    "    \n",
    "    dist_regs = []\n",
    "    dist_reg_layers = []\n",
    "    mars_constraints = []\n",
    "    \n",
    "    hidden_outputs = [x]\n",
    "    \n",
    "    def conv1d_mean_zero(x):\n",
    "        return x - tf.math.reduce_mean(x, axis=-1, keepdims=True)\n",
    "    \n",
    "    # x = Reshape((23, 2))(x)\n",
    "    # x = Reshape((11, 4))(x)\n",
    "    # x = Reshape((95, 2))(x)\n",
    "    x = Reshape((11, 2))(x)\n",
    "    # x = Reshape((11, 3))(x)\n",
    "    # def f1(x):\n",
    "    #     x = tf.math.cumsum(x, axis=-2)\n",
    "    #     # x -= tf.math.reduce_mean(x, axis=-2, keepdims=True)\n",
    "    #     return x\n",
    "    # x = Lambda(f1)(x)\n",
    "    # x = Dropout(0.5)(x)\n",
    "    x = Conv1D(\n",
    "        filters=32, \n",
    "        kernel_size=5,\n",
    "        # kernel_size=10,\n",
    "        # kernel_size=5 * 8,\n",
    "        activation=act, use_bias=True, \n",
    "        # padding='SAME',\n",
    "        padding='VALID',\n",
    "        kernel_regularizer=reg, \n",
    "        bias_regularizer=reg,\n",
    "        kernel_initializer=initializer, \n",
    "        # bias_initializer=initializer,\n",
    "        # kernel_constraint=conv1d_mean_zero, # good?\n",
    "    )(x)\n",
    "    # x = MaxPooling1D(2)(x)\n",
    "    # x = Dropout(0.5)(x)\n",
    "    x = Conv1D(\n",
    "        filters=32,\n",
    "        kernel_size=5,\n",
    "        # kernel_size=10,\n",
    "        # kernel_size=5 * 8,\n",
    "        activation=act, use_bias=True, \n",
    "        # padding='SAME',\n",
    "        padding='VALID',\n",
    "        kernel_regularizer=reg, \n",
    "        bias_regularizer=reg,\n",
    "        kernel_initializer=initializer, \n",
    "        # bias_initializer=initializer,\n",
    "        # kernel_constraint=conv1d_mean_zero,\n",
    "    )(x)\n",
    "    # x = Dropout(0.5)(x)\n",
    "    # x = Conv1D(\n",
    "    #     filters=32, \n",
    "    #     kernel_size=4,\n",
    "    #     activation=act, use_bias=True, \n",
    "    #     # padding='SAME',\n",
    "    #     padding='VALID',\n",
    "    #     kernel_regularizer=reg, \n",
    "    #     bias_regularizer=reg,\n",
    "    #     kernel_initializer=initializer, \n",
    "    #     # bias_initializer=initializer,\n",
    "    # )(x)\n",
    "    # x = Dropout(0.5)(x)\n",
    "    x = MaxPooling1D(2)(x) # good?\n",
    "    # x = AveragePooling1D(2)(x)\n",
    "    # x = AveragePooling1D(2)(x)\n",
    "    # x = AveragePooling1D(2)(x)\n",
    "    # x = GlobalMaxPooling1D()(x)\n",
    "    # x = GlobalAveragePooling1D()(x)\n",
    "    x = Flatten()(x)\n",
    "    \n",
    "#     depth = 2 + idx * 0\n",
    "#     for i in range(depth):\n",
    "#         t = 1.0 * i / (depth - 1)\n",
    "#         x_prev = x\n",
    "        \n",
    "#         dist_reg = DistanceL2(l2_dist)\n",
    "#         dist_regs.append(dist_reg)\n",
    "#         mars_constraint = MarsConstraint(8)\n",
    "#         mars_constraints.append(mars_constraint)\n",
    "#         # dense = GaussianDropConnectDense(\n",
    "#         dense = Dense(\n",
    "#             # size,\n",
    "#             # 32,\n",
    "#             # 64,\n",
    "#             128, # good with l2 reg\n",
    "#             # 256,\n",
    "#             # int(np.exp(np.log(64) * (1 - t) + np.log(64) * t)),\n",
    "#             # 64 if i == 0 else 128,\n",
    "#             activation=act, \n",
    "#             # activation=None,\n",
    "#             use_bias=True,\n",
    "#             # use_bias=False,\n",
    "#             # kernel_regularizer=reg_l1, \n",
    "#             kernel_regularizer=reg,\n",
    "#             # kernel_regularizer=dist_reg,\n",
    "#             # kernel_regularizer=reg2,\n",
    "#             bias_regularizer=reg,\n",
    "#             # kernel_initializer='zeros' if i > 0 else initializer,\n",
    "#             kernel_initializer=initializer, \n",
    "#             bias_initializer=bias_initializer,\n",
    "#             # kernel_constraint=mars_constraint,\n",
    "#             # kernel_constraint=SparseConstraint(np.random.binomial(1, 1.0 / 64, size=(input_size, size))) # bad\n",
    "#         )\n",
    "#         dist_reg_layers.append(dense)\n",
    "#         # dense = GaussianDropConnect(dense, rate=0.2)\n",
    "#         x = dense(x)\n",
    "#         # x = BatchNormalization()(x)\n",
    "#         # def smooth_units(x):\n",
    "#         #     return (x[:, 1:] + x[:, :-1]) / 2\n",
    "#         #     # return (x[:, 3:] + x[:, 2:-1] + x[:, 1:-2] + x[:, :-3]) / 4\n",
    "#         # x = Lambda(smooth_units)(x)\n",
    "#         # x = Activation(act)(x)\n",
    "#         # x = Lambda(smooth_units)(x)\n",
    "#         # if i > 0:\n",
    "#         #     x = Add()([x, x_prev])\n",
    "#         # if i == 9:\n",
    "#         #     x = tf.keras.layers.GaussianDropout(0.5)(x)\n",
    "#         # x = tf.keras.layers.GaussianDropout(dropout_rate)(x)\n",
    "#         # x = Dropout(dropout_rate)(x)\n",
    "#         # x = Dropout(0.1)(x)\n",
    "#         # x = tf.keras.layers.GaussianDropout(0.1)(x)\n",
    "        \n",
    "#         hidden_outputs.append(x)\n",
    "\n",
    "        \n",
    "    # x = Concatenate()(hidden_outputs)\n",
    "    \n",
    "    # x = Reshape((-1, 1))(x)\n",
    "    # x = AveragePooling1D(2)(x)\n",
    "    # x = Flatten()(x)\n",
    "    # x = Dropout(dropout_rate)(x)\n",
    "    # x = tf.keras.layers.GaussianDropout(dropout_rate)(x)\n",
    "    # x = tf.keras.layers.GaussianDropout(0.995)(x)\n",
    "    # x = tf.keras.layers.GaussianDropout(0.9)(x)\n",
    "    # x = tf.keras.layers.GaussianDropout(1.0 - 0.01 / 2 ** 0.5)(x)\n",
    "    # x = tf.keras.layers.GaussianNoise(100)(x) # bad\n",
    "\n",
    "    dist_reg = DistanceL2(l2_dist)\n",
    "    dist_regs.append(dist_reg)\n",
    "    # d3 = tfa.layers.NoisyDense(\n",
    "    # d3 = GaussianDropConnectDense(\n",
    "    d3 = Dense(\n",
    "        1,\n",
    "        # activation='linear',\n",
    "        # activation='tanh', # good\n",
    "        # activation='sigmoid',\n",
    "        # use_factorised=False,\n",
    "        use_bias=True, \n",
    "        # use_bias=False, \n",
    "        kernel_regularizer=reg, \n",
    "        # kernel_regularizer=dist_reg,\n",
    "        # kernel_regularizer=reg3, \n",
    "        bias_regularizer=reg,\n",
    "        kernel_initializer=initializer,\n",
    "        # kernel_initializer='glorot_uniform',\n",
    "        # kernel_initializer='zeros',\n",
    "        # bias_initializer=initializer,\n",
    "    )\n",
    "    dist_reg_layers.append(d3)\n",
    "    # d3 = GaussianDropConnect(d3, rate=0.2)\n",
    "    x = d3(x)\n",
    "    # x = Rescaling(0.1)(x)\n",
    "    x = Rescaling(0.01)(x)\n",
    "    # x = Rescaling(1 - dropout_rate)(x) # good?\n",
    "    # x = Rescaling(0.04)(x)\n",
    "    def scale_output_train(x):\n",
    "        return x * 2.0\n",
    "    x = LambdaTrain(scale_output_train)(x)\n",
    "    x = Activation('tanh')(x) # good\n",
    "    \n",
    "    model = Model(inputs=inputs, outputs=x)\n",
    "    \n",
    "    def make_gc_opt(klass):\n",
    "        class GCOpt(klass):\n",
    "            def get_gradients(self, loss, params):\n",
    "                grads = []\n",
    "                gradients = super().get_gradients()\n",
    "                for grad in gradients:\n",
    "                    grad_len = len(grad.shape)\n",
    "                    if grad_len > 1:\n",
    "                        axis = list(range(grad_len - 1))\n",
    "                        grad -= tf.reduce_mean(grad, axis=axis, keep_dims=True)\n",
    "                    grads.append(grad)\n",
    "                return grads\n",
    "        return GCOpt\n",
    "    \n",
    "    # def _get_gradients(self, tape, loss, var_list, grad_loss=None):\n",
    "    #     \"\"\"Called in `minimize` to compute gradients from loss.\"\"\"\n",
    "    #     grads = tape.gradient(loss, var_list, grad_loss)\n",
    "    #     return list(zip(grads, var_list))\n",
    "    \n",
    "    def make_gaussian_drop_connect_opt(klass):\n",
    "        class GaussianDropConnectOpt(klass):\n",
    "            def _get_gradients(self, tape, loss, var_list, grad_loss=None):\n",
    "                print('BBB')\n",
    "                # print(var_list)\n",
    "                # drop_connect_rate = 0.9\n",
    "                # sigma = np.sqrt(drop_connect_rate / (1.0 - drop_connect_rate))\n",
    "                # orig_var_list = []\n",
    "                # for w in var_list:\n",
    "                #     orig_var_list.append(w)\n",
    "                #     w.assign(w * tf.keras.backend.random_normal(\n",
    "                #         shape=tf.shape(w),\n",
    "                #         mean=1.0,\n",
    "                #         stddev=sigma,\n",
    "                #         dtype=w.dtype,\n",
    "                #         seed=None\n",
    "                #     ))\n",
    "                #     # w2 = tf.identity(w2, name=w.name)\n",
    "                #     # w2 = tf.Variable(w2, name=w.name)\n",
    "                #     # print(w2)\n",
    "                #     # var_list2.append(w2)\n",
    "                grads = tape.gradient(loss, var_list, grad_loss)\n",
    "                # print(grads)\n",
    "                return list(zip(grads, var_list))\n",
    "            \n",
    "            def get_gradients(self, loss, params):\n",
    "                print('AAA')\n",
    "                grads = []\n",
    "                params2 = []\n",
    "                drop_connect_rate = 0.9\n",
    "                sigma = np.sqrt(drop_connect_rate / (1.0 - drop_connect_rate))\n",
    "                for p in params:\n",
    "                    p = p * tf.keras.backend.random_normal(\n",
    "                        shape=tf.shape(p),\n",
    "                        mean=1.0,\n",
    "                        stddev=sigma,\n",
    "                        dtype=p.dtype,\n",
    "                        seed=None\n",
    "                    )\n",
    "                    params2.append(p)\n",
    "                    \n",
    "                return super().get_gradients(loss, params2)\n",
    "        return GaussianDropConnectOpt\n",
    "        \n",
    "    class AdamWNoise(tfa.optimizers.AdamW):\n",
    "        def get_gradients(self, loss, params):\n",
    "            grads = []\n",
    "            gradients = super().get_gradients()\n",
    "            for grad in gradients:\n",
    "                grad += tf.random_normal(\n",
    "                    shape=grad.get_shape(), \n",
    "                    mean=0.0, \n",
    "                    stddev=1e-3\n",
    "                )\n",
    "                grads.append(grad)\n",
    "            return grads\n",
    "    \n",
    "    # opt = tfa.optimizers.SGDW(\n",
    "        # weight_decay=1e-4,\n",
    "    # opt = SGD(\n",
    "    #     learning_rate=0.01 / 8,\n",
    "    #     # learning_rate=0.1,\n",
    "    #     # learning_rate=0.1 / 8,\n",
    "    #     # learning_rate=1,\n",
    "    #     momentum=1.0 - 0.1 / 8, \n",
    "    #     # nesterov=True,\n",
    "    # )\n",
    "    \n",
    "    # opt = GCNadam(\n",
    "    opt = Nadam(\n",
    "        # learning_rate=0.002 * 1e-1,\n",
    "        learning_rate=0.002,\n",
    "        beta_1=0.9, \n",
    "        # beta_1=0.5,\n",
    "        # beta_2=0.9,\n",
    "        beta_2=0.999,\n",
    "        epsilon=None,\n",
    "        # epsilon=1e-1,\n",
    "        # epsilon=1e-3,\n",
    "        schedule_decay=0.004,\n",
    "    )\n",
    "    # opt = tfa.optimizers.AdaBelief(\n",
    "    #     # learning_rate=0.001,\n",
    "    #     learning_rate=0.001 / 8,\n",
    "    #     # learning_rate=0.001 / 8 / 8,\n",
    "    #     # learning_rate=0.001 / 8 / 8 / 8,\n",
    "    #     # total_steps=1200,\n",
    "    #     # warmup_proportion=0.1,\n",
    "    #     # min_lr=1e-5,\n",
    "    #     # rectify=True,\n",
    "    #     # weight_decay=1e-2,\n",
    "    #     # weight_decay=1e-3,\n",
    "    #     # epsilon=1e-10,\n",
    "    # )\n",
    "    # opt = tfa.optimizers.Lookahead(opt)\n",
    "    # opt = Adam(\n",
    "    #     learning_rate=0.001,\n",
    "    #     beta_1=0.9, \n",
    "    #     beta_2=0.999, \n",
    "    #     epsilon=None, \n",
    "    #     decay=0.0,\n",
    "    #     # amsgrad=True\n",
    "    # )\n",
    "    # opt = AdamWNoise(\n",
    "    # opt = tfa.optimizers.AdamW(\n",
    "    # # # opt = make_gaussian_drop_connect_opt(tfa.optimizers.AdamW)(\n",
    "    #     learning_rate=0.002,\n",
    "    #     # learning_rate=0.002 * 1e-1,\n",
    "    #     # learning_rate=0.001 * 1e-1,\n",
    "    #     # learning_rate=0.002 * 1e-2,\n",
    "    #     # weight_decay=1e-2,\n",
    "    #     weight_decay=1e-3,\n",
    "    #     # weight_decay=1e-4,\n",
    "    #     # weight_decay=1e-5,\n",
    "    #     # weight_decay=1e-7,\n",
    "    #     # beta_1=0.1,\n",
    "    # )\n",
    "    \n",
    "    def my_loss_fn(y_true, y_pred):\n",
    "        # return tf.reduce_mean(tf.square(tf.sign(y_true) - y_pred) * tf.abs(y_true))\n",
    "        # return -tf.reduce_mean(y_pred * y_true) / (1e-37 + tf.reduce_mean(y_pred ** 2) ** 0.5) # good\n",
    "        # return -tf.reduce_mean(y_pred * y_true) / (1e-37 + tf.reduce_mean(tf.abs(y_pred))) # bad\n",
    "        # ret = tf.reduce_sum(y_pred * y_true, axis=-1)\n",
    "        # ret /= 1e-37 + tf.reduce_sum(tf.abs(y_pred), axis=-1)\n",
    "        # return tf.reduce_mean(-ret + ret ** 2)\n",
    "        \n",
    "        ret = y_pred * y_true\n",
    "        sharpe = tf.reduce_mean(ret) / (tf.reduce_mean(ret ** 2) ** 0.5)\n",
    "        return -sharpe\n",
    "        # return -sharpe + sharpe ** 2\n",
    "        \n",
    "        # p = (y_pred * 0.999 + 1) / 2\n",
    "        # one_true_p = tf.where(y_true == 1, 0.8, 0.0)\n",
    "        # zero_true_p = 1.0 - one_true_p\n",
    "        # return -one_true_p * tf.math.log(p) - zero_true_p * tf.math.log(1 - p)\n",
    "        # return (y_true - y_pred) ** 2\n",
    "    \n",
    "    model.compile(\n",
    "        optimizer=opt,\n",
    "        loss='mse', # good for sign ret\n",
    "        # loss='logcosh', # good for raw ret\n",
    "        # loss='mae', # good for raw ret\n",
    "        # loss=my_loss_fn,\n",
    "        # loss='binary_crossentropy',\n",
    "        # loss='hinge',\n",
    "        # loss='squared_hinge',\n",
    "        # loss='cosine_similarity',\n",
    "        metrics=[\n",
    "            'mse',\n",
    "            # 'accuracy',\n",
    "        ],\n",
    "        weighted_metrics=[\n",
    "            'mse',\n",
    "            'cosine_similarity',\n",
    "            # 'logcosh',\n",
    "            # tfa.metrics.RSquare(),\n",
    "        ]\n",
    "    )\n",
    "    \n",
    "    for i, dist_reg in enumerate(dist_regs):\n",
    "        dist_reg.initial_x = dist_reg_layers[i].get_weights()[0]\n",
    "    for i, mars_constraint in enumerate(mars_constraints):\n",
    "        mars_constraint.initial_weight = dist_reg_layers[i].get_weights()[0]\n",
    "    \n",
    "    # reg_cnn1.initial_x = cnn1.get_weights()[0]\n",
    "    # reg_cnn2.initial_x = cnn2.get_weights()[0]\n",
    "    # reg_cnn3.initial_x = cnn3.get_weights()[0]\n",
    "    # reg1.initial_x = d1.get_weights()[0]\n",
    "    # reg2.initial_x = d2.get_weights()[0]\n",
    "    # reg3.initial_x = d3.get_weights()[0]\n",
    "    \n",
    "    return model"
   ]
  },
  {
   "cell_type": "code",
   "execution_count": 20,
   "id": "1548a492-8fae-412c-bd3f-d9a0cb7b9985",
   "metadata": {},
   "outputs": [
    {
     "name": "stdout",
     "output_type": "stream",
     "text": [
      "float32\n",
      "fit df.shape (201190, 39)\n"
     ]
    },
    {
     "name": "stderr",
     "output_type": "stream",
     "text": [
      "2022-11-09 20:03:16.586788: W tensorflow/stream_executor/platform/default/dso_loader.cc:64] Could not load dynamic library 'libcuda.so.1'; dlerror: libcuda.so.1: cannot open shared object file: No such file or directory\n",
      "2022-11-09 20:03:16.587355: W tensorflow/stream_executor/cuda/cuda_driver.cc:263] failed call to cuInit: UNKNOWN ERROR (303)\n",
      "2022-11-09 20:03:16.587394: I tensorflow/stream_executor/cuda/cuda_diagnostics.cc:156] kernel driver does not appear to be running on this host (8d0215ec498b): /proc/driver/nvidia/version does not exist\n",
      "2022-11-09 20:03:16.588101: I tensorflow/core/platform/cpu_feature_guard.cc:193] This TensorFlow binary is optimized with oneAPI Deep Neural Network Library (oneDNN) to use the following CPU instructions in performance-critical operations:  AVX2 FMA\n",
      "To enable them in other operations, rebuild TensorFlow with the appropriate compiler flags.\n",
      "WARNING:absl:Found untraced functions such as _jit_compiled_convolution_op, _jit_compiled_convolution_op while saving (showing 2 of 2). These functions will not be directly callable after loading.\n"
     ]
    },
    {
     "name": "stdout",
     "output_type": "stream",
     "text": [
      "INFO:tensorflow:Assets written to: /tmp/tmp4vhl76dy/assets\n"
     ]
    },
    {
     "name": "stderr",
     "output_type": "stream",
     "text": [
      "INFO:tensorflow:Assets written to: /tmp/tmp4vhl76dy/assets\n",
      "2022-11-09 20:09:12.847582: W tensorflow/compiler/mlir/lite/python/tf_tfl_flatbuffer_helpers.cc:362] Ignored output_format.\n",
      "2022-11-09 20:09:12.847665: W tensorflow/compiler/mlir/lite/python/tf_tfl_flatbuffer_helpers.cc:365] Ignored drop_control_dependency.\n",
      "2022-11-09 20:09:12.848411: I tensorflow/cc/saved_model/reader.cc:45] Reading SavedModel from: /tmp/tmp4vhl76dy\n",
      "2022-11-09 20:09:12.850901: I tensorflow/cc/saved_model/reader.cc:89] Reading meta graph with tags { serve }\n",
      "2022-11-09 20:09:12.850958: I tensorflow/cc/saved_model/reader.cc:130] Reading SavedModel debug info (if present) from: /tmp/tmp4vhl76dy\n",
      "2022-11-09 20:09:12.859427: I tensorflow/compiler/mlir/mlir_graph_optimization_pass.cc:354] MLIR V1 optimization pass is not enabled\n",
      "2022-11-09 20:09:12.862059: I tensorflow/cc/saved_model/loader.cc:229] Restoring SavedModel bundle.\n",
      "2022-11-09 20:09:12.923648: I tensorflow/cc/saved_model/loader.cc:213] Running initialization op on SavedModel bundle at path: /tmp/tmp4vhl76dy\n",
      "2022-11-09 20:09:12.939191: I tensorflow/cc/saved_model/loader.cc:305] SavedModel load for tags { serve }; Status: success: OK. Took 90786 microseconds.\n",
      "2022-11-09 20:09:12.991107: I tensorflow/compiler/mlir/tensorflow/utils/dump_mlir_util.cc:268] disabling MLIR crash reproducer, set env var `MLIR_CRASH_REPRODUCER_DIRECTORY` to enable.\n",
      "WARNING:absl:Found untraced functions such as _jit_compiled_convolution_op, _jit_compiled_convolution_op while saving (showing 2 of 2). These functions will not be directly callable after loading.\n"
     ]
    },
    {
     "name": "stdout",
     "output_type": "stream",
     "text": [
      "INFO:tensorflow:Assets written to: /tmp/tmpftqnuj8h/assets\n"
     ]
    },
    {
     "name": "stderr",
     "output_type": "stream",
     "text": [
      "INFO:tensorflow:Assets written to: /tmp/tmpftqnuj8h/assets\n",
      "2022-11-09 20:09:14.859773: W tensorflow/compiler/mlir/lite/python/tf_tfl_flatbuffer_helpers.cc:362] Ignored output_format.\n",
      "2022-11-09 20:09:14.859851: W tensorflow/compiler/mlir/lite/python/tf_tfl_flatbuffer_helpers.cc:365] Ignored drop_control_dependency.\n",
      "2022-11-09 20:09:14.860040: I tensorflow/cc/saved_model/reader.cc:45] Reading SavedModel from: /tmp/tmpftqnuj8h\n",
      "2022-11-09 20:09:14.862156: I tensorflow/cc/saved_model/reader.cc:89] Reading meta graph with tags { serve }\n",
      "2022-11-09 20:09:14.862196: I tensorflow/cc/saved_model/reader.cc:130] Reading SavedModel debug info (if present) from: /tmp/tmpftqnuj8h\n",
      "2022-11-09 20:09:14.870312: I tensorflow/cc/saved_model/loader.cc:229] Restoring SavedModel bundle.\n",
      "2022-11-09 20:09:14.927139: I tensorflow/cc/saved_model/loader.cc:213] Running initialization op on SavedModel bundle at path: /tmp/tmpftqnuj8h\n",
      "2022-11-09 20:09:14.941998: I tensorflow/cc/saved_model/loader.cc:305] SavedModel load for tags { serve }; Status: success: OK. Took 81960 microseconds.\n",
      "WARNING:absl:Found untraced functions such as _jit_compiled_convolution_op, _jit_compiled_convolution_op while saving (showing 2 of 2). These functions will not be directly callable after loading.\n"
     ]
    },
    {
     "name": "stdout",
     "output_type": "stream",
     "text": [
      "INFO:tensorflow:Assets written to: /tmp/tmpm93wgdfl/assets\n"
     ]
    },
    {
     "name": "stderr",
     "output_type": "stream",
     "text": [
      "INFO:tensorflow:Assets written to: /tmp/tmpm93wgdfl/assets\n",
      "2022-11-09 20:09:16.608780: W tensorflow/compiler/mlir/lite/python/tf_tfl_flatbuffer_helpers.cc:362] Ignored output_format.\n",
      "2022-11-09 20:09:16.608853: W tensorflow/compiler/mlir/lite/python/tf_tfl_flatbuffer_helpers.cc:365] Ignored drop_control_dependency.\n",
      "2022-11-09 20:09:16.609032: I tensorflow/cc/saved_model/reader.cc:45] Reading SavedModel from: /tmp/tmpm93wgdfl\n",
      "2022-11-09 20:09:16.611074: I tensorflow/cc/saved_model/reader.cc:89] Reading meta graph with tags { serve }\n",
      "2022-11-09 20:09:16.611117: I tensorflow/cc/saved_model/reader.cc:130] Reading SavedModel debug info (if present) from: /tmp/tmpm93wgdfl\n",
      "2022-11-09 20:09:16.618884: I tensorflow/cc/saved_model/loader.cc:229] Restoring SavedModel bundle.\n",
      "2022-11-09 20:09:16.671955: I tensorflow/cc/saved_model/loader.cc:213] Running initialization op on SavedModel bundle at path: /tmp/tmpm93wgdfl\n",
      "2022-11-09 20:09:16.685982: I tensorflow/cc/saved_model/loader.cc:305] SavedModel load for tags { serve }; Status: success: OK. Took 76955 microseconds.\n",
      "WARNING:absl:Found untraced functions such as _jit_compiled_convolution_op, _jit_compiled_convolution_op while saving (showing 2 of 2). These functions will not be directly callable after loading.\n"
     ]
    },
    {
     "name": "stdout",
     "output_type": "stream",
     "text": [
      "INFO:tensorflow:Assets written to: /tmp/tmpzi0_vfc7/assets\n"
     ]
    },
    {
     "name": "stderr",
     "output_type": "stream",
     "text": [
      "INFO:tensorflow:Assets written to: /tmp/tmpzi0_vfc7/assets\n",
      "2022-11-09 20:09:18.290444: W tensorflow/compiler/mlir/lite/python/tf_tfl_flatbuffer_helpers.cc:362] Ignored output_format.\n",
      "2022-11-09 20:09:18.290516: W tensorflow/compiler/mlir/lite/python/tf_tfl_flatbuffer_helpers.cc:365] Ignored drop_control_dependency.\n",
      "2022-11-09 20:09:18.290740: I tensorflow/cc/saved_model/reader.cc:45] Reading SavedModel from: /tmp/tmpzi0_vfc7\n",
      "2022-11-09 20:09:18.292675: I tensorflow/cc/saved_model/reader.cc:89] Reading meta graph with tags { serve }\n",
      "2022-11-09 20:09:18.292713: I tensorflow/cc/saved_model/reader.cc:130] Reading SavedModel debug info (if present) from: /tmp/tmpzi0_vfc7\n",
      "2022-11-09 20:09:18.300132: I tensorflow/cc/saved_model/loader.cc:229] Restoring SavedModel bundle.\n",
      "2022-11-09 20:09:18.360437: I tensorflow/cc/saved_model/loader.cc:213] Running initialization op on SavedModel bundle at path: /tmp/tmpzi0_vfc7\n",
      "2022-11-09 20:09:18.373862: I tensorflow/cc/saved_model/loader.cc:305] SavedModel load for tags { serve }; Status: success: OK. Took 83124 microseconds.\n",
      "WARNING:absl:Found untraced functions such as _jit_compiled_convolution_op, _jit_compiled_convolution_op while saving (showing 2 of 2). These functions will not be directly callable after loading.\n"
     ]
    },
    {
     "name": "stdout",
     "output_type": "stream",
     "text": [
      "INFO:tensorflow:Assets written to: /tmp/tmpcpwob1rg/assets\n"
     ]
    },
    {
     "name": "stderr",
     "output_type": "stream",
     "text": [
      "INFO:tensorflow:Assets written to: /tmp/tmpcpwob1rg/assets\n",
      "2022-11-09 20:09:19.888895: W tensorflow/compiler/mlir/lite/python/tf_tfl_flatbuffer_helpers.cc:362] Ignored output_format.\n",
      "2022-11-09 20:09:19.888963: W tensorflow/compiler/mlir/lite/python/tf_tfl_flatbuffer_helpers.cc:365] Ignored drop_control_dependency.\n",
      "2022-11-09 20:09:19.889131: I tensorflow/cc/saved_model/reader.cc:45] Reading SavedModel from: /tmp/tmpcpwob1rg\n",
      "2022-11-09 20:09:19.891035: I tensorflow/cc/saved_model/reader.cc:89] Reading meta graph with tags { serve }\n",
      "2022-11-09 20:09:19.891070: I tensorflow/cc/saved_model/reader.cc:130] Reading SavedModel debug info (if present) from: /tmp/tmpcpwob1rg\n",
      "2022-11-09 20:09:19.898605: I tensorflow/cc/saved_model/loader.cc:229] Restoring SavedModel bundle.\n",
      "2022-11-09 20:09:19.948734: I tensorflow/cc/saved_model/loader.cc:213] Running initialization op on SavedModel bundle at path: /tmp/tmpcpwob1rg\n",
      "2022-11-09 20:09:19.962170: I tensorflow/cc/saved_model/loader.cc:305] SavedModel load for tags { serve }; Status: success: OK. Took 73041 microseconds.\n",
      "WARNING:absl:Found untraced functions such as _jit_compiled_convolution_op, _jit_compiled_convolution_op while saving (showing 2 of 2). These functions will not be directly callable after loading.\n"
     ]
    },
    {
     "name": "stdout",
     "output_type": "stream",
     "text": [
      "INFO:tensorflow:Assets written to: /tmp/tmpztm9v6v1/assets\n"
     ]
    },
    {
     "name": "stderr",
     "output_type": "stream",
     "text": [
      "INFO:tensorflow:Assets written to: /tmp/tmpztm9v6v1/assets\n",
      "2022-11-09 20:09:21.400278: W tensorflow/compiler/mlir/lite/python/tf_tfl_flatbuffer_helpers.cc:362] Ignored output_format.\n",
      "2022-11-09 20:09:21.400347: W tensorflow/compiler/mlir/lite/python/tf_tfl_flatbuffer_helpers.cc:365] Ignored drop_control_dependency.\n",
      "2022-11-09 20:09:21.400568: I tensorflow/cc/saved_model/reader.cc:45] Reading SavedModel from: /tmp/tmpztm9v6v1\n",
      "2022-11-09 20:09:21.402376: I tensorflow/cc/saved_model/reader.cc:89] Reading meta graph with tags { serve }\n",
      "2022-11-09 20:09:21.402411: I tensorflow/cc/saved_model/reader.cc:130] Reading SavedModel debug info (if present) from: /tmp/tmpztm9v6v1\n",
      "2022-11-09 20:09:21.409721: I tensorflow/cc/saved_model/loader.cc:229] Restoring SavedModel bundle.\n",
      "2022-11-09 20:09:21.459336: I tensorflow/cc/saved_model/loader.cc:213] Running initialization op on SavedModel bundle at path: /tmp/tmpztm9v6v1\n",
      "2022-11-09 20:09:21.471933: I tensorflow/cc/saved_model/loader.cc:305] SavedModel load for tags { serve }; Status: success: OK. Took 71369 microseconds.\n",
      "WARNING:absl:Found untraced functions such as _jit_compiled_convolution_op, _jit_compiled_convolution_op while saving (showing 2 of 2). These functions will not be directly callable after loading.\n"
     ]
    },
    {
     "name": "stdout",
     "output_type": "stream",
     "text": [
      "INFO:tensorflow:Assets written to: /tmp/tmpnmc7b6_v/assets\n"
     ]
    },
    {
     "name": "stderr",
     "output_type": "stream",
     "text": [
      "INFO:tensorflow:Assets written to: /tmp/tmpnmc7b6_v/assets\n",
      "2022-11-09 20:09:23.570005: W tensorflow/compiler/mlir/lite/python/tf_tfl_flatbuffer_helpers.cc:362] Ignored output_format.\n",
      "2022-11-09 20:09:23.570074: W tensorflow/compiler/mlir/lite/python/tf_tfl_flatbuffer_helpers.cc:365] Ignored drop_control_dependency.\n",
      "2022-11-09 20:09:23.570229: I tensorflow/cc/saved_model/reader.cc:45] Reading SavedModel from: /tmp/tmpnmc7b6_v\n",
      "2022-11-09 20:09:23.572027: I tensorflow/cc/saved_model/reader.cc:89] Reading meta graph with tags { serve }\n",
      "2022-11-09 20:09:23.572062: I tensorflow/cc/saved_model/reader.cc:130] Reading SavedModel debug info (if present) from: /tmp/tmpnmc7b6_v\n",
      "2022-11-09 20:09:23.577594: I tensorflow/cc/saved_model/loader.cc:229] Restoring SavedModel bundle.\n",
      "2022-11-09 20:09:23.626442: I tensorflow/cc/saved_model/loader.cc:213] Running initialization op on SavedModel bundle at path: /tmp/tmpnmc7b6_v\n",
      "2022-11-09 20:09:23.639385: I tensorflow/cc/saved_model/loader.cc:305] SavedModel load for tags { serve }; Status: success: OK. Took 69157 microseconds.\n",
      "WARNING:absl:Found untraced functions such as _jit_compiled_convolution_op, _jit_compiled_convolution_op while saving (showing 2 of 2). These functions will not be directly callable after loading.\n"
     ]
    },
    {
     "name": "stdout",
     "output_type": "stream",
     "text": [
      "INFO:tensorflow:Assets written to: /tmp/tmpfyxx1acm/assets\n"
     ]
    },
    {
     "name": "stderr",
     "output_type": "stream",
     "text": [
      "INFO:tensorflow:Assets written to: /tmp/tmpfyxx1acm/assets\n",
      "2022-11-09 20:09:24.966611: W tensorflow/compiler/mlir/lite/python/tf_tfl_flatbuffer_helpers.cc:362] Ignored output_format.\n",
      "2022-11-09 20:09:24.966711: W tensorflow/compiler/mlir/lite/python/tf_tfl_flatbuffer_helpers.cc:365] Ignored drop_control_dependency.\n",
      "2022-11-09 20:09:24.966863: I tensorflow/cc/saved_model/reader.cc:45] Reading SavedModel from: /tmp/tmpfyxx1acm\n",
      "2022-11-09 20:09:24.968417: I tensorflow/cc/saved_model/reader.cc:89] Reading meta graph with tags { serve }\n",
      "2022-11-09 20:09:24.968448: I tensorflow/cc/saved_model/reader.cc:130] Reading SavedModel debug info (if present) from: /tmp/tmpfyxx1acm\n",
      "2022-11-09 20:09:24.973677: I tensorflow/cc/saved_model/loader.cc:229] Restoring SavedModel bundle.\n",
      "2022-11-09 20:09:25.018528: I tensorflow/cc/saved_model/loader.cc:213] Running initialization op on SavedModel bundle at path: /tmp/tmpfyxx1acm\n",
      "2022-11-09 20:09:25.030381: I tensorflow/cc/saved_model/loader.cc:305] SavedModel load for tags { serve }; Status: success: OK. Took 63520 microseconds.\n",
      "WARNING:absl:Found untraced functions such as _jit_compiled_convolution_op, _jit_compiled_convolution_op while saving (showing 2 of 2). These functions will not be directly callable after loading.\n"
     ]
    },
    {
     "name": "stdout",
     "output_type": "stream",
     "text": [
      "INFO:tensorflow:Assets written to: /tmp/tmphjywmscp/assets\n"
     ]
    },
    {
     "name": "stderr",
     "output_type": "stream",
     "text": [
      "INFO:tensorflow:Assets written to: /tmp/tmphjywmscp/assets\n",
      "2022-11-09 20:09:26.358881: W tensorflow/compiler/mlir/lite/python/tf_tfl_flatbuffer_helpers.cc:362] Ignored output_format.\n",
      "2022-11-09 20:09:26.358946: W tensorflow/compiler/mlir/lite/python/tf_tfl_flatbuffer_helpers.cc:365] Ignored drop_control_dependency.\n",
      "2022-11-09 20:09:26.359100: I tensorflow/cc/saved_model/reader.cc:45] Reading SavedModel from: /tmp/tmphjywmscp\n",
      "2022-11-09 20:09:26.360724: I tensorflow/cc/saved_model/reader.cc:89] Reading meta graph with tags { serve }\n",
      "2022-11-09 20:09:26.360756: I tensorflow/cc/saved_model/reader.cc:130] Reading SavedModel debug info (if present) from: /tmp/tmphjywmscp\n",
      "2022-11-09 20:09:26.365644: I tensorflow/cc/saved_model/loader.cc:229] Restoring SavedModel bundle.\n",
      "2022-11-09 20:09:26.408676: I tensorflow/cc/saved_model/loader.cc:213] Running initialization op on SavedModel bundle at path: /tmp/tmphjywmscp\n",
      "2022-11-09 20:09:26.420610: I tensorflow/cc/saved_model/loader.cc:305] SavedModel load for tags { serve }; Status: success: OK. Took 61512 microseconds.\n",
      "WARNING:absl:Found untraced functions such as _jit_compiled_convolution_op, _jit_compiled_convolution_op while saving (showing 2 of 2). These functions will not be directly callable after loading.\n"
     ]
    },
    {
     "name": "stdout",
     "output_type": "stream",
     "text": [
      "INFO:tensorflow:Assets written to: /tmp/tmpk81_41cc/assets\n"
     ]
    },
    {
     "name": "stderr",
     "output_type": "stream",
     "text": [
      "INFO:tensorflow:Assets written to: /tmp/tmpk81_41cc/assets\n",
      "2022-11-09 20:09:27.695665: W tensorflow/compiler/mlir/lite/python/tf_tfl_flatbuffer_helpers.cc:362] Ignored output_format.\n",
      "2022-11-09 20:09:27.695723: W tensorflow/compiler/mlir/lite/python/tf_tfl_flatbuffer_helpers.cc:365] Ignored drop_control_dependency.\n",
      "2022-11-09 20:09:27.695873: I tensorflow/cc/saved_model/reader.cc:45] Reading SavedModel from: /tmp/tmpk81_41cc\n",
      "2022-11-09 20:09:27.697544: I tensorflow/cc/saved_model/reader.cc:89] Reading meta graph with tags { serve }\n",
      "2022-11-09 20:09:27.697578: I tensorflow/cc/saved_model/reader.cc:130] Reading SavedModel debug info (if present) from: /tmp/tmpk81_41cc\n",
      "2022-11-09 20:09:27.702538: I tensorflow/cc/saved_model/loader.cc:229] Restoring SavedModel bundle.\n",
      "2022-11-09 20:09:27.747491: I tensorflow/cc/saved_model/loader.cc:213] Running initialization op on SavedModel bundle at path: /tmp/tmpk81_41cc\n",
      "2022-11-09 20:09:27.759283: I tensorflow/cc/saved_model/loader.cc:305] SavedModel load for tags { serve }; Status: success: OK. Took 63412 microseconds.\n"
     ]
    },
    {
     "data": {
      "image/png": "[encoded data removed]",
      "text/plain": [
       "<Figure size 640x480 with 1 Axes>"
      ]
     },
     "metadata": {},
     "output_type": "display_data"
    },
    {
     "name": "stdout",
     "output_type": "stream",
     "text": [
      "fit df.shape (186931, 39)\n"
     ]
    },
    {
     "name": "stderr",
     "output_type": "stream",
     "text": [
      "WARNING:absl:Found untraced functions such as _jit_compiled_convolution_op, _jit_compiled_convolution_op while saving (showing 2 of 2). These functions will not be directly callable after loading.\n"
     ]
    },
    {
     "name": "stdout",
     "output_type": "stream",
     "text": [
      "INFO:tensorflow:Assets written to: /tmp/tmp3fd7sohj/assets\n"
     ]
    },
    {
     "name": "stderr",
     "output_type": "stream",
     "text": [
      "INFO:tensorflow:Assets written to: /tmp/tmp3fd7sohj/assets\n",
      "2022-11-09 20:18:08.575384: W tensorflow/compiler/mlir/lite/python/tf_tfl_flatbuffer_helpers.cc:362] Ignored output_format.\n",
      "2022-11-09 20:18:08.575467: W tensorflow/compiler/mlir/lite/python/tf_tfl_flatbuffer_helpers.cc:365] Ignored drop_control_dependency.\n",
      "2022-11-09 20:18:08.575673: I tensorflow/cc/saved_model/reader.cc:45] Reading SavedModel from: /tmp/tmp3fd7sohj\n",
      "2022-11-09 20:18:08.577885: I tensorflow/cc/saved_model/reader.cc:89] Reading meta graph with tags { serve }\n",
      "2022-11-09 20:18:08.577929: I tensorflow/cc/saved_model/reader.cc:130] Reading SavedModel debug info (if present) from: /tmp/tmp3fd7sohj\n",
      "2022-11-09 20:18:08.584903: I tensorflow/cc/saved_model/loader.cc:229] Restoring SavedModel bundle.\n",
      "2022-11-09 20:18:08.646507: I tensorflow/cc/saved_model/loader.cc:213] Running initialization op on SavedModel bundle at path: /tmp/tmp3fd7sohj\n",
      "2022-11-09 20:18:08.662876: I tensorflow/cc/saved_model/loader.cc:305] SavedModel load for tags { serve }; Status: success: OK. Took 87207 microseconds.\n",
      "WARNING:absl:Found untraced functions such as _jit_compiled_convolution_op, _jit_compiled_convolution_op while saving (showing 2 of 2). These functions will not be directly callable after loading.\n"
     ]
    },
    {
     "name": "stdout",
     "output_type": "stream",
     "text": [
      "INFO:tensorflow:Assets written to: /tmp/tmp_q6uly_6/assets\n"
     ]
    },
    {
     "name": "stderr",
     "output_type": "stream",
     "text": [
      "INFO:tensorflow:Assets written to: /tmp/tmp_q6uly_6/assets\n",
      "2022-11-09 20:18:10.468856: W tensorflow/compiler/mlir/lite/python/tf_tfl_flatbuffer_helpers.cc:362] Ignored output_format.\n",
      "2022-11-09 20:18:10.468930: W tensorflow/compiler/mlir/lite/python/tf_tfl_flatbuffer_helpers.cc:365] Ignored drop_control_dependency.\n",
      "2022-11-09 20:18:10.469127: I tensorflow/cc/saved_model/reader.cc:45] Reading SavedModel from: /tmp/tmp_q6uly_6\n",
      "2022-11-09 20:18:10.471248: I tensorflow/cc/saved_model/reader.cc:89] Reading meta graph with tags { serve }\n",
      "2022-11-09 20:18:10.471291: I tensorflow/cc/saved_model/reader.cc:130] Reading SavedModel debug info (if present) from: /tmp/tmp_q6uly_6\n",
      "2022-11-09 20:18:10.478382: I tensorflow/cc/saved_model/loader.cc:229] Restoring SavedModel bundle.\n",
      "2022-11-09 20:18:10.539018: I tensorflow/cc/saved_model/loader.cc:213] Running initialization op on SavedModel bundle at path: /tmp/tmp_q6uly_6\n",
      "2022-11-09 20:18:10.555627: I tensorflow/cc/saved_model/loader.cc:305] SavedModel load for tags { serve }; Status: success: OK. Took 86502 microseconds.\n",
      "WARNING:absl:Found untraced functions such as _jit_compiled_convolution_op, _jit_compiled_convolution_op while saving (showing 2 of 2). These functions will not be directly callable after loading.\n"
     ]
    },
    {
     "name": "stdout",
     "output_type": "stream",
     "text": [
      "INFO:tensorflow:Assets written to: /tmp/tmp1b9hh7is/assets\n"
     ]
    },
    {
     "name": "stderr",
     "output_type": "stream",
     "text": [
      "INFO:tensorflow:Assets written to: /tmp/tmp1b9hh7is/assets\n",
      "2022-11-09 20:18:12.377744: W tensorflow/compiler/mlir/lite/python/tf_tfl_flatbuffer_helpers.cc:362] Ignored output_format.\n",
      "2022-11-09 20:18:12.377817: W tensorflow/compiler/mlir/lite/python/tf_tfl_flatbuffer_helpers.cc:365] Ignored drop_control_dependency.\n",
      "2022-11-09 20:18:12.378013: I tensorflow/cc/saved_model/reader.cc:45] Reading SavedModel from: /tmp/tmp1b9hh7is\n",
      "2022-11-09 20:18:12.380172: I tensorflow/cc/saved_model/reader.cc:89] Reading meta graph with tags { serve }\n",
      "2022-11-09 20:18:12.380214: I tensorflow/cc/saved_model/reader.cc:130] Reading SavedModel debug info (if present) from: /tmp/tmp1b9hh7is\n",
      "2022-11-09 20:18:12.387254: I tensorflow/cc/saved_model/loader.cc:229] Restoring SavedModel bundle.\n",
      "2022-11-09 20:18:12.453174: I tensorflow/cc/saved_model/loader.cc:213] Running initialization op on SavedModel bundle at path: /tmp/tmp1b9hh7is\n",
      "2022-11-09 20:18:12.470449: I tensorflow/cc/saved_model/loader.cc:305] SavedModel load for tags { serve }; Status: success: OK. Took 92444 microseconds.\n",
      "WARNING:absl:Found untraced functions such as _jit_compiled_convolution_op, _jit_compiled_convolution_op while saving (showing 2 of 2). These functions will not be directly callable after loading.\n"
     ]
    },
    {
     "name": "stdout",
     "output_type": "stream",
     "text": [
      "INFO:tensorflow:Assets written to: /tmp/tmplpjjayw9/assets\n"
     ]
    },
    {
     "name": "stderr",
     "output_type": "stream",
     "text": [
      "INFO:tensorflow:Assets written to: /tmp/tmplpjjayw9/assets\n",
      "2022-11-09 20:18:14.190954: W tensorflow/compiler/mlir/lite/python/tf_tfl_flatbuffer_helpers.cc:362] Ignored output_format.\n",
      "2022-11-09 20:18:14.191029: W tensorflow/compiler/mlir/lite/python/tf_tfl_flatbuffer_helpers.cc:365] Ignored drop_control_dependency.\n",
      "2022-11-09 20:18:14.191214: I tensorflow/cc/saved_model/reader.cc:45] Reading SavedModel from: /tmp/tmplpjjayw9\n",
      "2022-11-09 20:18:14.193149: I tensorflow/cc/saved_model/reader.cc:89] Reading meta graph with tags { serve }\n",
      "2022-11-09 20:18:14.193186: I tensorflow/cc/saved_model/reader.cc:130] Reading SavedModel debug info (if present) from: /tmp/tmplpjjayw9\n",
      "2022-11-09 20:18:14.199370: I tensorflow/cc/saved_model/loader.cc:229] Restoring SavedModel bundle.\n",
      "2022-11-09 20:18:14.254418: I tensorflow/cc/saved_model/loader.cc:213] Running initialization op on SavedModel bundle at path: /tmp/tmplpjjayw9\n",
      "2022-11-09 20:18:14.268923: I tensorflow/cc/saved_model/loader.cc:305] SavedModel load for tags { serve }; Status: success: OK. Took 77716 microseconds.\n",
      "WARNING:absl:Found untraced functions such as _jit_compiled_convolution_op, _jit_compiled_convolution_op while saving (showing 2 of 2). These functions will not be directly callable after loading.\n"
     ]
    },
    {
     "name": "stdout",
     "output_type": "stream",
     "text": [
      "INFO:tensorflow:Assets written to: /tmp/tmpyv1vq5pe/assets\n"
     ]
    },
    {
     "name": "stderr",
     "output_type": "stream",
     "text": [
      "INFO:tensorflow:Assets written to: /tmp/tmpyv1vq5pe/assets\n",
      "2022-11-09 20:18:15.857958: W tensorflow/compiler/mlir/lite/python/tf_tfl_flatbuffer_helpers.cc:362] Ignored output_format.\n",
      "2022-11-09 20:18:15.858030: W tensorflow/compiler/mlir/lite/python/tf_tfl_flatbuffer_helpers.cc:365] Ignored drop_control_dependency.\n",
      "2022-11-09 20:18:15.858207: I tensorflow/cc/saved_model/reader.cc:45] Reading SavedModel from: /tmp/tmpyv1vq5pe\n",
      "2022-11-09 20:18:15.860095: I tensorflow/cc/saved_model/reader.cc:89] Reading meta graph with tags { serve }\n",
      "2022-11-09 20:18:15.860132: I tensorflow/cc/saved_model/reader.cc:130] Reading SavedModel debug info (if present) from: /tmp/tmpyv1vq5pe\n",
      "2022-11-09 20:18:15.866056: I tensorflow/cc/saved_model/loader.cc:229] Restoring SavedModel bundle.\n",
      "2022-11-09 20:18:15.919355: I tensorflow/cc/saved_model/loader.cc:213] Running initialization op on SavedModel bundle at path: /tmp/tmpyv1vq5pe\n",
      "2022-11-09 20:18:15.933186: I tensorflow/cc/saved_model/loader.cc:305] SavedModel load for tags { serve }; Status: success: OK. Took 74982 microseconds.\n",
      "WARNING:absl:Found untraced functions such as _jit_compiled_convolution_op, _jit_compiled_convolution_op while saving (showing 2 of 2). These functions will not be directly callable after loading.\n"
     ]
    },
    {
     "name": "stdout",
     "output_type": "stream",
     "text": [
      "INFO:tensorflow:Assets written to: /tmp/tmp0g97bjge/assets\n"
     ]
    },
    {
     "name": "stderr",
     "output_type": "stream",
     "text": [
      "INFO:tensorflow:Assets written to: /tmp/tmp0g97bjge/assets\n",
      "2022-11-09 20:18:17.506503: W tensorflow/compiler/mlir/lite/python/tf_tfl_flatbuffer_helpers.cc:362] Ignored output_format.\n",
      "2022-11-09 20:18:17.506610: W tensorflow/compiler/mlir/lite/python/tf_tfl_flatbuffer_helpers.cc:365] Ignored drop_control_dependency.\n",
      "2022-11-09 20:18:17.506783: I tensorflow/cc/saved_model/reader.cc:45] Reading SavedModel from: /tmp/tmp0g97bjge\n",
      "2022-11-09 20:18:17.508535: I tensorflow/cc/saved_model/reader.cc:89] Reading meta graph with tags { serve }\n",
      "2022-11-09 20:18:17.508571: I tensorflow/cc/saved_model/reader.cc:130] Reading SavedModel debug info (if present) from: /tmp/tmp0g97bjge\n",
      "2022-11-09 20:18:17.514273: I tensorflow/cc/saved_model/loader.cc:229] Restoring SavedModel bundle.\n",
      "2022-11-09 20:18:17.564395: I tensorflow/cc/saved_model/loader.cc:213] Running initialization op on SavedModel bundle at path: /tmp/tmp0g97bjge\n",
      "2022-11-09 20:18:17.578046: I tensorflow/cc/saved_model/loader.cc:305] SavedModel load for tags { serve }; Status: success: OK. Took 71266 microseconds.\n",
      "WARNING:absl:Found untraced functions such as _jit_compiled_convolution_op, _jit_compiled_convolution_op while saving (showing 2 of 2). These functions will not be directly callable after loading.\n"
     ]
    },
    {
     "name": "stdout",
     "output_type": "stream",
     "text": [
      "INFO:tensorflow:Assets written to: /tmp/tmpd5van9uz/assets\n"
     ]
    },
    {
     "name": "stderr",
     "output_type": "stream",
     "text": [
      "INFO:tensorflow:Assets written to: /tmp/tmpd5van9uz/assets\n",
      "2022-11-09 20:18:19.068349: W tensorflow/compiler/mlir/lite/python/tf_tfl_flatbuffer_helpers.cc:362] Ignored output_format.\n",
      "2022-11-09 20:18:19.068418: W tensorflow/compiler/mlir/lite/python/tf_tfl_flatbuffer_helpers.cc:365] Ignored drop_control_dependency.\n",
      "2022-11-09 20:18:19.068640: I tensorflow/cc/saved_model/reader.cc:45] Reading SavedModel from: /tmp/tmpd5van9uz\n",
      "2022-11-09 20:18:19.070333: I tensorflow/cc/saved_model/reader.cc:89] Reading meta graph with tags { serve }\n",
      "2022-11-09 20:18:19.070367: I tensorflow/cc/saved_model/reader.cc:130] Reading SavedModel debug info (if present) from: /tmp/tmpd5van9uz\n",
      "2022-11-09 20:18:19.075918: I tensorflow/cc/saved_model/loader.cc:229] Restoring SavedModel bundle.\n",
      "2022-11-09 20:18:19.125402: I tensorflow/cc/saved_model/loader.cc:213] Running initialization op on SavedModel bundle at path: /tmp/tmpd5van9uz\n",
      "2022-11-09 20:18:19.138414: I tensorflow/cc/saved_model/loader.cc:305] SavedModel load for tags { serve }; Status: success: OK. Took 69776 microseconds.\n",
      "WARNING:absl:Found untraced functions such as _jit_compiled_convolution_op, _jit_compiled_convolution_op while saving (showing 2 of 2). These functions will not be directly callable after loading.\n"
     ]
    },
    {
     "name": "stdout",
     "output_type": "stream",
     "text": [
      "INFO:tensorflow:Assets written to: /tmp/tmpcrlbhr5w/assets\n"
     ]
    },
    {
     "name": "stderr",
     "output_type": "stream",
     "text": [
      "INFO:tensorflow:Assets written to: /tmp/tmpcrlbhr5w/assets\n",
      "2022-11-09 20:18:20.574062: W tensorflow/compiler/mlir/lite/python/tf_tfl_flatbuffer_helpers.cc:362] Ignored output_format.\n",
      "2022-11-09 20:18:20.574131: W tensorflow/compiler/mlir/lite/python/tf_tfl_flatbuffer_helpers.cc:365] Ignored drop_control_dependency.\n",
      "2022-11-09 20:18:20.574296: I tensorflow/cc/saved_model/reader.cc:45] Reading SavedModel from: /tmp/tmpcrlbhr5w\n",
      "2022-11-09 20:18:20.576146: I tensorflow/cc/saved_model/reader.cc:89] Reading meta graph with tags { serve }\n",
      "2022-11-09 20:18:20.576181: I tensorflow/cc/saved_model/reader.cc:130] Reading SavedModel debug info (if present) from: /tmp/tmpcrlbhr5w\n",
      "2022-11-09 20:18:20.583185: I tensorflow/cc/saved_model/loader.cc:229] Restoring SavedModel bundle.\n",
      "2022-11-09 20:18:20.631912: I tensorflow/cc/saved_model/loader.cc:213] Running initialization op on SavedModel bundle at path: /tmp/tmpcrlbhr5w\n",
      "2022-11-09 20:18:20.644733: I tensorflow/cc/saved_model/loader.cc:305] SavedModel load for tags { serve }; Status: success: OK. Took 70440 microseconds.\n",
      "WARNING:absl:Found untraced functions such as _jit_compiled_convolution_op, _jit_compiled_convolution_op while saving (showing 2 of 2). These functions will not be directly callable after loading.\n"
     ]
    },
    {
     "name": "stdout",
     "output_type": "stream",
     "text": [
      "INFO:tensorflow:Assets written to: /tmp/tmp5lp6xkfo/assets\n"
     ]
    },
    {
     "name": "stderr",
     "output_type": "stream",
     "text": [
      "INFO:tensorflow:Assets written to: /tmp/tmp5lp6xkfo/assets\n",
      "2022-11-09 20:18:22.108251: W tensorflow/compiler/mlir/lite/python/tf_tfl_flatbuffer_helpers.cc:362] Ignored output_format.\n",
      "2022-11-09 20:18:22.108318: W tensorflow/compiler/mlir/lite/python/tf_tfl_flatbuffer_helpers.cc:365] Ignored drop_control_dependency.\n",
      "2022-11-09 20:18:22.108477: I tensorflow/cc/saved_model/reader.cc:45] Reading SavedModel from: /tmp/tmp5lp6xkfo\n",
      "2022-11-09 20:18:22.110256: I tensorflow/cc/saved_model/reader.cc:89] Reading meta graph with tags { serve }\n",
      "2022-11-09 20:18:22.110289: I tensorflow/cc/saved_model/reader.cc:130] Reading SavedModel debug info (if present) from: /tmp/tmp5lp6xkfo\n",
      "2022-11-09 20:18:22.117152: I tensorflow/cc/saved_model/loader.cc:229] Restoring SavedModel bundle.\n",
      "2022-11-09 20:18:22.164014: I tensorflow/cc/saved_model/loader.cc:213] Running initialization op on SavedModel bundle at path: /tmp/tmp5lp6xkfo\n",
      "2022-11-09 20:18:22.176606: I tensorflow/cc/saved_model/loader.cc:305] SavedModel load for tags { serve }; Status: success: OK. Took 68134 microseconds.\n",
      "WARNING:absl:Found untraced functions such as _jit_compiled_convolution_op, _jit_compiled_convolution_op while saving (showing 2 of 2). These functions will not be directly callable after loading.\n"
     ]
    },
    {
     "name": "stdout",
     "output_type": "stream",
     "text": [
      "INFO:tensorflow:Assets written to: /tmp/tmpfq1x3k5j/assets\n"
     ]
    },
    {
     "name": "stderr",
     "output_type": "stream",
     "text": [
      "INFO:tensorflow:Assets written to: /tmp/tmpfq1x3k5j/assets\n",
      "2022-11-09 20:18:24.507725: W tensorflow/compiler/mlir/lite/python/tf_tfl_flatbuffer_helpers.cc:362] Ignored output_format.\n",
      "2022-11-09 20:18:24.507789: W tensorflow/compiler/mlir/lite/python/tf_tfl_flatbuffer_helpers.cc:365] Ignored drop_control_dependency.\n",
      "2022-11-09 20:18:24.507997: I tensorflow/cc/saved_model/reader.cc:45] Reading SavedModel from: /tmp/tmpfq1x3k5j\n",
      "2022-11-09 20:18:24.509707: I tensorflow/cc/saved_model/reader.cc:89] Reading meta graph with tags { serve }\n",
      "2022-11-09 20:18:24.509738: I tensorflow/cc/saved_model/reader.cc:130] Reading SavedModel debug info (if present) from: /tmp/tmpfq1x3k5j\n",
      "2022-11-09 20:18:24.515247: I tensorflow/cc/saved_model/loader.cc:229] Restoring SavedModel bundle.\n",
      "2022-11-09 20:18:24.564958: I tensorflow/cc/saved_model/loader.cc:213] Running initialization op on SavedModel bundle at path: /tmp/tmpfq1x3k5j\n",
      "2022-11-09 20:18:24.577595: I tensorflow/cc/saved_model/loader.cc:305] SavedModel load for tags { serve }; Status: success: OK. Took 69602 microseconds.\n"
     ]
    },
    {
     "data": {
      "image/png": "[encoded data removed]",
      "text/plain": [
       "<Figure size 640x480 with 1 Axes>"
      ]
     },
     "metadata": {},
     "output_type": "display_data"
    },
    {
     "name": "stdout",
     "output_type": "stream",
     "text": [
      "fit df.shape (179957, 39)\n"
     ]
    },
    {
     "name": "stderr",
     "output_type": "stream",
     "text": [
      "WARNING:absl:Found untraced functions such as _jit_compiled_convolution_op, _jit_compiled_convolution_op while saving (showing 2 of 2). These functions will not be directly callable after loading.\n"
     ]
    },
    {
     "name": "stdout",
     "output_type": "stream",
     "text": [
      "INFO:tensorflow:Assets written to: /tmp/tmpdjpk_jh3/assets\n"
     ]
    },
    {
     "name": "stderr",
     "output_type": "stream",
     "text": [
      "INFO:tensorflow:Assets written to: /tmp/tmpdjpk_jh3/assets\n",
      "2022-11-09 20:28:40.803813: W tensorflow/compiler/mlir/lite/python/tf_tfl_flatbuffer_helpers.cc:362] Ignored output_format.\n",
      "2022-11-09 20:28:40.803959: W tensorflow/compiler/mlir/lite/python/tf_tfl_flatbuffer_helpers.cc:365] Ignored drop_control_dependency.\n",
      "2022-11-09 20:28:40.804174: I tensorflow/cc/saved_model/reader.cc:45] Reading SavedModel from: /tmp/tmpdjpk_jh3\n",
      "2022-11-09 20:28:40.806408: I tensorflow/cc/saved_model/reader.cc:89] Reading meta graph with tags { serve }\n",
      "2022-11-09 20:28:40.806454: I tensorflow/cc/saved_model/reader.cc:130] Reading SavedModel debug info (if present) from: /tmp/tmpdjpk_jh3\n",
      "2022-11-09 20:28:40.814312: I tensorflow/cc/saved_model/loader.cc:229] Restoring SavedModel bundle.\n",
      "2022-11-09 20:28:40.879129: I tensorflow/cc/saved_model/loader.cc:213] Running initialization op on SavedModel bundle at path: /tmp/tmpdjpk_jh3\n",
      "2022-11-09 20:28:40.896166: I tensorflow/cc/saved_model/loader.cc:305] SavedModel load for tags { serve }; Status: success: OK. Took 91995 microseconds.\n",
      "WARNING:absl:Found untraced functions such as _jit_compiled_convolution_op, _jit_compiled_convolution_op while saving (showing 2 of 2). These functions will not be directly callable after loading.\n"
     ]
    },
    {
     "name": "stdout",
     "output_type": "stream",
     "text": [
      "INFO:tensorflow:Assets written to: /tmp/tmpfnvw9x4c/assets\n"
     ]
    },
    {
     "name": "stderr",
     "output_type": "stream",
     "text": [
      "INFO:tensorflow:Assets written to: /tmp/tmpfnvw9x4c/assets\n",
      "2022-11-09 20:28:42.812132: W tensorflow/compiler/mlir/lite/python/tf_tfl_flatbuffer_helpers.cc:362] Ignored output_format.\n",
      "2022-11-09 20:28:42.812271: W tensorflow/compiler/mlir/lite/python/tf_tfl_flatbuffer_helpers.cc:365] Ignored drop_control_dependency.\n",
      "2022-11-09 20:28:42.812481: I tensorflow/cc/saved_model/reader.cc:45] Reading SavedModel from: /tmp/tmpfnvw9x4c\n",
      "2022-11-09 20:28:42.814642: I tensorflow/cc/saved_model/reader.cc:89] Reading meta graph with tags { serve }\n",
      "2022-11-09 20:28:42.814686: I tensorflow/cc/saved_model/reader.cc:130] Reading SavedModel debug info (if present) from: /tmp/tmpfnvw9x4c\n",
      "2022-11-09 20:28:42.821969: I tensorflow/cc/saved_model/loader.cc:229] Restoring SavedModel bundle.\n",
      "2022-11-09 20:28:42.884109: I tensorflow/cc/saved_model/loader.cc:213] Running initialization op on SavedModel bundle at path: /tmp/tmpfnvw9x4c\n",
      "2022-11-09 20:28:42.900270: I tensorflow/cc/saved_model/loader.cc:305] SavedModel load for tags { serve }; Status: success: OK. Took 87792 microseconds.\n",
      "WARNING:absl:Found untraced functions such as _jit_compiled_convolution_op, _jit_compiled_convolution_op while saving (showing 2 of 2). These functions will not be directly callable after loading.\n"
     ]
    },
    {
     "name": "stdout",
     "output_type": "stream",
     "text": [
      "INFO:tensorflow:Assets written to: /tmp/tmp24t_w8mc/assets\n"
     ]
    },
    {
     "name": "stderr",
     "output_type": "stream",
     "text": [
      "INFO:tensorflow:Assets written to: /tmp/tmp24t_w8mc/assets\n",
      "2022-11-09 20:28:44.691183: W tensorflow/compiler/mlir/lite/python/tf_tfl_flatbuffer_helpers.cc:362] Ignored output_format.\n",
      "2022-11-09 20:28:44.691312: W tensorflow/compiler/mlir/lite/python/tf_tfl_flatbuffer_helpers.cc:365] Ignored drop_control_dependency.\n",
      "2022-11-09 20:28:44.691514: I tensorflow/cc/saved_model/reader.cc:45] Reading SavedModel from: /tmp/tmp24t_w8mc\n",
      "2022-11-09 20:28:44.693623: I tensorflow/cc/saved_model/reader.cc:89] Reading meta graph with tags { serve }\n",
      "2022-11-09 20:28:44.693664: I tensorflow/cc/saved_model/reader.cc:130] Reading SavedModel debug info (if present) from: /tmp/tmp24t_w8mc\n",
      "2022-11-09 20:28:44.700718: I tensorflow/cc/saved_model/loader.cc:229] Restoring SavedModel bundle.\n",
      "2022-11-09 20:28:44.763312: I tensorflow/cc/saved_model/loader.cc:213] Running initialization op on SavedModel bundle at path: /tmp/tmp24t_w8mc\n",
      "2022-11-09 20:28:44.779581: I tensorflow/cc/saved_model/loader.cc:305] SavedModel load for tags { serve }; Status: success: OK. Took 88070 microseconds.\n",
      "WARNING:absl:Found untraced functions such as _jit_compiled_convolution_op, _jit_compiled_convolution_op while saving (showing 2 of 2). These functions will not be directly callable after loading.\n"
     ]
    },
    {
     "name": "stdout",
     "output_type": "stream",
     "text": [
      "INFO:tensorflow:Assets written to: /tmp/tmpextmhf15/assets\n"
     ]
    },
    {
     "name": "stderr",
     "output_type": "stream",
     "text": [
      "INFO:tensorflow:Assets written to: /tmp/tmpextmhf15/assets\n",
      "2022-11-09 20:28:46.617308: W tensorflow/compiler/mlir/lite/python/tf_tfl_flatbuffer_helpers.cc:362] Ignored output_format.\n",
      "2022-11-09 20:28:46.617382: W tensorflow/compiler/mlir/lite/python/tf_tfl_flatbuffer_helpers.cc:365] Ignored drop_control_dependency.\n",
      "2022-11-09 20:28:46.617570: I tensorflow/cc/saved_model/reader.cc:45] Reading SavedModel from: /tmp/tmpextmhf15\n",
      "2022-11-09 20:28:46.619583: I tensorflow/cc/saved_model/reader.cc:89] Reading meta graph with tags { serve }\n",
      "2022-11-09 20:28:46.619624: I tensorflow/cc/saved_model/reader.cc:130] Reading SavedModel debug info (if present) from: /tmp/tmpextmhf15\n",
      "2022-11-09 20:28:46.626319: I tensorflow/cc/saved_model/loader.cc:229] Restoring SavedModel bundle.\n",
      "2022-11-09 20:28:46.684376: I tensorflow/cc/saved_model/loader.cc:213] Running initialization op on SavedModel bundle at path: /tmp/tmpextmhf15\n",
      "2022-11-09 20:28:46.699366: I tensorflow/cc/saved_model/loader.cc:305] SavedModel load for tags { serve }; Status: success: OK. Took 81795 microseconds.\n",
      "WARNING:absl:Found untraced functions such as _jit_compiled_convolution_op, _jit_compiled_convolution_op while saving (showing 2 of 2). These functions will not be directly callable after loading.\n"
     ]
    },
    {
     "name": "stdout",
     "output_type": "stream",
     "text": [
      "INFO:tensorflow:Assets written to: /tmp/tmpjojccggl/assets\n"
     ]
    },
    {
     "name": "stderr",
     "output_type": "stream",
     "text": [
      "INFO:tensorflow:Assets written to: /tmp/tmpjojccggl/assets\n",
      "2022-11-09 20:28:48.354148: W tensorflow/compiler/mlir/lite/python/tf_tfl_flatbuffer_helpers.cc:362] Ignored output_format.\n",
      "2022-11-09 20:28:48.354223: W tensorflow/compiler/mlir/lite/python/tf_tfl_flatbuffer_helpers.cc:365] Ignored drop_control_dependency.\n",
      "2022-11-09 20:28:48.354457: I tensorflow/cc/saved_model/reader.cc:45] Reading SavedModel from: /tmp/tmpjojccggl\n",
      "2022-11-09 20:28:48.356291: I tensorflow/cc/saved_model/reader.cc:89] Reading meta graph with tags { serve }\n",
      "2022-11-09 20:28:48.356328: I tensorflow/cc/saved_model/reader.cc:130] Reading SavedModel debug info (if present) from: /tmp/tmpjojccggl\n",
      "2022-11-09 20:28:48.362473: I tensorflow/cc/saved_model/loader.cc:229] Restoring SavedModel bundle.\n",
      "2022-11-09 20:28:48.416410: I tensorflow/cc/saved_model/loader.cc:213] Running initialization op on SavedModel bundle at path: /tmp/tmpjojccggl\n",
      "2022-11-09 20:28:48.430628: I tensorflow/cc/saved_model/loader.cc:305] SavedModel load for tags { serve }; Status: success: OK. Took 76174 microseconds.\n",
      "WARNING:absl:Found untraced functions such as _jit_compiled_convolution_op, _jit_compiled_convolution_op while saving (showing 2 of 2). These functions will not be directly callable after loading.\n"
     ]
    },
    {
     "name": "stdout",
     "output_type": "stream",
     "text": [
      "INFO:tensorflow:Assets written to: /tmp/tmpo084pwzz/assets\n"
     ]
    },
    {
     "name": "stderr",
     "output_type": "stream",
     "text": [
      "INFO:tensorflow:Assets written to: /tmp/tmpo084pwzz/assets\n",
      "2022-11-09 20:28:50.023756: W tensorflow/compiler/mlir/lite/python/tf_tfl_flatbuffer_helpers.cc:362] Ignored output_format.\n",
      "2022-11-09 20:28:50.023833: W tensorflow/compiler/mlir/lite/python/tf_tfl_flatbuffer_helpers.cc:365] Ignored drop_control_dependency.\n",
      "2022-11-09 20:28:50.024017: I tensorflow/cc/saved_model/reader.cc:45] Reading SavedModel from: /tmp/tmpo084pwzz\n",
      "2022-11-09 20:28:50.025890: I tensorflow/cc/saved_model/reader.cc:89] Reading meta graph with tags { serve }\n",
      "2022-11-09 20:28:50.025929: I tensorflow/cc/saved_model/reader.cc:130] Reading SavedModel debug info (if present) from: /tmp/tmpo084pwzz\n",
      "2022-11-09 20:28:50.032107: I tensorflow/cc/saved_model/loader.cc:229] Restoring SavedModel bundle.\n",
      "2022-11-09 20:28:50.085469: I tensorflow/cc/saved_model/loader.cc:213] Running initialization op on SavedModel bundle at path: /tmp/tmpo084pwzz\n",
      "2022-11-09 20:28:50.100300: I tensorflow/cc/saved_model/loader.cc:305] SavedModel load for tags { serve }; Status: success: OK. Took 76287 microseconds.\n",
      "WARNING:absl:Found untraced functions such as _jit_compiled_convolution_op, _jit_compiled_convolution_op while saving (showing 2 of 2). These functions will not be directly callable after loading.\n"
     ]
    },
    {
     "name": "stdout",
     "output_type": "stream",
     "text": [
      "INFO:tensorflow:Assets written to: /tmp/tmpcomdw6o6/assets\n"
     ]
    },
    {
     "name": "stderr",
     "output_type": "stream",
     "text": [
      "INFO:tensorflow:Assets written to: /tmp/tmpcomdw6o6/assets\n",
      "2022-11-09 20:28:51.663921: W tensorflow/compiler/mlir/lite/python/tf_tfl_flatbuffer_helpers.cc:362] Ignored output_format.\n",
      "2022-11-09 20:28:51.663994: W tensorflow/compiler/mlir/lite/python/tf_tfl_flatbuffer_helpers.cc:365] Ignored drop_control_dependency.\n",
      "2022-11-09 20:28:51.664216: I tensorflow/cc/saved_model/reader.cc:45] Reading SavedModel from: /tmp/tmpcomdw6o6\n",
      "2022-11-09 20:28:51.665980: I tensorflow/cc/saved_model/reader.cc:89] Reading meta graph with tags { serve }\n",
      "2022-11-09 20:28:51.666016: I tensorflow/cc/saved_model/reader.cc:130] Reading SavedModel debug info (if present) from: /tmp/tmpcomdw6o6\n",
      "2022-11-09 20:28:51.671869: I tensorflow/cc/saved_model/loader.cc:229] Restoring SavedModel bundle.\n",
      "2022-11-09 20:28:51.723022: I tensorflow/cc/saved_model/loader.cc:213] Running initialization op on SavedModel bundle at path: /tmp/tmpcomdw6o6\n",
      "2022-11-09 20:28:51.736645: I tensorflow/cc/saved_model/loader.cc:305] SavedModel load for tags { serve }; Status: success: OK. Took 72433 microseconds.\n",
      "WARNING:absl:Found untraced functions such as _jit_compiled_convolution_op, _jit_compiled_convolution_op while saving (showing 2 of 2). These functions will not be directly callable after loading.\n"
     ]
    },
    {
     "name": "stdout",
     "output_type": "stream",
     "text": [
      "INFO:tensorflow:Assets written to: /tmp/tmpxqa78pv7/assets\n"
     ]
    },
    {
     "name": "stderr",
     "output_type": "stream",
     "text": [
      "INFO:tensorflow:Assets written to: /tmp/tmpxqa78pv7/assets\n",
      "2022-11-09 20:28:53.262749: W tensorflow/compiler/mlir/lite/python/tf_tfl_flatbuffer_helpers.cc:362] Ignored output_format.\n",
      "2022-11-09 20:28:53.262822: W tensorflow/compiler/mlir/lite/python/tf_tfl_flatbuffer_helpers.cc:365] Ignored drop_control_dependency.\n",
      "2022-11-09 20:28:53.263000: I tensorflow/cc/saved_model/reader.cc:45] Reading SavedModel from: /tmp/tmpxqa78pv7\n",
      "2022-11-09 20:28:53.264786: I tensorflow/cc/saved_model/reader.cc:89] Reading meta graph with tags { serve }\n",
      "2022-11-09 20:28:53.264821: I tensorflow/cc/saved_model/reader.cc:130] Reading SavedModel debug info (if present) from: /tmp/tmpxqa78pv7\n",
      "2022-11-09 20:28:53.270726: I tensorflow/cc/saved_model/loader.cc:229] Restoring SavedModel bundle.\n",
      "2022-11-09 20:28:53.322535: I tensorflow/cc/saved_model/loader.cc:213] Running initialization op on SavedModel bundle at path: /tmp/tmpxqa78pv7\n",
      "2022-11-09 20:28:53.336776: I tensorflow/cc/saved_model/loader.cc:305] SavedModel load for tags { serve }; Status: success: OK. Took 73780 microseconds.\n",
      "WARNING:absl:Found untraced functions such as _jit_compiled_convolution_op, _jit_compiled_convolution_op while saving (showing 2 of 2). These functions will not be directly callable after loading.\n"
     ]
    },
    {
     "name": "stdout",
     "output_type": "stream",
     "text": [
      "INFO:tensorflow:Assets written to: /tmp/tmpxpdhx9_d/assets\n"
     ]
    },
    {
     "name": "stderr",
     "output_type": "stream",
     "text": [
      "INFO:tensorflow:Assets written to: /tmp/tmpxpdhx9_d/assets\n",
      "2022-11-09 20:28:54.910639: W tensorflow/compiler/mlir/lite/python/tf_tfl_flatbuffer_helpers.cc:362] Ignored output_format.\n",
      "2022-11-09 20:28:54.910708: W tensorflow/compiler/mlir/lite/python/tf_tfl_flatbuffer_helpers.cc:365] Ignored drop_control_dependency.\n",
      "2022-11-09 20:28:54.910868: I tensorflow/cc/saved_model/reader.cc:45] Reading SavedModel from: /tmp/tmpxpdhx9_d\n",
      "2022-11-09 20:28:54.912631: I tensorflow/cc/saved_model/reader.cc:89] Reading meta graph with tags { serve }\n",
      "2022-11-09 20:28:54.912664: I tensorflow/cc/saved_model/reader.cc:130] Reading SavedModel debug info (if present) from: /tmp/tmpxpdhx9_d\n",
      "2022-11-09 20:28:54.918208: I tensorflow/cc/saved_model/loader.cc:229] Restoring SavedModel bundle.\n",
      "2022-11-09 20:28:54.966130: I tensorflow/cc/saved_model/loader.cc:213] Running initialization op on SavedModel bundle at path: /tmp/tmpxpdhx9_d\n",
      "2022-11-09 20:28:54.979223: I tensorflow/cc/saved_model/loader.cc:305] SavedModel load for tags { serve }; Status: success: OK. Took 68313 microseconds.\n",
      "WARNING:absl:Found untraced functions such as _jit_compiled_convolution_op, _jit_compiled_convolution_op while saving (showing 2 of 2). These functions will not be directly callable after loading.\n"
     ]
    },
    {
     "name": "stdout",
     "output_type": "stream",
     "text": [
      "INFO:tensorflow:Assets written to: /tmp/tmpqnun5kpx/assets\n"
     ]
    },
    {
     "name": "stderr",
     "output_type": "stream",
     "text": [
      "INFO:tensorflow:Assets written to: /tmp/tmpqnun5kpx/assets\n",
      "2022-11-09 20:28:56.435412: W tensorflow/compiler/mlir/lite/python/tf_tfl_flatbuffer_helpers.cc:362] Ignored output_format.\n",
      "2022-11-09 20:28:56.435483: W tensorflow/compiler/mlir/lite/python/tf_tfl_flatbuffer_helpers.cc:365] Ignored drop_control_dependency.\n",
      "2022-11-09 20:28:56.435649: I tensorflow/cc/saved_model/reader.cc:45] Reading SavedModel from: /tmp/tmpqnun5kpx\n",
      "2022-11-09 20:28:56.437338: I tensorflow/cc/saved_model/reader.cc:89] Reading meta graph with tags { serve }\n",
      "2022-11-09 20:28:56.437418: I tensorflow/cc/saved_model/reader.cc:130] Reading SavedModel debug info (if present) from: /tmp/tmpqnun5kpx\n",
      "2022-11-09 20:28:56.442997: I tensorflow/cc/saved_model/loader.cc:229] Restoring SavedModel bundle.\n",
      "2022-11-09 20:28:56.501433: I tensorflow/cc/saved_model/loader.cc:213] Running initialization op on SavedModel bundle at path: /tmp/tmpqnun5kpx\n",
      "2022-11-09 20:28:56.515852: I tensorflow/cc/saved_model/loader.cc:305] SavedModel load for tags { serve }; Status: success: OK. Took 80206 microseconds.\n"
     ]
    },
    {
     "data": {
      "image/png": "[encoded data removed]",
      "text/plain": [
       "<Figure size 640x480 with 1 Axes>"
      ]
     },
     "metadata": {},
     "output_type": "display_data"
    },
    {
     "name": "stdout",
     "output_type": "stream",
     "text": [
      "fit df.shape (179957, 39)\n"
     ]
    },
    {
     "name": "stderr",
     "output_type": "stream",
     "text": [
      "WARNING:absl:Found untraced functions such as _jit_compiled_convolution_op, _jit_compiled_convolution_op while saving (showing 2 of 2). These functions will not be directly callable after loading.\n"
     ]
    },
    {
     "name": "stdout",
     "output_type": "stream",
     "text": [
      "INFO:tensorflow:Assets written to: /tmp/tmp0bg_pllk/assets\n"
     ]
    },
    {
     "name": "stderr",
     "output_type": "stream",
     "text": [
      "INFO:tensorflow:Assets written to: /tmp/tmp0bg_pllk/assets\n",
      "2022-11-09 20:37:55.352336: W tensorflow/compiler/mlir/lite/python/tf_tfl_flatbuffer_helpers.cc:362] Ignored output_format.\n",
      "2022-11-09 20:37:55.352427: W tensorflow/compiler/mlir/lite/python/tf_tfl_flatbuffer_helpers.cc:365] Ignored drop_control_dependency.\n",
      "2022-11-09 20:37:55.352748: I tensorflow/cc/saved_model/reader.cc:45] Reading SavedModel from: /tmp/tmp0bg_pllk\n",
      "2022-11-09 20:37:55.355131: I tensorflow/cc/saved_model/reader.cc:89] Reading meta graph with tags { serve }\n",
      "2022-11-09 20:37:55.355182: I tensorflow/cc/saved_model/reader.cc:130] Reading SavedModel debug info (if present) from: /tmp/tmp0bg_pllk\n",
      "2022-11-09 20:37:55.363190: I tensorflow/cc/saved_model/loader.cc:229] Restoring SavedModel bundle.\n",
      "2022-11-09 20:37:55.432818: I tensorflow/cc/saved_model/loader.cc:213] Running initialization op on SavedModel bundle at path: /tmp/tmp0bg_pllk\n",
      "2022-11-09 20:37:55.451562: I tensorflow/cc/saved_model/loader.cc:305] SavedModel load for tags { serve }; Status: success: OK. Took 98818 microseconds.\n",
      "WARNING:absl:Found untraced functions such as _jit_compiled_convolution_op, _jit_compiled_convolution_op while saving (showing 2 of 2). These functions will not be directly callable after loading.\n"
     ]
    },
    {
     "name": "stdout",
     "output_type": "stream",
     "text": [
      "INFO:tensorflow:Assets written to: /tmp/tmpb_s8judj/assets\n"
     ]
    },
    {
     "name": "stderr",
     "output_type": "stream",
     "text": [
      "INFO:tensorflow:Assets written to: /tmp/tmpb_s8judj/assets\n",
      "2022-11-09 20:37:57.567354: W tensorflow/compiler/mlir/lite/python/tf_tfl_flatbuffer_helpers.cc:362] Ignored output_format.\n",
      "2022-11-09 20:37:57.567475: W tensorflow/compiler/mlir/lite/python/tf_tfl_flatbuffer_helpers.cc:365] Ignored drop_control_dependency.\n",
      "2022-11-09 20:37:57.567802: I tensorflow/cc/saved_model/reader.cc:45] Reading SavedModel from: /tmp/tmpb_s8judj\n",
      "2022-11-09 20:37:57.570168: I tensorflow/cc/saved_model/reader.cc:89] Reading meta graph with tags { serve }\n",
      "2022-11-09 20:37:57.570217: I tensorflow/cc/saved_model/reader.cc:130] Reading SavedModel debug info (if present) from: /tmp/tmpb_s8judj\n",
      "2022-11-09 20:37:57.578949: I tensorflow/cc/saved_model/loader.cc:229] Restoring SavedModel bundle.\n",
      "2022-11-09 20:37:57.652347: I tensorflow/cc/saved_model/loader.cc:213] Running initialization op on SavedModel bundle at path: /tmp/tmpb_s8judj\n",
      "2022-11-09 20:37:57.670564: I tensorflow/cc/saved_model/loader.cc:305] SavedModel load for tags { serve }; Status: success: OK. Took 102759 microseconds.\n",
      "WARNING:absl:Found untraced functions such as _jit_compiled_convolution_op, _jit_compiled_convolution_op while saving (showing 2 of 2). These functions will not be directly callable after loading.\n"
     ]
    },
    {
     "name": "stdout",
     "output_type": "stream",
     "text": [
      "INFO:tensorflow:Assets written to: /tmp/tmpzpjywun9/assets\n"
     ]
    },
    {
     "name": "stderr",
     "output_type": "stream",
     "text": [
      "INFO:tensorflow:Assets written to: /tmp/tmpzpjywun9/assets\n",
      "2022-11-09 20:37:59.717392: W tensorflow/compiler/mlir/lite/python/tf_tfl_flatbuffer_helpers.cc:362] Ignored output_format.\n",
      "2022-11-09 20:37:59.717480: W tensorflow/compiler/mlir/lite/python/tf_tfl_flatbuffer_helpers.cc:365] Ignored drop_control_dependency.\n",
      "2022-11-09 20:37:59.717772: I tensorflow/cc/saved_model/reader.cc:45] Reading SavedModel from: /tmp/tmpzpjywun9\n",
      "2022-11-09 20:37:59.720082: I tensorflow/cc/saved_model/reader.cc:89] Reading meta graph with tags { serve }\n",
      "2022-11-09 20:37:59.720129: I tensorflow/cc/saved_model/reader.cc:130] Reading SavedModel debug info (if present) from: /tmp/tmpzpjywun9\n",
      "2022-11-09 20:37:59.728094: I tensorflow/cc/saved_model/loader.cc:229] Restoring SavedModel bundle.\n",
      "2022-11-09 20:37:59.796697: I tensorflow/cc/saved_model/loader.cc:213] Running initialization op on SavedModel bundle at path: /tmp/tmpzpjywun9\n",
      "2022-11-09 20:37:59.814658: I tensorflow/cc/saved_model/loader.cc:305] SavedModel load for tags { serve }; Status: success: OK. Took 96890 microseconds.\n",
      "WARNING:absl:Found untraced functions such as _jit_compiled_convolution_op, _jit_compiled_convolution_op while saving (showing 2 of 2). These functions will not be directly callable after loading.\n"
     ]
    },
    {
     "name": "stdout",
     "output_type": "stream",
     "text": [
      "INFO:tensorflow:Assets written to: /tmp/tmpbcxtcr34/assets\n"
     ]
    },
    {
     "name": "stderr",
     "output_type": "stream",
     "text": [
      "INFO:tensorflow:Assets written to: /tmp/tmpbcxtcr34/assets\n",
      "2022-11-09 20:38:01.796274: W tensorflow/compiler/mlir/lite/python/tf_tfl_flatbuffer_helpers.cc:362] Ignored output_format.\n",
      "2022-11-09 20:38:01.796359: W tensorflow/compiler/mlir/lite/python/tf_tfl_flatbuffer_helpers.cc:365] Ignored drop_control_dependency.\n",
      "2022-11-09 20:38:01.796621: I tensorflow/cc/saved_model/reader.cc:45] Reading SavedModel from: /tmp/tmpbcxtcr34\n",
      "2022-11-09 20:38:01.798867: I tensorflow/cc/saved_model/reader.cc:89] Reading meta graph with tags { serve }\n",
      "2022-11-09 20:38:01.798909: I tensorflow/cc/saved_model/reader.cc:130] Reading SavedModel debug info (if present) from: /tmp/tmpbcxtcr34\n",
      "2022-11-09 20:38:01.806068: I tensorflow/cc/saved_model/loader.cc:229] Restoring SavedModel bundle.\n",
      "2022-11-09 20:38:01.870450: I tensorflow/cc/saved_model/loader.cc:213] Running initialization op on SavedModel bundle at path: /tmp/tmpbcxtcr34\n",
      "2022-11-09 20:38:01.889444: I tensorflow/cc/saved_model/loader.cc:305] SavedModel load for tags { serve }; Status: success: OK. Took 92875 microseconds.\n",
      "WARNING:absl:Found untraced functions such as _jit_compiled_convolution_op, _jit_compiled_convolution_op while saving (showing 2 of 2). These functions will not be directly callable after loading.\n"
     ]
    },
    {
     "name": "stdout",
     "output_type": "stream",
     "text": [
      "INFO:tensorflow:Assets written to: /tmp/tmp1yv_y2tz/assets\n"
     ]
    },
    {
     "name": "stderr",
     "output_type": "stream",
     "text": [
      "INFO:tensorflow:Assets written to: /tmp/tmp1yv_y2tz/assets\n",
      "2022-11-09 20:38:03.827524: W tensorflow/compiler/mlir/lite/python/tf_tfl_flatbuffer_helpers.cc:362] Ignored output_format.\n",
      "2022-11-09 20:38:03.827665: W tensorflow/compiler/mlir/lite/python/tf_tfl_flatbuffer_helpers.cc:365] Ignored drop_control_dependency.\n",
      "2022-11-09 20:38:03.827882: I tensorflow/cc/saved_model/reader.cc:45] Reading SavedModel from: /tmp/tmp1yv_y2tz\n",
      "2022-11-09 20:38:03.829987: I tensorflow/cc/saved_model/reader.cc:89] Reading meta graph with tags { serve }\n",
      "2022-11-09 20:38:03.830028: I tensorflow/cc/saved_model/reader.cc:130] Reading SavedModel debug info (if present) from: /tmp/tmp1yv_y2tz\n",
      "2022-11-09 20:38:03.836865: I tensorflow/cc/saved_model/loader.cc:229] Restoring SavedModel bundle.\n",
      "2022-11-09 20:38:03.895757: I tensorflow/cc/saved_model/loader.cc:213] Running initialization op on SavedModel bundle at path: /tmp/tmp1yv_y2tz\n",
      "2022-11-09 20:38:03.911552: I tensorflow/cc/saved_model/loader.cc:305] SavedModel load for tags { serve }; Status: success: OK. Took 83673 microseconds.\n",
      "WARNING:absl:Found untraced functions such as _jit_compiled_convolution_op, _jit_compiled_convolution_op while saving (showing 2 of 2). These functions will not be directly callable after loading.\n"
     ]
    },
    {
     "name": "stdout",
     "output_type": "stream",
     "text": [
      "INFO:tensorflow:Assets written to: /tmp/tmpso6pfqq1/assets\n"
     ]
    },
    {
     "name": "stderr",
     "output_type": "stream",
     "text": [
      "INFO:tensorflow:Assets written to: /tmp/tmpso6pfqq1/assets\n",
      "2022-11-09 20:38:05.713275: W tensorflow/compiler/mlir/lite/python/tf_tfl_flatbuffer_helpers.cc:362] Ignored output_format.\n",
      "2022-11-09 20:38:05.713355: W tensorflow/compiler/mlir/lite/python/tf_tfl_flatbuffer_helpers.cc:365] Ignored drop_control_dependency.\n",
      "2022-11-09 20:38:05.713550: I tensorflow/cc/saved_model/reader.cc:45] Reading SavedModel from: /tmp/tmpso6pfqq1\n",
      "2022-11-09 20:38:05.715630: I tensorflow/cc/saved_model/reader.cc:89] Reading meta graph with tags { serve }\n",
      "2022-11-09 20:38:05.715671: I tensorflow/cc/saved_model/reader.cc:130] Reading SavedModel debug info (if present) from: /tmp/tmpso6pfqq1\n",
      "2022-11-09 20:38:05.722590: I tensorflow/cc/saved_model/loader.cc:229] Restoring SavedModel bundle.\n",
      "2022-11-09 20:38:05.781950: I tensorflow/cc/saved_model/loader.cc:213] Running initialization op on SavedModel bundle at path: /tmp/tmpso6pfqq1\n",
      "2022-11-09 20:38:05.799213: I tensorflow/cc/saved_model/loader.cc:305] SavedModel load for tags { serve }; Status: success: OK. Took 85665 microseconds.\n",
      "WARNING:absl:Found untraced functions such as _jit_compiled_convolution_op, _jit_compiled_convolution_op while saving (showing 2 of 2). These functions will not be directly callable after loading.\n"
     ]
    },
    {
     "name": "stdout",
     "output_type": "stream",
     "text": [
      "INFO:tensorflow:Assets written to: /tmp/tmp9_mr8b0p/assets\n"
     ]
    },
    {
     "name": "stderr",
     "output_type": "stream",
     "text": [
      "INFO:tensorflow:Assets written to: /tmp/tmp9_mr8b0p/assets\n",
      "2022-11-09 20:38:07.539996: W tensorflow/compiler/mlir/lite/python/tf_tfl_flatbuffer_helpers.cc:362] Ignored output_format.\n",
      "2022-11-09 20:38:07.540070: W tensorflow/compiler/mlir/lite/python/tf_tfl_flatbuffer_helpers.cc:365] Ignored drop_control_dependency.\n",
      "2022-11-09 20:38:07.540254: I tensorflow/cc/saved_model/reader.cc:45] Reading SavedModel from: /tmp/tmp9_mr8b0p\n",
      "2022-11-09 20:38:07.542206: I tensorflow/cc/saved_model/reader.cc:89] Reading meta graph with tags { serve }\n",
      "2022-11-09 20:38:07.542245: I tensorflow/cc/saved_model/reader.cc:130] Reading SavedModel debug info (if present) from: /tmp/tmp9_mr8b0p\n",
      "2022-11-09 20:38:07.549386: I tensorflow/cc/saved_model/loader.cc:229] Restoring SavedModel bundle.\n",
      "2022-11-09 20:38:07.605631: I tensorflow/cc/saved_model/loader.cc:213] Running initialization op on SavedModel bundle at path: /tmp/tmp9_mr8b0p\n",
      "2022-11-09 20:38:07.620031: I tensorflow/cc/saved_model/loader.cc:305] SavedModel load for tags { serve }; Status: success: OK. Took 79778 microseconds.\n",
      "WARNING:absl:Found untraced functions such as _jit_compiled_convolution_op, _jit_compiled_convolution_op while saving (showing 2 of 2). These functions will not be directly callable after loading.\n"
     ]
    },
    {
     "name": "stdout",
     "output_type": "stream",
     "text": [
      "INFO:tensorflow:Assets written to: /tmp/tmpqgrgcb2z/assets\n"
     ]
    },
    {
     "name": "stderr",
     "output_type": "stream",
     "text": [
      "INFO:tensorflow:Assets written to: /tmp/tmpqgrgcb2z/assets\n",
      "2022-11-09 20:38:09.255225: W tensorflow/compiler/mlir/lite/python/tf_tfl_flatbuffer_helpers.cc:362] Ignored output_format.\n",
      "2022-11-09 20:38:09.255303: W tensorflow/compiler/mlir/lite/python/tf_tfl_flatbuffer_helpers.cc:365] Ignored drop_control_dependency.\n",
      "2022-11-09 20:38:09.255479: I tensorflow/cc/saved_model/reader.cc:45] Reading SavedModel from: /tmp/tmpqgrgcb2z\n",
      "2022-11-09 20:38:09.257368: I tensorflow/cc/saved_model/reader.cc:89] Reading meta graph with tags { serve }\n",
      "2022-11-09 20:38:09.257405: I tensorflow/cc/saved_model/reader.cc:130] Reading SavedModel debug info (if present) from: /tmp/tmpqgrgcb2z\n",
      "2022-11-09 20:38:09.263729: I tensorflow/cc/saved_model/loader.cc:229] Restoring SavedModel bundle.\n",
      "2022-11-09 20:38:09.318375: I tensorflow/cc/saved_model/loader.cc:213] Running initialization op on SavedModel bundle at path: /tmp/tmpqgrgcb2z\n",
      "2022-11-09 20:38:09.332754: I tensorflow/cc/saved_model/loader.cc:305] SavedModel load for tags { serve }; Status: success: OK. Took 77283 microseconds.\n",
      "WARNING:absl:Found untraced functions such as _jit_compiled_convolution_op, _jit_compiled_convolution_op while saving (showing 2 of 2). These functions will not be directly callable after loading.\n"
     ]
    },
    {
     "name": "stdout",
     "output_type": "stream",
     "text": [
      "INFO:tensorflow:Assets written to: /tmp/tmppjd4pj_u/assets\n"
     ]
    },
    {
     "name": "stderr",
     "output_type": "stream",
     "text": [
      "INFO:tensorflow:Assets written to: /tmp/tmppjd4pj_u/assets\n",
      "2022-11-09 20:38:10.929939: W tensorflow/compiler/mlir/lite/python/tf_tfl_flatbuffer_helpers.cc:362] Ignored output_format.\n",
      "2022-11-09 20:38:10.930013: W tensorflow/compiler/mlir/lite/python/tf_tfl_flatbuffer_helpers.cc:365] Ignored drop_control_dependency.\n",
      "2022-11-09 20:38:10.930193: I tensorflow/cc/saved_model/reader.cc:45] Reading SavedModel from: /tmp/tmppjd4pj_u\n",
      "2022-11-09 20:38:10.932102: I tensorflow/cc/saved_model/reader.cc:89] Reading meta graph with tags { serve }\n",
      "2022-11-09 20:38:10.932140: I tensorflow/cc/saved_model/reader.cc:130] Reading SavedModel debug info (if present) from: /tmp/tmppjd4pj_u\n",
      "2022-11-09 20:38:10.938532: I tensorflow/cc/saved_model/loader.cc:229] Restoring SavedModel bundle.\n",
      "2022-11-09 20:38:10.993936: I tensorflow/cc/saved_model/loader.cc:213] Running initialization op on SavedModel bundle at path: /tmp/tmppjd4pj_u\n",
      "2022-11-09 20:38:11.008437: I tensorflow/cc/saved_model/loader.cc:305] SavedModel load for tags { serve }; Status: success: OK. Took 78246 microseconds.\n",
      "WARNING:absl:Found untraced functions such as _jit_compiled_convolution_op, _jit_compiled_convolution_op while saving (showing 2 of 2). These functions will not be directly callable after loading.\n"
     ]
    },
    {
     "name": "stdout",
     "output_type": "stream",
     "text": [
      "INFO:tensorflow:Assets written to: /tmp/tmp0dqgdzdd/assets\n"
     ]
    },
    {
     "name": "stderr",
     "output_type": "stream",
     "text": [
      "INFO:tensorflow:Assets written to: /tmp/tmp0dqgdzdd/assets\n",
      "2022-11-09 20:38:12.642410: W tensorflow/compiler/mlir/lite/python/tf_tfl_flatbuffer_helpers.cc:362] Ignored output_format.\n",
      "2022-11-09 20:38:12.642484: W tensorflow/compiler/mlir/lite/python/tf_tfl_flatbuffer_helpers.cc:365] Ignored drop_control_dependency.\n",
      "2022-11-09 20:38:12.642713: I tensorflow/cc/saved_model/reader.cc:45] Reading SavedModel from: /tmp/tmp0dqgdzdd\n",
      "2022-11-09 20:38:12.644517: I tensorflow/cc/saved_model/reader.cc:89] Reading meta graph with tags { serve }\n",
      "2022-11-09 20:38:12.644654: I tensorflow/cc/saved_model/reader.cc:130] Reading SavedModel debug info (if present) from: /tmp/tmp0dqgdzdd\n",
      "2022-11-09 20:38:12.650829: I tensorflow/cc/saved_model/loader.cc:229] Restoring SavedModel bundle.\n",
      "2022-11-09 20:38:12.703815: I tensorflow/cc/saved_model/loader.cc:213] Running initialization op on SavedModel bundle at path: /tmp/tmp0dqgdzdd\n",
      "2022-11-09 20:38:12.718206: I tensorflow/cc/saved_model/loader.cc:305] SavedModel load for tags { serve }; Status: success: OK. Took 75494 microseconds.\n"
     ]
    },
    {
     "data": {
      "image/png": "[encoded data removed]",
      "text/plain": [
       "<Figure size 640x480 with 1 Axes>"
      ]
     },
     "metadata": {},
     "output_type": "display_data"
    },
    {
     "name": "stdout",
     "output_type": "stream",
     "text": [
      "fit df.shape (180191, 39)\n"
     ]
    },
    {
     "name": "stderr",
     "output_type": "stream",
     "text": [
      "WARNING:absl:Found untraced functions such as _jit_compiled_convolution_op, _jit_compiled_convolution_op while saving (showing 2 of 2). These functions will not be directly callable after loading.\n"
     ]
    },
    {
     "name": "stdout",
     "output_type": "stream",
     "text": [
      "INFO:tensorflow:Assets written to: /tmp/tmpzjqejg14/assets\n"
     ]
    },
    {
     "name": "stderr",
     "output_type": "stream",
     "text": [
      "INFO:tensorflow:Assets written to: /tmp/tmpzjqejg14/assets\n",
      "2022-11-09 20:57:57.963141: W tensorflow/compiler/mlir/lite/python/tf_tfl_flatbuffer_helpers.cc:362] Ignored output_format.\n",
      "2022-11-09 20:57:57.963229: W tensorflow/compiler/mlir/lite/python/tf_tfl_flatbuffer_helpers.cc:365] Ignored drop_control_dependency.\n",
      "2022-11-09 20:57:57.963507: I tensorflow/cc/saved_model/reader.cc:45] Reading SavedModel from: /tmp/tmpzjqejg14\n",
      "2022-11-09 20:57:57.965753: I tensorflow/cc/saved_model/reader.cc:89] Reading meta graph with tags { serve }\n",
      "2022-11-09 20:57:57.965798: I tensorflow/cc/saved_model/reader.cc:130] Reading SavedModel debug info (if present) from: /tmp/tmpzjqejg14\n",
      "2022-11-09 20:57:57.973151: I tensorflow/cc/saved_model/loader.cc:229] Restoring SavedModel bundle.\n",
      "2022-11-09 20:57:58.037585: I tensorflow/cc/saved_model/loader.cc:213] Running initialization op on SavedModel bundle at path: /tmp/tmpzjqejg14\n",
      "2022-11-09 20:57:58.054424: I tensorflow/cc/saved_model/loader.cc:305] SavedModel load for tags { serve }; Status: success: OK. Took 90926 microseconds.\n",
      "WARNING:absl:Found untraced functions such as _jit_compiled_convolution_op, _jit_compiled_convolution_op while saving (showing 2 of 2). These functions will not be directly callable after loading.\n"
     ]
    },
    {
     "name": "stdout",
     "output_type": "stream",
     "text": [
      "INFO:tensorflow:Assets written to: /tmp/tmp81wmqm_f/assets\n"
     ]
    },
    {
     "name": "stderr",
     "output_type": "stream",
     "text": [
      "INFO:tensorflow:Assets written to: /tmp/tmp81wmqm_f/assets\n",
      "2022-11-09 20:57:59.980720: W tensorflow/compiler/mlir/lite/python/tf_tfl_flatbuffer_helpers.cc:362] Ignored output_format.\n",
      "2022-11-09 20:57:59.980806: W tensorflow/compiler/mlir/lite/python/tf_tfl_flatbuffer_helpers.cc:365] Ignored drop_control_dependency.\n",
      "2022-11-09 20:57:59.981014: I tensorflow/cc/saved_model/reader.cc:45] Reading SavedModel from: /tmp/tmp81wmqm_f\n",
      "2022-11-09 20:57:59.983284: I tensorflow/cc/saved_model/reader.cc:89] Reading meta graph with tags { serve }\n",
      "2022-11-09 20:57:59.983327: I tensorflow/cc/saved_model/reader.cc:130] Reading SavedModel debug info (if present) from: /tmp/tmp81wmqm_f\n",
      "2022-11-09 20:57:59.990495: I tensorflow/cc/saved_model/loader.cc:229] Restoring SavedModel bundle.\n",
      "2022-11-09 20:58:00.054732: I tensorflow/cc/saved_model/loader.cc:213] Running initialization op on SavedModel bundle at path: /tmp/tmp81wmqm_f\n",
      "2022-11-09 20:58:00.071620: I tensorflow/cc/saved_model/loader.cc:305] SavedModel load for tags { serve }; Status: success: OK. Took 90609 microseconds.\n",
      "WARNING:absl:Found untraced functions such as _jit_compiled_convolution_op, _jit_compiled_convolution_op while saving (showing 2 of 2). These functions will not be directly callable after loading.\n"
     ]
    },
    {
     "name": "stdout",
     "output_type": "stream",
     "text": [
      "INFO:tensorflow:Assets written to: /tmp/tmpe05woqe_/assets\n"
     ]
    },
    {
     "name": "stderr",
     "output_type": "stream",
     "text": [
      "INFO:tensorflow:Assets written to: /tmp/tmpe05woqe_/assets\n",
      "2022-11-09 20:58:01.877111: W tensorflow/compiler/mlir/lite/python/tf_tfl_flatbuffer_helpers.cc:362] Ignored output_format.\n",
      "2022-11-09 20:58:01.877189: W tensorflow/compiler/mlir/lite/python/tf_tfl_flatbuffer_helpers.cc:365] Ignored drop_control_dependency.\n",
      "2022-11-09 20:58:01.877440: I tensorflow/cc/saved_model/reader.cc:45] Reading SavedModel from: /tmp/tmpe05woqe_\n",
      "2022-11-09 20:58:01.879515: I tensorflow/cc/saved_model/reader.cc:89] Reading meta graph with tags { serve }\n",
      "2022-11-09 20:58:01.879557: I tensorflow/cc/saved_model/reader.cc:130] Reading SavedModel debug info (if present) from: /tmp/tmpe05woqe_\n",
      "2022-11-09 20:58:01.886056: I tensorflow/cc/saved_model/loader.cc:229] Restoring SavedModel bundle.\n",
      "2022-11-09 20:58:01.944729: I tensorflow/cc/saved_model/loader.cc:213] Running initialization op on SavedModel bundle at path: /tmp/tmpe05woqe_\n",
      "2022-11-09 20:58:01.961061: I tensorflow/cc/saved_model/loader.cc:305] SavedModel load for tags { serve }; Status: success: OK. Took 83623 microseconds.\n",
      "WARNING:absl:Found untraced functions such as _jit_compiled_convolution_op, _jit_compiled_convolution_op while saving (showing 2 of 2). These functions will not be directly callable after loading.\n"
     ]
    },
    {
     "name": "stdout",
     "output_type": "stream",
     "text": [
      "INFO:tensorflow:Assets written to: /tmp/tmpgf12a2zp/assets\n"
     ]
    },
    {
     "name": "stderr",
     "output_type": "stream",
     "text": [
      "INFO:tensorflow:Assets written to: /tmp/tmpgf12a2zp/assets\n",
      "2022-11-09 20:58:03.696096: W tensorflow/compiler/mlir/lite/python/tf_tfl_flatbuffer_helpers.cc:362] Ignored output_format.\n",
      "2022-11-09 20:58:03.696172: W tensorflow/compiler/mlir/lite/python/tf_tfl_flatbuffer_helpers.cc:365] Ignored drop_control_dependency.\n",
      "2022-11-09 20:58:03.696414: I tensorflow/cc/saved_model/reader.cc:45] Reading SavedModel from: /tmp/tmpgf12a2zp\n",
      "2022-11-09 20:58:03.698447: I tensorflow/cc/saved_model/reader.cc:89] Reading meta graph with tags { serve }\n",
      "2022-11-09 20:58:03.698489: I tensorflow/cc/saved_model/reader.cc:130] Reading SavedModel debug info (if present) from: /tmp/tmpgf12a2zp\n",
      "2022-11-09 20:58:03.704874: I tensorflow/cc/saved_model/loader.cc:229] Restoring SavedModel bundle.\n",
      "2022-11-09 20:58:03.765263: I tensorflow/cc/saved_model/loader.cc:213] Running initialization op on SavedModel bundle at path: /tmp/tmpgf12a2zp\n",
      "2022-11-09 20:58:03.780386: I tensorflow/cc/saved_model/loader.cc:305] SavedModel load for tags { serve }; Status: success: OK. Took 83973 microseconds.\n",
      "WARNING:absl:Found untraced functions such as _jit_compiled_convolution_op, _jit_compiled_convolution_op while saving (showing 2 of 2). These functions will not be directly callable after loading.\n"
     ]
    },
    {
     "name": "stdout",
     "output_type": "stream",
     "text": [
      "INFO:tensorflow:Assets written to: /tmp/tmpufgxvntz/assets\n"
     ]
    },
    {
     "name": "stderr",
     "output_type": "stream",
     "text": [
      "INFO:tensorflow:Assets written to: /tmp/tmpufgxvntz/assets\n",
      "2022-11-09 20:58:05.468111: W tensorflow/compiler/mlir/lite/python/tf_tfl_flatbuffer_helpers.cc:362] Ignored output_format.\n",
      "2022-11-09 20:58:05.468190: W tensorflow/compiler/mlir/lite/python/tf_tfl_flatbuffer_helpers.cc:365] Ignored drop_control_dependency.\n",
      "2022-11-09 20:58:05.468429: I tensorflow/cc/saved_model/reader.cc:45] Reading SavedModel from: /tmp/tmpufgxvntz\n",
      "2022-11-09 20:58:05.470314: I tensorflow/cc/saved_model/reader.cc:89] Reading meta graph with tags { serve }\n",
      "2022-11-09 20:58:05.470352: I tensorflow/cc/saved_model/reader.cc:130] Reading SavedModel debug info (if present) from: /tmp/tmpufgxvntz\n",
      "2022-11-09 20:58:05.476468: I tensorflow/cc/saved_model/loader.cc:229] Restoring SavedModel bundle.\n",
      "2022-11-09 20:58:05.532192: I tensorflow/cc/saved_model/loader.cc:213] Running initialization op on SavedModel bundle at path: /tmp/tmpufgxvntz\n",
      "2022-11-09 20:58:05.547583: I tensorflow/cc/saved_model/loader.cc:305] SavedModel load for tags { serve }; Status: success: OK. Took 79156 microseconds.\n",
      "WARNING:absl:Found untraced functions such as _jit_compiled_convolution_op, _jit_compiled_convolution_op while saving (showing 2 of 2). These functions will not be directly callable after loading.\n"
     ]
    },
    {
     "name": "stdout",
     "output_type": "stream",
     "text": [
      "INFO:tensorflow:Assets written to: /tmp/tmpa8m0tiak/assets\n"
     ]
    },
    {
     "name": "stderr",
     "output_type": "stream",
     "text": [
      "INFO:tensorflow:Assets written to: /tmp/tmpa8m0tiak/assets\n",
      "2022-11-09 20:58:07.161920: W tensorflow/compiler/mlir/lite/python/tf_tfl_flatbuffer_helpers.cc:362] Ignored output_format.\n",
      "2022-11-09 20:58:07.161994: W tensorflow/compiler/mlir/lite/python/tf_tfl_flatbuffer_helpers.cc:365] Ignored drop_control_dependency.\n",
      "2022-11-09 20:58:07.162175: I tensorflow/cc/saved_model/reader.cc:45] Reading SavedModel from: /tmp/tmpa8m0tiak\n",
      "2022-11-09 20:58:07.164030: I tensorflow/cc/saved_model/reader.cc:89] Reading meta graph with tags { serve }\n",
      "2022-11-09 20:58:07.164066: I tensorflow/cc/saved_model/reader.cc:130] Reading SavedModel debug info (if present) from: /tmp/tmpa8m0tiak\n",
      "2022-11-09 20:58:07.170250: I tensorflow/cc/saved_model/loader.cc:229] Restoring SavedModel bundle.\n",
      "2022-11-09 20:58:07.224866: I tensorflow/cc/saved_model/loader.cc:213] Running initialization op on SavedModel bundle at path: /tmp/tmpa8m0tiak\n",
      "2022-11-09 20:58:07.239497: I tensorflow/cc/saved_model/loader.cc:305] SavedModel load for tags { serve }; Status: success: OK. Took 77324 microseconds.\n",
      "WARNING:absl:Found untraced functions such as _jit_compiled_convolution_op, _jit_compiled_convolution_op while saving (showing 2 of 2). These functions will not be directly callable after loading.\n"
     ]
    },
    {
     "name": "stdout",
     "output_type": "stream",
     "text": [
      "INFO:tensorflow:Assets written to: /tmp/tmp7x5v1cnx/assets\n"
     ]
    },
    {
     "name": "stderr",
     "output_type": "stream",
     "text": [
      "INFO:tensorflow:Assets written to: /tmp/tmp7x5v1cnx/assets\n",
      "2022-11-09 20:58:08.920138: W tensorflow/compiler/mlir/lite/python/tf_tfl_flatbuffer_helpers.cc:362] Ignored output_format.\n",
      "2022-11-09 20:58:08.920216: W tensorflow/compiler/mlir/lite/python/tf_tfl_flatbuffer_helpers.cc:365] Ignored drop_control_dependency.\n",
      "2022-11-09 20:58:08.920440: I tensorflow/cc/saved_model/reader.cc:45] Reading SavedModel from: /tmp/tmp7x5v1cnx\n",
      "2022-11-09 20:58:08.922291: I tensorflow/cc/saved_model/reader.cc:89] Reading meta graph with tags { serve }\n",
      "2022-11-09 20:58:08.922327: I tensorflow/cc/saved_model/reader.cc:130] Reading SavedModel debug info (if present) from: /tmp/tmp7x5v1cnx\n",
      "2022-11-09 20:58:08.929897: I tensorflow/cc/saved_model/loader.cc:229] Restoring SavedModel bundle.\n",
      "2022-11-09 20:58:08.989125: I tensorflow/cc/saved_model/loader.cc:213] Running initialization op on SavedModel bundle at path: /tmp/tmp7x5v1cnx\n",
      "2022-11-09 20:58:09.004138: I tensorflow/cc/saved_model/loader.cc:305] SavedModel load for tags { serve }; Status: success: OK. Took 83700 microseconds.\n",
      "WARNING:absl:Found untraced functions such as _jit_compiled_convolution_op, _jit_compiled_convolution_op while saving (showing 2 of 2). These functions will not be directly callable after loading.\n"
     ]
    },
    {
     "name": "stdout",
     "output_type": "stream",
     "text": [
      "INFO:tensorflow:Assets written to: /tmp/tmp3i_r5ayh/assets\n"
     ]
    },
    {
     "name": "stderr",
     "output_type": "stream",
     "text": [
      "INFO:tensorflow:Assets written to: /tmp/tmp3i_r5ayh/assets\n",
      "2022-11-09 20:58:10.550460: W tensorflow/compiler/mlir/lite/python/tf_tfl_flatbuffer_helpers.cc:362] Ignored output_format.\n",
      "2022-11-09 20:58:10.550535: W tensorflow/compiler/mlir/lite/python/tf_tfl_flatbuffer_helpers.cc:365] Ignored drop_control_dependency.\n",
      "2022-11-09 20:58:10.550758: I tensorflow/cc/saved_model/reader.cc:45] Reading SavedModel from: /tmp/tmp3i_r5ayh\n",
      "2022-11-09 20:58:10.552616: I tensorflow/cc/saved_model/reader.cc:89] Reading meta graph with tags { serve }\n",
      "2022-11-09 20:58:10.552653: I tensorflow/cc/saved_model/reader.cc:130] Reading SavedModel debug info (if present) from: /tmp/tmp3i_r5ayh\n",
      "2022-11-09 20:58:10.558675: I tensorflow/cc/saved_model/loader.cc:229] Restoring SavedModel bundle.\n",
      "2022-11-09 20:58:10.610545: I tensorflow/cc/saved_model/loader.cc:213] Running initialization op on SavedModel bundle at path: /tmp/tmp3i_r5ayh\n",
      "2022-11-09 20:58:10.624063: I tensorflow/cc/saved_model/loader.cc:305] SavedModel load for tags { serve }; Status: success: OK. Took 73309 microseconds.\n",
      "WARNING:absl:Found untraced functions such as _jit_compiled_convolution_op, _jit_compiled_convolution_op while saving (showing 2 of 2). These functions will not be directly callable after loading.\n"
     ]
    },
    {
     "name": "stdout",
     "output_type": "stream",
     "text": [
      "INFO:tensorflow:Assets written to: /tmp/tmpuwtjp6dz/assets\n"
     ]
    },
    {
     "name": "stderr",
     "output_type": "stream",
     "text": [
      "INFO:tensorflow:Assets written to: /tmp/tmpuwtjp6dz/assets\n",
      "2022-11-09 20:58:12.174723: W tensorflow/compiler/mlir/lite/python/tf_tfl_flatbuffer_helpers.cc:362] Ignored output_format.\n",
      "2022-11-09 20:58:12.174791: W tensorflow/compiler/mlir/lite/python/tf_tfl_flatbuffer_helpers.cc:365] Ignored drop_control_dependency.\n",
      "2022-11-09 20:58:12.174957: I tensorflow/cc/saved_model/reader.cc:45] Reading SavedModel from: /tmp/tmpuwtjp6dz\n",
      "2022-11-09 20:58:12.176742: I tensorflow/cc/saved_model/reader.cc:89] Reading meta graph with tags { serve }\n",
      "2022-11-09 20:58:12.176770: I tensorflow/cc/saved_model/reader.cc:130] Reading SavedModel debug info (if present) from: /tmp/tmpuwtjp6dz\n",
      "2022-11-09 20:58:12.182456: I tensorflow/cc/saved_model/loader.cc:229] Restoring SavedModel bundle.\n",
      "2022-11-09 20:58:12.231998: I tensorflow/cc/saved_model/loader.cc:213] Running initialization op on SavedModel bundle at path: /tmp/tmpuwtjp6dz\n",
      "2022-11-09 20:58:12.248036: I tensorflow/cc/saved_model/loader.cc:305] SavedModel load for tags { serve }; Status: success: OK. Took 73081 microseconds.\n",
      "WARNING:absl:Found untraced functions such as _jit_compiled_convolution_op, _jit_compiled_convolution_op while saving (showing 2 of 2). These functions will not be directly callable after loading.\n"
     ]
    },
    {
     "name": "stdout",
     "output_type": "stream",
     "text": [
      "INFO:tensorflow:Assets written to: /tmp/tmp5d6gd2me/assets\n"
     ]
    },
    {
     "name": "stderr",
     "output_type": "stream",
     "text": [
      "INFO:tensorflow:Assets written to: /tmp/tmp5d6gd2me/assets\n",
      "2022-11-09 20:58:13.735840: W tensorflow/compiler/mlir/lite/python/tf_tfl_flatbuffer_helpers.cc:362] Ignored output_format.\n",
      "2022-11-09 20:58:13.735916: W tensorflow/compiler/mlir/lite/python/tf_tfl_flatbuffer_helpers.cc:365] Ignored drop_control_dependency.\n",
      "2022-11-09 20:58:13.736086: I tensorflow/cc/saved_model/reader.cc:45] Reading SavedModel from: /tmp/tmp5d6gd2me\n",
      "2022-11-09 20:58:13.737837: I tensorflow/cc/saved_model/reader.cc:89] Reading meta graph with tags { serve }\n",
      "2022-11-09 20:58:13.737873: I tensorflow/cc/saved_model/reader.cc:130] Reading SavedModel debug info (if present) from: /tmp/tmp5d6gd2me\n",
      "2022-11-09 20:58:13.743830: I tensorflow/cc/saved_model/loader.cc:229] Restoring SavedModel bundle.\n",
      "2022-11-09 20:58:13.792894: I tensorflow/cc/saved_model/loader.cc:213] Running initialization op on SavedModel bundle at path: /tmp/tmp5d6gd2me\n",
      "2022-11-09 20:58:13.805580: I tensorflow/cc/saved_model/loader.cc:305] SavedModel load for tags { serve }; Status: success: OK. Took 69497 microseconds.\n"
     ]
    },
    {
     "data": {
      "image/png": "[encoded data removed]",
      "text/plain": [
       "<Figure size 640x480 with 1 Axes>"
      ]
     },
     "metadata": {},
     "output_type": "display_data"
    },
    {
     "name": "stdout",
     "output_type": "stream",
     "text": [
      "return without cost statistics\n",
      "mean 0.0015680641146053266\n",
      "std 0.009783020128881026\n",
      "sharpe 0.16028425720766462\n",
      "double sharpe 1.9777980882842152\n",
      "max drawdown 0.20619499179236012\n",
      "return with cost statistics\n",
      "mean 0.00034655411972235427\n",
      "std 0.009803198768715694\n",
      "sharpe 0.03535112649437342\n",
      "double sharpe 0.19554476998874695\n",
      "max drawdown 0.2066413928874925\n"
     ]
    },
    {
     "data": {
      "image/png": "[encoded data removed]",
      "text/plain": [
       "<Figure size 640x480 with 1 Axes>"
      ]
     },
     "metadata": {},
     "output_type": "display_data"
    },
    {
     "data": {
      "image/png": "[encoded data removed]",
      "text/plain": [
       "<Figure size 640x480 with 1 Axes>"
      ]
     },
     "metadata": {},
     "output_type": "display_data"
    },
    {
     "data": {
      "image/png": "[encoded data removed]",
      "text/plain": [
       "<Figure size 640x480 with 1 Axes>"
      ]
     },
     "metadata": {},
     "output_type": "display_data"
    },
    {
     "data": {
      "image/png": "[encoded data removed]",
      "text/plain": [
       "<Figure size 640x480 with 1 Axes>"
      ]
     },
     "metadata": {},
     "output_type": "display_data"
    },
    {
     "name": "stdout",
     "output_type": "stream",
     "text": [
      "fit df.shape (232490, 39)\n"
     ]
    },
    {
     "name": "stderr",
     "output_type": "stream",
     "text": [
      "WARNING:absl:Found untraced functions such as _jit_compiled_convolution_op, _jit_compiled_convolution_op while saving (showing 2 of 2). These functions will not be directly callable after loading.\n"
     ]
    },
    {
     "name": "stdout",
     "output_type": "stream",
     "text": [
      "INFO:tensorflow:Assets written to: /tmp/tmp1o6cpic1/assets\n"
     ]
    },
    {
     "name": "stderr",
     "output_type": "stream",
     "text": [
      "INFO:tensorflow:Assets written to: /tmp/tmp1o6cpic1/assets\n",
      "2022-11-09 22:27:52.172959: W tensorflow/compiler/mlir/lite/python/tf_tfl_flatbuffer_helpers.cc:362] Ignored output_format.\n",
      "2022-11-09 22:27:52.173043: W tensorflow/compiler/mlir/lite/python/tf_tfl_flatbuffer_helpers.cc:365] Ignored drop_control_dependency.\n",
      "2022-11-09 22:27:52.173244: I tensorflow/cc/saved_model/reader.cc:45] Reading SavedModel from: /tmp/tmp1o6cpic1\n",
      "2022-11-09 22:27:52.175391: I tensorflow/cc/saved_model/reader.cc:89] Reading meta graph with tags { serve }\n",
      "2022-11-09 22:27:52.175434: I tensorflow/cc/saved_model/reader.cc:130] Reading SavedModel debug info (if present) from: /tmp/tmp1o6cpic1\n",
      "2022-11-09 22:27:52.182407: I tensorflow/cc/saved_model/loader.cc:229] Restoring SavedModel bundle.\n",
      "2022-11-09 22:27:52.244194: I tensorflow/cc/saved_model/loader.cc:213] Running initialization op on SavedModel bundle at path: /tmp/tmp1o6cpic1\n",
      "2022-11-09 22:27:52.260996: I tensorflow/cc/saved_model/loader.cc:305] SavedModel load for tags { serve }; Status: success: OK. Took 87755 microseconds.\n",
      "WARNING:absl:Found untraced functions such as _jit_compiled_convolution_op, _jit_compiled_convolution_op while saving (showing 2 of 2). These functions will not be directly callable after loading.\n"
     ]
    },
    {
     "name": "stdout",
     "output_type": "stream",
     "text": [
      "INFO:tensorflow:Assets written to: /tmp/tmp3jfkkygq/assets\n"
     ]
    },
    {
     "name": "stderr",
     "output_type": "stream",
     "text": [
      "INFO:tensorflow:Assets written to: /tmp/tmp3jfkkygq/assets\n",
      "2022-11-09 22:27:54.094274: W tensorflow/compiler/mlir/lite/python/tf_tfl_flatbuffer_helpers.cc:362] Ignored output_format.\n",
      "2022-11-09 22:27:54.094351: W tensorflow/compiler/mlir/lite/python/tf_tfl_flatbuffer_helpers.cc:365] Ignored drop_control_dependency.\n",
      "2022-11-09 22:27:54.094549: I tensorflow/cc/saved_model/reader.cc:45] Reading SavedModel from: /tmp/tmp3jfkkygq\n",
      "2022-11-09 22:27:54.096682: I tensorflow/cc/saved_model/reader.cc:89] Reading meta graph with tags { serve }\n",
      "2022-11-09 22:27:54.096722: I tensorflow/cc/saved_model/reader.cc:130] Reading SavedModel debug info (if present) from: /tmp/tmp3jfkkygq\n",
      "2022-11-09 22:27:54.103584: I tensorflow/cc/saved_model/loader.cc:229] Restoring SavedModel bundle.\n",
      "2022-11-09 22:27:54.164966: I tensorflow/cc/saved_model/loader.cc:213] Running initialization op on SavedModel bundle at path: /tmp/tmp3jfkkygq\n",
      "2022-11-09 22:27:54.181616: I tensorflow/cc/saved_model/loader.cc:305] SavedModel load for tags { serve }; Status: success: OK. Took 87070 microseconds.\n",
      "WARNING:absl:Found untraced functions such as _jit_compiled_convolution_op, _jit_compiled_convolution_op while saving (showing 2 of 2). These functions will not be directly callable after loading.\n"
     ]
    },
    {
     "name": "stdout",
     "output_type": "stream",
     "text": [
      "INFO:tensorflow:Assets written to: /tmp/tmpgo8fyteh/assets\n"
     ]
    },
    {
     "name": "stderr",
     "output_type": "stream",
     "text": [
      "INFO:tensorflow:Assets written to: /tmp/tmpgo8fyteh/assets\n",
      "2022-11-09 22:27:55.928289: W tensorflow/compiler/mlir/lite/python/tf_tfl_flatbuffer_helpers.cc:362] Ignored output_format.\n",
      "2022-11-09 22:27:55.928363: W tensorflow/compiler/mlir/lite/python/tf_tfl_flatbuffer_helpers.cc:365] Ignored drop_control_dependency.\n",
      "2022-11-09 22:27:55.928547: I tensorflow/cc/saved_model/reader.cc:45] Reading SavedModel from: /tmp/tmpgo8fyteh\n",
      "2022-11-09 22:27:55.930542: I tensorflow/cc/saved_model/reader.cc:89] Reading meta graph with tags { serve }\n",
      "2022-11-09 22:27:55.930580: I tensorflow/cc/saved_model/reader.cc:130] Reading SavedModel debug info (if present) from: /tmp/tmpgo8fyteh\n",
      "2022-11-09 22:27:55.936976: I tensorflow/cc/saved_model/loader.cc:229] Restoring SavedModel bundle.\n",
      "2022-11-09 22:27:55.993598: I tensorflow/cc/saved_model/loader.cc:213] Running initialization op on SavedModel bundle at path: /tmp/tmpgo8fyteh\n",
      "2022-11-09 22:27:56.008695: I tensorflow/cc/saved_model/loader.cc:305] SavedModel load for tags { serve }; Status: success: OK. Took 80150 microseconds.\n",
      "WARNING:absl:Found untraced functions such as _jit_compiled_convolution_op, _jit_compiled_convolution_op while saving (showing 2 of 2). These functions will not be directly callable after loading.\n"
     ]
    },
    {
     "name": "stdout",
     "output_type": "stream",
     "text": [
      "INFO:tensorflow:Assets written to: /tmp/tmpl50wce0w/assets\n"
     ]
    },
    {
     "name": "stderr",
     "output_type": "stream",
     "text": [
      "INFO:tensorflow:Assets written to: /tmp/tmpl50wce0w/assets\n",
      "2022-11-09 22:27:57.687681: W tensorflow/compiler/mlir/lite/python/tf_tfl_flatbuffer_helpers.cc:362] Ignored output_format.\n",
      "2022-11-09 22:27:57.687756: W tensorflow/compiler/mlir/lite/python/tf_tfl_flatbuffer_helpers.cc:365] Ignored drop_control_dependency.\n",
      "2022-11-09 22:27:57.687939: I tensorflow/cc/saved_model/reader.cc:45] Reading SavedModel from: /tmp/tmpl50wce0w\n",
      "2022-11-09 22:27:57.689865: I tensorflow/cc/saved_model/reader.cc:89] Reading meta graph with tags { serve }\n",
      "2022-11-09 22:27:57.689903: I tensorflow/cc/saved_model/reader.cc:130] Reading SavedModel debug info (if present) from: /tmp/tmpl50wce0w\n",
      "2022-11-09 22:27:57.696107: I tensorflow/cc/saved_model/loader.cc:229] Restoring SavedModel bundle.\n",
      "2022-11-09 22:27:57.749713: I tensorflow/cc/saved_model/loader.cc:213] Running initialization op on SavedModel bundle at path: /tmp/tmpl50wce0w\n",
      "2022-11-09 22:27:57.763627: I tensorflow/cc/saved_model/loader.cc:305] SavedModel load for tags { serve }; Status: success: OK. Took 75691 microseconds.\n",
      "WARNING:absl:Found untraced functions such as _jit_compiled_convolution_op, _jit_compiled_convolution_op while saving (showing 2 of 2). These functions will not be directly callable after loading.\n"
     ]
    },
    {
     "name": "stdout",
     "output_type": "stream",
     "text": [
      "INFO:tensorflow:Assets written to: /tmp/tmpjnov_q_o/assets\n"
     ]
    },
    {
     "name": "stderr",
     "output_type": "stream",
     "text": [
      "INFO:tensorflow:Assets written to: /tmp/tmpjnov_q_o/assets\n",
      "2022-11-09 22:27:59.329624: W tensorflow/compiler/mlir/lite/python/tf_tfl_flatbuffer_helpers.cc:362] Ignored output_format.\n",
      "2022-11-09 22:27:59.329695: W tensorflow/compiler/mlir/lite/python/tf_tfl_flatbuffer_helpers.cc:365] Ignored drop_control_dependency.\n",
      "2022-11-09 22:27:59.329853: I tensorflow/cc/saved_model/reader.cc:45] Reading SavedModel from: /tmp/tmpjnov_q_o\n",
      "2022-11-09 22:27:59.331681: I tensorflow/cc/saved_model/reader.cc:89] Reading meta graph with tags { serve }\n",
      "2022-11-09 22:27:59.331708: I tensorflow/cc/saved_model/reader.cc:130] Reading SavedModel debug info (if present) from: /tmp/tmpjnov_q_o\n",
      "2022-11-09 22:27:59.337519: I tensorflow/cc/saved_model/loader.cc:229] Restoring SavedModel bundle.\n",
      "2022-11-09 22:27:59.389341: I tensorflow/cc/saved_model/loader.cc:213] Running initialization op on SavedModel bundle at path: /tmp/tmpjnov_q_o\n",
      "2022-11-09 22:27:59.403459: I tensorflow/cc/saved_model/loader.cc:305] SavedModel load for tags { serve }; Status: success: OK. Took 73600 microseconds.\n",
      "WARNING:absl:Found untraced functions such as _jit_compiled_convolution_op, _jit_compiled_convolution_op while saving (showing 2 of 2). These functions will not be directly callable after loading.\n"
     ]
    },
    {
     "name": "stdout",
     "output_type": "stream",
     "text": [
      "INFO:tensorflow:Assets written to: /tmp/tmpkoeq9rr6/assets\n"
     ]
    },
    {
     "name": "stderr",
     "output_type": "stream",
     "text": [
      "INFO:tensorflow:Assets written to: /tmp/tmpkoeq9rr6/assets\n",
      "2022-11-09 22:28:00.927882: W tensorflow/compiler/mlir/lite/python/tf_tfl_flatbuffer_helpers.cc:362] Ignored output_format.\n",
      "2022-11-09 22:28:00.927949: W tensorflow/compiler/mlir/lite/python/tf_tfl_flatbuffer_helpers.cc:365] Ignored drop_control_dependency.\n",
      "2022-11-09 22:28:00.928167: I tensorflow/cc/saved_model/reader.cc:45] Reading SavedModel from: /tmp/tmpkoeq9rr6\n",
      "2022-11-09 22:28:00.929934: I tensorflow/cc/saved_model/reader.cc:89] Reading meta graph with tags { serve }\n",
      "2022-11-09 22:28:00.929965: I tensorflow/cc/saved_model/reader.cc:130] Reading SavedModel debug info (if present) from: /tmp/tmpkoeq9rr6\n",
      "2022-11-09 22:28:00.935584: I tensorflow/cc/saved_model/loader.cc:229] Restoring SavedModel bundle.\n",
      "2022-11-09 22:28:00.985908: I tensorflow/cc/saved_model/loader.cc:213] Running initialization op on SavedModel bundle at path: /tmp/tmpkoeq9rr6\n",
      "2022-11-09 22:28:00.999222: I tensorflow/cc/saved_model/loader.cc:305] SavedModel load for tags { serve }; Status: success: OK. Took 71059 microseconds.\n",
      "WARNING:absl:Found untraced functions such as _jit_compiled_convolution_op, _jit_compiled_convolution_op while saving (showing 2 of 2). These functions will not be directly callable after loading.\n"
     ]
    },
    {
     "name": "stdout",
     "output_type": "stream",
     "text": [
      "INFO:tensorflow:Assets written to: /tmp/tmpd4fwa6gz/assets\n"
     ]
    },
    {
     "name": "stderr",
     "output_type": "stream",
     "text": [
      "INFO:tensorflow:Assets written to: /tmp/tmpd4fwa6gz/assets\n",
      "2022-11-09 22:28:02.458470: W tensorflow/compiler/mlir/lite/python/tf_tfl_flatbuffer_helpers.cc:362] Ignored output_format.\n",
      "2022-11-09 22:28:02.458537: W tensorflow/compiler/mlir/lite/python/tf_tfl_flatbuffer_helpers.cc:365] Ignored drop_control_dependency.\n",
      "2022-11-09 22:28:02.458704: I tensorflow/cc/saved_model/reader.cc:45] Reading SavedModel from: /tmp/tmpd4fwa6gz\n",
      "2022-11-09 22:28:02.460505: I tensorflow/cc/saved_model/reader.cc:89] Reading meta graph with tags { serve }\n",
      "2022-11-09 22:28:02.460543: I tensorflow/cc/saved_model/reader.cc:130] Reading SavedModel debug info (if present) from: /tmp/tmpd4fwa6gz\n",
      "2022-11-09 22:28:02.466158: I tensorflow/cc/saved_model/loader.cc:229] Restoring SavedModel bundle.\n",
      "2022-11-09 22:28:02.514938: I tensorflow/cc/saved_model/loader.cc:213] Running initialization op on SavedModel bundle at path: /tmp/tmpd4fwa6gz\n",
      "2022-11-09 22:28:02.527955: I tensorflow/cc/saved_model/loader.cc:305] SavedModel load for tags { serve }; Status: success: OK. Took 69254 microseconds.\n",
      "WARNING:absl:Found untraced functions such as _jit_compiled_convolution_op, _jit_compiled_convolution_op while saving (showing 2 of 2). These functions will not be directly callable after loading.\n"
     ]
    },
    {
     "name": "stdout",
     "output_type": "stream",
     "text": [
      "INFO:tensorflow:Assets written to: /tmp/tmp3mtve3jm/assets\n"
     ]
    },
    {
     "name": "stderr",
     "output_type": "stream",
     "text": [
      "INFO:tensorflow:Assets written to: /tmp/tmp3mtve3jm/assets\n",
      "2022-11-09 22:28:03.960445: W tensorflow/compiler/mlir/lite/python/tf_tfl_flatbuffer_helpers.cc:362] Ignored output_format.\n",
      "2022-11-09 22:28:03.960514: W tensorflow/compiler/mlir/lite/python/tf_tfl_flatbuffer_helpers.cc:365] Ignored drop_control_dependency.\n",
      "2022-11-09 22:28:03.960677: I tensorflow/cc/saved_model/reader.cc:45] Reading SavedModel from: /tmp/tmp3mtve3jm\n",
      "2022-11-09 22:28:03.962388: I tensorflow/cc/saved_model/reader.cc:89] Reading meta graph with tags { serve }\n",
      "2022-11-09 22:28:03.962421: I tensorflow/cc/saved_model/reader.cc:130] Reading SavedModel debug info (if present) from: /tmp/tmp3mtve3jm\n",
      "2022-11-09 22:28:03.967984: I tensorflow/cc/saved_model/loader.cc:229] Restoring SavedModel bundle.\n",
      "2022-11-09 22:28:04.021677: I tensorflow/cc/saved_model/loader.cc:213] Running initialization op on SavedModel bundle at path: /tmp/tmp3mtve3jm\n",
      "2022-11-09 22:28:04.035607: I tensorflow/cc/saved_model/loader.cc:305] SavedModel load for tags { serve }; Status: success: OK. Took 74931 microseconds.\n",
      "WARNING:absl:Found untraced functions such as _jit_compiled_convolution_op, _jit_compiled_convolution_op while saving (showing 2 of 2). These functions will not be directly callable after loading.\n"
     ]
    },
    {
     "name": "stdout",
     "output_type": "stream",
     "text": [
      "INFO:tensorflow:Assets written to: /tmp/tmpno4o4xhh/assets\n"
     ]
    },
    {
     "name": "stderr",
     "output_type": "stream",
     "text": [
      "INFO:tensorflow:Assets written to: /tmp/tmpno4o4xhh/assets\n",
      "2022-11-09 22:28:05.532684: W tensorflow/compiler/mlir/lite/python/tf_tfl_flatbuffer_helpers.cc:362] Ignored output_format.\n",
      "2022-11-09 22:28:05.532749: W tensorflow/compiler/mlir/lite/python/tf_tfl_flatbuffer_helpers.cc:365] Ignored drop_control_dependency.\n",
      "2022-11-09 22:28:05.532958: I tensorflow/cc/saved_model/reader.cc:45] Reading SavedModel from: /tmp/tmpno4o4xhh\n",
      "2022-11-09 22:28:05.534758: I tensorflow/cc/saved_model/reader.cc:89] Reading meta graph with tags { serve }\n",
      "2022-11-09 22:28:05.534791: I tensorflow/cc/saved_model/reader.cc:130] Reading SavedModel debug info (if present) from: /tmp/tmpno4o4xhh\n",
      "2022-11-09 22:28:05.542010: I tensorflow/cc/saved_model/loader.cc:229] Restoring SavedModel bundle.\n",
      "2022-11-09 22:28:05.590702: I tensorflow/cc/saved_model/loader.cc:213] Running initialization op on SavedModel bundle at path: /tmp/tmpno4o4xhh\n",
      "2022-11-09 22:28:05.603368: I tensorflow/cc/saved_model/loader.cc:305] SavedModel load for tags { serve }; Status: success: OK. Took 70411 microseconds.\n",
      "WARNING:absl:Found untraced functions such as _jit_compiled_convolution_op, _jit_compiled_convolution_op while saving (showing 2 of 2). These functions will not be directly callable after loading.\n"
     ]
    },
    {
     "name": "stdout",
     "output_type": "stream",
     "text": [
      "INFO:tensorflow:Assets written to: /tmp/tmpdzwwhyt7/assets\n"
     ]
    },
    {
     "name": "stderr",
     "output_type": "stream",
     "text": [
      "INFO:tensorflow:Assets written to: /tmp/tmpdzwwhyt7/assets\n",
      "2022-11-09 22:28:06.955372: W tensorflow/compiler/mlir/lite/python/tf_tfl_flatbuffer_helpers.cc:362] Ignored output_format.\n",
      "2022-11-09 22:28:06.955439: W tensorflow/compiler/mlir/lite/python/tf_tfl_flatbuffer_helpers.cc:365] Ignored drop_control_dependency.\n",
      "2022-11-09 22:28:06.955643: I tensorflow/cc/saved_model/reader.cc:45] Reading SavedModel from: /tmp/tmpdzwwhyt7\n",
      "2022-11-09 22:28:06.957370: I tensorflow/cc/saved_model/reader.cc:89] Reading meta graph with tags { serve }\n",
      "2022-11-09 22:28:06.957404: I tensorflow/cc/saved_model/reader.cc:130] Reading SavedModel debug info (if present) from: /tmp/tmpdzwwhyt7\n",
      "2022-11-09 22:28:06.964364: I tensorflow/cc/saved_model/loader.cc:229] Restoring SavedModel bundle.\n",
      "2022-11-09 22:28:07.011783: I tensorflow/cc/saved_model/loader.cc:213] Running initialization op on SavedModel bundle at path: /tmp/tmpdzwwhyt7\n",
      "2022-11-09 22:28:07.024467: I tensorflow/cc/saved_model/loader.cc:305] SavedModel load for tags { serve }; Status: success: OK. Took 68827 microseconds.\n",
      "WARNING:absl:Found untraced functions such as _jit_compiled_convolution_op, _jit_compiled_convolution_op while saving (showing 2 of 2). These functions will not be directly callable after loading.\n"
     ]
    },
    {
     "name": "stdout",
     "output_type": "stream",
     "text": [
      "INFO:tensorflow:Assets written to: /tmp/tmplak1k09t/assets\n"
     ]
    },
    {
     "name": "stderr",
     "output_type": "stream",
     "text": [
      "INFO:tensorflow:Assets written to: /tmp/tmplak1k09t/assets\n",
      "2022-11-09 22:28:09.964655: W tensorflow/compiler/mlir/lite/python/tf_tfl_flatbuffer_helpers.cc:362] Ignored output_format.\n",
      "2022-11-09 22:28:09.964721: W tensorflow/compiler/mlir/lite/python/tf_tfl_flatbuffer_helpers.cc:365] Ignored drop_control_dependency.\n",
      "2022-11-09 22:28:09.964891: I tensorflow/cc/saved_model/reader.cc:45] Reading SavedModel from: /tmp/tmplak1k09t\n",
      "2022-11-09 22:28:09.969337: I tensorflow/cc/saved_model/reader.cc:89] Reading meta graph with tags { serve }\n",
      "2022-11-09 22:28:09.969364: I tensorflow/cc/saved_model/reader.cc:130] Reading SavedModel debug info (if present) from: /tmp/tmplak1k09t\n",
      "2022-11-09 22:28:09.989766: I tensorflow/cc/saved_model/loader.cc:229] Restoring SavedModel bundle.\n",
      "2022-11-09 22:28:10.104744: I tensorflow/cc/saved_model/loader.cc:213] Running initialization op on SavedModel bundle at path: /tmp/tmplak1k09t\n",
      "2022-11-09 22:28:10.141197: I tensorflow/cc/saved_model/loader.cc:305] SavedModel load for tags { serve }; Status: success: OK. Took 176308 microseconds.\n",
      "WARNING:absl:Found untraced functions such as _jit_compiled_convolution_op, _jit_compiled_convolution_op while saving (showing 2 of 2). These functions will not be directly callable after loading.\n"
     ]
    },
    {
     "name": "stdout",
     "output_type": "stream",
     "text": [
      "INFO:tensorflow:Assets written to: /tmp/tmppgx2ostx/assets\n"
     ]
    },
    {
     "name": "stderr",
     "output_type": "stream",
     "text": [
      "INFO:tensorflow:Assets written to: /tmp/tmppgx2ostx/assets\n",
      "2022-11-09 22:28:11.831280: W tensorflow/compiler/mlir/lite/python/tf_tfl_flatbuffer_helpers.cc:362] Ignored output_format.\n",
      "2022-11-09 22:28:11.831350: W tensorflow/compiler/mlir/lite/python/tf_tfl_flatbuffer_helpers.cc:365] Ignored drop_control_dependency.\n",
      "2022-11-09 22:28:11.831528: I tensorflow/cc/saved_model/reader.cc:45] Reading SavedModel from: /tmp/tmppgx2ostx\n",
      "2022-11-09 22:28:11.835071: I tensorflow/cc/saved_model/reader.cc:89] Reading meta graph with tags { serve }\n",
      "2022-11-09 22:28:11.835112: I tensorflow/cc/saved_model/reader.cc:130] Reading SavedModel debug info (if present) from: /tmp/tmppgx2ostx\n",
      "2022-11-09 22:28:11.844764: I tensorflow/cc/saved_model/loader.cc:229] Restoring SavedModel bundle.\n",
      "2022-11-09 22:28:11.905996: I tensorflow/cc/saved_model/loader.cc:213] Running initialization op on SavedModel bundle at path: /tmp/tmppgx2ostx\n",
      "2022-11-09 22:28:11.923442: I tensorflow/cc/saved_model/loader.cc:305] SavedModel load for tags { serve }; Status: success: OK. Took 91917 microseconds.\n",
      "WARNING:absl:Found untraced functions such as _jit_compiled_convolution_op, _jit_compiled_convolution_op while saving (showing 2 of 2). These functions will not be directly callable after loading.\n"
     ]
    },
    {
     "name": "stdout",
     "output_type": "stream",
     "text": [
      "INFO:tensorflow:Assets written to: /tmp/tmp02zekyxk/assets\n"
     ]
    },
    {
     "name": "stderr",
     "output_type": "stream",
     "text": [
      "INFO:tensorflow:Assets written to: /tmp/tmp02zekyxk/assets\n",
      "2022-11-09 22:28:13.293192: W tensorflow/compiler/mlir/lite/python/tf_tfl_flatbuffer_helpers.cc:362] Ignored output_format.\n",
      "2022-11-09 22:28:13.293256: W tensorflow/compiler/mlir/lite/python/tf_tfl_flatbuffer_helpers.cc:365] Ignored drop_control_dependency.\n",
      "2022-11-09 22:28:13.293408: I tensorflow/cc/saved_model/reader.cc:45] Reading SavedModel from: /tmp/tmp02zekyxk\n",
      "2022-11-09 22:28:13.295175: I tensorflow/cc/saved_model/reader.cc:89] Reading meta graph with tags { serve }\n",
      "2022-11-09 22:28:13.295209: I tensorflow/cc/saved_model/reader.cc:130] Reading SavedModel debug info (if present) from: /tmp/tmp02zekyxk\n",
      "2022-11-09 22:28:13.300982: I tensorflow/cc/saved_model/loader.cc:229] Restoring SavedModel bundle.\n",
      "2022-11-09 22:28:13.348364: I tensorflow/cc/saved_model/loader.cc:213] Running initialization op on SavedModel bundle at path: /tmp/tmp02zekyxk\n",
      "2022-11-09 22:28:13.361287: I tensorflow/cc/saved_model/loader.cc:305] SavedModel load for tags { serve }; Status: success: OK. Took 67844 microseconds.\n",
      "WARNING:absl:Found untraced functions such as _jit_compiled_convolution_op, _jit_compiled_convolution_op while saving (showing 2 of 2). These functions will not be directly callable after loading.\n"
     ]
    },
    {
     "name": "stdout",
     "output_type": "stream",
     "text": [
      "INFO:tensorflow:Assets written to: /tmp/tmpqi6uhw7u/assets\n"
     ]
    },
    {
     "name": "stderr",
     "output_type": "stream",
     "text": [
      "INFO:tensorflow:Assets written to: /tmp/tmpqi6uhw7u/assets\n",
      "2022-11-09 22:28:14.680096: W tensorflow/compiler/mlir/lite/python/tf_tfl_flatbuffer_helpers.cc:362] Ignored output_format.\n",
      "2022-11-09 22:28:14.680157: W tensorflow/compiler/mlir/lite/python/tf_tfl_flatbuffer_helpers.cc:365] Ignored drop_control_dependency.\n",
      "2022-11-09 22:28:14.680351: I tensorflow/cc/saved_model/reader.cc:45] Reading SavedModel from: /tmp/tmpqi6uhw7u\n",
      "2022-11-09 22:28:14.681933: I tensorflow/cc/saved_model/reader.cc:89] Reading meta graph with tags { serve }\n",
      "2022-11-09 22:28:14.681963: I tensorflow/cc/saved_model/reader.cc:130] Reading SavedModel debug info (if present) from: /tmp/tmpqi6uhw7u\n",
      "2022-11-09 22:28:14.687319: I tensorflow/cc/saved_model/loader.cc:229] Restoring SavedModel bundle.\n",
      "2022-11-09 22:28:14.733932: I tensorflow/cc/saved_model/loader.cc:213] Running initialization op on SavedModel bundle at path: /tmp/tmpqi6uhw7u\n",
      "2022-11-09 22:28:14.746266: I tensorflow/cc/saved_model/loader.cc:305] SavedModel load for tags { serve }; Status: success: OK. Took 65917 microseconds.\n",
      "WARNING:absl:Found untraced functions such as _jit_compiled_convolution_op, _jit_compiled_convolution_op while saving (showing 2 of 2). These functions will not be directly callable after loading.\n"
     ]
    },
    {
     "name": "stdout",
     "output_type": "stream",
     "text": [
      "INFO:tensorflow:Assets written to: /tmp/tmpbyvsjyam/assets\n"
     ]
    },
    {
     "name": "stderr",
     "output_type": "stream",
     "text": [
      "INFO:tensorflow:Assets written to: /tmp/tmpbyvsjyam/assets\n",
      "2022-11-09 22:28:16.062211: W tensorflow/compiler/mlir/lite/python/tf_tfl_flatbuffer_helpers.cc:362] Ignored output_format.\n",
      "2022-11-09 22:28:16.062274: W tensorflow/compiler/mlir/lite/python/tf_tfl_flatbuffer_helpers.cc:365] Ignored drop_control_dependency.\n",
      "2022-11-09 22:28:16.062466: I tensorflow/cc/saved_model/reader.cc:45] Reading SavedModel from: /tmp/tmpbyvsjyam\n",
      "2022-11-09 22:28:16.064029: I tensorflow/cc/saved_model/reader.cc:89] Reading meta graph with tags { serve }\n",
      "2022-11-09 22:28:16.064060: I tensorflow/cc/saved_model/reader.cc:130] Reading SavedModel debug info (if present) from: /tmp/tmpbyvsjyam\n",
      "2022-11-09 22:28:16.069259: I tensorflow/cc/saved_model/loader.cc:229] Restoring SavedModel bundle.\n",
      "2022-11-09 22:28:16.113854: I tensorflow/cc/saved_model/loader.cc:213] Running initialization op on SavedModel bundle at path: /tmp/tmpbyvsjyam\n",
      "2022-11-09 22:28:16.126052: I tensorflow/cc/saved_model/loader.cc:305] SavedModel load for tags { serve }; Status: success: OK. Took 63588 microseconds.\n",
      "WARNING:absl:Found untraced functions such as _jit_compiled_convolution_op, _jit_compiled_convolution_op while saving (showing 2 of 2). These functions will not be directly callable after loading.\n"
     ]
    },
    {
     "name": "stdout",
     "output_type": "stream",
     "text": [
      "INFO:tensorflow:Assets written to: /tmp/tmphnra5ibj/assets\n"
     ]
    },
    {
     "name": "stderr",
     "output_type": "stream",
     "text": [
      "INFO:tensorflow:Assets written to: /tmp/tmphnra5ibj/assets\n",
      "2022-11-09 22:28:17.419433: W tensorflow/compiler/mlir/lite/python/tf_tfl_flatbuffer_helpers.cc:362] Ignored output_format.\n",
      "2022-11-09 22:28:17.419492: W tensorflow/compiler/mlir/lite/python/tf_tfl_flatbuffer_helpers.cc:365] Ignored drop_control_dependency.\n",
      "2022-11-09 22:28:17.419638: I tensorflow/cc/saved_model/reader.cc:45] Reading SavedModel from: /tmp/tmphnra5ibj\n",
      "2022-11-09 22:28:17.421177: I tensorflow/cc/saved_model/reader.cc:89] Reading meta graph with tags { serve }\n",
      "2022-11-09 22:28:17.421209: I tensorflow/cc/saved_model/reader.cc:130] Reading SavedModel debug info (if present) from: /tmp/tmphnra5ibj\n",
      "2022-11-09 22:28:17.429321: I tensorflow/cc/saved_model/loader.cc:229] Restoring SavedModel bundle.\n",
      "2022-11-09 22:28:17.475309: I tensorflow/cc/saved_model/loader.cc:213] Running initialization op on SavedModel bundle at path: /tmp/tmphnra5ibj\n",
      "2022-11-09 22:28:17.489962: I tensorflow/cc/saved_model/loader.cc:305] SavedModel load for tags { serve }; Status: success: OK. Took 70325 microseconds.\n",
      "WARNING:absl:Found untraced functions such as _jit_compiled_convolution_op, _jit_compiled_convolution_op while saving (showing 2 of 2). These functions will not be directly callable after loading.\n"
     ]
    },
    {
     "name": "stdout",
     "output_type": "stream",
     "text": [
      "INFO:tensorflow:Assets written to: /tmp/tmpckiwojgz/assets\n"
     ]
    },
    {
     "name": "stderr",
     "output_type": "stream",
     "text": [
      "INFO:tensorflow:Assets written to: /tmp/tmpckiwojgz/assets\n",
      "2022-11-09 22:28:18.785981: W tensorflow/compiler/mlir/lite/python/tf_tfl_flatbuffer_helpers.cc:362] Ignored output_format.\n",
      "2022-11-09 22:28:18.786040: W tensorflow/compiler/mlir/lite/python/tf_tfl_flatbuffer_helpers.cc:365] Ignored drop_control_dependency.\n",
      "2022-11-09 22:28:18.786186: I tensorflow/cc/saved_model/reader.cc:45] Reading SavedModel from: /tmp/tmpckiwojgz\n",
      "2022-11-09 22:28:18.787763: I tensorflow/cc/saved_model/reader.cc:89] Reading meta graph with tags { serve }\n",
      "2022-11-09 22:28:18.787794: I tensorflow/cc/saved_model/reader.cc:130] Reading SavedModel debug info (if present) from: /tmp/tmpckiwojgz\n",
      "2022-11-09 22:28:18.792974: I tensorflow/cc/saved_model/loader.cc:229] Restoring SavedModel bundle.\n",
      "2022-11-09 22:28:18.836966: I tensorflow/cc/saved_model/loader.cc:213] Running initialization op on SavedModel bundle at path: /tmp/tmpckiwojgz\n",
      "2022-11-09 22:28:18.848386: I tensorflow/cc/saved_model/loader.cc:305] SavedModel load for tags { serve }; Status: success: OK. Took 62203 microseconds.\n",
      "WARNING:absl:Found untraced functions such as _jit_compiled_convolution_op, _jit_compiled_convolution_op while saving (showing 2 of 2). These functions will not be directly callable after loading.\n"
     ]
    },
    {
     "name": "stdout",
     "output_type": "stream",
     "text": [
      "INFO:tensorflow:Assets written to: /tmp/tmpfw9_mnqa/assets\n"
     ]
    },
    {
     "name": "stderr",
     "output_type": "stream",
     "text": [
      "INFO:tensorflow:Assets written to: /tmp/tmpfw9_mnqa/assets\n",
      "2022-11-09 22:28:20.145274: W tensorflow/compiler/mlir/lite/python/tf_tfl_flatbuffer_helpers.cc:362] Ignored output_format.\n",
      "2022-11-09 22:28:20.145338: W tensorflow/compiler/mlir/lite/python/tf_tfl_flatbuffer_helpers.cc:365] Ignored drop_control_dependency.\n",
      "2022-11-09 22:28:20.145520: I tensorflow/cc/saved_model/reader.cc:45] Reading SavedModel from: /tmp/tmpfw9_mnqa\n",
      "2022-11-09 22:28:20.147095: I tensorflow/cc/saved_model/reader.cc:89] Reading meta graph with tags { serve }\n",
      "2022-11-09 22:28:20.147126: I tensorflow/cc/saved_model/reader.cc:130] Reading SavedModel debug info (if present) from: /tmp/tmpfw9_mnqa\n",
      "2022-11-09 22:28:20.152410: I tensorflow/cc/saved_model/loader.cc:229] Restoring SavedModel bundle.\n",
      "2022-11-09 22:28:20.196375: I tensorflow/cc/saved_model/loader.cc:213] Running initialization op on SavedModel bundle at path: /tmp/tmpfw9_mnqa\n",
      "2022-11-09 22:28:20.208017: I tensorflow/cc/saved_model/loader.cc:305] SavedModel load for tags { serve }; Status: success: OK. Took 62531 microseconds.\n",
      "WARNING:absl:Found untraced functions such as _jit_compiled_convolution_op, _jit_compiled_convolution_op while saving (showing 2 of 2). These functions will not be directly callable after loading.\n"
     ]
    },
    {
     "name": "stdout",
     "output_type": "stream",
     "text": [
      "INFO:tensorflow:Assets written to: /tmp/tmp05_tugpl/assets\n"
     ]
    },
    {
     "name": "stderr",
     "output_type": "stream",
     "text": [
      "INFO:tensorflow:Assets written to: /tmp/tmp05_tugpl/assets\n",
      "2022-11-09 22:28:21.535261: W tensorflow/compiler/mlir/lite/python/tf_tfl_flatbuffer_helpers.cc:362] Ignored output_format.\n",
      "2022-11-09 22:28:21.535311: W tensorflow/compiler/mlir/lite/python/tf_tfl_flatbuffer_helpers.cc:365] Ignored drop_control_dependency.\n",
      "2022-11-09 22:28:21.535463: I tensorflow/cc/saved_model/reader.cc:45] Reading SavedModel from: /tmp/tmp05_tugpl\n",
      "2022-11-09 22:28:21.537011: I tensorflow/cc/saved_model/reader.cc:89] Reading meta graph with tags { serve }\n",
      "2022-11-09 22:28:21.537038: I tensorflow/cc/saved_model/reader.cc:130] Reading SavedModel debug info (if present) from: /tmp/tmp05_tugpl\n",
      "2022-11-09 22:28:21.542143: I tensorflow/cc/saved_model/loader.cc:229] Restoring SavedModel bundle.\n",
      "2022-11-09 22:28:21.585398: I tensorflow/cc/saved_model/loader.cc:213] Running initialization op on SavedModel bundle at path: /tmp/tmp05_tugpl\n",
      "2022-11-09 22:28:21.597060: I tensorflow/cc/saved_model/loader.cc:305] SavedModel load for tags { serve }; Status: success: OK. Took 61599 microseconds.\n",
      "WARNING:absl:Found untraced functions such as _jit_compiled_convolution_op, _jit_compiled_convolution_op while saving (showing 2 of 2). These functions will not be directly callable after loading.\n"
     ]
    },
    {
     "name": "stdout",
     "output_type": "stream",
     "text": [
      "INFO:tensorflow:Assets written to: /tmp/tmp_ekl9zd9/assets\n"
     ]
    },
    {
     "name": "stderr",
     "output_type": "stream",
     "text": [
      "INFO:tensorflow:Assets written to: /tmp/tmp_ekl9zd9/assets\n",
      "2022-11-09 22:28:22.890724: W tensorflow/compiler/mlir/lite/python/tf_tfl_flatbuffer_helpers.cc:362] Ignored output_format.\n",
      "2022-11-09 22:28:22.890789: W tensorflow/compiler/mlir/lite/python/tf_tfl_flatbuffer_helpers.cc:365] Ignored drop_control_dependency.\n",
      "2022-11-09 22:28:22.890942: I tensorflow/cc/saved_model/reader.cc:45] Reading SavedModel from: /tmp/tmp_ekl9zd9\n",
      "2022-11-09 22:28:22.892462: I tensorflow/cc/saved_model/reader.cc:89] Reading meta graph with tags { serve }\n",
      "2022-11-09 22:28:22.892493: I tensorflow/cc/saved_model/reader.cc:130] Reading SavedModel debug info (if present) from: /tmp/tmp_ekl9zd9\n",
      "2022-11-09 22:28:22.897527: I tensorflow/cc/saved_model/loader.cc:229] Restoring SavedModel bundle.\n",
      "2022-11-09 22:28:22.941447: I tensorflow/cc/saved_model/loader.cc:213] Running initialization op on SavedModel bundle at path: /tmp/tmp_ekl9zd9\n",
      "2022-11-09 22:28:22.952681: I tensorflow/cc/saved_model/loader.cc:305] SavedModel load for tags { serve }; Status: success: OK. Took 61740 microseconds.\n",
      "WARNING:absl:Found untraced functions such as _jit_compiled_convolution_op, _jit_compiled_convolution_op while saving (showing 2 of 2). These functions will not be directly callable after loading.\n"
     ]
    },
    {
     "name": "stdout",
     "output_type": "stream",
     "text": [
      "INFO:tensorflow:Assets written to: /tmp/tmp4v9won26/assets\n"
     ]
    },
    {
     "name": "stderr",
     "output_type": "stream",
     "text": [
      "INFO:tensorflow:Assets written to: /tmp/tmp4v9won26/assets\n",
      "2022-11-09 22:28:24.244732: W tensorflow/compiler/mlir/lite/python/tf_tfl_flatbuffer_helpers.cc:362] Ignored output_format.\n",
      "2022-11-09 22:28:24.244799: W tensorflow/compiler/mlir/lite/python/tf_tfl_flatbuffer_helpers.cc:365] Ignored drop_control_dependency.\n",
      "2022-11-09 22:28:24.244949: I tensorflow/cc/saved_model/reader.cc:45] Reading SavedModel from: /tmp/tmp4v9won26\n",
      "2022-11-09 22:28:24.246486: I tensorflow/cc/saved_model/reader.cc:89] Reading meta graph with tags { serve }\n",
      "2022-11-09 22:28:24.246517: I tensorflow/cc/saved_model/reader.cc:130] Reading SavedModel debug info (if present) from: /tmp/tmp4v9won26\n",
      "2022-11-09 22:28:24.251490: I tensorflow/cc/saved_model/loader.cc:229] Restoring SavedModel bundle.\n",
      "2022-11-09 22:28:24.294824: I tensorflow/cc/saved_model/loader.cc:213] Running initialization op on SavedModel bundle at path: /tmp/tmp4v9won26\n",
      "2022-11-09 22:28:24.306443: I tensorflow/cc/saved_model/loader.cc:305] SavedModel load for tags { serve }; Status: success: OK. Took 61496 microseconds.\n",
      "WARNING:absl:Found untraced functions such as _jit_compiled_convolution_op, _jit_compiled_convolution_op while saving (showing 2 of 2). These functions will not be directly callable after loading.\n"
     ]
    },
    {
     "name": "stdout",
     "output_type": "stream",
     "text": [
      "INFO:tensorflow:Assets written to: /tmp/tmp1oigbbnp/assets\n"
     ]
    },
    {
     "name": "stderr",
     "output_type": "stream",
     "text": [
      "INFO:tensorflow:Assets written to: /tmp/tmp1oigbbnp/assets\n",
      "2022-11-09 22:28:25.588317: W tensorflow/compiler/mlir/lite/python/tf_tfl_flatbuffer_helpers.cc:362] Ignored output_format.\n",
      "2022-11-09 22:28:25.588376: W tensorflow/compiler/mlir/lite/python/tf_tfl_flatbuffer_helpers.cc:365] Ignored drop_control_dependency.\n",
      "2022-11-09 22:28:25.588529: I tensorflow/cc/saved_model/reader.cc:45] Reading SavedModel from: /tmp/tmp1oigbbnp\n",
      "2022-11-09 22:28:25.590131: I tensorflow/cc/saved_model/reader.cc:89] Reading meta graph with tags { serve }\n",
      "2022-11-09 22:28:25.590163: I tensorflow/cc/saved_model/reader.cc:130] Reading SavedModel debug info (if present) from: /tmp/tmp1oigbbnp\n",
      "2022-11-09 22:28:25.595290: I tensorflow/cc/saved_model/loader.cc:229] Restoring SavedModel bundle.\n",
      "2022-11-09 22:28:25.638912: I tensorflow/cc/saved_model/loader.cc:213] Running initialization op on SavedModel bundle at path: /tmp/tmp1oigbbnp\n",
      "2022-11-09 22:28:25.650694: I tensorflow/cc/saved_model/loader.cc:305] SavedModel load for tags { serve }; Status: success: OK. Took 62167 microseconds.\n",
      "WARNING:absl:Found untraced functions such as _jit_compiled_convolution_op, _jit_compiled_convolution_op while saving (showing 2 of 2). These functions will not be directly callable after loading.\n"
     ]
    },
    {
     "name": "stdout",
     "output_type": "stream",
     "text": [
      "INFO:tensorflow:Assets written to: /tmp/tmp1qiwsm29/assets\n"
     ]
    },
    {
     "name": "stderr",
     "output_type": "stream",
     "text": [
      "INFO:tensorflow:Assets written to: /tmp/tmp1qiwsm29/assets\n",
      "2022-11-09 22:28:26.941049: W tensorflow/compiler/mlir/lite/python/tf_tfl_flatbuffer_helpers.cc:362] Ignored output_format.\n",
      "2022-11-09 22:28:26.941108: W tensorflow/compiler/mlir/lite/python/tf_tfl_flatbuffer_helpers.cc:365] Ignored drop_control_dependency.\n",
      "2022-11-09 22:28:26.941302: I tensorflow/cc/saved_model/reader.cc:45] Reading SavedModel from: /tmp/tmp1qiwsm29\n",
      "2022-11-09 22:28:26.942856: I tensorflow/cc/saved_model/reader.cc:89] Reading meta graph with tags { serve }\n",
      "2022-11-09 22:28:26.942889: I tensorflow/cc/saved_model/reader.cc:130] Reading SavedModel debug info (if present) from: /tmp/tmp1qiwsm29\n",
      "2022-11-09 22:28:26.947902: I tensorflow/cc/saved_model/loader.cc:229] Restoring SavedModel bundle.\n",
      "2022-11-09 22:28:26.991454: I tensorflow/cc/saved_model/loader.cc:213] Running initialization op on SavedModel bundle at path: /tmp/tmp1qiwsm29\n",
      "2022-11-09 22:28:27.002694: I tensorflow/cc/saved_model/loader.cc:305] SavedModel load for tags { serve }; Status: success: OK. Took 61395 microseconds.\n",
      "WARNING:absl:Found untraced functions such as _jit_compiled_convolution_op, _jit_compiled_convolution_op while saving (showing 2 of 2). These functions will not be directly callable after loading.\n"
     ]
    },
    {
     "name": "stdout",
     "output_type": "stream",
     "text": [
      "INFO:tensorflow:Assets written to: /tmp/tmpi3a3eutv/assets\n"
     ]
    },
    {
     "name": "stderr",
     "output_type": "stream",
     "text": [
      "INFO:tensorflow:Assets written to: /tmp/tmpi3a3eutv/assets\n",
      "2022-11-09 22:28:28.291739: W tensorflow/compiler/mlir/lite/python/tf_tfl_flatbuffer_helpers.cc:362] Ignored output_format.\n",
      "2022-11-09 22:28:28.291800: W tensorflow/compiler/mlir/lite/python/tf_tfl_flatbuffer_helpers.cc:365] Ignored drop_control_dependency.\n",
      "2022-11-09 22:28:28.291951: I tensorflow/cc/saved_model/reader.cc:45] Reading SavedModel from: /tmp/tmpi3a3eutv\n",
      "2022-11-09 22:28:28.293480: I tensorflow/cc/saved_model/reader.cc:89] Reading meta graph with tags { serve }\n",
      "2022-11-09 22:28:28.293513: I tensorflow/cc/saved_model/reader.cc:130] Reading SavedModel debug info (if present) from: /tmp/tmpi3a3eutv\n",
      "2022-11-09 22:28:28.298543: I tensorflow/cc/saved_model/loader.cc:229] Restoring SavedModel bundle.\n",
      "2022-11-09 22:28:28.342700: I tensorflow/cc/saved_model/loader.cc:213] Running initialization op on SavedModel bundle at path: /tmp/tmpi3a3eutv\n",
      "2022-11-09 22:28:28.354476: I tensorflow/cc/saved_model/loader.cc:305] SavedModel load for tags { serve }; Status: success: OK. Took 62526 microseconds.\n",
      "WARNING:absl:Found untraced functions such as _jit_compiled_convolution_op, _jit_compiled_convolution_op while saving (showing 2 of 2). These functions will not be directly callable after loading.\n"
     ]
    },
    {
     "name": "stdout",
     "output_type": "stream",
     "text": [
      "INFO:tensorflow:Assets written to: /tmp/tmptl1_l3bs/assets\n"
     ]
    },
    {
     "name": "stderr",
     "output_type": "stream",
     "text": [
      "INFO:tensorflow:Assets written to: /tmp/tmptl1_l3bs/assets\n",
      "2022-11-09 22:28:29.636559: W tensorflow/compiler/mlir/lite/python/tf_tfl_flatbuffer_helpers.cc:362] Ignored output_format.\n",
      "2022-11-09 22:28:29.636617: W tensorflow/compiler/mlir/lite/python/tf_tfl_flatbuffer_helpers.cc:365] Ignored drop_control_dependency.\n",
      "2022-11-09 22:28:29.636770: I tensorflow/cc/saved_model/reader.cc:45] Reading SavedModel from: /tmp/tmptl1_l3bs\n",
      "2022-11-09 22:28:29.638379: I tensorflow/cc/saved_model/reader.cc:89] Reading meta graph with tags { serve }\n",
      "2022-11-09 22:28:29.638413: I tensorflow/cc/saved_model/reader.cc:130] Reading SavedModel debug info (if present) from: /tmp/tmptl1_l3bs\n",
      "2022-11-09 22:28:29.643464: I tensorflow/cc/saved_model/loader.cc:229] Restoring SavedModel bundle.\n",
      "2022-11-09 22:28:29.686871: I tensorflow/cc/saved_model/loader.cc:213] Running initialization op on SavedModel bundle at path: /tmp/tmptl1_l3bs\n",
      "2022-11-09 22:28:29.698167: I tensorflow/cc/saved_model/loader.cc:305] SavedModel load for tags { serve }; Status: success: OK. Took 61398 microseconds.\n",
      "WARNING:absl:Found untraced functions such as _jit_compiled_convolution_op, _jit_compiled_convolution_op while saving (showing 2 of 2). These functions will not be directly callable after loading.\n"
     ]
    },
    {
     "name": "stdout",
     "output_type": "stream",
     "text": [
      "INFO:tensorflow:Assets written to: /tmp/tmpuptumwue/assets\n"
     ]
    },
    {
     "name": "stderr",
     "output_type": "stream",
     "text": [
      "INFO:tensorflow:Assets written to: /tmp/tmpuptumwue/assets\n",
      "2022-11-09 22:28:33.109183: W tensorflow/compiler/mlir/lite/python/tf_tfl_flatbuffer_helpers.cc:362] Ignored output_format.\n",
      "2022-11-09 22:28:33.109248: W tensorflow/compiler/mlir/lite/python/tf_tfl_flatbuffer_helpers.cc:365] Ignored drop_control_dependency.\n",
      "2022-11-09 22:28:33.109457: I tensorflow/cc/saved_model/reader.cc:45] Reading SavedModel from: /tmp/tmpuptumwue\n",
      "2022-11-09 22:28:33.112411: I tensorflow/cc/saved_model/reader.cc:89] Reading meta graph with tags { serve }\n",
      "2022-11-09 22:28:33.112448: I tensorflow/cc/saved_model/reader.cc:130] Reading SavedModel debug info (if present) from: /tmp/tmpuptumwue\n",
      "2022-11-09 22:28:33.123753: I tensorflow/cc/saved_model/loader.cc:229] Restoring SavedModel bundle.\n",
      "2022-11-09 22:28:33.188216: I tensorflow/cc/saved_model/loader.cc:213] Running initialization op on SavedModel bundle at path: /tmp/tmpuptumwue\n",
      "2022-11-09 22:28:33.206408: I tensorflow/cc/saved_model/loader.cc:305] SavedModel load for tags { serve }; Status: success: OK. Took 96954 microseconds.\n",
      "WARNING:absl:Found untraced functions such as _jit_compiled_convolution_op, _jit_compiled_convolution_op while saving (showing 2 of 2). These functions will not be directly callable after loading.\n"
     ]
    },
    {
     "name": "stdout",
     "output_type": "stream",
     "text": [
      "INFO:tensorflow:Assets written to: /tmp/tmpalh4sxzn/assets\n"
     ]
    },
    {
     "name": "stderr",
     "output_type": "stream",
     "text": [
      "INFO:tensorflow:Assets written to: /tmp/tmpalh4sxzn/assets\n",
      "2022-11-09 22:28:34.505998: W tensorflow/compiler/mlir/lite/python/tf_tfl_flatbuffer_helpers.cc:362] Ignored output_format.\n",
      "2022-11-09 22:28:34.506055: W tensorflow/compiler/mlir/lite/python/tf_tfl_flatbuffer_helpers.cc:365] Ignored drop_control_dependency.\n",
      "2022-11-09 22:28:34.506188: I tensorflow/cc/saved_model/reader.cc:45] Reading SavedModel from: /tmp/tmpalh4sxzn\n",
      "2022-11-09 22:28:34.507916: I tensorflow/cc/saved_model/reader.cc:89] Reading meta graph with tags { serve }\n",
      "2022-11-09 22:28:34.507946: I tensorflow/cc/saved_model/reader.cc:130] Reading SavedModel debug info (if present) from: /tmp/tmpalh4sxzn\n",
      "2022-11-09 22:28:34.514064: I tensorflow/cc/saved_model/loader.cc:229] Restoring SavedModel bundle.\n",
      "2022-11-09 22:28:34.560010: I tensorflow/cc/saved_model/loader.cc:213] Running initialization op on SavedModel bundle at path: /tmp/tmpalh4sxzn\n",
      "2022-11-09 22:28:34.572826: I tensorflow/cc/saved_model/loader.cc:305] SavedModel load for tags { serve }; Status: success: OK. Took 66640 microseconds.\n",
      "WARNING:absl:Found untraced functions such as _jit_compiled_convolution_op, _jit_compiled_convolution_op while saving (showing 2 of 2). These functions will not be directly callable after loading.\n"
     ]
    },
    {
     "name": "stdout",
     "output_type": "stream",
     "text": [
      "INFO:tensorflow:Assets written to: /tmp/tmpehpui7yo/assets\n"
     ]
    },
    {
     "name": "stderr",
     "output_type": "stream",
     "text": [
      "INFO:tensorflow:Assets written to: /tmp/tmpehpui7yo/assets\n",
      "2022-11-09 22:28:35.784128: W tensorflow/compiler/mlir/lite/python/tf_tfl_flatbuffer_helpers.cc:362] Ignored output_format.\n",
      "2022-11-09 22:28:35.784187: W tensorflow/compiler/mlir/lite/python/tf_tfl_flatbuffer_helpers.cc:365] Ignored drop_control_dependency.\n",
      "2022-11-09 22:28:35.784325: I tensorflow/cc/saved_model/reader.cc:45] Reading SavedModel from: /tmp/tmpehpui7yo\n",
      "2022-11-09 22:28:35.785900: I tensorflow/cc/saved_model/reader.cc:89] Reading meta graph with tags { serve }\n",
      "2022-11-09 22:28:35.785924: I tensorflow/cc/saved_model/reader.cc:130] Reading SavedModel debug info (if present) from: /tmp/tmpehpui7yo\n",
      "2022-11-09 22:28:35.791382: I tensorflow/cc/saved_model/loader.cc:229] Restoring SavedModel bundle.\n",
      "2022-11-09 22:28:35.836962: I tensorflow/cc/saved_model/loader.cc:213] Running initialization op on SavedModel bundle at path: /tmp/tmpehpui7yo\n",
      "2022-11-09 22:28:35.848084: I tensorflow/cc/saved_model/loader.cc:305] SavedModel load for tags { serve }; Status: success: OK. Took 63761 microseconds.\n",
      "WARNING:absl:Found untraced functions such as _jit_compiled_convolution_op, _jit_compiled_convolution_op while saving (showing 2 of 2). These functions will not be directly callable after loading.\n"
     ]
    },
    {
     "name": "stdout",
     "output_type": "stream",
     "text": [
      "INFO:tensorflow:Assets written to: /tmp/tmpzji4oi29/assets\n"
     ]
    },
    {
     "name": "stderr",
     "output_type": "stream",
     "text": [
      "INFO:tensorflow:Assets written to: /tmp/tmpzji4oi29/assets\n",
      "2022-11-09 22:28:36.999473: W tensorflow/compiler/mlir/lite/python/tf_tfl_flatbuffer_helpers.cc:362] Ignored output_format.\n",
      "2022-11-09 22:28:36.999526: W tensorflow/compiler/mlir/lite/python/tf_tfl_flatbuffer_helpers.cc:365] Ignored drop_control_dependency.\n",
      "2022-11-09 22:28:36.999727: I tensorflow/cc/saved_model/reader.cc:45] Reading SavedModel from: /tmp/tmpzji4oi29\n",
      "2022-11-09 22:28:37.001022: I tensorflow/cc/saved_model/reader.cc:89] Reading meta graph with tags { serve }\n",
      "2022-11-09 22:28:37.001050: I tensorflow/cc/saved_model/reader.cc:130] Reading SavedModel debug info (if present) from: /tmp/tmpzji4oi29\n",
      "2022-11-09 22:28:37.005829: I tensorflow/cc/saved_model/loader.cc:229] Restoring SavedModel bundle.\n",
      "2022-11-09 22:28:37.055476: I tensorflow/cc/saved_model/loader.cc:213] Running initialization op on SavedModel bundle at path: /tmp/tmpzji4oi29\n",
      "2022-11-09 22:28:37.067939: I tensorflow/cc/saved_model/loader.cc:305] SavedModel load for tags { serve }; Status: success: OK. Took 68213 microseconds.\n",
      "WARNING:absl:Found untraced functions such as _jit_compiled_convolution_op, _jit_compiled_convolution_op while saving (showing 2 of 2). These functions will not be directly callable after loading.\n"
     ]
    },
    {
     "name": "stdout",
     "output_type": "stream",
     "text": [
      "INFO:tensorflow:Assets written to: /tmp/tmpt60lidqa/assets\n"
     ]
    },
    {
     "name": "stderr",
     "output_type": "stream",
     "text": [
      "INFO:tensorflow:Assets written to: /tmp/tmpt60lidqa/assets\n",
      "2022-11-09 22:28:38.254162: W tensorflow/compiler/mlir/lite/python/tf_tfl_flatbuffer_helpers.cc:362] Ignored output_format.\n",
      "2022-11-09 22:28:38.254213: W tensorflow/compiler/mlir/lite/python/tf_tfl_flatbuffer_helpers.cc:365] Ignored drop_control_dependency.\n",
      "2022-11-09 22:28:38.254336: I tensorflow/cc/saved_model/reader.cc:45] Reading SavedModel from: /tmp/tmpt60lidqa\n",
      "2022-11-09 22:28:38.255592: I tensorflow/cc/saved_model/reader.cc:89] Reading meta graph with tags { serve }\n",
      "2022-11-09 22:28:38.255618: I tensorflow/cc/saved_model/reader.cc:130] Reading SavedModel debug info (if present) from: /tmp/tmpt60lidqa\n",
      "2022-11-09 22:28:38.260318: I tensorflow/cc/saved_model/loader.cc:229] Restoring SavedModel bundle.\n",
      "2022-11-09 22:28:38.301761: I tensorflow/cc/saved_model/loader.cc:213] Running initialization op on SavedModel bundle at path: /tmp/tmpt60lidqa\n",
      "2022-11-09 22:28:38.312502: I tensorflow/cc/saved_model/loader.cc:305] SavedModel load for tags { serve }; Status: success: OK. Took 58166 microseconds.\n",
      "WARNING:absl:Found untraced functions such as _jit_compiled_convolution_op, _jit_compiled_convolution_op while saving (showing 2 of 2). These functions will not be directly callable after loading.\n"
     ]
    },
    {
     "name": "stdout",
     "output_type": "stream",
     "text": [
      "INFO:tensorflow:Assets written to: /tmp/tmpjq6ws6sv/assets\n"
     ]
    },
    {
     "name": "stderr",
     "output_type": "stream",
     "text": [
      "INFO:tensorflow:Assets written to: /tmp/tmpjq6ws6sv/assets\n",
      "2022-11-09 22:28:39.480819: W tensorflow/compiler/mlir/lite/python/tf_tfl_flatbuffer_helpers.cc:362] Ignored output_format.\n",
      "2022-11-09 22:28:39.480873: W tensorflow/compiler/mlir/lite/python/tf_tfl_flatbuffer_helpers.cc:365] Ignored drop_control_dependency.\n",
      "2022-11-09 22:28:39.481001: I tensorflow/cc/saved_model/reader.cc:45] Reading SavedModel from: /tmp/tmpjq6ws6sv\n",
      "2022-11-09 22:28:39.482283: I tensorflow/cc/saved_model/reader.cc:89] Reading meta graph with tags { serve }\n",
      "2022-11-09 22:28:39.482309: I tensorflow/cc/saved_model/reader.cc:130] Reading SavedModel debug info (if present) from: /tmp/tmpjq6ws6sv\n",
      "2022-11-09 22:28:39.486879: I tensorflow/cc/saved_model/loader.cc:229] Restoring SavedModel bundle.\n",
      "2022-11-09 22:28:39.526103: I tensorflow/cc/saved_model/loader.cc:213] Running initialization op on SavedModel bundle at path: /tmp/tmpjq6ws6sv\n",
      "2022-11-09 22:28:39.539700: I tensorflow/cc/saved_model/loader.cc:305] SavedModel load for tags { serve }; Status: success: OK. Took 58700 microseconds.\n",
      "WARNING:absl:Found untraced functions such as _jit_compiled_convolution_op, _jit_compiled_convolution_op while saving (showing 2 of 2). These functions will not be directly callable after loading.\n"
     ]
    },
    {
     "name": "stdout",
     "output_type": "stream",
     "text": [
      "INFO:tensorflow:Assets written to: /tmp/tmpsdvb7gs4/assets\n"
     ]
    },
    {
     "name": "stderr",
     "output_type": "stream",
     "text": [
      "INFO:tensorflow:Assets written to: /tmp/tmpsdvb7gs4/assets\n",
      "2022-11-09 22:28:40.832654: W tensorflow/compiler/mlir/lite/python/tf_tfl_flatbuffer_helpers.cc:362] Ignored output_format.\n",
      "2022-11-09 22:28:40.832709: W tensorflow/compiler/mlir/lite/python/tf_tfl_flatbuffer_helpers.cc:365] Ignored drop_control_dependency.\n",
      "2022-11-09 22:28:40.832930: I tensorflow/cc/saved_model/reader.cc:45] Reading SavedModel from: /tmp/tmpsdvb7gs4\n",
      "2022-11-09 22:28:40.834275: I tensorflow/cc/saved_model/reader.cc:89] Reading meta graph with tags { serve }\n",
      "2022-11-09 22:28:40.834301: I tensorflow/cc/saved_model/reader.cc:130] Reading SavedModel debug info (if present) from: /tmp/tmpsdvb7gs4\n",
      "2022-11-09 22:28:40.838650: I tensorflow/cc/saved_model/loader.cc:229] Restoring SavedModel bundle.\n",
      "2022-11-09 22:28:40.876882: I tensorflow/cc/saved_model/loader.cc:213] Running initialization op on SavedModel bundle at path: /tmp/tmpsdvb7gs4\n",
      "2022-11-09 22:28:40.886897: I tensorflow/cc/saved_model/loader.cc:305] SavedModel load for tags { serve }; Status: success: OK. Took 53969 microseconds.\n",
      "WARNING:absl:Found untraced functions such as _jit_compiled_convolution_op, _jit_compiled_convolution_op while saving (showing 2 of 2). These functions will not be directly callable after loading.\n"
     ]
    },
    {
     "name": "stdout",
     "output_type": "stream",
     "text": [
      "INFO:tensorflow:Assets written to: /tmp/tmp2az_0cep/assets\n"
     ]
    },
    {
     "name": "stderr",
     "output_type": "stream",
     "text": [
      "INFO:tensorflow:Assets written to: /tmp/tmp2az_0cep/assets\n",
      "2022-11-09 22:28:42.050363: W tensorflow/compiler/mlir/lite/python/tf_tfl_flatbuffer_helpers.cc:362] Ignored output_format.\n",
      "2022-11-09 22:28:42.050459: W tensorflow/compiler/mlir/lite/python/tf_tfl_flatbuffer_helpers.cc:365] Ignored drop_control_dependency.\n",
      "2022-11-09 22:28:42.050870: I tensorflow/cc/saved_model/reader.cc:45] Reading SavedModel from: /tmp/tmp2az_0cep\n",
      "2022-11-09 22:28:42.052625: I tensorflow/cc/saved_model/reader.cc:89] Reading meta graph with tags { serve }\n",
      "2022-11-09 22:28:42.052656: I tensorflow/cc/saved_model/reader.cc:130] Reading SavedModel debug info (if present) from: /tmp/tmp2az_0cep\n",
      "2022-11-09 22:28:42.058067: I tensorflow/cc/saved_model/loader.cc:229] Restoring SavedModel bundle.\n",
      "2022-11-09 22:28:42.098024: I tensorflow/cc/saved_model/loader.cc:213] Running initialization op on SavedModel bundle at path: /tmp/tmp2az_0cep\n",
      "2022-11-09 22:28:42.109046: I tensorflow/cc/saved_model/loader.cc:305] SavedModel load for tags { serve }; Status: success: OK. Took 58181 microseconds.\n",
      "WARNING:absl:Found untraced functions such as _jit_compiled_convolution_op, _jit_compiled_convolution_op while saving (showing 2 of 2). These functions will not be directly callable after loading.\n"
     ]
    },
    {
     "name": "stdout",
     "output_type": "stream",
     "text": [
      "INFO:tensorflow:Assets written to: /tmp/tmpfgigc5uh/assets\n"
     ]
    },
    {
     "name": "stderr",
     "output_type": "stream",
     "text": [
      "INFO:tensorflow:Assets written to: /tmp/tmpfgigc5uh/assets\n",
      "2022-11-09 22:28:43.279825: W tensorflow/compiler/mlir/lite/python/tf_tfl_flatbuffer_helpers.cc:362] Ignored output_format.\n",
      "2022-11-09 22:28:43.279953: W tensorflow/compiler/mlir/lite/python/tf_tfl_flatbuffer_helpers.cc:365] Ignored drop_control_dependency.\n",
      "2022-11-09 22:28:43.280124: I tensorflow/cc/saved_model/reader.cc:45] Reading SavedModel from: /tmp/tmpfgigc5uh\n",
      "2022-11-09 22:28:43.281562: I tensorflow/cc/saved_model/reader.cc:89] Reading meta graph with tags { serve }\n",
      "2022-11-09 22:28:43.281588: I tensorflow/cc/saved_model/reader.cc:130] Reading SavedModel debug info (if present) from: /tmp/tmpfgigc5uh\n",
      "2022-11-09 22:28:43.286022: I tensorflow/cc/saved_model/loader.cc:229] Restoring SavedModel bundle.\n",
      "2022-11-09 22:28:43.323500: I tensorflow/cc/saved_model/loader.cc:213] Running initialization op on SavedModel bundle at path: /tmp/tmpfgigc5uh\n",
      "2022-11-09 22:28:43.333624: I tensorflow/cc/saved_model/loader.cc:305] SavedModel load for tags { serve }; Status: success: OK. Took 53500 microseconds.\n",
      "WARNING:absl:Found untraced functions such as _jit_compiled_convolution_op, _jit_compiled_convolution_op while saving (showing 2 of 2). These functions will not be directly callable after loading.\n"
     ]
    },
    {
     "name": "stdout",
     "output_type": "stream",
     "text": [
      "INFO:tensorflow:Assets written to: /tmp/tmpcx99wzrt/assets\n"
     ]
    },
    {
     "name": "stderr",
     "output_type": "stream",
     "text": [
      "INFO:tensorflow:Assets written to: /tmp/tmpcx99wzrt/assets\n",
      "2022-11-09 22:28:44.482425: W tensorflow/compiler/mlir/lite/python/tf_tfl_flatbuffer_helpers.cc:362] Ignored output_format.\n",
      "2022-11-09 22:28:44.482478: W tensorflow/compiler/mlir/lite/python/tf_tfl_flatbuffer_helpers.cc:365] Ignored drop_control_dependency.\n",
      "2022-11-09 22:28:44.482637: I tensorflow/cc/saved_model/reader.cc:45] Reading SavedModel from: /tmp/tmpcx99wzrt\n",
      "2022-11-09 22:28:44.484022: I tensorflow/cc/saved_model/reader.cc:89] Reading meta graph with tags { serve }\n",
      "2022-11-09 22:28:44.484047: I tensorflow/cc/saved_model/reader.cc:130] Reading SavedModel debug info (if present) from: /tmp/tmpcx99wzrt\n",
      "2022-11-09 22:28:44.488299: I tensorflow/cc/saved_model/loader.cc:229] Restoring SavedModel bundle.\n",
      "2022-11-09 22:28:44.526489: I tensorflow/cc/saved_model/loader.cc:213] Running initialization op on SavedModel bundle at path: /tmp/tmpcx99wzrt\n",
      "2022-11-09 22:28:44.539309: I tensorflow/cc/saved_model/loader.cc:305] SavedModel load for tags { serve }; Status: success: OK. Took 56676 microseconds.\n",
      "WARNING:absl:Found untraced functions such as _jit_compiled_convolution_op, _jit_compiled_convolution_op while saving (showing 2 of 2). These functions will not be directly callable after loading.\n"
     ]
    },
    {
     "name": "stdout",
     "output_type": "stream",
     "text": [
      "INFO:tensorflow:Assets written to: /tmp/tmpx2ok1ffi/assets\n"
     ]
    },
    {
     "name": "stderr",
     "output_type": "stream",
     "text": [
      "INFO:tensorflow:Assets written to: /tmp/tmpx2ok1ffi/assets\n",
      "2022-11-09 22:28:45.717175: W tensorflow/compiler/mlir/lite/python/tf_tfl_flatbuffer_helpers.cc:362] Ignored output_format.\n",
      "2022-11-09 22:28:45.717226: W tensorflow/compiler/mlir/lite/python/tf_tfl_flatbuffer_helpers.cc:365] Ignored drop_control_dependency.\n",
      "2022-11-09 22:28:45.717353: I tensorflow/cc/saved_model/reader.cc:45] Reading SavedModel from: /tmp/tmpx2ok1ffi\n",
      "2022-11-09 22:28:45.718615: I tensorflow/cc/saved_model/reader.cc:89] Reading meta graph with tags { serve }\n",
      "2022-11-09 22:28:45.718640: I tensorflow/cc/saved_model/reader.cc:130] Reading SavedModel debug info (if present) from: /tmp/tmpx2ok1ffi\n",
      "2022-11-09 22:28:45.723882: I tensorflow/cc/saved_model/loader.cc:229] Restoring SavedModel bundle.\n",
      "2022-11-09 22:28:45.761685: I tensorflow/cc/saved_model/loader.cc:213] Running initialization op on SavedModel bundle at path: /tmp/tmpx2ok1ffi\n",
      "2022-11-09 22:28:45.771763: I tensorflow/cc/saved_model/loader.cc:305] SavedModel load for tags { serve }; Status: success: OK. Took 54412 microseconds.\n",
      "WARNING:absl:Found untraced functions such as _jit_compiled_convolution_op, _jit_compiled_convolution_op while saving (showing 2 of 2). These functions will not be directly callable after loading.\n"
     ]
    },
    {
     "name": "stdout",
     "output_type": "stream",
     "text": [
      "INFO:tensorflow:Assets written to: /tmp/tmp7mpn9q77/assets\n"
     ]
    },
    {
     "name": "stderr",
     "output_type": "stream",
     "text": [
      "INFO:tensorflow:Assets written to: /tmp/tmp7mpn9q77/assets\n",
      "2022-11-09 22:28:48.595389: W tensorflow/compiler/mlir/lite/python/tf_tfl_flatbuffer_helpers.cc:362] Ignored output_format.\n",
      "2022-11-09 22:28:48.595455: W tensorflow/compiler/mlir/lite/python/tf_tfl_flatbuffer_helpers.cc:365] Ignored drop_control_dependency.\n",
      "2022-11-09 22:28:48.595629: I tensorflow/cc/saved_model/reader.cc:45] Reading SavedModel from: /tmp/tmp7mpn9q77\n",
      "2022-11-09 22:28:48.599158: I tensorflow/cc/saved_model/reader.cc:89] Reading meta graph with tags { serve }\n",
      "2022-11-09 22:28:48.599192: I tensorflow/cc/saved_model/reader.cc:130] Reading SavedModel debug info (if present) from: /tmp/tmp7mpn9q77\n",
      "2022-11-09 22:28:48.614113: I tensorflow/cc/saved_model/loader.cc:229] Restoring SavedModel bundle.\n",
      "2022-11-09 22:28:48.705434: I tensorflow/cc/saved_model/loader.cc:213] Running initialization op on SavedModel bundle at path: /tmp/tmp7mpn9q77\n",
      "2022-11-09 22:28:48.732913: I tensorflow/cc/saved_model/loader.cc:305] SavedModel load for tags { serve }; Status: success: OK. Took 137288 microseconds.\n",
      "WARNING:absl:Found untraced functions such as _jit_compiled_convolution_op, _jit_compiled_convolution_op while saving (showing 2 of 2). These functions will not be directly callable after loading.\n"
     ]
    },
    {
     "name": "stdout",
     "output_type": "stream",
     "text": [
      "INFO:tensorflow:Assets written to: /tmp/tmpfiahufaz/assets\n"
     ]
    },
    {
     "name": "stderr",
     "output_type": "stream",
     "text": [
      "INFO:tensorflow:Assets written to: /tmp/tmpfiahufaz/assets\n",
      "2022-11-09 22:28:50.307599: W tensorflow/compiler/mlir/lite/python/tf_tfl_flatbuffer_helpers.cc:362] Ignored output_format.\n",
      "2022-11-09 22:28:50.307664: W tensorflow/compiler/mlir/lite/python/tf_tfl_flatbuffer_helpers.cc:365] Ignored drop_control_dependency.\n",
      "2022-11-09 22:28:50.307839: I tensorflow/cc/saved_model/reader.cc:45] Reading SavedModel from: /tmp/tmpfiahufaz\n",
      "2022-11-09 22:28:50.310510: I tensorflow/cc/saved_model/reader.cc:89] Reading meta graph with tags { serve }\n",
      "2022-11-09 22:28:50.310547: I tensorflow/cc/saved_model/reader.cc:130] Reading SavedModel debug info (if present) from: /tmp/tmpfiahufaz\n",
      "2022-11-09 22:28:50.318892: I tensorflow/cc/saved_model/loader.cc:229] Restoring SavedModel bundle.\n",
      "2022-11-09 22:28:50.375247: I tensorflow/cc/saved_model/loader.cc:213] Running initialization op on SavedModel bundle at path: /tmp/tmpfiahufaz\n",
      "2022-11-09 22:28:50.390968: I tensorflow/cc/saved_model/loader.cc:305] SavedModel load for tags { serve }; Status: success: OK. Took 83132 microseconds.\n",
      "WARNING:absl:Found untraced functions such as _jit_compiled_convolution_op, _jit_compiled_convolution_op while saving (showing 2 of 2). These functions will not be directly callable after loading.\n"
     ]
    },
    {
     "name": "stdout",
     "output_type": "stream",
     "text": [
      "INFO:tensorflow:Assets written to: /tmp/tmpvwg6v9o9/assets\n"
     ]
    },
    {
     "name": "stderr",
     "output_type": "stream",
     "text": [
      "INFO:tensorflow:Assets written to: /tmp/tmpvwg6v9o9/assets\n",
      "2022-11-09 22:28:51.688968: W tensorflow/compiler/mlir/lite/python/tf_tfl_flatbuffer_helpers.cc:362] Ignored output_format.\n",
      "2022-11-09 22:28:51.689031: W tensorflow/compiler/mlir/lite/python/tf_tfl_flatbuffer_helpers.cc:365] Ignored drop_control_dependency.\n",
      "2022-11-09 22:28:51.689177: I tensorflow/cc/saved_model/reader.cc:45] Reading SavedModel from: /tmp/tmpvwg6v9o9\n",
      "2022-11-09 22:28:51.690885: I tensorflow/cc/saved_model/reader.cc:89] Reading meta graph with tags { serve }\n",
      "2022-11-09 22:28:51.690954: I tensorflow/cc/saved_model/reader.cc:130] Reading SavedModel debug info (if present) from: /tmp/tmpvwg6v9o9\n",
      "2022-11-09 22:28:51.696876: I tensorflow/cc/saved_model/loader.cc:229] Restoring SavedModel bundle.\n",
      "2022-11-09 22:28:51.743149: I tensorflow/cc/saved_model/loader.cc:213] Running initialization op on SavedModel bundle at path: /tmp/tmpvwg6v9o9\n",
      "2022-11-09 22:28:51.754912: I tensorflow/cc/saved_model/loader.cc:305] SavedModel load for tags { serve }; Status: success: OK. Took 65738 microseconds.\n",
      "WARNING:absl:Found untraced functions such as _jit_compiled_convolution_op, _jit_compiled_convolution_op while saving (showing 2 of 2). These functions will not be directly callable after loading.\n"
     ]
    },
    {
     "name": "stdout",
     "output_type": "stream",
     "text": [
      "INFO:tensorflow:Assets written to: /tmp/tmpb016glhd/assets\n"
     ]
    },
    {
     "name": "stderr",
     "output_type": "stream",
     "text": [
      "INFO:tensorflow:Assets written to: /tmp/tmpb016glhd/assets\n",
      "2022-11-09 22:28:52.993625: W tensorflow/compiler/mlir/lite/python/tf_tfl_flatbuffer_helpers.cc:362] Ignored output_format.\n",
      "2022-11-09 22:28:52.993674: W tensorflow/compiler/mlir/lite/python/tf_tfl_flatbuffer_helpers.cc:365] Ignored drop_control_dependency.\n",
      "2022-11-09 22:28:52.993815: I tensorflow/cc/saved_model/reader.cc:45] Reading SavedModel from: /tmp/tmpb016glhd\n",
      "2022-11-09 22:28:52.995329: I tensorflow/cc/saved_model/reader.cc:89] Reading meta graph with tags { serve }\n",
      "2022-11-09 22:28:52.995359: I tensorflow/cc/saved_model/reader.cc:130] Reading SavedModel debug info (if present) from: /tmp/tmpb016glhd\n",
      "2022-11-09 22:28:53.001184: I tensorflow/cc/saved_model/loader.cc:229] Restoring SavedModel bundle.\n",
      "2022-11-09 22:28:53.042486: I tensorflow/cc/saved_model/loader.cc:213] Running initialization op on SavedModel bundle at path: /tmp/tmpb016glhd\n",
      "2022-11-09 22:28:53.053793: I tensorflow/cc/saved_model/loader.cc:305] SavedModel load for tags { serve }; Status: success: OK. Took 59981 microseconds.\n",
      "WARNING:absl:Found untraced functions such as _jit_compiled_convolution_op, _jit_compiled_convolution_op while saving (showing 2 of 2). These functions will not be directly callable after loading.\n"
     ]
    },
    {
     "name": "stdout",
     "output_type": "stream",
     "text": [
      "INFO:tensorflow:Assets written to: /tmp/tmp2hu6i339/assets\n"
     ]
    },
    {
     "name": "stderr",
     "output_type": "stream",
     "text": [
      "INFO:tensorflow:Assets written to: /tmp/tmp2hu6i339/assets\n",
      "2022-11-09 22:28:54.226829: W tensorflow/compiler/mlir/lite/python/tf_tfl_flatbuffer_helpers.cc:362] Ignored output_format.\n",
      "2022-11-09 22:28:54.226908: W tensorflow/compiler/mlir/lite/python/tf_tfl_flatbuffer_helpers.cc:365] Ignored drop_control_dependency.\n",
      "2022-11-09 22:28:54.227039: I tensorflow/cc/saved_model/reader.cc:45] Reading SavedModel from: /tmp/tmp2hu6i339\n",
      "2022-11-09 22:28:54.228382: I tensorflow/cc/saved_model/reader.cc:89] Reading meta graph with tags { serve }\n",
      "2022-11-09 22:28:54.228409: I tensorflow/cc/saved_model/reader.cc:130] Reading SavedModel debug info (if present) from: /tmp/tmp2hu6i339\n",
      "2022-11-09 22:28:54.232997: I tensorflow/cc/saved_model/loader.cc:229] Restoring SavedModel bundle.\n",
      "2022-11-09 22:28:54.274856: I tensorflow/cc/saved_model/loader.cc:213] Running initialization op on SavedModel bundle at path: /tmp/tmp2hu6i339\n",
      "2022-11-09 22:28:54.285472: I tensorflow/cc/saved_model/loader.cc:305] SavedModel load for tags { serve }; Status: success: OK. Took 58435 microseconds.\n",
      "WARNING:absl:Found untraced functions such as _jit_compiled_convolution_op, _jit_compiled_convolution_op while saving (showing 2 of 2). These functions will not be directly callable after loading.\n"
     ]
    },
    {
     "name": "stdout",
     "output_type": "stream",
     "text": [
      "INFO:tensorflow:Assets written to: /tmp/tmpnu8unno6/assets\n"
     ]
    },
    {
     "name": "stderr",
     "output_type": "stream",
     "text": [
      "INFO:tensorflow:Assets written to: /tmp/tmpnu8unno6/assets\n",
      "2022-11-09 22:28:55.477144: W tensorflow/compiler/mlir/lite/python/tf_tfl_flatbuffer_helpers.cc:362] Ignored output_format.\n",
      "2022-11-09 22:28:55.477197: W tensorflow/compiler/mlir/lite/python/tf_tfl_flatbuffer_helpers.cc:365] Ignored drop_control_dependency.\n",
      "2022-11-09 22:28:55.477362: I tensorflow/cc/saved_model/reader.cc:45] Reading SavedModel from: /tmp/tmpnu8unno6\n",
      "2022-11-09 22:28:55.478810: I tensorflow/cc/saved_model/reader.cc:89] Reading meta graph with tags { serve }\n",
      "2022-11-09 22:28:55.478837: I tensorflow/cc/saved_model/reader.cc:130] Reading SavedModel debug info (if present) from: /tmp/tmpnu8unno6\n",
      "2022-11-09 22:28:55.483826: I tensorflow/cc/saved_model/loader.cc:229] Restoring SavedModel bundle.\n",
      "2022-11-09 22:28:55.532295: I tensorflow/cc/saved_model/loader.cc:213] Running initialization op on SavedModel bundle at path: /tmp/tmpnu8unno6\n",
      "2022-11-09 22:28:55.543723: I tensorflow/cc/saved_model/loader.cc:305] SavedModel load for tags { serve }; Status: success: OK. Took 66370 microseconds.\n",
      "WARNING:absl:Found untraced functions such as _jit_compiled_convolution_op, _jit_compiled_convolution_op while saving (showing 2 of 2). These functions will not be directly callable after loading.\n"
     ]
    },
    {
     "name": "stdout",
     "output_type": "stream",
     "text": [
      "INFO:tensorflow:Assets written to: /tmp/tmpap_ng1_7/assets\n"
     ]
    },
    {
     "name": "stderr",
     "output_type": "stream",
     "text": [
      "INFO:tensorflow:Assets written to: /tmp/tmpap_ng1_7/assets\n",
      "2022-11-09 22:28:56.730413: W tensorflow/compiler/mlir/lite/python/tf_tfl_flatbuffer_helpers.cc:362] Ignored output_format.\n",
      "2022-11-09 22:28:56.730466: W tensorflow/compiler/mlir/lite/python/tf_tfl_flatbuffer_helpers.cc:365] Ignored drop_control_dependency.\n",
      "2022-11-09 22:28:56.730657: I tensorflow/cc/saved_model/reader.cc:45] Reading SavedModel from: /tmp/tmpap_ng1_7\n",
      "2022-11-09 22:28:56.732088: I tensorflow/cc/saved_model/reader.cc:89] Reading meta graph with tags { serve }\n",
      "2022-11-09 22:28:56.732114: I tensorflow/cc/saved_model/reader.cc:130] Reading SavedModel debug info (if present) from: /tmp/tmpap_ng1_7\n",
      "2022-11-09 22:28:56.736781: I tensorflow/cc/saved_model/loader.cc:229] Restoring SavedModel bundle.\n",
      "2022-11-09 22:28:56.777242: I tensorflow/cc/saved_model/loader.cc:213] Running initialization op on SavedModel bundle at path: /tmp/tmpap_ng1_7\n",
      "2022-11-09 22:28:56.787827: I tensorflow/cc/saved_model/loader.cc:305] SavedModel load for tags { serve }; Status: success: OK. Took 57154 microseconds.\n",
      "WARNING:absl:Found untraced functions such as _jit_compiled_convolution_op, _jit_compiled_convolution_op while saving (showing 2 of 2). These functions will not be directly callable after loading.\n"
     ]
    },
    {
     "name": "stdout",
     "output_type": "stream",
     "text": [
      "INFO:tensorflow:Assets written to: /tmp/tmpis30h2nv/assets\n"
     ]
    },
    {
     "name": "stderr",
     "output_type": "stream",
     "text": [
      "INFO:tensorflow:Assets written to: /tmp/tmpis30h2nv/assets\n",
      "2022-11-09 22:28:58.025108: W tensorflow/compiler/mlir/lite/python/tf_tfl_flatbuffer_helpers.cc:362] Ignored output_format.\n",
      "2022-11-09 22:28:58.025161: W tensorflow/compiler/mlir/lite/python/tf_tfl_flatbuffer_helpers.cc:365] Ignored drop_control_dependency.\n",
      "2022-11-09 22:28:58.025422: I tensorflow/cc/saved_model/reader.cc:45] Reading SavedModel from: /tmp/tmpis30h2nv\n",
      "2022-11-09 22:28:58.027018: I tensorflow/cc/saved_model/reader.cc:89] Reading meta graph with tags { serve }\n",
      "2022-11-09 22:28:58.027045: I tensorflow/cc/saved_model/reader.cc:130] Reading SavedModel debug info (if present) from: /tmp/tmpis30h2nv\n",
      "2022-11-09 22:28:58.032410: I tensorflow/cc/saved_model/loader.cc:229] Restoring SavedModel bundle.\n",
      "2022-11-09 22:28:58.085204: I tensorflow/cc/saved_model/loader.cc:213] Running initialization op on SavedModel bundle at path: /tmp/tmpis30h2nv\n",
      "2022-11-09 22:28:58.099161: I tensorflow/cc/saved_model/loader.cc:305] SavedModel load for tags { serve }; Status: success: OK. Took 73760 microseconds.\n",
      "WARNING:absl:Found untraced functions such as _jit_compiled_convolution_op, _jit_compiled_convolution_op while saving (showing 2 of 2). These functions will not be directly callable after loading.\n"
     ]
    },
    {
     "name": "stdout",
     "output_type": "stream",
     "text": [
      "INFO:tensorflow:Assets written to: /tmp/tmpbh7afr80/assets\n"
     ]
    },
    {
     "name": "stderr",
     "output_type": "stream",
     "text": [
      "INFO:tensorflow:Assets written to: /tmp/tmpbh7afr80/assets\n",
      "2022-11-09 22:28:59.259691: W tensorflow/compiler/mlir/lite/python/tf_tfl_flatbuffer_helpers.cc:362] Ignored output_format.\n",
      "2022-11-09 22:28:59.259746: W tensorflow/compiler/mlir/lite/python/tf_tfl_flatbuffer_helpers.cc:365] Ignored drop_control_dependency.\n",
      "2022-11-09 22:28:59.259877: I tensorflow/cc/saved_model/reader.cc:45] Reading SavedModel from: /tmp/tmpbh7afr80\n",
      "2022-11-09 22:28:59.261205: I tensorflow/cc/saved_model/reader.cc:89] Reading meta graph with tags { serve }\n",
      "2022-11-09 22:28:59.261232: I tensorflow/cc/saved_model/reader.cc:130] Reading SavedModel debug info (if present) from: /tmp/tmpbh7afr80\n",
      "2022-11-09 22:28:59.265844: I tensorflow/cc/saved_model/loader.cc:229] Restoring SavedModel bundle.\n",
      "2022-11-09 22:28:59.305450: I tensorflow/cc/saved_model/loader.cc:213] Running initialization op on SavedModel bundle at path: /tmp/tmpbh7afr80\n",
      "2022-11-09 22:28:59.315815: I tensorflow/cc/saved_model/loader.cc:305] SavedModel load for tags { serve }; Status: success: OK. Took 55939 microseconds.\n",
      "WARNING:absl:Found untraced functions such as _jit_compiled_convolution_op, _jit_compiled_convolution_op while saving (showing 2 of 2). These functions will not be directly callable after loading.\n"
     ]
    },
    {
     "name": "stdout",
     "output_type": "stream",
     "text": [
      "INFO:tensorflow:Assets written to: /tmp/tmp_x56ks26/assets\n"
     ]
    },
    {
     "name": "stderr",
     "output_type": "stream",
     "text": [
      "INFO:tensorflow:Assets written to: /tmp/tmp_x56ks26/assets\n",
      "2022-11-09 22:29:00.542263: W tensorflow/compiler/mlir/lite/python/tf_tfl_flatbuffer_helpers.cc:362] Ignored output_format.\n",
      "2022-11-09 22:29:00.542327: W tensorflow/compiler/mlir/lite/python/tf_tfl_flatbuffer_helpers.cc:365] Ignored drop_control_dependency.\n",
      "2022-11-09 22:29:00.542469: I tensorflow/cc/saved_model/reader.cc:45] Reading SavedModel from: /tmp/tmp_x56ks26\n",
      "2022-11-09 22:29:00.543944: I tensorflow/cc/saved_model/reader.cc:89] Reading meta graph with tags { serve }\n",
      "2022-11-09 22:29:00.544022: I tensorflow/cc/saved_model/reader.cc:130] Reading SavedModel debug info (if present) from: /tmp/tmp_x56ks26\n",
      "2022-11-09 22:29:00.549329: I tensorflow/cc/saved_model/loader.cc:229] Restoring SavedModel bundle.\n",
      "2022-11-09 22:29:00.595718: I tensorflow/cc/saved_model/loader.cc:213] Running initialization op on SavedModel bundle at path: /tmp/tmp_x56ks26\n",
      "2022-11-09 22:29:00.606173: I tensorflow/cc/saved_model/loader.cc:305] SavedModel load for tags { serve }; Status: success: OK. Took 63705 microseconds.\n",
      "WARNING:absl:Found untraced functions such as _jit_compiled_convolution_op, _jit_compiled_convolution_op while saving (showing 2 of 2). These functions will not be directly callable after loading.\n"
     ]
    },
    {
     "name": "stdout",
     "output_type": "stream",
     "text": [
      "INFO:tensorflow:Assets written to: /tmp/tmpshcxjjq6/assets\n"
     ]
    },
    {
     "name": "stderr",
     "output_type": "stream",
     "text": [
      "INFO:tensorflow:Assets written to: /tmp/tmpshcxjjq6/assets\n",
      "2022-11-09 22:29:03.299244: W tensorflow/compiler/mlir/lite/python/tf_tfl_flatbuffer_helpers.cc:362] Ignored output_format.\n",
      "2022-11-09 22:29:03.299309: W tensorflow/compiler/mlir/lite/python/tf_tfl_flatbuffer_helpers.cc:365] Ignored drop_control_dependency.\n",
      "2022-11-09 22:29:03.299481: I tensorflow/cc/saved_model/reader.cc:45] Reading SavedModel from: /tmp/tmpshcxjjq6\n",
      "2022-11-09 22:29:03.304149: I tensorflow/cc/saved_model/reader.cc:89] Reading meta graph with tags { serve }\n",
      "2022-11-09 22:29:03.304184: I tensorflow/cc/saved_model/reader.cc:130] Reading SavedModel debug info (if present) from: /tmp/tmpshcxjjq6\n",
      "2022-11-09 22:29:03.324053: I tensorflow/cc/saved_model/loader.cc:229] Restoring SavedModel bundle.\n",
      "2022-11-09 22:29:03.464894: I tensorflow/cc/saved_model/loader.cc:213] Running initialization op on SavedModel bundle at path: /tmp/tmpshcxjjq6\n",
      "2022-11-09 22:29:03.503032: I tensorflow/cc/saved_model/loader.cc:305] SavedModel load for tags { serve }; Status: success: OK. Took 203555 microseconds.\n",
      "WARNING:absl:Found untraced functions such as _jit_compiled_convolution_op, _jit_compiled_convolution_op while saving (showing 2 of 2). These functions will not be directly callable after loading.\n"
     ]
    },
    {
     "name": "stdout",
     "output_type": "stream",
     "text": [
      "INFO:tensorflow:Assets written to: /tmp/tmp_u5v0oss/assets\n"
     ]
    },
    {
     "name": "stderr",
     "output_type": "stream",
     "text": [
      "INFO:tensorflow:Assets written to: /tmp/tmp_u5v0oss/assets\n",
      "2022-11-09 22:29:05.208512: W tensorflow/compiler/mlir/lite/python/tf_tfl_flatbuffer_helpers.cc:362] Ignored output_format.\n",
      "2022-11-09 22:29:05.208574: W tensorflow/compiler/mlir/lite/python/tf_tfl_flatbuffer_helpers.cc:365] Ignored drop_control_dependency.\n",
      "2022-11-09 22:29:05.208790: I tensorflow/cc/saved_model/reader.cc:45] Reading SavedModel from: /tmp/tmp_u5v0oss\n",
      "2022-11-09 22:29:05.212107: I tensorflow/cc/saved_model/reader.cc:89] Reading meta graph with tags { serve }\n",
      "2022-11-09 22:29:05.212142: I tensorflow/cc/saved_model/reader.cc:130] Reading SavedModel debug info (if present) from: /tmp/tmp_u5v0oss\n",
      "2022-11-09 22:29:05.224969: I tensorflow/cc/saved_model/loader.cc:229] Restoring SavedModel bundle.\n",
      "2022-11-09 22:29:05.298924: I tensorflow/cc/saved_model/loader.cc:213] Running initialization op on SavedModel bundle at path: /tmp/tmp_u5v0oss\n",
      "2022-11-09 22:29:05.319113: I tensorflow/cc/saved_model/loader.cc:305] SavedModel load for tags { serve }; Status: success: OK. Took 110326 microseconds.\n",
      "WARNING:absl:Found untraced functions such as _jit_compiled_convolution_op, _jit_compiled_convolution_op while saving (showing 2 of 2). These functions will not be directly callable after loading.\n"
     ]
    },
    {
     "name": "stdout",
     "output_type": "stream",
     "text": [
      "INFO:tensorflow:Assets written to: /tmp/tmp0wsa29qn/assets\n"
     ]
    },
    {
     "name": "stderr",
     "output_type": "stream",
     "text": [
      "INFO:tensorflow:Assets written to: /tmp/tmp0wsa29qn/assets\n",
      "2022-11-09 22:29:06.627837: W tensorflow/compiler/mlir/lite/python/tf_tfl_flatbuffer_helpers.cc:362] Ignored output_format.\n",
      "2022-11-09 22:29:06.627895: W tensorflow/compiler/mlir/lite/python/tf_tfl_flatbuffer_helpers.cc:365] Ignored drop_control_dependency.\n",
      "2022-11-09 22:29:06.628072: I tensorflow/cc/saved_model/reader.cc:45] Reading SavedModel from: /tmp/tmp0wsa29qn\n",
      "2022-11-09 22:29:06.629708: I tensorflow/cc/saved_model/reader.cc:89] Reading meta graph with tags { serve }\n",
      "2022-11-09 22:29:06.629738: I tensorflow/cc/saved_model/reader.cc:130] Reading SavedModel debug info (if present) from: /tmp/tmp0wsa29qn\n",
      "2022-11-09 22:29:06.635924: I tensorflow/cc/saved_model/loader.cc:229] Restoring SavedModel bundle.\n",
      "2022-11-09 22:29:06.682952: I tensorflow/cc/saved_model/loader.cc:213] Running initialization op on SavedModel bundle at path: /tmp/tmp0wsa29qn\n",
      "2022-11-09 22:29:06.695511: I tensorflow/cc/saved_model/loader.cc:305] SavedModel load for tags { serve }; Status: success: OK. Took 67441 microseconds.\n",
      "WARNING:absl:Found untraced functions such as _jit_compiled_convolution_op, _jit_compiled_convolution_op while saving (showing 2 of 2). These functions will not be directly callable after loading.\n"
     ]
    },
    {
     "name": "stdout",
     "output_type": "stream",
     "text": [
      "INFO:tensorflow:Assets written to: /tmp/tmpo835bggh/assets\n"
     ]
    },
    {
     "name": "stderr",
     "output_type": "stream",
     "text": [
      "INFO:tensorflow:Assets written to: /tmp/tmpo835bggh/assets\n",
      "2022-11-09 22:29:07.901314: W tensorflow/compiler/mlir/lite/python/tf_tfl_flatbuffer_helpers.cc:362] Ignored output_format.\n",
      "2022-11-09 22:29:07.901370: W tensorflow/compiler/mlir/lite/python/tf_tfl_flatbuffer_helpers.cc:365] Ignored drop_control_dependency.\n",
      "2022-11-09 22:29:07.901502: I tensorflow/cc/saved_model/reader.cc:45] Reading SavedModel from: /tmp/tmpo835bggh\n",
      "2022-11-09 22:29:07.902975: I tensorflow/cc/saved_model/reader.cc:89] Reading meta graph with tags { serve }\n",
      "2022-11-09 22:29:07.903003: I tensorflow/cc/saved_model/reader.cc:130] Reading SavedModel debug info (if present) from: /tmp/tmpo835bggh\n",
      "2022-11-09 22:29:07.908627: I tensorflow/cc/saved_model/loader.cc:229] Restoring SavedModel bundle.\n",
      "2022-11-09 22:29:07.955524: I tensorflow/cc/saved_model/loader.cc:213] Running initialization op on SavedModel bundle at path: /tmp/tmpo835bggh\n",
      "2022-11-09 22:29:07.966527: I tensorflow/cc/saved_model/loader.cc:305] SavedModel load for tags { serve }; Status: success: OK. Took 65027 microseconds.\n",
      "WARNING:absl:Found untraced functions such as _jit_compiled_convolution_op, _jit_compiled_convolution_op while saving (showing 2 of 2). These functions will not be directly callable after loading.\n"
     ]
    },
    {
     "name": "stdout",
     "output_type": "stream",
     "text": [
      "INFO:tensorflow:Assets written to: /tmp/tmp8heq4uq9/assets\n"
     ]
    },
    {
     "name": "stderr",
     "output_type": "stream",
     "text": [
      "INFO:tensorflow:Assets written to: /tmp/tmp8heq4uq9/assets\n",
      "2022-11-09 22:29:09.173803: W tensorflow/compiler/mlir/lite/python/tf_tfl_flatbuffer_helpers.cc:362] Ignored output_format.\n",
      "2022-11-09 22:29:09.173858: W tensorflow/compiler/mlir/lite/python/tf_tfl_flatbuffer_helpers.cc:365] Ignored drop_control_dependency.\n",
      "2022-11-09 22:29:09.173987: I tensorflow/cc/saved_model/reader.cc:45] Reading SavedModel from: /tmp/tmp8heq4uq9\n",
      "2022-11-09 22:29:09.175310: I tensorflow/cc/saved_model/reader.cc:89] Reading meta graph with tags { serve }\n",
      "2022-11-09 22:29:09.175411: I tensorflow/cc/saved_model/reader.cc:130] Reading SavedModel debug info (if present) from: /tmp/tmp8heq4uq9\n",
      "2022-11-09 22:29:09.180685: I tensorflow/cc/saved_model/loader.cc:229] Restoring SavedModel bundle.\n",
      "2022-11-09 22:29:09.227632: I tensorflow/cc/saved_model/loader.cc:213] Running initialization op on SavedModel bundle at path: /tmp/tmp8heq4uq9\n",
      "2022-11-09 22:29:09.239612: I tensorflow/cc/saved_model/loader.cc:305] SavedModel load for tags { serve }; Status: success: OK. Took 65627 microseconds.\n",
      "WARNING:absl:Found untraced functions such as _jit_compiled_convolution_op, _jit_compiled_convolution_op while saving (showing 2 of 2). These functions will not be directly callable after loading.\n"
     ]
    },
    {
     "name": "stdout",
     "output_type": "stream",
     "text": [
      "INFO:tensorflow:Assets written to: /tmp/tmp5im3wzb1/assets\n"
     ]
    },
    {
     "name": "stderr",
     "output_type": "stream",
     "text": [
      "INFO:tensorflow:Assets written to: /tmp/tmp5im3wzb1/assets\n",
      "2022-11-09 22:29:10.439169: W tensorflow/compiler/mlir/lite/python/tf_tfl_flatbuffer_helpers.cc:362] Ignored output_format.\n",
      "2022-11-09 22:29:10.439225: W tensorflow/compiler/mlir/lite/python/tf_tfl_flatbuffer_helpers.cc:365] Ignored drop_control_dependency.\n",
      "2022-11-09 22:29:10.439470: I tensorflow/cc/saved_model/reader.cc:45] Reading SavedModel from: /tmp/tmp5im3wzb1\n",
      "2022-11-09 22:29:10.440812: I tensorflow/cc/saved_model/reader.cc:89] Reading meta graph with tags { serve }\n",
      "2022-11-09 22:29:10.440836: I tensorflow/cc/saved_model/reader.cc:130] Reading SavedModel debug info (if present) from: /tmp/tmp5im3wzb1\n",
      "2022-11-09 22:29:10.445866: I tensorflow/cc/saved_model/loader.cc:229] Restoring SavedModel bundle.\n",
      "2022-11-09 22:29:10.487508: I tensorflow/cc/saved_model/loader.cc:213] Running initialization op on SavedModel bundle at path: /tmp/tmp5im3wzb1\n",
      "2022-11-09 22:29:10.498287: I tensorflow/cc/saved_model/loader.cc:305] SavedModel load for tags { serve }; Status: success: OK. Took 58796 microseconds.\n",
      "WARNING:absl:Found untraced functions such as _jit_compiled_convolution_op, _jit_compiled_convolution_op while saving (showing 2 of 2). These functions will not be directly callable after loading.\n"
     ]
    },
    {
     "name": "stdout",
     "output_type": "stream",
     "text": [
      "INFO:tensorflow:Assets written to: /tmp/tmpx4c5xe0b/assets\n"
     ]
    },
    {
     "name": "stderr",
     "output_type": "stream",
     "text": [
      "INFO:tensorflow:Assets written to: /tmp/tmpx4c5xe0b/assets\n",
      "2022-11-09 22:29:11.714128: W tensorflow/compiler/mlir/lite/python/tf_tfl_flatbuffer_helpers.cc:362] Ignored output_format.\n",
      "2022-11-09 22:29:11.714182: W tensorflow/compiler/mlir/lite/python/tf_tfl_flatbuffer_helpers.cc:365] Ignored drop_control_dependency.\n",
      "2022-11-09 22:29:11.714344: I tensorflow/cc/saved_model/reader.cc:45] Reading SavedModel from: /tmp/tmpx4c5xe0b\n",
      "2022-11-09 22:29:11.715676: I tensorflow/cc/saved_model/reader.cc:89] Reading meta graph with tags { serve }\n",
      "2022-11-09 22:29:11.715703: I tensorflow/cc/saved_model/reader.cc:130] Reading SavedModel debug info (if present) from: /tmp/tmpx4c5xe0b\n",
      "2022-11-09 22:29:11.720484: I tensorflow/cc/saved_model/loader.cc:229] Restoring SavedModel bundle.\n",
      "2022-11-09 22:29:11.760125: I tensorflow/cc/saved_model/loader.cc:213] Running initialization op on SavedModel bundle at path: /tmp/tmpx4c5xe0b\n",
      "2022-11-09 22:29:11.770430: I tensorflow/cc/saved_model/loader.cc:305] SavedModel load for tags { serve }; Status: success: OK. Took 56088 microseconds.\n",
      "WARNING:absl:Found untraced functions such as _jit_compiled_convolution_op, _jit_compiled_convolution_op while saving (showing 2 of 2). These functions will not be directly callable after loading.\n"
     ]
    },
    {
     "name": "stdout",
     "output_type": "stream",
     "text": [
      "INFO:tensorflow:Assets written to: /tmp/tmpf3qukxpj/assets\n"
     ]
    },
    {
     "name": "stderr",
     "output_type": "stream",
     "text": [
      "INFO:tensorflow:Assets written to: /tmp/tmpf3qukxpj/assets\n",
      "2022-11-09 22:29:12.942141: W tensorflow/compiler/mlir/lite/python/tf_tfl_flatbuffer_helpers.cc:362] Ignored output_format.\n",
      "2022-11-09 22:29:12.942192: W tensorflow/compiler/mlir/lite/python/tf_tfl_flatbuffer_helpers.cc:365] Ignored drop_control_dependency.\n",
      "2022-11-09 22:29:12.942389: I tensorflow/cc/saved_model/reader.cc:45] Reading SavedModel from: /tmp/tmpf3qukxpj\n",
      "2022-11-09 22:29:12.943750: I tensorflow/cc/saved_model/reader.cc:89] Reading meta graph with tags { serve }\n",
      "2022-11-09 22:29:12.943776: I tensorflow/cc/saved_model/reader.cc:130] Reading SavedModel debug info (if present) from: /tmp/tmpf3qukxpj\n",
      "2022-11-09 22:29:12.948215: I tensorflow/cc/saved_model/loader.cc:229] Restoring SavedModel bundle.\n",
      "2022-11-09 22:29:12.990943: I tensorflow/cc/saved_model/loader.cc:213] Running initialization op on SavedModel bundle at path: /tmp/tmpf3qukxpj\n",
      "2022-11-09 22:29:13.002179: I tensorflow/cc/saved_model/loader.cc:305] SavedModel load for tags { serve }; Status: success: OK. Took 59793 microseconds.\n",
      "WARNING:absl:Found untraced functions such as _jit_compiled_convolution_op, _jit_compiled_convolution_op while saving (showing 2 of 2). These functions will not be directly callable after loading.\n"
     ]
    },
    {
     "name": "stdout",
     "output_type": "stream",
     "text": [
      "INFO:tensorflow:Assets written to: /tmp/tmp5m01hnf7/assets\n"
     ]
    },
    {
     "name": "stderr",
     "output_type": "stream",
     "text": [
      "INFO:tensorflow:Assets written to: /tmp/tmp5m01hnf7/assets\n",
      "2022-11-09 22:29:14.171673: W tensorflow/compiler/mlir/lite/python/tf_tfl_flatbuffer_helpers.cc:362] Ignored output_format.\n",
      "2022-11-09 22:29:14.171728: W tensorflow/compiler/mlir/lite/python/tf_tfl_flatbuffer_helpers.cc:365] Ignored drop_control_dependency.\n",
      "2022-11-09 22:29:14.171927: I tensorflow/cc/saved_model/reader.cc:45] Reading SavedModel from: /tmp/tmp5m01hnf7\n",
      "2022-11-09 22:29:14.173179: I tensorflow/cc/saved_model/reader.cc:89] Reading meta graph with tags { serve }\n",
      "2022-11-09 22:29:14.173205: I tensorflow/cc/saved_model/reader.cc:130] Reading SavedModel debug info (if present) from: /tmp/tmp5m01hnf7\n",
      "2022-11-09 22:29:14.178117: I tensorflow/cc/saved_model/loader.cc:229] Restoring SavedModel bundle.\n",
      "2022-11-09 22:29:14.219131: I tensorflow/cc/saved_model/loader.cc:213] Running initialization op on SavedModel bundle at path: /tmp/tmp5m01hnf7\n",
      "2022-11-09 22:29:14.229433: I tensorflow/cc/saved_model/loader.cc:305] SavedModel load for tags { serve }; Status: success: OK. Took 57507 microseconds.\n",
      "WARNING:absl:Found untraced functions such as _jit_compiled_convolution_op, _jit_compiled_convolution_op while saving (showing 2 of 2). These functions will not be directly callable after loading.\n"
     ]
    },
    {
     "name": "stdout",
     "output_type": "stream",
     "text": [
      "INFO:tensorflow:Assets written to: /tmp/tmp5zj2ls5r/assets\n"
     ]
    },
    {
     "name": "stderr",
     "output_type": "stream",
     "text": [
      "INFO:tensorflow:Assets written to: /tmp/tmp5zj2ls5r/assets\n",
      "2022-11-09 22:29:15.445636: W tensorflow/compiler/mlir/lite/python/tf_tfl_flatbuffer_helpers.cc:362] Ignored output_format.\n",
      "2022-11-09 22:29:15.445686: W tensorflow/compiler/mlir/lite/python/tf_tfl_flatbuffer_helpers.cc:365] Ignored drop_control_dependency.\n",
      "2022-11-09 22:29:15.445843: I tensorflow/cc/saved_model/reader.cc:45] Reading SavedModel from: /tmp/tmp5zj2ls5r\n",
      "2022-11-09 22:29:15.447127: I tensorflow/cc/saved_model/reader.cc:89] Reading meta graph with tags { serve }\n",
      "2022-11-09 22:29:15.447154: I tensorflow/cc/saved_model/reader.cc:130] Reading SavedModel debug info (if present) from: /tmp/tmp5zj2ls5r\n",
      "2022-11-09 22:29:15.451520: I tensorflow/cc/saved_model/loader.cc:229] Restoring SavedModel bundle.\n",
      "2022-11-09 22:29:15.490899: I tensorflow/cc/saved_model/loader.cc:213] Running initialization op on SavedModel bundle at path: /tmp/tmp5zj2ls5r\n",
      "2022-11-09 22:29:15.501177: I tensorflow/cc/saved_model/loader.cc:305] SavedModel load for tags { serve }; Status: success: OK. Took 55332 microseconds.\n",
      "WARNING:absl:Found untraced functions such as _jit_compiled_convolution_op, _jit_compiled_convolution_op while saving (showing 2 of 2). These functions will not be directly callable after loading.\n"
     ]
    },
    {
     "name": "stdout",
     "output_type": "stream",
     "text": [
      "INFO:tensorflow:Assets written to: /tmp/tmpgxvp_gqc/assets\n"
     ]
    },
    {
     "name": "stderr",
     "output_type": "stream",
     "text": [
      "INFO:tensorflow:Assets written to: /tmp/tmpgxvp_gqc/assets\n",
      "2022-11-09 22:29:18.441668: W tensorflow/compiler/mlir/lite/python/tf_tfl_flatbuffer_helpers.cc:362] Ignored output_format.\n",
      "2022-11-09 22:29:18.441735: W tensorflow/compiler/mlir/lite/python/tf_tfl_flatbuffer_helpers.cc:365] Ignored drop_control_dependency.\n",
      "2022-11-09 22:29:18.441900: I tensorflow/cc/saved_model/reader.cc:45] Reading SavedModel from: /tmp/tmpgxvp_gqc\n",
      "2022-11-09 22:29:18.445147: I tensorflow/cc/saved_model/reader.cc:89] Reading meta graph with tags { serve }\n",
      "2022-11-09 22:29:18.445183: I tensorflow/cc/saved_model/reader.cc:130] Reading SavedModel debug info (if present) from: /tmp/tmpgxvp_gqc\n",
      "2022-11-09 22:29:18.457817: I tensorflow/cc/saved_model/loader.cc:229] Restoring SavedModel bundle.\n",
      "2022-11-09 22:29:18.542278: I tensorflow/cc/saved_model/loader.cc:213] Running initialization op on SavedModel bundle at path: /tmp/tmpgxvp_gqc\n",
      "2022-11-09 22:29:18.567702: I tensorflow/cc/saved_model/loader.cc:305] SavedModel load for tags { serve }; Status: success: OK. Took 125804 microseconds.\n",
      "WARNING:absl:Found untraced functions such as _jit_compiled_convolution_op, _jit_compiled_convolution_op while saving (showing 2 of 2). These functions will not be directly callable after loading.\n"
     ]
    },
    {
     "name": "stdout",
     "output_type": "stream",
     "text": [
      "INFO:tensorflow:Assets written to: /tmp/tmputa829j8/assets\n"
     ]
    },
    {
     "name": "stderr",
     "output_type": "stream",
     "text": [
      "INFO:tensorflow:Assets written to: /tmp/tmputa829j8/assets\n",
      "2022-11-09 22:29:20.092117: W tensorflow/compiler/mlir/lite/python/tf_tfl_flatbuffer_helpers.cc:362] Ignored output_format.\n",
      "2022-11-09 22:29:20.092180: W tensorflow/compiler/mlir/lite/python/tf_tfl_flatbuffer_helpers.cc:365] Ignored drop_control_dependency.\n",
      "2022-11-09 22:29:20.092336: I tensorflow/cc/saved_model/reader.cc:45] Reading SavedModel from: /tmp/tmputa829j8\n",
      "2022-11-09 22:29:20.094528: I tensorflow/cc/saved_model/reader.cc:89] Reading meta graph with tags { serve }\n",
      "2022-11-09 22:29:20.094561: I tensorflow/cc/saved_model/reader.cc:130] Reading SavedModel debug info (if present) from: /tmp/tmputa829j8\n",
      "2022-11-09 22:29:20.101734: I tensorflow/cc/saved_model/loader.cc:229] Restoring SavedModel bundle.\n",
      "2022-11-09 22:29:20.152354: I tensorflow/cc/saved_model/loader.cc:213] Running initialization op on SavedModel bundle at path: /tmp/tmputa829j8\n",
      "2022-11-09 22:29:20.166098: I tensorflow/cc/saved_model/loader.cc:305] SavedModel load for tags { serve }; Status: success: OK. Took 73765 microseconds.\n",
      "WARNING:absl:Found untraced functions such as _jit_compiled_convolution_op, _jit_compiled_convolution_op while saving (showing 2 of 2). These functions will not be directly callable after loading.\n"
     ]
    },
    {
     "name": "stdout",
     "output_type": "stream",
     "text": [
      "INFO:tensorflow:Assets written to: /tmp/tmpp720q03i/assets\n"
     ]
    },
    {
     "name": "stderr",
     "output_type": "stream",
     "text": [
      "INFO:tensorflow:Assets written to: /tmp/tmpp720q03i/assets\n",
      "2022-11-09 22:29:21.457449: W tensorflow/compiler/mlir/lite/python/tf_tfl_flatbuffer_helpers.cc:362] Ignored output_format.\n",
      "2022-11-09 22:29:21.457512: W tensorflow/compiler/mlir/lite/python/tf_tfl_flatbuffer_helpers.cc:365] Ignored drop_control_dependency.\n",
      "2022-11-09 22:29:21.457663: I tensorflow/cc/saved_model/reader.cc:45] Reading SavedModel from: /tmp/tmpp720q03i\n",
      "2022-11-09 22:29:21.459462: I tensorflow/cc/saved_model/reader.cc:89] Reading meta graph with tags { serve }\n",
      "2022-11-09 22:29:21.459495: I tensorflow/cc/saved_model/reader.cc:130] Reading SavedModel debug info (if present) from: /tmp/tmpp720q03i\n",
      "2022-11-09 22:29:21.465468: I tensorflow/cc/saved_model/loader.cc:229] Restoring SavedModel bundle.\n",
      "2022-11-09 22:29:21.513241: I tensorflow/cc/saved_model/loader.cc:213] Running initialization op on SavedModel bundle at path: /tmp/tmpp720q03i\n",
      "2022-11-09 22:29:21.524610: I tensorflow/cc/saved_model/loader.cc:305] SavedModel load for tags { serve }; Status: success: OK. Took 66950 microseconds.\n",
      "WARNING:absl:Found untraced functions such as _jit_compiled_convolution_op, _jit_compiled_convolution_op while saving (showing 2 of 2). These functions will not be directly callable after loading.\n"
     ]
    },
    {
     "name": "stdout",
     "output_type": "stream",
     "text": [
      "INFO:tensorflow:Assets written to: /tmp/tmpi5ynrnec/assets\n"
     ]
    },
    {
     "name": "stderr",
     "output_type": "stream",
     "text": [
      "INFO:tensorflow:Assets written to: /tmp/tmpi5ynrnec/assets\n",
      "2022-11-09 22:29:22.719417: W tensorflow/compiler/mlir/lite/python/tf_tfl_flatbuffer_helpers.cc:362] Ignored output_format.\n",
      "2022-11-09 22:29:22.719469: W tensorflow/compiler/mlir/lite/python/tf_tfl_flatbuffer_helpers.cc:365] Ignored drop_control_dependency.\n",
      "2022-11-09 22:29:22.719598: I tensorflow/cc/saved_model/reader.cc:45] Reading SavedModel from: /tmp/tmpi5ynrnec\n",
      "2022-11-09 22:29:22.721003: I tensorflow/cc/saved_model/reader.cc:89] Reading meta graph with tags { serve }\n",
      "2022-11-09 22:29:22.721031: I tensorflow/cc/saved_model/reader.cc:130] Reading SavedModel debug info (if present) from: /tmp/tmpi5ynrnec\n",
      "2022-11-09 22:29:22.725983: I tensorflow/cc/saved_model/loader.cc:229] Restoring SavedModel bundle.\n",
      "2022-11-09 22:29:22.768219: I tensorflow/cc/saved_model/loader.cc:213] Running initialization op on SavedModel bundle at path: /tmp/tmpi5ynrnec\n",
      "2022-11-09 22:29:22.780168: I tensorflow/cc/saved_model/loader.cc:305] SavedModel load for tags { serve }; Status: success: OK. Took 60571 microseconds.\n",
      "WARNING:absl:Found untraced functions such as _jit_compiled_convolution_op, _jit_compiled_convolution_op while saving (showing 2 of 2). These functions will not be directly callable after loading.\n"
     ]
    },
    {
     "name": "stdout",
     "output_type": "stream",
     "text": [
      "INFO:tensorflow:Assets written to: /tmp/tmp0i_2jpnn/assets\n"
     ]
    },
    {
     "name": "stderr",
     "output_type": "stream",
     "text": [
      "INFO:tensorflow:Assets written to: /tmp/tmp0i_2jpnn/assets\n",
      "2022-11-09 22:29:23.957556: W tensorflow/compiler/mlir/lite/python/tf_tfl_flatbuffer_helpers.cc:362] Ignored output_format.\n",
      "2022-11-09 22:29:23.957609: W tensorflow/compiler/mlir/lite/python/tf_tfl_flatbuffer_helpers.cc:365] Ignored drop_control_dependency.\n",
      "2022-11-09 22:29:23.957736: I tensorflow/cc/saved_model/reader.cc:45] Reading SavedModel from: /tmp/tmp0i_2jpnn\n",
      "2022-11-09 22:29:23.959115: I tensorflow/cc/saved_model/reader.cc:89] Reading meta graph with tags { serve }\n",
      "2022-11-09 22:29:23.959144: I tensorflow/cc/saved_model/reader.cc:130] Reading SavedModel debug info (if present) from: /tmp/tmp0i_2jpnn\n",
      "2022-11-09 22:29:23.964245: I tensorflow/cc/saved_model/loader.cc:229] Restoring SavedModel bundle.\n",
      "2022-11-09 22:29:24.007889: I tensorflow/cc/saved_model/loader.cc:213] Running initialization op on SavedModel bundle at path: /tmp/tmp0i_2jpnn\n",
      "2022-11-09 22:29:24.019399: I tensorflow/cc/saved_model/loader.cc:305] SavedModel load for tags { serve }; Status: success: OK. Took 61666 microseconds.\n",
      "WARNING:absl:Found untraced functions such as _jit_compiled_convolution_op, _jit_compiled_convolution_op while saving (showing 2 of 2). These functions will not be directly callable after loading.\n"
     ]
    },
    {
     "name": "stdout",
     "output_type": "stream",
     "text": [
      "INFO:tensorflow:Assets written to: /tmp/tmpg5xtu_g9/assets\n"
     ]
    },
    {
     "name": "stderr",
     "output_type": "stream",
     "text": [
      "INFO:tensorflow:Assets written to: /tmp/tmpg5xtu_g9/assets\n",
      "2022-11-09 22:29:25.249013: W tensorflow/compiler/mlir/lite/python/tf_tfl_flatbuffer_helpers.cc:362] Ignored output_format.\n",
      "2022-11-09 22:29:25.249073: W tensorflow/compiler/mlir/lite/python/tf_tfl_flatbuffer_helpers.cc:365] Ignored drop_control_dependency.\n",
      "2022-11-09 22:29:25.249214: I tensorflow/cc/saved_model/reader.cc:45] Reading SavedModel from: /tmp/tmpg5xtu_g9\n",
      "2022-11-09 22:29:25.250848: I tensorflow/cc/saved_model/reader.cc:89] Reading meta graph with tags { serve }\n",
      "2022-11-09 22:29:25.250879: I tensorflow/cc/saved_model/reader.cc:130] Reading SavedModel debug info (if present) from: /tmp/tmpg5xtu_g9\n",
      "2022-11-09 22:29:25.255747: I tensorflow/cc/saved_model/loader.cc:229] Restoring SavedModel bundle.\n",
      "2022-11-09 22:29:25.297960: I tensorflow/cc/saved_model/loader.cc:213] Running initialization op on SavedModel bundle at path: /tmp/tmpg5xtu_g9\n",
      "2022-11-09 22:29:25.309149: I tensorflow/cc/saved_model/loader.cc:305] SavedModel load for tags { serve }; Status: success: OK. Took 59938 microseconds.\n",
      "WARNING:absl:Found untraced functions such as _jit_compiled_convolution_op, _jit_compiled_convolution_op while saving (showing 2 of 2). These functions will not be directly callable after loading.\n"
     ]
    },
    {
     "name": "stdout",
     "output_type": "stream",
     "text": [
      "INFO:tensorflow:Assets written to: /tmp/tmpzg2dzlen/assets\n"
     ]
    },
    {
     "name": "stderr",
     "output_type": "stream",
     "text": [
      "INFO:tensorflow:Assets written to: /tmp/tmpzg2dzlen/assets\n",
      "2022-11-09 22:29:26.490602: W tensorflow/compiler/mlir/lite/python/tf_tfl_flatbuffer_helpers.cc:362] Ignored output_format.\n",
      "2022-11-09 22:29:26.490657: W tensorflow/compiler/mlir/lite/python/tf_tfl_flatbuffer_helpers.cc:365] Ignored drop_control_dependency.\n",
      "2022-11-09 22:29:26.490806: I tensorflow/cc/saved_model/reader.cc:45] Reading SavedModel from: /tmp/tmpzg2dzlen\n",
      "2022-11-09 22:29:26.492510: I tensorflow/cc/saved_model/reader.cc:89] Reading meta graph with tags { serve }\n",
      "2022-11-09 22:29:26.492538: I tensorflow/cc/saved_model/reader.cc:130] Reading SavedModel debug info (if present) from: /tmp/tmpzg2dzlen\n",
      "2022-11-09 22:29:26.497378: I tensorflow/cc/saved_model/loader.cc:229] Restoring SavedModel bundle.\n",
      "2022-11-09 22:29:26.540902: I tensorflow/cc/saved_model/loader.cc:213] Running initialization op on SavedModel bundle at path: /tmp/tmpzg2dzlen\n",
      "2022-11-09 22:29:26.552487: I tensorflow/cc/saved_model/loader.cc:305] SavedModel load for tags { serve }; Status: success: OK. Took 61685 microseconds.\n",
      "WARNING:absl:Found untraced functions such as _jit_compiled_convolution_op, _jit_compiled_convolution_op while saving (showing 2 of 2). These functions will not be directly callable after loading.\n"
     ]
    },
    {
     "name": "stdout",
     "output_type": "stream",
     "text": [
      "INFO:tensorflow:Assets written to: /tmp/tmp7beez9d2/assets\n"
     ]
    },
    {
     "name": "stderr",
     "output_type": "stream",
     "text": [
      "INFO:tensorflow:Assets written to: /tmp/tmp7beez9d2/assets\n",
      "2022-11-09 22:29:29.185929: W tensorflow/compiler/mlir/lite/python/tf_tfl_flatbuffer_helpers.cc:362] Ignored output_format.\n",
      "2022-11-09 22:29:29.185997: W tensorflow/compiler/mlir/lite/python/tf_tfl_flatbuffer_helpers.cc:365] Ignored drop_control_dependency.\n",
      "2022-11-09 22:29:29.186198: I tensorflow/cc/saved_model/reader.cc:45] Reading SavedModel from: /tmp/tmp7beez9d2\n",
      "2022-11-09 22:29:29.189880: I tensorflow/cc/saved_model/reader.cc:89] Reading meta graph with tags { serve }\n",
      "2022-11-09 22:29:29.189916: I tensorflow/cc/saved_model/reader.cc:130] Reading SavedModel debug info (if present) from: /tmp/tmp7beez9d2\n",
      "2022-11-09 22:29:29.204617: I tensorflow/cc/saved_model/loader.cc:229] Restoring SavedModel bundle.\n",
      "2022-11-09 22:29:29.289631: I tensorflow/cc/saved_model/loader.cc:213] Running initialization op on SavedModel bundle at path: /tmp/tmp7beez9d2\n",
      "2022-11-09 22:29:29.316235: I tensorflow/cc/saved_model/loader.cc:305] SavedModel load for tags { serve }; Status: success: OK. Took 130039 microseconds.\n",
      "WARNING:absl:Found untraced functions such as _jit_compiled_convolution_op, _jit_compiled_convolution_op while saving (showing 2 of 2). These functions will not be directly callable after loading.\n"
     ]
    },
    {
     "name": "stdout",
     "output_type": "stream",
     "text": [
      "INFO:tensorflow:Assets written to: /tmp/tmp0t6brmam/assets\n"
     ]
    },
    {
     "name": "stderr",
     "output_type": "stream",
     "text": [
      "INFO:tensorflow:Assets written to: /tmp/tmp0t6brmam/assets\n",
      "2022-11-09 22:29:30.885044: W tensorflow/compiler/mlir/lite/python/tf_tfl_flatbuffer_helpers.cc:362] Ignored output_format.\n",
      "2022-11-09 22:29:30.885117: W tensorflow/compiler/mlir/lite/python/tf_tfl_flatbuffer_helpers.cc:365] Ignored drop_control_dependency.\n",
      "2022-11-09 22:29:30.885296: I tensorflow/cc/saved_model/reader.cc:45] Reading SavedModel from: /tmp/tmp0t6brmam\n",
      "2022-11-09 22:29:30.888919: I tensorflow/cc/saved_model/reader.cc:89] Reading meta graph with tags { serve }\n",
      "2022-11-09 22:29:30.888962: I tensorflow/cc/saved_model/reader.cc:130] Reading SavedModel debug info (if present) from: /tmp/tmp0t6brmam\n",
      "2022-11-09 22:29:30.899318: I tensorflow/cc/saved_model/loader.cc:229] Restoring SavedModel bundle.\n",
      "2022-11-09 22:29:30.960121: I tensorflow/cc/saved_model/loader.cc:213] Running initialization op on SavedModel bundle at path: /tmp/tmp0t6brmam\n",
      "2022-11-09 22:29:30.975575: I tensorflow/cc/saved_model/loader.cc:305] SavedModel load for tags { serve }; Status: success: OK. Took 90282 microseconds.\n",
      "WARNING:absl:Found untraced functions such as _jit_compiled_convolution_op, _jit_compiled_convolution_op while saving (showing 2 of 2). These functions will not be directly callable after loading.\n"
     ]
    },
    {
     "name": "stdout",
     "output_type": "stream",
     "text": [
      "INFO:tensorflow:Assets written to: /tmp/tmpzaz2bij7/assets\n"
     ]
    },
    {
     "name": "stderr",
     "output_type": "stream",
     "text": [
      "INFO:tensorflow:Assets written to: /tmp/tmpzaz2bij7/assets\n",
      "2022-11-09 22:29:32.234777: W tensorflow/compiler/mlir/lite/python/tf_tfl_flatbuffer_helpers.cc:362] Ignored output_format.\n",
      "2022-11-09 22:29:32.234832: W tensorflow/compiler/mlir/lite/python/tf_tfl_flatbuffer_helpers.cc:365] Ignored drop_control_dependency.\n",
      "2022-11-09 22:29:32.234963: I tensorflow/cc/saved_model/reader.cc:45] Reading SavedModel from: /tmp/tmpzaz2bij7\n",
      "2022-11-09 22:29:32.236392: I tensorflow/cc/saved_model/reader.cc:89] Reading meta graph with tags { serve }\n",
      "2022-11-09 22:29:32.236420: I tensorflow/cc/saved_model/reader.cc:130] Reading SavedModel debug info (if present) from: /tmp/tmpzaz2bij7\n",
      "2022-11-09 22:29:32.242033: I tensorflow/cc/saved_model/loader.cc:229] Restoring SavedModel bundle.\n",
      "2022-11-09 22:29:32.286289: I tensorflow/cc/saved_model/loader.cc:213] Running initialization op on SavedModel bundle at path: /tmp/tmpzaz2bij7\n",
      "2022-11-09 22:29:32.298097: I tensorflow/cc/saved_model/loader.cc:305] SavedModel load for tags { serve }; Status: success: OK. Took 63135 microseconds.\n",
      "WARNING:absl:Found untraced functions such as _jit_compiled_convolution_op, _jit_compiled_convolution_op while saving (showing 2 of 2). These functions will not be directly callable after loading.\n"
     ]
    },
    {
     "name": "stdout",
     "output_type": "stream",
     "text": [
      "INFO:tensorflow:Assets written to: /tmp/tmpk2oh0omq/assets\n"
     ]
    },
    {
     "name": "stderr",
     "output_type": "stream",
     "text": [
      "INFO:tensorflow:Assets written to: /tmp/tmpk2oh0omq/assets\n",
      "2022-11-09 22:29:33.540229: W tensorflow/compiler/mlir/lite/python/tf_tfl_flatbuffer_helpers.cc:362] Ignored output_format.\n",
      "2022-11-09 22:29:33.540333: W tensorflow/compiler/mlir/lite/python/tf_tfl_flatbuffer_helpers.cc:365] Ignored drop_control_dependency.\n",
      "2022-11-09 22:29:33.540462: I tensorflow/cc/saved_model/reader.cc:45] Reading SavedModel from: /tmp/tmpk2oh0omq\n",
      "2022-11-09 22:29:33.541938: I tensorflow/cc/saved_model/reader.cc:89] Reading meta graph with tags { serve }\n",
      "2022-11-09 22:29:33.541967: I tensorflow/cc/saved_model/reader.cc:130] Reading SavedModel debug info (if present) from: /tmp/tmpk2oh0omq\n",
      "2022-11-09 22:29:33.547417: I tensorflow/cc/saved_model/loader.cc:229] Restoring SavedModel bundle.\n",
      "2022-11-09 22:29:33.600503: I tensorflow/cc/saved_model/loader.cc:213] Running initialization op on SavedModel bundle at path: /tmp/tmpk2oh0omq\n",
      "2022-11-09 22:29:33.613142: I tensorflow/cc/saved_model/loader.cc:305] SavedModel load for tags { serve }; Status: success: OK. Took 72681 microseconds.\n",
      "WARNING:absl:Found untraced functions such as _jit_compiled_convolution_op, _jit_compiled_convolution_op while saving (showing 2 of 2). These functions will not be directly callable after loading.\n"
     ]
    },
    {
     "name": "stdout",
     "output_type": "stream",
     "text": [
      "INFO:tensorflow:Assets written to: /tmp/tmp4jhoy_4z/assets\n"
     ]
    },
    {
     "name": "stderr",
     "output_type": "stream",
     "text": [
      "INFO:tensorflow:Assets written to: /tmp/tmp4jhoy_4z/assets\n",
      "2022-11-09 22:29:34.810847: W tensorflow/compiler/mlir/lite/python/tf_tfl_flatbuffer_helpers.cc:362] Ignored output_format.\n",
      "2022-11-09 22:29:34.810903: W tensorflow/compiler/mlir/lite/python/tf_tfl_flatbuffer_helpers.cc:365] Ignored drop_control_dependency.\n",
      "2022-11-09 22:29:34.811070: I tensorflow/cc/saved_model/reader.cc:45] Reading SavedModel from: /tmp/tmp4jhoy_4z\n",
      "2022-11-09 22:29:34.812457: I tensorflow/cc/saved_model/reader.cc:89] Reading meta graph with tags { serve }\n",
      "2022-11-09 22:29:34.812525: I tensorflow/cc/saved_model/reader.cc:130] Reading SavedModel debug info (if present) from: /tmp/tmp4jhoy_4z\n",
      "2022-11-09 22:29:34.817382: I tensorflow/cc/saved_model/loader.cc:229] Restoring SavedModel bundle.\n",
      "2022-11-09 22:29:34.858055: I tensorflow/cc/saved_model/loader.cc:213] Running initialization op on SavedModel bundle at path: /tmp/tmp4jhoy_4z\n",
      "2022-11-09 22:29:34.868684: I tensorflow/cc/saved_model/loader.cc:305] SavedModel load for tags { serve }; Status: success: OK. Took 57616 microseconds.\n",
      "WARNING:absl:Found untraced functions such as _jit_compiled_convolution_op, _jit_compiled_convolution_op while saving (showing 2 of 2). These functions will not be directly callable after loading.\n"
     ]
    },
    {
     "name": "stdout",
     "output_type": "stream",
     "text": [
      "INFO:tensorflow:Assets written to: /tmp/tmp3g9gj1he/assets\n"
     ]
    },
    {
     "name": "stderr",
     "output_type": "stream",
     "text": [
      "INFO:tensorflow:Assets written to: /tmp/tmp3g9gj1he/assets\n",
      "2022-11-09 22:29:36.081174: W tensorflow/compiler/mlir/lite/python/tf_tfl_flatbuffer_helpers.cc:362] Ignored output_format.\n",
      "2022-11-09 22:29:36.081232: W tensorflow/compiler/mlir/lite/python/tf_tfl_flatbuffer_helpers.cc:365] Ignored drop_control_dependency.\n",
      "2022-11-09 22:29:36.081364: I tensorflow/cc/saved_model/reader.cc:45] Reading SavedModel from: /tmp/tmp3g9gj1he\n",
      "2022-11-09 22:29:36.082840: I tensorflow/cc/saved_model/reader.cc:89] Reading meta graph with tags { serve }\n",
      "2022-11-09 22:29:36.082870: I tensorflow/cc/saved_model/reader.cc:130] Reading SavedModel debug info (if present) from: /tmp/tmp3g9gj1he\n",
      "2022-11-09 22:29:36.088467: I tensorflow/cc/saved_model/loader.cc:229] Restoring SavedModel bundle.\n",
      "2022-11-09 22:29:36.097695: I tensorflow/cc/saved_model/loader.cc:213] Running initialization op on SavedModel bundle at path: /tmp/tmp3g9gj1he\n",
      "2022-11-09 22:29:36.109011: I tensorflow/cc/saved_model/loader.cc:305] SavedModel load for tags { serve }; Status: success: OK. Took 27651 microseconds.\n",
      "WARNING:absl:Found untraced functions such as _jit_compiled_convolution_op, _jit_compiled_convolution_op while saving (showing 2 of 2). These functions will not be directly callable after loading.\n"
     ]
    },
    {
     "name": "stdout",
     "output_type": "stream",
     "text": [
      "INFO:tensorflow:Assets written to: /tmp/tmpthekpych/assets\n"
     ]
    },
    {
     "name": "stderr",
     "output_type": "stream",
     "text": [
      "INFO:tensorflow:Assets written to: /tmp/tmpthekpych/assets\n",
      "2022-11-09 22:29:37.294019: W tensorflow/compiler/mlir/lite/python/tf_tfl_flatbuffer_helpers.cc:362] Ignored output_format.\n",
      "2022-11-09 22:29:37.294110: W tensorflow/compiler/mlir/lite/python/tf_tfl_flatbuffer_helpers.cc:365] Ignored drop_control_dependency.\n",
      "2022-11-09 22:29:37.294290: I tensorflow/cc/saved_model/reader.cc:45] Reading SavedModel from: /tmp/tmpthekpych\n",
      "2022-11-09 22:29:37.295876: I tensorflow/cc/saved_model/reader.cc:89] Reading meta graph with tags { serve }\n",
      "2022-11-09 22:29:37.295903: I tensorflow/cc/saved_model/reader.cc:130] Reading SavedModel debug info (if present) from: /tmp/tmpthekpych\n",
      "2022-11-09 22:29:37.301171: I tensorflow/cc/saved_model/loader.cc:229] Restoring SavedModel bundle.\n",
      "2022-11-09 22:29:37.342676: I tensorflow/cc/saved_model/loader.cc:213] Running initialization op on SavedModel bundle at path: /tmp/tmpthekpych\n",
      "2022-11-09 22:29:37.355403: I tensorflow/cc/saved_model/loader.cc:305] SavedModel load for tags { serve }; Status: success: OK. Took 61132 microseconds.\n",
      "WARNING:absl:Found untraced functions such as _jit_compiled_convolution_op, _jit_compiled_convolution_op while saving (showing 2 of 2). These functions will not be directly callable after loading.\n"
     ]
    },
    {
     "name": "stdout",
     "output_type": "stream",
     "text": [
      "INFO:tensorflow:Assets written to: /tmp/tmp4ttgfqsv/assets\n"
     ]
    },
    {
     "name": "stderr",
     "output_type": "stream",
     "text": [
      "INFO:tensorflow:Assets written to: /tmp/tmp4ttgfqsv/assets\n",
      "2022-11-09 22:29:40.018218: W tensorflow/compiler/mlir/lite/python/tf_tfl_flatbuffer_helpers.cc:362] Ignored output_format.\n",
      "2022-11-09 22:29:40.018284: W tensorflow/compiler/mlir/lite/python/tf_tfl_flatbuffer_helpers.cc:365] Ignored drop_control_dependency.\n",
      "2022-11-09 22:29:40.018450: I tensorflow/cc/saved_model/reader.cc:45] Reading SavedModel from: /tmp/tmp4ttgfqsv\n",
      "2022-11-09 22:29:40.022072: I tensorflow/cc/saved_model/reader.cc:89] Reading meta graph with tags { serve }\n",
      "2022-11-09 22:29:40.022109: I tensorflow/cc/saved_model/reader.cc:130] Reading SavedModel debug info (if present) from: /tmp/tmp4ttgfqsv\n",
      "2022-11-09 22:29:40.037028: I tensorflow/cc/saved_model/loader.cc:229] Restoring SavedModel bundle.\n",
      "2022-11-09 22:29:40.122593: I tensorflow/cc/saved_model/loader.cc:213] Running initialization op on SavedModel bundle at path: /tmp/tmp4ttgfqsv\n",
      "2022-11-09 22:29:40.148589: I tensorflow/cc/saved_model/loader.cc:305] SavedModel load for tags { serve }; Status: success: OK. Took 130141 microseconds.\n",
      "WARNING:absl:Found untraced functions such as _jit_compiled_convolution_op, _jit_compiled_convolution_op while saving (showing 2 of 2). These functions will not be directly callable after loading.\n"
     ]
    },
    {
     "name": "stdout",
     "output_type": "stream",
     "text": [
      "INFO:tensorflow:Assets written to: /tmp/tmptrg40sx8/assets\n"
     ]
    },
    {
     "name": "stderr",
     "output_type": "stream",
     "text": [
      "INFO:tensorflow:Assets written to: /tmp/tmptrg40sx8/assets\n",
      "2022-11-09 22:29:41.749262: W tensorflow/compiler/mlir/lite/python/tf_tfl_flatbuffer_helpers.cc:362] Ignored output_format.\n",
      "2022-11-09 22:29:41.749327: W tensorflow/compiler/mlir/lite/python/tf_tfl_flatbuffer_helpers.cc:365] Ignored drop_control_dependency.\n",
      "2022-11-09 22:29:41.749532: I tensorflow/cc/saved_model/reader.cc:45] Reading SavedModel from: /tmp/tmptrg40sx8\n",
      "2022-11-09 22:29:41.752163: I tensorflow/cc/saved_model/reader.cc:89] Reading meta graph with tags { serve }\n",
      "2022-11-09 22:29:41.752195: I tensorflow/cc/saved_model/reader.cc:130] Reading SavedModel debug info (if present) from: /tmp/tmptrg40sx8\n",
      "2022-11-09 22:29:41.760894: I tensorflow/cc/saved_model/loader.cc:229] Restoring SavedModel bundle.\n",
      "2022-11-09 22:29:41.817945: I tensorflow/cc/saved_model/loader.cc:213] Running initialization op on SavedModel bundle at path: /tmp/tmptrg40sx8\n",
      "2022-11-09 22:29:41.832853: I tensorflow/cc/saved_model/loader.cc:305] SavedModel load for tags { serve }; Status: success: OK. Took 83326 microseconds.\n",
      "WARNING:absl:Found untraced functions such as _jit_compiled_convolution_op, _jit_compiled_convolution_op while saving (showing 2 of 2). These functions will not be directly callable after loading.\n"
     ]
    },
    {
     "name": "stdout",
     "output_type": "stream",
     "text": [
      "INFO:tensorflow:Assets written to: /tmp/tmp4n33amo0/assets\n"
     ]
    },
    {
     "name": "stderr",
     "output_type": "stream",
     "text": [
      "INFO:tensorflow:Assets written to: /tmp/tmp4n33amo0/assets\n",
      "2022-11-09 22:29:43.088715: W tensorflow/compiler/mlir/lite/python/tf_tfl_flatbuffer_helpers.cc:362] Ignored output_format.\n",
      "2022-11-09 22:29:43.088779: W tensorflow/compiler/mlir/lite/python/tf_tfl_flatbuffer_helpers.cc:365] Ignored drop_control_dependency.\n",
      "2022-11-09 22:29:43.088934: I tensorflow/cc/saved_model/reader.cc:45] Reading SavedModel from: /tmp/tmp4n33amo0\n",
      "2022-11-09 22:29:43.090810: I tensorflow/cc/saved_model/reader.cc:89] Reading meta graph with tags { serve }\n",
      "2022-11-09 22:29:43.090843: I tensorflow/cc/saved_model/reader.cc:130] Reading SavedModel debug info (if present) from: /tmp/tmp4n33amo0\n",
      "2022-11-09 22:29:43.097208: I tensorflow/cc/saved_model/loader.cc:229] Restoring SavedModel bundle.\n",
      "2022-11-09 22:29:43.143123: I tensorflow/cc/saved_model/loader.cc:213] Running initialization op on SavedModel bundle at path: /tmp/tmp4n33amo0\n",
      "2022-11-09 22:29:43.154930: I tensorflow/cc/saved_model/loader.cc:305] SavedModel load for tags { serve }; Status: success: OK. Took 65999 microseconds.\n",
      "WARNING:absl:Found untraced functions such as _jit_compiled_convolution_op, _jit_compiled_convolution_op while saving (showing 2 of 2). These functions will not be directly callable after loading.\n"
     ]
    },
    {
     "name": "stdout",
     "output_type": "stream",
     "text": [
      "INFO:tensorflow:Assets written to: /tmp/tmpn8x9ghk_/assets\n"
     ]
    },
    {
     "name": "stderr",
     "output_type": "stream",
     "text": [
      "INFO:tensorflow:Assets written to: /tmp/tmpn8x9ghk_/assets\n",
      "2022-11-09 22:29:44.351253: W tensorflow/compiler/mlir/lite/python/tf_tfl_flatbuffer_helpers.cc:362] Ignored output_format.\n",
      "2022-11-09 22:29:44.351306: W tensorflow/compiler/mlir/lite/python/tf_tfl_flatbuffer_helpers.cc:365] Ignored drop_control_dependency.\n",
      "2022-11-09 22:29:44.351469: I tensorflow/cc/saved_model/reader.cc:45] Reading SavedModel from: /tmp/tmpn8x9ghk_\n",
      "2022-11-09 22:29:44.352876: I tensorflow/cc/saved_model/reader.cc:89] Reading meta graph with tags { serve }\n",
      "2022-11-09 22:29:44.352903: I tensorflow/cc/saved_model/reader.cc:130] Reading SavedModel debug info (if present) from: /tmp/tmpn8x9ghk_\n",
      "2022-11-09 22:29:44.359323: I tensorflow/cc/saved_model/loader.cc:229] Restoring SavedModel bundle.\n",
      "2022-11-09 22:29:44.407626: I tensorflow/cc/saved_model/loader.cc:213] Running initialization op on SavedModel bundle at path: /tmp/tmpn8x9ghk_\n",
      "2022-11-09 22:29:44.418552: I tensorflow/cc/saved_model/loader.cc:305] SavedModel load for tags { serve }; Status: success: OK. Took 67085 microseconds.\n",
      "WARNING:absl:Found untraced functions such as _jit_compiled_convolution_op, _jit_compiled_convolution_op while saving (showing 2 of 2). These functions will not be directly callable after loading.\n"
     ]
    },
    {
     "name": "stdout",
     "output_type": "stream",
     "text": [
      "INFO:tensorflow:Assets written to: /tmp/tmpdvhigtuk/assets\n"
     ]
    },
    {
     "name": "stderr",
     "output_type": "stream",
     "text": [
      "INFO:tensorflow:Assets written to: /tmp/tmpdvhigtuk/assets\n",
      "2022-11-09 22:29:45.643408: W tensorflow/compiler/mlir/lite/python/tf_tfl_flatbuffer_helpers.cc:362] Ignored output_format.\n",
      "2022-11-09 22:29:45.643466: W tensorflow/compiler/mlir/lite/python/tf_tfl_flatbuffer_helpers.cc:365] Ignored drop_control_dependency.\n",
      "2022-11-09 22:29:45.643685: I tensorflow/cc/saved_model/reader.cc:45] Reading SavedModel from: /tmp/tmpdvhigtuk\n",
      "2022-11-09 22:29:45.645201: I tensorflow/cc/saved_model/reader.cc:89] Reading meta graph with tags { serve }\n",
      "2022-11-09 22:29:45.645230: I tensorflow/cc/saved_model/reader.cc:130] Reading SavedModel debug info (if present) from: /tmp/tmpdvhigtuk\n",
      "2022-11-09 22:29:45.650763: I tensorflow/cc/saved_model/loader.cc:229] Restoring SavedModel bundle.\n",
      "2022-11-09 22:29:45.696855: I tensorflow/cc/saved_model/loader.cc:213] Running initialization op on SavedModel bundle at path: /tmp/tmpdvhigtuk\n",
      "2022-11-09 22:29:45.707230: I tensorflow/cc/saved_model/loader.cc:305] SavedModel load for tags { serve }; Status: success: OK. Took 63547 microseconds.\n",
      "WARNING:absl:Found untraced functions such as _jit_compiled_convolution_op, _jit_compiled_convolution_op while saving (showing 2 of 2). These functions will not be directly callable after loading.\n"
     ]
    },
    {
     "name": "stdout",
     "output_type": "stream",
     "text": [
      "INFO:tensorflow:Assets written to: /tmp/tmp38ryxg16/assets\n"
     ]
    },
    {
     "name": "stderr",
     "output_type": "stream",
     "text": [
      "INFO:tensorflow:Assets written to: /tmp/tmp38ryxg16/assets\n",
      "2022-11-09 22:29:47.850590: W tensorflow/compiler/mlir/lite/python/tf_tfl_flatbuffer_helpers.cc:362] Ignored output_format.\n",
      "2022-11-09 22:29:47.850693: W tensorflow/compiler/mlir/lite/python/tf_tfl_flatbuffer_helpers.cc:365] Ignored drop_control_dependency.\n",
      "2022-11-09 22:29:47.850863: I tensorflow/cc/saved_model/reader.cc:45] Reading SavedModel from: /tmp/tmp38ryxg16\n",
      "2022-11-09 22:29:47.855724: I tensorflow/cc/saved_model/reader.cc:89] Reading meta graph with tags { serve }\n",
      "2022-11-09 22:29:47.855760: I tensorflow/cc/saved_model/reader.cc:130] Reading SavedModel debug info (if present) from: /tmp/tmp38ryxg16\n",
      "2022-11-09 22:29:47.876824: I tensorflow/cc/saved_model/loader.cc:229] Restoring SavedModel bundle.\n",
      "2022-11-09 22:29:48.008318: I tensorflow/cc/saved_model/loader.cc:213] Running initialization op on SavedModel bundle at path: /tmp/tmp38ryxg16\n",
      "2022-11-09 22:29:48.047929: I tensorflow/cc/saved_model/loader.cc:305] SavedModel load for tags { serve }; Status: success: OK. Took 197068 microseconds.\n",
      "WARNING:absl:Found untraced functions such as _jit_compiled_convolution_op, _jit_compiled_convolution_op while saving (showing 2 of 2). These functions will not be directly callable after loading.\n"
     ]
    },
    {
     "name": "stdout",
     "output_type": "stream",
     "text": [
      "INFO:tensorflow:Assets written to: /tmp/tmp1opgd3df/assets\n"
     ]
    },
    {
     "name": "stderr",
     "output_type": "stream",
     "text": [
      "INFO:tensorflow:Assets written to: /tmp/tmp1opgd3df/assets\n",
      "2022-11-09 22:29:49.844499: W tensorflow/compiler/mlir/lite/python/tf_tfl_flatbuffer_helpers.cc:362] Ignored output_format.\n",
      "2022-11-09 22:29:49.844564: W tensorflow/compiler/mlir/lite/python/tf_tfl_flatbuffer_helpers.cc:365] Ignored drop_control_dependency.\n",
      "2022-11-09 22:29:49.844730: I tensorflow/cc/saved_model/reader.cc:45] Reading SavedModel from: /tmp/tmp1opgd3df\n",
      "2022-11-09 22:29:49.848073: I tensorflow/cc/saved_model/reader.cc:89] Reading meta graph with tags { serve }\n",
      "2022-11-09 22:29:49.848109: I tensorflow/cc/saved_model/reader.cc:130] Reading SavedModel debug info (if present) from: /tmp/tmp1opgd3df\n",
      "2022-11-09 22:29:49.862074: I tensorflow/cc/saved_model/loader.cc:229] Restoring SavedModel bundle.\n",
      "2022-11-09 22:29:49.949436: I tensorflow/cc/saved_model/loader.cc:213] Running initialization op on SavedModel bundle at path: /tmp/tmp1opgd3df\n",
      "2022-11-09 22:29:49.975190: I tensorflow/cc/saved_model/loader.cc:305] SavedModel load for tags { serve }; Status: success: OK. Took 130462 microseconds.\n",
      "WARNING:absl:Found untraced functions such as _jit_compiled_convolution_op, _jit_compiled_convolution_op while saving (showing 2 of 2). These functions will not be directly callable after loading.\n"
     ]
    },
    {
     "name": "stdout",
     "output_type": "stream",
     "text": [
      "INFO:tensorflow:Assets written to: /tmp/tmpl8ezevps/assets\n"
     ]
    },
    {
     "name": "stderr",
     "output_type": "stream",
     "text": [
      "INFO:tensorflow:Assets written to: /tmp/tmpl8ezevps/assets\n",
      "2022-11-09 22:29:51.471005: W tensorflow/compiler/mlir/lite/python/tf_tfl_flatbuffer_helpers.cc:362] Ignored output_format.\n",
      "2022-11-09 22:29:51.471067: W tensorflow/compiler/mlir/lite/python/tf_tfl_flatbuffer_helpers.cc:365] Ignored drop_control_dependency.\n",
      "2022-11-09 22:29:51.471235: I tensorflow/cc/saved_model/reader.cc:45] Reading SavedModel from: /tmp/tmpl8ezevps\n",
      "2022-11-09 22:29:51.473881: I tensorflow/cc/saved_model/reader.cc:89] Reading meta graph with tags { serve }\n",
      "2022-11-09 22:29:51.473917: I tensorflow/cc/saved_model/reader.cc:130] Reading SavedModel debug info (if present) from: /tmp/tmpl8ezevps\n",
      "2022-11-09 22:29:51.482073: I tensorflow/cc/saved_model/loader.cc:229] Restoring SavedModel bundle.\n",
      "2022-11-09 22:29:51.536204: I tensorflow/cc/saved_model/loader.cc:213] Running initialization op on SavedModel bundle at path: /tmp/tmpl8ezevps\n",
      "2022-11-09 22:29:51.551601: I tensorflow/cc/saved_model/loader.cc:305] SavedModel load for tags { serve }; Status: success: OK. Took 80371 microseconds.\n",
      "WARNING:absl:Found untraced functions such as _jit_compiled_convolution_op, _jit_compiled_convolution_op while saving (showing 2 of 2). These functions will not be directly callable after loading.\n"
     ]
    },
    {
     "name": "stdout",
     "output_type": "stream",
     "text": [
      "INFO:tensorflow:Assets written to: /tmp/tmp88hp2bl8/assets\n"
     ]
    },
    {
     "name": "stderr",
     "output_type": "stream",
     "text": [
      "INFO:tensorflow:Assets written to: /tmp/tmp88hp2bl8/assets\n",
      "2022-11-09 22:29:52.819282: W tensorflow/compiler/mlir/lite/python/tf_tfl_flatbuffer_helpers.cc:362] Ignored output_format.\n",
      "2022-11-09 22:29:52.819341: W tensorflow/compiler/mlir/lite/python/tf_tfl_flatbuffer_helpers.cc:365] Ignored drop_control_dependency.\n",
      "2022-11-09 22:29:52.819597: I tensorflow/cc/saved_model/reader.cc:45] Reading SavedModel from: /tmp/tmp88hp2bl8\n",
      "2022-11-09 22:29:52.821273: I tensorflow/cc/saved_model/reader.cc:89] Reading meta graph with tags { serve }\n",
      "2022-11-09 22:29:52.821305: I tensorflow/cc/saved_model/reader.cc:130] Reading SavedModel debug info (if present) from: /tmp/tmp88hp2bl8\n",
      "2022-11-09 22:29:52.827635: I tensorflow/cc/saved_model/loader.cc:229] Restoring SavedModel bundle.\n",
      "2022-11-09 22:29:52.879967: I tensorflow/cc/saved_model/loader.cc:213] Running initialization op on SavedModel bundle at path: /tmp/tmp88hp2bl8\n",
      "2022-11-09 22:29:52.894883: I tensorflow/cc/saved_model/loader.cc:305] SavedModel load for tags { serve }; Status: success: OK. Took 75285 microseconds.\n",
      "WARNING:absl:Found untraced functions such as _jit_compiled_convolution_op, _jit_compiled_convolution_op while saving (showing 2 of 2). These functions will not be directly callable after loading.\n"
     ]
    },
    {
     "name": "stdout",
     "output_type": "stream",
     "text": [
      "INFO:tensorflow:Assets written to: /tmp/tmpmzmya1sd/assets\n"
     ]
    },
    {
     "name": "stderr",
     "output_type": "stream",
     "text": [
      "INFO:tensorflow:Assets written to: /tmp/tmpmzmya1sd/assets\n",
      "2022-11-09 22:29:54.086789: W tensorflow/compiler/mlir/lite/python/tf_tfl_flatbuffer_helpers.cc:362] Ignored output_format.\n",
      "2022-11-09 22:29:54.086844: W tensorflow/compiler/mlir/lite/python/tf_tfl_flatbuffer_helpers.cc:365] Ignored drop_control_dependency.\n",
      "2022-11-09 22:29:54.087010: I tensorflow/cc/saved_model/reader.cc:45] Reading SavedModel from: /tmp/tmpmzmya1sd\n",
      "2022-11-09 22:29:54.088400: I tensorflow/cc/saved_model/reader.cc:89] Reading meta graph with tags { serve }\n",
      "2022-11-09 22:29:54.088428: I tensorflow/cc/saved_model/reader.cc:130] Reading SavedModel debug info (if present) from: /tmp/tmpmzmya1sd\n",
      "2022-11-09 22:29:54.093464: I tensorflow/cc/saved_model/loader.cc:229] Restoring SavedModel bundle.\n",
      "2022-11-09 22:29:54.141588: I tensorflow/cc/saved_model/loader.cc:213] Running initialization op on SavedModel bundle at path: /tmp/tmpmzmya1sd\n",
      "2022-11-09 22:29:54.154965: I tensorflow/cc/saved_model/loader.cc:305] SavedModel load for tags { serve }; Status: success: OK. Took 67957 microseconds.\n"
     ]
    }
   ],
   "source": [
    "print(tf.keras.backend.floatx())\n",
    "\n",
    "# df = pd.read_pickle('/tmp/df_price_type_none.pkl')\n",
    "df = pd.read_pickle('/tmp/df_horizon8_price_type_none.pkl')\n",
    "# df = pd.read_pickle('/tmp/df_horizon4_price_type_none.pkl')\n",
    "# df = df.iloc[-10000:]\n",
    "\n",
    "df = df.loc[df.index.get_level_values('timestamp') < pd.to_datetime('2022-11-07 00:00:00Z')]\n",
    "\n",
    "btc_timestamps = df.loc[df.index.get_level_values('symbol') == 'BTC'].index.get_level_values('timestamp')\n",
    "# sol_timestamps = df.loc[df.index.get_level_values('symbol') == 'SOL'].index.get_level_values('timestamp')\n",
    "df = df.loc[df.index.get_level_values('timestamp').isin(btc_timestamps)]\n",
    "# df = df.loc[df.index.get_level_values('timestamp').isin(sol_timestamps)]\n",
    "\n",
    "# model = ExampleModelRank(1)\n",
    "model = ExampleModelRank(10)\n",
    "\n",
    "# # cv\n",
    "df_cv = calc_position_cv2(model, df)\n",
    "visualize_result(df_cv.dropna())\n",
    "# small ensemble result: https://gist.github.com/richmanbtc/5275f155527ae6d7d2232c3aa6d203e9\n",
    "\n",
    "# fit and save model as portable format\n",
    "model = ExampleModelRank(80)\n",
    "model.fit(df)\n",
    "data = cloudpickle.dumps(model)\n",
    "data = lzma.compress(data)\n",
    "with open('/home/jovyan/data/20221028_btc_one_cnn_h8.xz', 'wb') as f:\n",
    "    f.write(data)"
   ]
  },
  {
   "cell_type": "markdown",
   "id": "a68402ef-0947-4208-b536-64d7ea888b68",
   "metadata": {},
   "source": [
    "expt\n",
    "\n",
    "- [20221028_btc_one_cnn_h8/20221109_222521.ipynb](20221028_btc_one_cnn_h8/20221109_222521.ipynb) without hedge (baseline)\n",
    "- [20221028_btc_one_cnn_h8/20221109_222624.ipynb](20221028_btc_one_cnn_h8/20221109_222624.ipynb) with hedge"
   ]
  },
  {
   "cell_type": "code",
   "execution_count": 21,
   "id": "5d9ca8fc-dafe-4d1b-9a0f-e84f7e46f6c6",
   "metadata": {},
   "outputs": [
    {
     "data": {
      "image/png": "[encoded data removed]",
      "text/plain": [
       "<Figure size 640x480 with 1 Axes>"
      ]
     },
     "metadata": {},
     "output_type": "display_data"
    },
    {
     "name": "stdout",
     "output_type": "stream",
     "text": [
      "timestamp                  symbol\n",
      "2022-09-10 18:00:00+00:00  ADA      -0.055556\n",
      "                           ATOM     -0.055556\n",
      "                           BNB      -0.055556\n",
      "                           BTC       0.500000\n",
      "                           DOT      -0.055556\n",
      "                                       ...   \n",
      "2022-11-09 18:00:00+00:00  ETH       0.048524\n",
      "                           LINK      0.050118\n",
      "                           MATIC     0.114517\n",
      "                           SOL       0.132058\n",
      "                           XRP       0.065368\n",
      "Name: position, Length: 14410, dtype: float32\n",
      "['ADA', 'ATOM', 'BNB', 'BTC', 'DOT', 'ETH', 'LINK', 'MATIC', 'SOL', 'XRP']\n",
      "test shift predict\n"
     ]
    },
    {
     "data": {
      "image/png": "[encoded data removed]",
      "text/plain": [
       "<Figure size 640x480 with 1 Axes>"
      ]
     },
     "metadata": {},
     "output_type": "display_data"
    },
    {
     "data": {
      "image/png": "[encoded data removed]",
      "text/plain": [
       "<Figure size 640x480 with 1 Axes>"
      ]
     },
     "metadata": {},
     "output_type": "display_data"
    },
    {
     "data": {
      "image/png": "[encoded data removed]",
      "text/plain": [
       "<Figure size 640x480 with 1 Axes>"
      ]
     },
     "metadata": {},
     "output_type": "display_data"
    },
    {
     "data": {
      "text/html": [
       "<div>\n",
       "<style scoped>\n",
       "    .dataframe tbody tr th:only-of-type {\n",
       "        vertical-align: middle;\n",
       "    }\n",
       "\n",
       "    .dataframe tbody tr th {\n",
       "        vertical-align: top;\n",
       "    }\n",
       "\n",
       "    .dataframe thead th {\n",
       "        text-align: right;\n",
       "    }\n",
       "</style>\n",
       "<table border=\"1\" class=\"dataframe\">\n",
       "  <thead>\n",
       "    <tr style=\"text-align: right;\">\n",
       "      <th></th>\n",
       "      <th></th>\n",
       "      <th>position1</th>\n",
       "      <th>position2</th>\n",
       "      <th>position3</th>\n",
       "    </tr>\n",
       "    <tr>\n",
       "      <th>timestamp</th>\n",
       "      <th>symbol</th>\n",
       "      <th></th>\n",
       "      <th></th>\n",
       "      <th></th>\n",
       "    </tr>\n",
       "  </thead>\n",
       "  <tbody>\n",
       "    <tr>\n",
       "      <th rowspan=\"5\" valign=\"top\">2022-09-10 19:00:00+00:00</th>\n",
       "      <th>ADA</th>\n",
       "      <td>-0.055556</td>\n",
       "      <td>-0.055556</td>\n",
       "      <td>-0.055556</td>\n",
       "    </tr>\n",
       "    <tr>\n",
       "      <th>ATOM</th>\n",
       "      <td>-0.055556</td>\n",
       "      <td>-0.055556</td>\n",
       "      <td>-0.055556</td>\n",
       "    </tr>\n",
       "    <tr>\n",
       "      <th>BNB</th>\n",
       "      <td>-0.055556</td>\n",
       "      <td>-0.055556</td>\n",
       "      <td>-0.055556</td>\n",
       "    </tr>\n",
       "    <tr>\n",
       "      <th>BTC</th>\n",
       "      <td>0.500000</td>\n",
       "      <td>0.500000</td>\n",
       "      <td>0.500000</td>\n",
       "    </tr>\n",
       "    <tr>\n",
       "      <th>DOT</th>\n",
       "      <td>-0.055556</td>\n",
       "      <td>-0.055556</td>\n",
       "      <td>-0.055556</td>\n",
       "    </tr>\n",
       "    <tr>\n",
       "      <th>...</th>\n",
       "      <th>...</th>\n",
       "      <td>...</td>\n",
       "      <td>...</td>\n",
       "      <td>...</td>\n",
       "    </tr>\n",
       "    <tr>\n",
       "      <th rowspan=\"5\" valign=\"top\">2022-11-09 17:00:00+00:00</th>\n",
       "      <th>ETH</th>\n",
       "      <td>0.063191</td>\n",
       "      <td>0.063191</td>\n",
       "      <td>0.063191</td>\n",
       "    </tr>\n",
       "    <tr>\n",
       "      <th>LINK</th>\n",
       "      <td>0.045993</td>\n",
       "      <td>0.045993</td>\n",
       "      <td>0.045993</td>\n",
       "    </tr>\n",
       "    <tr>\n",
       "      <th>MATIC</th>\n",
       "      <td>0.083845</td>\n",
       "      <td>0.083845</td>\n",
       "      <td>0.083845</td>\n",
       "    </tr>\n",
       "    <tr>\n",
       "      <th>SOL</th>\n",
       "      <td>0.103734</td>\n",
       "      <td>0.103734</td>\n",
       "      <td>0.103734</td>\n",
       "    </tr>\n",
       "    <tr>\n",
       "      <th>XRP</th>\n",
       "      <td>0.073131</td>\n",
       "      <td>0.073131</td>\n",
       "      <td>0.073131</td>\n",
       "    </tr>\n",
       "  </tbody>\n",
       "</table>\n",
       "<p>14390 rows × 3 columns</p>\n",
       "</div>"
      ],
      "text/plain": [
       "                                  position1  position2  position3\n",
       "timestamp                 symbol                                 \n",
       "2022-09-10 19:00:00+00:00 ADA     -0.055556  -0.055556  -0.055556\n",
       "                          ATOM    -0.055556  -0.055556  -0.055556\n",
       "                          BNB     -0.055556  -0.055556  -0.055556\n",
       "                          BTC      0.500000   0.500000   0.500000\n",
       "                          DOT     -0.055556  -0.055556  -0.055556\n",
       "...                                     ...        ...        ...\n",
       "2022-11-09 17:00:00+00:00 ETH      0.063191   0.063191   0.063191\n",
       "                          LINK     0.045993   0.045993   0.045993\n",
       "                          MATIC    0.083845   0.083845   0.083845\n",
       "                          SOL      0.103734   0.103734   0.103734\n",
       "                          XRP      0.073131   0.073131   0.073131\n",
       "\n",
       "[14390 rows x 3 columns]"
      ]
     },
     "metadata": {},
     "output_type": "display_data"
    },
    {
     "data": {
      "image/png": "[encoded data removed]",
      "text/plain": [
       "<Figure size 640x480 with 1 Axes>"
      ]
     },
     "metadata": {},
     "output_type": "display_data"
    },
    {
     "name": "stdout",
     "output_type": "stream",
     "text": [
      "ADA (1439, 4)\n",
      "ATOM (1439, 4)\n",
      "BNB (1439, 4)\n",
      "BTC (1439, 4)\n",
      "DOT (1439, 4)\n",
      "ETH (1439, 4)\n",
      "LINK (1439, 4)\n",
      "MATIC (1439, 4)\n",
      "SOL (1439, 4)\n",
      "XRP (1439, 4)\n"
     ]
    },
    {
     "data": {
      "image/png": "[encoded data removed]",
      "text/plain": [
       "<Figure size 640x480 with 1 Axes>"
      ]
     },
     "metadata": {},
     "output_type": "display_data"
    }
   ],
   "source": [
    "# model validation (Just run this cell in the new kernel to make sure you saved it in a portable format.)\n",
    "\n",
    "import os\n",
    "import joblib\n",
    "import pandas as pd\n",
    "\n",
    "model = joblib.load('/home/jovyan/data/20221028_btc_one_cnn_h8.xz')\n",
    "df = pd.read_pickle('/tmp/df_horizon8_price_type_none.pkl')\n",
    "df = df[['op', 'hi', 'lo', 'cl', 'volume']]\n",
    "max_timestamp = df.index.get_level_values('timestamp').max()\n",
    "df = df.loc[max_timestamp - pd.to_timedelta(model.max_data_sec, unit='S') <= df.index.get_level_values('timestamp')]\n",
    "print(model.predict(df))\n",
    "print(model.symbols)\n",
    "\n",
    "\n",
    "\n",
    "print('test shift predict')\n",
    "import matplotlib.pyplot as plt\n",
    "\n",
    "position1 = model.predict(df)\n",
    "position2 = model.predict(df.loc[df.index.get_level_values('timestamp') < max_timestamp])\n",
    "position3 = model.predict(df.loc[df.index.get_level_values('timestamp').min() < df.index.get_level_values('timestamp')])\n",
    "\n",
    "test_timestamp = max_timestamp - pd.to_timedelta(1, unit='H')\n",
    "df_test = pd.concat([\n",
    "    position1.rename('position1'),\n",
    "    position2.rename('position2'),\n",
    "    position3.rename('position3'),\n",
    "], axis=1)\n",
    "\n",
    "df_test = df_test.dropna()\n",
    "display(df_test)\n",
    "\n",
    "for symbol, df_symbol in df_test.groupby('symbol'):\n",
    "    df_symbol = df_symbol.reset_index().set_index('timestamp')\n",
    "    (df_symbol['position2'] - df_symbol['position1']).plot()\n",
    "plt.show()\n",
    "\n",
    "for symbol, df_symbol in df_test.groupby('symbol'):\n",
    "    df_symbol = df_symbol.reset_index().set_index('timestamp')\n",
    "    print(symbol, df_symbol.shape)\n",
    "    (df_symbol['position3'] - df_symbol['position1']).plot()\n",
    "plt.show()"
   ]
  },
  {
   "cell_type": "code",
   "execution_count": null,
   "id": "b1c337ac-00f8-47d0-abd2-e7f4862ef62f",
   "metadata": {},
   "outputs": [],
   "source": []
  }
 ],
 "metadata": {
  "kernelspec": {
   "display_name": "Python 3 (ipykernel)",
   "language": "python",
   "name": "python3"
  },
  "language_info": {
   "codemirror_mode": {
    "name": "ipython",
    "version": 3
   },
   "file_extension": ".py",
   "mimetype": "text/x-python",
   "name": "python",
   "nbconvert_exporter": "python",
   "pygments_lexer": "ipython3",
   "version": "3.10.6"
  }
 },
 "nbformat": 4,
 "nbformat_minor": 5
}
